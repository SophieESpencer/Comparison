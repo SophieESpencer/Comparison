{
 "cells": [
  {
   "cell_type": "code",
   "execution_count": 1,
   "metadata": {
    "scrolled": false
   },
   "outputs": [],
   "source": [
    "import pandas as pd\n",
    "import numpy as np\n",
    "import matplotlib.pyplot as plt\n",
    "import seaborn as sns\n",
    "pd.set_option(\"display.max_columns\", None)\n",
    "pd.set_option(\"display.max_rows\", None)"
   ]
  },
  {
   "cell_type": "code",
   "execution_count": 2,
   "metadata": {
    "scrolled": true
   },
   "outputs": [],
   "source": [
    "df= pd.read_excel('cleandata109.xlsx', index_col=0)"
   ]
  },
  {
   "cell_type": "code",
   "execution_count": 3,
   "metadata": {
    "scrolled": true
   },
   "outputs": [],
   "source": [
    "identifier_columns = ['Country','ASBH02A']\n",
    "demographic_info_columns = ['ASBH02A', 'ASBH02B', 'ASBH03A', 'ASBH04', 'ASBH15A', 'ASBH15B', 'ASBH16', 'ASBH17A', 'ASBH17B', 'ASBH18AA', 'ASBH18AB', 'ASBG01', 'ASBG03', 'ASDAGE','MINAGEARRIVAL' ]\n",
    "positive_feelings_in_school = ['ASBG10A', 'ASBG10B','ASBG10C', 'ASBG10D', 'ASBG10E', 'ASBG10F']\n",
    "negativeexperience_in_school_columns = ['ASBG11A', 'ASBG11B', 'ASBG11C', 'ASBG11D', 'ASBG11E', 'ASBG11F', 'ASBG11G', 'ASBG11H', 'ASBG11I', 'ASBG11J']\n",
    "assessment_score_columns = ['ASRREA01', 'ASRREA02', 'ASRREA03', 'ASRREA04', 'ASRREA05', 'ASRLIT01', 'ASRLIT02', 'ASRLIT03', 'ASRLIT04', 'ASRLIT05', 'ASRINF01', 'ASRINF02', 'ASRINF03', 'ASRINF04', 'ASRINF05', 'ASRIIE01', 'ASRIIE02', 'ASRIIE03', 'ASRIIE04', 'ASRIIE05', 'ASRRSI01', 'ASRRSI02', 'ASRRSI03', 'ASRRSI04', 'ASRRSI05']\n",
    "averages = ['reading_avg', 'literary_purpose_avg', 'informational_purpose_avg','interpreting_process_avg', 'straightforward_process_avg','avgscore']"
   ]
  },
  {
   "cell_type": "code",
   "execution_count": 4,
   "metadata": {
    "scrolled": true
   },
   "outputs": [],
   "source": [
    "df_feelings = df[identifier_columns+positive_feelings_in_school]"
   ]
  },
  {
   "cell_type": "code",
   "execution_count": 5,
   "metadata": {
    "scrolled": true
   },
   "outputs": [],
   "source": [
    "pivot_df_feelingsinschool = df_feelings.pivot_table(values=positive_feelings_in_school, index=identifier_columns, aggfunc='mean').reset_index()"
   ]
  },
  {
   "cell_type": "code",
   "execution_count": 6,
   "metadata": {},
   "outputs": [
    {
     "data": {
      "text/html": [
       "<div>\n",
       "<style scoped>\n",
       "    .dataframe tbody tr th:only-of-type {\n",
       "        vertical-align: middle;\n",
       "    }\n",
       "\n",
       "    .dataframe tbody tr th {\n",
       "        vertical-align: top;\n",
       "    }\n",
       "\n",
       "    .dataframe thead th {\n",
       "        text-align: right;\n",
       "    }\n",
       "</style>\n",
       "<table border=\"1\" class=\"dataframe\">\n",
       "  <thead>\n",
       "    <tr style=\"text-align: right;\">\n",
       "      <th></th>\n",
       "      <th>Country</th>\n",
       "      <th>ASBH02A</th>\n",
       "      <th>ASBG10A</th>\n",
       "      <th>ASBG10B</th>\n",
       "      <th>ASBG10C</th>\n",
       "      <th>ASBG10D</th>\n",
       "      <th>ASBG10E</th>\n",
       "      <th>ASBG10F</th>\n",
       "    </tr>\n",
       "  </thead>\n",
       "  <tbody>\n",
       "    <tr>\n",
       "      <th>0</th>\n",
       "      <td>Austria</td>\n",
       "      <td>No</td>\n",
       "      <td>1.759465</td>\n",
       "      <td>1.570470</td>\n",
       "      <td>1.584650</td>\n",
       "      <td>1.525843</td>\n",
       "      <td>1.373034</td>\n",
       "      <td>1.170404</td>\n",
       "    </tr>\n",
       "    <tr>\n",
       "      <th>1</th>\n",
       "      <td>Austria</td>\n",
       "      <td>Yes</td>\n",
       "      <td>1.826697</td>\n",
       "      <td>1.577666</td>\n",
       "      <td>1.442907</td>\n",
       "      <td>1.426694</td>\n",
       "      <td>1.369663</td>\n",
       "      <td>1.095739</td>\n",
       "    </tr>\n",
       "    <tr>\n",
       "      <th>2</th>\n",
       "      <td>Egypt</td>\n",
       "      <td>No</td>\n",
       "      <td>1.403226</td>\n",
       "      <td>1.571429</td>\n",
       "      <td>1.540426</td>\n",
       "      <td>1.516949</td>\n",
       "      <td>1.521186</td>\n",
       "      <td>1.461538</td>\n",
       "    </tr>\n",
       "    <tr>\n",
       "      <th>3</th>\n",
       "      <td>Egypt</td>\n",
       "      <td>Yes</td>\n",
       "      <td>1.332351</td>\n",
       "      <td>1.472121</td>\n",
       "      <td>1.429911</td>\n",
       "      <td>1.404374</td>\n",
       "      <td>1.371104</td>\n",
       "      <td>1.305961</td>\n",
       "    </tr>\n",
       "    <tr>\n",
       "      <th>4</th>\n",
       "      <td>France</td>\n",
       "      <td>No</td>\n",
       "      <td>1.627119</td>\n",
       "      <td>1.703863</td>\n",
       "      <td>1.538793</td>\n",
       "      <td>1.914530</td>\n",
       "      <td>1.480851</td>\n",
       "      <td>1.175214</td>\n",
       "    </tr>\n",
       "    <tr>\n",
       "      <th>5</th>\n",
       "      <td>France</td>\n",
       "      <td>Yes</td>\n",
       "      <td>1.768795</td>\n",
       "      <td>1.718054</td>\n",
       "      <td>1.462446</td>\n",
       "      <td>1.935719</td>\n",
       "      <td>1.549091</td>\n",
       "      <td>1.129806</td>\n",
       "    </tr>\n",
       "    <tr>\n",
       "      <th>6</th>\n",
       "      <td>Germany</td>\n",
       "      <td>No</td>\n",
       "      <td>1.568966</td>\n",
       "      <td>1.544379</td>\n",
       "      <td>1.534884</td>\n",
       "      <td>1.530120</td>\n",
       "      <td>1.434524</td>\n",
       "      <td>1.257485</td>\n",
       "    </tr>\n",
       "    <tr>\n",
       "      <th>7</th>\n",
       "      <td>Germany</td>\n",
       "      <td>Yes</td>\n",
       "      <td>1.705419</td>\n",
       "      <td>1.468125</td>\n",
       "      <td>1.348620</td>\n",
       "      <td>1.315101</td>\n",
       "      <td>1.352225</td>\n",
       "      <td>1.106132</td>\n",
       "    </tr>\n",
       "    <tr>\n",
       "      <th>8</th>\n",
       "      <td>Jordan</td>\n",
       "      <td>No</td>\n",
       "      <td>1.222574</td>\n",
       "      <td>1.301384</td>\n",
       "      <td>1.257511</td>\n",
       "      <td>1.266234</td>\n",
       "      <td>1.197425</td>\n",
       "      <td>1.285866</td>\n",
       "    </tr>\n",
       "    <tr>\n",
       "      <th>9</th>\n",
       "      <td>Jordan</td>\n",
       "      <td>Yes</td>\n",
       "      <td>1.236234</td>\n",
       "      <td>1.299590</td>\n",
       "      <td>1.282793</td>\n",
       "      <td>1.283689</td>\n",
       "      <td>1.225996</td>\n",
       "      <td>1.240332</td>\n",
       "    </tr>\n",
       "    <tr>\n",
       "      <th>10</th>\n",
       "      <td>Netherlands</td>\n",
       "      <td>No</td>\n",
       "      <td>1.538462</td>\n",
       "      <td>1.384615</td>\n",
       "      <td>1.649351</td>\n",
       "      <td>1.153846</td>\n",
       "      <td>1.243590</td>\n",
       "      <td>1.166667</td>\n",
       "    </tr>\n",
       "    <tr>\n",
       "      <th>11</th>\n",
       "      <td>Netherlands</td>\n",
       "      <td>Yes</td>\n",
       "      <td>1.571354</td>\n",
       "      <td>1.386827</td>\n",
       "      <td>1.482162</td>\n",
       "      <td>1.157344</td>\n",
       "      <td>1.313838</td>\n",
       "      <td>1.085162</td>\n",
       "    </tr>\n",
       "    <tr>\n",
       "      <th>12</th>\n",
       "      <td>Sweden</td>\n",
       "      <td>No</td>\n",
       "      <td>1.644295</td>\n",
       "      <td>1.450512</td>\n",
       "      <td>1.665517</td>\n",
       "      <td>1.391156</td>\n",
       "      <td>1.494774</td>\n",
       "      <td>1.202703</td>\n",
       "    </tr>\n",
       "    <tr>\n",
       "      <th>13</th>\n",
       "      <td>Sweden</td>\n",
       "      <td>Yes</td>\n",
       "      <td>1.814129</td>\n",
       "      <td>1.414367</td>\n",
       "      <td>1.552222</td>\n",
       "      <td>1.383390</td>\n",
       "      <td>1.552511</td>\n",
       "      <td>1.111747</td>\n",
       "    </tr>\n",
       "  </tbody>\n",
       "</table>\n",
       "</div>"
      ],
      "text/plain": [
       "        Country ASBH02A   ASBG10A   ASBG10B   ASBG10C   ASBG10D   ASBG10E  \\\n",
       "0       Austria      No  1.759465  1.570470  1.584650  1.525843  1.373034   \n",
       "1       Austria     Yes  1.826697  1.577666  1.442907  1.426694  1.369663   \n",
       "2         Egypt      No  1.403226  1.571429  1.540426  1.516949  1.521186   \n",
       "3         Egypt     Yes  1.332351  1.472121  1.429911  1.404374  1.371104   \n",
       "4        France      No  1.627119  1.703863  1.538793  1.914530  1.480851   \n",
       "5        France     Yes  1.768795  1.718054  1.462446  1.935719  1.549091   \n",
       "6       Germany      No  1.568966  1.544379  1.534884  1.530120  1.434524   \n",
       "7       Germany     Yes  1.705419  1.468125  1.348620  1.315101  1.352225   \n",
       "8        Jordan      No  1.222574  1.301384  1.257511  1.266234  1.197425   \n",
       "9        Jordan     Yes  1.236234  1.299590  1.282793  1.283689  1.225996   \n",
       "10  Netherlands      No  1.538462  1.384615  1.649351  1.153846  1.243590   \n",
       "11  Netherlands     Yes  1.571354  1.386827  1.482162  1.157344  1.313838   \n",
       "12       Sweden      No  1.644295  1.450512  1.665517  1.391156  1.494774   \n",
       "13       Sweden     Yes  1.814129  1.414367  1.552222  1.383390  1.552511   \n",
       "\n",
       "     ASBG10F  \n",
       "0   1.170404  \n",
       "1   1.095739  \n",
       "2   1.461538  \n",
       "3   1.305961  \n",
       "4   1.175214  \n",
       "5   1.129806  \n",
       "6   1.257485  \n",
       "7   1.106132  \n",
       "8   1.285866  \n",
       "9   1.240332  \n",
       "10  1.166667  \n",
       "11  1.085162  \n",
       "12  1.202703  \n",
       "13  1.111747  "
      ]
     },
     "execution_count": 6,
     "metadata": {},
     "output_type": "execute_result"
    }
   ],
   "source": [
    "pivot_df_feelingsinschool"
   ]
  },
  {
   "cell_type": "markdown",
   "metadata": {},
   "source": [
    "##  This is for bar chart"
   ]
  },
  {
   "cell_type": "code",
   "execution_count": 7,
   "metadata": {
    "scrolled": true
   },
   "outputs": [],
   "source": [
    "df_no = pivot_df_feelingsinschool[pivot_df_feelingsinschool['ASBH02A']=='No']\n",
    "df_no= df_no.drop('ASBH02A', axis=1)\n",
    "df_no_melted = df_no.melt(id_vars='Country', var_name='Metric', value_name='Value')"
   ]
  },
  {
   "cell_type": "code",
   "execution_count": 8,
   "metadata": {
    "scrolled": true
   },
   "outputs": [],
   "source": [
    "df_yes = pivot_df_feelingsinschool[pivot_df_feelingsinschool['ASBH02A']=='Yes']\n",
    "df_yes= df_yes.drop('ASBH02A', axis=1)\n",
    "df_yes_melted = df_yes.melt(id_vars='Country', var_name='Metric', value_name='Value')"
   ]
  },
  {
   "cell_type": "code",
   "execution_count": 9,
   "metadata": {
    "scrolled": false
   },
   "outputs": [
    {
     "data": {
      "image/png": "[encoded data removed]",
      "text/plain": [
       "<Figure size 1008x576 with 1 Axes>"
      ]
     },
     "metadata": {
      "needs_background": "light"
     },
     "output_type": "display_data"
    }
   ],
   "source": [
    "# Define bar width\n",
    "bar_width = 1\n",
    "n_metrics = df_no_melted['Metric'].nunique()\n",
    "\n",
    "# Colors for each metric\n",
    "colors = {\n",
    "    'ASBG10A': 'red',\n",
    "    'ASBG10B': 'blue',\n",
    "    'ASBG10C': 'green',\n",
    "    'ASBG10D': 'orange',\n",
    "    'ASBG10E': 'purple',\n",
    "    'ASBG10F': 'grey'\n",
    "}\n",
    "\n",
    "# Create figure and axis\n",
    "fig, ax = plt.subplots(figsize=(14, 8))\n",
    "\n",
    "# Get unique countries and metrics\n",
    "countries = df_no_melted['Country'].unique()\n",
    "metrics = df_no_melted['Metric'].unique()\n",
    "\n",
    "# Create x indices for each group of bars\n",
    "indices = np.arange(len(countries)) * (n_metrics + 1)\n",
    "\n",
    "# Plot each group of bars for 'yes' and 'no'\n",
    "for i, metric in enumerate(metrics):\n",
    "    yes_values = df_yes_melted[df_yes_melted['Metric'] == metric].set_index('Country').reindex(countries)['Value']\n",
    "    no_values = df_no_melted[df_no_melted['Metric'] == metric].set_index('Country').reindex(countries)['Value']\n",
    "    \n",
    "    color = colors[metric]\n",
    "    ax.bar(indices + i * bar_width, yes_values, bar_width, color=color, alpha=1.0)\n",
    "    ax.bar(indices + i * bar_width, no_values, bar_width, color=color, alpha=0.6)\n",
    "\n",
    "# Add labels and title\n",
    "ax.set_xlabel('Country')\n",
    "ax.set_ylabel('Value')\n",
    "ax.set_title('Overlapping Bar Chart by Metric and Country')\n",
    "\n",
    "# Set x-ticks and x-tick labels\n",
    "ax.set_xticks(indices + bar_width * (n_metrics - 1) / 2)\n",
    "ax.set_xticklabels(countries, rotation=45, ha='right')\n",
    "\n",
    "# Create custom legend\n",
    "from matplotlib.patches import Patch\n",
    "legend_handles = [Patch(color=color, label=metric) for metric, color in colors.items()]\n",
    "ax.legend(handles=legend_handles, title='Metrics', bbox_to_anchor=(1.05, 1), loc='upper left')\n",
    "\n",
    "\n",
    "# Show plot\n",
    "plt.tight_layout()\n",
    "plt.show()"
   ]
  },
  {
   "cell_type": "markdown",
   "metadata": {},
   "source": [
    "This isn't as clear cut as with assessment scores - which is interesting actually. Feeling better than their test results?"
   ]
  },
  {
   "cell_type": "markdown",
   "metadata": {},
   "source": [
    " 1: Agree a lot; 2: Agree a little; 3: Disagree a little; 4: Disagree a lot\\\n",
    " \n",
    "ASBG10A\tGEN\\AGREE\\BEING IN SCHOOL\\\n",
    "ASBG10B\tGEN\\AGREE\\SAFE AT SCHOOL\\\n",
    "ASBG10C\tGEN\\AGREE\\BELONG AT SCHOOL\\\n",
    "ASBG10D\tGEN\\AGREE\\TEACHERS ARE FAIR\\\n",
    "ASBG10E\tGEN\\AGREE\\PROUD TO GO TO SCHOOL\\\n",
    "ASBG10F\tGEN\\AGREE\\FRIENDS AT SCHOOL"
   ]
  },
  {
   "cell_type": "code",
   "execution_count": null,
   "metadata": {
    "scrolled": true
   },
   "outputs": [],
   "source": []
  }
 ],
 "metadata": {
  "kernelspec": {
   "display_name": "Python 3",
   "language": "python",
   "name": "python3"
  },
  "language_info": {
   "codemirror_mode": {
    "name": "ipython",
    "version": 3
   },
   "file_extension": ".py",
   "mimetype": "text/x-python",
   "name": "python",
   "nbconvert_exporter": "python",
   "pygments_lexer": "ipython3",
   "version": "3.7.6"
  }
 },
 "nbformat": 4,
 "nbformat_minor": 4
}
