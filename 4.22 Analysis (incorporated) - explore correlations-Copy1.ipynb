{
 "cells": [
  {
   "cell_type": "code",
   "execution_count": 1,
   "metadata": {
    "scrolled": true
   },
   "outputs": [],
   "source": [
    "import pandas as pd\n",
    "import numpy as np\n",
    "import matplotlib.pyplot as plt\n",
    "import seaborn as sns\n",
    "pd.set_option(\"display.max_columns\", None)\n",
    "pd.set_option(\"display.max_rows\", None)\n",
    "df= pd.read_excel('dfwavgscores.xlsx')"
   ]
  },
  {
   "cell_type": "code",
   "execution_count": 2,
   "metadata": {
    "scrolled": true
   },
   "outputs": [],
   "source": [
    "demographic_info_columns = ['Country', 'ASBH02A', 'ASBH02B', 'ASBH03A', 'ASBH04', 'ASBH15A', 'ASBH15B', 'ASBH16', 'ASBH17A', 'ASBH17B', 'ASBH18AA', 'ASBH18AB', 'ASBG01', 'ASBG03','MINAGEARRIVAL', 'rounded_ages','ASDAGE','avgscore']"
   ]
  },
  {
   "cell_type": "code",
   "execution_count": 3,
   "metadata": {
    "scrolled": true
   },
   "outputs": [],
   "source": [
    "df_demo = df[demographic_info_columns]"
   ]
  },
  {
   "cell_type": "markdown",
   "metadata": {},
   "source": [
    "Let's drop all the values that have 9s - omitted. I'm not sure if this is really what I want to do but let's see. "
   ]
  },
  {
   "cell_type": "code",
   "execution_count": 4,
   "metadata": {},
   "outputs": [
    {
     "data": {
      "text/plain": [
       "(41365, 18)"
      ]
     },
     "execution_count": 4,
     "metadata": {},
     "output_type": "execute_result"
    }
   ],
   "source": [
    "df_demo.shape "
   ]
  },
  {
   "cell_type": "code",
   "execution_count": 5,
   "metadata": {},
   "outputs": [
    {
     "data": {
      "text/plain": [
       "(40810, 18)"
      ]
     },
     "execution_count": 5,
     "metadata": {},
     "output_type": "execute_result"
    }
   ],
   "source": [
    "# Columns to check\n",
    "columns_to_check = ['ASBH02A','ASBH02B','ASBH03A','ASBH04','ASBH16','ASBH18AA','ASBH18AB']\n",
    "\n",
    "# Drop rows where any of the specified columns have a value of 9.0\n",
    "condition = (df_demo[columns_to_check] != 9.0).all(axis=1)\n",
    "df_cleaned = df_demo.loc[condition]\n",
    "df_cleaned.shape"
   ]
  },
  {
   "cell_type": "code",
   "execution_count": 6,
   "metadata": {},
   "outputs": [
    {
     "data": {
      "text/plain": [
       "(40810, 18)"
      ]
     },
     "execution_count": 6,
     "metadata": {},
     "output_type": "execute_result"
    }
   ],
   "source": [
    "# Columns to check\n",
    "columns_to_check2 = ['ASBH15A','ASBH15B','ASBH17A','ASBH17B']\n",
    "\n",
    "# Drop rows where any of the specified columns have a value of 999.0\n",
    "condition = (df_cleaned[columns_to_check2] != 999.0).all(axis=1)\n",
    "df_cleaned2 = df_cleaned.loc[condition]\n",
    "df_cleaned2.shape"
   ]
  },
  {
   "cell_type": "markdown",
   "metadata": {},
   "source": [
    "let's look at the columns that all countries have answers for - 02B - age when arrived in country and 3a speaking lang of test before school? check this!"
   ]
  },
  {
   "cell_type": "code",
   "execution_count": 7,
   "metadata": {},
   "outputs": [
    {
     "data": {
      "text/html": [
       "<div>\n",
       "<style scoped>\n",
       "    .dataframe tbody tr th:only-of-type {\n",
       "        vertical-align: middle;\n",
       "    }\n",
       "\n",
       "    .dataframe tbody tr th {\n",
       "        vertical-align: top;\n",
       "    }\n",
       "\n",
       "    .dataframe thead th {\n",
       "        text-align: right;\n",
       "    }\n",
       "</style>\n",
       "<table border=\"1\" class=\"dataframe\">\n",
       "  <thead>\n",
       "    <tr style=\"text-align: right;\">\n",
       "      <th></th>\n",
       "      <th>Country</th>\n",
       "      <th>ASBH02A</th>\n",
       "      <th>ASBH02B</th>\n",
       "      <th>ASBH03A</th>\n",
       "      <th>ASBH04</th>\n",
       "      <th>ASBH15A</th>\n",
       "      <th>ASBH15B</th>\n",
       "      <th>ASBH16</th>\n",
       "      <th>ASBH17A</th>\n",
       "      <th>ASBH17B</th>\n",
       "      <th>ASBH18AA</th>\n",
       "      <th>ASBH18AB</th>\n",
       "      <th>ASBG01</th>\n",
       "      <th>ASBG03</th>\n",
       "      <th>MINAGEARRIVAL</th>\n",
       "      <th>rounded_ages</th>\n",
       "      <th>ASDAGE</th>\n",
       "      <th>avgscore</th>\n",
       "    </tr>\n",
       "  </thead>\n",
       "  <tbody>\n",
       "    <tr>\n",
       "      <th>0</th>\n",
       "      <td>Turkey</td>\n",
       "      <td>Yes</td>\n",
       "      <td>6</td>\n",
       "      <td>Yes</td>\n",
       "      <td>NaN</td>\n",
       "      <td>NaN</td>\n",
       "      <td>NaN</td>\n",
       "      <td>6.0</td>\n",
       "      <td>NaN</td>\n",
       "      <td>NaN</td>\n",
       "      <td>NaN</td>\n",
       "      <td>NaN</td>\n",
       "      <td>NaN</td>\n",
       "      <td>NaN</td>\n",
       "      <td>NaN</td>\n",
       "      <td>10.0</td>\n",
       "      <td>10.17</td>\n",
       "      <td>555.811163</td>\n",
       "    </tr>\n",
       "    <tr>\n",
       "      <th>1</th>\n",
       "      <td>Turkey</td>\n",
       "      <td>Yes</td>\n",
       "      <td>6</td>\n",
       "      <td>Yes</td>\n",
       "      <td>NaN</td>\n",
       "      <td>NaN</td>\n",
       "      <td>NaN</td>\n",
       "      <td>3.0</td>\n",
       "      <td>NaN</td>\n",
       "      <td>NaN</td>\n",
       "      <td>NaN</td>\n",
       "      <td>NaN</td>\n",
       "      <td>NaN</td>\n",
       "      <td>NaN</td>\n",
       "      <td>NaN</td>\n",
       "      <td>9.0</td>\n",
       "      <td>9.42</td>\n",
       "      <td>558.507703</td>\n",
       "    </tr>\n",
       "    <tr>\n",
       "      <th>2</th>\n",
       "      <td>Turkey</td>\n",
       "      <td>Yes</td>\n",
       "      <td>6</td>\n",
       "      <td>Yes</td>\n",
       "      <td>NaN</td>\n",
       "      <td>NaN</td>\n",
       "      <td>NaN</td>\n",
       "      <td>6.0</td>\n",
       "      <td>NaN</td>\n",
       "      <td>NaN</td>\n",
       "      <td>NaN</td>\n",
       "      <td>NaN</td>\n",
       "      <td>NaN</td>\n",
       "      <td>NaN</td>\n",
       "      <td>NaN</td>\n",
       "      <td>10.0</td>\n",
       "      <td>9.50</td>\n",
       "      <td>563.484052</td>\n",
       "    </tr>\n",
       "    <tr>\n",
       "      <th>3</th>\n",
       "      <td>Turkey</td>\n",
       "      <td>Yes</td>\n",
       "      <td>6</td>\n",
       "      <td>Yes</td>\n",
       "      <td>NaN</td>\n",
       "      <td>NaN</td>\n",
       "      <td>NaN</td>\n",
       "      <td>6.0</td>\n",
       "      <td>NaN</td>\n",
       "      <td>NaN</td>\n",
       "      <td>NaN</td>\n",
       "      <td>NaN</td>\n",
       "      <td>NaN</td>\n",
       "      <td>NaN</td>\n",
       "      <td>NaN</td>\n",
       "      <td>10.0</td>\n",
       "      <td>9.58</td>\n",
       "      <td>581.597414</td>\n",
       "    </tr>\n",
       "    <tr>\n",
       "      <th>4</th>\n",
       "      <td>Turkey</td>\n",
       "      <td>Yes</td>\n",
       "      <td>6</td>\n",
       "      <td>Yes</td>\n",
       "      <td>NaN</td>\n",
       "      <td>NaN</td>\n",
       "      <td>NaN</td>\n",
       "      <td>6.0</td>\n",
       "      <td>NaN</td>\n",
       "      <td>NaN</td>\n",
       "      <td>NaN</td>\n",
       "      <td>NaN</td>\n",
       "      <td>NaN</td>\n",
       "      <td>NaN</td>\n",
       "      <td>NaN</td>\n",
       "      <td>10.0</td>\n",
       "      <td>9.58</td>\n",
       "      <td>559.048650</td>\n",
       "    </tr>\n",
       "  </tbody>\n",
       "</table>\n",
       "</div>"
      ],
      "text/plain": [
       "  Country ASBH02A ASBH02B ASBH03A  ASBH04  ASBH15A  ASBH15B  ASBH16  ASBH17A  \\\n",
       "0  Turkey     Yes       6     Yes     NaN      NaN      NaN     6.0      NaN   \n",
       "1  Turkey     Yes       6     Yes     NaN      NaN      NaN     3.0      NaN   \n",
       "2  Turkey     Yes       6     Yes     NaN      NaN      NaN     6.0      NaN   \n",
       "3  Turkey     Yes       6     Yes     NaN      NaN      NaN     6.0      NaN   \n",
       "4  Turkey     Yes       6     Yes     NaN      NaN      NaN     6.0      NaN   \n",
       "\n",
       "   ASBH17B  ASBH18AA  ASBH18AB  ASBG01  ASBG03  MINAGEARRIVAL  rounded_ages  \\\n",
       "0      NaN       NaN       NaN     NaN     NaN            NaN          10.0   \n",
       "1      NaN       NaN       NaN     NaN     NaN            NaN           9.0   \n",
       "2      NaN       NaN       NaN     NaN     NaN            NaN          10.0   \n",
       "3      NaN       NaN       NaN     NaN     NaN            NaN          10.0   \n",
       "4      NaN       NaN       NaN     NaN     NaN            NaN          10.0   \n",
       "\n",
       "   ASDAGE    avgscore  \n",
       "0   10.17  555.811163  \n",
       "1    9.42  558.507703  \n",
       "2    9.50  563.484052  \n",
       "3    9.58  581.597414  \n",
       "4    9.58  559.048650  "
      ]
     },
     "execution_count": 7,
     "metadata": {},
     "output_type": "execute_result"
    }
   ],
   "source": [
    "df_cleaned2.head()"
   ]
  },
  {
   "cell_type": "code",
   "execution_count": 9,
   "metadata": {},
   "outputs": [
    {
     "data": {
      "text/plain": [
       "NaN    40349\n",
       "0.0      162\n",
       "3.0      143\n",
       "6.0      102\n",
       "8.0       54\n",
       "Name: MINAGEARRIVAL, dtype: int64"
      ]
     },
     "execution_count": 9,
     "metadata": {},
     "output_type": "execute_result"
    }
   ],
   "source": [
    "df_cleaned2['MINAGEARRIVAL'].value_counts(dropna=False)"
   ]
  },
  {
   "cell_type": "code",
   "execution_count": 10,
   "metadata": {},
   "outputs": [],
   "source": [
    "condition = (df_cleaned2['MINAGEARRIVAL'] == 0.0)"
   ]
  },
  {
   "cell_type": "code",
   "execution_count": 11,
   "metadata": {},
   "outputs": [],
   "source": [
    "df_cleaned2.loc[condition,'MINAGEARRIVAL'] = 1.0"
   ]
  },
  {
   "cell_type": "code",
   "execution_count": 12,
   "metadata": {},
   "outputs": [
    {
     "data": {
      "text/plain": [
       "1.0    162\n",
       "3.0    143\n",
       "6.0    102\n",
       "8.0     54\n",
       "Name: MINAGEARRIVAL, dtype: int64"
      ]
     },
     "execution_count": 12,
     "metadata": {},
     "output_type": "execute_result"
    }
   ],
   "source": [
    "df_cleaned2['MINAGEARRIVAL'].value_counts()"
   ]
  },
  {
   "cell_type": "code",
   "execution_count": 14,
   "metadata": {},
   "outputs": [],
   "source": [
    "df_cleaned2['MINAGEARRIVAL'] = df_cleaned2['MINAGEARRIVAL'].fillna(0)"
   ]
  },
  {
   "cell_type": "code",
   "execution_count": 15,
   "metadata": {},
   "outputs": [
    {
     "data": {
      "text/plain": [
       "0.0    40349\n",
       "1.0      162\n",
       "3.0      143\n",
       "6.0      102\n",
       "8.0       54\n",
       "Name: MINAGEARRIVAL, dtype: int64"
      ]
     },
     "execution_count": 15,
     "metadata": {},
     "output_type": "execute_result"
    }
   ],
   "source": [
    "df_cleaned2['MINAGEARRIVAL'].value_counts()"
   ]
  },
  {
   "cell_type": "code",
   "execution_count": 13,
   "metadata": {},
   "outputs": [
    {
     "data": {
      "text/plain": [
       "6                           12935\n",
       "Younger than 3 years old      928\n",
       "3 to 5 years old              692\n",
       "6 to 7 years old              375\n",
       "8 years old or older          186\n",
       "1                             162\n",
       "2                             143\n",
       "3                             102\n",
       "4                              54\n",
       "Name: ASBH02B, dtype: int64"
      ]
     },
     "execution_count": 13,
     "metadata": {},
     "output_type": "execute_result"
    }
   ],
   "source": [
    "df_cleaned2['ASBH02B'].value_counts()"
   ]
  },
  {
   "cell_type": "code",
   "execution_count": 16,
   "metadata": {},
   "outputs": [],
   "source": [
    "def populate_column(row):\n",
    "    if row['ASBH02B'] == 'Younger than 3 years old':\n",
    "        return 1\n",
    "    elif row ['ASBH02B'] == 6:\n",
    "        return 0\n",
    "    elif row['ASBH02B'] == '3 to 5 years old':\n",
    "        return 3\n",
    "    elif row['ASBH02B'] == '6 to 7 years old':\n",
    "        return 6\n",
    "    elif row['ASBH02B'] == '8 years old or older':\n",
    "        return 8\n",
    "    else:\n",
    "        return row['MINAGEARRIVAL']  \n",
    "\n",
    "# Apply the function to each row\n",
    "df_cleaned2['MINAGEARRIVAL'] = df_cleaned2.apply(populate_column, axis=1)"
   ]
  },
  {
   "cell_type": "code",
   "execution_count": 18,
   "metadata": {},
   "outputs": [
    {
     "data": {
      "text/plain": [
       "0.0    38168\n",
       "1.0     1090\n",
       "3.0      835\n",
       "6.0      477\n",
       "8.0      240\n",
       "Name: MINAGEARRIVAL, dtype: int64"
      ]
     },
     "execution_count": 18,
     "metadata": {},
     "output_type": "execute_result"
    }
   ],
   "source": [
    "df_cleaned2['MINAGEARRIVAL'].value_counts()"
   ]
  },
  {
   "cell_type": "code",
   "execution_count": 19,
   "metadata": {},
   "outputs": [],
   "source": [
    "pivot_minage = df_cleaned2.pivot_table(values='avgscore', index=['Country'],columns=['MINAGEARRIVAL'],dropna = False)"
   ]
  },
  {
   "cell_type": "code",
   "execution_count": 20,
   "metadata": {},
   "outputs": [
    {
     "data": {
      "text/html": [
       "<div>\n",
       "<style scoped>\n",
       "    .dataframe tbody tr th:only-of-type {\n",
       "        vertical-align: middle;\n",
       "    }\n",
       "\n",
       "    .dataframe tbody tr th {\n",
       "        vertical-align: top;\n",
       "    }\n",
       "\n",
       "    .dataframe thead th {\n",
       "        text-align: right;\n",
       "    }\n",
       "</style>\n",
       "<table border=\"1\" class=\"dataframe\">\n",
       "  <thead>\n",
       "    <tr style=\"text-align: right;\">\n",
       "      <th>MINAGEARRIVAL</th>\n",
       "      <th>0.0</th>\n",
       "      <th>1.0</th>\n",
       "      <th>3.0</th>\n",
       "      <th>6.0</th>\n",
       "      <th>8.0</th>\n",
       "    </tr>\n",
       "    <tr>\n",
       "      <th>Country</th>\n",
       "      <th></th>\n",
       "      <th></th>\n",
       "      <th></th>\n",
       "      <th></th>\n",
       "      <th></th>\n",
       "    </tr>\n",
       "  </thead>\n",
       "  <tbody>\n",
       "    <tr>\n",
       "      <th>Austria</th>\n",
       "      <td>535.931404</td>\n",
       "      <td>524.691549</td>\n",
       "      <td>503.023525</td>\n",
       "      <td>482.467533</td>\n",
       "      <td>472.698753</td>\n",
       "    </tr>\n",
       "    <tr>\n",
       "      <th>Egypt</th>\n",
       "      <td>380.234984</td>\n",
       "      <td>382.087467</td>\n",
       "      <td>360.526565</td>\n",
       "      <td>353.167965</td>\n",
       "      <td>359.496124</td>\n",
       "    </tr>\n",
       "    <tr>\n",
       "      <th>France</th>\n",
       "      <td>522.219901</td>\n",
       "      <td>514.789067</td>\n",
       "      <td>500.251059</td>\n",
       "      <td>487.735549</td>\n",
       "      <td>449.952812</td>\n",
       "    </tr>\n",
       "    <tr>\n",
       "      <th>Germany</th>\n",
       "      <td>547.194744</td>\n",
       "      <td>521.986539</td>\n",
       "      <td>490.961791</td>\n",
       "      <td>485.084177</td>\n",
       "      <td>517.617192</td>\n",
       "    </tr>\n",
       "    <tr>\n",
       "      <th>Iran</th>\n",
       "      <td>423.246228</td>\n",
       "      <td>415.102270</td>\n",
       "      <td>429.928154</td>\n",
       "      <td>450.368901</td>\n",
       "      <td>421.684960</td>\n",
       "    </tr>\n",
       "    <tr>\n",
       "      <th>Jordan</th>\n",
       "      <td>368.776349</td>\n",
       "      <td>380.605999</td>\n",
       "      <td>385.670465</td>\n",
       "      <td>381.076742</td>\n",
       "      <td>372.786823</td>\n",
       "    </tr>\n",
       "    <tr>\n",
       "      <th>Netherlands</th>\n",
       "      <td>544.917812</td>\n",
       "      <td>546.704431</td>\n",
       "      <td>510.434272</td>\n",
       "      <td>532.347393</td>\n",
       "      <td>529.268667</td>\n",
       "    </tr>\n",
       "    <tr>\n",
       "      <th>Sweden</th>\n",
       "      <td>565.960709</td>\n",
       "      <td>547.588860</td>\n",
       "      <td>506.832225</td>\n",
       "      <td>496.426190</td>\n",
       "      <td>486.933911</td>\n",
       "    </tr>\n",
       "    <tr>\n",
       "      <th>Turkey</th>\n",
       "      <td>507.296871</td>\n",
       "      <td>460.361803</td>\n",
       "      <td>439.893039</td>\n",
       "      <td>471.000542</td>\n",
       "      <td>446.103548</td>\n",
       "    </tr>\n",
       "  </tbody>\n",
       "</table>\n",
       "</div>"
      ],
      "text/plain": [
       "MINAGEARRIVAL         0.0         1.0         3.0         6.0         8.0\n",
       "Country                                                                  \n",
       "Austria        535.931404  524.691549  503.023525  482.467533  472.698753\n",
       "Egypt          380.234984  382.087467  360.526565  353.167965  359.496124\n",
       "France         522.219901  514.789067  500.251059  487.735549  449.952812\n",
       "Germany        547.194744  521.986539  490.961791  485.084177  517.617192\n",
       "Iran           423.246228  415.102270  429.928154  450.368901  421.684960\n",
       "Jordan         368.776349  380.605999  385.670465  381.076742  372.786823\n",
       "Netherlands    544.917812  546.704431  510.434272  532.347393  529.268667\n",
       "Sweden         565.960709  547.588860  506.832225  496.426190  486.933911\n",
       "Turkey         507.296871  460.361803  439.893039  471.000542  446.103548"
      ]
     },
     "execution_count": 20,
     "metadata": {},
     "output_type": "execute_result"
    }
   ],
   "source": [
    "pivot_minage"
   ]
  },
  {
   "cell_type": "code",
   "execution_count": 23,
   "metadata": {},
   "outputs": [
    {
     "data": {
      "image/png": "[encoded data removed]",
      "text/plain": [
       "<Figure size 576x432 with 2 Axes>"
      ]
     },
     "metadata": {
      "needs_background": "light"
     },
     "output_type": "display_data"
    }
   ],
   "source": [
    "plt.figure(figsize=(8, 6))\n",
    "\n",
    "# Create the heatmap\n",
    "sns.heatmap(pivot_minage, annot=False, cmap='YlGnBu')\n",
    "\n",
    "# Add a title\n",
    "plt.title('langoftest Matrix Heatmap')\n",
    "\n",
    "# Show the plot\n",
    "plt.show()"
   ]
  },
  {
   "cell_type": "markdown",
   "metadata": {},
   "source": [
    "We do not need to include the ASBH02A column - we can just assign 0 or -1 to all the kids who were born in country/"
   ]
  },
  {
   "cell_type": "markdown",
   "metadata": {},
   "source": [
    "Now I need to put the above back into the main document"
   ]
  },
  {
   "cell_type": "code",
   "execution_count": null,
   "metadata": {
    "scrolled": true
   },
   "outputs": [],
   "source": [
    "correlation_matrix = df_demo.corr()"
   ]
  },
  {
   "cell_type": "code",
   "execution_count": null,
   "metadata": {
    "scrolled": false
   },
   "outputs": [],
   "source": [
    "plt.figure(figsize=(8, 6))\n",
    "\n",
    "# Create the heatmap\n",
    "sns.heatmap(correlation_matrix, annot=False, cmap='coolwarm', vmin=-1, vmax=1)\n",
    "\n",
    "# Add a title\n",
    "plt.title('Correlation Matrix Heatmap')\n",
    "\n",
    "# Show the plot\n",
    "plt.show()"
   ]
  },
  {
   "cell_type": "markdown",
   "metadata": {},
   "source": [
    "`ASBH02A\tGEN\\CHILD BORN IN <COUNTRY>\\\n",
    "ASBH02B\tGEN\\AGE OF CHILD WHEN CAME TO <COUNTRY>\\\n",
    "ASBH03A\tGEN\\LANGUAGE<LANGUAGE OF TEST>\\\n",
    "ASBH04\tGEN\\HOW OFTEN <LANG OF TEST> AT HOME\\\n",
    "ASBH15A\tGEN\\LVL OF EDUCATIONGUARDIAN A\\\n",
    "ASBH15B\tGEN\\LVL OF EDUCATIONGUARDIAN B\\\n",
    "ASBH16\tGEN\\LVL OF EDUCATIONCHILD\\\n",
    "ASBH17A\tGEN\\WHAT KIND OF MAIN JOB\\GUARDIAN A\\\n",
    "ASBH17B\tGEN\\WHAT KIND OF MAIN JOB\\GUARDIAN B\\\n",
    "ASBH18AA\tGEN\\LANGUAGE SPOKEN<LANGUAGE OF TEST>GUARDIAN A\\\n",
    "ASBH18AB\tGEN\\LANGUAGE SPOKEN<LANGUAGE OF TEST>GUARDIAN B\\\n",
    "ASBH18BA\tGEN\\LANGUAGE SPOKEN<COUNTRY-SPECIFIC>GUARDIAN A\\\n",
    "ASBH18BB\tGEN\\LANGUAGE SPOKEN<COUNTRY-SPECIFIC>GUARDIAN B`"
   ]
  },
  {
   "cell_type": "markdown",
   "metadata": {},
   "source": [
    "With the above I just want to focus on the bottom row really - remove the rest? There is a light negative correlation between speaking the language of test at home and the average score. Also those whose parents have more education have performed better overall. However, we can only use numerical columns for a correlation matrix. For non-numerical columns we can try the methods below."
   ]
  },
  {
   "cell_type": "markdown",
   "metadata": {},
   "source": [
    "# Non-numeric"
   ]
  },
  {
   "cell_type": "markdown",
   "metadata": {},
   "source": [
    "## The below is for comparing columns that are non-numeric. It might be worthwhile to hot-code!? these columns so that we can do .corr with them. Like the ones above. I also want to look at the ones above in more detail."
   ]
  },
  {
   "cell_type": "code",
   "execution_count": null,
   "metadata": {
    "scrolled": true
   },
   "outputs": [],
   "source": [
    "from scipy.stats import chi2_contingency"
   ]
  },
  {
   "cell_type": "code",
   "execution_count": null,
   "metadata": {
    "scrolled": true
   },
   "outputs": [],
   "source": [
    "# Create a contingency table\n",
    "contingency_table = pd.crosstab(df['ASBH02A'], df['avgscore'])"
   ]
  },
  {
   "cell_type": "code",
   "execution_count": null,
   "metadata": {
    "scrolled": true
   },
   "outputs": [],
   "source": [
    "# Perform Chi-Square Test of Independence\n",
    "chi2, p, dof, expected = chi2_contingency(contingency_table)"
   ]
  },
  {
   "cell_type": "code",
   "execution_count": null,
   "metadata": {
    "scrolled": true
   },
   "outputs": [],
   "source": [
    "print(f\"Chi-Square Test Statistic: {chi2}\")\n",
    "print(f\"P-value: {p}\")"
   ]
  },
  {
   "cell_type": "markdown",
   "metadata": {},
   "source": [
    "## Interpretation\n",
    "\n",
    "Chi-Square Test Statistic: 41365.00000000001\n",
    "P-value: 0.49630132644040176\n",
    "\n",
    "The P-value of approximately 0.496 suggests that there is a 49.6% chance of obtaining a Chi-Square Test Statistic of 41365 or higher under the assumption that the null hypothesis is true (i.e., there is no association between the variables). Since this P-value is much larger than 0.05, we do not have enough evidence to reject the null hypothesis.\n",
    "\n",
    "Conclusion\n",
    "There is no significant association between the variables in the contingency table. The high Chi-Square Test Statistic value seems unusual given the high P-value, which suggests that there might be an issue with the data or the way the test was performed. It might be useful to recheck the data or the contingency table to ensure there are no errors or anomalies."
   ]
  },
  {
   "cell_type": "code",
   "execution_count": null,
   "metadata": {
    "scrolled": true
   },
   "outputs": [],
   "source": [
    "# Create a box plot\n",
    "sns.boxplot(x=df['avgscore'])\n",
    "\n",
    "# Add title and labels\n",
    "plt.title('Box Plot of Your Data')\n",
    "plt.xlabel('Data')\n",
    "plt.ylabel('Values')\n",
    "\n",
    "# Show the plot\n",
    "plt.show()"
   ]
  },
  {
   "cell_type": "markdown",
   "metadata": {},
   "source": [
    "Interpretation\n",
    "Central Box: Represents the interquartile range (IQR), containing the middle 50% of the data.\n",
    "Line inside the Box: Indicates the median of the data.\n",
    "Whiskers: Extend to the smallest and largest values within 1.5 * IQR from the lower and upper quartiles.\n",
    "Dots outside the Whiskers: Represent potential outliers.\n"
   ]
  },
  {
   "cell_type": "markdown",
   "metadata": {},
   "source": [
    "## do a scatter plot\\ ask chatgpt about regression and clustering"
   ]
  },
  {
   "cell_type": "markdown",
   "metadata": {},
   "source": [
    "## want to do experiment with crosstab - adding more columns"
   ]
  },
  {
   "cell_type": "markdown",
   "metadata": {},
   "source": [
    "I think my data is normally distributed because there is an obvious dip for specific countries but there are no crazy dips or heights that are not normal for the country. "
   ]
  },
  {
   "cell_type": "code",
   "execution_count": null,
   "metadata": {
    "scrolled": true
   },
   "outputs": [],
   "source": [
    "import plotly.express as px\n",
    "\n",
    "# Create a contingency table with the original data\n",
    "contingency_table = pd.crosstab(df['ASBH02A'], df['avgscore'])\n",
    "\n",
    "# Convert the contingency table to a format suitable for Plotly\n",
    "contingency_table_reset = contingency_table.reset_index()\n",
    "contingency_table_melted = contingency_table_reset.melt(id_vars='ASBH02A', var_name='avgscore', value_name='count')\n",
    "\n",
    "# Plot the heatmap using Plotly\n",
    "fig = px.density_heatmap(contingency_table_melted, x='ASBH02A', y='avgscore', z='count', color_continuous_scale='coolwarm')\n",
    "fig.update_layout(title='Heatmap of Frequency Counts')\n",
    "fig.show()"
   ]
  },
  {
   "cell_type": "code",
   "execution_count": null,
   "metadata": {
    "scrolled": true
   },
   "outputs": [],
   "source": [
    "def cramers_v(confusion_matrix):\n",
    "    chi2 = chi2_contingency(confusion_matrix)[0]\n",
    "    n = confusion_matrix.sum().sum()\n",
    "    r, k = confusion_matrix.shape\n",
    "    return np.sqrt(chi2 / (n * (min(r, k) - 1)))\n",
    "\n",
    "# Create a confusion matrix\n",
    "confusion_matrix = pd.crosstab(df['ASBH02A'], df['avgscore'])\n",
    "\n",
    "# Calculate Cramér's V\n",
    "cramers_v_value = cramers_v(confusion_matrix)\n",
    "print(f\"Cramér's V: {cramers_v_value}\")"
   ]
  },
  {
   "cell_type": "code",
   "execution_count": null,
   "metadata": {
    "scrolled": true
   },
   "outputs": [],
   "source": [
    "# One-hot encode the categorical variables\n",
    "df_encoded = pd.get_dummies(df)\n",
    "\n",
    "# Calculate the correlation matrix\n",
    "correlation_matrix = df_encoded.corr()\n",
    "\n",
    "# Plot the heatmap\n",
    "plt.figure(figsize=(8, 6))\n",
    "sns.heatmap(correlation_matrix, annot=True, cmap='coolwarm', vmin=-1, vmax=1)\n",
    "plt.title('Correlation Matrix Heatmap for Encoded Categorical Data')\n",
    "plt.show()"
   ]
  },
  {
   "cell_type": "code",
   "execution_count": null,
   "metadata": {
    "scrolled": true
   },
   "outputs": [],
   "source": [
    "# Sample a subset of the data\n",
    "df_sample = df.sample(n=10)  # Adjust the sample size as needed\n",
    "\n",
    "# Create a contingency table with the sample\n",
    "contingency_table = pd.crosstab(df_sample['ASBH02A'], df_sample['avgscore'])\n",
    "\n",
    "# Plot the heatmap with the sample\n",
    "plt.figure(figsize=(8, 6))\n",
    "sns.heatmap(contingency_table, annot=False, cmap='coolwarm')\n",
    "plt.title('Heatmap of Frequency Counts')\n",
    "plt.show()"
   ]
  }
 ],
 "metadata": {
  "kernelspec": {
   "display_name": "Python 3",
   "language": "python",
   "name": "python3"
  },
  "language_info": {
   "codemirror_mode": {
    "name": "ipython",
    "version": 3
   },
   "file_extension": ".py",
   "mimetype": "text/x-python",
   "name": "python",
   "nbconvert_exporter": "python",
   "pygments_lexer": "ipython3",
   "version": "3.7.6"
  }
 },
 "nbformat": 4,
 "nbformat_minor": 4
}
