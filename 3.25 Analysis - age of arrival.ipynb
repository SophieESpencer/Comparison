{
 "cells": [
  {
   "cell_type": "code",
   "execution_count": 1,
   "metadata": {
    "scrolled": false
   },
   "outputs": [],
   "source": [
    "import pandas as pd\n",
    "import numpy as np\n",
    "import matplotlib.pyplot as plt\n",
    "import seaborn as sns\n",
    "pd.set_option(\"display.max_columns\", None)\n",
    "pd.set_option(\"display.max_rows\", None)"
   ]
  },
  {
   "cell_type": "code",
   "execution_count": 2,
   "metadata": {},
   "outputs": [],
   "source": [
    "df= pd.read_excel('cleandata109.xlsx', index_col= 0)"
   ]
  },
  {
   "cell_type": "code",
   "execution_count": 3,
   "metadata": {},
   "outputs": [],
   "source": [
    "identifier_columns = ['Country','ASBH02A','avgscore']\n",
    "demographic_info_columns = ['ASBH02B', 'ASBH03A', 'ASBH04', 'ASBH15A', 'ASBH15B', 'ASBH16', 'ASBH17A', 'ASBH17B', 'ASBH18AA', 'ASBH18AB', 'ASBG01', 'ASBG03', 'ASDAGE','MINAGEARRIVAL' ]\n",
    "positive_feelings_in_school = ['ASBG10A', 'ASBG10B','ASBG10C', 'ASBG10D', 'ASBG10E', 'ASBG10F']\n",
    "negativeexperience_in_school_columns = ['ASBG11A', 'ASBG11B', 'ASBG11C', 'ASBG11D', 'ASBG11E', 'ASBG11F', 'ASBG11G', 'ASBG11H', 'ASBG11I', 'ASBG11J']\n",
    "assessment_score_columns = ['ASRREA01', 'ASRREA02', 'ASRREA03', 'ASRREA04', 'ASRREA05', 'ASRLIT01', 'ASRLIT02', 'ASRLIT03', 'ASRLIT04', 'ASRLIT05', 'ASRINF01', 'ASRINF02', 'ASRINF03', 'ASRINF04', 'ASRINF05', 'ASRIIE01', 'ASRIIE02', 'ASRIIE03', 'ASRIIE04', 'ASRIIE05', 'ASRRSI01', 'ASRRSI02', 'ASRRSI03', 'ASRRSI04', 'ASRRSI05']\n",
    "averages = ['reading_avg', 'literary_purpose_avg', 'informational_purpose_avg','interpreting_process_avg', 'straightforward_process_avg','avgscore']"
   ]
  },
  {
   "cell_type": "code",
   "execution_count": 4,
   "metadata": {},
   "outputs": [],
   "source": [
    "df['avgscore'] = df[positive_feelings_in_school].mean(axis=1)"
   ]
  },
  {
   "cell_type": "markdown",
   "metadata": {},
   "source": [
    "## Minimum age of arrival"
   ]
  },
  {
   "cell_type": "markdown",
   "metadata": {},
   "source": [
    "Now I want to see how age of arrival affects average score. I need to first clean the minagearrival column - adding 'NA' for those who were born in country"
   ]
  },
  {
   "cell_type": "code",
   "execution_count": 5,
   "metadata": {},
   "outputs": [
    {
     "data": {
      "text/plain": [
       "NaN    38671\n",
       "0.0     1110\n",
       "3.0      852\n",
       "6.0      483\n",
       "8.0      249\n",
       "Name: MINAGEARRIVAL, dtype: int64"
      ]
     },
     "execution_count": 5,
     "metadata": {},
     "output_type": "execute_result"
    }
   ],
   "source": [
    "df['MINAGEARRIVAL'].value_counts(dropna=False)"
   ]
  },
  {
   "cell_type": "code",
   "execution_count": 6,
   "metadata": {},
   "outputs": [],
   "source": [
    "df['MINAGEARRIVAL'] = df['MINAGEARRIVAL'].fillna(-1.0)"
   ]
  },
  {
   "cell_type": "code",
   "execution_count": 7,
   "metadata": {},
   "outputs": [
    {
     "data": {
      "text/plain": [
       "-1.0    38671\n",
       " 0.0     1110\n",
       " 3.0      852\n",
       " 6.0      483\n",
       " 8.0      249\n",
       "Name: MINAGEARRIVAL, dtype: int64"
      ]
     },
     "execution_count": 7,
     "metadata": {},
     "output_type": "execute_result"
    }
   ],
   "source": [
    "df['MINAGEARRIVAL'].value_counts(dropna=False)"
   ]
  },
  {
   "cell_type": "code",
   "execution_count": 8,
   "metadata": {},
   "outputs": [],
   "source": [
    "pivot_minage = df.pivot_table(values='avgscore', index=['Country'],columns=['MINAGEARRIVAL'],dropna = False)"
   ]
  },
  {
   "cell_type": "code",
   "execution_count": 9,
   "metadata": {},
   "outputs": [
    {
     "data": {
      "text/html": [
       "<div>\n",
       "<style scoped>\n",
       "    .dataframe tbody tr th:only-of-type {\n",
       "        vertical-align: middle;\n",
       "    }\n",
       "\n",
       "    .dataframe tbody tr th {\n",
       "        vertical-align: top;\n",
       "    }\n",
       "\n",
       "    .dataframe thead th {\n",
       "        text-align: right;\n",
       "    }\n",
       "</style>\n",
       "<table border=\"1\" class=\"dataframe\">\n",
       "  <thead>\n",
       "    <tr style=\"text-align: right;\">\n",
       "      <th>MINAGEARRIVAL</th>\n",
       "      <th>-1.0</th>\n",
       "      <th>0.0</th>\n",
       "      <th>3.0</th>\n",
       "      <th>6.0</th>\n",
       "      <th>8.0</th>\n",
       "    </tr>\n",
       "    <tr>\n",
       "      <th>Country</th>\n",
       "      <th></th>\n",
       "      <th></th>\n",
       "      <th></th>\n",
       "      <th></th>\n",
       "      <th></th>\n",
       "    </tr>\n",
       "  </thead>\n",
       "  <tbody>\n",
       "    <tr>\n",
       "      <th>Austria</th>\n",
       "      <td>1.458053</td>\n",
       "      <td>1.443902</td>\n",
       "      <td>1.528927</td>\n",
       "      <td>1.476923</td>\n",
       "      <td>1.559887</td>\n",
       "    </tr>\n",
       "    <tr>\n",
       "      <th>Egypt</th>\n",
       "      <td>1.404495</td>\n",
       "      <td>1.479006</td>\n",
       "      <td>1.418519</td>\n",
       "      <td>1.741905</td>\n",
       "      <td>1.615278</td>\n",
       "    </tr>\n",
       "    <tr>\n",
       "      <th>France</th>\n",
       "      <td>1.593398</td>\n",
       "      <td>1.602564</td>\n",
       "      <td>1.665459</td>\n",
       "      <td>1.462585</td>\n",
       "      <td>1.533333</td>\n",
       "    </tr>\n",
       "    <tr>\n",
       "      <th>Germany</th>\n",
       "      <td>1.384632</td>\n",
       "      <td>1.446809</td>\n",
       "      <td>1.465128</td>\n",
       "      <td>1.555238</td>\n",
       "      <td>1.511538</td>\n",
       "    </tr>\n",
       "    <tr>\n",
       "      <th>Iran</th>\n",
       "      <td>NaN</td>\n",
       "      <td>NaN</td>\n",
       "      <td>NaN</td>\n",
       "      <td>NaN</td>\n",
       "      <td>NaN</td>\n",
       "    </tr>\n",
       "    <tr>\n",
       "      <th>Jordan</th>\n",
       "      <td>1.271527</td>\n",
       "      <td>1.264219</td>\n",
       "      <td>1.284843</td>\n",
       "      <td>1.261716</td>\n",
       "      <td>1.382051</td>\n",
       "    </tr>\n",
       "    <tr>\n",
       "      <th>Netherlands</th>\n",
       "      <td>1.334791</td>\n",
       "      <td>1.358974</td>\n",
       "      <td>1.406250</td>\n",
       "      <td>1.362963</td>\n",
       "      <td>1.200000</td>\n",
       "    </tr>\n",
       "    <tr>\n",
       "      <th>Sweden</th>\n",
       "      <td>1.474186</td>\n",
       "      <td>1.499383</td>\n",
       "      <td>1.482201</td>\n",
       "      <td>1.402252</td>\n",
       "      <td>1.526126</td>\n",
       "    </tr>\n",
       "    <tr>\n",
       "      <th>Turkey</th>\n",
       "      <td>NaN</td>\n",
       "      <td>NaN</td>\n",
       "      <td>NaN</td>\n",
       "      <td>NaN</td>\n",
       "      <td>NaN</td>\n",
       "    </tr>\n",
       "  </tbody>\n",
       "</table>\n",
       "</div>"
      ],
      "text/plain": [
       "MINAGEARRIVAL      -1.0       0.0       3.0       6.0       8.0\n",
       "Country                                                        \n",
       "Austria        1.458053  1.443902  1.528927  1.476923  1.559887\n",
       "Egypt          1.404495  1.479006  1.418519  1.741905  1.615278\n",
       "France         1.593398  1.602564  1.665459  1.462585  1.533333\n",
       "Germany        1.384632  1.446809  1.465128  1.555238  1.511538\n",
       "Iran                NaN       NaN       NaN       NaN       NaN\n",
       "Jordan         1.271527  1.264219  1.284843  1.261716  1.382051\n",
       "Netherlands    1.334791  1.358974  1.406250  1.362963  1.200000\n",
       "Sweden         1.474186  1.499383  1.482201  1.402252  1.526126\n",
       "Turkey              NaN       NaN       NaN       NaN       NaN"
      ]
     },
     "execution_count": 9,
     "metadata": {},
     "output_type": "execute_result"
    }
   ],
   "source": [
    "pivot_minage"
   ]
  },
  {
   "cell_type": "code",
   "execution_count": 10,
   "metadata": {},
   "outputs": [],
   "source": [
    "# Step 2: Calculate the mean score for each country\n",
    "country_mean_scores = pivot_minage.groupby(level='Country').mean()\n",
    "\n",
    "# If you want to sum the mean scores across all assessment columns (if there are multiple), you can do:\n",
    "country_mean_scores['MeanTotal'] = country_mean_scores.mean(axis=1)\n",
    "\n",
    "# Sort countries by total values\n",
    "sorted_countries_means = country_mean_scores.sort_values(by='MeanTotal', ascending=False).index\n",
    "\n",
    "### Create a custom sorter for ASBH02A\n",
    "## asbh02a_sorter = ['Yes', 'No']\n",
    "\n",
    "# Get the current index as a DataFrame for sorting\n",
    "index_df = pivot_minage.index.to_frame()\n",
    "\n",
    "# Rename the columns to avoid conflict\n",
    "index_df = index_df.rename(columns={'Country': 'Country_'})\n",
    "\n",
    "# Sort the DataFrame first by Country using the sorted_countries and then by ASBH02A using the custom sorter\n",
    "index_df['Country_'] = pd.Categorical(index_df['Country_'], categories=sorted_countries_means, ordered=True)\n",
    "##index_df['ASBH02A_'] = pd.Categorical(index_df['ASBH02A_'], categories=asbh02a_sorter, ordered=True)\n",
    "index_df = index_df.sort_values(by=['Country_'])\n",
    "\n",
    "# Reindex the pivot table using the sorted index\n",
    "sorted_pivot_df = pivot_minage.loc[index_df.index]"
   ]
  },
  {
   "cell_type": "code",
   "execution_count": 11,
   "metadata": {},
   "outputs": [
    {
     "data": {
      "image/png": "[encoded data removed]",
      "text/plain": [
       "<Figure size 720x576 with 2 Axes>"
      ]
     },
     "metadata": {
      "needs_background": "light"
     },
     "output_type": "display_data"
    }
   ],
   "source": [
    "# Plot the heat map\n",
    "plt.figure(figsize=(10, 8))\n",
    "sns.heatmap(sorted_pivot_df, annot=False, cmap='YlGnBu')\n",
    "plt.title('Mean score in School Heat Map Sorted by Country and age of arrival in the country')\n",
    "plt.show()"
   ]
  },
  {
   "cell_type": "markdown",
   "metadata": {},
   "source": [
    "Next steps - comparisons with bench marks - through line? \n",
    "Should compare reading scores with the benchmark and can also compare with previous years.\n",
    "If I get data from different dates maybe I can practice the time/date stuff. change asbh02a to immigrant/ non - immigrant"
   ]
  },
  {
   "cell_type": "markdown",
   "metadata": {},
   "source": [
    "Also practice making same graphics with otherprograms"
   ]
  },
  {
   "cell_type": "code",
   "execution_count": null,
   "metadata": {},
   "outputs": [],
   "source": []
  }
 ],
 "metadata": {
  "kernelspec": {
   "display_name": "Python 3",
   "language": "python",
   "name": "python3"
  },
  "language_info": {
   "codemirror_mode": {
    "name": "ipython",
    "version": 3
   },
   "file_extension": ".py",
   "mimetype": "text/x-python",
   "name": "python",
   "nbconvert_exporter": "python",
   "pygments_lexer": "ipython3",
   "version": "3.7.6"
  }
 },
 "nbformat": 4,
 "nbformat_minor": 4
}
