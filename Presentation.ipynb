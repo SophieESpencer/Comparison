{
 "cells": [
  {
   "cell_type": "code",
   "execution_count": null,
   "metadata": {},
   "outputs": [],
   "source": [
    "def rename_columns_for_presentation(df):\n",
    "    column_mapping = {\n",
    "        'col1': 'User_ID',\n",
    "        'col2': 'Transaction_Date',\n",
    "        'col3': 'Amount'\n",
    "    }\n",
    "    return df.rename(columns=column_mapping)\n",
    "\n",
    "df.rename(columns={'IDCNTRY': 'Country', \n",
    "                   'ASBH02A':'BornInCountry',\n",
    "                   'ASBH02B':'AgeArrival',\n",
    "                   'ASBH03A':'CountryLanguageBeforeSchool',\n",
    "                   'ASBH04':'CountryLanguageHome',\n",
    "                   'ASBH15A':'EducationParentA',\n",
    "                   'ASBH15B':'EducationParentB',\n",
    "                   'ASBH16':'EducationHope',\n",
    "                   'ASBH17A':'ParentAJob',\n",
    "                   'ASBH17B':'ParentBJob',\n",
    "                   'ASBH18AA':'ParentACountryLanguage',\n",
    "                   'ASBH18AB':'ParentBCountryLanguage'}, inplace=True)"
   ]
  }
 ],
 "metadata": {
  "kernelspec": {
   "display_name": "Python 3",
   "language": "python",
   "name": "python3"
  },
  "language_info": {
   "codemirror_mode": {
    "name": "ipython",
    "version": 3
   },
   "file_extension": ".py",
   "mimetype": "text/x-python",
   "name": "python",
   "nbconvert_exporter": "python",
   "pygments_lexer": "ipython3",
   "version": "3.7.6"
  }
 },
 "nbformat": 4,
 "nbformat_minor": 4
}
