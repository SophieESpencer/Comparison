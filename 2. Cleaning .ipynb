{
 "cells": [
  {
   "cell_type": "code",
   "execution_count": 28,
   "metadata": {
    "scrolled": false
   },
   "outputs": [],
   "source": [
    "import pandas as pd\n",
    "import numpy as np\n",
    "pd.set_option(\"display.max_columns\", None)\n",
    "pd.set_option(\"display.max_rows\", None)\n",
    "import matplotlib.pyplot as plt\n",
    "import seaborn as sns"
   ]
  },
  {
   "cell_type": "code",
   "execution_count": 29,
   "metadata": {
    "scrolled": true
   },
   "outputs": [
    {
     "name": "stdout",
     "output_type": "stream",
     "text": [
      "<class 'pandas.core.frame.DataFrame'>\n",
      "Int64Index: 41365 entries, 0 to 50364\n",
      "Data columns (total 56 columns):\n",
      " #   Column    Non-Null Count  Dtype  \n",
      "---  ------    --------------  -----  \n",
      " 0   Country   41365 non-null  object \n",
      " 1   IDSTUD    41365 non-null  int64  \n",
      " 2   ASBH02A   41365 non-null  object \n",
      " 3   ASBH02B   2694 non-null   float64\n",
      " 4   ASBH03A   40775 non-null  object \n",
      " 5   ASBH04    26888 non-null  float64\n",
      " 6   ASBH15A   23005 non-null  float64\n",
      " 7   ASBH15B   20263 non-null  float64\n",
      " 8   ASBH16    39885 non-null  float64\n",
      " 9   ASBH17A   14850 non-null  float64\n",
      " 10  ASBH17B   12612 non-null  float64\n",
      " 11  ASBH18AA  25767 non-null  float64\n",
      " 12  ASBH18AB  20840 non-null  float64\n",
      " 13  ASBG01    29510 non-null  float64\n",
      " 14  ASBG03    28438 non-null  float64\n",
      " 15  ASBG10A   28638 non-null  float64\n",
      " 16  ASBG10B   28451 non-null  float64\n",
      " 17  ASBG10C   28329 non-null  float64\n",
      " 18  ASBG10D   28259 non-null  float64\n",
      " 19  ASBG10E   28291 non-null  float64\n",
      " 20  ASBG10F   28349 non-null  float64\n",
      " 21  ASBG11A   28347 non-null  float64\n",
      " 22  ASBG11B   28215 non-null  float64\n",
      " 23  ASBG11C   28102 non-null  float64\n",
      " 24  ASBG11D   28050 non-null  float64\n",
      " 25  ASBG11E   28073 non-null  float64\n",
      " 26  ASBG11F   28236 non-null  float64\n",
      " 27  ASBG11G   28177 non-null  float64\n",
      " 28  ASBG11H   28159 non-null  float64\n",
      " 29  ASBG11I   28132 non-null  float64\n",
      " 30  ASBG11J   28125 non-null  float64\n",
      " 31  ASRREA01  41365 non-null  float64\n",
      " 32  ASRREA02  41365 non-null  float64\n",
      " 33  ASRREA03  41365 non-null  float64\n",
      " 34  ASRREA04  41365 non-null  float64\n",
      " 35  ASRREA05  41365 non-null  float64\n",
      " 36  ASRLIT01  41365 non-null  float64\n",
      " 37  ASRLIT02  41365 non-null  float64\n",
      " 38  ASRLIT03  41365 non-null  float64\n",
      " 39  ASRLIT04  41365 non-null  float64\n",
      " 40  ASRLIT05  41365 non-null  float64\n",
      " 41  ASRINF01  41365 non-null  float64\n",
      " 42  ASRINF02  41365 non-null  float64\n",
      " 43  ASRINF03  41365 non-null  float64\n",
      " 44  ASRINF04  41365 non-null  float64\n",
      " 45  ASRINF05  41365 non-null  float64\n",
      " 46  ASRIIE01  41365 non-null  float64\n",
      " 47  ASRIIE02  41365 non-null  float64\n",
      " 48  ASRIIE03  41365 non-null  float64\n",
      " 49  ASRIIE04  41365 non-null  float64\n",
      " 50  ASRIIE05  41365 non-null  float64\n",
      " 51  ASRRSI01  41365 non-null  float64\n",
      " 52  ASRRSI02  41365 non-null  float64\n",
      " 53  ASRRSI03  41365 non-null  float64\n",
      " 54  ASRRSI04  41365 non-null  float64\n",
      " 55  ASRRSI05  41365 non-null  float64\n",
      "dtypes: float64(52), int64(1), object(3)\n",
      "memory usage: 18.0+ MB\n"
     ]
    }
   ],
   "source": [
    "df= pd.read_excel('cleandata198.xlsx', index_col=0)\n",
    "df.info()"
   ]
  },
  {
   "cell_type": "markdown",
   "metadata": {},
   "source": [
    "I am interested in understanding the extent of missing data in my data set and where this data is present. I am going to use heatmaps to get a better idea of this."
   ]
  },
  {
   "cell_type": "code",
   "execution_count": 30,
   "metadata": {
    "scrolled": true
   },
   "outputs": [],
   "source": [
    "# Perform the Groupby Operation\n",
    "grouped = df.groupby('Country')"
   ]
  },
  {
   "cell_type": "code",
   "execution_count": 31,
   "metadata": {
    "scrolled": true
   },
   "outputs": [
    {
     "name": "stdout",
     "output_type": "stream",
     "text": [
      "Country\n",
      "Austria        4476\n",
      "Egypt          7354\n",
      "France         4768\n",
      "Germany        2515\n",
      "Iran           5840\n",
      "Jordan         5801\n",
      "Netherlands    2026\n",
      "Sweden         2989\n",
      "Turkey         5596\n",
      "dtype: int64\n"
     ]
    }
   ],
   "source": [
    "country_sizes = grouped.size()\n",
    "print(country_sizes)"
   ]
  },
  {
   "cell_type": "code",
   "execution_count": 32,
   "metadata": {
    "scrolled": true
   },
   "outputs": [
    {
     "data": {
      "image/png": "[encoded data removed]",
      "text/plain": [
       "<Figure size 720x432 with 2 Axes>"
      ]
     },
     "metadata": {
      "needs_background": "light"
     },
     "output_type": "display_data"
    }
   ],
   "source": [
    "# Aggregate with isnull\n",
    "missing_values = grouped.apply(lambda x: x.isnull().sum())\n",
    "\n",
    "# Create the Heatmap\n",
    "plt.figure(figsize=(10, 6))\n",
    "sns.heatmap(missing_values, annot=False, cmap='viridis', cbar=True)\n",
    "plt.title('Heatmap of Missing Values by Country')\n",
    "plt.show()"
   ]
  },
  {
   "cell_type": "markdown",
   "metadata": {},
   "source": [
    "This is still quite difficult to read so I want to break it down even more and look at missing values for the columns that are not pertaining to assessment as these seem to not contain any missing values."
   ]
  },
  {
   "cell_type": "code",
   "execution_count": 33,
   "metadata": {},
   "outputs": [],
   "source": [
    "identifier_columns = ['Country', 'IDSTUD']\n",
    "demographic_info_columns = ['ASBH02A', 'ASBH02B', 'ASBH03A', 'ASBH04', 'ASBH15A', 'ASBH15B', 'ASBH16', 'ASBH17A', 'ASBH17B', 'ASBH18AA', 'ASBH18AB', 'ASBG01', 'ASBG03']\n",
    "experience_in_school_columns = ['ASBG10A', 'ASBG10B','ASBG10C', 'ASBG10D', 'ASBG10E', 'ASBG10F', 'ASBG11A', 'ASBG11B', 'ASBG11C', 'ASBG11D', 'ASBG11E', 'ASBG11F', 'ASBG11G', 'ASBG11H', 'ASBG11I', 'ASBG11J']\n",
    "assessment_score_columns = ['ASRREA01', 'ASRREA02', 'ASRREA03', 'ASRREA04', 'ASRREA05', 'ASRLIT01', 'ASRLIT02', 'ASRLIT03', 'ASRLIT04', 'ASRLIT05', 'ASRINF01', 'ASRINF02', 'ASRINF03', 'ASRINF04', 'ASRINF05', 'ASRIIE01', 'ASRIIE02', 'ASRIIE03', 'ASRIIE04', 'ASRIIE05', 'ASRRSI01', 'ASRRSI02', 'ASRRSI03', 'ASRRSI04', 'ASRRSI05']"
   ]
  },
  {
   "cell_type": "code",
   "execution_count": 34,
   "metadata": {
    "scrolled": true
   },
   "outputs": [
    {
     "data": {
      "image/png": "[encoded data removed]",
      "text/plain": [
       "<Figure size 864x576 with 2 Axes>"
      ]
     },
     "metadata": {
      "needs_background": "light"
     },
     "output_type": "display_data"
    }
   ],
   "source": [
    "# Select the columns from the DataFrame\n",
    "non_assessment_columns = identifier_columns + demographic_info_columns + experience_in_school_columns\n",
    "df_selected = df[non_assessment_columns]\n",
    "\n",
    "# Perform the Groupby Operation\n",
    "grouped_selection = df_selected.groupby('Country')\n",
    "\n",
    "# Aggregate with isnull\n",
    "missing_values_selection = grouped_selection.apply(lambda x: x.isnull().sum())\n",
    "\n",
    "# Create the Heatmap\n",
    "plt.figure(figsize=(12, 8))\n",
    "heatmap = sns.heatmap(missing_values_selection, annot=False, cmap='viridis', cbar=True)\n",
    "# Rotate the column names\n",
    "heatmap.set_xticklabels(heatmap.get_xticklabels(), rotation=45, ha='right')\n",
    "plt.tight_layout()  # Adjust layout to make room for labels\n",
    "plt.title('Heatmap of Missing Values by Country')\n",
    "plt.show()"
   ]
  },
  {
   "cell_type": "markdown",
   "metadata": {},
   "source": [
    "There is a clear disparancy here between two groups of columns and I want to explore this in more detail. The first group of columns pertains to demographic information and the second group pertains to childrens' experience at school."
   ]
  },
  {
   "cell_type": "code",
   "execution_count": 35,
   "metadata": {
    "scrolled": true
   },
   "outputs": [
    {
     "data": {
      "image/png": "[encoded data removed]",
      "text/plain": [
       "<Figure size 864x576 with 2 Axes>"
      ]
     },
     "metadata": {
      "needs_background": "light"
     },
     "output_type": "display_data"
    }
   ],
   "source": [
    "df_demographic = df[identifier_columns + demographic_info_columns]\n",
    "\n",
    "# Perform the Groupby Operation\n",
    "grouped_selection_demographic = df_demographic.groupby('Country')\n",
    "\n",
    "# Aggregate with isnull\n",
    "missing_values_demographic = grouped_selection_demographic.apply(lambda x: x.isnull().sum())\n",
    "\n",
    "# Create the Heatmap\n",
    "plt.figure(figsize=(12, 8))\n",
    "demographicheatmap = sns.heatmap(missing_values_demographic, annot=False, cmap='viridis', cbar=True)\n",
    "\n",
    "plt.tight_layout()  # Adjust layout to make room for labels\n",
    "plt.title('Heatmap of Missing Values by Country (Demographics)')\n",
    "plt.show()"
   ]
  },
  {
   "cell_type": "markdown",
   "metadata": {},
   "source": [
    "**Egypt** is missing all of **ASBH02B** which is the age of the child when they came to the country and therefore the minimum age of arrival. It seems that **Turkey** and **Iran** are also missing quite a lot of demographic data pertaining to the level of education of parents and their jobs. Also **ASBG01** and **03** which is the sex and how often the language of the test is spoken at home. "
   ]
  },
  {
   "cell_type": "markdown",
   "metadata": {},
   "source": [
    "Now let's look at the experience in school columns in more detail."
   ]
  },
  {
   "cell_type": "code",
   "execution_count": 36,
   "metadata": {
    "scrolled": true
   },
   "outputs": [
    {
     "data": {
      "image/png": "[encoded data removed]",
      "text/plain": [
       "<Figure size 864x576 with 2 Axes>"
      ]
     },
     "metadata": {
      "needs_background": "light"
     },
     "output_type": "display_data"
    }
   ],
   "source": [
    "df_experience = df[identifier_columns + experience_in_school_columns]\n",
    "\n",
    "# Perform the Groupby Operation\n",
    "grouped_selection_experience = df_experience.groupby('Country')\n",
    "\n",
    "# Aggregate with isnull\n",
    "missing_values_experience = grouped_selection_experience.apply(lambda x: x.isnull().sum())\n",
    "\n",
    "# Create the Heatmap\n",
    "plt.figure(figsize=(12, 8))\n",
    "experienceheatmap = sns.heatmap(missing_values_experience, annot=False, cmap='viridis', cbar=True)\n",
    "\n",
    "plt.tight_layout()  # Adjust layout to make room for labels\n",
    "plt.title('Heatmap of Missing Values by Country (Experience Columns)')\n",
    "plt.show()"
   ]
  },
  {
   "cell_type": "markdown",
   "metadata": {},
   "source": [
    "So both **Iran** and **Turkey** are missing all data on experiences of children in school, which is a shame. However it would be nice to compare childrens experiences across the other countries. **I want a pivot table like the ones above but with the experiences columns instead of literacy scores, etc.**"
   ]
  },
  {
   "cell_type": "markdown",
   "metadata": {},
   "source": [
    "I want to explore these gaps in the Iran and Turkey data a little more. However, first I am going to look at **Egypt** in more detail. The total number of rows for **Egypt** is 7354. This is helpful to see how many values are missing across the columns."
   ]
  },
  {
   "cell_type": "code",
   "execution_count": 37,
   "metadata": {
    "scrolled": true
   },
   "outputs": [
    {
     "name": "stdout",
     "output_type": "stream",
     "text": [
      "Country        0\n",
      "IDSTUD         0\n",
      "ASBH02A        0\n",
      "ASBH02B     7134\n",
      "ASBH03A      179\n",
      "ASBH04       194\n",
      "ASBH15A     2114\n",
      "ASBH15B     3280\n",
      "ASBH16       180\n",
      "ASBH17A     3196\n",
      "ASBH17B     4342\n",
      "ASBH18AA     766\n",
      "ASBH18AB    2983\n",
      "ASBG01        95\n",
      "ASBG03       925\n",
      "Name: Egypt, dtype: int64\n"
     ]
    }
   ],
   "source": [
    "missing_values_for_egypt = missing_values_demographic.loc['Egypt']\n",
    "print(missing_values_for_egypt)"
   ]
  },
  {
   "cell_type": "markdown",
   "metadata": {},
   "source": [
    "Now I want to explore if the child's immigrant status in each country plays a role in data being missing. Let's first start by understanding how many children are in each group for each country."
   ]
  },
  {
   "cell_type": "code",
   "execution_count": 38,
   "metadata": {
    "scrolled": true
   },
   "outputs": [
    {
     "name": "stdout",
     "output_type": "stream",
     "text": [
      "Country         \n",
      "Austria      Yes    4025\n",
      "             No      451\n",
      "Egypt        Yes    7071\n",
      "             No      283\n",
      "France       Yes    4526\n",
      "             No      242\n",
      "Germany      Yes    2317\n",
      "             No      198\n",
      "Iran         Yes    5720\n",
      "             No      120\n",
      "Jordan       Yes    4822\n",
      "             No      979\n",
      "Netherlands  Yes    1947\n",
      "             No       79\n",
      "Sweden       Yes    2681\n",
      "             No      308\n",
      "Turkey       Yes    5366\n",
      "             No      230\n",
      "Name: ASBH02A, dtype: int64\n"
     ]
    }
   ],
   "source": [
    "# Apply value_counts() to the 'ASBH02A' column for each group\n",
    "value_counts_per_group = grouped['ASBH02A'].apply(lambda x: x.value_counts(dropna=False))\n",
    "\n",
    "print(value_counts_per_group)"
   ]
  },
  {
   "cell_type": "markdown",
   "metadata": {},
   "source": [
    "Now let's created a pivot table to understand how country and immigrant status affect the number of missing values. "
   ]
  },
  {
   "cell_type": "code",
   "execution_count": 39,
   "metadata": {
    "scrolled": true
   },
   "outputs": [],
   "source": [
    "pivot_table_test = df_selected.pivot_table(\n",
    "    index=['Country','ASBH02A'],\n",
    "    aggfunc=lambda x: x.isnull().sum(),\n",
    ")"
   ]
  },
  {
   "cell_type": "code",
   "execution_count": 40,
   "metadata": {
    "scrolled": true
   },
   "outputs": [
    {
     "name": "stdout",
     "output_type": "stream",
     "text": [
      "                     ASBG01  ASBG03  ASBG10A  ASBG10B  ASBG10C  ASBG10D  \\\n",
      "Country     ASBH02A                                                       \n",
      "Austria     No            0       4        2        4        8        6   \n",
      "            Yes           6      21       32       40       49       69   \n",
      "Egypt       No            4      39       35       45       48       47   \n",
      "            Yes          91     886      623      740      779      807   \n",
      "France      No            6       7        6        9       10        8   \n",
      "            Yes          90      96      110      128      119      139   \n",
      "Germany     No           23      24       24       29       26       32   \n",
      "            Yes         147     167      158      168      180      178   \n",
      "Iran        No          120     120      120      120      120      120   \n",
      "            Yes        5720    5720     5720     5720     5720     5720   \n",
      "Jordan      No            2      21       31       40       47       55   \n",
      "            Yes           7     156      191      189      225      236   \n",
      "Netherlands No            1       1        1        1        2        1   \n",
      "            Yes          17      23       34       34       41       34   \n",
      "Sweden      No            5       6       10       15       18       14   \n",
      "            Yes          20      40       34       36       48       44   \n",
      "Turkey      No          230     230      230      230      230      230   \n",
      "            Yes        5366    5366     5366     5366     5366     5366   \n",
      "\n",
      "                     ASBG10E  ASBG10F  ASBG11A  ASBG11B  ASBG11C  ASBG11D  \\\n",
      "Country     ASBH02A                                                         \n",
      "Austria     No             6        5        5        6        8       12   \n",
      "            Yes           43       35       54       63       69       84   \n",
      "Egypt       No            47       49       41       46       43       46   \n",
      "            Yes          814      763      712      793      845      870   \n",
      "France      No             7        8        6        7        8        8   \n",
      "            Yes          126      104      112      122      125      136   \n",
      "Germany     No            30       31       28       32       29       32   \n",
      "            Yes          182      197      194      208      208      214   \n",
      "Iran        No           120      120      120      120      120      120   \n",
      "            Yes         5720     5720     5720     5720     5720     5720   \n",
      "Jordan      No            47       38       51       47       57       46   \n",
      "            Yes          229      245      266      251      282      251   \n",
      "Netherlands No             1        1        2        1        2        2   \n",
      "            Yes           32       33       52       56       69       75   \n",
      "Sweden      No            21       12       11       15       19       21   \n",
      "            Yes           53       59       48       67       63       82   \n",
      "Turkey      No           230      230      230      230      230      230   \n",
      "            Yes         5366     5366     5366     5366     5366     5366   \n",
      "\n",
      "                     ASBG11E  ASBG11F  ASBG11G  ASBG11H  ASBG11I  ASBG11J  \\\n",
      "Country     ASBH02A                                                         \n",
      "Austria     No             5        5        3        5        2        5   \n",
      "            Yes           59       56       52       59       43       48   \n",
      "Egypt       No            42       45       50       47       49       47   \n",
      "            Yes          867      849      884      906      905      869   \n",
      "France      No             7        8        7        9        7        7   \n",
      "            Yes          124      125      138      133      125      125   \n",
      "Germany     No            33       26       29       31       31       31   \n",
      "            Yes          255      189      191      197      215      234   \n",
      "Iran        No           120      120      120      120      120      120   \n",
      "            Yes         5720     5720     5720     5720     5720     5720   \n",
      "Jordan      No            40       46       44       41       49       37   \n",
      "            Yes          238      225      227      221      239      239   \n",
      "Netherlands No             1        1        1        1        2        1   \n",
      "            Yes           69       66       62       51       53       47   \n",
      "Sweden      No            26       12       15       15       18       19   \n",
      "            Yes           90       40       49       54       59       95   \n",
      "Turkey      No           230      230      230      230      230      230   \n",
      "            Yes         5366     5366     5366     5366     5366     5366   \n",
      "\n",
      "                     ASBH02B  ASBH03A  ASBH04  ASBH15A  ASBH15B  ASBH16  \\\n",
      "Country     ASBH02A                                                       \n",
      "Austria     No             3       11       1       75       63      36   \n",
      "            Yes         4025       38      40      247      208     219   \n",
      "Egypt       No            63       27      15      133      174      29   \n",
      "            Yes         7071      152     179     1981     3106     151   \n",
      "France      No            16        5       6       64       88      40   \n",
      "            Yes         4526      167     158      336      752     434   \n",
      "Germany     No             2        0     198      198      198       0   \n",
      "            Yes         2317        0    2317     2317     2317       0   \n",
      "Iran        No            30        0     120      120      120       0   \n",
      "            Yes         5720        0    5720     5720     5720       0   \n",
      "Jordan      No            66       29       8      214      388      81   \n",
      "            Yes         4822      118      81     1021     1848     246   \n",
      "Netherlands No             8        2       0        6        8       5   \n",
      "            Yes         1947        9      16       56      122      97   \n",
      "Sweden      No             5        8       4       66       84      37   \n",
      "            Yes         2681       24      18      210      310     105   \n",
      "Turkey      No             3        0     230      230      230       0   \n",
      "            Yes         5366        0    5366     5366     5366       0   \n",
      "\n",
      "                     ASBH17A  ASBH17B  ASBH18AA  ASBH18AB  IDSTUD  \n",
      "Country     ASBH02A                                                \n",
      "Austria     No           272      294        30        13       0  \n",
      "            Yes         1959     1981       192        79       0  \n",
      "Egypt       No           165      197        37       140       0  \n",
      "            Yes         3031     4145       729      2843       0  \n",
      "France      No           105      129        17        65       0  \n",
      "            Yes         1757     1939       101       600       0  \n",
      "Germany     No           198      198       198       198       0  \n",
      "            Yes         2317     2317      2317      2317       0  \n",
      "Iran        No           120      120       120       120       0  \n",
      "            Yes         5720     5720      5720      5720       0  \n",
      "Jordan      No           504      646        77       408       0  \n",
      "            Yes         2333     3160       400      2014       0  \n",
      "Netherlands No            29       37         2        12       0  \n",
      "            Yes          795      768         9       138       0  \n",
      "Sweden      No           153      165        14        58       0  \n",
      "            Yes         1461     1341        39       204       0  \n",
      "Turkey      No           230      230       230       230       0  \n",
      "            Yes         5366     5366      5366      5366       0  \n"
     ]
    }
   ],
   "source": [
    "print(pivot_table_test)"
   ]
  },
  {
   "cell_type": "code",
   "execution_count": null,
   "metadata": {
    "scrolled": true
   },
   "outputs": [],
   "source": [
    "column_order= ['ASBH02B', 'ASBH03A', 'ASBH04', 'ASBH15A', 'ASBH15B', 'ASBH16', 'ASBH17A', 'ASBH17B', 'ASBH18AA', 'ASBH18AB', 'ASBG01', 'ASBG03','MINAGEARRIVAL', 'rounded_ages','ASBG10C', 'ASBG10D', 'ASBG10E', 'ASBG10F', 'ASBG11A', 'ASBG11B', 'ASBG11C', 'ASBG11D', 'ASBG11E', 'ASBG11F', 'ASBG11G', 'ASBG11H', 'ASBG11I', 'ASBG11J']"
   ]
  },
  {
   "cell_type": "code",
   "execution_count": null,
   "metadata": {
    "scrolled": true
   },
   "outputs": [],
   "source": [
    "pivot_table_test = pivot_table_test.reindex(column_order, axis=1)"
   ]
  },
  {
   "cell_type": "code",
   "execution_count": null,
   "metadata": {
    "scrolled": true
   },
   "outputs": [],
   "source": [
    "print(pivot_table_test)"
   ]
  },
  {
   "cell_type": "code",
   "execution_count": 41,
   "metadata": {
    "scrolled": false
   },
   "outputs": [
    {
     "data": {
      "image/png": "[encoded data removed]",
      "text/plain": [
       "<Figure size 864x576 with 2 Axes>"
      ]
     },
     "metadata": {
      "needs_background": "light"
     },
     "output_type": "display_data"
    }
   ],
   "source": [
    "# Create the Heatmap\n",
    "plt.figure(figsize=(12, 8))\n",
    "heatmap_test = sns.heatmap(pivot_table_test, annot=False, cmap='viridis', cbar=True)\n",
    "# Rotate the column names\n",
    "##heatmap_test.set_xticklabels(heatmap.get_xticklabels(), rotation=45, ha='right')\n",
    "plt.tight_layout()  # Adjust layout to make room for labels\n",
    "plt.title('Heatmap of Missing Values by Country and Immigration Status')\n",
    "plt.show()"
   ]
  },
  {
   "cell_type": "code",
   "execution_count": null,
   "metadata": {},
   "outputs": [],
   "source": [
    "ASBH02A\tGEN\\CHILD BORN IN <COUNTRY>\n",
    "ASBH02B\tGEN\\AGE OF CHILD WHEN CAME TO <COUNTRY>\n",
    "ASBH03A\tGEN\\LANGUAGE\\<LANGUAGE OF TEST>\n",
    "ASBH04\tGEN\\HOW OFTEN <LANG OF TEST> AT HOME\n",
    "ASBH15A\tGEN\\LVL OF EDUCATION\\GUARDIAN A\n",
    "ASBH15B\tGEN\\LVL OF EDUCATION\\GUARDIAN B\n",
    "ASBH16\tGEN\\LVL OF EDUCATION\\CHILD\n",
    "ASBH17A\tGEN\\WHAT KIND OF MAIN JOB\\GUARDIAN A\n",
    "ASBH17B\tGEN\\WHAT KIND OF MAIN JOB\\GUARDIAN B\n",
    "ASBH18AA\tGEN\\LANGUAGE SPOKEN\\<LANGUAGE OF TEST>\\GUARDIAN A\n",
    "ASBH18AB\tGEN\\LANGUAGE SPOKEN\\<LANGUAGE OF TEST>\\GUARDIAN B\n",
    "ASBH18BA\tGEN\\LANGUAGE SPOKEN\\<COUNTRY-SPECIFIC>\\GUARDIAN A\n",
    "ASBH18BB\tGEN\\LANGUAGE SPOKEN\\<COUNTRY-SPECIFIC>\\GUARDIAN B\n",
    "ASBG01\tGEN\\SEX OF STUDENT\n",
    "ASBG03\tGEN\\OFTEN SPEAK <LANG OF TEST> AT HOME\n",
    "ASBG10C\tGEN\\AGREE\\BELONG AT SCHOOL\n",
    "ASBG10D\tGEN\\AGREE\\TEACHERS ARE FAIR\n",
    "ASBG10E\tGEN\\AGREE\\PROUD TO GO TO SCHOOL\n",
    "ASBG10F\tGEN\\AGREE\\FRIENDS AT SCHOOL\n",
    "ASBG11A\tGEN\\HOW OFTEN\\MADE FUN OF\n",
    "ASBG11B\tGEN\\HOW OFTEN\\LEFT OUT OF GAMES\n",
    "ASBG11C\tGEN\\HOW OFTEN\\SPREADING LIES ABOUT ME\n",
    "ASBG11D\tGEN\\HOW OFTEN\\STEALING STH FROM ME\n",
    "ASBG11E\tGEN\\HOW OFTEN\\DAMAGED STH OF MINE\n",
    "ASBG11F\tGEN\\HOW OFTEN\\HIT OR HURT ME\n",
    "ASBG11G\tGEN\\HOW OFTEN\\MADE ME DO\n",
    "ASBG11H\tGEN\\HOW OFTEN\\NASTY OF HURTFUL MESSAGES\n",
    "ASBG11I\tGEN\\HOW OFTEN\\NASTY OF HURTFUL INFO\n",
    "ASBG11J\tGEN\\HOW OFTEN\\THREATENED ME\""
   ]
  },
  {
   "cell_type": "markdown",
   "metadata": {},
   "source": [
    "There does not seem to be more gaps in the data for those who are not born in the countries where they have taken the test (ASBH02A == No). So that's good. "
   ]
  },
  {
   "cell_type": "markdown",
   "metadata": {},
   "source": [
    "We need to be careful as I'm not sure if the heatmap is showing the colours as percentage of possible values or as total values (Some countries will have less possible values than others)"
   ]
  },
  {
   "cell_type": "code",
   "execution_count": 42,
   "metadata": {
    "scrolled": true
   },
   "outputs": [
    {
     "name": "stdout",
     "output_type": "stream",
     "text": [
      "Pivot Table with Percentage of Missing Values:\n",
      "                          ASBG01      ASBG03     ASBG10A     ASBG10B  \\\n",
      "Country     ASBH02A                                                   \n",
      "Austria     No         0.000000    0.886918    0.443459    0.886918   \n",
      "            Yes        0.149068    0.521739    0.795031    0.993789   \n",
      "Egypt       No         1.413428   13.780919   12.367491   15.901060   \n",
      "            Yes        1.286947   12.530052    8.810635   10.465281   \n",
      "France      No         2.479339    2.892562    2.479339    3.719008   \n",
      "            Yes        1.988511    2.121078    2.430402    2.828104   \n",
      "Germany     No        11.616162   12.121212   12.121212   14.646465   \n",
      "            Yes        6.344411    7.207596    6.819163    7.250755   \n",
      "Iran        No       100.000000  100.000000  100.000000  100.000000   \n",
      "            Yes      100.000000  100.000000  100.000000  100.000000   \n",
      "Jordan      No         0.204290    2.145046    3.166496    4.085802   \n",
      "            Yes        0.145168    3.235172    3.961012    3.919535   \n",
      "Netherlands No         1.265823    1.265823    1.265823    1.265823   \n",
      "            Yes        0.873138    1.181305    1.746276    1.746276   \n",
      "Sweden      No         1.623377    1.948052    3.246753    4.870130   \n",
      "            Yes        0.745990    1.491981    1.268184    1.342783   \n",
      "Turkey      No       100.000000  100.000000  100.000000  100.000000   \n",
      "            Yes      100.000000  100.000000  100.000000  100.000000   \n",
      "\n",
      "                        ASBG10C     ASBG10D     ASBG10E     ASBG10F  \\\n",
      "Country     ASBH02A                                                   \n",
      "Austria     No         1.773836    1.330377    1.330377    1.108647   \n",
      "            Yes        1.217391    1.714286    1.068323    0.869565   \n",
      "Egypt       No        16.961131   16.607774   16.607774   17.314488   \n",
      "            Yes       11.016829   11.412813   11.511809   10.790553   \n",
      "France      No         4.132231    3.305785    2.892562    3.305785   \n",
      "            Yes        2.629253    3.071144    2.783915    2.297835   \n",
      "Germany     No        13.131313   16.161616   15.151515   15.656566   \n",
      "            Yes        7.768666    7.682348    7.854985    8.502374   \n",
      "Iran        No       100.000000  100.000000  100.000000  100.000000   \n",
      "            Yes      100.000000  100.000000  100.000000  100.000000   \n",
      "Jordan      No         4.800817    5.617978    4.800817    3.881512   \n",
      "            Yes        4.666114    4.894235    4.749067    5.080879   \n",
      "Netherlands No         2.531646    1.265823    1.265823    1.265823   \n",
      "            Yes        2.105804    1.746276    1.643554    1.694915   \n",
      "Sweden      No         5.844156    4.545455    6.818182    3.896104   \n",
      "            Yes        1.790377    1.641179    1.976874    2.200671   \n",
      "Turkey      No       100.000000  100.000000  100.000000  100.000000   \n",
      "            Yes      100.000000  100.000000  100.000000  100.000000   \n",
      "\n",
      "                        ASBG11A     ASBG11B     ASBG11C     ASBG11D  \\\n",
      "Country     ASBH02A                                                   \n",
      "Austria     No         1.108647    1.330377    1.773836    2.660754   \n",
      "            Yes        1.341615    1.565217    1.714286    2.086957   \n",
      "Egypt       No        14.487633   16.254417   15.194346   16.254417   \n",
      "            Yes       10.069297   11.214821   11.950219   12.303776   \n",
      "France      No         2.479339    2.892562    3.305785    3.305785   \n",
      "            Yes        2.474591    2.695537    2.761821    3.004861   \n",
      "Germany     No        14.141414   16.161616   14.646465   16.161616   \n",
      "            Yes        8.372896    8.977126    8.977126    9.236081   \n",
      "Iran        No       100.000000  100.000000  100.000000  100.000000   \n",
      "            Yes      100.000000  100.000000  100.000000  100.000000   \n",
      "Jordan      No         5.209397    4.800817    5.822268    4.698672   \n",
      "            Yes        5.516383    5.205309    5.848196    5.205309   \n",
      "Netherlands No         2.531646    1.265823    2.531646    2.531646   \n",
      "            Yes        2.670776    2.876220    3.543914    3.852080   \n",
      "Sweden      No         3.571429    4.870130    6.168831    6.818182   \n",
      "            Yes        1.790377    2.499068    2.349869    3.058560   \n",
      "Turkey      No       100.000000  100.000000  100.000000  100.000000   \n",
      "            Yes      100.000000  100.000000  100.000000  100.000000   \n",
      "\n",
      "                        ASBG11E     ASBG11F     ASBG11G     ASBG11H  \\\n",
      "Country     ASBH02A                                                   \n",
      "Austria     No         1.108647    1.108647    0.665188    1.108647   \n",
      "            Yes        1.465839    1.391304    1.291925    1.465839   \n",
      "Egypt       No        14.840989   15.901060   17.667845   16.607774   \n",
      "            Yes       12.261349   12.006788   12.501768   12.812898   \n",
      "France      No         2.892562    3.305785    2.892562    3.719008   \n",
      "            Yes        2.739726    2.761821    3.049050    2.938577   \n",
      "Germany     No        16.666667   13.131313   14.646465   15.656566   \n",
      "            Yes       11.005611    8.157100    8.243418    8.502374   \n",
      "Iran        No       100.000000  100.000000  100.000000  100.000000   \n",
      "            Yes      100.000000  100.000000  100.000000  100.000000   \n",
      "Jordan      No         4.085802    4.698672    4.494382    4.187947   \n",
      "            Yes        4.935711    4.666114    4.707590    4.583161   \n",
      "Netherlands No         1.265823    1.265823    1.265823    1.265823   \n",
      "            Yes        3.543914    3.389831    3.184386    2.619414   \n",
      "Sweden      No         8.441558    3.896104    4.870130    4.870130   \n",
      "            Yes        3.356956    1.491981    1.827676    2.014174   \n",
      "Turkey      No       100.000000  100.000000  100.000000  100.000000   \n",
      "            Yes      100.000000  100.000000  100.000000  100.000000   \n",
      "\n",
      "                        ASBG11I     ASBG11J     ASBH02B   ASBH03A      ASBH04  \\\n",
      "Country     ASBH02A                                                             \n",
      "Austria     No         0.443459    1.108647    0.665188  2.439024    0.221729   \n",
      "            Yes        1.068323    1.192547  100.000000  0.944099    0.993789   \n",
      "Egypt       No        17.314488   16.607774   22.261484  9.540636    5.300353   \n",
      "            Yes       12.798755   12.289634  100.000000  2.149625    2.531467   \n",
      "France      No         2.892562    2.892562    6.611570  2.066116    2.479339   \n",
      "            Yes        2.761821    2.761821  100.000000  3.689792    3.490941   \n",
      "Germany     No        15.656566   15.656566    1.010101  0.000000  100.000000   \n",
      "            Yes        9.279240   10.099266  100.000000  0.000000  100.000000   \n",
      "Iran        No       100.000000  100.000000   25.000000  0.000000  100.000000   \n",
      "            Yes      100.000000  100.000000  100.000000  0.000000  100.000000   \n",
      "Jordan      No         5.005107    3.779367    6.741573  2.962206    0.817160   \n",
      "            Yes        4.956450    4.956450  100.000000  2.447117    1.679801   \n",
      "Netherlands No         2.531646    1.265823   10.126582  2.531646    0.000000   \n",
      "            Yes        2.722137    2.413970  100.000000  0.462250    0.821777   \n",
      "Sweden      No         5.844156    6.168831    1.623377  2.597403    1.298701   \n",
      "            Yes        2.200671    3.543454  100.000000  0.895188    0.671391   \n",
      "Turkey      No       100.000000  100.000000    1.304348  0.000000  100.000000   \n",
      "            Yes      100.000000  100.000000  100.000000  0.000000  100.000000   \n",
      "\n",
      "                        ASBH15A     ASBH15B     ASBH16     ASBH17A  \\\n",
      "Country     ASBH02A                                                  \n",
      "Austria     No        16.629712   13.968958   7.982262   60.310421   \n",
      "            Yes        6.136646    5.167702   5.440994   48.670807   \n",
      "Egypt       No        46.996466   61.484099  10.247350   58.303887   \n",
      "            Yes       28.015839   43.925894   2.135483   42.865224   \n",
      "France      No        26.446281   36.363636  16.528926   43.388430   \n",
      "            Yes        7.423774   16.615113   9.589041   38.820150   \n",
      "Germany     No       100.000000  100.000000   0.000000  100.000000   \n",
      "            Yes      100.000000  100.000000   0.000000  100.000000   \n",
      "Iran        No       100.000000  100.000000   0.000000  100.000000   \n",
      "            Yes      100.000000  100.000000   0.000000  100.000000   \n",
      "Jordan      No        21.859040   39.632278   8.273749   51.481103   \n",
      "            Yes       21.173787   38.324347   5.101618   48.382414   \n",
      "Netherlands No         7.594937   10.126582   6.329114   36.708861   \n",
      "            Yes        2.876220    6.266050   4.982024   40.832049   \n",
      "Sweden      No        21.428571   27.272727  12.012987   49.675325   \n",
      "            Yes        7.832898   11.562850   3.916449   54.494592   \n",
      "Turkey      No       100.000000  100.000000   0.000000  100.000000   \n",
      "            Yes      100.000000  100.000000   0.000000  100.000000   \n",
      "\n",
      "                        ASBH17B    ASBH18AA    ASBH18AB  IDSTUD  \n",
      "Country     ASBH02A                                              \n",
      "Austria     No        65.188470    6.651885    2.882483     0.0  \n",
      "            Yes       49.217391    4.770186    1.962733     0.0  \n",
      "Egypt       No        69.611307   13.074205   49.469965     0.0  \n",
      "            Yes       58.619714   10.309716   40.206477     0.0  \n",
      "France      No        53.305785    7.024793   26.859504     0.0  \n",
      "            Yes       42.841361    2.231551   13.256739     0.0  \n",
      "Germany     No       100.000000  100.000000  100.000000     0.0  \n",
      "            Yes      100.000000  100.000000  100.000000     0.0  \n",
      "Iran        No       100.000000  100.000000  100.000000     0.0  \n",
      "            Yes      100.000000  100.000000  100.000000     0.0  \n",
      "Jordan      No        65.985700    7.865169   41.675179     0.0  \n",
      "            Yes       65.532974    8.295313   41.766902     0.0  \n",
      "Netherlands No        46.835443    2.531646   15.189873     0.0  \n",
      "            Yes       39.445300    0.462250    7.087827     0.0  \n",
      "Sweden      No        53.571429    4.545455   18.831169     0.0  \n",
      "            Yes       50.018650    1.454681    7.609101     0.0  \n",
      "Turkey      No       100.000000  100.000000  100.000000     0.0  \n",
      "            Yes      100.000000  100.000000  100.000000     0.0  \n"
     ]
    }
   ],
   "source": [
    "# Calculate the total number of elements in each group\n",
    "total_counts = df_selected.groupby(['Country','ASBH02A']).size()\n",
    "\n",
    "# Calculate the percentage of missing values\n",
    "percentage_missing = pivot_table_test.div(total_counts, axis=0) * 100\n",
    "\n",
    "print(\"Pivot Table with Percentage of Missing Values:\\n\", percentage_missing)"
   ]
  },
  {
   "cell_type": "code",
   "execution_count": 43,
   "metadata": {
    "scrolled": false
   },
   "outputs": [
    {
     "data": {
      "image/png": "[encoded data removed]",
      "text/plain": [
       "<Figure size 720x432 with 2 Axes>"
      ]
     },
     "metadata": {
      "needs_background": "light"
     },
     "output_type": "display_data"
    }
   ],
   "source": [
    "# Create the heatmap\n",
    "plt.figure(figsize=(10, 6))\n",
    "sns.heatmap(percentage_missing, annot=False, cmap='viridis', fmt='.2f')\n",
    "\n",
    "plt.title('Percentage of Missing Values Heatmap')\n",
    "plt.show()"
   ]
  },
  {
   "cell_type": "markdown",
   "metadata": {},
   "source": [
    "So **Iran** and **Turkey** have no experience data and **Germany** is also missing quite a few columns."
   ]
  },
  {
   "cell_type": "code",
   "execution_count": 44,
   "metadata": {
    "scrolled": true
   },
   "outputs": [
    {
     "data": {
      "text/plain": [
       "Country      ASBH02B\n",
       "Austria      NaN        4028\n",
       "             2.0         175\n",
       "             1.0         123\n",
       "             3.0          91\n",
       "             4.0          59\n",
       "Egypt        NaN        7134\n",
       "             1.0         113\n",
       "             2.0          42\n",
       "             3.0          40\n",
       "             4.0          25\n",
       "France       NaN        4542\n",
       "             1.0          81\n",
       "             2.0          71\n",
       "             3.0          49\n",
       "             4.0          25\n",
       "Germany      NaN        2319\n",
       "             2.0          75\n",
       "             1.0          53\n",
       "             3.0          36\n",
       "             4.0          32\n",
       "Iran         NaN        5750\n",
       "             1.0          40\n",
       "             3.0          19\n",
       "             4.0          16\n",
       "             2.0          15\n",
       "Jordan       NaN        4888\n",
       "             1.0         503\n",
       "             2.0         280\n",
       "             3.0         103\n",
       "             4.0          27\n",
       "Netherlands  NaN        1955\n",
       "             1.0          26\n",
       "             3.0          18\n",
       "             2.0          16\n",
       "             4.0          11\n",
       "Sweden       NaN        2686\n",
       "             2.0         108\n",
       "             1.0          82\n",
       "             3.0          74\n",
       "             4.0          39\n",
       "Turkey       NaN        5369\n",
       "             1.0          89\n",
       "             2.0          70\n",
       "             3.0          53\n",
       "             4.0          15\n",
       "Name: ASBH02B, dtype: int64"
      ]
     },
     "execution_count": 44,
     "metadata": {},
     "output_type": "execute_result"
    }
   ],
   "source": [
    "grouped[\"ASBH02B\"].value_counts(dropna=False)"
   ]
  },
  {
   "cell_type": "code",
   "execution_count": 45,
   "metadata": {
    "scrolled": true
   },
   "outputs": [],
   "source": [
    "double_grouped = df_selected.groupby(['Country','ASBH02A'])          "
   ]
  },
  {
   "cell_type": "code",
   "execution_count": 46,
   "metadata": {
    "scrolled": true
   },
   "outputs": [
    {
     "data": {
      "text/plain": [
       "Country      ASBH02A  ASBH02B\n",
       "Austria      No       2.0         175\n",
       "                      1.0         123\n",
       "                      3.0          91\n",
       "                      4.0          59\n",
       "                      NaN           3\n",
       "             Yes      NaN        4025\n",
       "Egypt        No       1.0         113\n",
       "                      NaN          63\n",
       "                      2.0          42\n",
       "                      3.0          40\n",
       "                      4.0          25\n",
       "             Yes      NaN        7071\n",
       "France       No       1.0          81\n",
       "                      2.0          71\n",
       "                      3.0          49\n",
       "                      4.0          25\n",
       "                      NaN          16\n",
       "             Yes      NaN        4526\n",
       "Germany      No       2.0          75\n",
       "                      1.0          53\n",
       "                      3.0          36\n",
       "                      4.0          32\n",
       "                      NaN           2\n",
       "             Yes      NaN        2317\n",
       "Iran         No       1.0          40\n",
       "                      NaN          30\n",
       "                      3.0          19\n",
       "                      4.0          16\n",
       "                      2.0          15\n",
       "             Yes      NaN        5720\n",
       "Jordan       No       1.0         503\n",
       "                      2.0         280\n",
       "                      3.0         103\n",
       "                      NaN          66\n",
       "                      4.0          27\n",
       "             Yes      NaN        4822\n",
       "Netherlands  No       1.0          26\n",
       "                      3.0          18\n",
       "                      2.0          16\n",
       "                      4.0          11\n",
       "                      NaN           8\n",
       "             Yes      NaN        1947\n",
       "Sweden       No       2.0         108\n",
       "                      1.0          82\n",
       "                      3.0          74\n",
       "                      4.0          39\n",
       "                      NaN           5\n",
       "             Yes      NaN        2681\n",
       "Turkey       No       1.0          89\n",
       "                      2.0          70\n",
       "                      3.0          53\n",
       "                      4.0          15\n",
       "                      NaN           3\n",
       "             Yes      NaN        5366\n",
       "Name: ASBH02B, dtype: int64"
      ]
     },
     "execution_count": 46,
     "metadata": {},
     "output_type": "execute_result"
    }
   ],
   "source": [
    "double_grouped[\"ASBH02B\"].value_counts(dropna=False)"
   ]
  },
  {
   "cell_type": "code",
   "execution_count": 47,
   "metadata": {},
   "outputs": [
    {
     "data": {
      "text/plain": [
       "1.0    1110\n",
       "2.0     852\n",
       "3.0     483\n",
       "4.0     249\n",
       "Name: ASBH02B, dtype: int64"
      ]
     },
     "execution_count": 47,
     "metadata": {},
     "output_type": "execute_result"
    }
   ],
   "source": [
    "df['ASBH02B'].value_counts()"
   ]
  },
  {
   "cell_type": "code",
   "execution_count": 48,
   "metadata": {
    "scrolled": true
   },
   "outputs": [
    {
     "data": {
      "text/plain": [
       "Country      ASBH02A  ASBH03A\n",
       "Austria      No       No          253\n",
       "                      Yes         187\n",
       "                      NaN          11\n",
       "             Yes      Yes        3731\n",
       "                      No          256\n",
       "                      NaN          38\n",
       "Egypt        No       Yes         240\n",
       "                      NaN          27\n",
       "                      No           16\n",
       "             Yes      Yes        6854\n",
       "                      NaN         152\n",
       "                      No           65\n",
       "France       No       Yes         119\n",
       "                      No          118\n",
       "                      NaN           5\n",
       "             Yes      Yes        4262\n",
       "                      NaN         167\n",
       "                      No           97\n",
       "Germany      No       No          102\n",
       "                      Yes          77\n",
       "                      9            19\n",
       "             Yes      Yes        2141\n",
       "                      9           132\n",
       "                      No           44\n",
       "Iran         No       Yes          89\n",
       "                      No           18\n",
       "                      9            13\n",
       "             Yes      Yes        4804\n",
       "                      No          838\n",
       "                      9            78\n",
       "Jordan       No       Yes         920\n",
       "                      No           30\n",
       "                      NaN          29\n",
       "             Yes      Yes        4639\n",
       "                      NaN         118\n",
       "                      No           65\n",
       "Netherlands  No       Yes          44\n",
       "                      No           33\n",
       "                      NaN           2\n",
       "             Yes      Yes        1889\n",
       "                      No           49\n",
       "                      NaN           9\n",
       "Sweden       No       Yes         171\n",
       "                      No          129\n",
       "                      NaN           8\n",
       "             Yes      Yes        2602\n",
       "                      No           55\n",
       "                      NaN          24\n",
       "Turkey       No       No          120\n",
       "                      Yes         105\n",
       "                      9             5\n",
       "             Yes      Yes        4969\n",
       "                      No          339\n",
       "                      9            58\n",
       "Name: ASBH03A, dtype: int64"
      ]
     },
     "execution_count": 48,
     "metadata": {},
     "output_type": "execute_result"
    }
   ],
   "source": [
    "double_grouped[\"ASBH03A\"].value_counts(dropna=False)"
   ]
  },
  {
   "cell_type": "code",
   "execution_count": 49,
   "metadata": {
    "scrolled": true
   },
   "outputs": [
    {
     "data": {
      "text/plain": [
       "Country      ASBH02A  ASBH04\n",
       "Austria      No       3.0        199\n",
       "                      2.0        148\n",
       "                      1.0         61\n",
       "                      4.0         42\n",
       "                      NaN          1\n",
       "             Yes      1.0       3020\n",
       "                      2.0        561\n",
       "                      3.0        367\n",
       "                      NaN         40\n",
       "                      4.0         37\n",
       "Egypt        No       1.0        184\n",
       "                      2.0         42\n",
       "                      3.0         34\n",
       "                      NaN         15\n",
       "                      4.0          8\n",
       "             Yes      1.0       4923\n",
       "                      3.0        998\n",
       "                      2.0        726\n",
       "                      4.0        245\n",
       "                      NaN        179\n",
       "France       No       1.0        110\n",
       "                      2.0         74\n",
       "                      3.0         48\n",
       "                      NaN          6\n",
       "                      4.0          4\n",
       "             Yes      1.0       4076\n",
       "                      2.0        216\n",
       "                      NaN        158\n",
       "                      3.0         72\n",
       "                      4.0          4\n",
       "Germany      No       NaN        198\n",
       "             Yes      NaN       2317\n",
       "Iran         No       NaN        120\n",
       "             Yes      NaN       5720\n",
       "Jordan       No       1.0        803\n",
       "                      3.0         81\n",
       "                      2.0         70\n",
       "                      4.0         17\n",
       "                      NaN          8\n",
       "             Yes      1.0       3879\n",
       "                      2.0        424\n",
       "                      3.0        382\n",
       "                      NaN         81\n",
       "                      4.0         56\n",
       "Netherlands  No       1.0         36\n",
       "                      2.0         20\n",
       "                      3.0         17\n",
       "                      4.0          6\n",
       "             Yes      1.0       1763\n",
       "                      2.0        107\n",
       "                      3.0         40\n",
       "                      4.0         21\n",
       "                      NaN         16\n",
       "Sweden       No       3.0        144\n",
       "                      2.0         80\n",
       "                      1.0         56\n",
       "                      4.0         24\n",
       "                      NaN          4\n",
       "             Yes      1.0       2191\n",
       "                      2.0        311\n",
       "                      3.0        146\n",
       "                      NaN         18\n",
       "                      4.0         15\n",
       "Turkey       No       NaN        230\n",
       "             Yes      NaN       5366\n",
       "Name: ASBH04, dtype: int64"
      ]
     },
     "execution_count": 49,
     "metadata": {},
     "output_type": "execute_result"
    }
   ],
   "source": [
    "double_grouped[\"ASBH04\"].value_counts(dropna=False)"
   ]
  },
  {
   "cell_type": "code",
   "execution_count": 50,
   "metadata": {},
   "outputs": [
    {
     "data": {
      "text/plain": [
       "Country      ASBH02A  ASBH15A\n",
       "Austria      No       4.0         125\n",
       "                      NaN          75\n",
       "                      8.0          74\n",
       "                      3.0          49\n",
       "                      6.0          39\n",
       "                      9.0          28\n",
       "                      7.0          27\n",
       "                      2.0          23\n",
       "                      10.0          5\n",
       "                      1.0           4\n",
       "                      5.0           2\n",
       "             Yes      4.0        1749\n",
       "                      6.0         680\n",
       "                      8.0         652\n",
       "                      NaN         247\n",
       "                      3.0         242\n",
       "                      9.0         195\n",
       "                      7.0         134\n",
       "                      10.0         52\n",
       "                      5.0          35\n",
       "                      2.0          29\n",
       "                      1.0          10\n",
       "Egypt        No       NaN         133\n",
       "                      4.0          38\n",
       "                      7.0          27\n",
       "                      1.0          20\n",
       "                      3.0          15\n",
       "                      6.0          15\n",
       "                      2.0          11\n",
       "                      5.0          11\n",
       "                      8.0           8\n",
       "                      9.0           3\n",
       "                      10.0          2\n",
       "             Yes      NaN        1981\n",
       "                      4.0        1438\n",
       "                      7.0        1072\n",
       "                      1.0         575\n",
       "                      6.0         524\n",
       "                      5.0         483\n",
       "                      3.0         476\n",
       "                      2.0         375\n",
       "                      8.0          57\n",
       "                      9.0          49\n",
       "                      10.0         41\n",
       "France       No       NaN          64\n",
       "                      4.0          59\n",
       "                      8.0          32\n",
       "                      3.0          23\n",
       "                      6.0          19\n",
       "                      2.0          16\n",
       "                      7.0          11\n",
       "                      1.0           5\n",
       "                      9.0           5\n",
       "                      10.0          5\n",
       "                      5.0           3\n",
       "             Yes      4.0        1579\n",
       "                      8.0         824\n",
       "                      6.0         802\n",
       "                      7.0         486\n",
       "                      NaN         336\n",
       "                      3.0         178\n",
       "                      9.0         138\n",
       "                      2.0          93\n",
       "                      5.0          41\n",
       "                      10.0         32\n",
       "                      1.0          17\n",
       "Germany      No       NaN         198\n",
       "             Yes      NaN        2317\n",
       "Iran         No       NaN         120\n",
       "             Yes      NaN        5720\n",
       "Jordan       No       NaN         214\n",
       "                      3.0         186\n",
       "                      2.0         152\n",
       "                      1.0         105\n",
       "                      4.0         102\n",
       "                      7.0          74\n",
       "                      5.0          48\n",
       "                      6.0          32\n",
       "                      9.0          31\n",
       "                      8.0          21\n",
       "                      10.0         14\n",
       "             Yes      NaN        1021\n",
       "                      4.0         990\n",
       "                      7.0         716\n",
       "                      3.0         492\n",
       "                      6.0         483\n",
       "                      5.0         335\n",
       "                      1.0         242\n",
       "                      2.0         224\n",
       "                      8.0         152\n",
       "                      9.0         125\n",
       "                      10.0         42\n",
       "Netherlands  No       8.0          27\n",
       "                      4.0          14\n",
       "                      3.0          12\n",
       "                      7.0          12\n",
       "                      NaN           6\n",
       "                      9.0           3\n",
       "                      6.0           2\n",
       "                      1.0           1\n",
       "                      2.0           1\n",
       "                      10.0          1\n",
       "             Yes      4.0         613\n",
       "                      8.0         534\n",
       "                      7.0         450\n",
       "                      3.0         146\n",
       "                      6.0          77\n",
       "                      NaN          56\n",
       "                      9.0          54\n",
       "                      2.0           9\n",
       "                      10.0          6\n",
       "                      1.0           2\n",
       "Sweden       No       NaN          66\n",
       "                      7.0          51\n",
       "                      8.0          42\n",
       "                      4.0          37\n",
       "                      5.0          25\n",
       "                      6.0          25\n",
       "                      3.0          20\n",
       "                      9.0          17\n",
       "                      1.0          13\n",
       "                      2.0          10\n",
       "                      10.0          2\n",
       "             Yes      7.0         687\n",
       "                      8.0         663\n",
       "                      4.0         455\n",
       "                      5.0         302\n",
       "                      NaN         210\n",
       "                      6.0         200\n",
       "                      9.0          79\n",
       "                      3.0          44\n",
       "                      2.0          16\n",
       "                      1.0          15\n",
       "                      10.0         10\n",
       "Turkey       No       NaN         230\n",
       "             Yes      NaN        5366\n",
       "Name: ASBH15A, dtype: int64"
      ]
     },
     "execution_count": 50,
     "metadata": {},
     "output_type": "execute_result"
    }
   ],
   "source": [
    "double_grouped[\"ASBH15A\"].value_counts(dropna=False)"
   ]
  },
  {
   "cell_type": "code",
   "execution_count": 51,
   "metadata": {},
   "outputs": [
    {
     "data": {
      "text/plain": [
       "Country      ASBH02A  ASBH16\n",
       "Austria      No       6.0        164\n",
       "                      2.0        101\n",
       "                      5.0         71\n",
       "                      4.0         68\n",
       "                      NaN         36\n",
       "                      1.0         11\n",
       "             Yes      6.0       1246\n",
       "                      2.0       1110\n",
       "                      4.0        975\n",
       "                      5.0        433\n",
       "                      NaN        219\n",
       "                      1.0         42\n",
       "Egypt        No       6.0         97\n",
       "                      5.0         63\n",
       "                      NaN         29\n",
       "                      1.0         26\n",
       "                      3.0         26\n",
       "                      4.0         22\n",
       "                      2.0         20\n",
       "             Yes      5.0       2760\n",
       "                      6.0       2084\n",
       "                      4.0        900\n",
       "                      3.0        500\n",
       "                      2.0        465\n",
       "                      1.0        211\n",
       "                      NaN        151\n",
       "France       No       6.0        100\n",
       "                      NaN         40\n",
       "                      2.0         31\n",
       "                      5.0         31\n",
       "                      4.0         25\n",
       "                      3.0          8\n",
       "                      1.0          7\n",
       "             Yes      6.0       1427\n",
       "                      2.0        868\n",
       "                      4.0        859\n",
       "                      5.0        739\n",
       "                      NaN        434\n",
       "                      3.0        145\n",
       "                      1.0         54\n",
       "Germany      No       6.0         65\n",
       "                      5.0         40\n",
       "                      3.0         32\n",
       "                      4.0         30\n",
       "                      9.0         14\n",
       "                      2.0         13\n",
       "                      1.0          4\n",
       "             Yes      6.0        636\n",
       "                      3.0        611\n",
       "                      5.0        482\n",
       "                      4.0        361\n",
       "                      2.0        107\n",
       "                      9.0         74\n",
       "                      1.0         46\n",
       "Iran         No       6.0         62\n",
       "                      5.0         23\n",
       "                      3.0         15\n",
       "                      4.0          8\n",
       "                      1.0          4\n",
       "                      2.0          4\n",
       "                      9.0          4\n",
       "             Yes      6.0       4111\n",
       "                      5.0        957\n",
       "                      3.0        269\n",
       "                      4.0        189\n",
       "                      2.0         74\n",
       "                      9.0         61\n",
       "                      1.0         59\n",
       "Jordan       No       6.0        213\n",
       "                      5.0        207\n",
       "                      2.0        166\n",
       "                      1.0        145\n",
       "                      3.0         94\n",
       "                      NaN         81\n",
       "                      4.0         73\n",
       "             Yes      5.0       1881\n",
       "                      6.0       1275\n",
       "                      4.0        418\n",
       "                      2.0        417\n",
       "                      3.0        313\n",
       "                      1.0        272\n",
       "                      NaN        246\n",
       "Netherlands  No       6.0         35\n",
       "                      5.0         18\n",
       "                      2.0         14\n",
       "                      NaN          5\n",
       "                      4.0          4\n",
       "                      1.0          3\n",
       "             Yes      2.0        613\n",
       "                      6.0        554\n",
       "                      5.0        479\n",
       "                      1.0        114\n",
       "                      NaN         97\n",
       "                      4.0         90\n",
       "Sweden       No       6.0        135\n",
       "                      5.0         93\n",
       "                      NaN         37\n",
       "                      4.0         23\n",
       "                      2.0         10\n",
       "                      1.0          6\n",
       "                      3.0          4\n",
       "             Yes      5.0       1118\n",
       "                      6.0        614\n",
       "                      4.0        383\n",
       "                      2.0        311\n",
       "                      3.0        136\n",
       "                      NaN        105\n",
       "                      1.0         14\n",
       "Turkey       No       6.0        101\n",
       "                      5.0         70\n",
       "                      2.0         22\n",
       "                      3.0         13\n",
       "                      1.0         10\n",
       "                      4.0          9\n",
       "                      9.0          5\n",
       "             Yes      6.0       3201\n",
       "                      5.0       1521\n",
       "                      3.0        245\n",
       "                      4.0        149\n",
       "                      2.0        123\n",
       "                      9.0         84\n",
       "                      1.0         43\n",
       "Name: ASBH16, dtype: int64"
      ]
     },
     "execution_count": 51,
     "metadata": {},
     "output_type": "execute_result"
    }
   ],
   "source": [
    "double_grouped[\"ASBH16\"].value_counts(dropna=False)"
   ]
  },
  {
   "cell_type": "markdown",
   "metadata": {},
   "source": [
    "\"ASBH16\" is hopes for child's level of education - most parents seem to have answered this."
   ]
  },
  {
   "cell_type": "markdown",
   "metadata": {},
   "source": [
    "Germany, Iran and Turkey have not answered any questions on how often lang of test spoken at home (4) parents' level of edu 15,  professions 17, level of language 18. Iran and Turkey have also not answered sex of child G01 or how often child says lang spoken at home G03."
   ]
  },
  {
   "cell_type": "markdown",
   "metadata": {},
   "source": [
    "## It would be interesting to compare child and parents' experience of lang of test spoken at home."
   ]
  },
  {
   "cell_type": "markdown",
   "metadata": {},
   "source": [
    "Where is age in all this??"
   ]
  },
  {
   "cell_type": "code",
   "execution_count": null,
   "metadata": {},
   "outputs": [],
   "source": []
  }
 ],
 "metadata": {
  "kernelspec": {
   "display_name": "Python 3",
   "language": "python",
   "name": "python3"
  },
  "language_info": {
   "codemirror_mode": {
    "name": "ipython",
    "version": 3
   },
   "file_extension": ".py",
   "mimetype": "text/x-python",
   "name": "python",
   "nbconvert_exporter": "python",
   "pygments_lexer": "ipython3",
   "version": "3.7.6"
  }
 },
 "nbformat": 4,
 "nbformat_minor": 4
}
