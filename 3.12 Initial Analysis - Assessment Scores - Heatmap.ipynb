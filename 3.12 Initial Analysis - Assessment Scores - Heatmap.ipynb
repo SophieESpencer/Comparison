{
 "cells": [
  {
   "cell_type": "code",
   "execution_count": 1,
   "metadata": {
    "scrolled": false
   },
   "outputs": [],
   "source": [
    "import pandas as pd\n",
    "import numpy as np\n",
    "import matplotlib.pyplot as plt\n",
    "import seaborn as sns\n",
    "pd.set_option(\"display.max_columns\", None)\n",
    "pd.set_option(\"display.max_rows\", None)"
   ]
  },
  {
   "cell_type": "code",
   "execution_count": 2,
   "metadata": {},
   "outputs": [],
   "source": [
    "df= pd.read_excel('cleandata109.xlsx', index_col=0)"
   ]
  },
  {
   "cell_type": "markdown",
   "metadata": {},
   "source": [
    "Now that the dataset is mostly clean, I am going to examine how being an immigrant affects test scores, positive feelings in school and negative experiences in school across different countries. In this notebook I will be focusing on test scores. "
   ]
  },
  {
   "cell_type": "code",
   "execution_count": 3,
   "metadata": {},
   "outputs": [],
   "source": [
    "identifier_columns = ['Country','ASBH02A']\n",
    "demographic_info_columns = ['ASBH02B', 'ASBH03A', 'ASBH04', 'ASBH15A', 'ASBH15B', 'ASBH16', 'ASBH17A', 'ASBH17B', 'ASBH18AA', 'ASBH18AB', 'ASBG01', 'ASBG03', 'ASDAGE','MINAGEARRIVAL' ]\n",
    "positive_feelings_in_school = ['ASBG10A', 'ASBG10B','ASBG10C', 'ASBG10D', 'ASBG10E', 'ASBG10F']\n",
    "negativeexperience_in_school_columns = ['ASBG11A', 'ASBG11B', 'ASBG11C', 'ASBG11D', 'ASBG11E', 'ASBG11F', 'ASBG11G', 'ASBG11H', 'ASBG11I', 'ASBG11J']\n",
    "assessment_score_columns = ['ASRREA01', 'ASRREA02', 'ASRREA03', 'ASRREA04', 'ASRREA05', 'ASRLIT01', 'ASRLIT02', 'ASRLIT03', 'ASRLIT04', 'ASRLIT05', 'ASRINF01', 'ASRINF02', 'ASRINF03', 'ASRINF04', 'ASRINF05', 'ASRIIE01', 'ASRIIE02', 'ASRIIE03', 'ASRIIE04', 'ASRIIE05', 'ASRRSI01', 'ASRRSI02', 'ASRRSI03', 'ASRRSI04', 'ASRRSI05']"
   ]
  },
  {
   "cell_type": "markdown",
   "metadata": {},
   "source": [
    "Firstly, I want to have a less granular indicator of test scores. "
   ]
  },
  {
   "cell_type": "code",
   "execution_count": 4,
   "metadata": {
    "scrolled": true
   },
   "outputs": [],
   "source": [
    "reading = ['ASRREA01', 'ASRREA02', 'ASRREA03', 'ASRREA04', 'ASRREA05'] \n",
    "literary_purpose = ['ASRLIT01', 'ASRLIT02', 'ASRLIT03', 'ASRLIT04', 'ASRLIT05']\n",
    "informational_purpose=['ASRINF01', 'ASRINF02', 'ASRINF03', 'ASRINF04', 'ASRINF05']\n",
    "interpreting_process= ['ASRIIE01', 'ASRIIE02', 'ASRIIE03', 'ASRIIE04', 'ASRIIE05']\n",
    "straightforward_process = ['ASRRSI01', 'ASRRSI02', 'ASRRSI03', 'ASRRSI04', 'ASRRSI05']"
   ]
  },
  {
   "cell_type": "code",
   "execution_count": 5,
   "metadata": {
    "scrolled": true
   },
   "outputs": [],
   "source": [
    "# Define the function\n",
    "def calculate_average(df, columns, new_column_name):\n",
    "    \"\"\"\n",
    "    Calculates the mean of the specified columns and adds a new column with the result.\n",
    "    \n",
    "    Parameters:\n",
    "    df (pd.DataFrame): The input DataFrame.\n",
    "    columns (list): The list of column names to calculate the mean.\n",
    "    new_column_name (str): The name of the new column to store the averages.\n",
    "    \n",
    "    Returns:\n",
    "    pd.DataFrame: The DataFrame with the new column added.\n",
    "    \"\"\"\n",
    "    df[new_column_name] = df[columns].mean(axis=1)\n",
    "    return df\n",
    "\n",
    "# Calculate the mean of the reading columns\n",
    "df = calculate_average(df, reading, 'reading_avg')\n",
    "df = calculate_average(df, literary_purpose, 'literary_purpose_avg')\n",
    "df = calculate_average(df, informational_purpose, 'informational_purpose_avg')\n",
    "df = calculate_average(df, interpreting_process, 'interpreting_process_avg')\n",
    "df = calculate_average(df, straightforward_process, 'straightforward_process_avg')"
   ]
  },
  {
   "cell_type": "code",
   "execution_count": 6,
   "metadata": {
    "scrolled": true
   },
   "outputs": [],
   "source": [
    "averages = ['reading_avg', 'literary_purpose_avg', 'informational_purpose_avg',\n",
    "       'interpreting_process_avg', 'straightforward_process_avg']"
   ]
  },
  {
   "cell_type": "code",
   "execution_count": 7,
   "metadata": {
    "scrolled": true
   },
   "outputs": [],
   "source": [
    "pivot_df_avgliteracy = df.pivot_table(values=averages, index=['Country','ASBH02A'], aggfunc='mean').reset_index()"
   ]
  },
  {
   "cell_type": "code",
   "execution_count": 8,
   "metadata": {},
   "outputs": [
    {
     "data": {
      "text/html": [
       "<div>\n",
       "<style scoped>\n",
       "    .dataframe tbody tr th:only-of-type {\n",
       "        vertical-align: middle;\n",
       "    }\n",
       "\n",
       "    .dataframe tbody tr th {\n",
       "        vertical-align: top;\n",
       "    }\n",
       "\n",
       "    .dataframe thead th {\n",
       "        text-align: right;\n",
       "    }\n",
       "</style>\n",
       "<table border=\"1\" class=\"dataframe\">\n",
       "  <thead>\n",
       "    <tr style=\"text-align: right;\">\n",
       "      <th></th>\n",
       "      <th>Country</th>\n",
       "      <th>ASBH02A</th>\n",
       "      <th>informational_purpose_avg</th>\n",
       "      <th>interpreting_process_avg</th>\n",
       "      <th>literary_purpose_avg</th>\n",
       "      <th>reading_avg</th>\n",
       "      <th>straightforward_process_avg</th>\n",
       "    </tr>\n",
       "  </thead>\n",
       "  <tbody>\n",
       "    <tr>\n",
       "      <th>0</th>\n",
       "      <td>Austria</td>\n",
       "      <td>No</td>\n",
       "      <td>498.657408</td>\n",
       "      <td>497.365857</td>\n",
       "      <td>503.520940</td>\n",
       "      <td>501.137730</td>\n",
       "      <td>503.331516</td>\n",
       "    </tr>\n",
       "    <tr>\n",
       "      <th>1</th>\n",
       "      <td>Austria</td>\n",
       "      <td>Yes</td>\n",
       "      <td>533.604588</td>\n",
       "      <td>533.534905</td>\n",
       "      <td>538.353546</td>\n",
       "      <td>535.753998</td>\n",
       "      <td>538.541325</td>\n",
       "    </tr>\n",
       "    <tr>\n",
       "      <th>2</th>\n",
       "      <td>Egypt</td>\n",
       "      <td>No</td>\n",
       "      <td>368.944815</td>\n",
       "      <td>376.185753</td>\n",
       "      <td>370.055159</td>\n",
       "      <td>368.778085</td>\n",
       "      <td>364.934062</td>\n",
       "    </tr>\n",
       "    <tr>\n",
       "      <th>3</th>\n",
       "      <td>Egypt</td>\n",
       "      <td>Yes</td>\n",
       "      <td>385.238053</td>\n",
       "      <td>382.455807</td>\n",
       "      <td>374.382017</td>\n",
       "      <td>381.017793</td>\n",
       "      <td>378.604022</td>\n",
       "    </tr>\n",
       "    <tr>\n",
       "      <th>4</th>\n",
       "      <td>France</td>\n",
       "      <td>No</td>\n",
       "      <td>491.164422</td>\n",
       "      <td>492.907004</td>\n",
       "      <td>494.816631</td>\n",
       "      <td>495.189771</td>\n",
       "      <td>495.147998</td>\n",
       "    </tr>\n",
       "    <tr>\n",
       "      <th>5</th>\n",
       "      <td>France</td>\n",
       "      <td>Yes</td>\n",
       "      <td>520.421201</td>\n",
       "      <td>518.050071</td>\n",
       "      <td>524.127303</td>\n",
       "      <td>522.368422</td>\n",
       "      <td>527.467670</td>\n",
       "    </tr>\n",
       "    <tr>\n",
       "      <th>6</th>\n",
       "      <td>Germany</td>\n",
       "      <td>No</td>\n",
       "      <td>493.821976</td>\n",
       "      <td>491.637327</td>\n",
       "      <td>503.782080</td>\n",
       "      <td>496.504230</td>\n",
       "      <td>496.581183</td>\n",
       "    </tr>\n",
       "    <tr>\n",
       "      <th>7</th>\n",
       "      <td>Germany</td>\n",
       "      <td>Yes</td>\n",
       "      <td>543.667811</td>\n",
       "      <td>543.658520</td>\n",
       "      <td>551.219226</td>\n",
       "      <td>545.941246</td>\n",
       "      <td>546.973033</td>\n",
       "    </tr>\n",
       "    <tr>\n",
       "      <th>8</th>\n",
       "      <td>Iran</td>\n",
       "      <td>No</td>\n",
       "      <td>415.629239</td>\n",
       "      <td>418.139679</td>\n",
       "      <td>435.488964</td>\n",
       "      <td>424.286114</td>\n",
       "      <td>429.671741</td>\n",
       "    </tr>\n",
       "    <tr>\n",
       "      <th>9</th>\n",
       "      <td>Iran</td>\n",
       "      <td>Yes</td>\n",
       "      <td>421.840284</td>\n",
       "      <td>420.598873</td>\n",
       "      <td>422.984017</td>\n",
       "      <td>422.865906</td>\n",
       "      <td>423.450890</td>\n",
       "    </tr>\n",
       "    <tr>\n",
       "      <th>10</th>\n",
       "      <td>Jordan</td>\n",
       "      <td>No</td>\n",
       "      <td>384.671082</td>\n",
       "      <td>377.712246</td>\n",
       "      <td>381.794478</td>\n",
       "      <td>383.291099</td>\n",
       "      <td>384.778212</td>\n",
       "    </tr>\n",
       "    <tr>\n",
       "      <th>11</th>\n",
       "      <td>Jordan</td>\n",
       "      <td>Yes</td>\n",
       "      <td>371.996404</td>\n",
       "      <td>366.931226</td>\n",
       "      <td>365.809400</td>\n",
       "      <td>368.777434</td>\n",
       "      <td>368.988134</td>\n",
       "    </tr>\n",
       "    <tr>\n",
       "      <th>12</th>\n",
       "      <td>Netherlands</td>\n",
       "      <td>No</td>\n",
       "      <td>534.779113</td>\n",
       "      <td>527.015559</td>\n",
       "      <td>527.257465</td>\n",
       "      <td>532.012580</td>\n",
       "      <td>527.323949</td>\n",
       "    </tr>\n",
       "    <tr>\n",
       "      <th>13</th>\n",
       "      <td>Netherlands</td>\n",
       "      <td>Yes</td>\n",
       "      <td>546.509569</td>\n",
       "      <td>545.771857</td>\n",
       "      <td>544.596141</td>\n",
       "      <td>544.055471</td>\n",
       "      <td>544.427139</td>\n",
       "    </tr>\n",
       "    <tr>\n",
       "      <th>14</th>\n",
       "      <td>Sweden</td>\n",
       "      <td>No</td>\n",
       "      <td>513.800935</td>\n",
       "      <td>509.636203</td>\n",
       "      <td>510.426070</td>\n",
       "      <td>513.532231</td>\n",
       "      <td>515.623797</td>\n",
       "    </tr>\n",
       "    <tr>\n",
       "      <th>15</th>\n",
       "      <td>Sweden</td>\n",
       "      <td>Yes</td>\n",
       "      <td>564.668847</td>\n",
       "      <td>563.305228</td>\n",
       "      <td>569.014791</td>\n",
       "      <td>565.399209</td>\n",
       "      <td>568.000974</td>\n",
       "    </tr>\n",
       "    <tr>\n",
       "      <th>16</th>\n",
       "      <td>Turkey</td>\n",
       "      <td>No</td>\n",
       "      <td>459.545292</td>\n",
       "      <td>450.463128</td>\n",
       "      <td>456.161154</td>\n",
       "      <td>454.834990</td>\n",
       "      <td>459.409544</td>\n",
       "    </tr>\n",
       "    <tr>\n",
       "      <th>17</th>\n",
       "      <td>Turkey</td>\n",
       "      <td>Yes</td>\n",
       "      <td>508.299876</td>\n",
       "      <td>504.960550</td>\n",
       "      <td>505.637007</td>\n",
       "      <td>507.160195</td>\n",
       "      <td>509.904656</td>\n",
       "    </tr>\n",
       "  </tbody>\n",
       "</table>\n",
       "</div>"
      ],
      "text/plain": [
       "        Country ASBH02A  informational_purpose_avg  interpreting_process_avg  \\\n",
       "0       Austria      No                 498.657408                497.365857   \n",
       "1       Austria     Yes                 533.604588                533.534905   \n",
       "2         Egypt      No                 368.944815                376.185753   \n",
       "3         Egypt     Yes                 385.238053                382.455807   \n",
       "4        France      No                 491.164422                492.907004   \n",
       "5        France     Yes                 520.421201                518.050071   \n",
       "6       Germany      No                 493.821976                491.637327   \n",
       "7       Germany     Yes                 543.667811                543.658520   \n",
       "8          Iran      No                 415.629239                418.139679   \n",
       "9          Iran     Yes                 421.840284                420.598873   \n",
       "10       Jordan      No                 384.671082                377.712246   \n",
       "11       Jordan     Yes                 371.996404                366.931226   \n",
       "12  Netherlands      No                 534.779113                527.015559   \n",
       "13  Netherlands     Yes                 546.509569                545.771857   \n",
       "14       Sweden      No                 513.800935                509.636203   \n",
       "15       Sweden     Yes                 564.668847                563.305228   \n",
       "16       Turkey      No                 459.545292                450.463128   \n",
       "17       Turkey     Yes                 508.299876                504.960550   \n",
       "\n",
       "    literary_purpose_avg  reading_avg  straightforward_process_avg  \n",
       "0             503.520940   501.137730                   503.331516  \n",
       "1             538.353546   535.753998                   538.541325  \n",
       "2             370.055159   368.778085                   364.934062  \n",
       "3             374.382017   381.017793                   378.604022  \n",
       "4             494.816631   495.189771                   495.147998  \n",
       "5             524.127303   522.368422                   527.467670  \n",
       "6             503.782080   496.504230                   496.581183  \n",
       "7             551.219226   545.941246                   546.973033  \n",
       "8             435.488964   424.286114                   429.671741  \n",
       "9             422.984017   422.865906                   423.450890  \n",
       "10            381.794478   383.291099                   384.778212  \n",
       "11            365.809400   368.777434                   368.988134  \n",
       "12            527.257465   532.012580                   527.323949  \n",
       "13            544.596141   544.055471                   544.427139  \n",
       "14            510.426070   513.532231                   515.623797  \n",
       "15            569.014791   565.399209                   568.000974  \n",
       "16            456.161154   454.834990                   459.409544  \n",
       "17            505.637007   507.160195                   509.904656  "
      ]
     },
     "execution_count": 8,
     "metadata": {},
     "output_type": "execute_result"
    }
   ],
   "source": [
    "pivot_df_avgliteracy"
   ]
  },
  {
   "cell_type": "markdown",
   "metadata": {},
   "source": [
    "## Heat map stuff"
   ]
  },
  {
   "cell_type": "code",
   "execution_count": 9,
   "metadata": {},
   "outputs": [
    {
     "data": {
      "image/png": "[encoded data removed]",
      "text/plain": [
       "<Figure size 720x576 with 2 Axes>"
      ]
     },
     "metadata": {
      "needs_background": "light"
     },
     "output_type": "display_data"
    }
   ],
   "source": [
    "# Calculate the total average for each row\n",
    "pivot_df_avgliteracy['MeanTotal'] = pivot_df_avgliteracy[['informational_purpose_avg', 'interpreting_process_avg', 'literary_purpose_avg', 'reading_avg', 'straightforward_process_avg']].mean(axis=1)\n",
    "\n",
    "# Sort countries by the total average\n",
    "country_averages = pivot_df_avgliteracy.groupby('Country')['MeanTotal'].mean().sort_values(ascending=False).index.tolist()\n",
    "\n",
    "# Create a custom sorter for ASBH02A\n",
    "asbh02a_sorter = ['Yes', 'No']\n",
    "\n",
    "# Sort the DataFrame\n",
    "pivot_df_avgliteracy['Country'] = pd.Categorical(pivot_df_avgliteracy['Country'], categories=country_averages, ordered=True)\n",
    "pivot_df_avgliteracy['ASBH02A'] = pd.Categorical(pivot_df_avgliteracy['ASBH02A'], categories=asbh02a_sorter, ordered=True)\n",
    "\n",
    "pivot_df_avgliteracy = pivot_df_avgliteracy.sort_values(['Country', 'ASBH02A'])\n",
    "\n",
    "# Drop the 'MeanTotal' column for the heatmap\n",
    "df_heatmap = pivot_df_avgliteracy.drop(columns=['MeanTotal'])\n",
    "\n",
    "# Set the index to ['Country', 'ASBH02A'] for the heatmap\n",
    "df_heatmap.set_index(['Country', 'ASBH02A'], inplace=True)\n",
    "\n",
    "# Plot the heatmap\n",
    "plt.figure(figsize=(10, 8))\n",
    "sns.heatmap(df_heatmap, annot=False, cmap='YlGnBu', cbar_kws={'label': 'Average Score'})\n",
    "plt.title('Heatmap of Reading Averages by Country and ASBH02A')\n",
    "plt.show()"
   ]
  },
  {
   "cell_type": "markdown",
   "metadata": {},
   "source": [
    "Literary purpose is a bit darker so perhaps those questions are a bit easier? Immigrants in Iran seem to do better than natives but this is perhaps not so surprising as the majority of immigrants in Iran are from Afghanistan? and have same language?"
   ]
  }
 ],
 "metadata": {
  "kernelspec": {
   "display_name": "Python 3",
   "language": "python",
   "name": "python3"
  },
  "language_info": {
   "codemirror_mode": {
    "name": "ipython",
    "version": 3
   },
   "file_extension": ".py",
   "mimetype": "text/x-python",
   "name": "python",
   "nbconvert_exporter": "python",
   "pygments_lexer": "ipython3",
   "version": "3.7.6"
  }
 },
 "nbformat": 4,
 "nbformat_minor": 4
}
