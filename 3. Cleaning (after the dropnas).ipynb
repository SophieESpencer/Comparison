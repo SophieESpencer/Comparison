{
 "cells": [
  {
   "cell_type": "code",
   "execution_count": 1,
   "metadata": {
    "scrolled": false
   },
   "outputs": [],
   "source": [
    "import pandas as pd\n",
    "import numpy as np\n",
    "pd.set_option(\"display.max_columns\", None)\n",
    "pd.set_option(\"display.max_rows\", None)\n",
    "import matplotlib.pyplot as plt\n",
    "import seaborn as sns"
   ]
  },
  {
   "cell_type": "code",
   "execution_count": 2,
   "metadata": {},
   "outputs": [
    {
     "name": "stdout",
     "output_type": "stream",
     "text": [
      "<class 'pandas.core.frame.DataFrame'>\n",
      "Int64Index: 41365 entries, 0 to 50364\n",
      "Data columns (total 56 columns):\n",
      " #   Column    Non-Null Count  Dtype  \n",
      "---  ------    --------------  -----  \n",
      " 0   Country   41365 non-null  object \n",
      " 1   IDSTUD    41365 non-null  int64  \n",
      " 2   ASBH02A   41365 non-null  object \n",
      " 3   ASBH02B   16131 non-null  object \n",
      " 4   ASBH03A   40775 non-null  object \n",
      " 5   ASBH04    26888 non-null  float64\n",
      " 6   ASBH15A   23005 non-null  float64\n",
      " 7   ASBH15B   20263 non-null  float64\n",
      " 8   ASBH16    39885 non-null  float64\n",
      " 9   ASBH17A   14850 non-null  float64\n",
      " 10  ASBH17B   12612 non-null  float64\n",
      " 11  ASBH18AA  25767 non-null  float64\n",
      " 12  ASBH18AB  20840 non-null  float64\n",
      " 13  ASBG01    29510 non-null  float64\n",
      " 14  ASBG03    28438 non-null  float64\n",
      " 15  ASBG10A   28638 non-null  float64\n",
      " 16  ASBG10B   28451 non-null  float64\n",
      " 17  ASBG10C   28329 non-null  float64\n",
      " 18  ASBG10D   28259 non-null  float64\n",
      " 19  ASBG10E   28291 non-null  float64\n",
      " 20  ASBG10F   28349 non-null  float64\n",
      " 21  ASBG11A   28347 non-null  float64\n",
      " 22  ASBG11B   28215 non-null  float64\n",
      " 23  ASBG11C   28102 non-null  float64\n",
      " 24  ASBG11D   28050 non-null  float64\n",
      " 25  ASBG11E   28073 non-null  float64\n",
      " 26  ASBG11F   28236 non-null  float64\n",
      " 27  ASBG11G   28177 non-null  float64\n",
      " 28  ASBG11H   28159 non-null  float64\n",
      " 29  ASBG11I   28132 non-null  float64\n",
      " 30  ASBG11J   28125 non-null  float64\n",
      " 31  ASRREA01  41365 non-null  float64\n",
      " 32  ASRREA02  41365 non-null  float64\n",
      " 33  ASRREA03  41365 non-null  float64\n",
      " 34  ASRREA04  41365 non-null  float64\n",
      " 35  ASRREA05  41365 non-null  float64\n",
      " 36  ASRLIT01  41365 non-null  float64\n",
      " 37  ASRLIT02  41365 non-null  float64\n",
      " 38  ASRLIT03  41365 non-null  float64\n",
      " 39  ASRLIT04  41365 non-null  float64\n",
      " 40  ASRLIT05  41365 non-null  float64\n",
      " 41  ASRINF01  41365 non-null  float64\n",
      " 42  ASRINF02  41365 non-null  float64\n",
      " 43  ASRINF03  41365 non-null  float64\n",
      " 44  ASRINF04  41365 non-null  float64\n",
      " 45  ASRINF05  41365 non-null  float64\n",
      " 46  ASRIIE01  41365 non-null  float64\n",
      " 47  ASRIIE02  41365 non-null  float64\n",
      " 48  ASRIIE03  41365 non-null  float64\n",
      " 49  ASRIIE04  41365 non-null  float64\n",
      " 50  ASRIIE05  41365 non-null  float64\n",
      " 51  ASRRSI01  41365 non-null  float64\n",
      " 52  ASRRSI02  41365 non-null  float64\n",
      " 53  ASRRSI03  41365 non-null  float64\n",
      " 54  ASRRSI04  41365 non-null  float64\n",
      " 55  ASRRSI05  41365 non-null  float64\n",
      "dtypes: float64(51), int64(1), object(4)\n",
      "memory usage: 18.0+ MB\n"
     ]
    }
   ],
   "source": [
    "df= pd.read_excel('cleandata158.xlsx', index_col=0)\n",
    "df.info()"
   ]
  },
  {
   "cell_type": "markdown",
   "metadata": {},
   "source": [
    "I am interested in understanding the extent of missing data in my data set and where this data is present. I am going to use heatmaps to get a better idea of this."
   ]
  },
  {
   "cell_type": "code",
   "execution_count": 3,
   "metadata": {
    "scrolled": true
   },
   "outputs": [],
   "source": [
    "# Perform the Groupby Operation\n",
    "grouped = df.groupby('Country')"
   ]
  },
  {
   "cell_type": "code",
   "execution_count": 4,
   "metadata": {
    "scrolled": true
   },
   "outputs": [
    {
     "name": "stdout",
     "output_type": "stream",
     "text": [
      "Country\n",
      "Austria        4476\n",
      "Egypt          7354\n",
      "France         4768\n",
      "Germany        2515\n",
      "Iran           5840\n",
      "Jordan         5801\n",
      "Netherlands    2026\n",
      "Sweden         2989\n",
      "Turkey         5596\n",
      "dtype: int64\n"
     ]
    }
   ],
   "source": [
    "country_sizes = grouped.size()\n",
    "print(country_sizes)"
   ]
  },
  {
   "cell_type": "code",
   "execution_count": 5,
   "metadata": {
    "scrolled": true
   },
   "outputs": [
    {
     "data": {
      "image/png": "[encoded data removed]",
      "text/plain": [
       "<Figure size 720x432 with 2 Axes>"
      ]
     },
     "metadata": {
      "needs_background": "light"
     },
     "output_type": "display_data"
    }
   ],
   "source": [
    "# Aggregate with isnull\n",
    "missing_values = grouped.apply(lambda x: x.isnull().sum())\n",
    "\n",
    "# Create the Heatmap\n",
    "plt.figure(figsize=(10, 6))\n",
    "sns.heatmap(missing_values, annot=False, cmap='viridis', cbar=True)\n",
    "plt.title('Heatmap of Missing Values by Country')\n",
    "plt.show()"
   ]
  },
  {
   "cell_type": "markdown",
   "metadata": {},
   "source": [
    "This is still quite difficult to read so I want to break it down even more and look at missing values for the columns that are not pertaining to assessment as these seem to not contain any missing values."
   ]
  },
  {
   "cell_type": "code",
   "execution_count": 6,
   "metadata": {},
   "outputs": [],
   "source": [
    "identifier_columns = ['Country', 'IDSTUD']\n",
    "demographic_info_columns = ['ASBH02A', 'ASBH02B', 'ASBH03A', 'ASBH04', 'ASBH15A', 'ASBH15B', 'ASBH16', 'ASBH17A', 'ASBH17B', 'ASBH18AA', 'ASBH18AB', 'ASBG01', 'ASBG03']\n",
    "experience_in_school_columns = ['ASBG10A', 'ASBG10B','ASBG10C', 'ASBG10D', 'ASBG10E', 'ASBG10F', 'ASBG11A', 'ASBG11B', 'ASBG11C', 'ASBG11D', 'ASBG11E', 'ASBG11F', 'ASBG11G', 'ASBG11H', 'ASBG11I', 'ASBG11J']\n",
    "assessment_score_columns = ['ASRREA01', 'ASRREA02', 'ASRREA03', 'ASRREA04', 'ASRREA05', 'ASRLIT01', 'ASRLIT02', 'ASRLIT03', 'ASRLIT04', 'ASRLIT05', 'ASRINF01', 'ASRINF02', 'ASRINF03', 'ASRINF04', 'ASRINF05', 'ASRIIE01', 'ASRIIE02', 'ASRIIE03', 'ASRIIE04', 'ASRIIE05', 'ASRRSI01', 'ASRRSI02', 'ASRRSI03', 'ASRRSI04', 'ASRRSI05']"
   ]
  },
  {
   "cell_type": "code",
   "execution_count": 8,
   "metadata": {
    "scrolled": true
   },
   "outputs": [
    {
     "data": {
      "image/png": "[encoded data removed]",
      "text/plain": [
       "<Figure size 864x576 with 2 Axes>"
      ]
     },
     "metadata": {
      "needs_background": "light"
     },
     "output_type": "display_data"
    }
   ],
   "source": [
    "# Select the columns from the DataFrame\n",
    "non_assessment_columns = identifier_columns + demographic_info_columns + experience_in_school_columns\n",
    "df_selected = df[non_assessment_columns]\n",
    "\n",
    "# Perform the Groupby Operation\n",
    "grouped_selection = df_selected.groupby('Country')\n",
    "\n",
    "# Aggregate with isnull\n",
    "missing_values_selection = grouped_selection.apply(lambda x: x.isnull().sum())\n",
    "\n",
    "# Create the Heatmap\n",
    "plt.figure(figsize=(12, 8))\n",
    "heatmap = sns.heatmap(missing_values_selection, annot=False, cmap='viridis', cbar=True)\n",
    "# Rotate the column names\n",
    "heatmap.set_xticklabels(heatmap.get_xticklabels(), rotation=45, ha='right')\n",
    "plt.tight_layout()  # Adjust layout to make room for labels\n",
    "plt.title('Heatmap of Missing Values by Country')\n",
    "plt.show()"
   ]
  },
  {
   "cell_type": "markdown",
   "metadata": {},
   "source": [
    "There is a clear disparancy here between two groups of columns and I want to explore this in more detail. The first group of columns pertains to demographic information and the second group pertains to childrens' experience at school."
   ]
  },
  {
   "cell_type": "code",
   "execution_count": 9,
   "metadata": {
    "scrolled": true
   },
   "outputs": [
    {
     "data": {
      "image/png": "[encoded data removed]",
      "text/plain": [
       "<Figure size 864x576 with 2 Axes>"
      ]
     },
     "metadata": {
      "needs_background": "light"
     },
     "output_type": "display_data"
    }
   ],
   "source": [
    "df_demographic = df[identifier_columns + demographic_info_columns]\n",
    "\n",
    "# Perform the Groupby Operation\n",
    "grouped_selection_demographic = df_demographic.groupby('Country')\n",
    "\n",
    "# Aggregate with isnull\n",
    "missing_values_demographic = grouped_selection_demographic.apply(lambda x: x.isnull().sum())\n",
    "\n",
    "# Create the Heatmap\n",
    "plt.figure(figsize=(12, 8))\n",
    "demographicheatmap = sns.heatmap(missing_values_demographic, annot=False, cmap='viridis', cbar=True)\n",
    "\n",
    "plt.tight_layout()  # Adjust layout to make room for labels\n",
    "plt.title('Heatmap of Missing Values by Country (Demographics)')\n",
    "plt.show()"
   ]
  },
  {
   "cell_type": "markdown",
   "metadata": {},
   "source": [
    "**Egypt** is missing all of **ASBH02B** which is the age of the child when they came to the country and therefore the minimum age of arrival. It seems that **Turkey** and **Iran** are also missing quite a lot of demographic data pertaining to the level of education of parents and their jobs. Also **ASBG01** and **03** which is the sex and how often the language of the test is spoken at home. "
   ]
  },
  {
   "cell_type": "markdown",
   "metadata": {},
   "source": [
    "Now let's look at the experience in school columns in more detail."
   ]
  },
  {
   "cell_type": "code",
   "execution_count": null,
   "metadata": {
    "scrolled": true
   },
   "outputs": [],
   "source": [
    "df_experience = df[experience_in_school_columns]\n",
    "\n",
    "# Perform the Groupby Operation\n",
    "grouped_selection_experience = df_experience.groupby('Country')\n",
    "\n",
    "# Aggregate with isnull\n",
    "missing_values_experience = grouped_selection_experience.apply(lambda x: x.isnull().sum())\n",
    "\n",
    "# Create the Heatmap\n",
    "plt.figure(figsize=(12, 8))\n",
    "experienceheatmap = sns.heatmap(missing_values_experience, annot=False, cmap='viridis', cbar=True)\n",
    "\n",
    "plt.tight_layout()  # Adjust layout to make room for labels\n",
    "plt.title('Heatmap of Missing Values by Country (Experience Columns)')\n",
    "plt.show()"
   ]
  },
  {
   "cell_type": "markdown",
   "metadata": {},
   "source": [
    "So both **Iran** and **Turkey** are missing all data on experiences of children in school, which is a shame. However it would be nice to compare childrens experiences across the other countries. **I want a pivot table like the ones above but with the experiences columns instead of literacy scores, etc.**"
   ]
  },
  {
   "cell_type": "markdown",
   "metadata": {},
   "source": [
    "I want to explore these gaps in the Iran and Turkey data a little more. However, first I am going to look at **Egypt** in more detail. The total number of rows for **Egypt** is 7354. This is helpful to see how many values are missing across the columns."
   ]
  },
  {
   "cell_type": "code",
   "execution_count": null,
   "metadata": {
    "scrolled": true
   },
   "outputs": [],
   "source": [
    "missing_values_for_egypt = missing_values_demographic.loc['Egypt']\n",
    "print(missing_values_for_egypt)"
   ]
  },
  {
   "cell_type": "markdown",
   "metadata": {},
   "source": [
    "Now I want to explore if the child's immigrant status in each country plays a role in data being missing. Let's first start by understanding how many children are in each group for each country."
   ]
  },
  {
   "cell_type": "code",
   "execution_count": null,
   "metadata": {
    "scrolled": true
   },
   "outputs": [],
   "source": [
    "# Apply value_counts() to the 'ASBH02A' column for each group\n",
    "value_counts_per_group = grouped['ASBH02A'].apply(lambda x: x.value_counts(dropna=False))\n",
    "\n",
    "print(value_counts_per_group)"
   ]
  },
  {
   "cell_type": "markdown",
   "metadata": {},
   "source": [
    "Now let's created a pivot table to understand how country and immigrant status affect the number of missing values. "
   ]
  },
  {
   "cell_type": "code",
   "execution_count": null,
   "metadata": {
    "scrolled": true
   },
   "outputs": [],
   "source": [
    "pivot_table_test = df_selected.pivot_table(\n",
    "    index=['Country','ASBH02A'],\n",
    "    aggfunc=lambda x: x.isnull().sum(),\n",
    ")"
   ]
  },
  {
   "cell_type": "code",
   "execution_count": null,
   "metadata": {
    "scrolled": true
   },
   "outputs": [],
   "source": [
    "print(pivot_table_test)"
   ]
  },
  {
   "cell_type": "code",
   "execution_count": null,
   "metadata": {
    "scrolled": true
   },
   "outputs": [],
   "source": [
    "column_order= ['ASBH02B', 'ASBH03A', 'ASBH04', 'ASBH15A', 'ASBH15B', 'ASBH16', 'ASBH17A', 'ASBH17B', 'ASBH18AA', 'ASBH18AB', 'ASBG01', 'ASBG03','MINAGEARRIVAL', 'rounded_ages','ASBG10C', 'ASBG10D', 'ASBG10E', 'ASBG10F', 'ASBG11A', 'ASBG11B', 'ASBG11C', 'ASBG11D', 'ASBG11E', 'ASBG11F', 'ASBG11G', 'ASBG11H', 'ASBG11I', 'ASBG11J']"
   ]
  },
  {
   "cell_type": "code",
   "execution_count": null,
   "metadata": {
    "scrolled": true
   },
   "outputs": [],
   "source": [
    "pivot_table_test = pivot_table_test.reindex(column_order, axis=1)"
   ]
  },
  {
   "cell_type": "code",
   "execution_count": null,
   "metadata": {
    "scrolled": true
   },
   "outputs": [],
   "source": [
    "print(pivot_table_test)"
   ]
  },
  {
   "cell_type": "code",
   "execution_count": null,
   "metadata": {
    "scrolled": true
   },
   "outputs": [],
   "source": [
    "# Create the Heatmap\n",
    "plt.figure(figsize=(12, 8))\n",
    "heatmap_test = sns.heatmap(pivot_table_test, annot=False, cmap='viridis', cbar=True)\n",
    "# Rotate the column names\n",
    "heatmap_test.set_xticklabels(heatmap.get_xticklabels(), rotation=45, ha='right')\n",
    "plt.tight_layout()  # Adjust layout to make room for labels\n",
    "plt.title('Heatmap of Missing Values by Country and Immigration Status')\n",
    "plt.show()"
   ]
  },
  {
   "cell_type": "markdown",
   "metadata": {},
   "source": [
    "There does not seem to be more gaps in the data for those who are not born in the countries where they have taken the test (ASBH02A == No). So that's good. "
   ]
  },
  {
   "cell_type": "markdown",
   "metadata": {},
   "source": [
    "We need to be careful as I'm not sure if the heatmap is showing the colours as percentage of possible values or as total values (Some countries will have less possible values than others)"
   ]
  },
  {
   "cell_type": "code",
   "execution_count": null,
   "metadata": {
    "scrolled": true
   },
   "outputs": [],
   "source": [
    "# Calculate the total number of elements in each group\n",
    "total_counts = df_selected.groupby(['Country','ASBH02A']).size()\n",
    "\n",
    "# Calculate the percentage of missing values\n",
    "percentage_missing = pivot_table_test.div(total_counts, axis=0) * 100\n",
    "\n",
    "print(\"Pivot Table with Percentage of Missing Values:\\n\", percentage_missing)"
   ]
  },
  {
   "cell_type": "code",
   "execution_count": null,
   "metadata": {
    "scrolled": false
   },
   "outputs": [],
   "source": [
    "# Create the heatmap\n",
    "plt.figure(figsize=(10, 6))\n",
    "sns.heatmap(percentage_missing, annot=False, cmap='viridis', fmt='.2f')\n",
    "\n",
    "plt.title('Percentage of Missing Values Heatmap')\n",
    "plt.show()"
   ]
  },
  {
   "cell_type": "markdown",
   "metadata": {},
   "source": [
    "So **Iran** and **Turkey** have no experience data and **Germany** is also missing quite a few columns."
   ]
  },
  {
   "cell_type": "code",
   "execution_count": null,
   "metadata": {
    "scrolled": true
   },
   "outputs": [],
   "source": [
    "grouped[\"ASBH02B\"].value_counts(dropna=False)"
   ]
  },
  {
   "cell_type": "code",
   "execution_count": null,
   "metadata": {
    "scrolled": true
   },
   "outputs": [],
   "source": [
    "double_grouped = df_selected.groupby(['Country','ASBH02A'])          "
   ]
  },
  {
   "cell_type": "code",
   "execution_count": null,
   "metadata": {
    "scrolled": true
   },
   "outputs": [],
   "source": [
    "double_grouped[\"ASBH02B\"].value_counts(dropna=False)"
   ]
  },
  {
   "cell_type": "markdown",
   "metadata": {},
   "source": [
    "I need to clean up the 6s in this column as they also represent NA, I believe."
   ]
  },
  {
   "cell_type": "code",
   "execution_count": null,
   "metadata": {
    "scrolled": true
   },
   "outputs": [],
   "source": [
    "double_grouped[\"ASBH03A\"].value_counts(dropna=False)"
   ]
  },
  {
   "cell_type": "code",
   "execution_count": null,
   "metadata": {
    "scrolled": true
   },
   "outputs": [],
   "source": [
    "double_grouped[\"ASBH04\"].value_counts(dropna=False)"
   ]
  },
  {
   "cell_type": "code",
   "execution_count": null,
   "metadata": {},
   "outputs": [],
   "source": [
    "double_grouped[\"ASBH15A\"].value_counts(dropna=False)"
   ]
  },
  {
   "cell_type": "code",
   "execution_count": null,
   "metadata": {},
   "outputs": [],
   "source": [
    "double_grouped[\"ASBH16\"].value_counts(dropna=False)"
   ]
  },
  {
   "cell_type": "markdown",
   "metadata": {},
   "source": [
    "\"ASBH16\" is hopes for child's level of education - most parents seem to have answered this."
   ]
  },
  {
   "cell_type": "markdown",
   "metadata": {},
   "source": [
    "Germany, Iran and Turkey have not answered any questions on how often lang of test spoken at home (4) parents' level of edu 15,  professions 17, level of language 18. Iran and Turkey have also not answered sex of child G01 or how often child says lang spoken at home G03."
   ]
  },
  {
   "cell_type": "markdown",
   "metadata": {},
   "source": [
    "## It would be interesting to compare child and parents' experience of lang of test spoken at home."
   ]
  },
  {
   "cell_type": "markdown",
   "metadata": {},
   "source": [
    "Where is age in all this??"
   ]
  },
  {
   "cell_type": "markdown",
   "metadata": {},
   "source": [
    "You did well today, bravo!"
   ]
  },
  {
   "cell_type": "code",
   "execution_count": null,
   "metadata": {},
   "outputs": [],
   "source": []
  }
 ],
 "metadata": {
  "kernelspec": {
   "display_name": "Python 3",
   "language": "python",
   "name": "python3"
  },
  "language_info": {
   "codemirror_mode": {
    "name": "ipython",
    "version": 3
   },
   "file_extension": ".py",
   "mimetype": "text/x-python",
   "name": "python",
   "nbconvert_exporter": "python",
   "pygments_lexer": "ipython3",
   "version": "3.7.6"
  }
 },
 "nbformat": 4,
 "nbformat_minor": 4
}
