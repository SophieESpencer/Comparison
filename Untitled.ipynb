{
 "cells": [
  {
   "cell_type": "code",
   "execution_count": 1,
   "metadata": {},
   "outputs": [
    {
     "name": "stdout",
     "output_type": "stream",
     "text": [
      "    Category_A  Category_B  Category_C\n",
      "ID                                    \n",
      "1            1           0           0\n",
      "2            0           1           0\n",
      "3            1           0           0\n",
      "4            0           0           1\n",
      "5            0           1           0\n"
     ]
    }
   ],
   "source": [
    "import pandas as pd\n",
    "\n",
    "# Step 1: Create a sample DataFrame\n",
    "data = {\n",
    "    'ID': [1, 2, 3, 4, 5],\n",
    "    'Category': ['A', 'B', 'A', 'C', 'B']\n",
    "}\n",
    "df = pd.DataFrame(data)\n",
    "\n",
    "# Step 2: Use pd.get_dummies to create dummy variables\n",
    "dummies = pd.get_dummies(df['Category'], prefix='Category')\n",
    "\n",
    "# Step 3: Combine the dummies with the original DataFrame\n",
    "df = pd.concat([df, dummies], axis=1)\n",
    "\n",
    "# Step 4: Use pivot_table to reshape the DataFrame\n",
    "pivoted_df = df.pivot_table(index='ID', values=['Category_A', 'Category_B', 'Category_C'], aggfunc='sum')\n",
    "\n",
    "# Display the resulting DataFrame\n",
    "print(pivoted_df)\n"
   ]
  },
  {
   "cell_type": "code",
   "execution_count": null,
   "metadata": {},
   "outputs": [],
   "source": []
  }
 ],
 "metadata": {
  "kernelspec": {
   "display_name": "Python 3",
   "language": "python",
   "name": "python3"
  },
  "language_info": {
   "codemirror_mode": {
    "name": "ipython",
    "version": 3
   },
   "file_extension": ".py",
   "mimetype": "text/x-python",
   "name": "python",
   "nbconvert_exporter": "python",
   "pygments_lexer": "ipython3",
   "version": "3.7.6"
  }
 },
 "nbformat": 4,
 "nbformat_minor": 4
}
