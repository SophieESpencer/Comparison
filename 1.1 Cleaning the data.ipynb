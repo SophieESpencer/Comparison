{
 "cells": [
  {
   "cell_type": "code",
   "execution_count": 1,
   "metadata": {
    "scrolled": true
   },
   "outputs": [],
   "source": [
    "import pandas as pd\n",
    "import numpy as np\n",
    "pd.set_option(\"display.max_columns\", None)\n",
    "pd.set_option(\"display.max_rows\", None)"
   ]
  },
  {
   "cell_type": "code",
   "execution_count": 2,
   "metadata": {},
   "outputs": [],
   "source": [
    "df= pd.read_excel('data99.xlsx', index_col=0)"
   ]
  },
  {
   "cell_type": "markdown",
   "metadata": {},
   "source": [
    "Firstly, I want to remove those that have no answer to the asbh02a question because this is the most important for my analysis. "
   ]
  },
  {
   "cell_type": "code",
   "execution_count": 3,
   "metadata": {},
   "outputs": [
    {
     "name": "stdout",
     "output_type": "stream",
     "text": [
      "<class 'pandas.core.frame.DataFrame'>\n",
      "Int64Index: 50367 entries, 0 to 50366\n",
      "Data columns (total 57 columns):\n",
      " #   Column    Non-Null Count  Dtype  \n",
      "---  ------    --------------  -----  \n",
      " 0   IDCNTRY   50367 non-null  int64  \n",
      " 1   IDSTUD    50367 non-null  int64  \n",
      " 2   ASBH02A   41503 non-null  object \n",
      " 3   ASBH02B   16269 non-null  object \n",
      " 4   ASBH03A   41179 non-null  object \n",
      " 5   ASBH04    41231 non-null  object \n",
      " 6   ASBH15A   37405 non-null  object \n",
      " 7   ASBH15B   34597 non-null  object \n",
      " 8   ASBH16    40406 non-null  object \n",
      " 9   ASBH17A   36503 non-null  object \n",
      " 10  ASBH17B   32361 non-null  object \n",
      " 11  ASBH18AA  40161 non-null  object \n",
      " 12  ASBH18AB  35131 non-null  object \n",
      " 13  ASBG01    49428 non-null  object \n",
      " 14  ASBG03    48168 non-null  object \n",
      " 15  ASDAGE    50358 non-null  float64\n",
      " 16  ASBG10A   48311 non-null  object \n",
      " 17  ASBG10B   48077 non-null  object \n",
      " 18  ASBG10C   47893 non-null  object \n",
      " 19  ASBG10D   47822 non-null  object \n",
      " 20  ASBG10E   47844 non-null  object \n",
      " 21  ASBG10F   47945 non-null  object \n",
      " 22  ASBG11A   47967 non-null  object \n",
      " 23  ASBG11B   47756 non-null  object \n",
      " 24  ASBG11C   47634 non-null  object \n",
      " 25  ASBG11D   47497 non-null  object \n",
      " 26  ASBG11E   47543 non-null  object \n",
      " 27  ASBG11F   47843 non-null  object \n",
      " 28  ASBG11G   47707 non-null  object \n",
      " 29  ASBG11H   47701 non-null  object \n",
      " 30  ASBG11I   47647 non-null  object \n",
      " 31  ASBG11J   47613 non-null  object \n",
      " 32  ASRREA01  50367 non-null  float64\n",
      " 33  ASRREA02  50367 non-null  float64\n",
      " 34  ASRREA03  50367 non-null  float64\n",
      " 35  ASRREA04  50367 non-null  float64\n",
      " 36  ASRREA05  50367 non-null  float64\n",
      " 37  ASRLIT01  50367 non-null  float64\n",
      " 38  ASRLIT02  50367 non-null  float64\n",
      " 39  ASRLIT03  50367 non-null  float64\n",
      " 40  ASRLIT04  50367 non-null  float64\n",
      " 41  ASRLIT05  50367 non-null  float64\n",
      " 42  ASRINF01  50367 non-null  float64\n",
      " 43  ASRINF02  50367 non-null  float64\n",
      " 44  ASRINF03  50367 non-null  float64\n",
      " 45  ASRINF04  50367 non-null  float64\n",
      " 46  ASRINF05  50367 non-null  float64\n",
      " 47  ASRIIE01  50367 non-null  float64\n",
      " 48  ASRIIE02  50367 non-null  float64\n",
      " 49  ASRIIE03  50367 non-null  float64\n",
      " 50  ASRIIE04  50367 non-null  float64\n",
      " 51  ASRIIE05  50367 non-null  float64\n",
      " 52  ASRRSI01  50367 non-null  float64\n",
      " 53  ASRRSI02  50367 non-null  float64\n",
      " 54  ASRRSI03  50367 non-null  float64\n",
      " 55  ASRRSI04  50367 non-null  float64\n",
      " 56  ASRRSI05  50367 non-null  float64\n",
      "dtypes: float64(26), int64(2), object(29)\n",
      "memory usage: 22.3+ MB\n"
     ]
    }
   ],
   "source": [
    "df.info()"
   ]
  },
  {
   "cell_type": "code",
   "execution_count": 4,
   "metadata": {},
   "outputs": [],
   "source": [
    "df = df.dropna(subset= ['ASBH02A'])"
   ]
  },
  {
   "cell_type": "code",
   "execution_count": 5,
   "metadata": {},
   "outputs": [
    {
     "name": "stdout",
     "output_type": "stream",
     "text": [
      "<class 'pandas.core.frame.DataFrame'>\n",
      "Int64Index: 41503 entries, 0 to 50364\n",
      "Data columns (total 57 columns):\n",
      " #   Column    Non-Null Count  Dtype  \n",
      "---  ------    --------------  -----  \n",
      " 0   IDCNTRY   41503 non-null  int64  \n",
      " 1   IDSTUD    41503 non-null  int64  \n",
      " 2   ASBH02A   41503 non-null  object \n",
      " 3   ASBH02B   16269 non-null  object \n",
      " 4   ASBH03A   40913 non-null  object \n",
      " 5   ASBH04    40977 non-null  object \n",
      " 6   ASBH15A   37094 non-null  object \n",
      " 7   ASBH15B   34352 non-null  object \n",
      " 8   ASBH16    40023 non-null  object \n",
      " 9   ASBH17A   36281 non-null  object \n",
      " 10  ASBH17B   32207 non-null  object \n",
      " 11  ASBH18AA  39856 non-null  object \n",
      " 12  ASBH18AB  34929 non-null  object \n",
      " 13  ASBG01    41075 non-null  object \n",
      " 14  ASBG03    39996 non-null  object \n",
      " 15  ASDAGE    41498 non-null  float64\n",
      " 16  ASBG10A   40195 non-null  object \n",
      " 17  ASBG10B   40008 non-null  object \n",
      " 18  ASBG10C   39886 non-null  object \n",
      " 19  ASBG10D   39814 non-null  object \n",
      " 20  ASBG10E   39847 non-null  object \n",
      " 21  ASBG10F   39904 non-null  object \n",
      " 22  ASBG11A   39905 non-null  object \n",
      " 23  ASBG11B   39771 non-null  object \n",
      " 24  ASBG11C   39659 non-null  object \n",
      " 25  ASBG11D   39605 non-null  object \n",
      " 26  ASBG11E   39627 non-null  object \n",
      " 27  ASBG11F   39793 non-null  object \n",
      " 28  ASBG11G   39733 non-null  object \n",
      " 29  ASBG11H   39715 non-null  object \n",
      " 30  ASBG11I   39686 non-null  object \n",
      " 31  ASBG11J   39679 non-null  object \n",
      " 32  ASRREA01  41503 non-null  float64\n",
      " 33  ASRREA02  41503 non-null  float64\n",
      " 34  ASRREA03  41503 non-null  float64\n",
      " 35  ASRREA04  41503 non-null  float64\n",
      " 36  ASRREA05  41503 non-null  float64\n",
      " 37  ASRLIT01  41503 non-null  float64\n",
      " 38  ASRLIT02  41503 non-null  float64\n",
      " 39  ASRLIT03  41503 non-null  float64\n",
      " 40  ASRLIT04  41503 non-null  float64\n",
      " 41  ASRLIT05  41503 non-null  float64\n",
      " 42  ASRINF01  41503 non-null  float64\n",
      " 43  ASRINF02  41503 non-null  float64\n",
      " 44  ASRINF03  41503 non-null  float64\n",
      " 45  ASRINF04  41503 non-null  float64\n",
      " 46  ASRINF05  41503 non-null  float64\n",
      " 47  ASRIIE01  41503 non-null  float64\n",
      " 48  ASRIIE02  41503 non-null  float64\n",
      " 49  ASRIIE03  41503 non-null  float64\n",
      " 50  ASRIIE04  41503 non-null  float64\n",
      " 51  ASRIIE05  41503 non-null  float64\n",
      " 52  ASRRSI01  41503 non-null  float64\n",
      " 53  ASRRSI02  41503 non-null  float64\n",
      " 54  ASRRSI03  41503 non-null  float64\n",
      " 55  ASRRSI04  41503 non-null  float64\n",
      " 56  ASRRSI05  41503 non-null  float64\n",
      "dtypes: float64(26), int64(2), object(29)\n",
      "memory usage: 18.4+ MB\n"
     ]
    }
   ],
   "source": [
    "df.info()"
   ]
  },
  {
   "cell_type": "code",
   "execution_count": 6,
   "metadata": {},
   "outputs": [],
   "source": [
    "df = df[df['ASBH02A'] != 9]"
   ]
  },
  {
   "cell_type": "code",
   "execution_count": 7,
   "metadata": {},
   "outputs": [
    {
     "name": "stdout",
     "output_type": "stream",
     "text": [
      "<class 'pandas.core.frame.DataFrame'>\n",
      "Int64Index: 41365 entries, 0 to 50364\n",
      "Data columns (total 57 columns):\n",
      " #   Column    Non-Null Count  Dtype  \n",
      "---  ------    --------------  -----  \n",
      " 0   IDCNTRY   41365 non-null  int64  \n",
      " 1   IDSTUD    41365 non-null  int64  \n",
      " 2   ASBH02A   41365 non-null  object \n",
      " 3   ASBH02B   16131 non-null  object \n",
      " 4   ASBH03A   40775 non-null  object \n",
      " 5   ASBH04    40839 non-null  object \n",
      " 6   ASBH15A   36956 non-null  object \n",
      " 7   ASBH15B   34214 non-null  object \n",
      " 8   ASBH16    39885 non-null  object \n",
      " 9   ASBH17A   36143 non-null  object \n",
      " 10  ASBH17B   32069 non-null  object \n",
      " 11  ASBH18AA  39718 non-null  object \n",
      " 12  ASBH18AB  34791 non-null  object \n",
      " 13  ASBG01    40945 non-null  object \n",
      " 14  ASBG03    39866 non-null  object \n",
      " 15  ASDAGE    41360 non-null  float64\n",
      " 16  ASBG10A   40065 non-null  object \n",
      " 17  ASBG10B   39879 non-null  object \n",
      " 18  ASBG10C   39757 non-null  object \n",
      " 19  ASBG10D   39687 non-null  object \n",
      " 20  ASBG10E   39719 non-null  object \n",
      " 21  ASBG10F   39777 non-null  object \n",
      " 22  ASBG11A   39775 non-null  object \n",
      " 23  ASBG11B   39643 non-null  object \n",
      " 24  ASBG11C   39530 non-null  object \n",
      " 25  ASBG11D   39478 non-null  object \n",
      " 26  ASBG11E   39501 non-null  object \n",
      " 27  ASBG11F   39664 non-null  object \n",
      " 28  ASBG11G   39605 non-null  object \n",
      " 29  ASBG11H   39587 non-null  object \n",
      " 30  ASBG11I   39560 non-null  object \n",
      " 31  ASBG11J   39553 non-null  object \n",
      " 32  ASRREA01  41365 non-null  float64\n",
      " 33  ASRREA02  41365 non-null  float64\n",
      " 34  ASRREA03  41365 non-null  float64\n",
      " 35  ASRREA04  41365 non-null  float64\n",
      " 36  ASRREA05  41365 non-null  float64\n",
      " 37  ASRLIT01  41365 non-null  float64\n",
      " 38  ASRLIT02  41365 non-null  float64\n",
      " 39  ASRLIT03  41365 non-null  float64\n",
      " 40  ASRLIT04  41365 non-null  float64\n",
      " 41  ASRLIT05  41365 non-null  float64\n",
      " 42  ASRINF01  41365 non-null  float64\n",
      " 43  ASRINF02  41365 non-null  float64\n",
      " 44  ASRINF03  41365 non-null  float64\n",
      " 45  ASRINF04  41365 non-null  float64\n",
      " 46  ASRINF05  41365 non-null  float64\n",
      " 47  ASRIIE01  41365 non-null  float64\n",
      " 48  ASRIIE02  41365 non-null  float64\n",
      " 49  ASRIIE03  41365 non-null  float64\n",
      " 50  ASRIIE04  41365 non-null  float64\n",
      " 51  ASRIIE05  41365 non-null  float64\n",
      " 52  ASRRSI01  41365 non-null  float64\n",
      " 53  ASRRSI02  41365 non-null  float64\n",
      " 54  ASRRSI03  41365 non-null  float64\n",
      " 55  ASRRSI04  41365 non-null  float64\n",
      " 56  ASRRSI05  41365 non-null  float64\n",
      "dtypes: float64(26), int64(2), object(29)\n",
      "memory usage: 18.3+ MB\n"
     ]
    }
   ],
   "source": [
    "df.info()"
   ]
  },
  {
   "cell_type": "markdown",
   "metadata": {},
   "source": [
    "Now I want to change the countries so that they are easier for analysis"
   ]
  },
  {
   "cell_type": "code",
   "execution_count": 8,
   "metadata": {},
   "outputs": [],
   "source": [
    "df= df.rename(columns={'IDCNTRY': 'Country'})\n",
    "\n",
    "# Mapping dictionary\n",
    "update_dict = {40: 'Austria', 818: 'Egypt', 250:'France', 276:'Germany',364:'Iran',400:'Jordan',528:'Netherlands',752:'Sweden',792:'Turkey'}\n",
    "\n",
    "# Updating the column using map\n",
    "df['Country'] = df['Country'].map(update_dict).fillna(df['Country'])"
   ]
  },
  {
   "cell_type": "code",
   "execution_count": 10,
   "metadata": {
    "scrolled": true
   },
   "outputs": [],
   "source": [
    "df['ASDAGE'] = df['ASDAGE'].round()"
   ]
  },
  {
   "cell_type": "code",
   "execution_count": 11,
   "metadata": {
    "scrolled": true
   },
   "outputs": [
    {
     "data": {
      "text/plain": [
       "10.0    32829\n",
       "11.0     6158\n",
       "9.0      1762\n",
       "12.0      516\n",
       "13.0       63\n",
       "14.0       14\n",
       "8.0        14\n",
       "99.0        3\n",
       "7.0         1\n",
       "Name: ASDAGE, dtype: int64"
      ]
     },
     "execution_count": 11,
     "metadata": {},
     "output_type": "execute_result"
    }
   ],
   "source": [
    "df['ASDAGE'].value_counts()"
   ]
  },
  {
   "cell_type": "markdown",
   "metadata": {},
   "source": [
    "# I should replace the 99 with NaN"
   ]
  },
  {
   "cell_type": "code",
   "execution_count": 12,
   "metadata": {},
   "outputs": [
    {
     "name": "stdout",
     "output_type": "stream",
     "text": [
      "Country     [Turkey, Austria, Germany, Egypt, France, Iran...\n",
      "IDSTUD      [50010601, 50010602, 50010603, 50010604, 50010...\n",
      "ASBH02A                                       [1, 2, Yes, No]\n",
      "ASBH02B     [6, 2, 1, 3, 4, 9, nan, 3 to 5 years old, 8 ye...\n",
      "ASBH03A                               [1, 2, 9, Yes, No, nan]\n",
      "ASBH04      [1, 2, 9, 4, 3, Always, Never, Almost always, ...\n",
      "ASBH15A     [99, 5, 2, 4, 7, 1, 6, 3, 8, 10, 9, <Master’s ...\n",
      "ASBH15B     [7, 3, 99, 6, 4, 5, 8, 2, 1, 10, 9, <Master’s ...\n",
      "ASBH16      [6, 3, 5, 4, 9, 2, 1, Finish <Short-cycle tert...\n",
      "ASBH17A     [99, 1, 3, 4, 10, 12, 11, 8, 2, 7, 6, 5, 9, Co...\n",
      "ASBH17B     [9, 2, 99, 5, 3, 6, 12, 4, 10, 8, 11, 7, 1, Co...\n",
      "ASBH18AA                           [9, 1, 2, 6, Yes, No, nan]\n",
      "ASBH18AB                           [1, 9, 2, 6, Yes, No, nan]\n",
      "ASBG01                        [2, 1, nan, Girl, Boy, <Other>]\n",
      "ASBG03      [1, 3, 2, 9, 4, nan, I always speak <language ...\n",
      "ASDAGE      [10.0, 9.0, 11.0, 12.0, 14.0, 8.0, 99.0, 13.0,...\n",
      "ASBG10A     [1, 2, 3, 9, 4, nan, Agree a little, Agree a l...\n",
      "ASBG10B     [1, 2, 4, 3, 9, nan, Disagree a little, Agree ...\n",
      "ASBG10C     [1, 2, 4, 9, 3, nan, Agree a little, Agree a l...\n",
      "ASBG10D     [1, 2, 3, 4, 9, nan, Agree a little, Agree a l...\n",
      "ASBG10E     [1, 2, 4, 3, 9, nan, Disagree a little, Agree ...\n",
      "ASBG10F     [1, 2, 3, 4, 9, nan, Agree a lot, Agree a litt...\n",
      "ASBG11A     [4, 1, 3, 2, 9, nan, Never, Once or twice a mo...\n",
      "ASBG11B     [4, 3, 1, 2, 9, nan, Never, Once or twice a mo...\n",
      "ASBG11C     [4, 1, 3, 2, 9, nan, A few times a year, At le...\n",
      "ASBG11D     [4, 2, 1, 3, 9, nan, Once or twice a month, Ne...\n",
      "ASBG11E     [4, 9, 3, 1, 2, nan, Never, A few times a year...\n",
      "ASBG11F     [4, 3, 1, 2, 9, nan, Never, A few times a year...\n",
      "ASBG11G     [4, 3, 1, 9, 2, nan, Never, Once or twice a mo...\n",
      "ASBG11H     [4, 1, 3, 2, 9, nan, A few times a year, Never...\n",
      "ASBG11I     [4, 3, 1, 2, 9, nan, Never, At least once a we...\n",
      "ASBG11J     [4, 2, 3, 1, 9, nan, Never, A few times a year...\n",
      "ASRREA01    [575.43893, 624.14372, 566.97797, 559.10952, 5...\n",
      "ASRREA02    [557.2702, 612.68392, 568.76819, 606.69925, 57...\n",
      "ASRREA03    [561.95322, 544.73823, 532.78288, 618.60416, 5...\n",
      "ASRREA04    [573.6631, 503.87599, 529.96707, 537.07661, 58...\n",
      "ASRREA05    [567.45202, 556.77689, 574.76885, 578.13802, 5...\n",
      "ASRLIT01    [574.18458, 558.67343, 510.07336, 552.78456, 5...\n",
      "ASRLIT02    [538.50995, 490.57312, 546.94331, 549.12705, 5...\n",
      "ASRLIT03    [552.13065, 518.70781, 579.40362, 549.04198, 5...\n",
      "ASRLIT04    [544.30274, 579.02561, 573.21826, 574.22474, 5...\n",
      "ASRLIT05    [526.00088, 587.62561, 543.85171, 579.36628, 5...\n",
      "ASRINF01    [603.4214, 589.18148, 588.0798, 572.97888, 519...\n",
      "ASRINF02    [557.18476, 567.6433, 530.325, 574.68991, 555....\n",
      "ASRINF03    [579.4064, 583.6373, 608.01411, 587.09957, 541...\n",
      "ASRINF04    [589.70854, 605.92949, 592.02409, 616.07931, 5...\n",
      "ASRINF05    [607.70484, 612.32853, 604.63968, 627.0463, 54...\n",
      "ASRIIE01    [512.47061, 533.28483, 555.22771, 597.19872, 5...\n",
      "ASRIIE02    [531.55392, 570.44237, 511.40394, 550.02047, 5...\n",
      "ASRIIE03    [530.54494, 533.81285, 535.36974, 590.29351, 5...\n",
      "ASRIIE04    [532.47086, 527.90432, 577.63833, 604.19057, 5...\n",
      "ASRIIE05    [551.68836, 552.31885, 579.58198, 599.13247, 5...\n",
      "ASRRSI01    [511.66661, 509.93363, 595.41526, 602.64538, 5...\n",
      "ASRRSI02    [550.91604, 590.28715, 531.5494, 548.77512, 57...\n",
      "ASRRSI03    [541.14507, 528.73534, 554.99954, 569.19386, 5...\n",
      "ASRRSI04    [547.95804, 527.73292, 616.19334, 604.42141, 5...\n",
      "ASRRSI05    [576.53241, 552.69589, 579.88415, 591.9977, 60...\n",
      "dtype: object\n"
     ]
    }
   ],
   "source": [
    "# Apply unique() to each column\n",
    "unique_values = df.apply(lambda col: col.unique())\n",
    "\n",
    "print(unique_values)"
   ]
  },
  {
   "cell_type": "code",
   "execution_count": 13,
   "metadata": {},
   "outputs": [],
   "source": [
    "# Define the function to map patterns to integers\n",
    "def map_using_patterns(text):\n",
    "    # Dictionary of regex patterns to integers\n",
    "    pattern_to_integer = {\n",
    "        r'Younger': 1,\n",
    "        r'5': 2,\n",
    "        r'7': 3,\n",
    "        r'8': 4\n",
    "    }\n",
    "\n",
    "    # Check if the input is a string\n",
    "    if isinstance(text, str):\n",
    "        for pattern, integer in pattern_to_integer.items():\n",
    "            if pd.Series([text]).str.contains(pattern).any():\n",
    "                return integer\n",
    "    return text  # Return the original value if it's not a string or no pattern matches\n",
    "\n",
    "# Apply the function to the 'ASBH02B' column\n",
    "df['ASBH02B'] = df['ASBH02B'].apply(map_using_patterns)\n"
   ]
  },
  {
   "cell_type": "code",
   "execution_count": 14,
   "metadata": {},
   "outputs": [],
   "source": [
    "df['ASBH02B'] = df['ASBH02B'].replace({6.0: np.nan, 9.0: np.nan})"
   ]
  },
  {
   "cell_type": "code",
   "execution_count": 16,
   "metadata": {},
   "outputs": [
    {
     "data": {
      "text/plain": [
       "NaN    38671\n",
       "1.0     1110\n",
       "2.0      852\n",
       "3.0      483\n",
       "4.0      249\n",
       "Name: ASBH02B, dtype: int64"
      ]
     },
     "execution_count": 16,
     "metadata": {},
     "output_type": "execute_result"
    }
   ],
   "source": [
    "df['ASBH02B'].value_counts(dropna=False)"
   ]
  },
  {
   "cell_type": "code",
   "execution_count": 17,
   "metadata": {},
   "outputs": [],
   "source": [
    "def populate_column(row):\n",
    "    if row['ASBH02B'] == 1:\n",
    "        return 0\n",
    "    elif row['ASBH02B'] == 2:\n",
    "        return 3\n",
    "    elif row['ASBH02B'] == 3:\n",
    "        return 6\n",
    "    elif row['ASBH02B'] == 4:\n",
    "        return 8\n",
    "    else:\n",
    "        return None  # Or any default value\n",
    "\n",
    "# Apply the function to each row\n",
    "df['MINAGEARRIVAL'] = df.apply(populate_column, axis=1)"
   ]
  },
  {
   "cell_type": "code",
   "execution_count": 18,
   "metadata": {},
   "outputs": [
    {
     "data": {
      "text/plain": [
       "NaN    38671\n",
       "0.0     1110\n",
       "3.0      852\n",
       "6.0      483\n",
       "8.0      249\n",
       "Name: MINAGEARRIVAL, dtype: int64"
      ]
     },
     "execution_count": 18,
     "metadata": {},
     "output_type": "execute_result"
    }
   ],
   "source": [
    "df['MINAGEARRIVAL'].value_counts(dropna=False)"
   ]
  },
  {
   "cell_type": "code",
   "execution_count": 19,
   "metadata": {},
   "outputs": [],
   "source": [
    "df.to_excel('cleandata99.xlsx')"
   ]
  }
 ],
 "metadata": {
  "kernelspec": {
   "display_name": "Python 3",
   "language": "python",
   "name": "python3"
  },
  "language_info": {
   "codemirror_mode": {
    "name": "ipython",
    "version": 3
   },
   "file_extension": ".py",
   "mimetype": "text/x-python",
   "name": "python",
   "nbconvert_exporter": "python",
   "pygments_lexer": "ipython3",
   "version": "3.7.6"
  }
 },
 "nbformat": 4,
 "nbformat_minor": 4
}
