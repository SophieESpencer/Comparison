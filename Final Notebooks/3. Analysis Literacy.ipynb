{
 "cells": [
  {
   "cell_type": "markdown",
   "metadata": {},
   "source": [
    "# Comparative Analysis of Literacy Assessments Scores of Native- and Foreign-born children using PIRLS 2021 Data"
   ]
  },
  {
   "cell_type": "markdown",
   "metadata": {
    "tags": []
   },
   "source": [
    "## Introduction"
   ]
  },
  {
   "cell_type": "markdown",
   "metadata": {},
   "source": [
    "In the below analysis I use data sourced from IEA’s Progress in International Reading Literacy Study 2021 (PIRLS 2021) to assess literacy assessment scores for native and foreign-born children across nine countries with significant refugee populations. This study should be considered as a preliminary quantitative study to identify countries that are exhibiting best practice regarding the integration of foreign-born children into host country school systems. "
   ]
  },
  {
   "cell_type": "markdown",
   "metadata": {
    "tags": []
   },
   "source": [
    "### About PIRLS"
   ]
  },
  {
   "cell_type": "markdown",
   "metadata": {},
   "source": [
    "PIRLS is an international assessment of reading for fourth graders conducted every five years, starting in 2001. In total, almost 400,000 children were assessed in the 2021 cohort, across 57 countries. As well as reading assessments, the PIRLS data also contains answers to context questionnaires conducted with students, parents, teachers and schools, providing invaluable insight into the reality of learning environments.\n",
    "\n",
    "For more information on PIRLS, please see [here.](https://www.iea.nl/studies/iea/pirls)"
   ]
  },
  {
   "cell_type": "markdown",
   "metadata": {},
   "source": [
    "SOURCE: IEA’s Progress in International Reading Literacy Study – PIRLS 2021 Copyright © 2023 International Association for the Evaluation of Educational Achievement (IEA). Publisher: TIMSS & PIRLS International Study Center, Lynch School of Education and Human Development, Boston College."
   ]
  },
  {
   "cell_type": "markdown",
   "metadata": {
    "tags": []
   },
   "source": [
    "### Data Compiling, Cleaning and Filtering"
   ]
  },
  {
   "cell_type": "markdown",
   "metadata": {},
   "source": [
    "Data for this analysis was downloaded [here](https://pirls2021.org/data/) as separate SPSS files for questionnaire type and country. \n",
    "\n",
    "After a brief analysis of what each data source provided, I chose files to use, converted them to excel files and concatenated them into one dataset. I then cleaned and filtered this new dataset. \n",
    " \n",
    "To view these processes, please <a href=\"https://github.com/SophieESpencer/Comparison/tree/main/Final%20Notebooks\">click here</a>.\n",
    " "
   ]
  },
  {
   "cell_type": "markdown",
   "metadata": {
    "tags": []
   },
   "source": [
    "## Importing the data and relevant packages"
   ]
  },
  {
   "cell_type": "code",
   "execution_count": 1,
   "metadata": {
    "tags": []
   },
   "outputs": [],
   "source": [
    "import pandas as pd\n",
    "import numpy as np\n",
    "import matplotlib.pyplot as plt\n",
    "import seaborn as sns\n",
    "pd.set_option(\"display.max_columns\", None)\n",
    "pd.set_option(\"display.max_rows\", None)"
   ]
  },
  {
   "cell_type": "code",
   "execution_count": 2,
   "metadata": {
    "scrolled": true,
    "tags": []
   },
   "outputs": [],
   "source": [
    "df= pd.read_excel('cleandataiqr17125.xlsx', index_col=0)"
   ]
  },
  {
   "cell_type": "markdown",
   "metadata": {
    "tags": []
   },
   "source": [
    "## Organising and Understanding Columns"
   ]
  },
  {
   "cell_type": "markdown",
   "metadata": {},
   "source": [
    "During the cleaning process, I used these groupings of columns to help understand the data:"
   ]
  },
  {
   "cell_type": "code",
   "execution_count": 3,
   "metadata": {
    "scrolled": true,
    "tags": []
   },
   "outputs": [],
   "source": [
    "main_variables = ['Country','ASBH02A']\n",
    "demographic_info_columns = ['ASBH02B', 'ASBH03A', 'ASBH04', 'ASBH15A', 'ASBH15B', 'ASBH16', 'ASBH17A', 'ASBH17B', 'ASBH18AA', 'ASBH18AB', 'ASBG01', 'ASBG03', 'ASDAGE','MINAGEARRIVAL' ]\n",
    "feelings_in_school_columns = ['ASBG10A', 'ASBG10B','ASBG10C', 'ASBG10D', 'ASBG10E', 'ASBG10F']\n",
    "experiences_in_school_columns = ['ASBG11A', 'ASBG11B', 'ASBG11C', 'ASBG11D', 'ASBG11E', 'ASBG11F', 'ASBG11G', 'ASBG11H', 'ASBG11I', 'ASBG11J']\n",
    "assessment_score_columns = ['ASRREA01', 'ASRREA02', 'ASRREA03', 'ASRREA04', 'ASRREA05', 'ASRLIT01', 'ASRLIT02', 'ASRLIT03', 'ASRLIT04', 'ASRLIT05', 'ASRINF01', 'ASRINF02', 'ASRINF03', 'ASRINF04', 'ASRINF05', 'ASRIIE01', 'ASRIIE02', 'ASRIIE03', 'ASRIIE04', 'ASRIIE05', 'ASRRSI01', 'ASRRSI02', 'ASRRSI03', 'ASRRSI04', 'ASRRSI05']"
   ]
  },
  {
   "cell_type": "markdown",
   "metadata": {},
   "source": [
    "As we can see above, the columns may be divided into:\n",
    "- The main independent variables for this analysis (Country and birth status)\n",
    "- Demographic information columns which have mainly been taken from the Home Context Survey data (answered by parents)\n",
    "- Columns relating to children's feelings in school (self-reported)\n",
    "- Experience in school columns which relate to the frequency of negative experience in school (self-reported)\n",
    "- Assessment score columns (test scores)"
   ]
  },
  {
   "cell_type": "markdown",
   "metadata": {
    "tags": []
   },
   "source": [
    "# Literacy Test Scores"
   ]
  },
  {
   "cell_type": "markdown",
   "metadata": {},
   "source": [
    "In this analysis I will be looking predominantly at the assessment score columns. The first thing I want to investigate is how literacy scores differ for foreign and native-born children across countries. "
   ]
  },
  {
   "cell_type": "markdown",
   "metadata": {},
   "source": [
    "## Average Score Leaderboard"
   ]
  },
  {
   "cell_type": "markdown",
   "metadata": {},
   "source": [
    "First of all, I want to use the 'avgscore' column which was generated in the cleaning stage, to gain an idea of how country averages compare. Please note, I used interquartile range filtering to filter the data in the previous stage so I am quite confident in the validity of this data."
   ]
  },
  {
   "cell_type": "code",
   "execution_count": 4,
   "metadata": {
    "tags": []
   },
   "outputs": [],
   "source": [
    "# Create a pivot table of country averages and sort highest to lowest\n",
    "df_avg_pivot = df.pivot_table(values='avgscore', index='Country').sort_values(by='avgscore', ascending=False)"
   ]
  },
  {
   "cell_type": "code",
   "execution_count": 5,
   "metadata": {
    "tags": []
   },
   "outputs": [
    {
     "data": {
      "text/plain": [
       "<Figure size 864x432 with 0 Axes>"
      ]
     },
     "metadata": {},
     "output_type": "display_data"
    },
    {
     "data": {
      "image/png": "[encoded data removed]",
      "text/plain": [
       "<Figure size 432x288 with 1 Axes>"
      ]
     },
     "metadata": {
      "needs_background": "light"
     },
     "output_type": "display_data"
    }
   ],
   "source": [
    "# Create a large figure\n",
    "plt.figure(figsize=(12, 6))\n",
    "\n",
    "# Plot the sorted bar chart with unique colors\n",
    "ax = df_avg_pivot.plot(kind='bar', legend=False)\n",
    "\n",
    "# Customizing the plot\n",
    "plt.title('Average Scores by Country (Zoomed In)', fontsize=16)\n",
    "plt.ylabel('Average Score', fontsize=14)\n",
    "plt.xlabel('Country', fontsize=14)\n",
    "plt.xticks(rotation=45, fontsize=12)\n",
    "plt.yticks(fontsize=12)\n",
    "\n",
    "# Set y-axis limits to zoom in between 300 and 600\n",
    "plt.ylim(300, 600)\n",
    "\n",
    "# Annotate each bar with its value\n",
    "for i, value in enumerate(df_avg_pivot['avgscore']):\n",
    "    plt.text(i, value + 5, f'{value:.1f}', ha='center', fontsize=10, color='black')\n",
    "\n",
    "# Adjust layout and show the plot\n",
    "plt.tight_layout()\n",
    "plt.show()"
   ]
  },
  {
   "cell_type": "markdown",
   "metadata": {},
   "source": [
    "I want to use the above order of countries for all my visualisations going forward."
   ]
  },
  {
   "cell_type": "code",
   "execution_count": 12,
   "metadata": {
    "tags": []
   },
   "outputs": [],
   "source": [
    "country_order = df_avg_pivot.reset_index()[\"Country\"].to_list()"
   ]
  },
  {
   "cell_type": "code",
   "execution_count": 13,
   "metadata": {
    "tags": []
   },
   "outputs": [
    {
     "data": {
      "text/plain": [
       "['Sweden',\n",
       " 'Netherlands',\n",
       " 'Germany',\n",
       " 'Austria',\n",
       " 'France',\n",
       " 'Turkey',\n",
       " 'Iran',\n",
       " 'Egypt',\n",
       " 'Jordan']"
      ]
     },
     "execution_count": 13,
     "metadata": {},
     "output_type": "execute_result"
    }
   ],
   "source": [
    "country_order"
   ]
  },
  {
   "cell_type": "markdown",
   "metadata": {},
   "source": [
    "### Observations"
   ]
  },
  {
   "cell_type": "markdown",
   "metadata": {},
   "source": [
    "- As we can see above, Swedish students are achieving on average the highest scores, with Jordan achieving the lowest.  \n",
    "\n",
    "- Sweden is closely followed by Netherlands, Germany, Austria. France and Turkey in that order, all with average scores above 500. Turkey is followed by Iran with an average score of 423.9 and then Egypt and Jordan with average scores of 382.6 and 374.7 respectively. \n",
    "\n",
    "-  I would expect Sweden, Netherlands, Germany, Austria and France to have higher achieving students than the other countries as these are Western European countries with high GDPs. \n",
    "\n",
    "**Middle Income Countries**\n",
    "- Turkey and Jordan are upper-middle income countries. Iran and Egypt are lower-middle income countries. \n",
    "\n",
    "- It is surprising that Turkey performs significantly better than the others. Is it a middle-income country. \n",
    "\n",
    "- It is also telling that Egypt outperforms Jordan despite Jordan having a higher GDP and being considered a upper-middle income country. "
   ]
  },
  {
   "cell_type": "markdown",
   "metadata": {},
   "source": [
    "### Comparison with benchmarks"
   ]
  },
  {
   "cell_type": "code",
   "execution_count": 6,
   "metadata": {
    "tags": []
   },
   "outputs": [
    {
     "data": {
      "text/plain": [
       "count    41158.000000\n",
       "mean       466.971053\n",
       "std        109.754016\n",
       "min        160.574553\n",
       "25%        395.985095\n",
       "50%        483.052609\n",
       "75%        550.627011\n",
       "max        757.011431\n",
       "Name: avgscore, dtype: float64"
      ]
     },
     "execution_count": 6,
     "metadata": {},
     "output_type": "execute_result"
    }
   ],
   "source": [
    "df['avgscore'].describe()"
   ]
  },
  {
   "cell_type": "markdown",
   "metadata": {},
   "source": [
    "Now I want to investigate whether there is a disparity in assessment scores between native- and foreign-born children in these countries. "
   ]
  },
  {
   "cell_type": "markdown",
   "metadata": {},
   "source": [
    "## Comparing Assessment Scores of Native- and Foreign-Born Children"
   ]
  },
  {
   "cell_type": "code",
   "execution_count": 7,
   "metadata": {
    "tags": []
   },
   "outputs": [],
   "source": [
    "pivot_foreign = df[df['ASBH02A'] == 'foreign_born'].pivot_table(values='avgscore',index='Country').sort_values(by='avgscore',ascending=False).reset_index()"
   ]
  },
  {
   "cell_type": "code",
   "execution_count": 8,
   "metadata": {
    "tags": []
   },
   "outputs": [],
   "source": [
    "pivot_native = df[df[\"ASBH02A\"]=='native_born'].pivot_table(values='avgscore',index='Country').sort_values(by='avgscore',ascending=False).reset_index()"
   ]
  },
  {
   "cell_type": "code",
   "execution_count": 9,
   "metadata": {
    "tags": []
   },
   "outputs": [
    {
     "data": {
      "image/png": "[encoded data removed]",
      "text/plain": [
       "<Figure size 720x432 with 1 Axes>"
      ]
     },
     "metadata": {
      "needs_background": "light"
     },
     "output_type": "display_data"
    }
   ],
   "source": [
    "# Ensure native and foreign-born data are aligned by country\n",
    "merged = pd.merge(\n",
    "    pivot_native[['Country', 'avgscore']], \n",
    "    pivot_foreign[['Country', 'avgscore']], \n",
    "    on='Country', \n",
    "    suffixes=('_native', '_foreign')\n",
    ")\n",
    "\n",
    "# Extract aligned data\n",
    "countries = merged['Country']\n",
    "native_scores = merged['avgscore_native']\n",
    "foreign_scores = merged['avgscore_foreign']\n",
    "\n",
    "# Calculate differences\n",
    "differences = native_scores - foreign_scores\n",
    "\n",
    "# Plotting\n",
    "plt.figure(figsize=(10, 6))\n",
    "\n",
    "# Bar width\n",
    "bar_width = 0.4\n",
    "\n",
    "# Positions of bars\n",
    "x = np.arange(len(countries))\n",
    "\n",
    "# Set y-axis limits to zoom in between 350 and 600\n",
    "plt.ylim(350, 600)\n",
    "\n",
    "# Plot native-born (fully opaque)\n",
    "plt.bar(\n",
    "    x - bar_width / 2,\n",
    "    native_scores,\n",
    "    width=bar_width,\n",
    "    alpha=1,\n",
    "    color=\"blue\",\n",
    "    edgecolor=\"black\",\n",
    "    label=\"Native-born\",\n",
    ")\n",
    "\n",
    "# Plot foreign-born (fully opaque)\n",
    "plt.bar(\n",
    "    x + bar_width / 2,\n",
    "    foreign_scores,\n",
    "    width=bar_width,\n",
    "    alpha=1,\n",
    "    color=\"orange\",\n",
    "    edgecolor=\"black\",\n",
    "    label=\"Foreign-born\",\n",
    ")\n",
    "\n",
    "# Annotate with differences and bar heights\n",
    "for i, (native, foreign, diff) in enumerate(zip(native_scores, foreign_scores, differences)):\n",
    "    # Position annotation dynamically above the taller bar for the difference\n",
    "    taller_y = max(native, foreign)\n",
    "    plt.text(\n",
    "        x[i],\n",
    "        taller_y +20,  # Slightly above the taller bar\n",
    "        f\"{diff:+.1f}\",  # Difference with a sign\n",
    "        ha=\"center\",\n",
    "        fontsize=10,\n",
    "        color=\"red\",\n",
    "    )\n",
    "\n",
    "    # Annotate native-born bar height\n",
    "    plt.text(\n",
    "        x[i] - bar_width / 2,\n",
    "        native + 2,  # Slightly above the native bar\n",
    "        f\"{native:.1f}\",\n",
    "        ha=\"center\",\n",
    "        fontsize=10,\n",
    "        color=\"black\",\n",
    "    )\n",
    "\n",
    "    # Annotate foreign-born bar height\n",
    "    plt.text(\n",
    "        x[i] + bar_width / 2,\n",
    "        foreign + 2,  # Slightly above the foreign bar\n",
    "        f\"{foreign:.1f}\",\n",
    "        ha=\"center\",\n",
    "        fontsize=10,\n",
    "        color=\"black\",\n",
    "    )\n",
    "\n",
    "# Adding labels and legend\n",
    "plt.xticks(x, countries, rotation=45)\n",
    "plt.xlabel(\"Country\")\n",
    "plt.ylabel(\"Average Score\")\n",
    "plt.title(\"Average Scores of Native-born and Foreign-born by Country\")\n",
    "plt.legend()\n",
    "plt.tight_layout()\n",
    "\n",
    "# Show the plot\n",
    "plt.show()\n"
   ]
  },
  {
   "cell_type": "markdown",
   "metadata": {},
   "source": [
    "### Observations"
   ]
  },
  {
   "cell_type": "markdown",
   "metadata": {},
   "source": [
    "From this visualisation we can see that:\n",
    "\n",
    "#### Leaderboard for Foreign-born Children"
   ]
  },
  {
   "cell_type": "markdown",
   "metadata": {},
   "source": [
    "- Despite Sweden being on top of the leadersboard for average scores of all children, in terms of scores for foreign-born students, Netherlands takes first place, with a 17.1 lead on foreign-born children in Sweden. \n",
    "\n",
    "- Likewise, despite Germany being in second place with overall scores, it is in fourth place for foreign-born children, behind Austria in third place. \n",
    "\n",
    "- Although Sweden and Germany are besting the Netherlands and Austria respectively in terms of overall literacy scores, the Netherlands and Austria are outperforming these particular rivals in terms of foreign-born children's results.\n",
    "\n",
    "- Another difference is at the other end of the leaderboard where foreign-born Jordanian students are in eighth place and those in Egypt are in ninth place, despite these countries being in the reverse positions in terms of average overall scores.  "
   ]
  },
  {
   "cell_type": "markdown",
   "metadata": {},
   "source": [
    "#### Native vs Foreign"
   ]
  },
  {
   "cell_type": "markdown",
   "metadata": {},
   "source": [
    "- Native born children outperform their foreign born peers in every country apart from Iran and Jordan. \n",
    "\n",
    "- Sweden, Turkey, and Germany have the largest disparity in scores between native and foreign-born students, with native-born students in these countries achieving 53.5, 51.1 and 49.8 marks higher than foreign-born peers. \n",
    "\n",
    "- The Netherlands has the smallest disparity between native and foreign-born children in a high-income country, with an average difference of 15.4 marks. \n",
    "\n",
    "- Iran has the smallest disparity in marks between Foreign- and native- born children with foreign-born children actually achieving marks 0.7 higher than their native-born peers. \n",
    "\n",
    "- Apart from Turkey, with a large disparity between students, on average middle_income countries show smaller disparities. This may also be die to foreign-born students in Iran, Egypt and Jordan sharing a mother tongue with their native-born peers. \n",
    "\n",
    "- Jordan is an interesting case, where foreign children are achieving 10.5 marks higher than native-born peers. As Jordan hosts both Syrian and Palestinian refugees, it might be that most Syrian children are considered foreign-born and Palestinian are considered native-born? "
   ]
  },
  {
   "cell_type": "markdown",
   "metadata": {},
   "source": [
    "#### Summary\n",
    "\n",
    "The Netherlands seems to be leading the way in terms of achieving high scores for foreign-born students, achieving even better scores than some native-born children in other high income countries. It would therefore be very useful to understand what techniques are being used in Dutch schools to achieve these results. \n",
    "\n",
    "This stage has thrown up some interesting results particularly in lower income host countries. In the next stages, I will investigate how age of arrival affects results for foreign-born children."
   ]
  },
  {
   "cell_type": "markdown",
   "metadata": {
    "tags": []
   },
   "source": [
    "## Literacy Minimum Age of Arrival"
   ]
  },
  {
   "cell_type": "code",
   "execution_count": 10,
   "metadata": {
    "tags": []
   },
   "outputs": [],
   "source": [
    "pivot_minage_literacy = df.pivot_table(values='avgscore', index=['Country'],columns=['MINAGEARRIVAL'],dropna = False)"
   ]
  },
  {
   "cell_type": "code",
   "execution_count": 14,
   "metadata": {
    "tags": []
   },
   "outputs": [],
   "source": [
    "# Reindex the DataFrame based on the custom order\n",
    "pivot_minage_literacy = pivot_minage_literacy.reindex(country_order)"
   ]
  },
  {
   "cell_type": "code",
   "execution_count": 15,
   "metadata": {
    "tags": []
   },
   "outputs": [
    {
     "data": {
      "image/png": "[encoded data removed]",
      "text/plain": [
       "<Figure size 720x576 with 2 Axes>"
      ]
     },
     "metadata": {
      "needs_background": "light"
     },
     "output_type": "display_data"
    }
   ],
   "source": [
    "# Plot the heat map\n",
    "plt.figure(figsize=(10, 8))\n",
    "sns.heatmap(pivot_minage_literacy, annot=True,fmt=\".1f\", cmap='YlGnBu')\n",
    "plt.title('Mean Literacy Score sorted by Country and Age of Arrival in said Country')\n",
    "plt.show()"
   ]
  },
  {
   "cell_type": "markdown",
   "metadata": {},
   "source": [
    "### maybe do a max and min column above?"
   ]
  },
  {
   "cell_type": "markdown",
   "metadata": {},
   "source": [
    "### Observations"
   ]
  },
  {
   "cell_type": "markdown",
   "metadata": {},
   "source": [
    "**Age of Arrival effect on scores**\n",
    "\n",
    "We would expect the older you arrive, the more difficult it would be to assimilate as the less likely you are to speak the language and your parents to speak the language. \n",
    "\n",
    "This hypothesis only holds in Sweden, Austria, France, where we see a gradual decrease in attainment the older the children arrive in country, with native students doing the best. \n",
    "\n",
    "In Netherlands, Germany, and Turkey, children who arrived between the ages of 3 and 6 perform the worst overall. As these children were 10 in 2021 they would have arrived between 2014 and 2017 and this is perhaps reflecting these countries' struggle to accomodate an influx of foreign-born children at this time?\n",
    "\n",
    "**Netherlands**\n",
    "\n",
    "As we saw in the previous visualisation, Netherlands appears to be doing something right with foreign-born children. \n",
    "\n",
    "- Foreign-born children arriving under the age of 3 in the Netherlands are out-performing all their peers, including native-born peers by a small amount. \n",
    "\n",
    "- Children arriving after the age of 8 in the Netherlands are performing very well, even performing better than native born children in France, Turkey, Iran, Jordan and Egypt. \n",
    "\n",
    "**Summary**\n",
    "\n",
    "The Netherlands is out performing all othre countries. There is a need to corroborate this data with the age data to understand the actual year that children arrived as they may have been held back in school (they may not all be ten years old). We should remember that the sample sizes for non-native children may be quite small. I will look at this in the next stage."
   ]
  },
  {
   "cell_type": "markdown",
   "metadata": {},
   "source": [
    "#### Corroborate above data with age data"
   ]
  },
  {
   "cell_type": "code",
   "execution_count": 16,
   "metadata": {
    "tags": []
   },
   "outputs": [],
   "source": [
    "pivot_counts = df.pivot_table(\n",
    "    index=['Country'],\n",
    "    columns=['MINAGEARRIVAL'],\n",
    "    aggfunc='size',\n",
    "    fill_value=0  # Replace NaN values with 0 for counts\n",
    ")"
   ]
  },
  {
   "cell_type": "code",
   "execution_count": 18,
   "metadata": {
    "tags": []
   },
   "outputs": [
    {
     "data": {
      "text/html": [
       "<div>\n",
       "<style scoped>\n",
       "    .dataframe tbody tr th:only-of-type {\n",
       "        vertical-align: middle;\n",
       "    }\n",
       "\n",
       "    .dataframe tbody tr th {\n",
       "        vertical-align: top;\n",
       "    }\n",
       "\n",
       "    .dataframe thead th {\n",
       "        text-align: right;\n",
       "    }\n",
       "</style>\n",
       "<table border=\"1\" class=\"dataframe\">\n",
       "  <thead>\n",
       "    <tr style=\"text-align: right;\">\n",
       "      <th>MINAGEARRIVAL</th>\n",
       "      <th>-1.0</th>\n",
       "      <th>0.0</th>\n",
       "      <th>3.0</th>\n",
       "      <th>6.0</th>\n",
       "      <th>8.0</th>\n",
       "    </tr>\n",
       "    <tr>\n",
       "      <th>Country</th>\n",
       "      <th></th>\n",
       "      <th></th>\n",
       "      <th></th>\n",
       "      <th></th>\n",
       "      <th></th>\n",
       "    </tr>\n",
       "  </thead>\n",
       "  <tbody>\n",
       "    <tr>\n",
       "      <th>Austria</th>\n",
       "      <td>4025</td>\n",
       "      <td>123</td>\n",
       "      <td>175</td>\n",
       "      <td>91</td>\n",
       "      <td>59</td>\n",
       "    </tr>\n",
       "    <tr>\n",
       "      <th>Egypt</th>\n",
       "      <td>6992</td>\n",
       "      <td>113</td>\n",
       "      <td>42</td>\n",
       "      <td>39</td>\n",
       "      <td>25</td>\n",
       "    </tr>\n",
       "    <tr>\n",
       "      <th>France</th>\n",
       "      <td>4526</td>\n",
       "      <td>81</td>\n",
       "      <td>71</td>\n",
       "      <td>49</td>\n",
       "      <td>25</td>\n",
       "    </tr>\n",
       "    <tr>\n",
       "      <th>Germany</th>\n",
       "      <td>2317</td>\n",
       "      <td>53</td>\n",
       "      <td>75</td>\n",
       "      <td>36</td>\n",
       "      <td>32</td>\n",
       "    </tr>\n",
       "    <tr>\n",
       "      <th>Iran</th>\n",
       "      <td>5689</td>\n",
       "      <td>40</td>\n",
       "      <td>15</td>\n",
       "      <td>19</td>\n",
       "      <td>16</td>\n",
       "    </tr>\n",
       "    <tr>\n",
       "      <th>Jordan</th>\n",
       "      <td>4731</td>\n",
       "      <td>501</td>\n",
       "      <td>280</td>\n",
       "      <td>101</td>\n",
       "      <td>27</td>\n",
       "    </tr>\n",
       "    <tr>\n",
       "      <th>Netherlands</th>\n",
       "      <td>1947</td>\n",
       "      <td>26</td>\n",
       "      <td>16</td>\n",
       "      <td>18</td>\n",
       "      <td>11</td>\n",
       "    </tr>\n",
       "    <tr>\n",
       "      <th>Sweden</th>\n",
       "      <td>2681</td>\n",
       "      <td>82</td>\n",
       "      <td>108</td>\n",
       "      <td>74</td>\n",
       "      <td>39</td>\n",
       "    </tr>\n",
       "    <tr>\n",
       "      <th>Turkey</th>\n",
       "      <td>5366</td>\n",
       "      <td>89</td>\n",
       "      <td>70</td>\n",
       "      <td>53</td>\n",
       "      <td>15</td>\n",
       "    </tr>\n",
       "  </tbody>\n",
       "</table>\n",
       "</div>"
      ],
      "text/plain": [
       "MINAGEARRIVAL  -1.0   0.0   3.0   6.0   8.0\n",
       "Country                                    \n",
       "Austria        4025   123   175    91    59\n",
       "Egypt          6992   113    42    39    25\n",
       "France         4526    81    71    49    25\n",
       "Germany        2317    53    75    36    32\n",
       "Iran           5689    40    15    19    16\n",
       "Jordan         4731   501   280   101    27\n",
       "Netherlands    1947    26    16    18    11\n",
       "Sweden         2681    82   108    74    39\n",
       "Turkey         5366    89    70    53    15"
      ]
     },
     "execution_count": 18,
     "metadata": {},
     "output_type": "execute_result"
    }
   ],
   "source": [
    "pivot_counts"
   ]
  },
  {
   "cell_type": "markdown",
   "metadata": {},
   "source": [
    "Given the above small sample sizes a further investigation into these students and whether they all come from the same school, would be useful. (only 11 after age 8 in the netherlands.) would be interesting to get as much info as poss on these kids. "
   ]
  },
  {
   "cell_type": "markdown",
   "metadata": {
    "tags": []
   },
   "source": [
    "## Experience in School Heatmap"
   ]
  },
  {
   "cell_type": "code",
   "execution_count": null,
   "metadata": {
    "scrolled": true
   },
   "outputs": [],
   "source": [
    "df_experience = df[main_variables+experiences_in_school_columns]"
   ]
  },
  {
   "cell_type": "code",
   "execution_count": null,
   "metadata": {},
   "outputs": [],
   "source": [
    "pivot_experience = df_experience.pivot_table(values=experiences_in_school_columns, index=main_variables, aggfunc='mean')"
   ]
  },
  {
   "cell_type": "code",
   "execution_count": null,
   "metadata": {},
   "outputs": [],
   "source": [
    "# Calculate the total average for each row\n",
    "pivot_experience['MeanTotal'] = pivot_experience[experiences_in_school_columns].mean(axis=1)"
   ]
  },
  {
   "cell_type": "code",
   "execution_count": null,
   "metadata": {
    "tags": []
   },
   "outputs": [],
   "source": [
    "sorted_pivot_experience = sort_pivot_table(pivot_experience, 'MeanTotal', 'ASBH02A', asbh02a_sorter)"
   ]
  },
  {
   "cell_type": "code",
   "execution_count": null,
   "metadata": {},
   "outputs": [],
   "source": [
    "# Plot the heat map\n",
    "plt.figure(figsize=(10, 8))\n",
    "sns.heatmap(sorted_pivot_experience, annot=True, cmap='YlGnBu')\n",
    "plt.title('Mean Experience in School Heat Map Sorted by Country and Immigration Status')\n",
    "plt.show()"
   ]
  },
  {
   "cell_type": "markdown",
   "metadata": {},
   "source": [
    "The below is the order for *all* students - it is different for foreign and native-born students. "
   ]
  },
  {
   "cell_type": "markdown",
   "metadata": {
    "tags": []
   },
   "source": [
    "|**Feelings**  | **Experience**|\n",
    "|------------- |----------------|\n",
    "|1. Jordan     |1. France       |\n",
    "|2. Turkey     |2. Jordan       |\n",
    "|3. Netherlands|3. Turkey       |\n",
    "|4. Iran       |4. Sweden.      |\n",
    "|5. Germany    |5. Germany.     |\n",
    "|6. Egypt      |6. Netherlands. |\n",
    "|7. Sweden     |7. Iran.        |\n",
    "|8. Austria    |8. Austria      |\n",
    "|9. France     |9. Egypt.       |"
   ]
  },
  {
   "cell_type": "markdown",
   "metadata": {},
   "source": [
    "### I need to rearrange this so that dark colours (good are at the top)."
   ]
  },
  {
   "cell_type": "markdown",
   "metadata": {},
   "source": [
    "Native born kids are having less negativ experiences in school as we would expect. Egypt is the worst, followed by Austria. These statistics are quite heartening overall, with most cohorts answering never or a few times a year for negative experiences. "
   ]
  },
  {
   "cell_type": "markdown",
   "metadata": {},
   "source": [
    "During this year, how often have other students from your school done any of the following things to you, including through texting or the internet?\n",
    "\n",
    "\n",
    "A: Made fun of me or called me names\\\n",
    "B: Left me out of their games or activities\\\n",
    "C: Spread lies about me\\\n",
    "D: Stole something from me\\\n",
    "E: Damaged something of mine on purpose\\\n",
    "F: Hit or hurt me (e.g., shoving, hitting, kicking)\\\n",
    "G: Made me do things I didn’t want to do\\\n",
    "H: Sent me nasty or hurtful messages online\\\n",
    "I: Shared nasty or hurtful information about me online\\ \n",
    "J: Threatened me\\\n",
    "\n",
    "\n",
    "1 = At least once a week\\\n",
    "2 = Once or twice a month\\\n",
    "3 = A few times a year\\\n",
    "4 = Never"
   ]
  },
  {
   "cell_type": "markdown",
   "metadata": {},
   "source": [
    "Surprisingly, Iranian students report the least negative experiences in school of all countries. "
   ]
  },
  {
   "cell_type": "markdown",
   "metadata": {
    "tags": []
   },
   "source": [
    "## Experience Average Distribution"
   ]
  },
  {
   "cell_type": "code",
   "execution_count": null,
   "metadata": {
    "tags": []
   },
   "outputs": [],
   "source": [
    "df['experienceavg'] = df[experiences_in_school_columns].mean(axis=1)"
   ]
  },
  {
   "cell_type": "code",
   "execution_count": null,
   "metadata": {
    "tags": []
   },
   "outputs": [],
   "source": [
    "df['experienceavg_binned'] = pd.cut(df['experienceavg'], bins=10)"
   ]
  },
  {
   "cell_type": "code",
   "execution_count": null,
   "metadata": {
    "tags": []
   },
   "outputs": [],
   "source": [
    "# Create a contingency table\n",
    "contingency_experience = (\n",
    "    pd.crosstab(\n",
    "        index=[df['ASBH02A'], df['Country']],\n",
    "        columns=df['experienceavg_binned']\n",
    "    )\n",
    "    .reset_index()\n",
    "    .melt(\n",
    "        id_vars=['ASBH02A', 'Country'],\n",
    "        var_name='experienceavg_binned',\n",
    "        value_name='count'\n",
    "    )\n",
    ")"
   ]
  },
  {
   "cell_type": "code",
   "execution_count": null,
   "metadata": {
    "tags": []
   },
   "outputs": [],
   "source": [
    "heatmap_experience_native_born = generate_heatmap(\n",
    "    data=contingency_experience,\n",
    "    filter_column='ASBH02A',\n",
    "    filter_value='native_born',\n",
    "    index_col='Country',\n",
    "    column_col='experienceavg_binned',\n",
    "    value_col='count',\n",
    ")\n",
    "\n",
    "heatmap_experience_foreign_born = generate_heatmap(\n",
    "    data=contingency_experience,\n",
    "    filter_column='ASBH02A',\n",
    "    filter_value='foreign_born',\n",
    "    index_col='Country',\n",
    "    column_col='experienceavg_binned',\n",
    "    value_col='count',\n",
    ")"
   ]
  },
  {
   "cell_type": "markdown",
   "metadata": {},
   "source": [
    "#### Plotting"
   ]
  },
  {
   "cell_type": "code",
   "execution_count": null,
   "metadata": {
    "tags": []
   },
   "outputs": [],
   "source": [
    "# Create a figure and set of subplots\n",
    "fig, axes = plt.subplots(1, 2, figsize=(12, 6))\n",
    "\n",
    "# Plot heatmaps\n",
    "sns.heatmap(heatmap_experience_native_born, ax=axes[0], cmap='YlOrRd', annot=True, cbar=False)\n",
    "sns.heatmap(heatmap_experience_foreign_born, ax=axes[1], cmap='YlOrRd', annot= True, cbar=False)\n",
    "\n",
    "# Set titles\n",
    "axes[0].set_title('Born in country')\n",
    "axes[1].set_title('Not born in country')\n",
    "\n",
    "# Show the plot\n",
    "plt.tight_layout()\n",
    "plt.show()"
   ]
  },
  {
   "cell_type": "code",
   "execution_count": null,
   "metadata": {
    "tags": []
   },
   "outputs": [],
   "source": [
    "diff_data_experience = heatmap_experience_native_born - heatmap_experience_foreign_born\n",
    "\n",
    "# Plot the difference heatmap\n",
    "sns.heatmap(diff_data_experience, cmap=\"coolwarm\", annot = True, center=0)"
   ]
  },
  {
   "cell_type": "markdown",
   "metadata": {
    "tags": []
   },
   "source": [
    "## Minimum age of arrival"
   ]
  },
  {
   "cell_type": "markdown",
   "metadata": {},
   "source": [
    "Now I want to see how age of arrival affects average score. I need to first clean the minagearrival column - adding 'NA' for those who were born in country"
   ]
  },
  {
   "cell_type": "code",
   "execution_count": null,
   "metadata": {
    "tags": []
   },
   "outputs": [],
   "source": [
    "pivot_minage_experience = df.pivot_table(values='experienceavg', index=['Country'],columns=['MINAGEARRIVAL'],dropna = False)"
   ]
  },
  {
   "cell_type": "code",
   "execution_count": null,
   "metadata": {
    "tags": []
   },
   "outputs": [],
   "source": [
    "mean_scores_test = (\n",
    "        pivot_minage_experience.groupby(level='Country').mean()\n",
    "        .assign(MeanTotal=lambda df: df.mean(axis=1))\n",
    "        .sort_values(by='MeanTotal', ascending=False).drop(columns='MeanTotal')\n",
    "    )"
   ]
  },
  {
   "cell_type": "code",
   "execution_count": null,
   "metadata": {
    "tags": []
   },
   "outputs": [],
   "source": [
    "# Plot the heat map\n",
    "plt.figure(figsize=(10, 8))\n",
    "sns.heatmap(mean_scores_test, annot=True, cmap='YlGnBu')\n",
    "plt.title('Mean score in School Heat Map Sorted by Country and age of arrival in the country')\n",
    "plt.show()"
   ]
  },
  {
   "cell_type": "markdown",
   "metadata": {},
   "source": [
    "# Further Research"
   ]
  },
  {
   "cell_type": "markdown",
   "metadata": {},
   "source": [
    "comparisons with bench marks - through line? \n",
    "\n",
    "Should compare reading scores with the benchmark and can also compare with previous years.\n",
    "\n",
    "**Comparison with data from previous years**\n",
    "\n",
    "How other demographic factors - parents level of education etc. affect scores."
   ]
  },
  {
   "cell_type": "code",
   "execution_count": null,
   "metadata": {},
   "outputs": [],
   "source": []
  }
 ],
 "metadata": {
  "kernelspec": {
   "display_name": "Python 3",
   "language": "python",
   "name": "python3"
  },
  "language_info": {
   "codemirror_mode": {
    "name": "ipython",
    "version": 3
   },
   "file_extension": ".py",
   "mimetype": "text/x-python",
   "name": "python",
   "nbconvert_exporter": "python",
   "pygments_lexer": "ipython3",
   "version": "3.7.6"
  }
 },
 "nbformat": 4,
 "nbformat_minor": 4
}
