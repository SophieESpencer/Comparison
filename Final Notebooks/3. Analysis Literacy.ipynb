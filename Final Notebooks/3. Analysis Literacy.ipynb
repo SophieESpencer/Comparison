{
 "cells": [
  {
   "cell_type": "markdown",
   "metadata": {},
   "source": [
    "<center><h1>Literacy Attainment of Native- and Foreign-born Children - Analysis</h1></center> "
   ]
  },
  {
   "cell_type": "markdown",
   "metadata": {
    "tags": []
   },
   "source": [
    "# Introduction"
   ]
  },
  {
   "cell_type": "markdown",
   "metadata": {},
   "source": [
    "I have been concerned with the Syrian Civil War and the ensuing refugee crisis, since the start of the conflict in 2011 when I was a student of Arabic at University of Edinburgh. Since then, I have worked directly with displaced people from this and other conflicts in Egypt, Lebanon and Greece. Whilst working with unaccompanied asylum-seeking children in Greece, I observed first hand the country's struggles to integrate asylum-seeking children into its national school system, and ultimately focused on this for my [Master's dissertation](https://sophieespencer.wordpress.com/2019/09/02/growth-unlocked/). In this dissertation, I identified the specific learning needs of refugee and asylum-seeking children as psycho-social support, protection from discrimination and bullying, and language acquisiton support. I also reviewed how other countries with high numbers of asylum-seeking children were addressing this challenge. \n",
    "\n",
    "Subsequently, I wanted to undertake a comparative investigation of countries with high numbers of asylum-seeking children to understand which countries were most successful at integrating foreign-born children into their national school systems. In the following analysis, I use data from the IEA’s Progress in International Reading Literacy Study 2021 (PIRLS 2021), an international assessment of fourth-grade students’ reading abilities conducted across 57 countries, to assess literacy outcomes for native and foreign-born children across nine countries with significant refugee populations. \n",
    "\n",
    "The goal of this study is to serve as a preliminary quantitative investigation to identify countries that demonstrate best practice in integrating foreign-born children into their national school systems, so that further targeted investigations into successful policies and practices can be made. "
   ]
  },
  {
   "cell_type": "markdown",
   "metadata": {
    "tags": []
   },
   "source": [
    "## Research Questions"
   ]
  },
  {
   "cell_type": "markdown",
   "metadata": {},
   "source": [
    "This study is guided by the following research questions:\n",
    "\n",
    "- How do average literacy scores compare across countries with significant refugee populations?\n",
    "\n",
    "- Are there significant differences in literacy scores between native- and foreign-born children in these countries?\n",
    "\n",
    "- How does the age at which foreign-born children arrive in a host country affect their literacy outcomes?"
   ]
  },
  {
   "cell_type": "markdown",
   "metadata": {
    "tags": []
   },
   "source": [
    "## Limitations"
   ]
  },
  {
   "cell_type": "markdown",
   "metadata": {
    "jp-MarkdownHeadingCollapsed": true,
    "tags": []
   },
   "source": [
    "The purpose of this study is to serve as a preliminary investigation into countries that have successfully integrated foreign-born children into national school systems. Further research is needed before the trends identified here can be accepted as accurate, particularly given the small sample sizes used in this assessment. Additionally, the study's quantitative nature does not allow for a more in-depth exploration of the realities of learning environments."
   ]
  },
  {
   "cell_type": "markdown",
   "metadata": {
    "tags": []
   },
   "source": [
    "# Data and Methodology"
   ]
  },
  {
   "cell_type": "markdown",
   "metadata": {
    "tags": []
   },
   "source": [
    "## About PIRLS"
   ]
  },
  {
   "cell_type": "markdown",
   "metadata": {},
   "source": [
    "PIRLS (Progress in International Reading Literacy Study) is a global assessment of reading proficiency among fourth graders, conducted every five years since its inception in 2001. In the 2021 cycle, nearly 400,000 children from 57 countries participated. Beyond reading assessments, PIRLS includes context questionnaires for students, parents, teachers, and schools, offering invaluable insights into the realities of learning environments.\n",
    "\n",
    "For more information on PIRLS, please see [here.](https://www.iea.nl/studies/iea/pirls)"
   ]
  },
  {
   "cell_type": "markdown",
   "metadata": {
    "tags": []
   },
   "source": [
    "## Data Compiling, Cleaning and Filtering"
   ]
  },
  {
   "cell_type": "markdown",
   "metadata": {},
   "source": [
    "The data for this analysis was downloaded  [here](https://pirls2021.org/data/) as separate SPSS files, categorized by questionnaire type and country.\n",
    "\n",
    "After an initial review of the available data files, I selected specific files, converted them to Excel format, and concatenated them into a single dataset. This combined dataset was then cleaned and filtered for analysis and exported to excel as 'cleandataiqr17125.xlsx'.\n",
    "\n",
    "To view the data preparation processes in detail, please <a href=\"https://github.com/SophieESpencer/Comparison/tree/main/Final%20Notebooks\">click here</a>.\n",
    " "
   ]
  },
  {
   "cell_type": "markdown",
   "metadata": {
    "tags": []
   },
   "source": [
    "## Importing the Data and Relevant Packages"
   ]
  },
  {
   "cell_type": "code",
   "execution_count": 1,
   "metadata": {
    "tags": []
   },
   "outputs": [],
   "source": [
    "import pandas as pd\n",
    "import numpy as np\n",
    "import matplotlib.pyplot as plt\n",
    "import seaborn as sns\n",
    "pd.set_option(\"display.max_columns\", None)\n",
    "pd.set_option(\"display.max_rows\", None)"
   ]
  },
  {
   "cell_type": "code",
   "execution_count": 2,
   "metadata": {
    "scrolled": true,
    "tags": []
   },
   "outputs": [],
   "source": [
    "df= pd.read_excel('cleandataiqr17125.xlsx', index_col=0)"
   ]
  },
  {
   "cell_type": "markdown",
   "metadata": {
    "tags": []
   },
   "source": [
    "## Organising and Categorising Data Columns"
   ]
  },
  {
   "cell_type": "markdown",
   "metadata": {},
   "source": [
    "During the cleaning process, I used the following groupings of columns to help understand the data:"
   ]
  },
  {
   "cell_type": "code",
   "execution_count": 3,
   "metadata": {
    "scrolled": true,
    "tags": []
   },
   "outputs": [],
   "source": [
    "main_variables = ['Country','ASBH02A']\n",
    "demographic_info_columns = ['ASBH02B', 'ASBH03A', 'ASBH04', 'ASBH15A', 'ASBH15B', 'ASBH16', 'ASBH17A', 'ASBH17B', 'ASBH18AA', 'ASBH18AB', 'ASBG01', 'ASBG03', 'ASDAGE','MINAGEARRIVAL' ]\n",
    "feelings_in_school_columns = ['ASBG10A', 'ASBG10B','ASBG10C', 'ASBG10D', 'ASBG10E', 'ASBG10F']\n",
    "experiences_in_school_columns = ['ASBG11A', 'ASBG11B', 'ASBG11C', 'ASBG11D', 'ASBG11E', 'ASBG11F', 'ASBG11G', 'ASBG11H', 'ASBG11I', 'ASBG11J']\n",
    "assessment_score_columns = ['ASRREA01', 'ASRREA02', 'ASRREA03', 'ASRREA04', 'ASRREA05', 'ASRLIT01', 'ASRLIT02', 'ASRLIT03', 'ASRLIT04', 'ASRLIT05', 'ASRINF01', 'ASRINF02', 'ASRINF03', 'ASRINF04', 'ASRINF05', 'ASRIIE01', 'ASRIIE02', 'ASRIIE03', 'ASRIIE04', 'ASRIIE05', 'ASRRSI01', 'ASRRSI02', 'ASRRSI03', 'ASRRSI04', 'ASRRSI05']"
   ]
  },
  {
   "cell_type": "markdown",
   "metadata": {},
   "source": [
    "- main_variables: Country and nativity status.\n",
    "- demographic_info_columns: These columns primarily come from the Home Context Survey, which was answered by parents. \n",
    "- feelings_in_school_columns: These columns reflect children’s self-reported feelings about school.\n",
    "- experiences_in_school_columns: This set of columns relates to children's self-reported experiences, particularly focusing on the frequency of negative experiences.\n",
    "- assessment_score_columns: These columns contain the literacy and reading test scores from the PIRLS assessment.\n"
   ]
  },
  {
   "cell_type": "markdown",
   "metadata": {},
   "source": [
    "I will now analyse this cleaned dataset to produce visualisations which will help to provide answers to these research questions:\n",
    "\n",
    "- How do average literacy scores compare across countries with significant refugee populations?\n",
    "\n",
    "- Are there significant differences in literacy scores between native- and foreign-born children in these countries?\n",
    "\n",
    "- How does the age at which foreign-born children arrive in a host country affect their literacy outcomes?\n",
    "\n",
    " "
   ]
  },
  {
   "cell_type": "markdown",
   "metadata": {
    "tags": []
   },
   "source": [
    "# Data Analysis and Observations"
   ]
  },
  {
   "cell_type": "markdown",
   "metadata": {
    "tags": []
   },
   "source": [
    "## Ranking Countries by Average Literacy Score"
   ]
  },
  {
   "cell_type": "markdown",
   "metadata": {},
   "source": [
    "To start, I will use the 'avgscore' column, which was generated during the cleaning stage, to compare average scores across countries. Please note that I applied interquartile range (IQR) filtering in the previous stage, so I am confident in the validity of this data."
   ]
  },
  {
   "cell_type": "code",
   "execution_count": 4,
   "metadata": {
    "tags": []
   },
   "outputs": [],
   "source": [
    "df_avg_pivot = (\n",
    "    df.pivot_table(values=\"avgscore\", index=\"Country\")\n",
    "    .sort_values(by=\"avgscore\", ascending=False)\n",
    ")"
   ]
  },
  {
   "cell_type": "code",
   "execution_count": 5,
   "metadata": {
    "tags": []
   },
   "outputs": [
    {
     "data": {
      "text/plain": [
       "<Figure size 864x432 with 0 Axes>"
      ]
     },
     "metadata": {},
     "output_type": "display_data"
    },
    {
     "data": {
      "image/png": "[encoded data removed]",
      "text/plain": [
       "<Figure size 432x288 with 1 Axes>"
      ]
     },
     "metadata": {
      "needs_background": "light"
     },
     "output_type": "display_data"
    }
   ],
   "source": [
    "plt.figure(figsize=(12, 6))\n",
    "\n",
    "ax = df_avg_pivot.plot(kind='bar', legend=False)\n",
    "\n",
    "plt.title('Average Literacy Scores by Country', fontsize=16)\n",
    "plt.ylabel('Average Score', fontsize=14)\n",
    "plt.xlabel('Country', fontsize=14)\n",
    "plt.xticks(rotation=45, fontsize=12)\n",
    "plt.yticks(fontsize=12)\n",
    "\n",
    "plt.ylim(300, 600)\n",
    "\n",
    "for i, value in enumerate(df_avg_pivot['avgscore']):\n",
    "    plt.text(i, value + 5, f'{value:.1f}', ha='center', fontsize=10, color='black')\n",
    "\n",
    "plt.tight_layout()\n",
    "plt.show()"
   ]
  },
  {
   "cell_type": "markdown",
   "metadata": {
    "tags": []
   },
   "source": [
    "### Observations"
   ]
  },
  {
   "cell_type": "markdown",
   "metadata": {
    "tags": []
   },
   "source": [
    "- Sweden stands out with the highest average scores, followed by Netherlands, Germany, and Austria, all of which have average scores above 500. France and Turkey also perform well, with average scores slightly above 500. Jordan records the lowest average score, with Egypt and Iran falling in between.\n",
    "\n",
    "- As expected, the higher-achieving countries—Sweden, Netherlands, Germany, Austria, and France—are Western European nations with high GDPs. \n",
    "\n",
    "- Turkey and Jordan are upper-middle-income countries, while Iran and Egypt are classified as lower-middle-income countries. Despite being a middle-income country, Turkey outperforms others by a significant margin.\n",
    "\n",
    "- Interestingly, Egypt outperforms Jordan in literacy, despite Jordan having a higher GDP and being classified as an upper-middle-income country."
   ]
  },
  {
   "cell_type": "markdown",
   "metadata": {},
   "source": [
    "Next, I will investigate whether there is a disparity in assessment scores between native-born and foreign-born children across these countries. "
   ]
  },
  {
   "cell_type": "markdown",
   "metadata": {
    "tags": []
   },
   "source": [
    "## Comparing Assessment Scores of Native- and Foreign-Born Children"
   ]
  },
  {
   "cell_type": "markdown",
   "metadata": {},
   "source": [
    "Firstly, I want to preserve the country ranking generated by the first bar chart."
   ]
  },
  {
   "cell_type": "code",
   "execution_count": 6,
   "metadata": {
    "tags": []
   },
   "outputs": [],
   "source": [
    "country_order = df_avg_pivot.reset_index()[\"Country\"].to_list()"
   ]
  },
  {
   "cell_type": "markdown",
   "metadata": {},
   "source": [
    "Next, I will plot a barchart that shows the separate average scores for native and foreign-born children across countries."
   ]
  },
  {
   "cell_type": "code",
   "execution_count": 7,
   "metadata": {
    "tags": []
   },
   "outputs": [],
   "source": [
    "pivot_native_foreign = df.pivot_table(\n",
    "    values='avgscore', \n",
    "    index='Country', \n",
    "    columns='ASBH02A', \n",
    "    aggfunc='mean'\n",
    ").reset_index()"
   ]
  },
  {
   "cell_type": "code",
   "execution_count": 8,
   "metadata": {
    "tags": []
   },
   "outputs": [],
   "source": [
    "pivot_native_foreign[\"Country\"] = pd.Categorical(\n",
    "    pivot_native_foreign[\"Country\"], categories=country_order, ordered=True\n",
    ")\n",
    "pivot_native_foreign = pivot_native_foreign.sort_values(by='Country')"
   ]
  },
  {
   "cell_type": "code",
   "execution_count": 9,
   "metadata": {
    "tags": []
   },
   "outputs": [
    {
     "data": {
      "image/png": "[encoded data removed]",
      "text/plain": [
       "<Figure size 720x432 with 1 Axes>"
      ]
     },
     "metadata": {
      "needs_background": "light"
     },
     "output_type": "display_data"
    }
   ],
   "source": [
    "countries = pivot_native_foreign['Country']\n",
    "native_scores = pivot_native_foreign['native_born']\n",
    "foreign_scores = pivot_native_foreign['foreign_born']\n",
    "differences = native_scores - foreign_scores\n",
    "\n",
    "plt.figure(figsize=(10, 6))\n",
    "\n",
    "bar_width = 0.4\n",
    "\n",
    "x = np.arange(len(countries))\n",
    "\n",
    "plt.ylim(350, 600)\n",
    "\n",
    "plt.bar(\n",
    "    x - bar_width / 2,\n",
    "    native_scores,\n",
    "    width=bar_width,\n",
    "    alpha=1,\n",
    "    color=\"blue\",\n",
    "    edgecolor=\"black\",\n",
    "    label=\"Native-born\",\n",
    ")\n",
    "\n",
    "plt.bar(\n",
    "    x + bar_width / 2,\n",
    "    foreign_scores,\n",
    "    width=bar_width,\n",
    "    alpha=1,\n",
    "    color=\"orange\",\n",
    "    edgecolor=\"black\",\n",
    "    label=\"Foreign-born\",\n",
    ")\n",
    "\n",
    "for i, (native, foreign, diff) in enumerate(zip(native_scores, foreign_scores, differences)):\n",
    "    taller_y = max(native, foreign)\n",
    "    plt.text(\n",
    "        x[i],\n",
    "        taller_y + 20,  \n",
    "        f\"{diff:+.1f}\",  \n",
    "        ha=\"center\",\n",
    "        fontsize=10,\n",
    "        color=\"red\",\n",
    "    )\n",
    "\n",
    "    plt.text(\n",
    "        x[i] - bar_width / 2,\n",
    "        native + 2,  \n",
    "        f\"{native:.1f}\",\n",
    "        ha=\"center\",\n",
    "        fontsize=10,\n",
    "        color=\"black\",\n",
    "    )\n",
    "\n",
    "    plt.text(\n",
    "        x[i] + bar_width / 2,\n",
    "        foreign + 2, \n",
    "        f\"{foreign:.1f}\",\n",
    "        ha=\"center\",\n",
    "        fontsize=10,\n",
    "        color=\"black\",\n",
    "    )\n",
    "\n",
    "plt.xticks(x, countries, rotation=45)\n",
    "plt.xlabel(\"Country\")\n",
    "plt.ylabel(\"Average Score\")\n",
    "plt.title(\"Average Literacy Scores of Native-born and Foreign-born by Country\")\n",
    "plt.legend()\n",
    "plt.tight_layout()\n",
    "\n",
    "plt.show()\n"
   ]
  },
  {
   "cell_type": "markdown",
   "metadata": {
    "tags": []
   },
   "source": [
    "### Observations"
   ]
  },
  {
   "cell_type": "markdown",
   "metadata": {
    "jp-MarkdownHeadingCollapsed": true,
    "tags": []
   },
   "source": [
    "#### Country Rankings and Disparities Between Native- and Foreign-Born Children\n",
    "- Sweden tops the leaderboard for average scores across all children. However, when focusing on foreign-born students, Netherlands takes first place, with a 17.1-point lead over foreign-born students in Sweden.\n",
    "\n",
    "- Despite Germany being third in overall scores, it ranks fourth for foreign-born students, behind Austria, which holds third place.\n",
    "\n",
    "- Sweden and Germany outperform Netherlands and Austria in overall literacy scores, yet Netherlands and Austria excel when it comes to foreign-born children's results.\n",
    "\n",
    "- At the bottom of the leaderboard, foreign-born Jordanian students rank eighth, with Egyptian students in ninth, despite these countries being in reverse positions in the ranking for overall scores.\n",
    "\n",
    "#### Native vs. Foreign-Born Performance\n",
    "- Native-born children outperform their foreign-born peers in every country except for Iran and Jordan.\n",
    "\n",
    "- The countries with the largest disparities between native and foreign-born children are Sweden, Turkey, and Germany, where native-born students score 53.5, 51.1, and 49.8 points higher, respectively.\n",
    "\n",
    "- The Netherlands has the smallest disparity between native and foreign-born children among high-income countries, with an average difference of just 15.4 points.\n",
    "\n",
    "- In Iran, foreign-born children actually score 0.7 points higher than native-born peers, indicating a reversal of the trend observed in most other countries.\n",
    "\n",
    "- While Turkey stands out with a large disparity, middle-income countries tend to have smaller gaps. This may be attributed to shared languages among foreign-born and native-born students in countries like Iran, Egypt, and Jordan.\n",
    "\n",
    "- Jordan is an intriguing case, where foreign-born students score 10.5 points higher than native-born students. This could be due to the large refugee population in Jordan, with Syrian children classified as foreign-born and Palestinian children as native-born."
   ]
  },
  {
   "cell_type": "markdown",
   "metadata": {
    "jp-MarkdownHeadingCollapsed": true,
    "tags": []
   },
   "source": [
    "#### Summary\n",
    "\n",
    "The Netherlands leads the way in achieving high scores for foreign-born students, even surpassing the performance of native-born children in other high-income countries. Understanding the methods and strategies employed in Dutch schools could provide valuable insights into how educational systems can support foreign-born children effectively.\n",
    "\n",
    "This analysis has also revealed interesting trends in middle-income countries, where, apart from Turkey, disparities between native and foreign-born children tend to be smaller. This could be attributed to factors like shared languages among students or different educational integration practices.\n",
    "\n",
    "Additionally, certain contextual factors, such as refugee status and language barriers, may help explain the varying performance trends, especially in countries like Jordan and Turkey.\n",
    "\n",
    "In the next stages, the analysis will focus on how the age of arrival affects the literacy outcomes for foreign-born children, providing a deeper understanding of the integration process."
   ]
  },
  {
   "cell_type": "markdown",
   "metadata": {
    "tags": []
   },
   "source": [
    "## The Effect of Age of Arrival on Assessment Scores"
   ]
  },
  {
   "cell_type": "markdown",
   "metadata": {},
   "source": [
    "Now  I want to investigate how the age of arrival in a country affects literacy scores. "
   ]
  },
  {
   "cell_type": "code",
   "execution_count": 10,
   "metadata": {
    "tags": []
   },
   "outputs": [],
   "source": [
    "pivot_minage_literacy = df.pivot_table(values='avgscore', index=['Country'],columns=['MINAGEARRIVAL'],dropna = False)"
   ]
  },
  {
   "cell_type": "code",
   "execution_count": 11,
   "metadata": {
    "tags": []
   },
   "outputs": [],
   "source": [
    "pivot_minage_literacy = pivot_minage_literacy.reindex(country_order)"
   ]
  },
  {
   "cell_type": "code",
   "execution_count": 12,
   "metadata": {
    "tags": []
   },
   "outputs": [
    {
     "data": {
      "image/png": "[encoded data removed]",
      "text/plain": [
       "<Figure size 720x576 with 2 Axes>"
      ]
     },
     "metadata": {
      "needs_background": "light"
     },
     "output_type": "display_data"
    }
   ],
   "source": [
    "plt.figure(figsize=(10, 8))\n",
    "sns.heatmap(pivot_minage_literacy, annot=True,fmt=\".1f\", cmap='YlGnBu')\n",
    "plt.title('Average Literacy Score sorted by Country and Age of Arrival in said Country')\n",
    "plt.show()"
   ]
  },
  {
   "cell_type": "markdown",
   "metadata": {
    "tags": []
   },
   "source": [
    "### Observations"
   ]
  },
  {
   "cell_type": "markdown",
   "metadata": {
    "jp-MarkdownHeadingCollapsed": true,
    "tags": []
   },
   "source": [
    "#### Age of Arrival Effect on Scores\n",
    "The hypothesis is that the older a child arrives in a new country, the more difficult it becomes to assimilate. This may be due to language barriers, both for the child and their parents.\n",
    "\n",
    "However, this hypothesis only holds true in Sweden, Austria, and France, where we observe a gradual decrease in attainment the older the children arrive in the country. In these countries, native students tend to perform the best.\n",
    "\n",
    "In contrast, Netherlands, Germany, and Turkey show that children who arrived between the ages of 3 and 6 perform the worst overall. These children, being 10 years old in 2021, would have arrived between 2014 and 2017. This could be reflecting these countries' challenges in accommodating a significant influx of foreign-born children during that period.\n",
    "\n",
    "#### Netherlands: High Performance of Foreign-Born Children\n",
    "As we saw in the previous visualization, Netherlands appears to be doing something right with foreign-born children. Here are some key observations:\n",
    "\n",
    "- Foreign-born children arriving under the age of 3 in the Netherlands outperform all their peers, including native-born peers, by a small margin.\n",
    "\n",
    "- Foreign-born children arriving after the age of 8 in the Netherlands perform very well, even surpassing native-born children in countries like France, Turkey, Iran, Jordan, and Egypt."
   ]
  },
  {
   "cell_type": "markdown",
   "metadata": {
    "jp-MarkdownHeadingCollapsed": true,
    "tags": []
   },
   "source": [
    "#### Summary\n",
    "The Netherlands stands out as outperforming all other countries in terms of supporting foreign-born children. To better understand the results, it would be useful to corroborate this data with more detailed age arrival information, as some children may have been held back in school, which could influence their current performance (for example, not all children may be 10 years old in 2021).\n",
    "\n",
    "Additionally, we should consider the sample sizes for non-native children, as they may be relatively small. This will be explored further in the next stage."
   ]
  },
  {
   "cell_type": "markdown",
   "metadata": {
    "tags": []
   },
   "source": [
    "### Sample Sizes"
   ]
  },
  {
   "cell_type": "code",
   "execution_count": 13,
   "metadata": {
    "tags": []
   },
   "outputs": [],
   "source": [
    "pivot_minagearrival_counts = df.pivot_table(\n",
    "    index=['Country'],\n",
    "    columns=['MINAGEARRIVAL'],\n",
    "    aggfunc='size',\n",
    ")"
   ]
  },
  {
   "cell_type": "code",
   "execution_count": 14,
   "metadata": {
    "tags": []
   },
   "outputs": [
    {
     "data": {
      "text/html": [
       "<div>\n",
       "<style scoped>\n",
       "    .dataframe tbody tr th:only-of-type {\n",
       "        vertical-align: middle;\n",
       "    }\n",
       "\n",
       "    .dataframe tbody tr th {\n",
       "        vertical-align: top;\n",
       "    }\n",
       "\n",
       "    .dataframe thead th {\n",
       "        text-align: right;\n",
       "    }\n",
       "</style>\n",
       "<table border=\"1\" class=\"dataframe\">\n",
       "  <thead>\n",
       "    <tr style=\"text-align: right;\">\n",
       "      <th>MINAGEARRIVAL</th>\n",
       "      <th>-1.0</th>\n",
       "      <th>0.0</th>\n",
       "      <th>3.0</th>\n",
       "      <th>6.0</th>\n",
       "      <th>8.0</th>\n",
       "    </tr>\n",
       "    <tr>\n",
       "      <th>Country</th>\n",
       "      <th></th>\n",
       "      <th></th>\n",
       "      <th></th>\n",
       "      <th></th>\n",
       "      <th></th>\n",
       "    </tr>\n",
       "  </thead>\n",
       "  <tbody>\n",
       "    <tr>\n",
       "      <th>Austria</th>\n",
       "      <td>4025</td>\n",
       "      <td>123</td>\n",
       "      <td>175</td>\n",
       "      <td>91</td>\n",
       "      <td>59</td>\n",
       "    </tr>\n",
       "    <tr>\n",
       "      <th>Egypt</th>\n",
       "      <td>6992</td>\n",
       "      <td>113</td>\n",
       "      <td>42</td>\n",
       "      <td>39</td>\n",
       "      <td>25</td>\n",
       "    </tr>\n",
       "    <tr>\n",
       "      <th>France</th>\n",
       "      <td>4526</td>\n",
       "      <td>81</td>\n",
       "      <td>71</td>\n",
       "      <td>49</td>\n",
       "      <td>25</td>\n",
       "    </tr>\n",
       "    <tr>\n",
       "      <th>Germany</th>\n",
       "      <td>2317</td>\n",
       "      <td>53</td>\n",
       "      <td>75</td>\n",
       "      <td>36</td>\n",
       "      <td>32</td>\n",
       "    </tr>\n",
       "    <tr>\n",
       "      <th>Iran</th>\n",
       "      <td>5689</td>\n",
       "      <td>40</td>\n",
       "      <td>15</td>\n",
       "      <td>19</td>\n",
       "      <td>16</td>\n",
       "    </tr>\n",
       "    <tr>\n",
       "      <th>Jordan</th>\n",
       "      <td>4731</td>\n",
       "      <td>501</td>\n",
       "      <td>280</td>\n",
       "      <td>101</td>\n",
       "      <td>27</td>\n",
       "    </tr>\n",
       "    <tr>\n",
       "      <th>Netherlands</th>\n",
       "      <td>1947</td>\n",
       "      <td>26</td>\n",
       "      <td>16</td>\n",
       "      <td>18</td>\n",
       "      <td>11</td>\n",
       "    </tr>\n",
       "    <tr>\n",
       "      <th>Sweden</th>\n",
       "      <td>2681</td>\n",
       "      <td>82</td>\n",
       "      <td>108</td>\n",
       "      <td>74</td>\n",
       "      <td>39</td>\n",
       "    </tr>\n",
       "    <tr>\n",
       "      <th>Turkey</th>\n",
       "      <td>5366</td>\n",
       "      <td>89</td>\n",
       "      <td>70</td>\n",
       "      <td>53</td>\n",
       "      <td>15</td>\n",
       "    </tr>\n",
       "  </tbody>\n",
       "</table>\n",
       "</div>"
      ],
      "text/plain": [
       "MINAGEARRIVAL  -1.0   0.0   3.0   6.0   8.0\n",
       "Country                                    \n",
       "Austria        4025   123   175    91    59\n",
       "Egypt          6992   113    42    39    25\n",
       "France         4526    81    71    49    25\n",
       "Germany        2317    53    75    36    32\n",
       "Iran           5689    40    15    19    16\n",
       "Jordan         4731   501   280   101    27\n",
       "Netherlands    1947    26    16    18    11\n",
       "Sweden         2681    82   108    74    39\n",
       "Turkey         5366    89    70    53    15"
      ]
     },
     "execution_count": 14,
     "metadata": {},
     "output_type": "execute_result"
    }
   ],
   "source": [
    "pivot_minagearrival_counts"
   ]
  },
  {
   "cell_type": "markdown",
   "metadata": {},
   "source": [
    "Given the above small sample sizes, a further investigation into these students would be useful. For example, in the Netherlands there were only 11 foreign-born students who arrived after the age of 8 in the study. It would be useful to explore whether these students are from the same school or region, to understand the reasons for their success."
   ]
  },
  {
   "cell_type": "markdown",
   "metadata": {
    "jp-MarkdownHeadingCollapsed": true,
    "tags": []
   },
   "source": [
    "# Discussion"
   ]
  },
  {
   "cell_type": "markdown",
   "metadata": {
    "jp-MarkdownHeadingCollapsed": true,
    "tags": []
   },
   "source": [
    "#### Interpreting the Findings\n",
    "As expected, high-income countries outperform middle-income countries in overall literacy assessment scores, with Sweden leading and Jordan in last place. Notably, Turkey performs significantly better than the other middle-income countries included in this study.\n",
    "\n",
    "When analysing native- and foreign-born children separately, significant shifts in rankings are evident. The Netherlands, despite being second in overall scores, ranks first for foreign-born children, outperforming Sweden. High-income countries and notably, Sweden and Germany, show significant disparities between native- and foreign-born students, while middle-income countries generally exhibit smaller gaps. In fact, foreign-born children outperform their native-born peers in Iran and Jordan. Turkey, however, shows a larger disparity than the other middle-income countries included in the study and this may be due to linguistic differences between native and foreign-born children in that country.\n",
    "\n",
    "Age-of-arrival data reveals further noteworthy findings, particularly the Netherlands' success in integrating foreign-born students at older ages. Even those arriving after age eight achieve strong scores, surpassing native-born peers in middle-income countries and France. Surprisingly, in the Netherlands, Germany, and Turkey, children arriving between ages 3 and 6 perform the worst. This may reflect challenges in accommodating an influx of foreign-born students between 2014 and 2017 when most of these children would have arrived.\n",
    "\n",
    "#### Policy Implications\n",
    "\n",
    "The findings suggest a need to investigate the policies creating these outcomes. The Netherlands should serve as a case study to understand successful integration practices for foreign-born children, compared to the Swedish strategy. Similarly, Austria's relatively stronger outcomes for foreign-born students compared to Germany suggest a need for a closer examination of their respective policies.\n",
    "\n",
    "#### Limitations of the Analysis\n",
    "\n",
    "As demonstrated above, despite large overall sample sizes, the samples of foreign-born children are small and this is particularly pronounced for subcategories like age of arrival. This may affect the reliability of trends observed. It would therefore be beneficial to further investigate these groupings, in order to understand whether they are reflective of broader national trends and policies. \n",
    "\n",
    "Additionally, this analysis is not able to divide foreign-born children into nationality, linguistic, or immigration status groupings - factors which could influence their literacy outcomes. "
   ]
  },
  {
   "cell_type": "markdown",
   "metadata": {
    "jp-MarkdownHeadingCollapsed": true,
    "tags": []
   },
   "source": [
    "# Conclusion"
   ]
  },
  {
   "cell_type": "markdown",
   "metadata": {},
   "source": [
    "This study demonstrates that equal wealth levels do not necessarily result in equal literacy outcomes, particularly for foreign-born children. It highlights the need for continued investigation into best practices in literacy education and the integration of foreign-born students. According to the data examined here, the Netherlands provides a striking example of what can be achieved within a short period, even for children arriving after the age of eight. This phenomenon certainly warrants further investigation. \n",
    "\n",
    "To build on this study, future research should explore these research questions:\n",
    "\n",
    "- How do the literacy outcomes of these countries compare to international benchmarks?\n",
    "- How do the literacy outcomes of these countries evolve over time in past and future PIRLS assessments?\n",
    "- How do other demographic factors, including gender, parents' occupation and education level, influence literacy outcomes?\n",
    "- How do the self-reported happiness levels of native and foreign-born children compare and are they reflective of literacy outcomes?"
   ]
  },
  {
   "cell_type": "markdown",
   "metadata": {},
   "source": [
    "It is essential that children who arrive in host countries have access to quality literacy education—not only to succeed in the workforce, but to fully exercise their agency as global citizens and to experience the personal joys of the written word. With growing displacement trends across the world, continued research into literacy education and the integration of foreign-born students is crucial so that children on the move develop the skills they need to thrive in this increasingly uncertain world. "
   ]
  },
  {
   "cell_type": "markdown",
   "metadata": {},
   "source": [
    "# References"
   ]
  },
  {
   "cell_type": "markdown",
   "metadata": {
    "tags": []
   },
   "source": [
    "IEA’s Progress in International Reading Literacy Study – PIRLS 2021 Copyright © 2023 International Association for the Evaluation of Educational Achievement (IEA). Publisher: TIMSS & PIRLS International Study Center, Lynch School of Education and Human Development, Boston College."
   ]
  }
 ],
 "metadata": {
  "kernelspec": {
   "display_name": "Python 3",
   "language": "python",
   "name": "python3"
  },
  "language_info": {
   "codemirror_mode": {
    "name": "ipython",
    "version": 3
   },
   "file_extension": ".py",
   "mimetype": "text/x-python",
   "name": "python",
   "nbconvert_exporter": "python",
   "pygments_lexer": "ipython3",
   "version": "3.7.6"
  }
 },
 "nbformat": 4,
 "nbformat_minor": 4
}
