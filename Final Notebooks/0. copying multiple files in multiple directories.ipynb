{
 "cells": [
  {
   "cell_type": "code",
   "execution_count": 4,
   "metadata": {},
   "outputs": [],
   "source": [
    "import os\n",
    "import shutil\n",
    "\n",
    "def copy_files_to_comparison_folder(source_folder, destination_folder):\n",
    "    \"\"\"\n",
    "    Copy files named ASH*R5 from the source folder to the destination folder.\n",
    "\n",
    "    Args:\n",
    "    - source_folder (str): Path to the source folder containing the files to copy.\n",
    "    - destination_folder (str): Path to the destination folder where the copies will be placed.\n",
    "    \"\"\"\n",
    "    \n",
    "    # Iterate over files in the source folder\n",
    "    for filename in os.listdir(source_folder):\n",
    "        if filename.startswith(\"ASH\") and filename.endswith(\"R5.xlsx\"):\n",
    "            # Construct paths for source and destination files\n",
    "            source_path = os.path.join(source_folder, filename)\n",
    "            destination_path = os.path.join(destination_folder, filename)\n",
    "            # Copy the file to the destination folder\n",
    "            shutil.copyfile(source_path, destination_path)\n",
    "\n",
    "# Define the root folder containing the country folders\n",
    "root_folder = \"/Users/sophiespencer/Desktop/Education Data/Pirls sav files/Use/Use\"\n",
    "\n",
    "# Define the destination folder (Comparison folder in the Use directory)\n",
    "destination_folder = \"/Users/sophiespencer/Desktop/Education Data/Pirls sav files/Use/Comparison\"\n",
    "\n",
    "# Loop through each subfolder in the root folder\n",
    "for country_folder in os.listdir(root_folder):\n",
    "    # Construct the full path of the country folder\n",
    "    country_folder_path = os.path.join(root_folder, country_folder)\n",
    "    # Check if the country folder is a directory\n",
    "    if os.path.isdir(country_folder_path):\n",
    "        # Call the function to copy files to the comparison folder\n",
    "        copy_files_to_comparison_folder(country_folder_path, destination_folder)\n"
   ]
  },
  {
   "cell_type": "code",
   "execution_count": 6,
   "metadata": {},
   "outputs": [],
   "source": [
    "def copy_SCfiles_to_comparison_folder(source_folder, destination_folder):\n",
    "    \"\"\"\n",
    "    Copy files named ASG*R5 from the source folder to the destination folder.\n",
    "\n",
    "    Args:\n",
    "    - source_folder (str): Path to the source folder containing the files to copy.\n",
    "    - destination_folder (str): Path to the destination folder where the copies will be placed.\n",
    "    \"\"\"\n",
    "    \n",
    "    # Iterate over files in the source folder\n",
    "    for filename in os.listdir(source_folder):\n",
    "        if filename.startswith(\"ASG\") and filename.endswith(\"R5.xlsx\"):\n",
    "            # Construct paths for source and destination files\n",
    "            source_path = os.path.join(source_folder, filename)\n",
    "            destination_path = os.path.join(destination_folder, filename)\n",
    "            # Copy the file to the destination folder\n",
    "            shutil.copyfile(source_path, destination_path)\n",
    "\n",
    "# Define the root folder containing the country folders\n",
    "root_folder = \"/Users/sophiespencer/Desktop/Education Data/Pirls sav files/Use/Use\"\n",
    "\n",
    "# Define the destination folder (Comparison folder in the Use directory)\n",
    "destination_folder = \"/Users/sophiespencer/Desktop/Education Data/Pirls sav files/Use/Comparison\"\n",
    "\n",
    "# Loop through each subfolder in the root folder\n",
    "for country_folder in os.listdir(root_folder):\n",
    "    # Construct the full path of the country folder\n",
    "    country_folder_path = os.path.join(root_folder, country_folder)\n",
    "    # Check if the country folder is a directory\n",
    "    if os.path.isdir(country_folder_path):\n",
    "        # Call the function to copy files to the comparison folder\n",
    "        copy_SCfiles_to_comparison_folder(country_folder_path, destination_folder)\n"
   ]
  },
  {
   "cell_type": "code",
   "execution_count": null,
   "metadata": {},
   "outputs": [],
   "source": []
  }
 ],
 "metadata": {
  "kernelspec": {
   "display_name": "Python 3",
   "language": "python",
   "name": "python3"
  },
  "language_info": {
   "codemirror_mode": {
    "name": "ipython",
    "version": 3
   },
   "file_extension": ".py",
   "mimetype": "text/x-python",
   "name": "python",
   "nbconvert_exporter": "python",
   "pygments_lexer": "ipython3",
   "version": "3.7.6"
  }
 },
 "nbformat": 4,
 "nbformat_minor": 4
}
