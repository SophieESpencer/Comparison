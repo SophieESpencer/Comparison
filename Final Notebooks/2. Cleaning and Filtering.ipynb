{
 "cells": [
  {
   "cell_type": "markdown",
   "metadata": {},
   "source": [
    "<center><h1>Literacy Attainment of Native- and Foreign-born children - Cleaning and Filtering the Data</h1></center>  "
   ]
  },
  {
   "cell_type": "markdown",
   "metadata": {
    "tags": []
   },
   "source": [
    "# Introduction"
   ]
  },
  {
   "cell_type": "markdown",
   "metadata": {},
   "source": [
    "I have been concerned with the Syrian Civil War and the ensuing refugee crisis, since the start of the conflict in 2011 when I was a student of Arabic at University of Edinburgh. Since then, I have worked directly with displaced people from this and other conflicts in Egypt, Lebanon and Greece. Whilst working with unaccompanied asylum-seeking children in Greece, I observed first hand the country's struggles to integrate asylum-seeking children into its national school system, and ultimately focused on this for my [Master's dissertation](https://sophieespencer.wordpress.com/2019/09/02/growth-unlocked/). In this dissertation, I identified the specific learning needs of refugee and asylum-seeking children as psycho-social support, protection from discrimination and bullying, and language acquisiton support. I also reviewed how other countries with high numbers of asylum-seeking children were addressing this challenge. \n",
    "\n",
    "Subsequently, I wanted to undertake a comparative investigation of countries with high numbers of asylum-seeking children to understand which countries were most successful at integrating foreign-born children into their national school systems. In the following analysis, I use data from the IEA’s Progress in International Reading Literacy Study 2021 (PIRLS 2021), an international assessment of fourth-grade students’ reading abilities conducted across 57 countries, to assess literacy outcomes for native and foreign-born children across nine countries with significant refugee populations. \n",
    "\n",
    "The goal of this study is to serve as a preliminary quantitative investigation to identify countries that demonstrate best practice in integrating foreign-born children into their national school systems, so that further targeted investigations into successful policies and practices can be made. "
   ]
  },
  {
   "cell_type": "markdown",
   "metadata": {
    "jp-MarkdownHeadingCollapsed": true,
    "tags": []
   },
   "source": [
    "## Research Questions"
   ]
  },
  {
   "cell_type": "markdown",
   "metadata": {},
   "source": [
    "This study is guided by the following research questions:\n",
    "\n",
    "- How do average literacy scores compare across countries with significant refugee populations?\n",
    "\n",
    "- Are there significant differences in literacy scores between native- and foreign-born children in these countries?\n",
    "\n",
    "- How does the age at which foreign-born children arrive in a host country affect their literacy outcomes?"
   ]
  },
  {
   "cell_type": "markdown",
   "metadata": {
    "tags": []
   },
   "source": [
    "## Data Compiling, Cleaning and Filtering"
   ]
  },
  {
   "cell_type": "markdown",
   "metadata": {},
   "source": [
    "The data for this analysis was downloaded  [here](https://pirls2021.org/data/) as separate SPSS files categorized by questionnaire type and country.\n",
    "\n",
    "After an initial review of the available data files, I selected specific files, converted them to Excel format, concatenated them into a single dataset and removed irrelevant columns. \n",
    "\n",
    "To view the concatenation process, please <a href=\"https://github.com/SophieESpencer/Comparison/blob/main/Final%20Notebooks/1.%20Importing%2C%20Organising%20and%20Merging%20Datasets.ipynb\">click here</a>.\n",
    " "
   ]
  },
  {
   "cell_type": "markdown",
   "metadata": {
    "tags": []
   },
   "source": [
    "# Cleaning the Data"
   ]
  },
  {
   "cell_type": "markdown",
   "metadata": {
    "tags": []
   },
   "source": [
    "## Importing the Data and relevant packages"
   ]
  },
  {
   "cell_type": "code",
   "execution_count": 1,
   "metadata": {
    "tags": []
   },
   "outputs": [],
   "source": [
    "import pandas as pd\n",
    "import numpy as np\n",
    "pd.set_option(\"display.max_columns\", None)\n",
    "pd.set_option(\"display.max_rows\", None)\n",
    "pd.set_option('display.max_colwidth', None) \n",
    "pd.set_option('display.expand_frame_repr', False)  \n",
    "import matplotlib.pyplot as plt\n",
    "import seaborn as sns"
   ]
  },
  {
   "cell_type": "code",
   "execution_count": 2,
   "metadata": {},
   "outputs": [],
   "source": [
    "df= pd.read_excel('data99.xlsx', index_col=0)"
   ]
  },
  {
   "cell_type": "markdown",
   "metadata": {},
   "source": [
    "I will first get an initial overview of the dataset. "
   ]
  },
  {
   "cell_type": "code",
   "execution_count": 3,
   "metadata": {
    "tags": []
   },
   "outputs": [
    {
     "name": "stdout",
     "output_type": "stream",
     "text": [
      "<class 'pandas.core.frame.DataFrame'>\n",
      "Int64Index: 50367 entries, 0 to 50366\n",
      "Data columns (total 57 columns):\n",
      " #   Column    Non-Null Count  Dtype  \n",
      "---  ------    --------------  -----  \n",
      " 0   IDCNTRY   50367 non-null  int64  \n",
      " 1   IDSTUD    50367 non-null  int64  \n",
      " 2   ASBH02A   41503 non-null  object \n",
      " 3   ASBH02B   16269 non-null  object \n",
      " 4   ASBH03A   41179 non-null  object \n",
      " 5   ASBH04    41231 non-null  object \n",
      " 6   ASBH15A   37405 non-null  object \n",
      " 7   ASBH15B   34597 non-null  object \n",
      " 8   ASBH16    40406 non-null  object \n",
      " 9   ASBH17A   36503 non-null  object \n",
      " 10  ASBH17B   32361 non-null  object \n",
      " 11  ASBH18AA  40161 non-null  object \n",
      " 12  ASBH18AB  35131 non-null  object \n",
      " 13  ASBG01    49428 non-null  object \n",
      " 14  ASBG03    48168 non-null  object \n",
      " 15  ASDAGE    50358 non-null  float64\n",
      " 16  ASBG10A   48311 non-null  object \n",
      " 17  ASBG10B   48077 non-null  object \n",
      " 18  ASBG10C   47893 non-null  object \n",
      " 19  ASBG10D   47822 non-null  object \n",
      " 20  ASBG10E   47844 non-null  object \n",
      " 21  ASBG10F   47945 non-null  object \n",
      " 22  ASBG11A   47967 non-null  object \n",
      " 23  ASBG11B   47756 non-null  object \n",
      " 24  ASBG11C   47634 non-null  object \n",
      " 25  ASBG11D   47497 non-null  object \n",
      " 26  ASBG11E   47543 non-null  object \n",
      " 27  ASBG11F   47843 non-null  object \n",
      " 28  ASBG11G   47707 non-null  object \n",
      " 29  ASBG11H   47701 non-null  object \n",
      " 30  ASBG11I   47647 non-null  object \n",
      " 31  ASBG11J   47613 non-null  object \n",
      " 32  ASRREA01  50367 non-null  float64\n",
      " 33  ASRREA02  50367 non-null  float64\n",
      " 34  ASRREA03  50367 non-null  float64\n",
      " 35  ASRREA04  50367 non-null  float64\n",
      " 36  ASRREA05  50367 non-null  float64\n",
      " 37  ASRLIT01  50367 non-null  float64\n",
      " 38  ASRLIT02  50367 non-null  float64\n",
      " 39  ASRLIT03  50367 non-null  float64\n",
      " 40  ASRLIT04  50367 non-null  float64\n",
      " 41  ASRLIT05  50367 non-null  float64\n",
      " 42  ASRINF01  50367 non-null  float64\n",
      " 43  ASRINF02  50367 non-null  float64\n",
      " 44  ASRINF03  50367 non-null  float64\n",
      " 45  ASRINF04  50367 non-null  float64\n",
      " 46  ASRINF05  50367 non-null  float64\n",
      " 47  ASRIIE01  50367 non-null  float64\n",
      " 48  ASRIIE02  50367 non-null  float64\n",
      " 49  ASRIIE03  50367 non-null  float64\n",
      " 50  ASRIIE04  50367 non-null  float64\n",
      " 51  ASRIIE05  50367 non-null  float64\n",
      " 52  ASRRSI01  50367 non-null  float64\n",
      " 53  ASRRSI02  50367 non-null  float64\n",
      " 54  ASRRSI03  50367 non-null  float64\n",
      " 55  ASRRSI04  50367 non-null  float64\n",
      " 56  ASRRSI05  50367 non-null  float64\n",
      "dtypes: float64(26), int64(2), object(29)\n",
      "memory usage: 22.3+ MB\n"
     ]
    }
   ],
   "source": [
    "df.info()"
   ]
  },
  {
   "cell_type": "markdown",
   "metadata": {},
   "source": [
    "The dataset contains 57 columns and 50367 rows of data. Ideally, all columns would have integer or float dtypes. However, many columns have object dtype indicating they may contain both numerical and string values. This will need to be fixed before analysis can begin. "
   ]
  },
  {
   "cell_type": "markdown",
   "metadata": {
    "tags": []
   },
   "source": [
    "## Grouping the Columns"
   ]
  },
  {
   "cell_type": "markdown",
   "metadata": {},
   "source": [
    "As there are so many columns, for ease of analysis, it would help to group them based on what they represent. First I will review the columns and their values using the codebooks provided by PIRLS."
   ]
  },
  {
   "cell_type": "markdown",
   "metadata": {},
   "source": [
    "- The following columns represent demographic information and currently have an 'object' dtype: `['ASBH02A', 'ASBH02B', 'ASBH03A', 'ASBH04', 'ASBH15A', 'ASBH15B', 'ASBH16', 'ASBH17A', 'ASBH17B', 'ASBH18AA', 'ASBH18AB', 'ASBG01', 'ASBG03']`."
   ]
  },
  {
   "cell_type": "markdown",
   "metadata": {},
   "source": [
    "- The following columns represent feelings in school and share the same set of categorical values as defined in the codebook. They currently have an 'object' dtype: `['ASBG10A', 'ASBG10B', 'ASBG10C', 'ASBG10D', 'ASBG10E', 'ASBG10F']`."
   ]
  },
  {
   "cell_type": "markdown",
   "metadata": {},
   "source": [
    "- The following columns represent experiences in school, and share the same set of categorical values as defined in the codebook. They currently have an 'object' dtype: `['ASBG11A', 'ASBG11B', 'ASBG11C', 'ASBG11D', 'ASBG11E', 'ASBG11F', 'ASBG11G', 'ASBG11H', 'ASBG11I', 'ASBG11J']`. "
   ]
  },
  {
   "cell_type": "markdown",
   "metadata": {},
   "source": [
    "- The following columns represent literacy test scores, which are measured on an interval scale ranging from 0 to 600. They have a 'float' dtype, which is expected: `['ASRREA01', 'ASRREA02', 'ASRREA03', 'ASRREA04', 'ASRREA05', 'ASRLIT01', 'ASRLIT02', 'ASRLIT03', 'ASRLIT04', 'ASRLIT05', 'ASRINF01', 'ASRINF02', 'ASRINF03', 'ASRINF04', 'ASRINF05', 'ASRIIE01', 'ASRIIE02', 'ASRIIE03', 'ASRIIE04', 'ASRIIE05', 'ASRRSI01', 'ASRRSI02', 'ASRRSI03', 'ASRRSI04', 'ASRRSI05']`."
   ]
  },
  {
   "cell_type": "markdown",
   "metadata": {},
   "source": [
    "After reviewing the columns, I have chosen to create the following column groupings:"
   ]
  },
  {
   "cell_type": "code",
   "execution_count": 4,
   "metadata": {
    "scrolled": true,
    "tags": []
   },
   "outputs": [],
   "source": [
    "main_variables = ['IDCNTRY','ASBH02A']\n",
    "demographic_info_columns = ['ASBH02B', 'ASBH03A', 'ASBH04', 'ASBH15A', 'ASBH15B', 'ASBH16', 'ASBH17A', 'ASBH17B', 'ASBH18AA', 'ASBH18AB', 'ASBG01', 'ASBG03', 'ASDAGE','MINAGEARRIVAL' ]\n",
    "feelings_in_school_columns = ['ASBG10A', 'ASBG10B','ASBG10C', 'ASBG10D', 'ASBG10E', 'ASBG10F']\n",
    "experiences_in_school_columns = ['ASBG11A', 'ASBG11B', 'ASBG11C', 'ASBG11D', 'ASBG11E', 'ASBG11F', 'ASBG11G', 'ASBG11H', 'ASBG11I', 'ASBG11J']\n",
    "assessment_score_columns = ['ASRREA01', 'ASRREA02', 'ASRREA03', 'ASRREA04', 'ASRREA05', 'ASRLIT01', 'ASRLIT02', 'ASRLIT03', 'ASRLIT04', 'ASRLIT05', 'ASRINF01', 'ASRINF02', 'ASRINF03', 'ASRINF04', 'ASRINF05', 'ASRIIE01', 'ASRIIE02', 'ASRIIE03', 'ASRIIE04', 'ASRIIE05', 'ASRRSI01', 'ASRRSI02', 'ASRRSI03', 'ASRRSI04', 'ASRRSI05']"
   ]
  },
  {
   "cell_type": "markdown",
   "metadata": {},
   "source": [
    "- `main_variables`: Country and nativity status.\n",
    "- `demographic_info_columns`: These columns primarily come from the Home Context Survey, which was answered by parents. \n",
    "- `feelings_in_school_columns`: These columns reflect children’s self-reported feelings about school.\n",
    "- `experiences_in_school_columns`: This set of columns relates to children's self-reported experiences, particularly focusing on the frequency of negative experiences.\n",
    "- `assessment_score_columns`: These columns contain the literacy and reading test scores from the PIRLS assessment.\n"
   ]
  },
  {
   "cell_type": "markdown",
   "metadata": {
    "tags": []
   },
   "source": [
    "## Nativity Status Column"
   ]
  },
  {
   "cell_type": "markdown",
   "metadata": {},
   "source": [
    "The most important column for this analysis is `ASBH02A`, 'Was your child born in (Country)?', I therefore want to firstly remove any rows of data that have no answer to this question."
   ]
  },
  {
   "cell_type": "code",
   "execution_count": 5,
   "metadata": {},
   "outputs": [],
   "source": [
    "df = df[df['ASBH02A'].notna() & (df['ASBH02A'] != 9)].copy()"
   ]
  },
  {
   "cell_type": "code",
   "execution_count": 6,
   "metadata": {
    "tags": []
   },
   "outputs": [
    {
     "data": {
      "text/plain": [
       "(41365, 57)"
      ]
     },
     "execution_count": 6,
     "metadata": {},
     "output_type": "execute_result"
    }
   ],
   "source": [
    "df.shape"
   ]
  },
  {
   "cell_type": "markdown",
   "metadata": {},
   "source": [
    "Removing the rows that do not contain nativity status data has reduced the dataset by 9002 rows. "
   ]
  },
  {
   "cell_type": "markdown",
   "metadata": {},
   "source": [
    "As shown above, this column has 'Object' dtype so I want to examine the column values a litte more closely. "
   ]
  },
  {
   "cell_type": "code",
   "execution_count": 7,
   "metadata": {
    "tags": []
   },
   "outputs": [
    {
     "data": {
      "text/plain": [
       "Yes    25072\n",
       "1      13403\n",
       "No      2342\n",
       "2        548\n",
       "Name: ASBH02A, dtype: int64"
      ]
     },
     "execution_count": 7,
     "metadata": {},
     "output_type": "execute_result"
    }
   ],
   "source": [
    "df[\"ASBH02A\"].value_counts(dropna=False)"
   ]
  },
  {
   "cell_type": "markdown",
   "metadata": {},
   "source": [
    "This column contains both integer and string values. For readibility in the analysis stage, I want to replace these values with ones that represent their actual meaning."
   ]
  },
  {
   "cell_type": "code",
   "execution_count": 8,
   "metadata": {},
   "outputs": [
    {
     "data": {
      "text/plain": [
       "native_born     38475\n",
       "foreign_born     2890\n",
       "Name: ASBH02A, dtype: int64"
      ]
     },
     "execution_count": 8,
     "metadata": {},
     "output_type": "execute_result"
    }
   ],
   "source": [
    "update_dict_ASBH02A = {1.0: 'native_born',2.0:'foreign_born','Yes': 'native_born','No':'foreign_born' }\n",
    "\n",
    "df['ASBH02A'] = df['ASBH02A'].map(update_dict_ASBH02A).fillna(df['ASBH02A'])\n",
    "df['ASBH02A'].value_counts()"
   ]
  },
  {
   "cell_type": "markdown",
   "metadata": {
    "tags": []
   },
   "source": [
    "## Country Column"
   ]
  },
  {
   "cell_type": "markdown",
   "metadata": {},
   "source": [
    "Another fundamental column in the subsequent analysis is the `IDCNTRY` column, which currently contains numbers representing different countries."
   ]
  },
  {
   "cell_type": "markdown",
   "metadata": {},
   "source": [
    "I will first rename the column for clarity and then update the column values from integers to more readable strings for analysis."
   ]
  },
  {
   "cell_type": "code",
   "execution_count": 9,
   "metadata": {},
   "outputs": [],
   "source": [
    "df= df.rename(columns={'IDCNTRY': 'Country'})\n",
    "\n",
    "update_dict = {40: 'Austria', 818: 'Egypt', 250:'France', 276:'Germany',364:'Iran',400:'Jordan',528:'Netherlands',752:'Sweden',792:'Turkey'}\n",
    "\n",
    "df['Country'] = df['Country'].map(update_dict).fillna(df['Country'])"
   ]
  },
  {
   "cell_type": "code",
   "execution_count": 10,
   "metadata": {
    "tags": []
   },
   "outputs": [
    {
     "data": {
      "text/plain": [
       "Egypt          7354\n",
       "Iran           5840\n",
       "Jordan         5801\n",
       "Turkey         5596\n",
       "France         4768\n",
       "Austria        4476\n",
       "Sweden         2989\n",
       "Germany        2515\n",
       "Netherlands    2026\n",
       "Name: Country, dtype: int64"
      ]
     },
     "execution_count": 10,
     "metadata": {},
     "output_type": "execute_result"
    }
   ],
   "source": [
    "df[\"Country\"].value_counts(dropna=False)"
   ]
  },
  {
   "cell_type": "markdown",
   "metadata": {
    "tags": []
   },
   "source": [
    "## Age of Arrival Columns"
   ]
  },
  {
   "cell_type": "markdown",
   "metadata": {},
   "source": [
    "`ASBH02B` is a follow up question to the nativity question `ASBH02A`: 'If No, How old was your child when he/she came to (country)?'. This column will be helpful to see how age of arrival affects foreign-born children's experience of school. "
   ]
  },
  {
   "cell_type": "markdown",
   "metadata": {},
   "source": [
    "I will explore the values in this column."
   ]
  },
  {
   "cell_type": "code",
   "execution_count": 11,
   "metadata": {
    "tags": []
   },
   "outputs": [
    {
     "data": {
      "text/plain": [
       "NaN                         25234\n",
       "6                           13402\n",
       "Younger than 3 years old      928\n",
       "3 to 5 years old              692\n",
       "6 to 7 years old              375\n",
       "8 years old or older          186\n",
       "1                             182\n",
       "2                             160\n",
       "3                             108\n",
       "4                              63\n",
       "9                              35\n",
       "Name: ASBH02B, dtype: int64"
      ]
     },
     "execution_count": 11,
     "metadata": {},
     "output_type": "execute_result"
    }
   ],
   "source": [
    "df['ASBH02B'].value_counts(dropna=False)"
   ]
  },
  {
   "cell_type": "markdown",
   "metadata": {},
   "source": [
    "The column contains both strings and integers indicating countries have inputted their data in different ways. I will assign the corresponding ordinal numbers to the string values as shown in the codebook."
   ]
  },
  {
   "cell_type": "code",
   "execution_count": 12,
   "metadata": {},
   "outputs": [],
   "source": [
    "def map_using_patterns(text):\n",
    "    pattern_to_integer = {\n",
    "        r'Younger': 1,\n",
    "        r'5': 2,\n",
    "        r'7': 3,\n",
    "        r'8': 4\n",
    "    }\n",
    "\n",
    "    if isinstance(text, str):\n",
    "        for pattern, integer in pattern_to_integer.items():\n",
    "            if pd.Series([text]).str.contains(pattern).any():\n",
    "                return integer\n",
    "    return text  \n",
    "\n",
    "\n",
    "df['ASBH02B'] = df['ASBH02B'].apply(map_using_patterns)\n"
   ]
  },
  {
   "cell_type": "code",
   "execution_count": 13,
   "metadata": {
    "tags": []
   },
   "outputs": [
    {
     "data": {
      "text/plain": [
       "NaN    25234\n",
       "6.0    13402\n",
       "1.0     1110\n",
       "2.0      852\n",
       "3.0      483\n",
       "4.0      249\n",
       "9.0       35\n",
       "Name: ASBH02B, dtype: int64"
      ]
     },
     "execution_count": 13,
     "metadata": {},
     "output_type": "execute_result"
    }
   ],
   "source": [
    "df['ASBH02B'].value_counts(dropna=False)"
   ]
  },
  {
   "cell_type": "markdown",
   "metadata": {},
   "source": [
    "I will assign more intuitive integer values to this column for clarity: -1 for native-born children, 0 for those younger than 3 years old, 3 for ages 3 to 5, 6 for ages 6 to 7, and 8 for those 8 years or older at the time of arrival."
   ]
  },
  {
   "cell_type": "code",
   "execution_count": 14,
   "metadata": {},
   "outputs": [],
   "source": [
    "def populate_column(row):\n",
    "    if row['ASBH02A'] == 'native_born':\n",
    "        return -1\n",
    "    if row['ASBH02B'] == 1:\n",
    "        return 0\n",
    "    elif row['ASBH02B'] == 2:\n",
    "        return 3\n",
    "    elif row['ASBH02B'] == 3:\n",
    "        return 6\n",
    "    elif row['ASBH02B'] == 4:\n",
    "        return 8\n",
    "    else:\n",
    "        return None  \n",
    "\n",
    "df['MINAGEARRIVAL'] = df.apply(populate_column, axis=1)"
   ]
  },
  {
   "cell_type": "code",
   "execution_count": 15,
   "metadata": {},
   "outputs": [
    {
     "data": {
      "text/plain": [
       "-1.0    38475\n",
       " 0.0     1110\n",
       " 3.0      852\n",
       " 6.0      483\n",
       " 8.0      249\n",
       " NaN      196\n",
       "Name: MINAGEARRIVAL, dtype: int64"
      ]
     },
     "execution_count": 15,
     "metadata": {},
     "output_type": "execute_result"
    }
   ],
   "source": [
    "df['MINAGEARRIVAL'].value_counts(dropna=False)"
   ]
  },
  {
   "cell_type": "markdown",
   "metadata": {
    "tags": []
   },
   "source": [
    "## ASDAGE Column"
   ]
  },
  {
   "cell_type": "code",
   "execution_count": 16,
   "metadata": {
    "tags": []
   },
   "outputs": [
    {
     "data": {
      "text/plain": [
       "0    10.17\n",
       "1     9.42\n",
       "2     9.50\n",
       "3     9.58\n",
       "4     9.58\n",
       "Name: ASDAGE, dtype: float64"
      ]
     },
     "execution_count": 16,
     "metadata": {},
     "output_type": "execute_result"
    }
   ],
   "source": [
    "df['ASDAGE'].head()"
   ]
  },
  {
   "cell_type": "markdown",
   "metadata": {},
   "source": [
    "The `ASDAGE` column represents the child's age at the time the test was taken, measured on an interval scale. Since the values are recorded with decimal places, I will round them to integers for analysis to reduce the number of unique values."
   ]
  },
  {
   "cell_type": "code",
   "execution_count": 17,
   "metadata": {
    "scrolled": true
   },
   "outputs": [],
   "source": [
    "df['ASDAGE'] = df['ASDAGE'].round()"
   ]
  },
  {
   "cell_type": "code",
   "execution_count": 18,
   "metadata": {
    "scrolled": true
   },
   "outputs": [
    {
     "data": {
      "text/plain": [
       "10.0    32829\n",
       "11.0     6158\n",
       "9.0      1762\n",
       "12.0      516\n",
       "13.0       63\n",
       "14.0       14\n",
       "8.0        14\n",
       "99.0        3\n",
       "7.0         1\n",
       "Name: ASDAGE, dtype: int64"
      ]
     },
     "execution_count": 18,
     "metadata": {},
     "output_type": "execute_result"
    }
   ],
   "source": [
    "df['ASDAGE'].value_counts()"
   ]
  },
  {
   "cell_type": "markdown",
   "metadata": {},
   "source": [
    "I will replace the 99.0 value with `NaN`."
   ]
  },
  {
   "cell_type": "code",
   "execution_count": 19,
   "metadata": {
    "tags": []
   },
   "outputs": [],
   "source": [
    "df['ASDAGE']= df['ASDAGE'].replace(99.0, np.nan)"
   ]
  },
  {
   "cell_type": "code",
   "execution_count": 20,
   "metadata": {
    "tags": []
   },
   "outputs": [
    {
     "data": {
      "text/plain": [
       "10.0    32829\n",
       "11.0     6158\n",
       "9.0      1762\n",
       "12.0      516\n",
       "13.0       63\n",
       "14.0       14\n",
       "8.0        14\n",
       "7.0         1\n",
       "Name: ASDAGE, dtype: int64"
      ]
     },
     "execution_count": 20,
     "metadata": {},
     "output_type": "execute_result"
    }
   ],
   "source": [
    "df['ASDAGE'].value_counts()"
   ]
  },
  {
   "cell_type": "markdown",
   "metadata": {
    "tags": []
   },
   "source": [
    "## Understanding Missing Data"
   ]
  },
  {
   "cell_type": "markdown",
   "metadata": {},
   "source": [
    "Now that I have made the `Country`, `ASBH02A`, and `ASBH02B` columns more readible, and removed rows with no value for the `ASBH02A` column, it would be helpful to understand the extent of missing data across countries and nativity status to see if there are any major gaps. "
   ]
  },
  {
   "cell_type": "code",
   "execution_count": 21,
   "metadata": {
    "scrolled": true
   },
   "outputs": [],
   "source": [
    "pivot_table_test = df.pivot_table(\n",
    "    index=['Country','ASBH02A'],\n",
    "    aggfunc=lambda x: x.isnull().sum(),\n",
    ")"
   ]
  },
  {
   "cell_type": "code",
   "execution_count": 22,
   "metadata": {
    "scrolled": true,
    "tags": []
   },
   "outputs": [],
   "source": [
    "total_counts = df.groupby(['Country','ASBH02A']).size()\n",
    "\n",
    "percentage_missing = pivot_table_test.div(total_counts, axis=0) * 100"
   ]
  },
  {
   "cell_type": "code",
   "execution_count": 23,
   "metadata": {},
   "outputs": [
    {
     "data": {
      "image/png": "[encoded data removed]",
      "text/plain": [
       "<Figure size 1008x864 with 2 Axes>"
      ]
     },
     "metadata": {
      "needs_background": "light"
     },
     "output_type": "display_data"
    }
   ],
   "source": [
    "plt.figure(figsize=(14,12 ))\n",
    "sns.heatmap(percentage_missing, annot=False, cmap='viridis', fmt='.2f')\n",
    "\n",
    "plt.title('Percentage of Missing Values Heatmap')\n",
    "plt.show()"
   ]
  },
  {
   "cell_type": "markdown",
   "metadata": {},
   "source": [
    "In the heatmap above, the yellow blocks represent no datapoints at all. This makes sense for native-born children in the columns `ASBH02B` as that corresponds to age of arrival in country. Austria, Egypt, France, Jordan, Netherlands and Sweden all appear to have some missing data in the demographic columns sourced from the Home Context Data. There is also some missing data for the experience in school columns. There is no missing data for assessment scores. "
   ]
  },
  {
   "cell_type": "markdown",
   "metadata": {
    "tags": []
   },
   "source": [
    "## Uniform Column Values"
   ]
  },
  {
   "cell_type": "markdown",
   "metadata": {},
   "source": [
    "Now, I want to check the unique values in each column to ensure consistency, avoid mixed data types and replace invalid values with `NaN`."
   ]
  },
  {
   "cell_type": "markdown",
   "metadata": {
    "tags": []
   },
   "source": [
    "### Experience in School Columns"
   ]
  },
  {
   "cell_type": "markdown",
   "metadata": {},
   "source": [
    "I will start by looking at the values in the 'experiences_in_school_columns'."
   ]
  },
  {
   "cell_type": "code",
   "execution_count": 24,
   "metadata": {
    "tags": []
   },
   "outputs": [
    {
     "name": "stdout",
     "output_type": "stream",
     "text": [
      "                 ASBG11A                ASBG11B                ASBG11C                ASBG11D                ASBG11E                ASBG11F                ASBG11G                ASBG11H                ASBG11I                ASBG11J\n",
      "0                      4                      4                      4                      4                      4                      4                      4                      4                      4                      4\n",
      "1                      1                      3                      1                      2                      9                      3                      3                      1                      3                      2\n",
      "2                      3                      1                      3                      1                      3                      1                      1                      3                      1                      3\n",
      "3                      2                      2                      2                      3                      1                      2                      9                      2                      2                      1\n",
      "4                      9                      9                      9                      9                      2                      9                      2                      9                      9                      9\n",
      "5                    NaN                    NaN                    NaN                    NaN                    NaN                    NaN                    NaN                    NaN                    NaN                    NaN\n",
      "6                  Never                  Never     A few times a year  Once or twice a month                  Never                  Never                  Never     A few times a year                  Never                  Never\n",
      "7  Once or twice a month  Once or twice a month   At least once a week                  Never     A few times a year     A few times a year  Once or twice a month                  Never   At least once a week     A few times a year\n",
      "8     A few times a year     A few times a year  Once or twice a month     A few times a year  Once or twice a month  Once or twice a month     A few times a year   At least once a week     A few times a year   At least once a week\n",
      "9   At least once a week   At least once a week                  Never   At least once a week   At least once a week   At least once a week   At least once a week  Once or twice a month  Once or twice a month  Once or twice a month\n"
     ]
    }
   ],
   "source": [
    "unique_values_school_experience = df[experiences_in_school_columns].apply(lambda col: col.unique())\n",
    "\n",
    "print(unique_values_school_experience)"
   ]
  },
  {
   "cell_type": "markdown",
   "metadata": {},
   "source": [
    "As is evident above, these columns contain both string and integer values, indicating that countries inputted their data in different ways. According to the code book, all of  these columns are rated on the same scale. I therefore want to replace all the string values with their corresponding integer value for consistency and clarity."
   ]
  },
  {
   "cell_type": "code",
   "execution_count": 25,
   "metadata": {},
   "outputs": [],
   "source": [
    "ordinal_mapping_frequency = {\n",
    "    'At least once a week': 1,\n",
    "    'Once or twice a month': 2,\n",
    "    'A few times a year': 3,\n",
    "    'Never': 4,\n",
    "}"
   ]
  },
  {
   "cell_type": "code",
   "execution_count": 26,
   "metadata": {},
   "outputs": [],
   "source": [
    "for column in experiences_in_school_columns:\n",
    "    df[column]= df[column].map(ordinal_mapping_frequency).fillna(df[column])"
   ]
  },
  {
   "cell_type": "markdown",
   "metadata": {},
   "source": [
    "Now I will check these columns again."
   ]
  },
  {
   "cell_type": "code",
   "execution_count": 27,
   "metadata": {},
   "outputs": [
    {
     "name": "stdout",
     "output_type": "stream",
     "text": [
      "   ASBG11A  ASBG11B  ASBG11C  ASBG11D  ASBG11E  ASBG11F  ASBG11G  ASBG11H  ASBG11I  ASBG11J\n",
      "0      4.0      4.0      4.0      4.0      4.0      4.0      4.0      4.0      4.0      4.0\n",
      "1      1.0      3.0      1.0      2.0      9.0      3.0      3.0      1.0      3.0      2.0\n",
      "2      3.0      1.0      3.0      1.0      3.0      1.0      1.0      3.0      1.0      3.0\n",
      "3      2.0      2.0      2.0      3.0      1.0      2.0      9.0      2.0      2.0      1.0\n",
      "4      9.0      9.0      9.0      9.0      2.0      9.0      2.0      9.0      9.0      9.0\n",
      "5      NaN      NaN      NaN      NaN      NaN      NaN      NaN      NaN      NaN      NaN\n"
     ]
    }
   ],
   "source": [
    "unique_values_school_experience = df[experiences_in_school_columns].apply(lambda col: col.unique())\n",
    "\n",
    "print(unique_values_school_experience)"
   ]
  },
  {
   "cell_type": "markdown",
   "metadata": {
    "tags": []
   },
   "source": [
    "### Feelings in School Columns"
   ]
  },
  {
   "cell_type": "markdown",
   "metadata": {},
   "source": [
    "Next, I will do the same process for the 'feelings_in_school_columns'."
   ]
  },
  {
   "cell_type": "code",
   "execution_count": 28,
   "metadata": {
    "tags": []
   },
   "outputs": [
    {
     "name": "stdout",
     "output_type": "stream",
     "text": [
      "             ASBG10A            ASBG10B            ASBG10C            ASBG10D            ASBG10E            ASBG10F\n",
      "0                  1                  1                  1                  1                  1                  1\n",
      "1                  2                  2                  2                  2                  2                  2\n",
      "2                  3                  4                  4                  3                  4                  3\n",
      "3                  9                  3                  9                  4                  3                  4\n",
      "4                  4                  9                  3                  9                  9                  9\n",
      "5                NaN                NaN                NaN                NaN                NaN                NaN\n",
      "6     Agree a little  Disagree a little     Agree a little     Agree a little  Disagree a little        Agree a lot\n",
      "7        Agree a lot     Agree a little        Agree a lot        Agree a lot        Agree a lot     Agree a little\n",
      "8  Disagree a little        Agree a lot  Disagree a little  Disagree a little     Agree a little  Disagree a little\n",
      "9     Disagree a lot     Disagree a lot     Disagree a lot     Disagree a lot     Disagree a lot     Disagree a lot\n"
     ]
    }
   ],
   "source": [
    "unique_values_school_feeling = df[feelings_in_school_columns].apply(lambda col: col.unique())\n",
    "\n",
    "print(unique_values_school_feeling)"
   ]
  },
  {
   "cell_type": "markdown",
   "metadata": {},
   "source": [
    "All the feelings_in_school_columns are rated on the same scale. So I want to remove all the string values and assign them their associated integer value."
   ]
  },
  {
   "cell_type": "code",
   "execution_count": 29,
   "metadata": {},
   "outputs": [],
   "source": [
    "ordinal_mapping_agreement = { \n",
    "    'Agree a lot': 1,\n",
    "    'Agree a little': 2,\n",
    "    'Disagree a little': 3,\n",
    "    'Disagree a lot': 4\n",
    "}"
   ]
  },
  {
   "cell_type": "code",
   "execution_count": 30,
   "metadata": {},
   "outputs": [],
   "source": [
    "for column in feelings_in_school_columns:\n",
    "    df[column]= df[column].map(ordinal_mapping_agreement).fillna(df[column])"
   ]
  },
  {
   "cell_type": "code",
   "execution_count": 31,
   "metadata": {},
   "outputs": [
    {
     "name": "stdout",
     "output_type": "stream",
     "text": [
      "   ASBG10A  ASBG10B  ASBG10C  ASBG10D  ASBG10E  ASBG10F\n",
      "0      1.0      1.0      1.0      1.0      1.0      1.0\n",
      "1      2.0      2.0      2.0      2.0      2.0      2.0\n",
      "2      3.0      4.0      4.0      3.0      4.0      3.0\n",
      "3      9.0      3.0      9.0      4.0      3.0      4.0\n",
      "4      4.0      9.0      3.0      9.0      9.0      9.0\n",
      "5      NaN      NaN      NaN      NaN      NaN      NaN\n"
     ]
    }
   ],
   "source": [
    "unique_values_school_feeling = df[feelings_in_school_columns].apply(lambda col: col.unique())\n",
    "\n",
    "print(unique_values_school_feeling)"
   ]
  },
  {
   "cell_type": "markdown",
   "metadata": {
    "tags": []
   },
   "source": [
    "### Other Demographic Columns"
   ]
  },
  {
   "cell_type": "markdown",
   "metadata": {},
   "source": [
    "I will leave the other demographic columns aside for now, as I am primarily concerned with one demographic variable—`ASBH02A` (nativity status)—for the initial analysis."
   ]
  },
  {
   "cell_type": "markdown",
   "metadata": {
    "tags": []
   },
   "source": [
    "# Filtering the data "
   ]
  },
  {
   "cell_type": "markdown",
   "metadata": {},
   "source": [
    "Now I am concerned with removing any rows of data (each representing one student) with irregular assessment score values as such values could skew the analysis. "
   ]
  },
  {
   "cell_type": "markdown",
   "metadata": {
    "tags": []
   },
   "source": [
    "## Average Score Column"
   ]
  },
  {
   "cell_type": "markdown",
   "metadata": {},
   "source": [
    "I will start by creating an average score column to add to my dataframe."
   ]
  },
  {
   "cell_type": "code",
   "execution_count": 32,
   "metadata": {},
   "outputs": [],
   "source": [
    "df['avgscore'] = df[assessment_score_columns].mean(axis=1)"
   ]
  },
  {
   "cell_type": "markdown",
   "metadata": {},
   "source": [
    "Now I will get a brief overview of this column."
   ]
  },
  {
   "cell_type": "code",
   "execution_count": 33,
   "metadata": {},
   "outputs": [
    {
     "data": {
      "text/plain": [
       "count    41365.000000\n",
       "mean       465.338100\n",
       "std        111.880952\n",
       "min         84.541739\n",
       "25%        394.414970\n",
       "50%        482.298914\n",
       "75%        550.326946\n",
       "max        757.011431\n",
       "Name: avgscore, dtype: float64"
      ]
     },
     "execution_count": 33,
     "metadata": {},
     "output_type": "execute_result"
    }
   ],
   "source": [
    "df['avgscore'].describe()"
   ]
  },
  {
   "cell_type": "markdown",
   "metadata": {},
   "source": [
    "The maximum average score is 757.011431 and the minimum is 84.541739. These scores are both quite far from the mean of 465.338100 which could indicate that there was an error in the data inputting process for these rows. "
   ]
  },
  {
   "cell_type": "markdown",
   "metadata": {},
   "source": [
    "## Interquartile Range Filtering"
   ]
  },
  {
   "cell_type": "markdown",
   "metadata": {},
   "source": [
    "I will perform interquartile range filtering, which removes values that fall below \n",
    "Q1\n",
    "−\n",
    "1.5\n",
    "×\n",
    "IQR\n",
    "Q1−1.5×IQR and above \n",
    "Q3\n",
    "+\n",
    "1.5\n",
    "×\n",
    "IQR\n",
    "Q3+1.5×IQR, and see how that affects the dataset."
   ]
  },
  {
   "cell_type": "code",
   "execution_count": 34,
   "metadata": {},
   "outputs": [],
   "source": [
    "Q1 = df['avgscore'].quantile(0.25)\n",
    "Q3 = df['avgscore'].quantile(0.75)\n",
    "IQR = Q3 - Q1\n",
    "\n",
    "lower_bound = Q1 - 1.5 * IQR\n",
    "upper_bound = Q3 + 1.5 * IQR\n",
    "\n",
    "df_iqr_filtered = df[(df['avgscore'] >= lower_bound) & (df['avgscore'] <= upper_bound)]"
   ]
  },
  {
   "cell_type": "markdown",
   "metadata": {
    "tags": []
   },
   "source": [
    "## Comparison of the Datasets"
   ]
  },
  {
   "cell_type": "code",
   "execution_count": 35,
   "metadata": {},
   "outputs": [],
   "source": [
    "summary_original = df['avgscore'].describe()\n",
    "summary_iqr_filtered = df_iqr_filtered['avgscore'].describe()"
   ]
  },
  {
   "cell_type": "code",
   "execution_count": 36,
   "metadata": {},
   "outputs": [
    {
     "name": "stdout",
     "output_type": "stream",
     "text": [
      "Original Data Summary:\n",
      "count    41365.000000\n",
      "mean       465.338100\n",
      "std        111.880952\n",
      "min         84.541739\n",
      "25%        394.414970\n",
      "50%        482.298914\n",
      "75%        550.326946\n",
      "max        757.011431\n",
      "Name: avgscore, dtype: float64\n",
      "\n",
      "IQR Filtered Data Summary:\n",
      "count    41158.000000\n",
      "mean       466.971053\n",
      "std        109.754016\n",
      "min        160.574553\n",
      "25%        395.985095\n",
      "50%        483.052609\n",
      "75%        550.627011\n",
      "max        757.011431\n",
      "Name: avgscore, dtype: float64\n"
     ]
    }
   ],
   "source": [
    "print(\"Original Data Summary:\")\n",
    "print(summary_original)\n",
    "print(\"\\nIQR Filtered Data Summary:\")\n",
    "print(summary_iqr_filtered)"
   ]
  },
  {
   "cell_type": "markdown",
   "metadata": {},
   "source": [
    "Now I will visualise this with boxplots."
   ]
  },
  {
   "cell_type": "code",
   "execution_count": 37,
   "metadata": {},
   "outputs": [
    {
     "data": {
      "image/png": "[encoded data removed]",
      "text/plain": [
       "<Figure size 1080x360 with 2 Axes>"
      ]
     },
     "metadata": {
      "needs_background": "light"
     },
     "output_type": "display_data"
    }
   ],
   "source": [
    "plt.figure(figsize=(15, 5))\n",
    "\n",
    "plt.subplot(1, 3, 1)\n",
    "sns.boxplot(df['avgscore'])\n",
    "plt.title('Original Data')\n",
    "\n",
    "plt.subplot(1, 3, 3)\n",
    "sns.boxplot(df_iqr_filtered['avgscore'])\n",
    "plt.title('IQR Filtered Data')\n",
    "\n",
    "plt.show()"
   ]
  },
  {
   "cell_type": "markdown",
   "metadata": {},
   "source": [
    "Interquartile range filtering has removed 207 values that fall below an average score of 160.574553. It has not removed any of the highest scorers. I want to explore these 207 values further to determine whether they are truly erroneous data points. "
   ]
  },
  {
   "cell_type": "markdown",
   "metadata": {
    "tags": []
   },
   "source": [
    "## Exploring the Low Scorers"
   ]
  },
  {
   "cell_type": "code",
   "execution_count": 46,
   "metadata": {
    "tags": []
   },
   "outputs": [],
   "source": [
    "low_scores_df = df[df[\"avgscore\"]<160.574553].copy()"
   ]
  },
  {
   "cell_type": "code",
   "execution_count": 47,
   "metadata": {
    "tags": []
   },
   "outputs": [
    {
     "data": {
      "text/plain": [
       "Jordan    96\n",
       "Egypt     81\n",
       "Iran      31\n",
       "Name: Country, dtype: int64"
      ]
     },
     "execution_count": 47,
     "metadata": {},
     "output_type": "execute_result"
    }
   ],
   "source": [
    "low_scores_df[\"Country\"].value_counts()"
   ]
  },
  {
   "cell_type": "code",
   "execution_count": 48,
   "metadata": {
    "tags": []
   },
   "outputs": [
    {
     "data": {
      "text/plain": [
       "native_born     202\n",
       "foreign_born      6\n",
       "Name: ASBH02A, dtype: int64"
      ]
     },
     "execution_count": 48,
     "metadata": {},
     "output_type": "execute_result"
    }
   ],
   "source": [
    "low_scores_df[\"ASBH02A\"].value_counts()"
   ]
  },
  {
   "cell_type": "code",
   "execution_count": 49,
   "metadata": {
    "tags": []
   },
   "outputs": [],
   "source": [
    "low_scores_df[\"avg_score_binned\"] = pd.cut(low_scores_df['avgscore'], bins=10)"
   ]
  },
  {
   "cell_type": "code",
   "execution_count": 50,
   "metadata": {
    "tags": []
   },
   "outputs": [
    {
     "data": {
      "text/plain": [
       "(152.971, 160.575]    65\n",
       "(145.368, 152.971]    38\n",
       "(137.765, 145.368]    36\n",
       "(130.161, 137.765]    22\n",
       "(114.955, 122.558]    13\n",
       "(107.352, 114.955]    11\n",
       "(122.558, 130.161]    11\n",
       "(99.748, 107.352]      6\n",
       "(92.145, 99.748]       5\n",
       "(84.466, 92.145]       1\n",
       "Name: avg_score_binned, dtype: int64"
      ]
     },
     "execution_count": 50,
     "metadata": {},
     "output_type": "execute_result"
    }
   ],
   "source": [
    "low_scores_df[\"avg_score_binned\"].value_counts()"
   ]
  },
  {
   "cell_type": "markdown",
   "metadata": {},
   "source": [
    "## Decision - Use IQR"
   ]
  },
  {
   "cell_type": "markdown",
   "metadata": {},
   "source": [
    "I feel more confident using the IQR filtered dataset.  "
   ]
  },
  {
   "cell_type": "code",
   "execution_count": 43,
   "metadata": {
    "tags": []
   },
   "outputs": [],
   "source": [
    "df_iqr_filtered.to_excel(\"cleandataiqr17125.xlsx\")"
   ]
  },
  {
   "cell_type": "code",
   "execution_count": 44,
   "metadata": {
    "tags": []
   },
   "outputs": [],
   "source": [
    "df.to_excel(\"cleandataiqr4225.xlsx\")"
   ]
  },
  {
   "cell_type": "markdown",
   "metadata": {},
   "source": [
    "# References"
   ]
  },
  {
   "cell_type": "markdown",
   "metadata": {
    "tags": []
   },
   "source": [
    "IEA’s Progress in International Reading Literacy Study – PIRLS 2021 Copyright © 2023 International Association for the Evaluation of Educational Achievement (IEA). Publisher: TIMSS & PIRLS International Study Center, Lynch School of Education and Human Development, Boston College."
   ]
  }
 ],
 "metadata": {
  "kernelspec": {
   "display_name": "Python 3",
   "language": "python",
   "name": "python3"
  },
  "language_info": {
   "codemirror_mode": {
    "name": "ipython",
    "version": 3
   },
   "file_extension": ".py",
   "mimetype": "text/x-python",
   "name": "python",
   "nbconvert_exporter": "python",
   "pygments_lexer": "ipython3",
   "version": "3.7.6"
  }
 },
 "nbformat": 4,
 "nbformat_minor": 4
}
