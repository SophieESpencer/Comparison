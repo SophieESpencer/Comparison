{
 "cells": [
  {
   "cell_type": "markdown",
   "metadata": {},
   "source": [
    "# Comparative Analysis of Literacy Assessments Scores of Native- and Foreign-born children using PIRLS 2021 Data"
   ]
  },
  {
   "cell_type": "markdown",
   "metadata": {},
   "source": [
    "I started this wanting to look at refugee education results in various countries as a continuation of a previous research project looking at educational models for refugee children in Greece. \n",
    "\n",
    "However I wanted to use PIRLS data as opposed to another international student achievement database such as ….. Because I am first and foremost concerned with literacy education as one of the capabilities with the potential to unlock many other capabilities, using Amatry Sen’s capabilities approach on having a good life. I believe this aspect of schooling to be of the upmost importance for refugee children in particular as many refugee children face ‘an unknowable future’. \n",
    "\n",
    "Unfortunately PIRLS did not have data from Greece or other countries of interest. \n"
   ]
  },
  {
   "cell_type": "markdown",
   "metadata": {},
   "source": [
    "# Importing, Organising and Merging Datasets"
   ]
  },
  {
   "cell_type": "code",
   "execution_count": 1,
   "metadata": {
    "scrolled": true
   },
   "outputs": [],
   "source": [
    "import pandas as pd\n",
    "import numpy as np\n",
    "pd.set_option(\"display.max_columns\", None)\n",
    "pd.set_option(\"display.max_rows\", None)"
   ]
  },
  {
   "cell_type": "code",
   "execution_count": null,
   "metadata": {},
   "outputs": [],
   "source": [
    "#TurkeyHC = pd.read_excel(\"data_folder/ASHTURR5.xlsx\")"
   ]
  },
  {
   "cell_type": "markdown",
   "metadata": {},
   "source": [
    "I chose to use Turkey, Austria, Germany, Egypt, France, Iran, Jordan, The Netherlands and Sweden because:"
   ]
  },
  {
   "cell_type": "markdown",
   "metadata": {},
   "source": [
    "After an initial look at what the datasets contained - I chose to use the Home Context Survey data (answered by parents) and the Student Context Survey data (answered by students) as the source data for this examination. Helpfully, the Student Context Data also included the (aggregated?) assessment scores for each child, meaning it was not necessary to use the original assessment score dataset."
   ]
  },
  {
   "cell_type": "markdown",
   "metadata": {},
   "source": [
    "[PIRLS](https://pirls2021.org/data/). This is where I was able to download all the SPSS files which are separated by country code and survey type."
   ]
  },
  {
   "cell_type": "markdown",
   "metadata": {},
   "source": [
    "SOURCE: IEA’s Progress in International Reading Literacy Study – PIRLS 2021 Copyright © 2023 International Association for the Evaluation of Educational Achievement (IEA). Publisher: TIMSS & PIRLS International Study Center, Lynch School of Education and Human Development, Boston College."
   ]
  },
  {
   "cell_type": "markdown",
   "metadata": {},
   "source": [
    "## Home Context Data"
   ]
  },
  {
   "cell_type": "markdown",
   "metadata": {},
   "source": [
    "First I will read in the country files of the Home Context Data. This is data from a questionnaire given to the parents of each student. It contains crucial information on the immigration status of students."
   ]
  },
  {
   "cell_type": "code",
   "execution_count": 2,
   "metadata": {},
   "outputs": [],
   "source": [
    "TurkeyHC = pd.read_excel(\"ASHTURR5.xlsx\")\n",
    "AustriaHC = pd.read_excel(\"ASHAUTR5.xlsx\")\n",
    "GermanyHC = pd.read_excel(\"ASHDEUR5.xlsx\")\n",
    "EgyptHC = pd.read_excel(\"ASHEGYR5.xlsx\")\n",
    "FranceHC = pd.read_excel(\"ASHFRAR5.xlsx\")\n",
    "IranHC = pd.read_excel(\"ASHIRNR5.xlsx\")\n",
    "JordanHC = pd.read_excel(\"ASHJORR5.xlsx\")\n",
    "NetherlandsHC = pd.read_excel(\"ASHNLDR5.xlsx\")\n",
    "SwedenHC = pd.read_excel(\"ASHSWER5.xlsx\")"
   ]
  },
  {
   "cell_type": "code",
   "execution_count": null,
   "metadata": {},
   "outputs": [],
   "source": [
    "'''TurkeyHC = pd.read_excel(\"data_folder/ASHTURR5.xlsx\")\n",
    "AustriaHC = pd.read_excel(\"data_folder/ASHAUTR5.xlsx\")\n",
    "GermanyHC = pd.read_excel(\"data_folder/ASHDEUR5.xlsx\")\n",
    "EgyptHC = pd.read_excel(\"data_folder/ASHEGYR5.xlsx\")\n",
    "FranceHC = pd.read_excel(\"data_folder/ASHFRAR5.xlsx\")\n",
    "IranHC = pd.read_excel(\"data_folder/ASHIRNR5.xlsx\")\n",
    "JordanHC = pd.read_excel(\"data_folder/ASHJORR5.xlsx\")\n",
    "NetherlandsHC = pd.read_excel(\"data_folder/ASHNLDR5.xlsx\")\n",
    "SwedenHC = pd.read_excel(\"data_folder/ASHSWER5.xlsx\")"
   ]
  },
  {
   "cell_type": "code",
   "execution_count": 3,
   "metadata": {
    "scrolled": true
   },
   "outputs": [],
   "source": [
    "# Concatenating all the Home Context Data sets into one\n",
    "HCdf = pd.concat([TurkeyHC, AustriaHC, GermanyHC, EgyptHC, FranceHC, IranHC, JordanHC, NetherlandsHC, SwedenHC])"
   ]
  },
  {
   "cell_type": "code",
   "execution_count": 4,
   "metadata": {},
   "outputs": [
    {
     "name": "stdout",
     "output_type": "stream",
     "text": [
      "<class 'pandas.core.frame.DataFrame'>\n",
      "Int64Index: 50367 entries, 0 to 5174\n",
      "Columns: 118 entries, IDCNTRY to SCOPE\n",
      "dtypes: float64(8), int64(6), object(104)\n",
      "memory usage: 45.7+ MB\n"
     ]
    }
   ],
   "source": [
    "HCdf.info()"
   ]
  },
  {
   "cell_type": "markdown",
   "metadata": {},
   "source": [
    "It is interesting here that when the dataframes were concatenated the Dtype of the columns changed from int to object. I believe this is because the data for some countries has been inputted as strings and for other countries as integers. "
   ]
  },
  {
   "cell_type": "markdown",
   "metadata": {},
   "source": [
    "I will now examine the columns in more detail, the internation Supplement 1, available here.  codebook to understand which columns might be useful for my analysis. Those selected were: \n",
    "- ASBH02A Was your child born in country? \n",
    "- ASBH02B If No, How old was your child when he/she came to country?\n",
    "- ASBH03A What language did your child speak before he/she began school? (language of test)\n",
    "- ASBH04 How often does your child speak (language of test) at home?\n",
    "- ASBH15A What is the highest level of education completed by the child/s parents/guardians? <Parent/Guardian A>\n",
    "- ASBH15B What is the highest level of education completed by the child/s <parents/guardians>? <Parent/Guardian B>\n",
    "- ASBH16 How far in his/her education do you expect your child to go? ASBH19\n",
    "- ASBH17A What kind of work do the child's <parents/guardians> do for their\n",
    "main jobs? <Parent/Guardian A>\n",
    "- ASBH17B What kind of work do the child's <parents/guardians> do for their\n",
    "main jobs? <Parent/Guardian B>\n",
    "- ASBH18AA Do the child's <parents/guardians> talk with the child in the following languages? <Parent/Guardian A> (language of test)\n",
    "- ASBH18AB Do the child's <parents/guardians> talk with the child in the following\n",
    "languages? <Parent/Guardian B> (language of test)"
   ]
  },
  {
   "cell_type": "code",
   "execution_count": 5,
   "metadata": {},
   "outputs": [],
   "source": [
    "HCcolumns_to_keep = ['IDCNTRY','IDSTUD','ASBH02A','ASBH02B','ASBH03A','ASBH04', 'ASBH15A','ASBH15B','ASBH16','ASBH17A','ASBH17B','ASBH18AA','ASBH18AB']"
   ]
  },
  {
   "cell_type": "code",
   "execution_count": 6,
   "metadata": {},
   "outputs": [],
   "source": [
    "HCdf = HCdf[HCcolumns_to_keep]"
   ]
  },
  {
   "cell_type": "code",
   "execution_count": 7,
   "metadata": {},
   "outputs": [
    {
     "name": "stdout",
     "output_type": "stream",
     "text": [
      "<class 'pandas.core.frame.DataFrame'>\n",
      "Int64Index: 50367 entries, 0 to 5174\n",
      "Data columns (total 13 columns):\n",
      " #   Column    Non-Null Count  Dtype \n",
      "---  ------    --------------  ----- \n",
      " 0   IDCNTRY   50367 non-null  int64 \n",
      " 1   IDSTUD    50367 non-null  int64 \n",
      " 2   ASBH02A   41503 non-null  object\n",
      " 3   ASBH02B   16269 non-null  object\n",
      " 4   ASBH03A   41179 non-null  object\n",
      " 5   ASBH04    41231 non-null  object\n",
      " 6   ASBH15A   37405 non-null  object\n",
      " 7   ASBH15B   34597 non-null  object\n",
      " 8   ASBH16    40406 non-null  object\n",
      " 9   ASBH17A   36503 non-null  object\n",
      " 10  ASBH17B   32361 non-null  object\n",
      " 11  ASBH18AA  40161 non-null  object\n",
      " 12  ASBH18AB  35131 non-null  object\n",
      "dtypes: int64(2), object(11)\n",
      "memory usage: 5.4+ MB\n"
     ]
    }
   ],
   "source": [
    "HCdf.info()"
   ]
  },
  {
   "cell_type": "markdown",
   "metadata": {},
   "source": [
    "## Student Context Data"
   ]
  },
  {
   "cell_type": "markdown",
   "metadata": {},
   "source": [
    "As we know refugee children have distinct psycho social needs at school and so it was important for me to see their wellbeing as well as their assessment scores. "
   ]
  },
  {
   "cell_type": "markdown",
   "metadata": {},
   "source": [
    "SC is the Student Context data which is a questionnaire filled in by the students themselves as well as some totals on their achievement in the test. "
   ]
  },
  {
   "cell_type": "code",
   "execution_count": 8,
   "metadata": {
    "scrolled": true
   },
   "outputs": [],
   "source": [
    "TurkeySC = pd.read_excel(\"ASGTURR5.xlsx\")\n",
    "AustriaSC = pd.read_excel(\"ASGAUTR5.xlsx\")\n",
    "EgyptSC = pd.read_excel(\"ASGEGYR5.xlsx\")\n",
    "FranceSC = pd.read_excel(\"ASGFRAR5.xlsx\")\n",
    "IranSC = pd.read_excel(\"ASGIRNR5.xlsx\")\n",
    "JordanSC = pd.read_excel(\"ASGJORR5.xlsx\")\n",
    "NetherlandsSC = pd.read_excel(\"ASGNLDR5.xlsx\")\n",
    "SwedenSC = pd.read_excel(\"ASGSWER5.xlsx\")\n",
    "GermanySC = pd.read_excel(\"ASGDEUR5.xlsx\")"
   ]
  },
  {
   "cell_type": "code",
   "execution_count": null,
   "metadata": {
    "scrolled": true
   },
   "outputs": [],
   "source": [
    "'''TurkeySC = pd.read_excel(\"data_folder/ASGTURR5.xlsx\")\n",
    "AustriaSC = pd.read_excel(\"data_folder/ASGAUTR5.xlsx\")\n",
    "EgyptSC = pd.read_excel(\"data_folder/ASGEGYR5.xlsx\")\n",
    "FranceSC = pd.read_excel(\"data_folder/ASGFRAR5.xlsx\")\n",
    "IranSC = pd.read_excel(\"data_folder/ASGIRNR5.xlsx\")\n",
    "JordanSC = pd.read_excel(\"data_folder/ASGJORR5.xlsx\")\n",
    "NetherlandsSC = pd.read_excel(\"data_folder/ASGNLDR5.xlsx\")\n",
    "SwedenSC = pd.read_excel(\"data_folder/ASGSWER5.xlsx\")\n",
    "GermanySC = pd.read_excel(\"data_folder/ASGDEUR5.xlsx\")"
   ]
  },
  {
   "cell_type": "code",
   "execution_count": 9,
   "metadata": {
    "scrolled": true
   },
   "outputs": [],
   "source": [
    "SCdf = pd.concat([TurkeySC, AustriaSC, EgyptSC, FranceSC, IranSC, JordanSC, NetherlandsSC, SwedenSC, GermanySC])"
   ]
  },
  {
   "cell_type": "code",
   "execution_count": 10,
   "metadata": {},
   "outputs": [
    {
     "name": "stdout",
     "output_type": "stream",
     "text": [
      "'IDCNTRY', 'IDPOP', 'IDGRADER', 'IDGRADE', 'WAVE', 'IDSCHOOL', 'IDCLASS', 'IDSTUD', 'ITSEX', 'ITADMINI', 'LCID_SA', 'LCID_SQ', 'ITLANG_SA', 'ITLANG_SQ', 'IDBOOK', 'ASBG01', 'ASBG03', 'ASBG04', 'ASBG05A', 'ASBG05B', 'ASBG05C', 'ASBG05D', 'ASBG05E', 'ASBG05F', 'ASBG05G', 'ASBG05H', 'ASBG05I', 'ASBG05J', 'ASBG05K', 'ASBG06', 'ASBG07A', 'ASBG07B', 'ASBG08A', 'ASBG08B', 'ASBG09A', 'ASBG09B', 'ASBG09C', 'ASBG09D', 'ASBG09E', 'ASBG09F', 'ASBG09G', 'ASBG09H', 'ASBG10A', 'ASBG10B', 'ASBG10C', 'ASBG10D', 'ASBG10E', 'ASBG10F', 'ASBG11A', 'ASBG11B', 'ASBG11C', 'ASBG11D', 'ASBG11E', 'ASBG11F', 'ASBG11G', 'ASBG11H', 'ASBG11I', 'ASBG11J', 'ASBR01A', 'ASBR01B', 'ASBR01C', 'ASBR01D', 'ASBR01E', 'ASBR01F', 'ASBR01G', 'ASBR01H', 'ASBR01I', 'ASBR02A', 'ASBR02B', 'ASBR02C', 'ASBR02D', 'ASBR02E', 'ASBR03A', 'ASBR03B', 'ASBR03C', 'ASBR04', 'ASBR05', 'ASBR06A', 'ASBR06B', 'ASBR07A', 'ASBR07B', 'ASBR07C', 'ASBR07D', 'ASBR07E', 'ASBR07F', 'ASBR07G', 'ASBR07H', 'ASBR08A', 'ASBR08B', 'ASBR08C', 'ASBR08D', 'ASBR08E', 'ASBR08F', 'ASDAGE', 'HOUWGT', 'TOTWGT', 'SENWGT', 'WGTADJ1', 'WGTADJ2', 'WGTADJ3', 'WGTFAC1', 'WGTFAC2', 'WGTFAC3', 'JKREP', 'JKZONE', 'ASRREA01', 'ASRREA02', 'ASRREA03', 'ASRREA04', 'ASRREA05', 'ASRLIT01', 'ASRLIT02', 'ASRLIT03', 'ASRLIT04', 'ASRLIT05', 'ASRINF01', 'ASRINF02', 'ASRINF03', 'ASRINF04', 'ASRINF05', 'ASRIIE01', 'ASRIIE02', 'ASRIIE03', 'ASRIIE04', 'ASRIIE05', 'ASRRSI01', 'ASRRSI02', 'ASRRSI03', 'ASRRSI04', 'ASRRSI05', 'ASRIBM01', 'ASRIBM02', 'ASRIBM03', 'ASRIBM04', 'ASRIBM05', 'ASBGSEC', 'ASDGSEC', 'ASBGSSB', 'ASDGSSB', 'ASBGSB', 'ASDGSB', 'ASBGERL', 'ASDGERL', 'ASBGDRL', 'ASDGDRL', 'ASBGSLR', 'ASDGSLR', 'ASBGHRL', 'ASDGHRL', 'ASBGSCR', 'ASDGSCR', 'ASDG05S', 'ASDRLOWP', 'VERSION', 'SCOPE'\n"
     ]
    }
   ],
   "source": [
    "column_list = SCdf.columns.to_list()\n",
    "# Join the list into a single string separated by ', '\n",
    "# Format each column name with quotes\n",
    "formatted_columns = ', '.join(f\"'{col}'\" for col in column_list)\n",
    "\n",
    "# Print the formatted string\n",
    "print(formatted_columns)"
   ]
  },
  {
   "cell_type": "markdown",
   "metadata": {},
   "source": [
    "As there were many *more* columns in the Student Context Data, it was helpful to divide these into groups."
   ]
  },
  {
   "cell_type": "code",
   "execution_count": 11,
   "metadata": {},
   "outputs": [],
   "source": [
    "SCdemographic_info_columns = ['IDCNTRY','IDSTUD','ASBG01', 'ASBG03','ASDAGE']"
   ]
  },
  {
   "cell_type": "code",
   "execution_count": 12,
   "metadata": {},
   "outputs": [],
   "source": [
    "SCexperience_in_school_columns = ['ASBG10A', 'ASBG10B', 'ASBG10C', 'ASBG10D', 'ASBG10E', 'ASBG10F', 'ASBG11A', 'ASBG11B', 'ASBG11C', 'ASBG11D', 'ASBG11E', 'ASBG11F', 'ASBG11G', 'ASBG11H', 'ASBG11I', 'ASBG11J']"
   ]
  },
  {
   "cell_type": "code",
   "execution_count": 13,
   "metadata": {},
   "outputs": [],
   "source": [
    "SCassessment_score_columns = ['ASRREA01', 'ASRREA02', 'ASRREA03', 'ASRREA04', 'ASRREA05', 'ASRLIT01', 'ASRLIT02', 'ASRLIT03', 'ASRLIT04', 'ASRLIT05', 'ASRINF01', 'ASRINF02', 'ASRINF03', 'ASRINF04', 'ASRINF05', 'ASRIIE01', 'ASRIIE02', 'ASRIIE03', 'ASRIIE04', 'ASRIIE05', 'ASRRSI01', 'ASRRSI02', 'ASRRSI03', 'ASRRSI04', 'ASRRSI05']"
   ]
  },
  {
   "cell_type": "code",
   "execution_count": 14,
   "metadata": {},
   "outputs": [],
   "source": [
    "allSCcolumns = SCdemographic_info_columns + SCexperience_in_school_columns +SCassessment_score_columns"
   ]
  },
  {
   "cell_type": "code",
   "execution_count": 15,
   "metadata": {},
   "outputs": [],
   "source": [
    "SCdf = SCdf[allSCcolumns]"
   ]
  },
  {
   "cell_type": "markdown",
   "metadata": {},
   "source": [
    "## Merging Home Context and Student Context Data"
   ]
  },
  {
   "cell_type": "code",
   "execution_count": 16,
   "metadata": {
    "scrolled": true
   },
   "outputs": [],
   "source": [
    "df = pd.merge(HCdf, SCdf, on=None)"
   ]
  },
  {
   "cell_type": "code",
   "execution_count": 17,
   "metadata": {},
   "outputs": [
    {
     "name": "stdout",
     "output_type": "stream",
     "text": [
      "<class 'pandas.core.frame.DataFrame'>\n",
      "Int64Index: 50367 entries, 0 to 50366\n",
      "Data columns (total 57 columns):\n",
      " #   Column    Non-Null Count  Dtype  \n",
      "---  ------    --------------  -----  \n",
      " 0   IDCNTRY   50367 non-null  int64  \n",
      " 1   IDSTUD    50367 non-null  int64  \n",
      " 2   ASBH02A   41503 non-null  object \n",
      " 3   ASBH02B   16269 non-null  object \n",
      " 4   ASBH03A   41179 non-null  object \n",
      " 5   ASBH04    41231 non-null  object \n",
      " 6   ASBH15A   37405 non-null  object \n",
      " 7   ASBH15B   34597 non-null  object \n",
      " 8   ASBH16    40406 non-null  object \n",
      " 9   ASBH17A   36503 non-null  object \n",
      " 10  ASBH17B   32361 non-null  object \n",
      " 11  ASBH18AA  40161 non-null  object \n",
      " 12  ASBH18AB  35131 non-null  object \n",
      " 13  ASBG01    49428 non-null  object \n",
      " 14  ASBG03    48168 non-null  object \n",
      " 15  ASDAGE    50358 non-null  float64\n",
      " 16  ASBG10A   48311 non-null  object \n",
      " 17  ASBG10B   48077 non-null  object \n",
      " 18  ASBG10C   47893 non-null  object \n",
      " 19  ASBG10D   47822 non-null  object \n",
      " 20  ASBG10E   47844 non-null  object \n",
      " 21  ASBG10F   47945 non-null  object \n",
      " 22  ASBG11A   47967 non-null  object \n",
      " 23  ASBG11B   47756 non-null  object \n",
      " 24  ASBG11C   47634 non-null  object \n",
      " 25  ASBG11D   47497 non-null  object \n",
      " 26  ASBG11E   47543 non-null  object \n",
      " 27  ASBG11F   47843 non-null  object \n",
      " 28  ASBG11G   47707 non-null  object \n",
      " 29  ASBG11H   47701 non-null  object \n",
      " 30  ASBG11I   47647 non-null  object \n",
      " 31  ASBG11J   47613 non-null  object \n",
      " 32  ASRREA01  50367 non-null  float64\n",
      " 33  ASRREA02  50367 non-null  float64\n",
      " 34  ASRREA03  50367 non-null  float64\n",
      " 35  ASRREA04  50367 non-null  float64\n",
      " 36  ASRREA05  50367 non-null  float64\n",
      " 37  ASRLIT01  50367 non-null  float64\n",
      " 38  ASRLIT02  50367 non-null  float64\n",
      " 39  ASRLIT03  50367 non-null  float64\n",
      " 40  ASRLIT04  50367 non-null  float64\n",
      " 41  ASRLIT05  50367 non-null  float64\n",
      " 42  ASRINF01  50367 non-null  float64\n",
      " 43  ASRINF02  50367 non-null  float64\n",
      " 44  ASRINF03  50367 non-null  float64\n",
      " 45  ASRINF04  50367 non-null  float64\n",
      " 46  ASRINF05  50367 non-null  float64\n",
      " 47  ASRIIE01  50367 non-null  float64\n",
      " 48  ASRIIE02  50367 non-null  float64\n",
      " 49  ASRIIE03  50367 non-null  float64\n",
      " 50  ASRIIE04  50367 non-null  float64\n",
      " 51  ASRIIE05  50367 non-null  float64\n",
      " 52  ASRRSI01  50367 non-null  float64\n",
      " 53  ASRRSI02  50367 non-null  float64\n",
      " 54  ASRRSI03  50367 non-null  float64\n",
      " 55  ASRRSI04  50367 non-null  float64\n",
      " 56  ASRRSI05  50367 non-null  float64\n",
      "dtypes: float64(26), int64(2), object(29)\n",
      "memory usage: 22.3+ MB\n"
     ]
    }
   ],
   "source": [
    "df.info()"
   ]
  },
  {
   "cell_type": "markdown",
   "metadata": {},
   "source": [
    "Our new dataset has 57 columns and 50367 rows of data. Many columns have object dtype, indicating they may contain string values. This will be examined further in the next stage of the process, (Cleaning and Filtering the Data). "
   ]
  },
  {
   "cell_type": "code",
   "execution_count": 18,
   "metadata": {},
   "outputs": [],
   "source": [
    "df.to_excel('data99.xlsx')"
   ]
  }
 ],
 "metadata": {
  "kernelspec": {
   "display_name": "Python 3",
   "language": "python",
   "name": "python3"
  },
  "language_info": {
   "codemirror_mode": {
    "name": "ipython",
    "version": 3
   },
   "file_extension": ".py",
   "mimetype": "text/x-python",
   "name": "python",
   "nbconvert_exporter": "python",
   "pygments_lexer": "ipython3",
   "version": "3.7.6"
  }
 },
 "nbformat": 4,
 "nbformat_minor": 4
}
