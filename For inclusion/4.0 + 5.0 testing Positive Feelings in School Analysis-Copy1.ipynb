{
 "cells": [
  {
   "cell_type": "markdown",
   "metadata": {
    "tags": []
   },
   "source": [
    "# The Basics"
   ]
  },
  {
   "cell_type": "code",
   "execution_count": 1,
   "metadata": {},
   "outputs": [],
   "source": [
    "import pandas as pd\n",
    "import numpy as np\n",
    "import matplotlib.pyplot as plt\n",
    "import seaborn as sns\n",
    "pd.set_option(\"display.max_columns\", None)\n",
    "pd.set_option(\"display.max_rows\", None)"
   ]
  },
  {
   "cell_type": "code",
   "execution_count": 2,
   "metadata": {
    "scrolled": true,
    "tags": []
   },
   "outputs": [],
   "source": [
    "df= pd.read_excel('cleandataiqr2911.xlsx', index_col=0)"
   ]
  },
  {
   "cell_type": "code",
   "execution_count": 3,
   "metadata": {
    "scrolled": true,
    "tags": []
   },
   "outputs": [],
   "source": [
    "identifier_columns = ['Country','ASBH02A']\n",
    "demographic_info_columns = ['ASBH02A', 'ASBH02B', 'ASBH03A', 'ASBH04', 'ASBH15A', 'ASBH15B', 'ASBH16', 'ASBH17A', 'ASBH17B', 'ASBH18AA', 'ASBH18AB', 'ASBG01', 'ASBG03', 'ASDAGE','MINAGEARRIVAL' ]\n",
    "positive_feelings_in_school = ['ASBG10A', 'ASBG10B','ASBG10C', 'ASBG10D', 'ASBG10E', 'ASBG10F']\n",
    "negativeexperience_in_school_columns = ['ASBG11A', 'ASBG11B', 'ASBG11C', 'ASBG11D', 'ASBG11E', 'ASBG11F', 'ASBG11G', 'ASBG11H', 'ASBG11I', 'ASBG11J']\n",
    "assessment_score_columns = ['ASRREA01', 'ASRREA02', 'ASRREA03', 'ASRREA04', 'ASRREA05', 'ASRLIT01', 'ASRLIT02', 'ASRLIT03', 'ASRLIT04', 'ASRLIT05', 'ASRINF01', 'ASRINF02', 'ASRINF03', 'ASRINF04', 'ASRINF05', 'ASRIIE01', 'ASRIIE02', 'ASRIIE03', 'ASRIIE04', 'ASRIIE05', 'ASRRSI01', 'ASRRSI02', 'ASRRSI03', 'ASRRSI04', 'ASRRSI05']\n",
    "# averages = ['reading_avg', 'literary_purpose_avg', 'informational_purpose_avg','interpreting_process_avg', 'straightforward_process_avg','avgscore']"
   ]
  },
  {
   "cell_type": "markdown",
   "metadata": {
    "tags": []
   },
   "source": [
    " 1: Agree a lot; 2: Agree a little; 3: Disagree a little; 4: Disagree a lot\\\n",
    " \n",
    "ASBG10A\tGEN\\AGREE\\BEING IN SCHOOL\\\n",
    "ASBG10B\tGEN\\AGREE\\SAFE AT SCHOOL\\\n",
    "ASBG10C\tGEN\\AGREE\\BELONG AT SCHOOL\\\n",
    "ASBG10D\tGEN\\AGREE\\TEACHERS ARE FAIR\\\n",
    "ASBG10E\tGEN\\AGREE\\PROUD TO GO TO SCHOOL\\\n",
    "ASBG10F\tGEN\\AGREE\\FRIENDS AT SCHOOL"
   ]
  },
  {
   "cell_type": "code",
   "execution_count": 4,
   "metadata": {
    "tags": []
   },
   "outputs": [
    {
     "data": {
      "text/plain": [
       "NaN    38469\n",
       "0.0     1108\n",
       "3.0      852\n",
       "6.0      480\n",
       "8.0      249\n",
       "Name: MINAGEARRIVAL, dtype: int64"
      ]
     },
     "execution_count": 4,
     "metadata": {},
     "output_type": "execute_result"
    }
   ],
   "source": [
    "df['MINAGEARRIVAL'].value_counts(dropna=False)"
   ]
  },
  {
   "cell_type": "code",
   "execution_count": 5,
   "metadata": {
    "tags": []
   },
   "outputs": [],
   "source": [
    "df['MINAGEARRIVAL'] = df['MINAGEARRIVAL'].fillna(-1.0)"
   ]
  },
  {
   "cell_type": "code",
   "execution_count": 6,
   "metadata": {
    "tags": []
   },
   "outputs": [
    {
     "data": {
      "text/plain": [
       "-1.0    38469\n",
       " 0.0     1108\n",
       " 3.0      852\n",
       " 6.0      480\n",
       " 8.0      249\n",
       "Name: MINAGEARRIVAL, dtype: int64"
      ]
     },
     "execution_count": 6,
     "metadata": {},
     "output_type": "execute_result"
    }
   ],
   "source": [
    "df['MINAGEARRIVAL'].value_counts(dropna=False)"
   ]
  },
  {
   "cell_type": "markdown",
   "metadata": {
    "tags": []
   },
   "source": [
    "# Feelings in School"
   ]
  },
  {
   "cell_type": "markdown",
   "metadata": {
    "jp-MarkdownHeadingCollapsed": true,
    "tags": []
   },
   "source": [
    "## Feelings Heat Map"
   ]
  },
  {
   "cell_type": "code",
   "execution_count": null,
   "metadata": {
    "scrolled": true
   },
   "outputs": [],
   "source": [
    "df_feelings = df[identifier_columns+positive_feelings_in_school]"
   ]
  },
  {
   "cell_type": "code",
   "execution_count": null,
   "metadata": {
    "scrolled": true
   },
   "outputs": [],
   "source": [
    "pivot_feelings = df_feelings.pivot_table(values=positive_feelings_in_school, index=identifier_columns, aggfunc='mean')"
   ]
  },
  {
   "cell_type": "code",
   "execution_count": null,
   "metadata": {},
   "outputs": [],
   "source": [
    "# Calculate the total average for each row\n",
    "pivot_feelings['MeanTotal'] = pivot_feelings[['ASBG10A','ASBG10B','ASBG10C','ASBG10D','ASBG10E','ASBG10F']].mean(axis=1)\n",
    "\n",
    "# Sort countries by the total average\n",
    "country_averages = pivot_feelings.groupby('Country')['MeanTotal'].mean().sort_values(ascending=True).index.tolist()\n",
    "\n",
    "### Create a custom sorter for ASBH02A\n",
    "asbh02a_sorter = ['Yes', 'No']"
   ]
  },
  {
   "cell_type": "code",
   "execution_count": null,
   "metadata": {},
   "outputs": [],
   "source": [
    "# Get the current index as a DataFrame for sorting\n",
    "index_feelings = pivot_feelings.index.to_frame()"
   ]
  },
  {
   "cell_type": "code",
   "execution_count": null,
   "metadata": {},
   "outputs": [],
   "source": [
    "# Rename the columns to avoid conflict\n",
    "index_feelings = index_feelings.rename(columns={'Country': 'Country_', 'ASBH02A': 'ASBH02A_'})\n",
    "\n",
    "# Sort the DataFrame first by Country using the sorted_countries and then by ASBH02A using the custom sorter\n",
    "index_feelings['Country_'] = pd.Categorical(index_feelings['Country_'], categories=country_averages, ordered=True)\n",
    "index_feelings['ASBH02A_'] = pd.Categorical(index_feelings['ASBH02A_'], categories=asbh02a_sorter, ordered=True)\n",
    "index_feelings = index_feelings.sort_values(by=['Country_', 'ASBH02A_'])\n",
    "\n",
    "# Reindex the pivot table using the sorted index\n",
    "sorted_pivot_feelings = pivot_feelings.loc[index_feelings.index]"
   ]
  },
  {
   "cell_type": "code",
   "execution_count": null,
   "metadata": {
    "tags": []
   },
   "outputs": [],
   "source": [
    "# Plot the heat map\n",
    "plt.figure(figsize=(10, 8))\n",
    "sns.heatmap(sorted_pivot_feelings, annot=True, cmap='YlGnBu')\n",
    "plt.title('Mean Experience in School Heat Map Sorted by Country and Immigration Status')\n",
    "plt.show()"
   ]
  },
  {
   "cell_type": "markdown",
   "metadata": {
    "jp-MarkdownHeadingCollapsed": true,
    "tags": []
   },
   "source": [
    "## Feelings Average Distribution"
   ]
  },
  {
   "cell_type": "code",
   "execution_count": null,
   "metadata": {
    "tags": []
   },
   "outputs": [],
   "source": [
    "df['feelingsavg'] = df[positive_feelings_in_school].mean(axis=1)"
   ]
  },
  {
   "cell_type": "code",
   "execution_count": null,
   "metadata": {},
   "outputs": [],
   "source": [
    "df['feelingsavg_binned'] = pd.cut(df['feelingsavg'], bins=10)"
   ]
  },
  {
   "cell_type": "code",
   "execution_count": null,
   "metadata": {},
   "outputs": [],
   "source": [
    "# Create a contingency table\n",
    "contingency_feelings = pd.crosstab(index = [df['ASBH02A'], df['Country']],columns=df['feelingsavg_binned'])"
   ]
  },
  {
   "cell_type": "code",
   "execution_count": null,
   "metadata": {},
   "outputs": [],
   "source": [
    "# Convert the contingency table to a format suitable for Plotly\n",
    "contingency_feelings_reset = contingency_feelings.reset_index()\n",
    "contingency_feelings_melted = contingency_feelings_reset.melt(id_vars=['ASBH02A','Country'], var_name='feelingsavg_binned', value_name='count')\n",
    "# Convert Interval objects to strings\n",
    "contingency_feelings_melted['feelingsavg_binned'] = contingency_feelings_melted['feelingsavg_binned'].astype(str)"
   ]
  },
  {
   "cell_type": "code",
   "execution_count": null,
   "metadata": {},
   "outputs": [],
   "source": [
    "df_yes = contingency_feelings_melted[contingency_feelings_melted['ASBH02A'] == 'Yes']"
   ]
  },
  {
   "cell_type": "code",
   "execution_count": null,
   "metadata": {},
   "outputs": [],
   "source": [
    "heatmap_yes = df_yes.pivot(index='Country',columns=\"feelingsavg_binned\",values = \"count\")"
   ]
  },
  {
   "cell_type": "code",
   "execution_count": null,
   "metadata": {},
   "outputs": [],
   "source": [
    "heatmap_yes[\"total\"]= heatmap_yes.sum(axis=1)\n",
    "# Assuming your DataFrame is named df\n",
    "# Copy the total column to a variable, we'll use it for division later\n",
    "total_column_yes = heatmap_yes['total']\n",
    "\n",
    "# Dividing all columns except the 'total' column by the 'total' column of that row\n",
    "df_percentage_yes = heatmap_yes.div(total_column_yes, axis=0) * 100\n",
    "df_percentage_yes = df_percentage_yes.drop(\"total\", axis = 1)\n",
    "# Convert the contingency table to a format suitable for Plotly\n",
    "df_percentage_yes_reset = df_percentage_yes.reset_index()\n",
    "df_percentage__yes_melted = df_percentage_yes_reset.melt(id_vars='Country', var_name='feelingsavg_binned', value_name='percentage')"
   ]
  },
  {
   "cell_type": "code",
   "execution_count": null,
   "metadata": {},
   "outputs": [],
   "source": [
    "# Convert Interval objects to strings\n",
    "df_percentage__yes_melted['feelingsavg_binned'] = df_percentage__yes_melted['feelingsavg_binned'].astype(str)"
   ]
  },
  {
   "cell_type": "code",
   "execution_count": null,
   "metadata": {},
   "outputs": [],
   "source": [
    "# Convert feelingsavg_binned to categorical with the specified order\n",
    "df_percentage__yes_melted['feelingsavg_binned'] = pd.Categorical(df_percentage__yes_melted['feelingsavg_binned'], \n",
    "                                       categories=[\n",
    "                                           '(0.997, 1.3]','(1.3, 1.6]','(1.6, 1.9]','(1.9, 2.2]','(2.2, 2.5]','(2.5, 2.8]','(2.8, 3.1]','(3.1, 3.4]','(3.4, 3.7]','(3.7, 4.0]'], \n",
    "                                       ordered=True)"
   ]
  },
  {
   "cell_type": "code",
   "execution_count": null,
   "metadata": {},
   "outputs": [],
   "source": [
    "heatmap_percent_yes = df_percentage__yes_melted.pivot(index = \"feelingsavg_binned\", columns = \"Country\", values = \"percentage\")"
   ]
  },
  {
   "cell_type": "code",
   "execution_count": null,
   "metadata": {},
   "outputs": [],
   "source": [
    "df_no = contingency_feelings_melted[contingency_feelings_melted['ASBH02A'] == 'No']\n",
    "df_no= df_no.drop('ASBH02A', axis=1)\n",
    "heatmap_no = df_no.pivot(index='Country',columns=\"feelingsavg_binned\",values = \"count\")"
   ]
  },
  {
   "cell_type": "code",
   "execution_count": null,
   "metadata": {},
   "outputs": [],
   "source": [
    "heatmap_no[\"total\"] = heatmap_no.sum(axis=1)\n",
    "# Assuming your DataFrame is named df\n",
    "# Copy the total column to a variable, we'll use it for division later\n",
    "total_column_no = heatmap_no['total']\n",
    "\n",
    "# Dividing all columns except the 'total' column by the 'total' column of that row\n",
    "df_percentage_no = heatmap_no.div(total_column_no, axis=0) * 100\n",
    "df_percentage_no = df_percentage_no.drop(\"total\", axis=1)\n",
    "# Convert the contingency table to a format suitable for Plotly\n",
    "df_percentage_no_reset = df_percentage_no.reset_index()\n",
    "df_percentage_no_melted = df_percentage_no_reset.melt(id_vars='Country', var_name='feelingsavg_binned', value_name='percentage')\n"
   ]
  },
  {
   "cell_type": "code",
   "execution_count": null,
   "metadata": {
    "tags": []
   },
   "outputs": [],
   "source": [
    "# Convert Interval objects to strings\n",
    "df_percentage_no_melted['feelingsavg_binned'] = df_percentage_no_melted['feelingsavg_binned'].astype(str)\n",
    "\n",
    "# Convert feelingsavg_binned to categorical with the specified order\n",
    "# Convert feelingsavg_binned to categorical with the specified order\n",
    "df_percentage_no_melted['feelingsavg_binned'] = pd.Categorical(df_percentage_no_melted['feelingsavg_binned'], \n",
    "                                       categories=[\n",
    "                                           '(0.997, 1.3]','(1.3, 1.6]','(1.6, 1.9]','(1.9, 2.2]','(2.2, 2.5]','(2.5, 2.8]','(2.8, 3.1]','(3.1, 3.4]','(3.4, 3.7]','(3.7, 4.0]'], \n",
    "                                       ordered=True)\n",
    "\n",
    "heatmap_percent_no = df_percentage_no_melted.pivot(index=\"feelingsavg_binned\", columns=\"Country\", values=\"percentage\")\n"
   ]
  },
  {
   "cell_type": "code",
   "execution_count": null,
   "metadata": {
    "tags": []
   },
   "outputs": [],
   "source": [
    "# Create a figure and set of subplots\n",
    "fig, axes = plt.subplots(1, 2, figsize=(12, 6))\n",
    "\n",
    "# Plot heatmaps\n",
    "sns.heatmap(heatmap_percent_yes, ax=axes[0], cmap='YlOrRd', annot=True, cbar=False)\n",
    "sns.heatmap(heatmap_percent_no, ax=axes[1], cmap='YlOrRd', annot= True, cbar=False)\n",
    "\n",
    "# Set titles\n",
    "axes[0].set_title('Born in country')\n",
    "axes[1].set_title('Not born in country')\n",
    "\n",
    "# Show the plot\n",
    "plt.tight_layout()\n",
    "plt.show()"
   ]
  },
  {
   "cell_type": "code",
   "execution_count": null,
   "metadata": {},
   "outputs": [],
   "source": [
    "diff_data = heatmap_percent_yes - heatmap_percent_no\n",
    "\n",
    "# Plot the difference heatmap\n",
    "sns.heatmap(diff_data, cmap=\"coolwarm\", annot = True, center=0)"
   ]
  },
  {
   "cell_type": "markdown",
   "metadata": {
    "jp-MarkdownHeadingCollapsed": true,
    "tags": []
   },
   "source": [
    "## Minimum age of arrival"
   ]
  },
  {
   "cell_type": "markdown",
   "metadata": {},
   "source": [
    "Now I want to see how age of arrival affects average score. I need to first clean the minagearrival column - adding 'NA' for those who were born in country"
   ]
  },
  {
   "cell_type": "code",
   "execution_count": null,
   "metadata": {
    "tags": []
   },
   "outputs": [],
   "source": [
    "pivot_minage_feelings = df.pivot_table(values='feelingsavg', index=['Country'],columns=['MINAGEARRIVAL'],dropna = False)"
   ]
  },
  {
   "cell_type": "code",
   "execution_count": null,
   "metadata": {
    "tags": []
   },
   "outputs": [],
   "source": [
    "pivot_minage_feelings"
   ]
  },
  {
   "cell_type": "code",
   "execution_count": null,
   "metadata": {
    "tags": []
   },
   "outputs": [],
   "source": [
    "def process_pivot_table(pivot_table, group_by_column):\n",
    "    \"\"\"\n",
    "    Processes a pivot table by calculating mean scores for each group, \n",
    "    sorting by the mean total, and reindexing the table accordingly.\n",
    "\n",
    "    Parameters:\n",
    "    pivot_table (pd.DataFrame): The pivot table with a multi-index.\n",
    "    group_by_column (str): The column name in the index to group by.\n",
    "\n",
    "    Returns:\n",
    "    pd.DataFrame: The sorted pivot table.\n",
    "    \"\"\"\n",
    "    # Calculate mean scores for the specified group and add a total mean column\n",
    "    mean_scores = (\n",
    "        pivot_table.groupby(level=group_by_column).mean()\n",
    "        .assign(MeanTotal=lambda df: df.mean(axis=1))\n",
    "        .sort_values(by='MeanTotal', ascending=False)\n",
    "    )\n",
    "\n",
    "    # Extract and prepare the index DataFrame\n",
    "    index_df = pivot_table.index.to_frame()\n",
    "\n",
    "    # Rename all index columns to avoid conflicts\n",
    "    index_df = index_df.rename(columns={col: f\"{col}_\" for col in index_df.columns})\n",
    "\n",
    "    # Dynamically handle sorting for the specified group column\n",
    "    group_by_column_renamed = f\"{group_by_column}_\"\n",
    "    index_df[group_by_column_renamed] = pd.Categorical(\n",
    "        index_df[group_by_column_renamed], categories=mean_scores.index, ordered=True\n",
    "    )\n",
    "\n",
    "    # Sort index DataFrame\n",
    "    sorted_index = index_df.sort_values(by=[group_by_column_renamed]).index\n",
    "\n",
    "    # Reindex and return the sorted pivot table\n",
    "    return pivot_table.loc[sorted_index]\n"
   ]
  },
  {
   "cell_type": "code",
   "execution_count": null,
   "metadata": {
    "tags": []
   },
   "outputs": [],
   "source": [
    "sorted_minage_feelings = process_pivot_table(pivot_minage_feelings,group_by_column='Country')"
   ]
  },
  {
   "cell_type": "code",
   "execution_count": null,
   "metadata": {
    "tags": []
   },
   "outputs": [],
   "source": [
    "# Plot the heat map\n",
    "plt.figure(figsize=(10, 8))\n",
    "sns.heatmap(sorted_minage_feelings, annot=True, cmap='YlGnBu')\n",
    "plt.title('Mean score in School Heat Map Sorted by Country and age of arrival in the country')\n",
    "plt.show()"
   ]
  },
  {
   "cell_type": "markdown",
   "metadata": {
    "tags": []
   },
   "source": [
    "# Experience in School"
   ]
  },
  {
   "cell_type": "markdown",
   "metadata": {
    "jp-MarkdownHeadingCollapsed": true,
    "tags": []
   },
   "source": [
    "## Experience in School Heatmap"
   ]
  },
  {
   "cell_type": "code",
   "execution_count": 7,
   "metadata": {
    "scrolled": true
   },
   "outputs": [],
   "source": [
    "df_experience = df[identifier_columns+negativeexperience_in_school_columns]"
   ]
  },
  {
   "cell_type": "code",
   "execution_count": null,
   "metadata": {},
   "outputs": [],
   "source": [
    "pivot_experience = df_experience.pivot_table(values=negativeexperience_in_school_columns, index=identifier_columns, aggfunc='mean')"
   ]
  },
  {
   "cell_type": "code",
   "execution_count": null,
   "metadata": {
    "tags": []
   },
   "outputs": [],
   "source": [
    "pivot_experience"
   ]
  },
  {
   "cell_type": "code",
   "execution_count": null,
   "metadata": {},
   "outputs": [],
   "source": [
    "# Calculate the total average for each row\n",
    "pivot_experience['MeanTotal'] = pivot_experience[['ASBG11A', 'ASBG11B', 'ASBG11C', 'ASBG11D', 'ASBG11E', 'ASBG11F', 'ASBG11G', 'ASBG11H', 'ASBG11I', 'ASBG11J']].mean(axis=1)\n",
    "\n",
    "# Sort countries by the total average\n",
    "country_averages = pivot_experience.groupby('Country')['MeanTotal'].mean().sort_values(ascending=False).index.tolist()\n",
    "\n",
    "### Create a custom sorter for ASBH02A\n",
    "asbh02a_sorter = ['Yes', 'No']"
   ]
  },
  {
   "cell_type": "code",
   "execution_count": null,
   "metadata": {},
   "outputs": [],
   "source": [
    "# Get the current index as a DataFrame for sorting\n",
    "index_experience = pivot_experience.index.to_frame()"
   ]
  },
  {
   "cell_type": "code",
   "execution_count": null,
   "metadata": {},
   "outputs": [],
   "source": [
    "# Rename the columns to avoid conflict\n",
    "index_experience = index_experience.rename(columns={'Country': 'Country_', 'ASBH02A': 'ASBH02A_'})\n",
    "\n",
    "# Sort the DataFrame first by Country using the sorted_countries and then by ASBH02A using the custom sorter\n",
    "index_experience['Country_'] = pd.Categorical(index_experience['Country_'], categories=country_averages, ordered=True)\n",
    "index_experience['ASBH02A_'] = pd.Categorical(index_experience['ASBH02A_'], categories=asbh02a_sorter, ordered=True)\n",
    "index_experience = index_experience.sort_values(by=['Country_', 'ASBH02A_'])\n",
    "\n",
    "# Reindex the pivot table using the sorted index\n",
    "sorted_pivot_df = pivot_experience.loc[index_experience.index]"
   ]
  },
  {
   "cell_type": "code",
   "execution_count": null,
   "metadata": {},
   "outputs": [],
   "source": [
    "# Plot the heat map\n",
    "plt.figure(figsize=(10, 8))\n",
    "sns.heatmap(sorted_pivot_df, annot=True, cmap='YlGnBu')\n",
    "plt.title('Mean Experience in School Heat Map Sorted by Country and Immigration Status')\n",
    "plt.show()"
   ]
  },
  {
   "cell_type": "markdown",
   "metadata": {},
   "source": [
    " 1: At least once a week; 2: Once or twice a month; 3: A few times a year; 4: Never\n",
    " \n",
    "ASBG11A\tGEN\\HOW OFTEN\\MADE FUN OF\\\n",
    "ASBG11B\tGEN\\HOW OFTEN\\LEFT OUT OF GAMES\\\n",
    "ASBG11C\tGEN\\HOW OFTEN\\SPREADING LIES ABOUT ME\\\n",
    "ASBG11D\tGEN\\HOW OFTEN\\STEALING STH FROM ME\\\n",
    "ASBG11E\tGEN\\HOW OFTEN\\DAMAGED STH OF MINE\\\n",
    "ASBG11F\tGEN\\HOW OFTEN\\HIT OR HURT ME\\\n",
    "ASBG11G\tGEN\\HOW OFTEN\\MADE ME DO\\\n",
    "ASBG11H\tGEN\\HOW OFTEN\\NASTY OF HURTFUL MESSAGES\\\n",
    "ASBG11I\tGEN\\HOW OFTEN\\NASTY OF HURTFUL INFO\\\n",
    "ASBG11J\tGEN\\HOW OFTEN\\THREATENED ME\\"
   ]
  },
  {
   "cell_type": "markdown",
   "metadata": {},
   "source": [
    "darker colours are better"
   ]
  },
  {
   "cell_type": "markdown",
   "metadata": {
    "jp-MarkdownHeadingCollapsed": true,
    "tags": []
   },
   "source": [
    "## Experience Average Distribution"
   ]
  },
  {
   "cell_type": "code",
   "execution_count": 8,
   "metadata": {
    "tags": []
   },
   "outputs": [],
   "source": [
    "df['experienceavg'] = df[negativeexperience_in_school_columns].mean(axis=1)"
   ]
  },
  {
   "cell_type": "code",
   "execution_count": null,
   "metadata": {
    "tags": []
   },
   "outputs": [],
   "source": [
    "df['experienceavg_binned'] = pd.cut(df['experienceavg'], bins=10)"
   ]
  },
  {
   "cell_type": "code",
   "execution_count": null,
   "metadata": {
    "tags": []
   },
   "outputs": [],
   "source": [
    "# Create a contingency table\n",
    "contingency_experience = pd.crosstab(index = [df['ASBH02A'], df['Country']],columns=df['experienceavg_binned'])"
   ]
  },
  {
   "cell_type": "code",
   "execution_count": null,
   "metadata": {
    "tags": []
   },
   "outputs": [],
   "source": [
    "# Convert the contingency table to a format suitable for Plotly\n",
    "contingency_experience_reset = contingency_experience.reset_index()\n",
    "contingency_experience_melted = contingency_experience_reset.melt(id_vars=['ASBH02A','Country'], var_name='experienceavg_binned', value_name='count')\n",
    "# Convert Interval objects to strings\n",
    "contingency_experience_melted['experienceavg_binned'] = contingency_experience_melted['experienceavg_binned'].astype(str)"
   ]
  },
  {
   "cell_type": "code",
   "execution_count": null,
   "metadata": {
    "tags": []
   },
   "outputs": [],
   "source": [
    "filtered_experience_yes = contingency_experience_melted[contingency_experience_melted['ASBH02A'] == 'Yes']\n",
    "\n",
    "heatmap_yes = filtered_experience_yes.pivot(index='Country',columns=\"experienceavg_binned\",values = \"count\")\n",
    "\n",
    "heatmap_yes[\"total\"]= heatmap_yes.sum(axis=1)\n",
    "# Assuming your DataFrame is named df\n",
    "# Copy the total column to a variable, we'll use it for division later\n",
    "total_column_yes = heatmap_yes['total']\n",
    "\n",
    "# Dividing all columns except the 'total' column by the 'total' column of that row\n",
    "df_percentage_yes = heatmap_yes.div(total_column_yes, axis=0) * 100\n",
    "df_percentage_yes = df_percentage_yes.drop(\"total\", axis = 1)\n",
    "# Convert the contingency table to a format suitable for Plotly\n",
    "df_percentage_yes_reset = df_percentage_yes.reset_index()\n",
    "df_percentage__yes_melted = df_percentage_yes_reset.melt(id_vars='Country', var_name='experienceavg_binned', value_name='percentage')\n",
    "\n",
    "# Convert Interval objects to strings\n",
    "df_percentage__yes_melted['experienceavg_binned'] = df_percentage__yes_melted['experienceavg_binned'].astype(str)\n",
    "\n",
    "# Convert experienceavg_binned to categorical with the specified order\n",
    "df_percentage__yes_melted['experienceavg_binned'] = pd.Categorical(df_percentage__yes_melted['experienceavg_binned'], \n",
    "                                       categories=[\n",
    "                                           '(0.997, 1.3]','(1.3, 1.6]','(1.6, 1.9]','(1.9, 2.2]','(2.2, 2.5]','(2.5, 2.8]','(2.8, 3.1]','(3.1, 3.4]','(3.4, 3.7]','(3.7, 4.0]'], \n",
    "                                       ordered=True)\n",
    "\n",
    "heatmap_percent_yes = df_percentage__yes_melted.pivot(index = \"experienceavg_binned\", columns = \"Country\", values = \"percentage\")\n",
    "\n",
    "df_no = contingency_experience_melted[contingency_experience_melted['ASBH02A'] == 'No']\n",
    "df_no= df_no.drop('ASBH02A', axis=1)\n",
    "heatmap_no = df_no.pivot(index='Country',columns=\"experienceavg_binned\",values = \"count\")\n",
    "\n",
    "heatmap_no[\"total\"] = heatmap_no.sum(axis=1)\n",
    "# Assuming your DataFrame is named df\n",
    "# Copy the total column to a variable, we'll use it for division later\n",
    "total_column_no = heatmap_no['total']\n",
    "\n",
    "# Dividing all columns except the 'total' column by the 'total' column of that row\n",
    "df_percentage_no = heatmap_no.div(total_column_no, axis=0) * 100\n",
    "df_percentage_no = df_percentage_no.drop(\"total\", axis=1)\n",
    "# Convert the contingency table to a format suitable for Plotly\n",
    "df_percentage_no_reset = df_percentage_no.reset_index()\n",
    "df_percentage_no_melted = df_percentage_no_reset.melt(id_vars='Country', var_name='experienceavg_binned', value_name='percentage')\n",
    "\n",
    "\n",
    "# Convert Interval objects to strings\n",
    "df_percentage_no_melted['experienceavg_binned'] = df_percentage_no_melted['experienceavg_binned'].astype(str)\n",
    "\n",
    "# Convert experienceavg_binned to categorical with the specified order\n",
    "\n",
    "df_percentage_no_melted['experienceavg_binned'] = pd.Categorical(df_percentage_no_melted['experienceavg_binned'], \n",
    "                                       categories=[\n",
    "                                           '(0.997, 1.3]','(1.3, 1.6]','(1.6, 1.9]','(1.9, 2.2]','(2.2, 2.5]','(2.5, 2.8]','(2.8, 3.1]','(3.1, 3.4]','(3.4, 3.7]','(3.7, 4.0]'], \n",
    "                                       ordered=True)\n",
    "\n",
    "heatmap_percent_no = df_percentage_no_melted.pivot(index=\"experienceavg_binned\", columns=\"Country\", values=\"percentage\")\n"
   ]
  },
  {
   "cell_type": "code",
   "execution_count": null,
   "metadata": {},
   "outputs": [],
   "source": [
    "# Create a figure and set of subplots\n",
    "fig, axes = plt.subplots(1, 2, figsize=(12, 6))\n",
    "\n",
    "# Plot heatmaps\n",
    "sns.heatmap(heatmap_percent_yes, ax=axes[0], cmap='YlOrRd', annot=True, cbar=False)\n",
    "sns.heatmap(heatmap_percent_no, ax=axes[1], cmap='YlOrRd', annot= True, cbar=False)\n",
    "\n",
    "# Set titles\n",
    "axes[0].set_title('Born in country')\n",
    "axes[1].set_title('Not born in country')\n",
    "\n",
    "# Show the plot\n",
    "plt.tight_layout()\n",
    "plt.show()"
   ]
  },
  {
   "cell_type": "code",
   "execution_count": null,
   "metadata": {},
   "outputs": [],
   "source": [
    "diff_data = heatmap_percent_yes - heatmap_percent_no\n",
    "\n",
    "# Plot the difference heatmap\n",
    "sns.heatmap(diff_data, cmap=\"coolwarm\", annot = True, center=0)"
   ]
  },
  {
   "cell_type": "markdown",
   "metadata": {
    "tags": []
   },
   "source": [
    "## Minimum age of arrival"
   ]
  },
  {
   "cell_type": "markdown",
   "metadata": {},
   "source": [
    "Now I want to see how age of arrival affects average score. I need to first clean the minagearrival column - adding 'NA' for those who were born in country"
   ]
  },
  {
   "cell_type": "code",
   "execution_count": 9,
   "metadata": {},
   "outputs": [],
   "source": [
    "pivot_minage_experience = df.pivot_table(values='experienceavg', index=['Country'],columns=['MINAGEARRIVAL'],dropna = False)"
   ]
  },
  {
   "cell_type": "code",
   "execution_count": 10,
   "metadata": {
    "tags": []
   },
   "outputs": [
    {
     "data": {
      "text/html": [
       "<div>\n",
       "<style scoped>\n",
       "    .dataframe tbody tr th:only-of-type {\n",
       "        vertical-align: middle;\n",
       "    }\n",
       "\n",
       "    .dataframe tbody tr th {\n",
       "        vertical-align: top;\n",
       "    }\n",
       "\n",
       "    .dataframe thead th {\n",
       "        text-align: right;\n",
       "    }\n",
       "</style>\n",
       "<table border=\"1\" class=\"dataframe\">\n",
       "  <thead>\n",
       "    <tr style=\"text-align: right;\">\n",
       "      <th>MINAGEARRIVAL</th>\n",
       "      <th>-1.0</th>\n",
       "      <th>0.0</th>\n",
       "      <th>3.0</th>\n",
       "      <th>6.0</th>\n",
       "      <th>8.0</th>\n",
       "    </tr>\n",
       "    <tr>\n",
       "      <th>Country</th>\n",
       "      <th></th>\n",
       "      <th></th>\n",
       "      <th></th>\n",
       "      <th></th>\n",
       "      <th></th>\n",
       "    </tr>\n",
       "  </thead>\n",
       "  <tbody>\n",
       "    <tr>\n",
       "      <th>Austria</th>\n",
       "      <td>3.427577</td>\n",
       "      <td>3.279088</td>\n",
       "      <td>3.215143</td>\n",
       "      <td>3.300580</td>\n",
       "      <td>3.102980</td>\n",
       "    </tr>\n",
       "    <tr>\n",
       "      <th>Egypt</th>\n",
       "      <td>3.195749</td>\n",
       "      <td>3.125283</td>\n",
       "      <td>3.009965</td>\n",
       "      <td>3.203571</td>\n",
       "      <td>3.070602</td>\n",
       "    </tr>\n",
       "    <tr>\n",
       "      <th>France</th>\n",
       "      <td>3.629238</td>\n",
       "      <td>3.617415</td>\n",
       "      <td>3.549436</td>\n",
       "      <td>3.528798</td>\n",
       "      <td>3.619111</td>\n",
       "    </tr>\n",
       "    <tr>\n",
       "      <th>Germany</th>\n",
       "      <td>3.512689</td>\n",
       "      <td>3.402297</td>\n",
       "      <td>3.295580</td>\n",
       "      <td>3.326879</td>\n",
       "      <td>3.461111</td>\n",
       "    </tr>\n",
       "    <tr>\n",
       "      <th>Iran</th>\n",
       "      <td>NaN</td>\n",
       "      <td>NaN</td>\n",
       "      <td>NaN</td>\n",
       "      <td>NaN</td>\n",
       "      <td>NaN</td>\n",
       "    </tr>\n",
       "    <tr>\n",
       "      <th>Jordan</th>\n",
       "      <td>3.492736</td>\n",
       "      <td>3.476802</td>\n",
       "      <td>3.440322</td>\n",
       "      <td>3.442966</td>\n",
       "      <td>3.376955</td>\n",
       "    </tr>\n",
       "    <tr>\n",
       "      <th>Netherlands</th>\n",
       "      <td>3.460112</td>\n",
       "      <td>3.362500</td>\n",
       "      <td>3.343750</td>\n",
       "      <td>3.387654</td>\n",
       "      <td>3.590000</td>\n",
       "    </tr>\n",
       "    <tr>\n",
       "      <th>Sweden</th>\n",
       "      <td>3.544466</td>\n",
       "      <td>3.458985</td>\n",
       "      <td>3.395793</td>\n",
       "      <td>3.317535</td>\n",
       "      <td>3.232733</td>\n",
       "    </tr>\n",
       "    <tr>\n",
       "      <th>Turkey</th>\n",
       "      <td>NaN</td>\n",
       "      <td>NaN</td>\n",
       "      <td>NaN</td>\n",
       "      <td>NaN</td>\n",
       "      <td>NaN</td>\n",
       "    </tr>\n",
       "  </tbody>\n",
       "</table>\n",
       "</div>"
      ],
      "text/plain": [
       "MINAGEARRIVAL      -1.0       0.0       3.0       6.0       8.0\n",
       "Country                                                        \n",
       "Austria        3.427577  3.279088  3.215143  3.300580  3.102980\n",
       "Egypt          3.195749  3.125283  3.009965  3.203571  3.070602\n",
       "France         3.629238  3.617415  3.549436  3.528798  3.619111\n",
       "Germany        3.512689  3.402297  3.295580  3.326879  3.461111\n",
       "Iran                NaN       NaN       NaN       NaN       NaN\n",
       "Jordan         3.492736  3.476802  3.440322  3.442966  3.376955\n",
       "Netherlands    3.460112  3.362500  3.343750  3.387654  3.590000\n",
       "Sweden         3.544466  3.458985  3.395793  3.317535  3.232733\n",
       "Turkey              NaN       NaN       NaN       NaN       NaN"
      ]
     },
     "execution_count": 10,
     "metadata": {},
     "output_type": "execute_result"
    }
   ],
   "source": [
    "pivot_minage_experience"
   ]
  },
  {
   "cell_type": "code",
   "execution_count": 11,
   "metadata": {
    "tags": []
   },
   "outputs": [],
   "source": [
    "# Step 2: Calculate the mean score for each country\n",
    "country_mean_scores = pivot_minage_experience.groupby(level='Country').mean()"
   ]
  },
  {
   "cell_type": "code",
   "execution_count": 12,
   "metadata": {
    "tags": []
   },
   "outputs": [
    {
     "data": {
      "text/html": [
       "<div>\n",
       "<style scoped>\n",
       "    .dataframe tbody tr th:only-of-type {\n",
       "        vertical-align: middle;\n",
       "    }\n",
       "\n",
       "    .dataframe tbody tr th {\n",
       "        vertical-align: top;\n",
       "    }\n",
       "\n",
       "    .dataframe thead th {\n",
       "        text-align: right;\n",
       "    }\n",
       "</style>\n",
       "<table border=\"1\" class=\"dataframe\">\n",
       "  <thead>\n",
       "    <tr style=\"text-align: right;\">\n",
       "      <th>MINAGEARRIVAL</th>\n",
       "      <th>-1.0</th>\n",
       "      <th>0.0</th>\n",
       "      <th>3.0</th>\n",
       "      <th>6.0</th>\n",
       "      <th>8.0</th>\n",
       "    </tr>\n",
       "    <tr>\n",
       "      <th>Country</th>\n",
       "      <th></th>\n",
       "      <th></th>\n",
       "      <th></th>\n",
       "      <th></th>\n",
       "      <th></th>\n",
       "    </tr>\n",
       "  </thead>\n",
       "  <tbody>\n",
       "    <tr>\n",
       "      <th>Austria</th>\n",
       "      <td>3.427577</td>\n",
       "      <td>3.279088</td>\n",
       "      <td>3.215143</td>\n",
       "      <td>3.300580</td>\n",
       "      <td>3.102980</td>\n",
       "    </tr>\n",
       "    <tr>\n",
       "      <th>Egypt</th>\n",
       "      <td>3.195749</td>\n",
       "      <td>3.125283</td>\n",
       "      <td>3.009965</td>\n",
       "      <td>3.203571</td>\n",
       "      <td>3.070602</td>\n",
       "    </tr>\n",
       "    <tr>\n",
       "      <th>France</th>\n",
       "      <td>3.629238</td>\n",
       "      <td>3.617415</td>\n",
       "      <td>3.549436</td>\n",
       "      <td>3.528798</td>\n",
       "      <td>3.619111</td>\n",
       "    </tr>\n",
       "    <tr>\n",
       "      <th>Germany</th>\n",
       "      <td>3.512689</td>\n",
       "      <td>3.402297</td>\n",
       "      <td>3.295580</td>\n",
       "      <td>3.326879</td>\n",
       "      <td>3.461111</td>\n",
       "    </tr>\n",
       "    <tr>\n",
       "      <th>Iran</th>\n",
       "      <td>NaN</td>\n",
       "      <td>NaN</td>\n",
       "      <td>NaN</td>\n",
       "      <td>NaN</td>\n",
       "      <td>NaN</td>\n",
       "    </tr>\n",
       "    <tr>\n",
       "      <th>Jordan</th>\n",
       "      <td>3.492736</td>\n",
       "      <td>3.476802</td>\n",
       "      <td>3.440322</td>\n",
       "      <td>3.442966</td>\n",
       "      <td>3.376955</td>\n",
       "    </tr>\n",
       "    <tr>\n",
       "      <th>Netherlands</th>\n",
       "      <td>3.460112</td>\n",
       "      <td>3.362500</td>\n",
       "      <td>3.343750</td>\n",
       "      <td>3.387654</td>\n",
       "      <td>3.590000</td>\n",
       "    </tr>\n",
       "    <tr>\n",
       "      <th>Sweden</th>\n",
       "      <td>3.544466</td>\n",
       "      <td>3.458985</td>\n",
       "      <td>3.395793</td>\n",
       "      <td>3.317535</td>\n",
       "      <td>3.232733</td>\n",
       "    </tr>\n",
       "    <tr>\n",
       "      <th>Turkey</th>\n",
       "      <td>NaN</td>\n",
       "      <td>NaN</td>\n",
       "      <td>NaN</td>\n",
       "      <td>NaN</td>\n",
       "      <td>NaN</td>\n",
       "    </tr>\n",
       "  </tbody>\n",
       "</table>\n",
       "</div>"
      ],
      "text/plain": [
       "MINAGEARRIVAL      -1.0       0.0       3.0       6.0       8.0\n",
       "Country                                                        \n",
       "Austria        3.427577  3.279088  3.215143  3.300580  3.102980\n",
       "Egypt          3.195749  3.125283  3.009965  3.203571  3.070602\n",
       "France         3.629238  3.617415  3.549436  3.528798  3.619111\n",
       "Germany        3.512689  3.402297  3.295580  3.326879  3.461111\n",
       "Iran                NaN       NaN       NaN       NaN       NaN\n",
       "Jordan         3.492736  3.476802  3.440322  3.442966  3.376955\n",
       "Netherlands    3.460112  3.362500  3.343750  3.387654  3.590000\n",
       "Sweden         3.544466  3.458985  3.395793  3.317535  3.232733\n",
       "Turkey              NaN       NaN       NaN       NaN       NaN"
      ]
     },
     "execution_count": 12,
     "metadata": {},
     "output_type": "execute_result"
    }
   ],
   "source": [
    "country_mean_scores"
   ]
  },
  {
   "cell_type": "code",
   "execution_count": 13,
   "metadata": {
    "tags": []
   },
   "outputs": [],
   "source": [
    "# If you want to sum the mean scores across all assessment columns (if there are multiple), you can do:\n",
    "country_mean_scores['MeanTotal'] = country_mean_scores.mean(axis=1)"
   ]
  },
  {
   "cell_type": "code",
   "execution_count": 14,
   "metadata": {
    "tags": []
   },
   "outputs": [
    {
     "data": {
      "text/html": [
       "<div>\n",
       "<style scoped>\n",
       "    .dataframe tbody tr th:only-of-type {\n",
       "        vertical-align: middle;\n",
       "    }\n",
       "\n",
       "    .dataframe tbody tr th {\n",
       "        vertical-align: top;\n",
       "    }\n",
       "\n",
       "    .dataframe thead th {\n",
       "        text-align: right;\n",
       "    }\n",
       "</style>\n",
       "<table border=\"1\" class=\"dataframe\">\n",
       "  <thead>\n",
       "    <tr style=\"text-align: right;\">\n",
       "      <th>MINAGEARRIVAL</th>\n",
       "      <th>-1.0</th>\n",
       "      <th>0.0</th>\n",
       "      <th>3.0</th>\n",
       "      <th>6.0</th>\n",
       "      <th>8.0</th>\n",
       "      <th>MeanTotal</th>\n",
       "    </tr>\n",
       "    <tr>\n",
       "      <th>Country</th>\n",
       "      <th></th>\n",
       "      <th></th>\n",
       "      <th></th>\n",
       "      <th></th>\n",
       "      <th></th>\n",
       "      <th></th>\n",
       "    </tr>\n",
       "  </thead>\n",
       "  <tbody>\n",
       "    <tr>\n",
       "      <th>Austria</th>\n",
       "      <td>3.427577</td>\n",
       "      <td>3.279088</td>\n",
       "      <td>3.215143</td>\n",
       "      <td>3.300580</td>\n",
       "      <td>3.102980</td>\n",
       "      <td>3.265073</td>\n",
       "    </tr>\n",
       "    <tr>\n",
       "      <th>Egypt</th>\n",
       "      <td>3.195749</td>\n",
       "      <td>3.125283</td>\n",
       "      <td>3.009965</td>\n",
       "      <td>3.203571</td>\n",
       "      <td>3.070602</td>\n",
       "      <td>3.121034</td>\n",
       "    </tr>\n",
       "    <tr>\n",
       "      <th>France</th>\n",
       "      <td>3.629238</td>\n",
       "      <td>3.617415</td>\n",
       "      <td>3.549436</td>\n",
       "      <td>3.528798</td>\n",
       "      <td>3.619111</td>\n",
       "      <td>3.588800</td>\n",
       "    </tr>\n",
       "    <tr>\n",
       "      <th>Germany</th>\n",
       "      <td>3.512689</td>\n",
       "      <td>3.402297</td>\n",
       "      <td>3.295580</td>\n",
       "      <td>3.326879</td>\n",
       "      <td>3.461111</td>\n",
       "      <td>3.399711</td>\n",
       "    </tr>\n",
       "    <tr>\n",
       "      <th>Iran</th>\n",
       "      <td>NaN</td>\n",
       "      <td>NaN</td>\n",
       "      <td>NaN</td>\n",
       "      <td>NaN</td>\n",
       "      <td>NaN</td>\n",
       "      <td>NaN</td>\n",
       "    </tr>\n",
       "    <tr>\n",
       "      <th>Jordan</th>\n",
       "      <td>3.492736</td>\n",
       "      <td>3.476802</td>\n",
       "      <td>3.440322</td>\n",
       "      <td>3.442966</td>\n",
       "      <td>3.376955</td>\n",
       "      <td>3.445956</td>\n",
       "    </tr>\n",
       "    <tr>\n",
       "      <th>Netherlands</th>\n",
       "      <td>3.460112</td>\n",
       "      <td>3.362500</td>\n",
       "      <td>3.343750</td>\n",
       "      <td>3.387654</td>\n",
       "      <td>3.590000</td>\n",
       "      <td>3.428803</td>\n",
       "    </tr>\n",
       "    <tr>\n",
       "      <th>Sweden</th>\n",
       "      <td>3.544466</td>\n",
       "      <td>3.458985</td>\n",
       "      <td>3.395793</td>\n",
       "      <td>3.317535</td>\n",
       "      <td>3.232733</td>\n",
       "      <td>3.389902</td>\n",
       "    </tr>\n",
       "    <tr>\n",
       "      <th>Turkey</th>\n",
       "      <td>NaN</td>\n",
       "      <td>NaN</td>\n",
       "      <td>NaN</td>\n",
       "      <td>NaN</td>\n",
       "      <td>NaN</td>\n",
       "      <td>NaN</td>\n",
       "    </tr>\n",
       "  </tbody>\n",
       "</table>\n",
       "</div>"
      ],
      "text/plain": [
       "MINAGEARRIVAL      -1.0       0.0       3.0       6.0       8.0  MeanTotal\n",
       "Country                                                                   \n",
       "Austria        3.427577  3.279088  3.215143  3.300580  3.102980   3.265073\n",
       "Egypt          3.195749  3.125283  3.009965  3.203571  3.070602   3.121034\n",
       "France         3.629238  3.617415  3.549436  3.528798  3.619111   3.588800\n",
       "Germany        3.512689  3.402297  3.295580  3.326879  3.461111   3.399711\n",
       "Iran                NaN       NaN       NaN       NaN       NaN        NaN\n",
       "Jordan         3.492736  3.476802  3.440322  3.442966  3.376955   3.445956\n",
       "Netherlands    3.460112  3.362500  3.343750  3.387654  3.590000   3.428803\n",
       "Sweden         3.544466  3.458985  3.395793  3.317535  3.232733   3.389902\n",
       "Turkey              NaN       NaN       NaN       NaN       NaN        NaN"
      ]
     },
     "execution_count": 14,
     "metadata": {},
     "output_type": "execute_result"
    }
   ],
   "source": [
    "country_mean_scores"
   ]
  },
  {
   "cell_type": "code",
   "execution_count": 15,
   "metadata": {
    "tags": []
   },
   "outputs": [],
   "source": [
    "# Sort countries by total values\n",
    "sorted_countries_means = country_mean_scores.sort_values(by='MeanTotal', ascending=False).index"
   ]
  },
  {
   "cell_type": "code",
   "execution_count": 16,
   "metadata": {
    "tags": []
   },
   "outputs": [
    {
     "data": {
      "text/plain": [
       "Index(['France', 'Jordan', 'Netherlands', 'Germany', 'Sweden', 'Austria',\n",
       "       'Egypt', 'Iran', 'Turkey'],\n",
       "      dtype='object', name='Country')"
      ]
     },
     "execution_count": 16,
     "metadata": {},
     "output_type": "execute_result"
    }
   ],
   "source": [
    "sorted_countries_means"
   ]
  },
  {
   "cell_type": "code",
   "execution_count": null,
   "metadata": {},
   "outputs": [],
   "source": [
    "\n",
    "\n",
    "# Get the current index as a DataFrame for sorting\n",
    "index_df = pivot_minage_experience.index.to_frame()\n",
    "\n",
    "# Rename the columns to avoid conflict\n",
    "index_df = index_df.rename(columns={'Country': 'Country_'})\n",
    "\n",
    "# Sort the DataFrame first by Country using the sorted_countries and then by ASBH02A using the custom sorter\n",
    "index_df['Country_'] = pd.Categorical(index_df['Country_'], categories=sorted_countries_means, ordered=True)\n",
    "##index_df['ASBH02A_'] = pd.Categorical(index_df['ASBH02A_'], categories=asbh02a_sorter, ordered=True)\n",
    "index_df = index_df.sort_values(by=['Country_'])\n",
    "\n",
    "# Reindex the pivot table using the sorted index\n",
    "sorted_pivot_df = pivot_minage_experience.loc[index_df.index]"
   ]
  },
  {
   "cell_type": "code",
   "execution_count": null,
   "metadata": {},
   "outputs": [],
   "source": [
    "# Plot the heat map\n",
    "plt.figure(figsize=(10, 8))\n",
    "sns.heatmap(sorted_pivot_df, annot=True, cmap='YlGnBu')\n",
    "plt.title('Mean score in School Heat Map Sorted by Country and age of arrival in the country')\n",
    "plt.show()"
   ]
  },
  {
   "cell_type": "markdown",
   "metadata": {},
   "source": [
    "Next steps - comparisons with bench marks - through line? \n",
    "Should compare reading scores with the benchmark and can also compare with previous years.\n",
    "If I get data from different dates maybe I can practice the time/date stuff. change asbh02a to immigrant/ non - immigrant"
   ]
  }
 ],
 "metadata": {
  "kernelspec": {
   "display_name": "Python 3",
   "language": "python",
   "name": "python3"
  },
  "language_info": {
   "codemirror_mode": {
    "name": "ipython",
    "version": 3
   },
   "file_extension": ".py",
   "mimetype": "text/x-python",
   "name": "python",
   "nbconvert_exporter": "python",
   "pygments_lexer": "ipython3",
   "version": "3.7.6"
  }
 },
 "nbformat": 4,
 "nbformat_minor": 4
}
