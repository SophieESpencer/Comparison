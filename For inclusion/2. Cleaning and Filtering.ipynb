{
 "cells": [
  {
   "cell_type": "markdown",
   "metadata": {},
   "source": [
    "# Cleaning and Filtering PIRLS data"
   ]
  },
  {
   "cell_type": "markdown",
   "metadata": {},
   "source": [
    "[PIRLS](https://pirls2021.org/data/). This is where I was able to download all the SPSS files which are separated by country code and survey type. "
   ]
  },
  {
   "cell_type": "markdown",
   "metadata": {},
   "source": [
    "SOURCE: IEA’s Progress in International Reading Literacy Study – PIRLS 2021 Copyright © 2023 International Association for the Evaluation of Educational Achievement (IEA). Publisher: TIMSS & PIRLS International Study Center, Lynch School of Education and Human Development, Boston College."
   ]
  },
  {
   "cell_type": "markdown",
   "metadata": {
    "tags": []
   },
   "source": [
    "## Importing the Data and relevant packages"
   ]
  },
  {
   "cell_type": "code",
   "execution_count": 1,
   "metadata": {
    "tags": []
   },
   "outputs": [],
   "source": [
    "import pandas as pd\n",
    "import numpy as np\n",
    "pd.set_option(\"display.max_columns\", None)\n",
    "pd.set_option(\"display.max_rows\", None)\n",
    "pd.set_option('display.max_colwidth', None)  # Optional: Set max column width\n",
    "pd.set_option('display.expand_frame_repr', False)  # Optional: Do not wrap line\n",
    "import matplotlib.pyplot as plt\n",
    "import seaborn as sns"
   ]
  },
  {
   "cell_type": "markdown",
   "metadata": {},
   "source": [
    "The data was merged and organised from multiple datafiles, including Home and Student Context Data for Turkey, Austria, Germany, Egypt, France, Iran, Jordan, The Netherlands and Sweden. To view this process, please click here. "
   ]
  },
  {
   "cell_type": "code",
   "execution_count": 2,
   "metadata": {},
   "outputs": [],
   "source": [
    "df= pd.read_excel('data99.xlsx', index_col=0)"
   ]
  },
  {
   "cell_type": "markdown",
   "metadata": {},
   "source": [
    "In the previous notebook the columns were organised into Home Context Data (columns beginning with 'ASBH'), Student Context Demographic Info and  Experience in School columns (beginning with 'ASBG') and assessment score columns (beginning with 'ASR'). However, it may be more helpful to group these columns in a different way. As a first step I want to take a look at the dataframe on a macro level."
   ]
  },
  {
   "cell_type": "code",
   "execution_count": 3,
   "metadata": {
    "tags": []
   },
   "outputs": [
    {
     "name": "stdout",
     "output_type": "stream",
     "text": [
      "<class 'pandas.core.frame.DataFrame'>\n",
      "Int64Index: 50367 entries, 0 to 50366\n",
      "Data columns (total 57 columns):\n",
      " #   Column    Non-Null Count  Dtype  \n",
      "---  ------    --------------  -----  \n",
      " 0   IDCNTRY   50367 non-null  int64  \n",
      " 1   IDSTUD    50367 non-null  int64  \n",
      " 2   ASBH02A   41503 non-null  object \n",
      " 3   ASBH02B   16269 non-null  object \n",
      " 4   ASBH03A   41179 non-null  object \n",
      " 5   ASBH04    41231 non-null  object \n",
      " 6   ASBH15A   37405 non-null  object \n",
      " 7   ASBH15B   34597 non-null  object \n",
      " 8   ASBH16    40406 non-null  object \n",
      " 9   ASBH17A   36503 non-null  object \n",
      " 10  ASBH17B   32361 non-null  object \n",
      " 11  ASBH18AA  40161 non-null  object \n",
      " 12  ASBH18AB  35131 non-null  object \n",
      " 13  ASBG01    49428 non-null  object \n",
      " 14  ASBG03    48168 non-null  object \n",
      " 15  ASDAGE    50358 non-null  float64\n",
      " 16  ASBG10A   48311 non-null  object \n",
      " 17  ASBG10B   48077 non-null  object \n",
      " 18  ASBG10C   47893 non-null  object \n",
      " 19  ASBG10D   47822 non-null  object \n",
      " 20  ASBG10E   47844 non-null  object \n",
      " 21  ASBG10F   47945 non-null  object \n",
      " 22  ASBG11A   47967 non-null  object \n",
      " 23  ASBG11B   47756 non-null  object \n",
      " 24  ASBG11C   47634 non-null  object \n",
      " 25  ASBG11D   47497 non-null  object \n",
      " 26  ASBG11E   47543 non-null  object \n",
      " 27  ASBG11F   47843 non-null  object \n",
      " 28  ASBG11G   47707 non-null  object \n",
      " 29  ASBG11H   47701 non-null  object \n",
      " 30  ASBG11I   47647 non-null  object \n",
      " 31  ASBG11J   47613 non-null  object \n",
      " 32  ASRREA01  50367 non-null  float64\n",
      " 33  ASRREA02  50367 non-null  float64\n",
      " 34  ASRREA03  50367 non-null  float64\n",
      " 35  ASRREA04  50367 non-null  float64\n",
      " 36  ASRREA05  50367 non-null  float64\n",
      " 37  ASRLIT01  50367 non-null  float64\n",
      " 38  ASRLIT02  50367 non-null  float64\n",
      " 39  ASRLIT03  50367 non-null  float64\n",
      " 40  ASRLIT04  50367 non-null  float64\n",
      " 41  ASRLIT05  50367 non-null  float64\n",
      " 42  ASRINF01  50367 non-null  float64\n",
      " 43  ASRINF02  50367 non-null  float64\n",
      " 44  ASRINF03  50367 non-null  float64\n",
      " 45  ASRINF04  50367 non-null  float64\n",
      " 46  ASRINF05  50367 non-null  float64\n",
      " 47  ASRIIE01  50367 non-null  float64\n",
      " 48  ASRIIE02  50367 non-null  float64\n",
      " 49  ASRIIE03  50367 non-null  float64\n",
      " 50  ASRIIE04  50367 non-null  float64\n",
      " 51  ASRIIE05  50367 non-null  float64\n",
      " 52  ASRRSI01  50367 non-null  float64\n",
      " 53  ASRRSI02  50367 non-null  float64\n",
      " 54  ASRRSI03  50367 non-null  float64\n",
      " 55  ASRRSI04  50367 non-null  float64\n",
      " 56  ASRRSI05  50367 non-null  float64\n",
      "dtypes: float64(26), int64(2), object(29)\n",
      "memory usage: 22.3+ MB\n"
     ]
    }
   ],
   "source": [
    "df.info()"
   ]
  },
  {
   "cell_type": "markdown",
   "metadata": {},
   "source": [
    "We can see from the above that many columns have have object values meaning that they may contain both numerical and string values - this is something I will need to fix later on. "
   ]
  },
  {
   "cell_type": "markdown",
   "metadata": {
    "tags": []
   },
   "source": [
    "## Immigration Status Column"
   ]
  },
  {
   "cell_type": "markdown",
   "metadata": {},
   "source": [
    "The most important column for this analysis is 'ASBH02A', 'Was your child born in Country?"
   ]
  },
  {
   "cell_type": "markdown",
   "metadata": {},
   "source": [
    "Firstly, however, I want to remove those that have no answer to this question as there will not be useful in the analysis."
   ]
  },
  {
   "cell_type": "code",
   "execution_count": 4,
   "metadata": {},
   "outputs": [],
   "source": [
    "df = df[df['ASBH02A'].notna() & (df['ASBH02A'] != 9)].copy()"
   ]
  },
  {
   "cell_type": "code",
   "execution_count": 5,
   "metadata": {
    "tags": []
   },
   "outputs": [
    {
     "data": {
      "text/plain": [
       "(41365, 57)"
      ]
     },
     "execution_count": 5,
     "metadata": {},
     "output_type": "execute_result"
    }
   ],
   "source": [
    "df.shape"
   ]
  },
  {
   "cell_type": "markdown",
   "metadata": {},
   "source": [
    "We can see that removing the rows that do not contain immigration data has reduced our dataset by 9002 rows of data. "
   ]
  },
  {
   "cell_type": "markdown",
   "metadata": {},
   "source": [
    "As seen above, this column has 'Object' dtype so I want to examine the column values a litte more closely. "
   ]
  },
  {
   "cell_type": "code",
   "execution_count": 6,
   "metadata": {
    "tags": []
   },
   "outputs": [
    {
     "data": {
      "text/plain": [
       "Yes    25072\n",
       "1      13403\n",
       "No      2342\n",
       "2        548\n",
       "Name: ASBH02A, dtype: int64"
      ]
     },
     "execution_count": 6,
     "metadata": {},
     "output_type": "execute_result"
    }
   ],
   "source": [
    "df[\"ASBH02A\"].value_counts(dropna=False)"
   ]
  },
  {
   "cell_type": "markdown",
   "metadata": {},
   "source": [
    "As we can see this column contains both integers and strings. For readibility in the analysis stage I want to replace the integers and the string with a value representing its real meaning."
   ]
  },
  {
   "cell_type": "code",
   "execution_count": 7,
   "metadata": {},
   "outputs": [
    {
     "data": {
      "text/plain": [
       "native_born     38475\n",
       "foreign_born     2890\n",
       "Name: ASBH02A, dtype: int64"
      ]
     },
     "execution_count": 7,
     "metadata": {},
     "output_type": "execute_result"
    }
   ],
   "source": [
    "# Mapping dictionary\n",
    "update_dict_ASBH02A = {1.0: 'native_born',2.0:'foreign_born','Yes': 'native_born','No':'foreign_born' }\n",
    "\n",
    "# Updating the column using map\n",
    "df['ASBH02A'] = df['ASBH02A'].map(update_dict_ASBH02A).fillna(df['ASBH02A'])\n",
    "df['ASBH02A'].value_counts()"
   ]
  },
  {
   "cell_type": "markdown",
   "metadata": {
    "tags": []
   },
   "source": [
    "## Country column"
   ]
  },
  {
   "cell_type": "markdown",
   "metadata": {},
   "source": [
    "Another fundamental column in the subsequent analysis is the IDCNTRY column which currently contains numbers representing different countries."
   ]
  },
  {
   "cell_type": "markdown",
   "metadata": {},
   "source": [
    "I will first rename the column for clarity and then update the column values from integers to more readable strings for analysis."
   ]
  },
  {
   "cell_type": "code",
   "execution_count": 8,
   "metadata": {},
   "outputs": [],
   "source": [
    "df= df.rename(columns={'IDCNTRY': 'Country'})\n",
    "\n",
    "# Mapping dictionary\n",
    "update_dict = {40: 'Austria', 818: 'Egypt', 250:'France', 276:'Germany',364:'Iran',400:'Jordan',528:'Netherlands',752:'Sweden',792:'Turkey'}\n",
    "\n",
    "# Updating the column using map\n",
    "df['Country'] = df['Country'].map(update_dict).fillna(df['Country'])"
   ]
  },
  {
   "cell_type": "code",
   "execution_count": 9,
   "metadata": {
    "tags": []
   },
   "outputs": [
    {
     "data": {
      "text/plain": [
       "Egypt          7354\n",
       "Iran           5840\n",
       "Jordan         5801\n",
       "Turkey         5596\n",
       "France         4768\n",
       "Austria        4476\n",
       "Sweden         2989\n",
       "Germany        2515\n",
       "Netherlands    2026\n",
       "Name: Country, dtype: int64"
      ]
     },
     "execution_count": 9,
     "metadata": {},
     "output_type": "execute_result"
    }
   ],
   "source": [
    "df[\"Country\"].value_counts(dropna=False)"
   ]
  },
  {
   "cell_type": "markdown",
   "metadata": {
    "tags": []
   },
   "source": [
    "## Age of Arrival"
   ]
  },
  {
   "cell_type": "markdown",
   "metadata": {},
   "source": [
    "The follow up question to ASBH02A is ASBH02B 'If No, How old was your child when he/she came to 'country'?' This column will be helpful to see how age of arrival affects immigrant children's experience of school. "
   ]
  },
  {
   "cell_type": "markdown",
   "metadata": {},
   "source": [
    "Let's explore the values in this column."
   ]
  },
  {
   "cell_type": "code",
   "execution_count": 10,
   "metadata": {
    "tags": []
   },
   "outputs": [
    {
     "data": {
      "text/plain": [
       "NaN                         25234\n",
       "6                           13402\n",
       "Younger than 3 years old      928\n",
       "3 to 5 years old              692\n",
       "6 to 7 years old              375\n",
       "8 years old or older          186\n",
       "1                             182\n",
       "2                             160\n",
       "3                             108\n",
       "4                              63\n",
       "9                              35\n",
       "Name: ASBH02B, dtype: int64"
      ]
     },
     "execution_count": 10,
     "metadata": {},
     "output_type": "execute_result"
    }
   ],
   "source": [
    "df['ASBH02B'].value_counts(dropna=False)"
   ]
  },
  {
   "cell_type": "markdown",
   "metadata": {},
   "source": [
    "As we can see the column contains both strings and integers as countries have inputted their data in different ways. However, we can see from the codebook the corresponding values. So I will assign the corresponding ordinal numbers to the string values."
   ]
  },
  {
   "cell_type": "code",
   "execution_count": 11,
   "metadata": {},
   "outputs": [],
   "source": [
    "# Define the function to map patterns to integers\n",
    "def map_using_patterns(text):\n",
    "    # Dictionary of regex patterns to integers\n",
    "    pattern_to_integer = {\n",
    "        r'Younger': 1,\n",
    "        r'5': 2,\n",
    "        r'7': 3,\n",
    "        r'8': 4\n",
    "    }\n",
    "\n",
    "    # Check if the input is a string\n",
    "    if isinstance(text, str):\n",
    "        for pattern, integer in pattern_to_integer.items():\n",
    "            if pd.Series([text]).str.contains(pattern).any():\n",
    "                return integer\n",
    "    return text  # Return the original value if it's not a string or no pattern matches\n",
    "\n",
    "# Apply the function to the 'ASBH02B' column\n",
    "df['ASBH02B'] = df['ASBH02B'].apply(map_using_patterns)\n"
   ]
  },
  {
   "cell_type": "code",
   "execution_count": 12,
   "metadata": {
    "tags": []
   },
   "outputs": [
    {
     "data": {
      "text/plain": [
       "NaN    25234\n",
       "6.0    13402\n",
       "1.0     1110\n",
       "2.0      852\n",
       "3.0      483\n",
       "4.0      249\n",
       "9.0       35\n",
       "Name: ASBH02B, dtype: int64"
      ]
     },
     "execution_count": 12,
     "metadata": {},
     "output_type": "execute_result"
    }
   ],
   "source": [
    "df['ASBH02B'].value_counts(dropna=False)"
   ]
  },
  {
   "cell_type": "markdown",
   "metadata": {},
   "source": [
    "In order to have more sense-making integers in this column instead of the strings, I am going to assign each -1 to native-born children, 0 to children who were Younger than 3 years old, 3 to 3 to 5 years old 6 to 6 to 7 years old and 8 to 8 years old or older to represent their minimum ages of arrival. "
   ]
  },
  {
   "cell_type": "code",
   "execution_count": 13,
   "metadata": {},
   "outputs": [],
   "source": [
    "def populate_column(row):\n",
    "    if row['ASBH02A'] == 'native_born':\n",
    "        return -1\n",
    "    if row['ASBH02B'] == 1:\n",
    "        return 0\n",
    "    elif row['ASBH02B'] == 2:\n",
    "        return 3\n",
    "    elif row['ASBH02B'] == 3:\n",
    "        return 6\n",
    "    elif row['ASBH02B'] == 4:\n",
    "        return 8\n",
    "    else:\n",
    "        return None  # Or any default value\n",
    "\n",
    "# Apply the function to each row\n",
    "df['MINAGEARRIVAL'] = df.apply(populate_column, axis=1)"
   ]
  },
  {
   "cell_type": "code",
   "execution_count": 14,
   "metadata": {},
   "outputs": [
    {
     "data": {
      "text/plain": [
       "-1.0    38475\n",
       " 0.0     1110\n",
       " 3.0      852\n",
       " 6.0      483\n",
       " 8.0      249\n",
       " NaN      196\n",
       "Name: MINAGEARRIVAL, dtype: int64"
      ]
     },
     "execution_count": 14,
     "metadata": {},
     "output_type": "execute_result"
    }
   ],
   "source": [
    "df['MINAGEARRIVAL'].value_counts(dropna=False)"
   ]
  },
  {
   "cell_type": "markdown",
   "metadata": {},
   "source": [
    "# ASDAGE"
   ]
  },
  {
   "cell_type": "markdown",
   "metadata": {},
   "source": [
    "Now I want to round the 'ASDAGE' column as it is in decimals and I want it to be in integers for analysis."
   ]
  },
  {
   "cell_type": "code",
   "execution_count": null,
   "metadata": {
    "scrolled": true
   },
   "outputs": [],
   "source": [
    "df['ASDAGE'] = df['ASDAGE'].round()"
   ]
  },
  {
   "cell_type": "code",
   "execution_count": null,
   "metadata": {
    "scrolled": true
   },
   "outputs": [],
   "source": [
    "df['ASDAGE'].value_counts()"
   ]
  },
  {
   "cell_type": "code",
   "execution_count": null,
   "metadata": {
    "tags": []
   },
   "outputs": [],
   "source": [
    "df['ASDAGE']= df['ASDAGE'].replace(99.0, np.nan)"
   ]
  },
  {
   "cell_type": "code",
   "execution_count": null,
   "metadata": {
    "tags": []
   },
   "outputs": [],
   "source": [
    "df['ASDAGE'].value_counts()"
   ]
  },
  {
   "cell_type": "markdown",
   "metadata": {
    "tags": []
   },
   "source": [
    "## Understanding Missing Data"
   ]
  },
  {
   "cell_type": "markdown",
   "metadata": {},
   "source": [
    "Now that I have made the 'Country' and 'ASBH02A' columns more readible, and removed rows with no value for the latter column, it would be helpful to understand the extent of missing data across countries, to see if we have any major gaps. "
   ]
  },
  {
   "cell_type": "code",
   "execution_count": 15,
   "metadata": {
    "scrolled": true
   },
   "outputs": [],
   "source": [
    "pivot_table_test = df.pivot_table(\n",
    "    index=['Country','ASBH02A'],\n",
    "    aggfunc=lambda x: x.isnull().sum(),\n",
    ")"
   ]
  },
  {
   "cell_type": "code",
   "execution_count": 16,
   "metadata": {
    "scrolled": true,
    "tags": []
   },
   "outputs": [],
   "source": [
    "# Calculate the total number of elements in each group\n",
    "total_counts = df.groupby(['Country','ASBH02A']).size()\n",
    "\n",
    "# Calculate the percentage of missing values\n",
    "percentage_missing = pivot_table_test.div(total_counts, axis=0) * 100"
   ]
  },
  {
   "cell_type": "code",
   "execution_count": 17,
   "metadata": {},
   "outputs": [
    {
     "data": {
      "image/png": "[encoded data removed]",
      "text/plain": [
       "<Figure size 1008x864 with 2 Axes>"
      ]
     },
     "metadata": {
      "needs_background": "light"
     },
     "output_type": "display_data"
    }
   ],
   "source": [
    "# Create the heatmap\n",
    "plt.figure(figsize=(14,12 ))\n",
    "sns.heatmap(percentage_missing, annot=False, cmap='viridis', fmt='.2f')\n",
    "\n",
    "plt.title('Percentage of Missing Values Heatmap')\n",
    "plt.show()"
   ]
  },
  {
   "cell_type": "markdown",
   "metadata": {},
   "source": [
    "As we can see above, the blocks in yellow represent no datapoints at all. This makes sense for native-born children in the columns ASBH02B as that corresponds to age of arrival in country. Austria, Egypt, France, Jordan, Netherlands and Sweden all appear to have some missing data for in the demographic columns sourced from the Home Context Data. There is also some missing data for the experience in school columns. There is no missing data for assessment scores. "
   ]
  },
  {
   "cell_type": "code",
   "execution_count": 18,
   "metadata": {
    "tags": []
   },
   "outputs": [
    {
     "data": {
      "text/plain": [
       "NaN    25234\n",
       "6.0    13402\n",
       "1.0     1110\n",
       "2.0      852\n",
       "3.0      483\n",
       "4.0      249\n",
       "9.0       35\n",
       "Name: ASBH02B, dtype: int64"
      ]
     },
     "execution_count": 18,
     "metadata": {},
     "output_type": "execute_result"
    }
   ],
   "source": [
    "df[\"ASBH02B\"].value_counts(dropna=False)"
   ]
  },
  {
   "cell_type": "code",
   "execution_count": 20,
   "metadata": {
    "tags": []
   },
   "outputs": [],
   "source": [
    "df_native= df[df['ASBH02A']=='native_born']"
   ]
  },
  {
   "cell_type": "code",
   "execution_count": 21,
   "metadata": {
    "tags": []
   },
   "outputs": [
    {
     "data": {
      "text/plain": [
       "NaN    25073\n",
       "6.0    13402\n",
       "Name: ASBH02B, dtype: int64"
      ]
     },
     "execution_count": 21,
     "metadata": {},
     "output_type": "execute_result"
    }
   ],
   "source": [
    "df_native[\"ASBH02B\"].value_counts(dropna=False)"
   ]
  },
  {
   "cell_type": "markdown",
   "metadata": {},
   "source": [
    "## Check germany, iran and turkey have 6 or 9 in the asbh02b column!!!!"
   ]
  },
  {
   "cell_type": "markdown",
   "metadata": {
    "tags": []
   },
   "source": [
    "## Uniform column values"
   ]
  },
  {
   "cell_type": "markdown",
   "metadata": {},
   "source": [
    "I want to check all the unique values for each of the columns in my data set so that they are uniform (not mixed, strings with floats) and to remove any values that are not useful. "
   ]
  },
  {
   "cell_type": "markdown",
   "metadata": {},
   "source": [
    "For better understanding of the data, I am grouping the columns into 5 groups. These are: identifier_columns, demographic_info_columns, feelings_in_school_columns, experiences_in_school_columns, assessment_score_columns."
   ]
  },
  {
   "cell_type": "markdown",
   "metadata": {},
   "source": [
    "### The demographic columns represent our independent variables, whereas feelings_in_school_columns, negativeexperience in school and assessment score columns all contain columns which are dependent variables, metrics for assessing quality education. "
   ]
  },
  {
   "cell_type": "code",
   "execution_count": 22,
   "metadata": {},
   "outputs": [],
   "source": [
    "identifier_columns = ['Country','ASBH02A']\n",
    "demographic_info_columns = ['ASBH02B', 'ASBH03A', 'ASBH04', 'ASBH15A', 'ASBH15B', 'ASBH16', 'ASBH17A', 'ASBH17B', 'ASBH18AA', 'ASBH18AB', 'ASBG01', 'ASBG03', 'ASDAGE','MINAGEARRIVAL' ]\n",
    "feelings_in_school_columns = ['ASBG10A', 'ASBG10B','ASBG10C', 'ASBG10D', 'ASBG10E', 'ASBG10F']\n",
    "experiences_in_school_columns = ['ASBG11A', 'ASBG11B', 'ASBG11C', 'ASBG11D', 'ASBG11E', 'ASBG11F', 'ASBG11G', 'ASBG11H', 'ASBG11I', 'ASBG11J']\n",
    "assessment_score_columns = ['ASRREA01', 'ASRREA02', 'ASRREA03', 'ASRREA04', 'ASRREA05', 'ASRLIT01', 'ASRLIT02', 'ASRLIT03', 'ASRLIT04', 'ASRLIT05', 'ASRINF01', 'ASRINF02', 'ASRINF03', 'ASRINF04', 'ASRINF05', 'ASRIIE01', 'ASRIIE02', 'ASRIIE03', 'ASRIIE04', 'ASRIIE05', 'ASRRSI01', 'ASRRSI02', 'ASRRSI03', 'ASRRSI04', 'ASRRSI05']"
   ]
  },
  {
   "cell_type": "markdown",
   "metadata": {},
   "source": [
    "### Experience in School"
   ]
  },
  {
   "cell_type": "code",
   "execution_count": 23,
   "metadata": {
    "tags": []
   },
   "outputs": [
    {
     "name": "stdout",
     "output_type": "stream",
     "text": [
      "                 ASBG11A                ASBG11B                ASBG11C                ASBG11D                ASBG11E                ASBG11F                ASBG11G                ASBG11H                ASBG11I                ASBG11J\n",
      "0                      4                      4                      4                      4                      4                      4                      4                      4                      4                      4\n",
      "1                      1                      3                      1                      2                      9                      3                      3                      1                      3                      2\n",
      "2                      3                      1                      3                      1                      3                      1                      1                      3                      1                      3\n",
      "3                      2                      2                      2                      3                      1                      2                      9                      2                      2                      1\n",
      "4                      9                      9                      9                      9                      2                      9                      2                      9                      9                      9\n",
      "5                    NaN                    NaN                    NaN                    NaN                    NaN                    NaN                    NaN                    NaN                    NaN                    NaN\n",
      "6                  Never                  Never     A few times a year  Once or twice a month                  Never                  Never                  Never     A few times a year                  Never                  Never\n",
      "7  Once or twice a month  Once or twice a month   At least once a week                  Never     A few times a year     A few times a year  Once or twice a month                  Never   At least once a week     A few times a year\n",
      "8     A few times a year     A few times a year  Once or twice a month     A few times a year  Once or twice a month  Once or twice a month     A few times a year   At least once a week     A few times a year   At least once a week\n",
      "9   At least once a week   At least once a week                  Never   At least once a week   At least once a week   At least once a week   At least once a week  Once or twice a month  Once or twice a month  Once or twice a month\n"
     ]
    }
   ],
   "source": [
    "# Apply unique() to each column\n",
    "unique_values_school_experience = df[experiences_in_school_columns].apply(lambda col: col.unique())\n",
    "\n",
    "print(unique_values_school_experience)"
   ]
  },
  {
   "cell_type": "markdown",
   "metadata": {},
   "source": [
    "All the experiences_in_school_columns are rated on the same scale. So I want to remove all the string values and assign them their associated integer value. "
   ]
  },
  {
   "cell_type": "code",
   "execution_count": 24,
   "metadata": {
    "tags": []
   },
   "outputs": [
    {
     "data": {
      "text/plain": [
       "Never                    16632\n",
       "4                         6890\n",
       "A few times a year        4660\n",
       "At least once a week      4348\n",
       "Once or twice a month     2707\n",
       "1                         2126\n",
       "NaN                       1590\n",
       "3                         1099\n",
       "2                         1089\n",
       "9                          224\n",
       "Name: ASBG11A, dtype: int64"
      ]
     },
     "execution_count": 24,
     "metadata": {},
     "output_type": "execute_result"
    }
   ],
   "source": [
    "df[\"ASBG11A\"].value_counts(dropna=False)"
   ]
  },
  {
   "cell_type": "code",
   "execution_count": 25,
   "metadata": {},
   "outputs": [],
   "source": [
    "ordinal_mapping_frequency = {\n",
    "    'At least once a week': 1,\n",
    "    'Once or twice a month': 2,\n",
    "    'A few times a year': 3,\n",
    "    'Never': 4,\n",
    "}"
   ]
  },
  {
   "cell_type": "code",
   "execution_count": 26,
   "metadata": {},
   "outputs": [],
   "source": [
    "for column in experiences_in_school_columns:\n",
    "    df[column]= df[column].map(ordinal_mapping_frequency).fillna(df[column])"
   ]
  },
  {
   "cell_type": "code",
   "execution_count": 27,
   "metadata": {
    "tags": []
   },
   "outputs": [
    {
     "data": {
      "text/plain": [
       "4.0    23522\n",
       "1.0     6474\n",
       "3.0     5759\n",
       "2.0     3796\n",
       "NaN     1590\n",
       "9.0      224\n",
       "Name: ASBG11A, dtype: int64"
      ]
     },
     "execution_count": 27,
     "metadata": {},
     "output_type": "execute_result"
    }
   ],
   "source": [
    "df[\"ASBG11A\"].value_counts(dropna=False)"
   ]
  },
  {
   "cell_type": "code",
   "execution_count": 28,
   "metadata": {
    "tags": []
   },
   "outputs": [],
   "source": [
    "df.loc[:, experiences_in_school_columns] = df.loc[:, experiences_in_school_columns].replace(9.0, np.nan)"
   ]
  },
  {
   "cell_type": "code",
   "execution_count": 29,
   "metadata": {
    "tags": []
   },
   "outputs": [
    {
     "data": {
      "text/plain": [
       "4.0    23522\n",
       "1.0     6474\n",
       "3.0     5759\n",
       "2.0     3796\n",
       "NaN     1814\n",
       "Name: ASBG11A, dtype: int64"
      ]
     },
     "execution_count": 29,
     "metadata": {},
     "output_type": "execute_result"
    }
   ],
   "source": [
    "df[\"ASBG11A\"].value_counts(dropna=False)"
   ]
  },
  {
   "cell_type": "code",
   "execution_count": 30,
   "metadata": {},
   "outputs": [
    {
     "name": "stdout",
     "output_type": "stream",
     "text": [
      "   ASBG11A  ASBG11B  ASBG11C  ASBG11D  ASBG11E  ASBG11F  ASBG11G  ASBG11H  ASBG11I  ASBG11J\n",
      "0      4.0      4.0      4.0      4.0      4.0      4.0      4.0      4.0      4.0      4.0\n",
      "1      1.0      3.0      1.0      2.0      NaN      3.0      3.0      1.0      3.0      2.0\n",
      "2      3.0      1.0      3.0      1.0      3.0      1.0      1.0      3.0      1.0      3.0\n",
      "3      2.0      2.0      2.0      3.0      1.0      2.0      NaN      2.0      2.0      1.0\n",
      "4      NaN      NaN      NaN      NaN      2.0      NaN      2.0      NaN      NaN      NaN\n"
     ]
    }
   ],
   "source": [
    "# Apply unique() to each column\n",
    "unique_values_school_experience = df[experiences_in_school_columns].apply(lambda col: col.unique())\n",
    "\n",
    "print(unique_values_school_experience)"
   ]
  },
  {
   "cell_type": "markdown",
   "metadata": {
    "tags": []
   },
   "source": [
    "### Feelings in school"
   ]
  },
  {
   "cell_type": "code",
   "execution_count": 31,
   "metadata": {
    "tags": []
   },
   "outputs": [
    {
     "name": "stdout",
     "output_type": "stream",
     "text": [
      "             ASBG10A            ASBG10B            ASBG10C            ASBG10D            ASBG10E            ASBG10F\n",
      "0                  1                  1                  1                  1                  1                  1\n",
      "1                  2                  2                  2                  2                  2                  2\n",
      "2                  3                  4                  4                  3                  4                  3\n",
      "3                  9                  3                  9                  4                  3                  4\n",
      "4                  4                  9                  3                  9                  9                  9\n",
      "5                NaN                NaN                NaN                NaN                NaN                NaN\n",
      "6     Agree a little  Disagree a little     Agree a little     Agree a little  Disagree a little        Agree a lot\n",
      "7        Agree a lot     Agree a little        Agree a lot        Agree a lot        Agree a lot     Agree a little\n",
      "8  Disagree a little        Agree a lot  Disagree a little  Disagree a little     Agree a little  Disagree a little\n",
      "9     Disagree a lot     Disagree a lot     Disagree a lot     Disagree a lot     Disagree a lot     Disagree a lot\n"
     ]
    }
   ],
   "source": [
    "# Apply unique() to each column\n",
    "unique_values_school_feeling = df[feelings_in_school_columns].apply(lambda col: col.unique())\n",
    "\n",
    "print(unique_values_school_feeling)"
   ]
  },
  {
   "cell_type": "markdown",
   "metadata": {},
   "source": [
    "All the feelings_in_school_columns are rated on the same scale. So I want to remove all the string values and assign them their associated integer value."
   ]
  },
  {
   "cell_type": "code",
   "execution_count": 32,
   "metadata": {
    "tags": []
   },
   "outputs": [
    {
     "data": {
      "text/plain": [
       "Agree a lot          17353\n",
       "1                     9630\n",
       "Agree a little        8110\n",
       "Disagree a little     1798\n",
       "Disagree a lot        1377\n",
       "NaN                   1300\n",
       "2                     1167\n",
       "4                      252\n",
       "3                      194\n",
       "9                      184\n",
       "Name: ASBG10A, dtype: int64"
      ]
     },
     "execution_count": 32,
     "metadata": {},
     "output_type": "execute_result"
    }
   ],
   "source": [
    "df[\"ASBG10A\"].value_counts(dropna=False)"
   ]
  },
  {
   "cell_type": "code",
   "execution_count": 33,
   "metadata": {},
   "outputs": [],
   "source": [
    "ordinal_mapping_agreement = { \n",
    "    'Agree a lot': 1,\n",
    "    'Agree a little': 2,\n",
    "    'Disagree a little': 3,\n",
    "    'Disagree a lot': 4\n",
    "}"
   ]
  },
  {
   "cell_type": "code",
   "execution_count": 34,
   "metadata": {},
   "outputs": [],
   "source": [
    "for column in feelings_in_school_columns:\n",
    "    df[column]= df[column].map(ordinal_mapping_agreement).fillna(df[column])"
   ]
  },
  {
   "cell_type": "code",
   "execution_count": 35,
   "metadata": {
    "tags": []
   },
   "outputs": [
    {
     "data": {
      "text/plain": [
       "1.0    26983\n",
       "2.0     9277\n",
       "3.0     1992\n",
       "4.0     1629\n",
       "NaN     1300\n",
       "9.0      184\n",
       "Name: ASBG10A, dtype: int64"
      ]
     },
     "execution_count": 35,
     "metadata": {},
     "output_type": "execute_result"
    }
   ],
   "source": [
    "df[\"ASBG10A\"].value_counts(dropna=False)"
   ]
  },
  {
   "cell_type": "code",
   "execution_count": 36,
   "metadata": {
    "tags": []
   },
   "outputs": [],
   "source": [
    "df.loc[:, feelings_in_school_columns] = df.loc[:, feelings_in_school_columns].replace(9.0, np.nan)"
   ]
  },
  {
   "cell_type": "code",
   "execution_count": 37,
   "metadata": {
    "tags": []
   },
   "outputs": [
    {
     "data": {
      "text/plain": [
       "1.0    26983\n",
       "2.0     9277\n",
       "3.0     1992\n",
       "4.0     1629\n",
       "NaN     1484\n",
       "Name: ASBG10A, dtype: int64"
      ]
     },
     "execution_count": 37,
     "metadata": {},
     "output_type": "execute_result"
    }
   ],
   "source": [
    "df[\"ASBG10A\"].value_counts(dropna=False)"
   ]
  },
  {
   "cell_type": "code",
   "execution_count": 38,
   "metadata": {},
   "outputs": [
    {
     "name": "stdout",
     "output_type": "stream",
     "text": [
      "   ASBG10A  ASBG10B  ASBG10C  ASBG10D  ASBG10E  ASBG10F\n",
      "0      1.0      1.0      1.0      1.0      1.0      1.0\n",
      "1      2.0      2.0      2.0      2.0      2.0      2.0\n",
      "2      3.0      4.0      4.0      3.0      4.0      3.0\n",
      "3      NaN      3.0      NaN      4.0      3.0      4.0\n",
      "4      4.0      NaN      3.0      NaN      NaN      NaN\n"
     ]
    }
   ],
   "source": [
    "# Apply unique() to each column\n",
    "unique_values_school_feeling = df[feelings_in_school_columns].apply(lambda col: col.unique())\n",
    "\n",
    "print(unique_values_school_feeling)"
   ]
  },
  {
   "cell_type": "markdown",
   "metadata": {},
   "source": [
    "## Summary"
   ]
  },
  {
   "cell_type": "code",
   "execution_count": null,
   "metadata": {
    "tags": []
   },
   "outputs": [],
   "source": [
    "df.info()"
   ]
  },
  {
   "cell_type": "markdown",
   "metadata": {
    "jp-MarkdownHeadingCollapsed": true,
    "tags": []
   },
   "source": [
    "## Other Demographic Columns"
   ]
  },
  {
   "cell_type": "markdown",
   "metadata": {},
   "source": [
    "We will leave the other demographic columns for the time being as we are primarily concerned with one column for our initial analysis - ASBH02A - born in country. "
   ]
  },
  {
   "cell_type": "markdown",
   "metadata": {
    "tags": []
   },
   "source": [
    "## Filtering the data "
   ]
  },
  {
   "cell_type": "markdown",
   "metadata": {},
   "source": [
    "# Could Identify outliers and look at their complete rows - could be fun"
   ]
  },
  {
   "cell_type": "markdown",
   "metadata": {},
   "source": [
    "Now I am concerned with removing any rows of data (each representing one student) with irregular assessment score values as such values could skew the analysis. "
   ]
  },
  {
   "cell_type": "markdown",
   "metadata": {},
   "source": [
    "I will start by adding an average score column to my dataframe."
   ]
  },
  {
   "cell_type": "code",
   "execution_count": 39,
   "metadata": {},
   "outputs": [],
   "source": [
    "df['avgscore'] = df[assessment_score_columns].mean(axis=1)"
   ]
  },
  {
   "cell_type": "code",
   "execution_count": 40,
   "metadata": {},
   "outputs": [
    {
     "data": {
      "text/plain": [
       "count    41365.000000\n",
       "mean       465.338100\n",
       "std        111.880952\n",
       "min         84.541739\n",
       "25%        394.414970\n",
       "50%        482.298914\n",
       "75%        550.326946\n",
       "max        757.011431\n",
       "Name: avgscore, dtype: float64"
      ]
     },
     "execution_count": 40,
     "metadata": {},
     "output_type": "execute_result"
    }
   ],
   "source": [
    "df['avgscore'].describe()"
   ]
  },
  {
   "cell_type": "markdown",
   "metadata": {},
   "source": [
    "So our maximum average score is 757.011431 and our minimum is 84.541739. These scores are both quite far from the mean of 465. 34. I'm wondering if some of these are anomalies and we therefore want to delete rows with values under and over a certain amount."
   ]
  },
  {
   "cell_type": "markdown",
   "metadata": {},
   "source": [
    "## Boxplot Visualisation"
   ]
  },
  {
   "cell_type": "code",
   "execution_count": 41,
   "metadata": {},
   "outputs": [
    {
     "data": {
      "image/png": "[encoded data removed]",
      "text/plain": [
       "<Figure size 432x288 with 1 Axes>"
      ]
     },
     "metadata": {
      "needs_background": "light"
     },
     "output_type": "display_data"
    }
   ],
   "source": [
    "# Create a box plot\n",
    "sns.boxplot(x=df['avgscore'])\n",
    "\n",
    "# Add title and labels\n",
    "plt.title('Box Plot of Your Data')\n",
    "plt.xlabel('Data')\n",
    "plt.ylabel('Values')\n",
    "\n",
    "# Show the plot\n",
    "plt.show()"
   ]
  },
  {
   "cell_type": "markdown",
   "metadata": {},
   "source": [
    "Interpretation\n",
    "Central Box: Represents the interquartile range (IQR), containing the middle 50% of the data.\n",
    "Line inside the Box: Indicates the median of the data.\n",
    "Whiskers: Extend to the smallest and largest values within 1.5 * IQR from the lower and upper quartiles.\n",
    "Dots outside the Whiskers: Represent potential outliers.\n"
   ]
  },
  {
   "cell_type": "markdown",
   "metadata": {},
   "source": [
    "I want to consider whether filtering the data using either the zscore method or the interquartile range would make this selection more reliable. "
   ]
  },
  {
   "cell_type": "markdown",
   "metadata": {},
   "source": [
    "## Zscore"
   ]
  },
  {
   "cell_type": "code",
   "execution_count": 42,
   "metadata": {},
   "outputs": [],
   "source": [
    "# Method 1: Z-score method\n",
    "from scipy.stats import zscore\n",
    "\n",
    "# Calculate the Z-scores\n",
    "df['zscore'] = zscore(df['avgscore'])\n",
    "\n",
    "# Define a threshold (e.g., 3)\n",
    "threshold = 3\n",
    "\n",
    "# Filter the data to remove outliers\n",
    "df_zscore_filtered = df[(df['zscore'] < threshold) & (df['zscore'] > -threshold)]"
   ]
  },
  {
   "cell_type": "markdown",
   "metadata": {},
   "source": [
    "## IQR Method"
   ]
  },
  {
   "cell_type": "code",
   "execution_count": 43,
   "metadata": {},
   "outputs": [],
   "source": [
    "# Method 2: IQR method\n",
    "Q1 = df['avgscore'].quantile(0.25)\n",
    "Q3 = df['avgscore'].quantile(0.75)\n",
    "IQR = Q3 - Q1\n",
    "\n",
    "# Define the bounds\n",
    "lower_bound = Q1 - 1.5 * IQR\n",
    "upper_bound = Q3 + 1.5 * IQR\n",
    "\n",
    "# Filter the data to remove outliers\n",
    "df_iqr_filtered = df[(df['avgscore'] >= lower_bound) & (df['avgscore'] <= upper_bound)]"
   ]
  },
  {
   "cell_type": "markdown",
   "metadata": {},
   "source": [
    "## Comparison of the three datasets"
   ]
  },
  {
   "cell_type": "code",
   "execution_count": 44,
   "metadata": {},
   "outputs": [],
   "source": [
    "summary_original = df['avgscore'].describe()\n",
    "summary_zscore_filtered = df_zscore_filtered['avgscore'].describe()\n",
    "summary_iqr_filtered = df_iqr_filtered['avgscore'].describe()"
   ]
  },
  {
   "cell_type": "code",
   "execution_count": 45,
   "metadata": {},
   "outputs": [
    {
     "name": "stdout",
     "output_type": "stream",
     "text": [
      "Original Data Summary:\n",
      "count    41365.000000\n",
      "mean       465.338100\n",
      "std        111.880952\n",
      "min         84.541739\n",
      "25%        394.414970\n",
      "50%        482.298914\n",
      "75%        550.326946\n",
      "max        757.011431\n",
      "Name: avgscore, dtype: float64\n",
      "\n",
      "Z-score Filtered Data Summary:\n",
      "count    41318.000000\n",
      "mean       465.738188\n",
      "std        111.312929\n",
      "min        130.611489\n",
      "25%        394.757593\n",
      "50%        482.429018\n",
      "75%        550.398401\n",
      "max        757.011431\n",
      "Name: avgscore, dtype: float64\n",
      "\n",
      "IQR Filtered Data Summary:\n",
      "count    41158.000000\n",
      "mean       466.971053\n",
      "std        109.754016\n",
      "min        160.574553\n",
      "25%        395.985095\n",
      "50%        483.052609\n",
      "75%        550.627011\n",
      "max        757.011431\n",
      "Name: avgscore, dtype: float64\n"
     ]
    }
   ],
   "source": [
    "print(\"Original Data Summary:\")\n",
    "print(summary_original)\n",
    "print(\"\\nZ-score Filtered Data Summary:\")\n",
    "print(summary_zscore_filtered)\n",
    "print(\"\\nIQR Filtered Data Summary:\")\n",
    "print(summary_iqr_filtered)"
   ]
  },
  {
   "cell_type": "code",
   "execution_count": 46,
   "metadata": {},
   "outputs": [
    {
     "data": {
      "image/png": "[encoded data removed]",
      "text/plain": [
       "<Figure size 1080x360 with 3 Axes>"
      ]
     },
     "metadata": {
      "needs_background": "light"
     },
     "output_type": "display_data"
    }
   ],
   "source": [
    "# Visualize distributions\n",
    "plt.figure(figsize=(15, 5))\n",
    "\n",
    "plt.subplot(1, 3, 1)\n",
    "sns.boxplot(df['avgscore'])\n",
    "plt.title('Original Data')\n",
    "\n",
    "plt.subplot(1, 3, 2)\n",
    "sns.boxplot(df_zscore_filtered['avgscore'])\n",
    "plt.title('Z-score Filtered Data')\n",
    "\n",
    "plt.subplot(1, 3, 3)\n",
    "sns.boxplot(df_iqr_filtered['avgscore'])\n",
    "plt.title('IQR Filtered Data')\n",
    "\n",
    "plt.show()"
   ]
  },
  {
   "cell_type": "code",
   "execution_count": 47,
   "metadata": {},
   "outputs": [
    {
     "data": {
      "image/png": "[encoded data removed]",
      "text/plain": [
       "<Figure size 1080x360 with 3 Axes>"
      ]
     },
     "metadata": {
      "needs_background": "light"
     },
     "output_type": "display_data"
    }
   ],
   "source": [
    "plt.figure(figsize=(15, 5))\n",
    "\n",
    "plt.subplot(1, 3, 1)\n",
    "sns.histplot(df['avgscore'], kde=True)\n",
    "plt.title('Original Data')\n",
    "\n",
    "plt.subplot(1, 3, 2)\n",
    "sns.histplot(df_zscore_filtered['avgscore'], kde=True)\n",
    "plt.title('Z-score Filtered Data')\n",
    "\n",
    "plt.subplot(1, 3, 3)\n",
    "sns.histplot(df_iqr_filtered['avgscore'], kde=True)\n",
    "plt.title('IQR Filtered Data')\n",
    "\n",
    "plt.show()"
   ]
  },
  {
   "cell_type": "markdown",
   "metadata": {},
   "source": [
    "Analysis and Comparison\n",
    "Summary Statistics: Compare the mean, median, standard deviation, and other statistics to see how each method affects the central tendency and spread of the data.\n",
    "Visual Inspection: Use box plots to visually inspect the data distribution and outliers in each dataset. Use histograms to compare the frequency distributions.\n",
    "Impact on Analysis: Perform key analyses (e.g., regression, clustering) on both filtered datasets and compare the results to understand the impact of outlier removal.\n",
    "Documenting Findings\n",
    "Descriptive Statistics: Summarize how the descriptive statistics differ across the datasets.\n",
    "Visual Differences: Highlight any noticeable differences in the box plots and histograms.\n",
    "Analytical Impact: Discuss how outlier removal affects your main analysis, noting any significant changes in results or interpretations.\n",
    "By comparing the filtered datasets, you can determine which method of outlier removal is more appropriate for your data and analysis goals, providing a deeper understanding of the impact of outliers on your analysis."
   ]
  },
  {
   "cell_type": "markdown",
   "metadata": {},
   "source": [
    "## Chi Square Test - remove?"
   ]
  },
  {
   "cell_type": "code",
   "execution_count": null,
   "metadata": {},
   "outputs": [],
   "source": [
    "from scipy.stats import chi2_contingency"
   ]
  },
  {
   "cell_type": "code",
   "execution_count": null,
   "metadata": {},
   "outputs": [],
   "source": [
    "def perform_chi_square_test(df, score_column, category_column, bins=10):\n",
    "    \"\"\"\n",
    "    Perform a Chi-Square Test of Independence on a given DataFrame.\n",
    "\n",
    "    Parameters:\n",
    "        df (pd.DataFrame): The input DataFrame.\n",
    "        score_column (str): The column name containing the numeric scores to be binned.\n",
    "        category_column (str): The column name of the categorical variable.\n",
    "        bins (int): The number of bins for discretizing the score column. Default is 10.\n",
    "\n",
    "    Returns:\n",
    "        tuple: Chi-Square test statistic, p-value, degrees of freedom, expected frequencies.\n",
    "    \"\"\"\n",
    "    # Bin the score column\n",
    "    df['binned_scores'] = pd.cut(df[score_column], bins=bins)\n",
    "\n",
    "    # Create a contingency table\n",
    "    contingency_table = pd.crosstab(df[category_column], df['binned_scores'])\n",
    "\n",
    "    # Perform Chi-Square Test of Independence\n",
    "    chi2, p, dof, expected = chi2_contingency(contingency_table)\n",
    "\n",
    "    # Print results\n",
    "    print(f\"Chi-Square Test Statistic: {chi2}\")\n",
    "    print(f\"P-value: {p}\")\n",
    "    print(f\"Degrees of Freedom: {dof}\")\n",
    "\n",
    "    return chi2, p, dof, expected"
   ]
  },
  {
   "cell_type": "code",
   "execution_count": null,
   "metadata": {},
   "outputs": [],
   "source": [
    "perform_chi_square_test(df, 'avgscore', 'ASBH02A', bins=10)"
   ]
  },
  {
   "cell_type": "code",
   "execution_count": null,
   "metadata": {},
   "outputs": [],
   "source": [
    "perform_chi_square_test(df_zscore_filtered, 'avgscore', 'ASBH02A', bins=10)"
   ]
  },
  {
   "cell_type": "code",
   "execution_count": null,
   "metadata": {},
   "outputs": [],
   "source": [
    "perform_chi_square_test(df_iqr_filtered, 'avgscore', 'ASBH02A', bins=10)"
   ]
  },
  {
   "cell_type": "markdown",
   "metadata": {},
   "source": [
    "Unfiltered Dataset\n",
    "Chi-Square Test Statistic: 245.83 (very large value)\n",
    "P-value: \n",
    "7.55\n",
    "×\n",
    "1\n",
    "0\n",
    "−\n",
    "48\n",
    "7.55×10 \n",
    "−48\n",
    "  (extremely small, essentially 0)\n",
    "Interpretation: The null hypothesis is rejected with very high confidence. There is a significant association or effect detected in the unfiltered data.\n",
    "Z-Score Filtered Dataset\n",
    "Chi-Square Test Statistic: 3.94 (very small value)\n",
    "P-value: 0.915 (very high, close to 1)\n",
    "Interpretation: The null hypothesis cannot be rejected. The z-score filtering appears to have removed most of the association or effect, likely by excluding outliers or influential data points.\n",
    "IQR Filtered Dataset\n",
    "Chi-Square Test Statistic: 248.94 (very large value, even larger than unfiltered)\n",
    "P-value: \n",
    "1.67\n",
    "×\n",
    "1\n",
    "0\n",
    "−\n",
    "48\n",
    "1.67×10 \n",
    "−48\n",
    "  (extremely small, essentially 0)\n",
    "Interpretation: Similar to the unfiltered data, the null hypothesis is rejected with very high confidence. This suggests that the IQR filtering preserved or even amplified the detected effect.\n",
    "Comparison of Results\n",
    "Effect of Filtering:\n",
    "\n",
    "Z-score filtering greatly reduced the test statistic and increased the p-value, possibly due to the removal of extreme values, which may have carried most of the signal.\n",
    "IQR filtering retained or enhanced the strength of the signal, leading to similar or even stronger rejection of the null hypothesis compared to the unfiltered dataset.\n",
    "Significance:\n",
    "\n",
    "The unfiltered and IQR-filtered datasets indicate a strong and statistically significant result.\n",
    "The z-score filtered dataset suggests no significant result, likely due to the removal of key influential points.\n",
    "Interpretation of Filtering Methods:\n",
    "\n",
    "Z-score Filtering: This method likely excludes extreme outliers based on standard deviations, which can minimize the effect of influential data points but may also discard important variations.\n",
    "IQR Filtering: By focusing on the central 50% of the data, this method avoids extreme outliers while retaining much of the inherent variation, preserving the signal.\n",
    "Conclusion\n",
    "The unfiltered and IQR-filtered datasets suggest strong evidence against the null hypothesis.\n",
    "Z-score filtering may overly simplify the data by removing too much information, leading to an insignificant result. It’s important to consider the nature of the data and the appropriateness of the filtering technique for the given analysis.\n",
    "\n",
    "\n",
    "\n",
    "\n",
    "\n",
    "You said:\n",
    "So do you think I should continue my analysis with the IQR-filtered dataset? Is it normal to get such different results between the z-score filtered df and IQR-filtered?\n",
    "ChatGPT said:\n",
    "ChatGPT\n",
    "Yes, continuing your analysis with the IQR-filtered dataset is a reasonable choice, particularly if your goal is to balance removing extreme outliers without losing critical information about the dataset's central tendencies. Here’s why:\n",
    "\n",
    "1. The Case for the IQR-Filtered Dataset\n",
    "Preservation of Signal: The IQR filtering retains much of the variation in the data while removing extreme outliers (points outside the interquartile range). The fact that the Chi-square test statistic is nearly identical to the unfiltered dataset suggests that the key relationships in the data remain intact.\n",
    "Outlier Management: IQR filtering removes extreme points that could skew results without discarding moderate variations that might still carry useful information.\n",
    "2. Is it Normal to Get Different Results Between Z-Score and IQR Filtering?\n",
    "Yes, it’s quite common to see different results between these two methods because they handle outliers differently:\n",
    "\n",
    "Z-Score Filtering:\n",
    "\n",
    "Focuses on removing data points that deviate significantly (e.g., beyond 3 standard deviations) from the mean.\n",
    "May remove both large and small values indiscriminately, especially in datasets with non-normal distributions or heavy tails.\n",
    "Can lead to the loss of critical variations or signals if your dataset inherently has high variability or non-Gaussian characteristics.\n",
    "IQR Filtering:\n",
    "\n",
    "Targets the tails of the distribution, but only those points beyond the 1.5x IQR from the first or third quartile.\n",
    "More robust for non-Gaussian distributions or datasets with skewed distributions because it doesn't depend on the mean and standard deviation.\n",
    "The stark difference in p-values (0.915 for z-score filtering versus \n",
    "1.67\n",
    "×\n",
    "1\n",
    "0\n",
    "−\n",
    "48\n",
    "1.67×10 \n",
    "−48\n",
    "  for IQR filtering) likely reflects that z-score filtering removed influential data points that were driving the significant association in your analysis. If these removed points are not true \"noise\" but meaningful data, the z-score method might underrepresent the true relationships in your data.\n",
    "\n",
    "3. Considerations\n",
    "Before proceeding exclusively with the IQR-filtered dataset:\n",
    "\n",
    "Understand Your Data:\n",
    "\n",
    "Examine the distributions of the variables and determine if they are skewed, have heavy tails, or contain clusters of outliers. This will guide you in confirming whether z-score filtering was overly aggressive.\n",
    "Validate Robustness:\n",
    "\n",
    "Cross-check key findings across both filtered datasets to ensure that your conclusions aren’t overly dependent on the choice of filtering. The fact that the unfiltered and IQR-filtered datasets yield similar results is reassuring.\n",
    "Interpret Outliers:\n",
    "\n",
    "Investigate the nature of the outliers. If outliers represent valid observations (e.g., rare but meaningful phenomena), they should not be filtered out too aggressively.\n",
    "4. Recommendation\n",
    "Based on your results and standard practices:\n",
    "\n",
    "Use the IQR-filtered dataset for your main analysis, as it preserves the data's key relationships and balances outlier removal.\n",
    "Optionally, provide a sensitivity analysis with the z-score filtered dataset in your final report. This will demonstrate the robustness of your findings under different preprocessing methods.\n",
    "In summary, the differences between filtering methods highlight the importance of choosing the one most aligned with the characteristics of your data. The IQR-filtered dataset appears to strike the right balance in your case!"
   ]
  },
  {
   "cell_type": "code",
   "execution_count": 48,
   "metadata": {
    "tags": []
   },
   "outputs": [],
   "source": [
    "df_iqr_filtered.to_excel(\"cleandataiqr17125.xlsx\")"
   ]
  },
  {
   "cell_type": "code",
   "execution_count": 49,
   "metadata": {},
   "outputs": [
    {
     "data": {
      "text/plain": [
       "(41158, 60)"
      ]
     },
     "execution_count": 49,
     "metadata": {},
     "output_type": "execute_result"
    }
   ],
   "source": [
    "df_iqr_filtered.shape"
   ]
  },
  {
   "cell_type": "code",
   "execution_count": null,
   "metadata": {},
   "outputs": [],
   "source": []
  }
 ],
 "metadata": {
  "kernelspec": {
   "display_name": "Python 3",
   "language": "python",
   "name": "python3"
  },
  "language_info": {
   "codemirror_mode": {
    "name": "ipython",
    "version": 3
   },
   "file_extension": ".py",
   "mimetype": "text/x-python",
   "name": "python",
   "nbconvert_exporter": "python",
   "pygments_lexer": "ipython3",
   "version": "3.7.6"
  }
 },
 "nbformat": 4,
 "nbformat_minor": 4
}
