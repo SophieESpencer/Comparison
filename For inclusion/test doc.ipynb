{
 "cells": [
  {
   "cell_type": "code",
   "execution_count": 2,
   "id": "a0b1189b-949f-430f-b7b6-8212c8542ecd",
   "metadata": {
    "tags": []
   },
   "outputs": [
    {
     "name": "stdout",
     "output_type": "stream",
     "text": [
      "hello world\n"
     ]
    }
   ],
   "source": [
    "print('hello world')"
   ]
  },
  {
   "cell_type": "code",
   "execution_count": 3,
   "id": "5a306163-3c33-4b31-8103-e324b29dd0f1",
   "metadata": {
    "tags": []
   },
   "outputs": [
    {
     "data": {
      "text/plain": [
       "16"
      ]
     },
     "execution_count": 3,
     "metadata": {},
     "output_type": "execute_result"
    }
   ],
   "source": [
    "(4+ 12)"
   ]
  },
  {
   "cell_type": "code",
   "execution_count": 4,
   "id": "e82047b9-d3cc-4833-a74f-1d293c1f9294",
   "metadata": {
    "tags": []
   },
   "outputs": [
    {
     "data": {
      "text/plain": [
       "16"
      ]
     },
     "execution_count": 4,
     "metadata": {},
     "output_type": "execute_result"
    }
   ],
   "source": [
    "4+12"
   ]
  },
  {
   "cell_type": "code",
   "execution_count": 5,
   "id": "6510a789-38b2-483b-9eca-462b67bb7cee",
   "metadata": {
    "tags": []
   },
   "outputs": [
    {
     "name": "stdout",
     "output_type": "stream",
     "text": [
      "just testing shit\n"
     ]
    }
   ],
   "source": [
    "print('just testing shit')"
   ]
  },
  {
   "cell_type": "code",
   "execution_count": null,
   "id": "e939c676-92ba-44d7-828d-91c7afd53c73",
   "metadata": {},
   "outputs": [],
   "source": [
    "print('just testing shit')"
   ]
  },
  {
   "cell_type": "code",
   "execution_count": null,
   "id": "653cc306-9f81-47d5-96e0-e7c94e801a5d",
   "metadata": {},
   "outputs": [],
   "source": [
    "print('just testing shit')"
   ]
  },
  {
   "cell_type": "code",
   "execution_count": null,
   "id": "592afb2c-ce32-4516-aafa-1719a7fcbef3",
   "metadata": {},
   "outputs": [],
   "source": [
    "print('just testing shit')"
   ]
  },
  {
   "cell_type": "code",
   "execution_count": null,
   "id": "b79ca295-f9f8-4511-85ac-8f089eaaf53d",
   "metadata": {},
   "outputs": [],
   "source": [
    "df['feelingsavg'] = df[positive_feelings_in_school].mean(axis=1)"
   ]
  }
 ],
 "metadata": {
  "kernelspec": {
   "display_name": "Python 3",
   "language": "python",
   "name": "python3"
  },
  "language_info": {
   "codemirror_mode": {
    "name": "ipython",
    "version": 3
   },
   "file_extension": ".py",
   "mimetype": "text/x-python",
   "name": "python",
   "nbconvert_exporter": "python",
   "pygments_lexer": "ipython3",
   "version": "3.7.6"
  }
 },
 "nbformat": 4,
 "nbformat_minor": 5
}
