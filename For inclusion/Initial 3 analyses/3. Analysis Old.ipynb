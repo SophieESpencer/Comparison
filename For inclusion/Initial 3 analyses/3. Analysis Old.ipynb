{
 "cells": [
  {
   "cell_type": "markdown",
   "metadata": {
    "tags": []
   },
   "source": [
    "# The Basics"
   ]
  },
  {
   "cell_type": "code",
   "execution_count": 1,
   "metadata": {
    "tags": []
   },
   "outputs": [],
   "source": [
    "import pandas as pd\n",
    "import numpy as np\n",
    "import matplotlib.pyplot as plt\n",
    "import seaborn as sns\n",
    "pd.set_option(\"display.max_columns\", None)\n",
    "pd.set_option(\"display.max_rows\", None)"
   ]
  },
  {
   "cell_type": "code",
   "execution_count": 2,
   "metadata": {
    "scrolled": true,
    "tags": []
   },
   "outputs": [],
   "source": [
    "df= pd.read_excel('cleandataiqr2911.xlsx', index_col=0)"
   ]
  },
  {
   "cell_type": "code",
   "execution_count": 3,
   "metadata": {
    "scrolled": true,
    "tags": []
   },
   "outputs": [],
   "source": [
    "identifier_columns = ['Country','ASBH02A']\n",
    "demographic_info_columns = ['ASBH02A', 'ASBH02B', 'ASBH03A', 'ASBH04', 'ASBH15A', 'ASBH15B', 'ASBH16', 'ASBH17A', 'ASBH17B', 'ASBH18AA', 'ASBH18AB', 'ASBG01', 'ASBG03', 'ASDAGE','MINAGEARRIVAL' ]\n",
    "positive_feelings_in_school = ['ASBG10A', 'ASBG10B','ASBG10C', 'ASBG10D', 'ASBG10E', 'ASBG10F']\n",
    "negativeexperience_in_school_columns = ['ASBG11A', 'ASBG11B', 'ASBG11C', 'ASBG11D', 'ASBG11E', 'ASBG11F', 'ASBG11G', 'ASBG11H', 'ASBG11I', 'ASBG11J']\n",
    "assessment_score_columns = ['ASRREA01', 'ASRREA02', 'ASRREA03', 'ASRREA04', 'ASRREA05', 'ASRLIT01', 'ASRLIT02', 'ASRLIT03', 'ASRLIT04', 'ASRLIT05', 'ASRINF01', 'ASRINF02', 'ASRINF03', 'ASRINF04', 'ASRINF05', 'ASRIIE01', 'ASRIIE02', 'ASRIIE03', 'ASRIIE04', 'ASRIIE05', 'ASRRSI01', 'ASRRSI02', 'ASRRSI03', 'ASRRSI04', 'ASRRSI05']"
   ]
  },
  {
   "cell_type": "markdown",
   "metadata": {
    "tags": []
   },
   "source": [
    " 1: Agree a lot; 2: Agree a little; 3: Disagree a little; 4: Disagree a lot\\\n",
    " \n",
    "ASBG10A\tGEN\\AGREE\\BEING IN SCHOOL\\\n",
    "ASBG10B\tGEN\\AGREE\\SAFE AT SCHOOL\\\n",
    "ASBG10C\tGEN\\AGREE\\BELONG AT SCHOOL\\\n",
    "ASBG10D\tGEN\\AGREE\\TEACHERS ARE FAIR\\\n",
    "ASBG10E\tGEN\\AGREE\\PROUD TO GO TO SCHOOL\\\n",
    "ASBG10F\tGEN\\AGREE\\FRIENDS AT SCHOOL"
   ]
  },
  {
   "cell_type": "markdown",
   "metadata": {
    "tags": []
   },
   "source": [
    " 1: At least once a week; 2: Once or twice a month; 3: A few times a year; 4: Never\n",
    " \n",
    "ASBG11A\tGEN\\HOW OFTEN\\MADE FUN OF\\\n",
    "ASBG11B\tGEN\\HOW OFTEN\\LEFT OUT OF GAMES\\\n",
    "ASBG11C\tGEN\\HOW OFTEN\\SPREADING LIES ABOUT ME\\\n",
    "ASBG11D\tGEN\\HOW OFTEN\\STEALING STH FROM ME\\\n",
    "ASBG11E\tGEN\\HOW OFTEN\\DAMAGED STH OF MINE\\\n",
    "ASBG11F\tGEN\\HOW OFTEN\\HIT OR HURT ME\\\n",
    "ASBG11G\tGEN\\HOW OFTEN\\MADE ME DO\\\n",
    "ASBG11H\tGEN\\HOW OFTEN\\NASTY OF HURTFUL MESSAGES\\\n",
    "ASBG11I\tGEN\\HOW OFTEN\\NASTY OF HURTFUL INFO\\\n",
    "ASBG11J\tGEN\\HOW OFTEN\\THREATENED ME\\"
   ]
  },
  {
   "cell_type": "markdown",
   "metadata": {
    "tags": []
   },
   "source": [
    "# Literacy Test Scores"
   ]
  },
  {
   "cell_type": "code",
   "execution_count": 4,
   "metadata": {
    "scrolled": true
   },
   "outputs": [],
   "source": [
    "reading = ['ASRREA01', 'ASRREA02', 'ASRREA03', 'ASRREA04', 'ASRREA05'] \n",
    "literary_purpose = ['ASRLIT01', 'ASRLIT02', 'ASRLIT03', 'ASRLIT04', 'ASRLIT05']\n",
    "informational_purpose=['ASRINF01', 'ASRINF02', 'ASRINF03', 'ASRINF04', 'ASRINF05']\n",
    "interpreting_process= ['ASRIIE01', 'ASRIIE02', 'ASRIIE03', 'ASRIIE04', 'ASRIIE05']\n",
    "straightforward_process = ['ASRRSI01', 'ASRRSI02', 'ASRRSI03', 'ASRRSI04', 'ASRRSI05']"
   ]
  },
  {
   "cell_type": "code",
   "execution_count": 5,
   "metadata": {
    "scrolled": true
   },
   "outputs": [],
   "source": [
    "# Define the function\n",
    "def calculate_average(df, columns, new_column_name):\n",
    "    \"\"\"\n",
    "    Calculates the mean of the specified columns and adds a new column with the result.\n",
    "    \n",
    "    Parameters:\n",
    "    df (pd.DataFrame): The input DataFrame.\n",
    "    columns (list): The list of column names to calculate the mean.\n",
    "    new_column_name (str): The name of the new column to store the averages.\n",
    "    \n",
    "    Returns:\n",
    "    pd.DataFrame: The DataFrame with the new column added.\n",
    "    \"\"\"\n",
    "    df[new_column_name] = df[columns].mean(axis=1)\n",
    "    return df"
   ]
  },
  {
   "cell_type": "code",
   "execution_count": 6,
   "metadata": {
    "scrolled": true
   },
   "outputs": [],
   "source": [
    "# Calculate the mean of the reading columns\n",
    "df = calculate_average(df, reading, 'reading_avg')\n",
    "df = calculate_average(df, literary_purpose, 'literary_purpose_avg')\n",
    "df = calculate_average(df, informational_purpose, 'informational_purpose_avg')\n",
    "df = calculate_average(df, interpreting_process, 'interpreting_process_avg')\n",
    "df = calculate_average(df, straightforward_process, 'straightforward_process_avg')"
   ]
  },
  {
   "cell_type": "code",
   "execution_count": 7,
   "metadata": {
    "scrolled": true
   },
   "outputs": [],
   "source": [
    "averages = ['reading_avg', 'literary_purpose_avg', 'informational_purpose_avg',\n",
    "       'interpreting_process_avg', 'straightforward_process_avg']"
   ]
  },
  {
   "cell_type": "code",
   "execution_count": 8,
   "metadata": {
    "tags": []
   },
   "outputs": [],
   "source": [
    "df_literacy = df[identifier_columns+averages]"
   ]
  },
  {
   "cell_type": "code",
   "execution_count": 9,
   "metadata": {
    "tags": []
   },
   "outputs": [],
   "source": [
    "pivot_literacy = df_literacy.pivot_table(values=averages, index=identifier_columns, aggfunc='mean')"
   ]
  },
  {
   "cell_type": "markdown",
   "metadata": {
    "jp-MarkdownHeadingCollapsed": true,
    "tags": []
   },
   "source": [
    "## Literacy Bar chart"
   ]
  },
  {
   "cell_type": "code",
   "execution_count": null,
   "metadata": {
    "tags": []
   },
   "outputs": [],
   "source": [
    "df_foreign_born = pivot_literacy[pivot_literacy['ASBH02A']=='No'].drop('ASBH02A', axis=1).melt(id_vars='Country', var_name='Metric', value_name='Value')"
   ]
  },
  {
   "cell_type": "code",
   "execution_count": null,
   "metadata": {
    "tags": []
   },
   "outputs": [],
   "source": [
    "df_native_born = pivot_literacy[pivot_literacy['ASBH02A']=='Yes'].drop('ASBH02A', axis=1).melt(id_vars='Country', var_name='Metric', value_name='Value')"
   ]
  },
  {
   "cell_type": "code",
   "execution_count": null,
   "metadata": {},
   "outputs": [],
   "source": [
    "# Define bar width\n",
    "bar_width = 1\n",
    "n_metrics = df_foreign_born['Metric'].nunique()\n",
    "\n",
    "# Colors for each metric\n",
    "colors = {\n",
    "    'informational_purpose_avg': 'red',\n",
    "    'interpreting_process_avg': 'blue',\n",
    "    'literary_purpose_avg': 'green',\n",
    "    'reading_avg': 'orange',\n",
    "    'straightforward_process_avg': 'purple'\n",
    "}\n",
    "\n",
    "# Create figure and axis\n",
    "fig, ax = plt.subplots(figsize=(14, 8))\n",
    "\n",
    "# Get unique countries and metrics\n",
    "countries = df_foreign_born['Country'].unique()\n",
    "metrics = df_foreign_born['Metric'].unique()\n",
    "\n",
    "# Create x indices for each group of bars\n",
    "indices = np.arange(len(countries)) * (n_metrics + 1)\n",
    "\n",
    "# Plot each group of bars for 'yes' and 'no'\n",
    "for i, metric in enumerate(metrics):\n",
    "    yes_values = df_native_born[df_native_born['Metric'] == metric].set_index('Country').reindex(countries)['Value']\n",
    "    no_values = df_foreign_born[df_foreign_born['Metric'] == metric].set_index('Country').reindex(countries)['Value']\n",
    "    \n",
    "    color = colors[metric]\n",
    "    ax.bar(indices + i * bar_width, yes_values, bar_width, color=color, alpha=0.6)\n",
    "    ax.bar(indices + i * bar_width, no_values, bar_width, color=color, alpha=1.0)\n",
    "\n",
    "# Add labels and title\n",
    "ax.set_xlabel('Country')\n",
    "ax.set_ylabel('Value')\n",
    "ax.set_title('Overlapping Bar Chart by Metric and Country')\n",
    "\n",
    "# Set x-ticks and x-tick labels\n",
    "ax.set_xticks(indices + bar_width * (n_metrics - 1) / 2)\n",
    "ax.set_xticklabels(countries, rotation=45, ha='right')\n",
    "\n",
    "# Create custom legend\n",
    "from matplotlib.patches import Patch\n",
    "legend_handles = [Patch(color=color, label=metric) for metric, color in colors.items()]\n",
    "ax.legend(handles=legend_handles, title='Metrics', bbox_to_anchor=(1.05, 1), loc='upper left')\n",
    "\n",
    "\n",
    "# Show plot\n",
    "plt.tight_layout()\n",
    "plt.show()"
   ]
  },
  {
   "cell_type": "markdown",
   "metadata": {
    "tags": []
   },
   "source": [
    "## Literacy Heat Map"
   ]
  },
  {
   "cell_type": "code",
   "execution_count": null,
   "metadata": {
    "tags": []
   },
   "outputs": [],
   "source": [
    "# Calculate the total average for each row\n",
    "pivot_literacy['MeanTotal'] = pivot_literacy[averages].mean(axis=1)"
   ]
  },
  {
   "cell_type": "markdown",
   "metadata": {},
   "source": [
    "I want to make the below a function so that the variables 'country_avgs' and sorted_index only have values within the function. "
   ]
  },
  {
   "cell_type": "code",
   "execution_count": null,
   "metadata": {},
   "outputs": [],
   "source": [
    "def sort_pivot_table(pivot_table, mean_col, sorter_col, sorter_order):\n",
    "    \"\"\"\n",
    "    Sorts a pivot table based on the mean of a specified column and a custom order for another column.\n",
    "\n",
    "    Parameters:\n",
    "    - pivot_table (pd.DataFrame): The pivot table to sort.\n",
    "    - mean_col (str): Column to calculate the mean for sorting countries.\n",
    "    - sorter_col (str): Column to apply the custom sorting order.\n",
    "    - sorter_order (list): Custom order for the sorter_col.\n",
    "\n",
    "    Returns:\n",
    "    - pd.DataFrame: A sorted pivot table.\n",
    "    \"\"\"\n",
    "    # Sort countries by the total average of mean_col\n",
    "    country_averages = (\n",
    "        pivot_table.groupby('Country')[mean_col]\n",
    "        .mean()\n",
    "        .sort_values(ascending=True)\n",
    "        .index.tolist()\n",
    "    )\n",
    "\n",
    "    # Create a custom sorting order for the index\n",
    "    sorted_index = (\n",
    "        pivot_table.index.to_frame()\n",
    "        .rename(columns={'Country': 'Country_', sorter_col: f'{sorter_col}_'})\n",
    "        .assign(\n",
    "            Country_=lambda df: pd.Categorical(df['Country_'], categories=country_averages, ordered=True),\n",
    "            **{f'{sorter_col}_': lambda df: pd.Categorical(df[f'{sorter_col}_'], categories=sorter_order, ordered=True)}\n",
    "        )\n",
    "        .sort_values(by=['Country_', f'{sorter_col}_'])\n",
    "        .index\n",
    "    )\n",
    "\n",
    "    # Apply the sorted index to the pivot table\n",
    "    return pivot_table.loc[sorted_index]\n"
   ]
  },
  {
   "cell_type": "code",
   "execution_count": null,
   "metadata": {},
   "outputs": [],
   "source": [
    "# Sort countries by the total average of MeanTotal\n",
    "country_averages = (\n",
    "    pivot_literacy.groupby('Country')['MeanTotal']\n",
    "    .mean()\n",
    "    .sort_values(ascending=True)\n",
    "    .index.tolist()\n",
    ")\n",
    "\n",
    "# Define a custom order for the 'ASBH02A' column\n",
    "asbh02a_sorter = ['Yes', 'No']\n",
    "\n",
    "# Create a custom sorting order for the index\n",
    "sorted_index = (\n",
    "    pivot_literacy.index.to_frame()\n",
    "    .rename(columns={'Country': 'Country_', 'ASBH02A': 'ASBH02A_'})\n",
    "    .assign(\n",
    "        Country_=lambda df: pd.Categorical(df['Country_'], categories=country_averages, ordered=True),\n",
    "        ASBH02A_=lambda df: pd.Categorical(df['ASBH02A_'], categories=asbh02a_sorter, ordered=True)\n",
    "    )\n",
    "    .sort_values(by=['Country_', 'ASBH02A_'])\n",
    "    .index\n",
    ")\n",
    "\n",
    "# Apply the sorted index to the pivot table\n",
    "sorted_pivot_literacy = pivot_literacy.loc[sorted_index]"
   ]
  },
  {
   "cell_type": "code",
   "execution_count": null,
   "metadata": {},
   "outputs": [],
   "source": [
    "# Plot the heat map\n",
    "plt.figure(figsize=(10, 8))\n",
    "sns.heatmap(sorted_pivot_literacy, annot=True, cmap='YlGnBu')\n",
    "plt.title('Mean Experience in School Heat Map Sorted by Country and Immigration Status')\n",
    "plt.show()"
   ]
  },
  {
   "cell_type": "code",
   "execution_count": 17,
   "metadata": {
    "tags": []
   },
   "outputs": [],
   "source": [
    "# Create a contingency table\n",
    "contingency_literacy = (\n",
    "    pd.crosstab(\n",
    "        index=[df['ASBH02A'], df['Country']],\n",
    "        columns=df['literacyavg_binned']\n",
    "    )\n",
    "    .reset_index()\n",
    "    .melt(\n",
    "        id_vars=['ASBH02A', 'Country'],\n",
    "        var_name='literacyavg_binned',\n",
    "        value_name='count'\n",
    "    )\n",
    ")\n"
   ]
  },
  {
   "cell_type": "markdown",
   "metadata": {
    "tags": []
   },
   "source": [
    "## Literacy Average Distribution"
   ]
  },
  {
   "cell_type": "code",
   "execution_count": 10,
   "metadata": {
    "tags": []
   },
   "outputs": [],
   "source": [
    "df[\"literacyavg\"] = df[averages].mean(axis=1)"
   ]
  },
  {
   "cell_type": "code",
   "execution_count": 11,
   "metadata": {
    "tags": []
   },
   "outputs": [],
   "source": [
    "df['literacyavg_binned'] = pd.cut(df['literacyavg'], bins=10)"
   ]
  },
  {
   "cell_type": "code",
   "execution_count": 12,
   "metadata": {},
   "outputs": [],
   "source": [
    "# Create a contingency table\n",
    "contingency_literacy = pd.crosstab(\n",
    "    index = [df['ASBH02A'], df['Country']],\n",
    "    columns = df['literacyavg_binned']\n",
    ").reset_index()\n",
    ".melt(\n",
    "    id_vars=['ASBH02A','Country'],\n",
    "    var_name='literacyavg_binned',\n",
    "    value_name='count')"
   ]
  },
  {
   "cell_type": "markdown",
   "metadata": {},
   "source": [
    "### Separated functions"
   ]
  },
  {
   "cell_type": "code",
   "execution_count": 13,
   "metadata": {
    "tags": []
   },
   "outputs": [],
   "source": [
    "def filter_and_prepare_data(data, filter_column, filter_value, drop_column=None):\n",
    "    \"\"\"\n",
    "    Filters the data based on a column value and optionally drops a column.\n",
    "    \n",
    "    Parameters:\n",
    "    - data: pd.DataFrame, the input data.\n",
    "    - filter_column: str, the column to filter on.\n",
    "    - filter_value: str, the value to filter by.\n",
    "    - drop_column: str, optional, a column to drop after filtering.\n",
    "    \n",
    "    Returns:\n",
    "    - pd.DataFrame, the filtered and optionally cleaned data.\n",
    "    \"\"\"\n",
    "    filtered_data = data[data[filter_column] == filter_value]\n",
    "    if drop_column and drop_column in filtered_data.columns:\n",
    "        filtered_data = filtered_data.drop(drop_column, axis=1)\n",
    "    return filtered_data"
   ]
  },
  {
   "cell_type": "code",
   "execution_count": 14,
   "metadata": {
    "tags": []
   },
   "outputs": [],
   "source": [
    "def create_pivot_table(data, index_col, column_col, value_col):\n",
    "    \"\"\"\n",
    "    Creates a pivot table from the filtered data.\n",
    "    \n",
    "    Parameters:\n",
    "    - data: pd.DataFrame, the input data.\n",
    "    - index_col: str, column for the pivot index.\n",
    "    - column_col: str, column for the pivot columns.\n",
    "    - value_col: str, column for the pivot values.\n",
    "    \n",
    "    Returns:\n",
    "    - pd.DataFrame, the pivot table.\n",
    "    \"\"\"\n",
    "    return data.pivot(index=index_col, columns=column_col, values=value_col)"
   ]
  },
  {
   "cell_type": "code",
   "execution_count": 15,
   "metadata": {
    "tags": []
   },
   "outputs": [],
   "source": [
    "def normalize_to_percentages(pivot_table):\n",
    "    \"\"\"\n",
    "    Normalizes pivot table values to percentages.\n",
    "    \n",
    "    Parameters:\n",
    "    - pivot_table: pd.DataFrame, the input pivot table with a \"total\" column.\n",
    "    \n",
    "    Returns:\n",
    "    - pd.DataFrame, the pivot table normalized to percentages.\n",
    "    \"\"\"\n",
    "    pivot_table[\"total\"] = pivot_table.sum(axis=1)\n",
    "    total_column = pivot_table[\"total\"]\n",
    "    normalized_table = pivot_table.div(total_column, axis=0) * 100\n",
    "    return normalized_table.drop(\"total\", axis=1)"
   ]
  },
  {
   "cell_type": "code",
   "execution_count": 16,
   "metadata": {
    "tags": []
   },
   "outputs": [],
   "source": [
    "def melt_and_format_data(pivot_table, id_col, melt_col, value_name):\n",
    "    \"\"\"\n",
    "    Converts a pivot table to a melted format and formats categorical bins.\n",
    "    \n",
    "    Parameters:\n",
    "    - pivot_table: pd.DataFrame, the input pivot table.\n",
    "    - id_col: str, column to use as the identifier in the melted table.\n",
    "    - melt_col: str, the column to melt (e.g., a column from the pivot table).\n",
    "    - value_name: str, name for the values in the melted table.\n",
    "    - bin_order: list of str, ordered categories for the bins.\n",
    "    \n",
    "    Returns:\n",
    "    - pd.DataFrame, the melted and formatted data.\n",
    "    \"\"\"\n",
    "    melted = pivot_table.reset_index().melt(id_vars=id_col, var_name=melt_col, value_name=value_name)\n",
    "    return melted\n"
   ]
  },
  {
   "cell_type": "code",
   "execution_count": 17,
   "metadata": {
    "tags": []
   },
   "outputs": [],
   "source": [
    "def generate_heatmap(data, filter_column, filter_value, index_col, column_col, value_col):\n",
    "    \"\"\"\n",
    "    Generates a heatmap from the data based on filtering, pivoting, and normalizing steps.\n",
    "    \n",
    "    Parameters:\n",
    "    - data: pd.DataFrame, the input data.\n",
    "    - filter_column: str, column to filter on.\n",
    "    - filter_value: str, value to filter by.\n",
    "    - index_col: str, column for the pivot index.\n",
    "    - column_col: str, column for the pivot columns.\n",
    "    - value_col: str, column for the pivot values.\n",
    "    - bin_order: list of str, ordered categories for the bins.\n",
    "    \n",
    "    Returns:\n",
    "    - pd.DataFrame, the final heatmap as a pivot table.\n",
    "    \"\"\"\n",
    "    filtered_data = filter_and_prepare_data(data, filter_column, filter_value, drop_column=filter_column)\n",
    "    pivot_table = create_pivot_table(filtered_data, index_col=index_col, column_col=column_col, value_col=value_col)\n",
    "    normalized_table = normalize_to_percentages(pivot_table)\n",
    "    melted_data = melt_and_format_data(\n",
    "        normalized_table, id_col=index_col, melt_col=column_col, value_name=\"percentage\"\n",
    "    )\n",
    "    heatmap = melted_data.pivot(index=column_col, columns=index_col, values=\"percentage\")\n",
    "    return heatmap\n"
   ]
  },
  {
   "cell_type": "code",
   "execution_count": 18,
   "metadata": {
    "tags": []
   },
   "outputs": [],
   "source": [
    "heatmap_literacy_native_born = generate_heatmap(\n",
    "    data=contingency_literacy,\n",
    "    filter_column='ASBH02A',\n",
    "    filter_value='Yes',\n",
    "    index_col='Country',\n",
    "    column_col='literacyavg_binned',\n",
    "    value_col='count',\n",
    ")\n",
    "\n",
    "heatmap_literacy_foreign_born = generate_heatmap(\n",
    "    data=contingency_literacy,\n",
    "    filter_column='ASBH02A',\n",
    "    filter_value='No',\n",
    "    index_col='Country',\n",
    "    column_col='literacyavg_binned',\n",
    "    value_col='count',\n",
    ")"
   ]
  },
  {
   "cell_type": "code",
   "execution_count": 19,
   "metadata": {
    "tags": []
   },
   "outputs": [
    {
     "data": {
      "image/png": "[encoded data removed]",
      "text/plain": [
       "<Figure size 864x432 with 2 Axes>"
      ]
     },
     "metadata": {
      "needs_background": "light"
     },
     "output_type": "display_data"
    }
   ],
   "source": [
    "# Create a figure and set of subplots\n",
    "fig, axes = plt.subplots(1, 2, figsize=(12, 6))\n",
    "\n",
    "# Plot heatmaps\n",
    "sns.heatmap(heatmap_literacy_native_born, ax=axes[0], cmap='YlOrRd', annot=True, cbar=False)\n",
    "sns.heatmap(heatmap_literacy_foreign_born, ax=axes[1], cmap='YlOrRd', annot= True, cbar=False)\n",
    "\n",
    "# Set titles\n",
    "axes[0].set_title('Born in country')\n",
    "axes[1].set_title('Not born in country')\n",
    "\n",
    "# Show the plot\n",
    "plt.tight_layout()\n",
    "plt.show()"
   ]
  },
  {
   "cell_type": "code",
   "execution_count": null,
   "metadata": {},
   "outputs": [],
   "source": [
    "diff_data = heatmap_literacy_native_born - heatmap_literacy_foreign_born\n",
    "\n",
    "# Plot the difference heatmap\n",
    "sns.heatmap(diff_data, cmap=\"coolwarm\", annot = True, center=0)"
   ]
  },
  {
   "cell_type": "markdown",
   "metadata": {
    "jp-MarkdownHeadingCollapsed": true,
    "tags": []
   },
   "source": [
    "## Literacy Minimum age of arrival"
   ]
  },
  {
   "cell_type": "code",
   "execution_count": null,
   "metadata": {},
   "outputs": [],
   "source": [
    "pivot_minage_literacy = df.pivot_table(values='literacyavg', index=['Country'],columns=['MINAGEARRIVAL'],dropna = False)"
   ]
  },
  {
   "cell_type": "code",
   "execution_count": null,
   "metadata": {
    "tags": []
   },
   "outputs": [],
   "source": [
    "mean_scores_literacy = (\n",
    "        pivot_minage_literacy.groupby(level='Country').mean()\n",
    "        .assign(MeanTotal=lambda df: df.mean(axis=1))\n",
    "        .sort_values(by='MeanTotal', ascending=False).drop(columns='MeanTotal')\n",
    "    )"
   ]
  },
  {
   "cell_type": "code",
   "execution_count": null,
   "metadata": {
    "tags": []
   },
   "outputs": [],
   "source": [
    "# Plot the heat map\n",
    "plt.figure(figsize=(10, 8))\n",
    "sns.heatmap(mean_scores_literacy, annot=True, cmap='YlGnBu')\n",
    "plt.title('Mean score in School Heat Map Sorted by Country and age of arrival in the country')\n",
    "plt.show()"
   ]
  },
  {
   "cell_type": "markdown",
   "metadata": {
    "tags": []
   },
   "source": [
    "# Feelings in School"
   ]
  },
  {
   "cell_type": "markdown",
   "metadata": {
    "tags": []
   },
   "source": [
    "## Feelings Heat Map"
   ]
  },
  {
   "cell_type": "code",
   "execution_count": null,
   "metadata": {
    "scrolled": true
   },
   "outputs": [],
   "source": [
    "df_feelings = df[identifier_columns+positive_feelings_in_school]"
   ]
  },
  {
   "cell_type": "code",
   "execution_count": null,
   "metadata": {
    "scrolled": true
   },
   "outputs": [],
   "source": [
    "pivot_feelings = df_feelings.pivot_table(values=positive_feelings_in_school, index=identifier_columns, aggfunc='mean')"
   ]
  },
  {
   "cell_type": "code",
   "execution_count": null,
   "metadata": {
    "tags": []
   },
   "outputs": [],
   "source": [
    "# Calculate the mean of positive feelings and add it as a new column\n",
    "pivot_feelings['MeanTotal'] = pivot_feelings[positive_feelings_in_school].mean(axis=1)\n",
    "\n",
    "# Sort countries by the total average of MeanTotal\n",
    "country_averages = (\n",
    "    pivot_feelings.groupby('Country')['MeanTotal']\n",
    "    .mean()\n",
    "    .sort_values(ascending=True)\n",
    "    .index.tolist()\n",
    ")\n",
    "\n",
    "# Define a custom order for the 'ASBH02A' column\n",
    "asbh02a_sorter = ['Yes', 'No']\n",
    "\n",
    "# Create a custom sorting order for the index\n",
    "sorted_index = (\n",
    "    pivot_feelings.index.to_frame()\n",
    "    .rename(columns={'Country': 'Country_', 'ASBH02A': 'ASBH02A_'})\n",
    "    .assign(\n",
    "        Country_=lambda df: pd.Categorical(df['Country_'], categories=country_averages, ordered=True),\n",
    "        ASBH02A_=lambda df: pd.Categorical(df['ASBH02A_'], categories=asbh02a_sorter, ordered=True)\n",
    "    )\n",
    "    .sort_values(by=['Country_', 'ASBH02A_'])\n",
    "    .index\n",
    ")\n",
    "\n",
    "# Apply the sorted index to the pivot table\n",
    "sorted_pivot_feelings = pivot_feelings.loc[sorted_index]\n"
   ]
  },
  {
   "cell_type": "code",
   "execution_count": null,
   "metadata": {
    "jupyter": {
     "source_hidden": true
    },
    "tags": []
   },
   "outputs": [],
   "source": [
    "# Plot the heat map\n",
    "plt.figure(figsize=(10, 8))\n",
    "sns.heatmap(sorted_pivot_feelings, annot=True, cmap='YlGnBu')\n",
    "plt.title('Mean Experience in School Heat Map Sorted by Country and Immigration Status')\n",
    "plt.show()"
   ]
  },
  {
   "cell_type": "markdown",
   "metadata": {
    "tags": []
   },
   "source": [
    "## Feelings Average Distribution"
   ]
  },
  {
   "cell_type": "code",
   "execution_count": null,
   "metadata": {
    "tags": []
   },
   "outputs": [],
   "source": [
    "df['feelingsavg'] = df[positive_feelings_in_school].mean(axis=1)"
   ]
  },
  {
   "cell_type": "code",
   "execution_count": null,
   "metadata": {},
   "outputs": [],
   "source": [
    "df['feelingsavg_binned'] = pd.cut(df['feelingsavg'], bins=10)"
   ]
  },
  {
   "cell_type": "code",
   "execution_count": null,
   "metadata": {},
   "outputs": [],
   "source": [
    "# Create a contingency table\n",
    "contingency_feelings = pd.crosstab(index = [df['ASBH02A'], df['Country']],columns=df['feelingsavg_binned'])"
   ]
  },
  {
   "cell_type": "code",
   "execution_count": null,
   "metadata": {},
   "outputs": [],
   "source": [
    "# Convert the contingency table to a format suitable for Plotly\n",
    "contingency_feelings_reset = contingency_feelings.reset_index()\n",
    "contingency_feelings_melted = contingency_feelings_reset.melt(id_vars=['ASBH02A','Country'], var_name='feelingsavg_binned', value_name='count')\n",
    "# Convert Interval objects to strings\n",
    "contingency_feelings_melted['feelingsavg_binned'] = contingency_feelings_melted['feelingsavg_binned'].astype(str)"
   ]
  },
  {
   "cell_type": "code",
   "execution_count": null,
   "metadata": {},
   "outputs": [],
   "source": [
    "df_yes = contingency_feelings_melted[contingency_feelings_melted['ASBH02A'] == 'Yes']"
   ]
  },
  {
   "cell_type": "code",
   "execution_count": null,
   "metadata": {},
   "outputs": [],
   "source": [
    "heatmap_yes = df_yes.pivot(index='Country',columns=\"feelingsavg_binned\",values = \"count\")"
   ]
  },
  {
   "cell_type": "code",
   "execution_count": null,
   "metadata": {},
   "outputs": [],
   "source": [
    "heatmap_yes[\"total\"]= heatmap_yes.sum(axis=1)\n",
    "# Assuming your DataFrame is named df\n",
    "# Copy the total column to a variable, we'll use it for division later\n",
    "total_column_yes = heatmap_yes['total']\n",
    "\n",
    "# Dividing all columns except the 'total' column by the 'total' column of that row\n",
    "df_percentage_yes = heatmap_yes.div(total_column_yes, axis=0) * 100\n",
    "df_percentage_yes = df_percentage_yes.drop(\"total\", axis = 1)\n",
    "# Convert the contingency table to a format suitable for Plotly\n",
    "df_percentage_yes_reset = df_percentage_yes.reset_index()\n",
    "df_percentage__yes_melted = df_percentage_yes_reset.melt(id_vars='Country', var_name='feelingsavg_binned', value_name='percentage')"
   ]
  },
  {
   "cell_type": "code",
   "execution_count": null,
   "metadata": {},
   "outputs": [],
   "source": [
    "# Convert Interval objects to strings\n",
    "df_percentage__yes_melted['feelingsavg_binned'] = df_percentage__yes_melted['feelingsavg_binned'].astype(str)"
   ]
  },
  {
   "cell_type": "code",
   "execution_count": null,
   "metadata": {},
   "outputs": [],
   "source": [
    "# Convert feelingsavg_binned to categorical with the specified order\n",
    "df_percentage__yes_melted['feelingsavg_binned'] = pd.Categorical(df_percentage__yes_melted['feelingsavg_binned'], \n",
    "                                       categories=[\n",
    "                                           '(0.997, 1.3]','(1.3, 1.6]','(1.6, 1.9]','(1.9, 2.2]','(2.2, 2.5]','(2.5, 2.8]','(2.8, 3.1]','(3.1, 3.4]','(3.4, 3.7]','(3.7, 4.0]'], \n",
    "                                       ordered=True)"
   ]
  },
  {
   "cell_type": "code",
   "execution_count": null,
   "metadata": {},
   "outputs": [],
   "source": [
    "heatmap_percent_yes = df_percentage__yes_melted.pivot(index = \"feelingsavg_binned\", columns = \"Country\", values = \"percentage\")"
   ]
  },
  {
   "cell_type": "code",
   "execution_count": null,
   "metadata": {},
   "outputs": [],
   "source": [
    "df_no = contingency_feelings_melted[contingency_feelings_melted['ASBH02A'] == 'No']\n",
    "df_no= df_no.drop('ASBH02A', axis=1)\n",
    "heatmap_no = df_no.pivot(index='Country',columns=\"feelingsavg_binned\",values = \"count\")"
   ]
  },
  {
   "cell_type": "code",
   "execution_count": null,
   "metadata": {},
   "outputs": [],
   "source": [
    "heatmap_no[\"total\"] = heatmap_no.sum(axis=1)\n",
    "# Assuming your DataFrame is named df\n",
    "# Copy the total column to a variable, we'll use it for division later\n",
    "total_column_no = heatmap_no['total']\n",
    "\n",
    "# Dividing all columns except the 'total' column by the 'total' column of that row\n",
    "df_percentage_no = heatmap_no.div(total_column_no, axis=0) * 100\n",
    "df_percentage_no = df_percentage_no.drop(\"total\", axis=1)\n",
    "# Convert the contingency table to a format suitable for Plotly\n",
    "df_percentage_no_reset = df_percentage_no.reset_index()\n",
    "df_percentage_no_melted = df_percentage_no_reset.melt(id_vars='Country', var_name='feelingsavg_binned', value_name='percentage')\n"
   ]
  },
  {
   "cell_type": "code",
   "execution_count": null,
   "metadata": {
    "tags": []
   },
   "outputs": [],
   "source": [
    "# Convert Interval objects to strings\n",
    "df_percentage_no_melted['feelingsavg_binned'] = df_percentage_no_melted['feelingsavg_binned'].astype(str)\n",
    "\n",
    "# Convert feelingsavg_binned to categorical with the specified order\n",
    "# Convert feelingsavg_binned to categorical with the specified order\n",
    "df_percentage_no_melted['feelingsavg_binned'] = pd.Categorical(df_percentage_no_melted['feelingsavg_binned'], \n",
    "                                       categories=[\n",
    "                                           '(0.997, 1.3]','(1.3, 1.6]','(1.6, 1.9]','(1.9, 2.2]','(2.2, 2.5]','(2.5, 2.8]','(2.8, 3.1]','(3.1, 3.4]','(3.4, 3.7]','(3.7, 4.0]'], \n",
    "                                       ordered=True)\n",
    "\n",
    "heatmap_percent_no = df_percentage_no_melted.pivot(index=\"feelingsavg_binned\", columns=\"Country\", values=\"percentage\")\n"
   ]
  },
  {
   "cell_type": "code",
   "execution_count": null,
   "metadata": {
    "tags": []
   },
   "outputs": [],
   "source": [
    "# Create a figure and set of subplots\n",
    "fig, axes = plt.subplots(1, 2, figsize=(12, 6))\n",
    "\n",
    "# Plot heatmaps\n",
    "sns.heatmap(heatmap_percent_yes, ax=axes[0], cmap='YlOrRd', annot=True, cbar=False)\n",
    "sns.heatmap(heatmap_percent_no, ax=axes[1], cmap='YlOrRd', annot= True, cbar=False)\n",
    "\n",
    "# Set titles\n",
    "axes[0].set_title('Born in country')\n",
    "axes[1].set_title('Not born in country')\n",
    "\n",
    "# Show the plot\n",
    "plt.tight_layout()\n",
    "plt.show()"
   ]
  },
  {
   "cell_type": "code",
   "execution_count": null,
   "metadata": {},
   "outputs": [],
   "source": [
    "diff_data = heatmap_percent_yes - heatmap_percent_no\n",
    "\n",
    "# Plot the difference heatmap\n",
    "sns.heatmap(diff_data, cmap=\"coolwarm\", annot = True, center=0)"
   ]
  },
  {
   "cell_type": "markdown",
   "metadata": {
    "tags": []
   },
   "source": [
    "## Minimum age of arrival"
   ]
  },
  {
   "cell_type": "markdown",
   "metadata": {},
   "source": [
    "Now I want to see how age of arrival affects average score. I need to first clean the minagearrival column - adding 'NA' for those who were born in country"
   ]
  },
  {
   "cell_type": "code",
   "execution_count": null,
   "metadata": {
    "tags": []
   },
   "outputs": [],
   "source": [
    "pivot_minage_feelings = df.pivot_table(values='feelingsavg', index=['Country'],columns=['MINAGEARRIVAL'],dropna = False)"
   ]
  },
  {
   "cell_type": "code",
   "execution_count": null,
   "metadata": {
    "tags": []
   },
   "outputs": [],
   "source": [
    "pivot_minage_feelings"
   ]
  },
  {
   "cell_type": "code",
   "execution_count": null,
   "metadata": {
    "tags": []
   },
   "outputs": [],
   "source": [
    "mean_scores_feelings = (\n",
    "        pivot_minage_feelings.groupby(level='Country').mean()\n",
    "        .assign(MeanTotal=lambda df: df.mean(axis=1))\n",
    "        .sort_values(by='MeanTotal', ascending=False).drop(columns='MeanTotal')\n",
    "    )"
   ]
  },
  {
   "cell_type": "code",
   "execution_count": null,
   "metadata": {
    "tags": []
   },
   "outputs": [],
   "source": [
    "# Plot the heat map\n",
    "plt.figure(figsize=(10, 8))\n",
    "sns.heatmap(mean_scores_feelings, annot=True, cmap='YlGnBu')\n",
    "plt.title('Mean score in School Heat Map Sorted by Country and age of arrival in the country')\n",
    "plt.show()"
   ]
  },
  {
   "cell_type": "markdown",
   "metadata": {
    "tags": []
   },
   "source": [
    "# Experience in School"
   ]
  },
  {
   "cell_type": "markdown",
   "metadata": {
    "tags": []
   },
   "source": [
    "## Experience in School Heatmap"
   ]
  },
  {
   "cell_type": "code",
   "execution_count": null,
   "metadata": {
    "scrolled": true
   },
   "outputs": [],
   "source": [
    "df_experience = df[identifier_columns+negativeexperience_in_school_columns]"
   ]
  },
  {
   "cell_type": "code",
   "execution_count": null,
   "metadata": {},
   "outputs": [],
   "source": [
    "pivot_experience = df_experience.pivot_table(values=negativeexperience_in_school_columns, index=identifier_columns, aggfunc='mean')"
   ]
  },
  {
   "cell_type": "code",
   "execution_count": null,
   "metadata": {},
   "outputs": [],
   "source": [
    "# Calculate the total average for each row\n",
    "pivot_experience['MeanTotal'] = pivot_experience[['ASBG11A', 'ASBG11B', 'ASBG11C', 'ASBG11D', 'ASBG11E', 'ASBG11F', 'ASBG11G', 'ASBG11H', 'ASBG11I', 'ASBG11J']].mean(axis=1)\n",
    "\n",
    "# Sort countries by the total average\n",
    "country_averages = pivot_experience.groupby('Country')['MeanTotal'].mean().sort_values(ascending=False).index.tolist()\n",
    "\n",
    "### Create a custom sorter for ASBH02A\n",
    "asbh02a_sorter = ['Yes', 'No']"
   ]
  },
  {
   "cell_type": "code",
   "execution_count": null,
   "metadata": {},
   "outputs": [],
   "source": [
    "# Get the current index as a DataFrame for sorting\n",
    "index_experience = pivot_experience.index.to_frame()"
   ]
  },
  {
   "cell_type": "code",
   "execution_count": null,
   "metadata": {},
   "outputs": [],
   "source": [
    "# Rename the columns to avoid conflict\n",
    "index_experience = index_experience.rename(columns={'Country': 'Country_', 'ASBH02A': 'ASBH02A_'})\n",
    "\n",
    "# Sort the DataFrame first by Country using the sorted_countries and then by ASBH02A using the custom sorter\n",
    "index_experience['Country_'] = pd.Categorical(index_experience['Country_'], categories=country_averages, ordered=True)\n",
    "index_experience['ASBH02A_'] = pd.Categorical(index_experience['ASBH02A_'], categories=asbh02a_sorter, ordered=True)\n",
    "index_experience = index_experience.sort_values(by=['Country_', 'ASBH02A_'])\n",
    "\n",
    "# Reindex the pivot table using the sorted index\n",
    "sorted_pivot_df = pivot_experience.loc[index_experience.index]"
   ]
  },
  {
   "cell_type": "code",
   "execution_count": null,
   "metadata": {},
   "outputs": [],
   "source": [
    "# Plot the heat map\n",
    "plt.figure(figsize=(10, 8))\n",
    "sns.heatmap(sorted_pivot_df, annot=True, cmap='YlGnBu')\n",
    "plt.title('Mean Experience in School Heat Map Sorted by Country and Immigration Status')\n",
    "plt.show()"
   ]
  },
  {
   "cell_type": "markdown",
   "metadata": {},
   "source": [
    " 1: At least once a week; 2: Once or twice a month; 3: A few times a year; 4: Never\n",
    " \n",
    "ASBG11A\tGEN\\HOW OFTEN\\MADE FUN OF\\\n",
    "ASBG11B\tGEN\\HOW OFTEN\\LEFT OUT OF GAMES\\\n",
    "ASBG11C\tGEN\\HOW OFTEN\\SPREADING LIES ABOUT ME\\\n",
    "ASBG11D\tGEN\\HOW OFTEN\\STEALING STH FROM ME\\\n",
    "ASBG11E\tGEN\\HOW OFTEN\\DAMAGED STH OF MINE\\\n",
    "ASBG11F\tGEN\\HOW OFTEN\\HIT OR HURT ME\\\n",
    "ASBG11G\tGEN\\HOW OFTEN\\MADE ME DO\\\n",
    "ASBG11H\tGEN\\HOW OFTEN\\NASTY OF HURTFUL MESSAGES\\\n",
    "ASBG11I\tGEN\\HOW OFTEN\\NASTY OF HURTFUL INFO\\\n",
    "ASBG11J\tGEN\\HOW OFTEN\\THREATENED ME\\"
   ]
  },
  {
   "cell_type": "markdown",
   "metadata": {},
   "source": [
    "darker colours are better"
   ]
  },
  {
   "cell_type": "markdown",
   "metadata": {
    "jp-MarkdownHeadingCollapsed": true,
    "tags": []
   },
   "source": [
    "## Experience Average Distribution"
   ]
  },
  {
   "cell_type": "code",
   "execution_count": null,
   "metadata": {
    "tags": []
   },
   "outputs": [],
   "source": [
    "df['experienceavg'] = df[negativeexperience_in_school_columns].mean(axis=1)"
   ]
  },
  {
   "cell_type": "code",
   "execution_count": null,
   "metadata": {
    "tags": []
   },
   "outputs": [],
   "source": [
    "df['experienceavg_binned'] = pd.cut(df['experienceavg'], bins=10)"
   ]
  },
  {
   "cell_type": "code",
   "execution_count": null,
   "metadata": {
    "tags": []
   },
   "outputs": [],
   "source": [
    "# Create a contingency table\n",
    "contingency_experience = pd.crosstab(index = [df['ASBH02A'], df['Country']],columns=df['experienceavg_binned'])"
   ]
  },
  {
   "cell_type": "code",
   "execution_count": null,
   "metadata": {
    "tags": []
   },
   "outputs": [],
   "source": [
    "# Convert the contingency table to a format suitable for plotting\n",
    "contingency_experience_melted = contingency_experience.reset_index().melt(id_vars=['ASBH02A','Country'], var_name='experienceavg_binned', value_name='count')\n",
    "# Convert Interval objects to strings\n",
    "contingency_experience_melted['experienceavg_binned'] = contingency_experience_melted['experienceavg_binned'].astype(str)"
   ]
  },
  {
   "cell_type": "markdown",
   "metadata": {},
   "source": [
    "### Separated functions"
   ]
  },
  {
   "cell_type": "code",
   "execution_count": null,
   "metadata": {
    "tags": []
   },
   "outputs": [],
   "source": [
    "def filter_and_prepare_data(data, filter_column, filter_value, drop_column=None):\n",
    "    \"\"\"\n",
    "    Filters the data based on a column value and optionally drops a column.\n",
    "    \n",
    "    Parameters:\n",
    "    - data: pd.DataFrame, the input data.\n",
    "    - filter_column: str, the column to filter on.\n",
    "    - filter_value: str, the value to filter by.\n",
    "    - drop_column: str, optional, a column to drop after filtering.\n",
    "    \n",
    "    Returns:\n",
    "    - pd.DataFrame, the filtered and optionally cleaned data.\n",
    "    \"\"\"\n",
    "    filtered_data = data[data[filter_column] == filter_value]\n",
    "    if drop_column and drop_column in filtered_data.columns:\n",
    "        filtered_data = filtered_data.drop(drop_column, axis=1)\n",
    "    return filtered_data"
   ]
  },
  {
   "cell_type": "code",
   "execution_count": null,
   "metadata": {
    "tags": []
   },
   "outputs": [],
   "source": [
    "def create_pivot_table(data, index_col, column_col, value_col):\n",
    "    \"\"\"\n",
    "    Creates a pivot table from the filtered data.\n",
    "    \n",
    "    Parameters:\n",
    "    - data: pd.DataFrame, the input data.\n",
    "    - index_col: str, column for the pivot index.\n",
    "    - column_col: str, column for the pivot columns.\n",
    "    - value_col: str, column for the pivot values.\n",
    "    \n",
    "    Returns:\n",
    "    - pd.DataFrame, the pivot table.\n",
    "    \"\"\"\n",
    "    return data.pivot(index=index_col, columns=column_col, values=value_col)"
   ]
  },
  {
   "cell_type": "code",
   "execution_count": null,
   "metadata": {
    "tags": []
   },
   "outputs": [],
   "source": [
    "def normalize_to_percentages(pivot_table):\n",
    "    \"\"\"\n",
    "    Normalizes pivot table values to percentages.\n",
    "    \n",
    "    Parameters:\n",
    "    - pivot_table: pd.DataFrame, the input pivot table with a \"total\" column.\n",
    "    \n",
    "    Returns:\n",
    "    - pd.DataFrame, the pivot table normalized to percentages.\n",
    "    \"\"\"\n",
    "    pivot_table[\"total\"] = pivot_table.sum(axis=1)\n",
    "    total_column = pivot_table[\"total\"]\n",
    "    normalized_table = pivot_table.div(total_column, axis=0) * 100\n",
    "    return normalized_table.drop(\"total\", axis=1)"
   ]
  },
  {
   "cell_type": "code",
   "execution_count": null,
   "metadata": {
    "tags": []
   },
   "outputs": [],
   "source": [
    "def melt_and_format_data(pivot_table, id_col, melt_col, value_name):\n",
    "    \"\"\"\n",
    "    Converts a pivot table to a melted format and formats categorical bins.\n",
    "    \n",
    "    Parameters:\n",
    "    - pivot_table: pd.DataFrame, the input pivot table.\n",
    "    - id_col: str, column to use as the identifier in the melted table.\n",
    "    - melt_col: str, the column to melt (e.g., a column from the pivot table).\n",
    "    - value_name: str, name for the values in the melted table.\n",
    "    - bin_order: list of str, ordered categories for the bins.\n",
    "    \n",
    "    Returns:\n",
    "    - pd.DataFrame, the melted and formatted data.\n",
    "    \"\"\"\n",
    "    melted = pivot_table.reset_index().melt(id_vars=id_col, var_name=melt_col, value_name=value_name)\n",
    "    return melted\n"
   ]
  },
  {
   "cell_type": "code",
   "execution_count": null,
   "metadata": {
    "tags": []
   },
   "outputs": [],
   "source": [
    "def generate_heatmap(data, filter_column, filter_value, index_col, column_col, value_col):\n",
    "    \"\"\"\n",
    "    Generates a heatmap from the data based on filtering, pivoting, and normalizing steps.\n",
    "    \n",
    "    Parameters:\n",
    "    - data: pd.DataFrame, the input data.\n",
    "    - filter_column: str, column to filter on.\n",
    "    - filter_value: str, value to filter by.\n",
    "    - index_col: str, column for the pivot index.\n",
    "    - column_col: str, column for the pivot columns.\n",
    "    - value_col: str, column for the pivot values.\n",
    "    - bin_order: list of str, ordered categories for the bins.\n",
    "    \n",
    "    Returns:\n",
    "    - pd.DataFrame, the final heatmap as a pivot table.\n",
    "    \"\"\"\n",
    "    filtered_data = filter_and_prepare_data(data, filter_column, filter_value, drop_column=filter_column)\n",
    "    pivot_table = create_pivot_table(filtered_data, index_col=index_col, column_col=column_col, value_col=value_col)\n",
    "    normalized_table = normalize_to_percentages(pivot_table)\n",
    "    melted_data = melt_and_format_data(\n",
    "        normalized_table, id_col=index_col, melt_col=column_col, value_name=\"percentage\"\n",
    "    )\n",
    "    heatmap = melted_data.pivot(index=column_col, columns=index_col, values=\"percentage\")\n",
    "    return heatmap\n"
   ]
  },
  {
   "cell_type": "code",
   "execution_count": null,
   "metadata": {
    "tags": []
   },
   "outputs": [],
   "source": [
    "heatmap_experience_native_born = generate_heatmap(\n",
    "    data=contingency_experience_melted,\n",
    "    filter_column='ASBH02A',\n",
    "    filter_value='Yes',\n",
    "    index_col='Country',\n",
    "    column_col='experienceavg_binned',\n",
    "    value_col='count',\n",
    ")\n",
    "\n",
    "heatmap_experience_foreign_born = generate_heatmap(\n",
    "    data=contingency_experience_melted,\n",
    "    filter_column='ASBH02A',\n",
    "    filter_value='No',\n",
    "    index_col='Country',\n",
    "    column_col='experienceavg_binned',\n",
    "    value_col='count',\n",
    ")"
   ]
  },
  {
   "cell_type": "markdown",
   "metadata": {},
   "source": [
    "#### Plotting"
   ]
  },
  {
   "cell_type": "code",
   "execution_count": null,
   "metadata": {
    "tags": []
   },
   "outputs": [],
   "source": [
    "# Create a figure and set of subplots\n",
    "fig, axes = plt.subplots(1, 2, figsize=(12, 6))\n",
    "\n",
    "# Plot heatmaps\n",
    "sns.heatmap(heatmap_experience_native_born, ax=axes[0], cmap='YlOrRd', annot=True, cbar=False)\n",
    "sns.heatmap(heatmap_experience_foreign_born, ax=axes[1], cmap='YlOrRd', annot= True, cbar=False)\n",
    "\n",
    "# Set titles\n",
    "axes[0].set_title('Born in country')\n",
    "axes[1].set_title('Not born in country')\n",
    "\n",
    "# Show the plot\n",
    "plt.tight_layout()\n",
    "plt.show()"
   ]
  },
  {
   "cell_type": "code",
   "execution_count": null,
   "metadata": {
    "tags": []
   },
   "outputs": [],
   "source": [
    "diff_data = heatmap_experience_native_born - heatmap_experience_foreign_born\n",
    "\n",
    "# Plot the difference heatmap\n",
    "sns.heatmap(diff_data, cmap=\"coolwarm\", annot = True, center=0)"
   ]
  },
  {
   "cell_type": "markdown",
   "metadata": {
    "tags": []
   },
   "source": [
    "## Minimum age of arrival"
   ]
  },
  {
   "cell_type": "markdown",
   "metadata": {},
   "source": [
    "Now I want to see how age of arrival affects average score. I need to first clean the minagearrival column - adding 'NA' for those who were born in country"
   ]
  },
  {
   "cell_type": "code",
   "execution_count": null,
   "metadata": {
    "tags": []
   },
   "outputs": [],
   "source": [
    "pivot_minage_experience = df.pivot_table(values='experienceavg', index=['Country'],columns=['MINAGEARRIVAL'],dropna = False)"
   ]
  },
  {
   "cell_type": "code",
   "execution_count": null,
   "metadata": {
    "tags": []
   },
   "outputs": [],
   "source": [
    "pivot_minage_experience"
   ]
  },
  {
   "cell_type": "code",
   "execution_count": null,
   "metadata": {
    "tags": []
   },
   "outputs": [],
   "source": [
    "mean_scores_test = (\n",
    "        pivot_minage_experience.groupby(level='Country').mean()\n",
    "        .assign(MeanTotal=lambda df: df.mean(axis=1))\n",
    "        .sort_values(by='MeanTotal', ascending=False).drop(columns='MeanTotal')\n",
    "    )"
   ]
  },
  {
   "cell_type": "code",
   "execution_count": null,
   "metadata": {
    "tags": []
   },
   "outputs": [],
   "source": [
    "# Plot the heat map\n",
    "plt.figure(figsize=(10, 8))\n",
    "sns.heatmap(mean_scores_test, annot=True, cmap='YlGnBu')\n",
    "plt.title('Mean score in School Heat Map Sorted by Country and age of arrival in the country')\n",
    "plt.show()"
   ]
  },
  {
   "cell_type": "markdown",
   "metadata": {},
   "source": [
    "Next steps - comparisons with bench marks - through line? \n",
    "Should compare reading scores with the benchmark and can also compare with previous years.\n",
    "If I get data from different dates maybe I can practice the time/date stuff. change asbh02a to immigrant/ non - immigrant"
   ]
  }
 ],
 "metadata": {
  "kernelspec": {
   "display_name": "Python 3",
   "language": "python",
   "name": "python3"
  },
  "language_info": {
   "codemirror_mode": {
    "name": "ipython",
    "version": 3
   },
   "file_extension": ".py",
   "mimetype": "text/x-python",
   "name": "python",
   "nbconvert_exporter": "python",
   "pygments_lexer": "ipython3",
   "version": "3.7.6"
  }
 },
 "nbformat": 4,
 "nbformat_minor": 4
}
