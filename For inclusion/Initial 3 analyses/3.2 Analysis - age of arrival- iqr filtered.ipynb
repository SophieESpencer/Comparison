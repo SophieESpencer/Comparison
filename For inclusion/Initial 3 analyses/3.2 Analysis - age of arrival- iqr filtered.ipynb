{
 "cells": [
  {
   "cell_type": "code",
   "execution_count": 1,
   "metadata": {
    "scrolled": false
   },
   "outputs": [],
   "source": [
    "import pandas as pd\n",
    "import numpy as np\n",
    "import matplotlib.pyplot as plt\n",
    "import seaborn as sns\n",
    "pd.set_option(\"display.max_columns\", None)\n",
    "pd.set_option(\"display.max_rows\", None)"
   ]
  },
  {
   "cell_type": "code",
   "execution_count": 2,
   "metadata": {},
   "outputs": [],
   "source": [
    "df= pd.read_excel('cleandataiqr2911.xlsx', index_col= 0)"
   ]
  },
  {
   "cell_type": "code",
   "execution_count": 3,
   "metadata": {},
   "outputs": [],
   "source": [
    "# Define the function\n",
    "def calculate_average(df, columns, new_column_name):\n",
    "    \"\"\"\n",
    "    Calculates the mean of the specified columns and adds a new column with the result.\n",
    "    \n",
    "    Parameters:\n",
    "    df (pd.DataFrame): The input DataFrame.\n",
    "    columns (list): The list of column names to calculate the mean.\n",
    "    new_column_name (str): The name of the new column to store the averages.\n",
    "    \n",
    "    Returns:\n",
    "    pd.DataFrame: The DataFrame with the new column added.\n",
    "    \"\"\"\n",
    "    df[new_column_name] = df[columns].mean(axis=1)\n",
    "    return df"
   ]
  },
  {
   "cell_type": "code",
   "execution_count": 4,
   "metadata": {},
   "outputs": [],
   "source": [
    "reading = ['ASRREA01', 'ASRREA02', 'ASRREA03', 'ASRREA04', 'ASRREA05'] \n",
    "literary_purpose = ['ASRLIT01', 'ASRLIT02', 'ASRLIT03', 'ASRLIT04', 'ASRLIT05']\n",
    "informational_purpose=['ASRINF01', 'ASRINF02', 'ASRINF03', 'ASRINF04', 'ASRINF05']\n",
    "interpreting_process= ['ASRIIE01', 'ASRIIE02', 'ASRIIE03', 'ASRIIE04', 'ASRIIE05']\n",
    "straightforward_process = ['ASRRSI01', 'ASRRSI02', 'ASRRSI03', 'ASRRSI04', 'ASRRSI05']"
   ]
  },
  {
   "cell_type": "code",
   "execution_count": 5,
   "metadata": {},
   "outputs": [],
   "source": [
    "df = calculate_average(df, reading, 'reading_avg')\n",
    "df = calculate_average(df, literary_purpose, 'literary_purpose_avg')\n",
    "df = calculate_average(df, informational_purpose, 'informational_purpose_avg')\n",
    "df = calculate_average(df, interpreting_process, 'interpreting_process_avg')\n",
    "df = calculate_average(df, straightforward_process, 'straightforward_process_avg')"
   ]
  },
  {
   "cell_type": "code",
   "execution_count": 6,
   "metadata": {},
   "outputs": [],
   "source": [
    "averages = ['reading_avg', 'literary_purpose_avg', 'informational_purpose_avg','interpreting_process_avg', 'straightforward_process_avg']"
   ]
  },
  {
   "cell_type": "code",
   "execution_count": 7,
   "metadata": {},
   "outputs": [],
   "source": [
    "df['avgscore'] = df[averages].mean(axis=1)"
   ]
  },
  {
   "cell_type": "markdown",
   "metadata": {},
   "source": [
    "I want to choose a dataset from the filtered one ( z score etc. ) and then do these correlation thingies for the numeric data. "
   ]
  },
  {
   "cell_type": "code",
   "execution_count": 8,
   "metadata": {},
   "outputs": [],
   "source": [
    "identifier_columns = ['Country','ASBH02A','avgscore']\n",
    "demographic_info_columns = ['ASBH02B', 'ASBH03A', 'ASBH04', 'ASBH15A', 'ASBH15B', 'ASBH16', 'ASBH17A', 'ASBH17B', 'ASBH18AA', 'ASBH18AB', 'ASBG01', 'ASBG03', 'ASDAGE','MINAGEARRIVAL' ]\n",
    "positive_feelings_in_school = ['ASBG10A', 'ASBG10B','ASBG10C', 'ASBG10D', 'ASBG10E', 'ASBG10F']\n",
    "negativeexperience_in_school_columns = ['ASBG11A', 'ASBG11B', 'ASBG11C', 'ASBG11D', 'ASBG11E', 'ASBG11F', 'ASBG11G', 'ASBG11H', 'ASBG11I', 'ASBG11J']\n",
    "assessment_score_columns = ['ASRREA01', 'ASRREA02', 'ASRREA03', 'ASRREA04', 'ASRREA05', 'ASRLIT01', 'ASRLIT02', 'ASRLIT03', 'ASRLIT04', 'ASRLIT05', 'ASRINF01', 'ASRINF02', 'ASRINF03', 'ASRINF04', 'ASRINF05', 'ASRIIE01', 'ASRIIE02', 'ASRIIE03', 'ASRIIE04', 'ASRIIE05', 'ASRRSI01', 'ASRRSI02', 'ASRRSI03', 'ASRRSI04', 'ASRRSI05']\n",
    "averages = ['reading_avg', 'literary_purpose_avg', 'informational_purpose_avg','interpreting_process_avg', 'straightforward_process_avg','avgscore']"
   ]
  },
  {
   "cell_type": "markdown",
   "metadata": {},
   "source": [
    "## Minimum age of arrival"
   ]
  },
  {
   "cell_type": "markdown",
   "metadata": {},
   "source": [
    "Now I want to see how age of arrival affects average score. I need to first clean the minagearrival column - adding 'NA' for those who were born in country"
   ]
  },
  {
   "cell_type": "code",
   "execution_count": 9,
   "metadata": {},
   "outputs": [
    {
     "data": {
      "text/plain": [
       "NaN    38469\n",
       "0.0     1108\n",
       "3.0      852\n",
       "6.0      480\n",
       "8.0      249\n",
       "Name: MINAGEARRIVAL, dtype: int64"
      ]
     },
     "execution_count": 9,
     "metadata": {},
     "output_type": "execute_result"
    }
   ],
   "source": [
    "df['MINAGEARRIVAL'].value_counts(dropna=False)"
   ]
  },
  {
   "cell_type": "code",
   "execution_count": 10,
   "metadata": {},
   "outputs": [],
   "source": [
    "df['MINAGEARRIVAL'] = df['MINAGEARRIVAL'].fillna(-1.0)"
   ]
  },
  {
   "cell_type": "code",
   "execution_count": 11,
   "metadata": {},
   "outputs": [
    {
     "data": {
      "text/plain": [
       "-1.0    38469\n",
       " 0.0     1108\n",
       " 3.0      852\n",
       " 6.0      480\n",
       " 8.0      249\n",
       "Name: MINAGEARRIVAL, dtype: int64"
      ]
     },
     "execution_count": 11,
     "metadata": {},
     "output_type": "execute_result"
    }
   ],
   "source": [
    "df['MINAGEARRIVAL'].value_counts(dropna=False)"
   ]
  },
  {
   "cell_type": "code",
   "execution_count": 12,
   "metadata": {},
   "outputs": [],
   "source": [
    "pivot_minage = df.pivot_table(values='avgscore', index=['Country'],columns=['MINAGEARRIVAL'],dropna = False)"
   ]
  },
  {
   "cell_type": "code",
   "execution_count": 13,
   "metadata": {},
   "outputs": [
    {
     "data": {
      "text/html": [
       "<div>\n",
       "<style scoped>\n",
       "    .dataframe tbody tr th:only-of-type {\n",
       "        vertical-align: middle;\n",
       "    }\n",
       "\n",
       "    .dataframe tbody tr th {\n",
       "        vertical-align: top;\n",
       "    }\n",
       "\n",
       "    .dataframe thead th {\n",
       "        text-align: right;\n",
       "    }\n",
       "</style>\n",
       "<table border=\"1\" class=\"dataframe\">\n",
       "  <thead>\n",
       "    <tr style=\"text-align: right;\">\n",
       "      <th>MINAGEARRIVAL</th>\n",
       "      <th>-1.0</th>\n",
       "      <th>0.0</th>\n",
       "      <th>3.0</th>\n",
       "      <th>6.0</th>\n",
       "      <th>8.0</th>\n",
       "    </tr>\n",
       "    <tr>\n",
       "      <th>Country</th>\n",
       "      <th></th>\n",
       "      <th></th>\n",
       "      <th></th>\n",
       "      <th></th>\n",
       "      <th></th>\n",
       "    </tr>\n",
       "  </thead>\n",
       "  <tbody>\n",
       "    <tr>\n",
       "      <th>Austria</th>\n",
       "      <td>535.931404</td>\n",
       "      <td>524.691549</td>\n",
       "      <td>503.023525</td>\n",
       "      <td>482.467533</td>\n",
       "      <td>472.698753</td>\n",
       "    </tr>\n",
       "    <tr>\n",
       "      <th>Egypt</th>\n",
       "      <td>382.924265</td>\n",
       "      <td>382.087467</td>\n",
       "      <td>360.526565</td>\n",
       "      <td>358.256269</td>\n",
       "      <td>359.496124</td>\n",
       "    </tr>\n",
       "    <tr>\n",
       "      <th>France</th>\n",
       "      <td>522.219901</td>\n",
       "      <td>514.789067</td>\n",
       "      <td>500.251059</td>\n",
       "      <td>487.735549</td>\n",
       "      <td>449.952812</td>\n",
       "    </tr>\n",
       "    <tr>\n",
       "      <th>Germany</th>\n",
       "      <td>546.167948</td>\n",
       "      <td>513.748950</td>\n",
       "      <td>489.432386</td>\n",
       "      <td>491.374898</td>\n",
       "      <td>495.923077</td>\n",
       "    </tr>\n",
       "    <tr>\n",
       "      <th>Iran</th>\n",
       "      <td>423.849517</td>\n",
       "      <td>413.120203</td>\n",
       "      <td>437.669405</td>\n",
       "      <td>450.368901</td>\n",
       "      <td>429.309478</td>\n",
       "    </tr>\n",
       "    <tr>\n",
       "      <th>Jordan</th>\n",
       "      <td>373.134379</td>\n",
       "      <td>381.524723</td>\n",
       "      <td>385.670465</td>\n",
       "      <td>385.830969</td>\n",
       "      <td>372.786823</td>\n",
       "    </tr>\n",
       "    <tr>\n",
       "      <th>Netherlands</th>\n",
       "      <td>544.917812</td>\n",
       "      <td>546.704431</td>\n",
       "      <td>510.434272</td>\n",
       "      <td>532.347393</td>\n",
       "      <td>529.268667</td>\n",
       "    </tr>\n",
       "    <tr>\n",
       "      <th>Sweden</th>\n",
       "      <td>565.960709</td>\n",
       "      <td>547.588860</td>\n",
       "      <td>506.832225</td>\n",
       "      <td>496.426190</td>\n",
       "      <td>486.933911</td>\n",
       "    </tr>\n",
       "    <tr>\n",
       "      <th>Turkey</th>\n",
       "      <td>507.204903</td>\n",
       "      <td>461.440636</td>\n",
       "      <td>438.160717</td>\n",
       "      <td>469.426985</td>\n",
       "      <td>446.103548</td>\n",
       "    </tr>\n",
       "  </tbody>\n",
       "</table>\n",
       "</div>"
      ],
      "text/plain": [
       "MINAGEARRIVAL        -1.0         0.0         3.0         6.0         8.0\n",
       "Country                                                                  \n",
       "Austria        535.931404  524.691549  503.023525  482.467533  472.698753\n",
       "Egypt          382.924265  382.087467  360.526565  358.256269  359.496124\n",
       "France         522.219901  514.789067  500.251059  487.735549  449.952812\n",
       "Germany        546.167948  513.748950  489.432386  491.374898  495.923077\n",
       "Iran           423.849517  413.120203  437.669405  450.368901  429.309478\n",
       "Jordan         373.134379  381.524723  385.670465  385.830969  372.786823\n",
       "Netherlands    544.917812  546.704431  510.434272  532.347393  529.268667\n",
       "Sweden         565.960709  547.588860  506.832225  496.426190  486.933911\n",
       "Turkey         507.204903  461.440636  438.160717  469.426985  446.103548"
      ]
     },
     "execution_count": 13,
     "metadata": {},
     "output_type": "execute_result"
    }
   ],
   "source": [
    "pivot_minage"
   ]
  },
  {
   "cell_type": "code",
   "execution_count": 14,
   "metadata": {},
   "outputs": [],
   "source": [
    "# Step 2: Calculate the mean score for each country\n",
    "country_mean_scores = pivot_minage.groupby(level='Country').mean()\n",
    "\n",
    "# If you want to sum the mean scores across all assessment columns (if there are multiple), you can do:\n",
    "country_mean_scores['MeanTotal'] = country_mean_scores.mean(axis=1)\n",
    "\n",
    "# Sort countries by total values\n",
    "sorted_countries_means = country_mean_scores.sort_values(by='MeanTotal', ascending=False).index\n",
    "\n",
    "### Create a custom sorter for ASBH02A\n",
    "## asbh02a_sorter = ['Yes', 'No']\n",
    "\n",
    "# Get the current index as a DataFrame for sorting\n",
    "index_df = pivot_minage.index.to_frame()\n",
    "\n",
    "# Rename the columns to avoid conflict\n",
    "index_df = index_df.rename(columns={'Country': 'Country_'})\n",
    "\n",
    "# Sort the DataFrame first by Country using the sorted_countries and then by ASBH02A using the custom sorter\n",
    "index_df['Country_'] = pd.Categorical(index_df['Country_'], categories=sorted_countries_means, ordered=True)\n",
    "##index_df['ASBH02A_'] = pd.Categorical(index_df['ASBH02A_'], categories=asbh02a_sorter, ordered=True)\n",
    "index_df = index_df.sort_values(by=['Country_'])\n",
    "\n",
    "# Reindex the pivot table using the sorted index\n",
    "sorted_pivot_df = pivot_minage.loc[index_df.index]"
   ]
  },
  {
   "cell_type": "code",
   "execution_count": 18,
   "metadata": {},
   "outputs": [
    {
     "data": {
      "image/png": "[encoded data removed]",
      "text/plain": [
       "<Figure size 720x576 with 2 Axes>"
      ]
     },
     "metadata": {
      "needs_background": "light"
     },
     "output_type": "display_data"
    }
   ],
   "source": [
    "# Plot the heat map\n",
    "plt.figure(figsize=(10, 8))\n",
    "sns.heatmap(sorted_pivot_df, annot=True,fmt=\".0f\", cmap='YlGnBu')\n",
    "plt.title('Mean score in School Heat Map Sorted by Country and age of arrival in the country')\n",
    "plt.show()"
   ]
  },
  {
   "cell_type": "markdown",
   "metadata": {},
   "source": [
    "Next steps - comparisons with bench marks - through line? \n",
    "Should compare reading scores with the benchmark and can also compare with previous years.\n",
    "If I get data from different dates maybe I can practice the time/date stuff. change asbh02a to immigrant/ non - immigrant"
   ]
  },
  {
   "cell_type": "markdown",
   "metadata": {},
   "source": [
    "Also practice making same graphics with otherprograms"
   ]
  },
  {
   "cell_type": "markdown",
   "metadata": {},
   "source": [
    "There are some differences between this and the unfiltered dataset. Let's see if the filtering also affects the non-academic scores. I'm guessing it will because it is filtering through anomalies and those anomalies can be connected to weird feeling scores. "
   ]
  },
  {
   "cell_type": "code",
   "execution_count": null,
   "metadata": {},
   "outputs": [],
   "source": []
  }
 ],
 "metadata": {
  "kernelspec": {
   "display_name": "Python 3",
   "language": "python",
   "name": "python3"
  },
  "language_info": {
   "codemirror_mode": {
    "name": "ipython",
    "version": 3
   },
   "file_extension": ".py",
   "mimetype": "text/x-python",
   "name": "python",
   "nbconvert_exporter": "python",
   "pygments_lexer": "ipython3",
   "version": "3.7.6"
  }
 },
 "nbformat": 4,
 "nbformat_minor": 4
}
