{
 "cells": [
  {
   "cell_type": "code",
   "execution_count": 1,
   "metadata": {
    "scrolled": true
   },
   "outputs": [],
   "source": [
    "import pandas as pd\n",
    "import numpy as np\n",
    "import matplotlib.pyplot as plt\n",
    "import seaborn as sns\n",
    "pd.set_option(\"display.max_columns\", None)\n",
    "pd.set_option(\"display.max_rows\", None)\n",
    "df= pd.read_excel('dfwavgscores.xlsx')"
   ]
  },
  {
   "cell_type": "code",
   "execution_count": 2,
   "metadata": {
    "scrolled": true
   },
   "outputs": [],
   "source": [
    "demographic_info_columns = ['Country', 'ASBH02A', 'ASBH02B', 'ASBH03A', 'ASBH04', 'ASBH15A', 'ASBH15B', 'ASBH16', 'ASBH17A', 'ASBH17B', 'ASBH18AA', 'ASBH18AB', 'ASBG01', 'ASBG03','MINAGEARRIVAL', 'rounded_ages','ASDAGE','avgscore']"
   ]
  },
  {
   "cell_type": "code",
   "execution_count": 3,
   "metadata": {
    "scrolled": true
   },
   "outputs": [],
   "source": [
    "df_demo = df[demographic_info_columns]"
   ]
  },
  {
   "cell_type": "markdown",
   "metadata": {},
   "source": [
    "## Removing missing values"
   ]
  },
  {
   "cell_type": "markdown",
   "metadata": {},
   "source": [
    "I need to remove missing values for this stuff to actually be interesting. "
   ]
  },
  {
   "cell_type": "code",
   "execution_count": 4,
   "metadata": {
    "scrolled": true
   },
   "outputs": [],
   "source": [
    "pivot_table_test = df_demo.pivot_table(\n",
    "    index=['Country','ASBH02A'],\n",
    "    aggfunc=lambda x: x.isnull().sum(),\n",
    ")"
   ]
  },
  {
   "cell_type": "code",
   "execution_count": 5,
   "metadata": {
    "scrolled": true
   },
   "outputs": [
    {
     "name": "stdout",
     "output_type": "stream",
     "text": [
      "Pivot Table with Percentage of Missing Values:\n",
      "                          ASBG01      ASBG03     ASBH02B   ASBH03A      ASBH04  \\\n",
      "Country     ASBH02A                                                             \n",
      "Austria     No         0.000000    0.886918    0.665188  2.439024    0.221729   \n",
      "            Yes        0.149068    0.521739  100.000000  0.944099    0.993789   \n",
      "Egypt       No         1.413428   13.780919   22.261484  9.540636    5.300353   \n",
      "            Yes        1.286947   12.530052  100.000000  2.149625    2.531467   \n",
      "France      No         2.479339    2.892562    6.611570  2.066116    2.479339   \n",
      "            Yes        1.988511    2.121078  100.000000  3.689792    3.490941   \n",
      "Germany     No        11.616162   12.121212    0.000000  0.000000  100.000000   \n",
      "            Yes        6.344411    7.207596    0.000000  0.000000  100.000000   \n",
      "Iran        No       100.000000  100.000000    0.000000  0.000000  100.000000   \n",
      "            Yes      100.000000  100.000000    0.017483  0.000000  100.000000   \n",
      "Jordan      No         0.204290    2.145046    6.741573  2.962206    0.817160   \n",
      "            Yes        0.145168    3.235172  100.000000  2.447117    1.679801   \n",
      "Netherlands No         1.265823    1.265823   10.126582  2.531646    0.000000   \n",
      "            Yes        0.873138    1.181305  100.000000  0.462250    0.821777   \n",
      "Sweden      No         1.623377    1.948052    1.623377  2.597403    1.298701   \n",
      "            Yes        0.745990    1.491981  100.000000  0.895188    0.671391   \n",
      "Turkey      No       100.000000  100.000000    0.000000  0.000000  100.000000   \n",
      "            Yes      100.000000  100.000000    0.000000  0.000000  100.000000   \n",
      "\n",
      "                        ASBH15A     ASBH15B     ASBH16     ASBH17A  \\\n",
      "Country     ASBH02A                                                  \n",
      "Austria     No        16.629712   13.968958   7.982262   60.310421   \n",
      "            Yes        6.136646    5.167702   5.440994   48.670807   \n",
      "Egypt       No        46.996466   61.484099  10.247350   58.303887   \n",
      "            Yes       28.015839   43.925894   2.135483   42.865224   \n",
      "France      No        26.446281   36.363636  16.528926   43.388430   \n",
      "            Yes        7.423774   16.615113   9.589041   38.820150   \n",
      "Germany     No       100.000000  100.000000   0.000000  100.000000   \n",
      "            Yes      100.000000  100.000000   0.000000  100.000000   \n",
      "Iran        No       100.000000  100.000000   0.000000  100.000000   \n",
      "            Yes      100.000000  100.000000   0.000000  100.000000   \n",
      "Jordan      No        21.859040   39.632278   8.273749   51.481103   \n",
      "            Yes       21.173787   38.324347   5.101618   48.382414   \n",
      "Netherlands No         7.594937   10.126582   6.329114   36.708861   \n",
      "            Yes        2.876220    6.266050   4.982024   40.832049   \n",
      "Sweden      No        21.428571   27.272727  12.012987   49.675325   \n",
      "            Yes        7.832898   11.562850   3.916449   54.494592   \n",
      "Turkey      No       100.000000  100.000000   0.000000  100.000000   \n",
      "            Yes      100.000000  100.000000   0.000000  100.000000   \n",
      "\n",
      "                        ASBH17B    ASBH18AA    ASBH18AB    ASDAGE  \\\n",
      "Country     ASBH02A                                                 \n",
      "Austria     No        65.188470    6.651885    2.882483  0.000000   \n",
      "            Yes       49.217391    4.770186    1.962733  0.000000   \n",
      "Egypt       No        69.611307   13.074205   49.469965  0.000000   \n",
      "            Yes       58.619714   10.309716   40.206477  0.014142   \n",
      "France      No        53.305785    7.024793   26.859504  0.000000   \n",
      "            Yes       42.841361    2.231551   13.256739  0.044189   \n",
      "Germany     No       100.000000  100.000000  100.000000  0.000000   \n",
      "            Yes      100.000000  100.000000  100.000000  0.000000   \n",
      "Iran        No       100.000000  100.000000  100.000000  0.000000   \n",
      "            Yes      100.000000  100.000000  100.000000  0.000000   \n",
      "Jordan      No        65.985700    7.865169   41.675179  0.000000   \n",
      "            Yes       65.532974    8.295313   41.766902  0.000000   \n",
      "Netherlands No        46.835443    2.531646   15.189873  0.000000   \n",
      "            Yes       39.445300    0.462250    7.087827  0.051361   \n",
      "Sweden      No        53.571429    4.545455   18.831169  0.000000   \n",
      "            Yes       50.018650    1.454681    7.609101  0.037300   \n",
      "Turkey      No       100.000000  100.000000  100.000000  0.000000   \n",
      "            Yes      100.000000  100.000000  100.000000  0.000000   \n",
      "\n",
      "                     MINAGEARRIVAL  avgscore  rounded_ages  \n",
      "Country     ASBH02A                                         \n",
      "Austria     No          100.000000       0.0      0.000000  \n",
      "            Yes         100.000000       0.0      0.000000  \n",
      "Egypt       No          100.000000       0.0      0.000000  \n",
      "            Yes         100.000000       0.0      0.014142  \n",
      "France      No          100.000000       0.0      0.000000  \n",
      "            Yes         100.000000       0.0      0.044189  \n",
      "Germany     No            1.010101       0.0      0.000000  \n",
      "            Yes         100.000000       0.0      0.000000  \n",
      "Iran        No           25.000000       0.0      0.000000  \n",
      "            Yes         100.000000       0.0      0.000000  \n",
      "Jordan      No          100.000000       0.0      0.000000  \n",
      "            Yes         100.000000       0.0      0.000000  \n",
      "Netherlands No          100.000000       0.0      0.000000  \n",
      "            Yes         100.000000       0.0      0.051361  \n",
      "Sweden      No          100.000000       0.0      0.000000  \n",
      "            Yes         100.000000       0.0      0.037300  \n",
      "Turkey      No            1.304348       0.0      0.000000  \n",
      "            Yes         100.000000       0.0      0.000000  \n"
     ]
    }
   ],
   "source": [
    "# Calculate the total number of elements in each group\n",
    "total_counts = df_demo.groupby(['Country','ASBH02A']).size()\n",
    "\n",
    "# Calculate the percentage of missing values\n",
    "percentage_missing = pivot_table_test.div(total_counts, axis=0) * 100\n",
    "\n",
    "print(\"Pivot Table with Percentage of Missing Values:\\n\", percentage_missing)"
   ]
  },
  {
   "cell_type": "code",
   "execution_count": 6,
   "metadata": {},
   "outputs": [
    {
     "data": {
      "image/png": "[encoded data removed]",
      "text/plain": [
       "<Figure size 720x432 with 2 Axes>"
      ]
     },
     "metadata": {
      "needs_background": "light"
     },
     "output_type": "display_data"
    }
   ],
   "source": [
    "# Create the heatmap\n",
    "plt.figure(figsize=(10, 6))\n",
    "sns.heatmap(percentage_missing, annot=False, cmap='viridis', fmt='.2f')\n",
    "\n",
    "plt.title('Percentage of Missing Values Heatmap')\n",
    "plt.show()"
   ]
  },
  {
   "cell_type": "markdown",
   "metadata": {},
   "source": [
    "I also need to remove values that are '6', meaning nan."
   ]
  },
  {
   "cell_type": "code",
   "execution_count": 7,
   "metadata": {
    "scrolled": true
   },
   "outputs": [
    {
     "data": {
      "text/plain": [
       "4.0     7199\n",
       "7.0     3747\n",
       "8.0     3086\n",
       "6.0     2898\n",
       "3.0     1883\n",
       "5.0     1285\n",
       "1.0     1009\n",
       "2.0      959\n",
       "9.0      727\n",
       "10.0     212\n",
       "Name: ASBH15A, dtype: int64"
      ]
     },
     "execution_count": 7,
     "metadata": {},
     "output_type": "execute_result"
    }
   ],
   "source": [
    "df_demo['ASBH15A'].value_counts()"
   ]
  },
  {
   "cell_type": "markdown",
   "metadata": {},
   "source": [
    "10 is not applicable - remove?"
   ]
  },
  {
   "cell_type": "code",
   "execution_count": 8,
   "metadata": {
    "scrolled": true
   },
   "outputs": [
    {
     "data": {
      "text/plain": [
       "4.0     6447\n",
       "7.0     3019\n",
       "8.0     2614\n",
       "6.0     2570\n",
       "3.0     1725\n",
       "5.0     1163\n",
       "1.0     1025\n",
       "2.0      846\n",
       "9.0      619\n",
       "10.0     235\n",
       "Name: ASBH15B, dtype: int64"
      ]
     },
     "execution_count": 8,
     "metadata": {},
     "output_type": "execute_result"
    }
   ],
   "source": [
    "df_demo['ASBH15B'].value_counts()"
   ]
  },
  {
   "cell_type": "markdown",
   "metadata": {},
   "source": [
    "hope for level of education - child"
   ]
  },
  {
   "cell_type": "code",
   "execution_count": 9,
   "metadata": {},
   "outputs": [
    {
     "data": {
      "text/plain": [
       "6.0    16120\n",
       "5.0    10986\n",
       "4.0     4586\n",
       "2.0     4469\n",
       "3.0     2411\n",
       "1.0     1071\n",
       "9.0      242\n",
       "Name: ASBH16, dtype: int64"
      ]
     },
     "execution_count": 9,
     "metadata": {},
     "output_type": "execute_result"
    }
   ],
   "source": [
    "df_demo['ASBH16'].value_counts()"
   ]
  },
  {
   "cell_type": "markdown",
   "metadata": {},
   "source": [
    "Let's drop all the values that have 9s - omitted. I'm not sure if this is really what I want to do but let's see. "
   ]
  },
  {
   "cell_type": "code",
   "execution_count": 10,
   "metadata": {},
   "outputs": [
    {
     "data": {
      "text/plain": [
       "(41365, 18)"
      ]
     },
     "execution_count": 10,
     "metadata": {},
     "output_type": "execute_result"
    }
   ],
   "source": [
    "df_demo.shape "
   ]
  },
  {
   "cell_type": "code",
   "execution_count": 11,
   "metadata": {},
   "outputs": [
    {
     "data": {
      "text/plain": [
       "(40810, 18)"
      ]
     },
     "execution_count": 11,
     "metadata": {},
     "output_type": "execute_result"
    }
   ],
   "source": [
    "# Columns to check\n",
    "columns_to_check = ['ASBH02A','ASBH02B','ASBH03A','ASBH04','ASBH16','ASBH18AA','ASBH18AB']\n",
    "\n",
    "# Drop rows where any of the specified columns have a value of 9.0\n",
    "condition = (df_demo[columns_to_check] != 9.0).all(axis=1)\n",
    "df_cleaned = df_demo.loc[condition]\n",
    "df_cleaned.shape"
   ]
  },
  {
   "cell_type": "code",
   "execution_count": 12,
   "metadata": {},
   "outputs": [
    {
     "data": {
      "text/plain": [
       "(40810, 18)"
      ]
     },
     "execution_count": 12,
     "metadata": {},
     "output_type": "execute_result"
    }
   ],
   "source": [
    "# Columns to check\n",
    "columns_to_check2 = ['ASBH15A','ASBH15B','ASBH17A','ASBH17B']\n",
    "\n",
    "# Drop rows where any of the specified columns have a value of 999.0\n",
    "condition = (df_cleaned[columns_to_check2] != 999.0).all(axis=1)\n",
    "df_cleaned2 = df_cleaned.loc[condition]\n",
    "df_cleaned2.shape"
   ]
  },
  {
   "cell_type": "markdown",
   "metadata": {},
   "source": [
    "let's look at the columns that all countries have answers for - 02B - age when arrived in country and 3a speaking lang of test before school? check this!"
   ]
  },
  {
   "cell_type": "markdown",
   "metadata": {},
   "source": [
    "I need to do some more cleaning if I'm getting results like this! Should not have yesses, and I guess I didn't change all results to ordinal...."
   ]
  },
  {
   "cell_type": "markdown",
   "metadata": {},
   "source": [
    "Again I want to put the yesses on top of the nos. And do I want to arange the order?"
   ]
  },
  {
   "cell_type": "markdown",
   "metadata": {},
   "source": [
    "Let's do a pivot adding the lang of test column to the index. "
   ]
  },
  {
   "cell_type": "markdown",
   "metadata": {},
   "source": [
    "## Minimum age of arrival"
   ]
  },
  {
   "cell_type": "markdown",
   "metadata": {},
   "source": [
    "Now I want to see how age of arrival affects average score. I need to first clean the minagearrival column - adding 'NA' for those who were born in country"
   ]
  },
  {
   "cell_type": "code",
   "execution_count": 14,
   "metadata": {},
   "outputs": [
    {
     "data": {
      "text/plain": [
       "NaN    40349\n",
       "0.0      162\n",
       "3.0      143\n",
       "6.0      102\n",
       "8.0       54\n",
       "Name: MINAGEARRIVAL, dtype: int64"
      ]
     },
     "execution_count": 14,
     "metadata": {},
     "output_type": "execute_result"
    }
   ],
   "source": [
    "df_cleaned2['MINAGEARRIVAL'].value_counts(dropna=False)"
   ]
  },
  {
   "cell_type": "code",
   "execution_count": 15,
   "metadata": {},
   "outputs": [
    {
     "data": {
      "text/plain": [
       "NaN                         25233\n",
       "6                           12935\n",
       "Younger than 3 years old      928\n",
       "3 to 5 years old              692\n",
       "6 to 7 years old              375\n",
       "8 years old or older          186\n",
       "1                             162\n",
       "2                             143\n",
       "3                             102\n",
       "4                              54\n",
       "Name: ASBH02B, dtype: int64"
      ]
     },
     "execution_count": 15,
     "metadata": {},
     "output_type": "execute_result"
    }
   ],
   "source": [
    "df_cleaned2['ASBH02B'].value_counts(dropna = False)"
   ]
  },
  {
   "cell_type": "code",
   "execution_count": 16,
   "metadata": {},
   "outputs": [],
   "source": [
    "df_cleaned2['MINAGEARRIVAL'] = df_cleaned2['MINAGEARRIVAL'].fillna('NA')"
   ]
  },
  {
   "cell_type": "code",
   "execution_count": 17,
   "metadata": {},
   "outputs": [
    {
     "data": {
      "text/plain": [
       "NA     40349\n",
       "0.0      162\n",
       "3.0      143\n",
       "6.0      102\n",
       "8.0       54\n",
       "Name: MINAGEARRIVAL, dtype: int64"
      ]
     },
     "execution_count": 17,
     "metadata": {},
     "output_type": "execute_result"
    }
   ],
   "source": [
    "df_cleaned2['MINAGEARRIVAL'].value_counts(dropna=False)"
   ]
  },
  {
   "cell_type": "code",
   "execution_count": 18,
   "metadata": {},
   "outputs": [],
   "source": [
    "def populate_column(row):\n",
    "    if row ['ASBH02B'] == 6:\n",
    "        return 'NA'\n",
    "    elif row['ASBH02B'] == 'Younger than 3 years old':\n",
    "        return 0\n",
    "    elif row['ASBH02B'] == '3 to 5 years old':\n",
    "        return 3\n",
    "    elif row['ASBH02B'] == '6 to 7 years old':\n",
    "        return 6\n",
    "    elif row['ASBH02B'] == '8 years old or older':\n",
    "        return 8\n",
    "    else:\n",
    "        return row['MINAGEARRIVAL']  \n",
    "\n",
    "# Apply the function to each row\n",
    "df_cleaned2['MINAGEARRIVAL'] = df_cleaned2.apply(populate_column, axis=1)"
   ]
  },
  {
   "cell_type": "code",
   "execution_count": 19,
   "metadata": {},
   "outputs": [
    {
     "data": {
      "text/plain": [
       "NA     38168\n",
       "0.0     1090\n",
       "3.0      835\n",
       "6.0      477\n",
       "8.0      240\n",
       "Name: MINAGEARRIVAL, dtype: int64"
      ]
     },
     "execution_count": 19,
     "metadata": {},
     "output_type": "execute_result"
    }
   ],
   "source": [
    "df_cleaned2['MINAGEARRIVAL'].value_counts()"
   ]
  },
  {
   "cell_type": "code",
   "execution_count": 20,
   "metadata": {},
   "outputs": [],
   "source": [
    "df_cleaned2.to_excel('dfdemocleaned.xlsx')"
   ]
  },
  {
   "cell_type": "code",
   "execution_count": null,
   "metadata": {},
   "outputs": [],
   "source": []
  }
 ],
 "metadata": {
  "kernelspec": {
   "display_name": "Python 3",
   "language": "python",
   "name": "python3"
  },
  "language_info": {
   "codemirror_mode": {
    "name": "ipython",
    "version": 3
   },
   "file_extension": ".py",
   "mimetype": "text/x-python",
   "name": "python",
   "nbconvert_exporter": "python",
   "pygments_lexer": "ipython3",
   "version": "3.7.6"
  }
 },
 "nbformat": 4,
 "nbformat_minor": 4
}
