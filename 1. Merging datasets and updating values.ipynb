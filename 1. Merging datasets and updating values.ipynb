{
 "cells": [
  {
   "cell_type": "code",
   "execution_count": 1,
   "metadata": {
    "scrolled": true
   },
   "outputs": [],
   "source": [
    "import pandas as pd\n",
    "import numpy as np\n",
    "pd.set_option(\"display.max_columns\", None)\n",
    "pd.set_option(\"display.max_rows\", None)"
   ]
  },
  {
   "cell_type": "code",
   "execution_count": 2,
   "metadata": {},
   "outputs": [],
   "source": [
    "TurkeyHC = pd.read_excel(\"ASHTURR5.xlsx\")\n",
    "AustriaHC = pd.read_excel(\"ASHAUTR5.xlsx\")\n",
    "GermanyHC = pd.read_excel(\"ASHDEUR5.xlsx\")\n",
    "EgyptHC = pd.read_excel(\"ASHEGYR5.xlsx\")\n",
    "FranceHC = pd.read_excel(\"ASHFRAR5.xlsx\")\n",
    "IranHC = pd.read_excel(\"ASHIRNR5.xlsx\")\n",
    "JordanHC = pd.read_excel(\"ASHJORR5.xlsx\")\n",
    "NetherlandsHC = pd.read_excel(\"ASHNLDR5.xlsx\")\n",
    "SwedenHC = pd.read_excel(\"ASHSWER5.xlsx\")"
   ]
  },
  {
   "cell_type": "markdown",
   "metadata": {},
   "source": [
    "HC is the home context data. This is a questionnaire filled in by the parents of each student. It contains crucial information on the immigration status of students and the languages they speak."
   ]
  },
  {
   "cell_type": "code",
   "execution_count": 3,
   "metadata": {
    "scrolled": true
   },
   "outputs": [],
   "source": [
    "HCdf = pd.concat([TurkeyHC, AustriaHC, GermanyHC, EgyptHC, FranceHC, IranHC, JordanHC, NetherlandsHC, SwedenHC])"
   ]
  },
  {
   "cell_type": "code",
   "execution_count": 4,
   "metadata": {},
   "outputs": [
    {
     "name": "stdout",
     "output_type": "stream",
     "text": [
      "<class 'pandas.core.frame.DataFrame'>\n",
      "Int64Index: 50367 entries, 0 to 5174\n",
      "Columns: 118 entries, IDCNTRY to SCOPE\n",
      "dtypes: float64(8), int64(6), object(104)\n",
      "memory usage: 45.7+ MB\n"
     ]
    }
   ],
   "source": [
    "HCdf.info()"
   ]
  },
  {
   "cell_type": "markdown",
   "metadata": {},
   "source": [
    "It is interesting here that when the dataframes were concatenated the Dtype of the columns changed from int to object. I believe this is because the data for some countries has been inputted as strings and for other countries as int. "
   ]
  },
  {
   "cell_type": "code",
   "execution_count": 5,
   "metadata": {},
   "outputs": [],
   "source": [
    "HCcolumns_to_keep = ['IDCNTRY','IDSTUD','ASBH02A','ASBH02B','ASBH03A','ASBH04', 'ASBH15A','ASBH15B','ASBH16','ASBH17A','ASBH17B','ASBH18AA','ASBH18AB']"
   ]
  },
  {
   "cell_type": "code",
   "execution_count": 7,
   "metadata": {},
   "outputs": [],
   "source": [
    "HCdf = HCdf[HCcolumns_to_keep]"
   ]
  },
  {
   "cell_type": "code",
   "execution_count": 8,
   "metadata": {},
   "outputs": [
    {
     "name": "stdout",
     "output_type": "stream",
     "text": [
      "<class 'pandas.core.frame.DataFrame'>\n",
      "Int64Index: 50367 entries, 0 to 5174\n",
      "Data columns (total 13 columns):\n",
      " #   Column    Non-Null Count  Dtype \n",
      "---  ------    --------------  ----- \n",
      " 0   IDCNTRY   50367 non-null  int64 \n",
      " 1   IDSTUD    50367 non-null  int64 \n",
      " 2   ASBH02A   41503 non-null  object\n",
      " 3   ASBH02B   16269 non-null  object\n",
      " 4   ASBH03A   41179 non-null  object\n",
      " 5   ASBH04    41231 non-null  object\n",
      " 6   ASBH15A   37405 non-null  object\n",
      " 7   ASBH15B   34597 non-null  object\n",
      " 8   ASBH16    40406 non-null  object\n",
      " 9   ASBH17A   36503 non-null  object\n",
      " 10  ASBH17B   32361 non-null  object\n",
      " 11  ASBH18AA  40161 non-null  object\n",
      " 12  ASBH18AB  35131 non-null  object\n",
      "dtypes: int64(2), object(11)\n",
      "memory usage: 5.4+ MB\n"
     ]
    }
   ],
   "source": [
    "HCdf.info()"
   ]
  },
  {
   "cell_type": "markdown",
   "metadata": {},
   "source": [
    "SC is the Student Context data which is a questionnaire filled in by the students themselves as well as some totals on their achievement in the test. "
   ]
  },
  {
   "cell_type": "code",
   "execution_count": 9,
   "metadata": {
    "scrolled": true
   },
   "outputs": [],
   "source": [
    "TurkeySC = pd.read_excel(\"ASGTURR5.xlsx\")\n",
    "AustriaSC = pd.read_excel(\"ASGAUTR5.xlsx\")\n",
    "EgyptSC = pd.read_excel(\"ASGEGYR5.xlsx\")\n",
    "FranceSC = pd.read_excel(\"ASGFRAR5.xlsx\")\n",
    "IranSC = pd.read_excel(\"ASGIRNR5.xlsx\")\n",
    "JordanSC = pd.read_excel(\"ASGJORR5.xlsx\")\n",
    "NetherlandsSC = pd.read_excel(\"ASGNLDR5.xlsx\")\n",
    "SwedenSC = pd.read_excel(\"ASGSWER5.xlsx\")\n",
    "GermanySC = pd.read_excel(\"ASGDEUR5.xlsx\")"
   ]
  },
  {
   "cell_type": "code",
   "execution_count": 10,
   "metadata": {
    "scrolled": true
   },
   "outputs": [],
   "source": [
    "SCdf = pd.concat([TurkeySC, AustriaSC, EgyptSC, FranceSC, IranSC, JordanSC, NetherlandsSC, SwedenSC, GermanySC])"
   ]
  },
  {
   "cell_type": "code",
   "execution_count": 11,
   "metadata": {},
   "outputs": [
    {
     "name": "stdout",
     "output_type": "stream",
     "text": [
      "'IDCNTRY', 'IDPOP', 'IDGRADER', 'IDGRADE', 'WAVE', 'IDSCHOOL', 'IDCLASS', 'IDSTUD', 'ITSEX', 'ITADMINI', 'LCID_SA', 'LCID_SQ', 'ITLANG_SA', 'ITLANG_SQ', 'IDBOOK', 'ASBG01', 'ASBG03', 'ASBG04', 'ASBG05A', 'ASBG05B', 'ASBG05C', 'ASBG05D', 'ASBG05E', 'ASBG05F', 'ASBG05G', 'ASBG05H', 'ASBG05I', 'ASBG05J', 'ASBG05K', 'ASBG06', 'ASBG07A', 'ASBG07B', 'ASBG08A', 'ASBG08B', 'ASBG09A', 'ASBG09B', 'ASBG09C', 'ASBG09D', 'ASBG09E', 'ASBG09F', 'ASBG09G', 'ASBG09H', 'ASBG10A', 'ASBG10B', 'ASBG10C', 'ASBG10D', 'ASBG10E', 'ASBG10F', 'ASBG11A', 'ASBG11B', 'ASBG11C', 'ASBG11D', 'ASBG11E', 'ASBG11F', 'ASBG11G', 'ASBG11H', 'ASBG11I', 'ASBG11J', 'ASBR01A', 'ASBR01B', 'ASBR01C', 'ASBR01D', 'ASBR01E', 'ASBR01F', 'ASBR01G', 'ASBR01H', 'ASBR01I', 'ASBR02A', 'ASBR02B', 'ASBR02C', 'ASBR02D', 'ASBR02E', 'ASBR03A', 'ASBR03B', 'ASBR03C', 'ASBR04', 'ASBR05', 'ASBR06A', 'ASBR06B', 'ASBR07A', 'ASBR07B', 'ASBR07C', 'ASBR07D', 'ASBR07E', 'ASBR07F', 'ASBR07G', 'ASBR07H', 'ASBR08A', 'ASBR08B', 'ASBR08C', 'ASBR08D', 'ASBR08E', 'ASBR08F', 'ASDAGE', 'HOUWGT', 'TOTWGT', 'SENWGT', 'WGTADJ1', 'WGTADJ2', 'WGTADJ3', 'WGTFAC1', 'WGTFAC2', 'WGTFAC3', 'JKREP', 'JKZONE', 'ASRREA01', 'ASRREA02', 'ASRREA03', 'ASRREA04', 'ASRREA05', 'ASRLIT01', 'ASRLIT02', 'ASRLIT03', 'ASRLIT04', 'ASRLIT05', 'ASRINF01', 'ASRINF02', 'ASRINF03', 'ASRINF04', 'ASRINF05', 'ASRIIE01', 'ASRIIE02', 'ASRIIE03', 'ASRIIE04', 'ASRIIE05', 'ASRRSI01', 'ASRRSI02', 'ASRRSI03', 'ASRRSI04', 'ASRRSI05', 'ASRIBM01', 'ASRIBM02', 'ASRIBM03', 'ASRIBM04', 'ASRIBM05', 'ASBGSEC', 'ASDGSEC', 'ASBGSSB', 'ASDGSSB', 'ASBGSB', 'ASDGSB', 'ASBGERL', 'ASDGERL', 'ASBGDRL', 'ASDGDRL', 'ASBGSLR', 'ASDGSLR', 'ASBGHRL', 'ASDGHRL', 'ASBGSCR', 'ASDGSCR', 'ASDG05S', 'ASDRLOWP', 'VERSION', 'SCOPE'\n"
     ]
    }
   ],
   "source": [
    "column_list = SCdf.columns.to_list()\n",
    "# Join the list into a single string separated by ', '\n",
    "# Format each column name with quotes\n",
    "formatted_columns = ', '.join(f\"'{col}'\" for col in column_list)\n",
    "\n",
    "# Print the formatted string\n",
    "print(formatted_columns)"
   ]
  },
  {
   "cell_type": "code",
   "execution_count": 12,
   "metadata": {},
   "outputs": [],
   "source": [
    "SCdemographic_info_columns = ['IDCNTRY','IDSTUD','ASBG01', 'ASBG03']"
   ]
  },
  {
   "cell_type": "code",
   "execution_count": 13,
   "metadata": {},
   "outputs": [],
   "source": [
    "SCexperience_in_school_columns = ['ASBG10A', 'ASBG10B', 'ASBG10C', 'ASBG10D', 'ASBG10E', 'ASBG10F', 'ASBG11A', 'ASBG11B', 'ASBG11C', 'ASBG11D', 'ASBG11E', 'ASBG11F', 'ASBG11G', 'ASBG11H', 'ASBG11I', 'ASBG11J']"
   ]
  },
  {
   "cell_type": "code",
   "execution_count": 14,
   "metadata": {},
   "outputs": [],
   "source": [
    "SCassessment_score_columns = ['ASRREA01', 'ASRREA02', 'ASRREA03', 'ASRREA04', 'ASRREA05', 'ASRLIT01', 'ASRLIT02', 'ASRLIT03', 'ASRLIT04', 'ASRLIT05', 'ASRINF01', 'ASRINF02', 'ASRINF03', 'ASRINF04', 'ASRINF05', 'ASRIIE01', 'ASRIIE02', 'ASRIIE03', 'ASRIIE04', 'ASRIIE05', 'ASRRSI01', 'ASRRSI02', 'ASRRSI03', 'ASRRSI04', 'ASRRSI05']"
   ]
  },
  {
   "cell_type": "code",
   "execution_count": 18,
   "metadata": {},
   "outputs": [],
   "source": [
    "allSCcolumns = SCdemographic_info_columns + SCexperience_in_school_columns +SCassessment_score_columns"
   ]
  },
  {
   "cell_type": "code",
   "execution_count": 19,
   "metadata": {},
   "outputs": [],
   "source": [
    "SCdf = SCdf[allSCcolumns]"
   ]
  },
  {
   "cell_type": "code",
   "execution_count": 20,
   "metadata": {},
   "outputs": [
    {
     "name": "stdout",
     "output_type": "stream",
     "text": [
      "<class 'pandas.core.frame.DataFrame'>\n",
      "Int64Index: 50367 entries, 0 to 4610\n",
      "Data columns (total 45 columns):\n",
      " #   Column    Non-Null Count  Dtype  \n",
      "---  ------    --------------  -----  \n",
      " 0   IDCNTRY   50367 non-null  int64  \n",
      " 1   IDSTUD    50367 non-null  int64  \n",
      " 2   ASBG01    49428 non-null  object \n",
      " 3   ASBG03    48168 non-null  object \n",
      " 4   ASBG10A   48311 non-null  object \n",
      " 5   ASBG10B   48077 non-null  object \n",
      " 6   ASBG10C   47893 non-null  object \n",
      " 7   ASBG10D   47822 non-null  object \n",
      " 8   ASBG10E   47844 non-null  object \n",
      " 9   ASBG10F   47945 non-null  object \n",
      " 10  ASBG11A   47967 non-null  object \n",
      " 11  ASBG11B   47756 non-null  object \n",
      " 12  ASBG11C   47634 non-null  object \n",
      " 13  ASBG11D   47497 non-null  object \n",
      " 14  ASBG11E   47543 non-null  object \n",
      " 15  ASBG11F   47843 non-null  object \n",
      " 16  ASBG11G   47707 non-null  object \n",
      " 17  ASBG11H   47701 non-null  object \n",
      " 18  ASBG11I   47647 non-null  object \n",
      " 19  ASBG11J   47613 non-null  object \n",
      " 20  ASRREA01  50367 non-null  float64\n",
      " 21  ASRREA02  50367 non-null  float64\n",
      " 22  ASRREA03  50367 non-null  float64\n",
      " 23  ASRREA04  50367 non-null  float64\n",
      " 24  ASRREA05  50367 non-null  float64\n",
      " 25  ASRLIT01  50367 non-null  float64\n",
      " 26  ASRLIT02  50367 non-null  float64\n",
      " 27  ASRLIT03  50367 non-null  float64\n",
      " 28  ASRLIT04  50367 non-null  float64\n",
      " 29  ASRLIT05  50367 non-null  float64\n",
      " 30  ASRINF01  50367 non-null  float64\n",
      " 31  ASRINF02  50367 non-null  float64\n",
      " 32  ASRINF03  50367 non-null  float64\n",
      " 33  ASRINF04  50367 non-null  float64\n",
      " 34  ASRINF05  50367 non-null  float64\n",
      " 35  ASRIIE01  50367 non-null  float64\n",
      " 36  ASRIIE02  50367 non-null  float64\n",
      " 37  ASRIIE03  50367 non-null  float64\n",
      " 38  ASRIIE04  50367 non-null  float64\n",
      " 39  ASRIIE05  50367 non-null  float64\n",
      " 40  ASRRSI01  50367 non-null  float64\n",
      " 41  ASRRSI02  50367 non-null  float64\n",
      " 42  ASRRSI03  50367 non-null  float64\n",
      " 43  ASRRSI04  50367 non-null  float64\n",
      " 44  ASRRSI05  50367 non-null  float64\n",
      "dtypes: float64(25), int64(2), object(18)\n",
      "memory usage: 17.7+ MB\n"
     ]
    }
   ],
   "source": [
    "SCdf.info()"
   ]
  },
  {
   "cell_type": "code",
   "execution_count": 21,
   "metadata": {
    "scrolled": true
   },
   "outputs": [],
   "source": [
    "df = pd.merge(HCdf, SCdf, on=None)"
   ]
  },
  {
   "cell_type": "code",
   "execution_count": 22,
   "metadata": {},
   "outputs": [
    {
     "name": "stdout",
     "output_type": "stream",
     "text": [
      "<class 'pandas.core.frame.DataFrame'>\n",
      "Int64Index: 50367 entries, 0 to 50366\n",
      "Data columns (total 56 columns):\n",
      " #   Column    Non-Null Count  Dtype  \n",
      "---  ------    --------------  -----  \n",
      " 0   IDCNTRY   50367 non-null  int64  \n",
      " 1   IDSTUD    50367 non-null  int64  \n",
      " 2   ASBH02A   41503 non-null  object \n",
      " 3   ASBH02B   16269 non-null  object \n",
      " 4   ASBH03A   41179 non-null  object \n",
      " 5   ASBH04    41231 non-null  object \n",
      " 6   ASBH15A   37405 non-null  object \n",
      " 7   ASBH15B   34597 non-null  object \n",
      " 8   ASBH16    40406 non-null  object \n",
      " 9   ASBH17A   36503 non-null  object \n",
      " 10  ASBH17B   32361 non-null  object \n",
      " 11  ASBH18AA  40161 non-null  object \n",
      " 12  ASBH18AB  35131 non-null  object \n",
      " 13  ASBG01    49428 non-null  object \n",
      " 14  ASBG03    48168 non-null  object \n",
      " 15  ASBG10A   48311 non-null  object \n",
      " 16  ASBG10B   48077 non-null  object \n",
      " 17  ASBG10C   47893 non-null  object \n",
      " 18  ASBG10D   47822 non-null  object \n",
      " 19  ASBG10E   47844 non-null  object \n",
      " 20  ASBG10F   47945 non-null  object \n",
      " 21  ASBG11A   47967 non-null  object \n",
      " 22  ASBG11B   47756 non-null  object \n",
      " 23  ASBG11C   47634 non-null  object \n",
      " 24  ASBG11D   47497 non-null  object \n",
      " 25  ASBG11E   47543 non-null  object \n",
      " 26  ASBG11F   47843 non-null  object \n",
      " 27  ASBG11G   47707 non-null  object \n",
      " 28  ASBG11H   47701 non-null  object \n",
      " 29  ASBG11I   47647 non-null  object \n",
      " 30  ASBG11J   47613 non-null  object \n",
      " 31  ASRREA01  50367 non-null  float64\n",
      " 32  ASRREA02  50367 non-null  float64\n",
      " 33  ASRREA03  50367 non-null  float64\n",
      " 34  ASRREA04  50367 non-null  float64\n",
      " 35  ASRREA05  50367 non-null  float64\n",
      " 36  ASRLIT01  50367 non-null  float64\n",
      " 37  ASRLIT02  50367 non-null  float64\n",
      " 38  ASRLIT03  50367 non-null  float64\n",
      " 39  ASRLIT04  50367 non-null  float64\n",
      " 40  ASRLIT05  50367 non-null  float64\n",
      " 41  ASRINF01  50367 non-null  float64\n",
      " 42  ASRINF02  50367 non-null  float64\n",
      " 43  ASRINF03  50367 non-null  float64\n",
      " 44  ASRINF04  50367 non-null  float64\n",
      " 45  ASRINF05  50367 non-null  float64\n",
      " 46  ASRIIE01  50367 non-null  float64\n",
      " 47  ASRIIE02  50367 non-null  float64\n",
      " 48  ASRIIE03  50367 non-null  float64\n",
      " 49  ASRIIE04  50367 non-null  float64\n",
      " 50  ASRIIE05  50367 non-null  float64\n",
      " 51  ASRRSI01  50367 non-null  float64\n",
      " 52  ASRRSI02  50367 non-null  float64\n",
      " 53  ASRRSI03  50367 non-null  float64\n",
      " 54  ASRRSI04  50367 non-null  float64\n",
      " 55  ASRRSI05  50367 non-null  float64\n",
      "dtypes: float64(25), int64(2), object(29)\n",
      "memory usage: 21.9+ MB\n"
     ]
    }
   ],
   "source": [
    "df.info()"
   ]
  },
  {
   "cell_type": "markdown",
   "metadata": {},
   "source": [
    "making new column - minage arrival - should i do this later?"
   ]
  },
  {
   "cell_type": "code",
   "execution_count": null,
   "metadata": {
    "scrolled": true
   },
   "outputs": [],
   "source": [
    "def populate_column(row):\n",
    "    if row['ASBH02B'] == 1:\n",
    "        return 0\n",
    "    elif row['ASBH02B'] == 2:\n",
    "        return 3\n",
    "    elif row['ASBH02B'] == 3:\n",
    "        return 6\n",
    "    elif row['ASBH02B'] == 4:\n",
    "        return 8\n",
    "    else:\n",
    "        return None  # Or any default value\n",
    "\n",
    "# Apply the function to each row\n",
    "DF['MINAGEARRIVAL'] = DF.apply(populate_column, axis=1)"
   ]
  },
  {
   "cell_type": "code",
   "execution_count": null,
   "metadata": {
    "scrolled": true
   },
   "outputs": [],
   "source": [
    "DF['MINAGEARRIVAL'].value_counts()"
   ]
  },
  {
   "cell_type": "code",
   "execution_count": null,
   "metadata": {
    "scrolled": true
   },
   "outputs": [],
   "source": [
    "DF['rounded_ages'] = DF['ASDAGE'].round()"
   ]
  },
  {
   "cell_type": "code",
   "execution_count": null,
   "metadata": {
    "scrolled": true
   },
   "outputs": [],
   "source": [
    "DF['rounded_ages'].value_counts()"
   ]
  },
  {
   "cell_type": "markdown",
   "metadata": {},
   "source": [
    "First thing I need to do is recognise these countries and add these values to that column. "
   ]
  },
  {
   "cell_type": "code",
   "execution_count": 23,
   "metadata": {
    "scrolled": true
   },
   "outputs": [],
   "source": [
    "df= df.rename(columns={'IDCNTRY': 'Country'})\n",
    "\n",
    "# Mapping dictionary\n",
    "update_dict = {40: 'Austria', 818: 'Egypt', 250:'France', 276:'Germany',364:'Iran',400:'Jordan',528:'Netherlands',752:'Sweden',792:'Turkey'}\n",
    "\n",
    "# Updating the column using map\n",
    "df['Country'] = df['Country'].map(update_dict).fillna(df['Country'])"
   ]
  },
  {
   "cell_type": "code",
   "execution_count": 24,
   "metadata": {
    "scrolled": true
   },
   "outputs": [
    {
     "data": {
      "text/plain": [
       "Egypt          7979\n",
       "Jordan         6150\n",
       "Turkey         6032\n",
       "Iran           5962\n",
       "France         5339\n",
       "Sweden         5175\n",
       "Austria        4806\n",
       "Germany        4611\n",
       "Netherlands    4313\n",
       "Name: Country, dtype: int64"
      ]
     },
     "execution_count": 24,
     "metadata": {},
     "output_type": "execute_result"
    }
   ],
   "source": [
    "df['Country'].value_counts()"
   ]
  },
  {
   "cell_type": "markdown",
   "metadata": {},
   "source": [
    "## Now we are uniforming-ising the columns that are not all one type"
   ]
  },
  {
   "cell_type": "markdown",
   "metadata": {},
   "source": [
    "maybe i should one hot encode these?"
   ]
  },
  {
   "cell_type": "code",
   "execution_count": 25,
   "metadata": {
    "scrolled": true
   },
   "outputs": [
    {
     "data": {
      "text/plain": [
       "Yes    25072\n",
       "1.0    13403\n",
       "No      2342\n",
       "2.0      548\n",
       "9.0      138\n",
       "Name: ASBH02A, dtype: int64"
      ]
     },
     "execution_count": 25,
     "metadata": {},
     "output_type": "execute_result"
    }
   ],
   "source": [
    "df['ASBH02A'].value_counts()"
   ]
  },
  {
   "cell_type": "code",
   "execution_count": 26,
   "metadata": {
    "scrolled": true
   },
   "outputs": [
    {
     "data": {
      "text/plain": [
       "Yes    38475\n",
       "No      2890\n",
       "9.0      138\n",
       "Name: ASBH02A, dtype: int64"
      ]
     },
     "execution_count": 26,
     "metadata": {},
     "output_type": "execute_result"
    }
   ],
   "source": [
    "# Mapping dictionary\n",
    "update_dict2 = {1.0: 'Yes',2.0:'No' }\n",
    "\n",
    "# Updating the column using map\n",
    "df['ASBH02A'] = df['ASBH02A'].map(update_dict2).fillna(df['ASBH02A'])\n",
    "df['ASBH02A'].value_counts()"
   ]
  },
  {
   "cell_type": "markdown",
   "metadata": {},
   "source": [
    "So we have 2890 children who were not born in the country where they took the test."
   ]
  },
  {
   "cell_type": "code",
   "execution_count": 27,
   "metadata": {
    "scrolled": true
   },
   "outputs": [
    {
     "data": {
      "text/plain": [
       "Yes    25915\n",
       "1.0    12270\n",
       "2.0     1477\n",
       "No      1175\n",
       "9.0      342\n",
       "Name: ASBH03A, dtype: int64"
      ]
     },
     "execution_count": 27,
     "metadata": {},
     "output_type": "execute_result"
    }
   ],
   "source": [
    "df[\"ASBH03A\"].value_counts()"
   ]
  },
  {
   "cell_type": "code",
   "execution_count": 28,
   "metadata": {
    "scrolled": true
   },
   "outputs": [
    {
     "data": {
      "text/plain": [
       "Yes    38185\n",
       "No      2652\n",
       "9.0      342\n",
       "Name: ASBH03A, dtype: int64"
      ]
     },
     "execution_count": 28,
     "metadata": {},
     "output_type": "execute_result"
    }
   ],
   "source": [
    "# Updating the column using map\n",
    "df['ASBH03A'] = df['ASBH03A'].map(update_dict2).fillna(df['ASBH03A'])\n",
    "df['ASBH03A'].value_counts()"
   ]
  },
  {
   "cell_type": "markdown",
   "metadata": {},
   "source": [
    "And we have 2652 children who did not speak the language of the test before they started school. So some children were born elsewhere but were already speaking the language of the test before they started school."
   ]
  },
  {
   "cell_type": "markdown",
   "metadata": {},
   "source": [
    "I want to see how many columns are affected by having strings and ints - so I want to see th unique values for each column. "
   ]
  },
  {
   "cell_type": "code",
   "execution_count": 29,
   "metadata": {
    "scrolled": true
   },
   "outputs": [
    {
     "name": "stdout",
     "output_type": "stream",
     "text": [
      "Country     [Turkey, Austria, Germany, Egypt, France, Iran...\n",
      "IDSTUD      [50010601, 50010602, 50010603, 50010604, 50010...\n",
      "ASBH02A                                   [Yes, nan, No, 9.0]\n",
      "ASBH02B     [6.0, nan, 2.0, 1.0, 3.0, 9.0, 4.0, 3 to 5 yea...\n",
      "ASBH03A                                   [Yes, No, 9.0, nan]\n",
      "ASBH04      [1.0, 2.0, nan, 9.0, 4.0, 3.0, Always, Never, ...\n",
      "ASBH15A     [99.0, 5.0, 2.0, 4.0, 7.0, 1.0, 6.0, 3.0, nan,...\n",
      "ASBH15B     [7.0, 3.0, 99.0, 6.0, 4.0, 5.0, 8.0, 2.0, nan,...\n",
      "ASBH16      [6.0, 3.0, 5.0, 4.0, nan, 9.0, 2.0, 1.0, Finis...\n",
      "ASBH17A     [99.0, 1.0, 3.0, 4.0, 10.0, 12.0, 11.0, nan, 8...\n",
      "ASBH17B     [9.0, 2.0, 99.0, 5.0, 3.0, 6.0, 12.0, 4.0, 10....\n",
      "ASBH18AA                   [9.0, 1.0, 2.0, nan, 6.0, Yes, No]\n",
      "ASBH18AB                   [1.0, 9.0, 2.0, nan, 6.0, Yes, No]\n",
      "ASBG01                    [2.0, 1.0, nan, Girl, Boy, <Other>]\n",
      "ASBG03      [1.0, 3.0, 2.0, 9.0, 4.0, nan, I always speak ...\n",
      "ASBG10A     [1.0, 2.0, 3.0, 9.0, 4.0, nan, Agree a little,...\n",
      "ASBG10B     [1.0, 2.0, 3.0, 4.0, 9.0, nan, Disagree a litt...\n",
      "ASBG10C     [1.0, 2.0, 4.0, 9.0, 3.0, nan, Agree a little,...\n",
      "ASBG10D     [1.0, 2.0, 3.0, 4.0, 9.0, nan, Agree a little,...\n",
      "ASBG10E     [1.0, 2.0, 4.0, 3.0, 9.0, nan, Disagree a litt...\n",
      "ASBG10F     [1.0, 2.0, 3.0, 4.0, 9.0, nan, Agree a lot, Ag...\n",
      "ASBG11A     [4.0, 1.0, 3.0, 2.0, 9.0, nan, Never, Once or ...\n",
      "ASBG11B     [4.0, 3.0, 1.0, 2.0, 9.0, nan, Never, Once or ...\n",
      "ASBG11C     [4.0, 1.0, 3.0, 2.0, 9.0, nan, A few times a y...\n",
      "ASBG11D     [4.0, 2.0, 1.0, 3.0, 9.0, nan, Once or twice a...\n",
      "ASBG11E     [4.0, 9.0, 3.0, 1.0, 2.0, nan, Never, A few ti...\n",
      "ASBG11F     [4.0, 3.0, 1.0, 2.0, 9.0, nan, Never, A few ti...\n",
      "ASBG11G     [4.0, 3.0, 1.0, 9.0, 2.0, nan, Never, Once or ...\n",
      "ASBG11H     [4.0, 1.0, 3.0, 2.0, 9.0, nan, A few times a y...\n",
      "ASBG11I     [4.0, 3.0, 1.0, 2.0, 9.0, nan, Never, At least...\n",
      "ASBG11J     [4.0, 2.0, 3.0, 1.0, 9.0, nan, Never, A few ti...\n",
      "ASRREA01    [575.43893, 624.14372, 566.97797, 559.10952, 5...\n",
      "ASRREA02    [557.2702, 612.68392, 568.76819, 606.69925, 57...\n",
      "ASRREA03    [561.95322, 544.73823, 532.78288, 618.60416, 5...\n",
      "ASRREA04    [573.6631, 503.87599, 529.96707, 537.07661, 58...\n",
      "ASRREA05    [567.45202, 556.77689, 574.76885, 578.13802, 5...\n",
      "ASRLIT01    [574.18458, 558.67343, 510.07336, 552.78456, 5...\n",
      "ASRLIT02    [538.50995, 490.57312, 546.94331, 549.12705, 5...\n",
      "ASRLIT03    [552.13065, 518.70781, 579.40362, 549.04198, 5...\n",
      "ASRLIT04    [544.30274, 579.02561, 573.21826, 574.22474, 5...\n",
      "ASRLIT05    [526.00088, 587.62561, 543.85171, 579.36628, 5...\n",
      "ASRINF01    [603.4214, 589.18148, 588.0798, 572.97888, 519...\n",
      "ASRINF02    [557.18476, 567.6433, 530.325, 574.68991, 555....\n",
      "ASRINF03    [579.4064, 583.6373, 608.01411, 587.09957, 541...\n",
      "ASRINF04    [589.70854, 605.92949, 592.02409, 616.07931, 5...\n",
      "ASRINF05    [607.70484, 612.32853, 604.63968, 627.0463, 54...\n",
      "ASRIIE01    [512.47061, 533.28483, 555.22771, 597.19872, 5...\n",
      "ASRIIE02    [531.55392, 570.44237, 511.40394, 550.02047, 5...\n",
      "ASRIIE03    [530.54494, 533.81285, 535.36974, 590.29351, 5...\n",
      "ASRIIE04    [532.47086, 527.90432, 577.63833, 604.19057, 5...\n",
      "ASRIIE05    [551.68836, 552.31885, 579.58198, 599.13247, 5...\n",
      "ASRRSI01    [511.66661, 509.93363, 595.41526, 602.64538, 5...\n",
      "ASRRSI02    [550.91604, 590.28715, 531.5494, 548.77512, 57...\n",
      "ASRRSI03    [541.14507, 528.73534, 554.99954, 569.19386, 5...\n",
      "ASRRSI04    [547.95804, 527.73292, 616.19334, 604.42141, 5...\n",
      "ASRRSI05    [576.53241, 552.69589, 579.88415, 591.9977, 60...\n",
      "dtype: object\n"
     ]
    }
   ],
   "source": [
    "# Apply unique() to each column\n",
    "unique_values = df.apply(lambda col: col.unique())\n",
    "\n",
    "print(unique_values)"
   ]
  },
  {
   "cell_type": "code",
   "execution_count": 30,
   "metadata": {
    "scrolled": false
   },
   "outputs": [],
   "source": [
    "ordinal_mapping_frequency = {\n",
    "    'At least once a week': 1,\n",
    "    'Once or twice a month': 2,\n",
    "    'A few times a year': 3,\n",
    "    'Never': 4\n",
    "}"
   ]
  },
  {
   "cell_type": "code",
   "execution_count": 32,
   "metadata": {},
   "outputs": [],
   "source": [
    "experience_in_school_columns = ['ASBG11A',\n",
    " 'ASBG11B',\n",
    " 'ASBG11C',\n",
    " 'ASBG11D',\n",
    " 'ASBG11E',\n",
    " 'ASBG11F',\n",
    " 'ASBG11G',\n",
    " 'ASBG11H',\n",
    " 'ASBG11I',\n",
    " 'ASBG11J']"
   ]
  },
  {
   "cell_type": "code",
   "execution_count": 33,
   "metadata": {},
   "outputs": [],
   "source": [
    "for column in experience_in_school_columns:\n",
    "    df[column]= df[column].map(ordinal_mapping_frequency)"
   ]
  },
  {
   "cell_type": "code",
   "execution_count": null,
   "metadata": {},
   "outputs": [],
   "source": [
    "pd.set_option('display.max_colwidth', None)  # Optional: Set max column width\n",
    "pd.set_option('display.expand_frame_repr', False)  # Optional: Do not wrap line"
   ]
  },
  {
   "cell_type": "code",
   "execution_count": 34,
   "metadata": {},
   "outputs": [
    {
     "name": "stdout",
     "output_type": "stream",
     "text": [
      "   ASBG11A  ASBG11B  ASBG11C  ASBG11D  ASBG11E  ASBG11F  ASBG11G  ASBG11H  \\\n",
      "0      NaN      NaN      NaN      NaN      NaN      NaN      NaN      NaN   \n",
      "1      4.0      4.0      3.0      2.0      4.0      4.0      4.0      3.0   \n",
      "2      2.0      2.0      1.0      4.0      3.0      3.0      2.0      4.0   \n",
      "3      3.0      3.0      2.0      3.0      2.0      2.0      3.0      1.0   \n",
      "4      1.0      1.0      4.0      1.0      1.0      1.0      1.0      2.0   \n",
      "\n",
      "   ASBG11I  ASBG11J  \n",
      "0      NaN      NaN  \n",
      "1      4.0      4.0  \n",
      "2      1.0      3.0  \n",
      "3      3.0      1.0  \n",
      "4      2.0      2.0  \n"
     ]
    }
   ],
   "source": [
    "# Apply unique() to each column\n",
    "unique_values_school_experience = df[experience_in_school_columns].apply(lambda col: col.unique())\n",
    "\n",
    "print(unique_values_school_experience)"
   ]
  },
  {
   "cell_type": "code",
   "execution_count": 35,
   "metadata": {},
   "outputs": [],
   "source": [
    "ordinal_mapping_agreement = { \n",
    "    'Agree a lot': 1,\n",
    "    'Agree a little': 2,\n",
    "    'Disagree a little': 3,\n",
    "    'Disagree a lot': 4\n",
    "}"
   ]
  },
  {
   "cell_type": "code",
   "execution_count": 36,
   "metadata": {},
   "outputs": [],
   "source": [
    "school_feeling_columns = ['ASBG10A', 'ASBG10B', 'ASBG10C', 'ASBG10D', 'ASBG10E', 'ASBG10F']"
   ]
  },
  {
   "cell_type": "code",
   "execution_count": 37,
   "metadata": {},
   "outputs": [],
   "source": [
    "for column in school_feeling_columns:\n",
    "    df[column]= df[column].map(ordinal_mapping_agreement)"
   ]
  },
  {
   "cell_type": "code",
   "execution_count": 38,
   "metadata": {},
   "outputs": [
    {
     "name": "stdout",
     "output_type": "stream",
     "text": [
      "   ASBG10A  ASBG10B  ASBG10C  ASBG10D  ASBG10E  ASBG10F\n",
      "0      NaN      NaN      NaN      NaN      NaN      NaN\n",
      "1      2.0      3.0      2.0      2.0      3.0      1.0\n",
      "2      1.0      2.0      1.0      1.0      1.0      2.0\n",
      "3      3.0      1.0      3.0      3.0      2.0      3.0\n",
      "4      4.0      4.0      4.0      4.0      4.0      4.0\n"
     ]
    }
   ],
   "source": [
    "# Apply unique() to each column\n",
    "unique_values_school_feeling = df[school_feeling_columns].apply(lambda col: col.unique())\n",
    "\n",
    "print(unique_values_school_feeling)"
   ]
  },
  {
   "cell_type": "code",
   "execution_count": 39,
   "metadata": {},
   "outputs": [],
   "source": [
    "ordinal_mapping_frequency = {\n",
    "    'At least once a week': 1,\n",
    "    'Once or twice a month': 2,\n",
    "    'A few times a year': 3,\n",
    "    'Never': 4\n",
    "}"
   ]
  },
  {
   "cell_type": "code",
   "execution_count": 40,
   "metadata": {},
   "outputs": [],
   "source": [
    "ordinal_mapping_education_levels = {\n",
    "1: 'Did not go to school', \n",
    " 2: 'Some <Primary education—ISCED Level 1 or Lower secondary education—ISCED Level 2>', \n",
    " 3: '<Lower secondary education—ISCED Level 2>', \n",
    " 4: '<Upper secondary education—ISCED Level 3>', \n",
    " 5: '<Post-secondary, non-tertiary education— ISCED Level 4>', \n",
    " 6: '<Short-cycle tertiary education—ISCED Level 5>', \n",
    " 7: '<Bachelor’s or equivalent level—ISCED Level 6>', \n",
    " 8: '<Master’s or equivalent level—ISCED Level 7>', \n",
    " 9: '<Doctor or equivalent level—ISCED Level 8>',\n",
    " 10: 'Not applicable'\n",
    " }"
   ]
  },
  {
   "cell_type": "code",
   "execution_count": 41,
   "metadata": {},
   "outputs": [],
   "source": [
    "# Reverse the mapping dictionary\n",
    "reverse_mapping_education_levels = {v: k for k, v in ordinal_mapping_education_levels.items()}"
   ]
  },
  {
   "cell_type": "code",
   "execution_count": 42,
   "metadata": {},
   "outputs": [],
   "source": [
    "df['ASBH15A'] = df['ASBH15A'].map(reverse_mapping_education_levels)"
   ]
  },
  {
   "cell_type": "code",
   "execution_count": 43,
   "metadata": {},
   "outputs": [],
   "source": [
    "df['ASBH15B'] = df['ASBH15B'].map(reverse_mapping_education_levels)"
   ]
  },
  {
   "cell_type": "code",
   "execution_count": 44,
   "metadata": {},
   "outputs": [],
   "source": [
    " ordinal_mapping_profession_levels = {\n",
    " 1: 'Has never worked for pay',\n",
    " 10: 'Professional Includes scientists,mathematicians; computer scientists,architects; engineers; life science and health pr',\n",
    " 11: 'Technician or Associate Professional Includes science, engineering, and computer associates and technicians; life scienc',\n",
    " 12: 'Not applicable',\n",
    " 2: 'Small Business Owner Includes owners of small businesses (fewer than 25 employees) such as retail shops, services, resta',\n",
    " 3: 'Clerical Worker Includes office clerks; secretaries; data entry operators; customer service clerks',\n",
    " 4: 'Service or Sales Worker Includes travel attendants; restaurant service workers; personal care workers; protective servic',\n",
    " 5: 'Skilled Agricultural or Fishery Worker Includes farmers; forestry workers; fishery workers',\n",
    " 6: 'Craft or Trade Worker Includes builders, carpenters, plumbers, electricians, metal workers; machine mechanics; handicraf',\n",
    " 7: 'Plant or Machine Operator Includes plant and machine operators; assembly-line operators; motor-vehicle drivers',\n",
    " 8: 'General'\n",
    " }"
   ]
  },
  {
   "cell_type": "code",
   "execution_count": 45,
   "metadata": {},
   "outputs": [],
   "source": [
    "# Reverse the mapping dictionary\n",
    "reverse_mapping_profession_levels = {v: k for k, v in ordinal_mapping_profession_levels.items()}"
   ]
  },
  {
   "cell_type": "code",
   "execution_count": 46,
   "metadata": {},
   "outputs": [],
   "source": [
    "df['ASBH17A'] = df['ASBH17A'].map(reverse_mapping_profession_levels)"
   ]
  },
  {
   "cell_type": "code",
   "execution_count": 47,
   "metadata": {},
   "outputs": [],
   "source": [
    "df['ASBH17B'] = df['ASBH17B'].map(reverse_mapping_profession_levels)"
   ]
  },
  {
   "cell_type": "code",
   "execution_count": 48,
   "metadata": {},
   "outputs": [],
   "source": [
    "ordinal_mapping_language = {\n",
    "     1: 'I always speak <language of test> at home',\n",
    "    2: 'I almost always speak <language of test> at home',\n",
    "    3: 'I sometimes speak <language of test> and sometimes speak another language at home',\n",
    "    4: 'I never speak <language of test> at home'\n",
    "    \n",
    "}"
   ]
  },
  {
   "cell_type": "code",
   "execution_count": 49,
   "metadata": {},
   "outputs": [
    {
     "data": {
      "text/plain": [
       "array([nan,  1.,  3.,  2.,  4.])"
      ]
     },
     "execution_count": 49,
     "metadata": {},
     "output_type": "execute_result"
    }
   ],
   "source": [
    "# Reverse the mapping dictionary\n",
    "reverse_mapping_language = {v: k for k, v in ordinal_mapping_language.items()}\n",
    "df['ASBG03'] = df['ASBG03'].map(reverse_mapping_language)\n",
    "df['ASBG03'].unique()"
   ]
  },
  {
   "cell_type": "code",
   "execution_count": 50,
   "metadata": {},
   "outputs": [],
   "source": [
    "ordinal_mapping_language_parents = {\n",
    "    1: 'Always',\n",
    "    2: 'Almost always',\n",
    "    3: 'Sometimes',\n",
    "    4: 'Never'\n",
    "}"
   ]
  },
  {
   "cell_type": "code",
   "execution_count": 51,
   "metadata": {},
   "outputs": [
    {
     "data": {
      "text/plain": [
       "array([nan,  1.,  4.,  2.,  3.])"
      ]
     },
     "execution_count": 51,
     "metadata": {},
     "output_type": "execute_result"
    }
   ],
   "source": [
    "# Reverse the mapping dictionary\n",
    "reverse_mapping_language_parents = {v: k for k, v in ordinal_mapping_language_parents.items()}\n",
    "df['ASBH04'] = df['ASBH04'].map(reverse_mapping_language_parents)\n",
    "df['ASBH04'].unique()"
   ]
  },
  {
   "cell_type": "code",
   "execution_count": 53,
   "metadata": {},
   "outputs": [
    {
     "name": "stdout",
     "output_type": "stream",
     "text": [
      "Country     [Turkey, Austria, Germany, Egypt, France, Iran...\n",
      "IDSTUD      [50010601, 50010602, 50010603, 50010604, 50010...\n",
      "ASBH02A                                   [Yes, nan, No, 9.0]\n",
      "ASBH02B     [6.0, nan, 2.0, 1.0, 3.0, 9.0, 4.0, 3 to 5 yea...\n",
      "ASBH03A                                   [Yes, No, 9.0, nan]\n",
      "ASBH04                              [nan, 1.0, 4.0, 2.0, 3.0]\n",
      "ASBH15A     [nan, 8.0, 4.0, 9.0, 6.0, 3.0, 2.0, 10.0, 7.0,...\n",
      "ASBH15B     [nan, 8.0, 5.0, 9.0, 4.0, 6.0, 7.0, 3.0, 2.0, ...\n",
      "ASBH16      [6.0, 3.0, 5.0, 4.0, nan, 9.0, 2.0, 1.0, Finis...\n",
      "ASBH17A     [nan, 12.0, 11.0, 2.0, 4.0, 6.0, 7.0, 3.0, 5.0...\n",
      "ASBH17B     [nan, 3.0, 11.0, 1.0, 4.0, 2.0, 6.0, 12.0, 5.0...\n",
      "ASBH18AA                   [9.0, 1.0, 2.0, nan, 6.0, Yes, No]\n",
      "ASBH18AB                   [1.0, 9.0, 2.0, nan, 6.0, Yes, No]\n",
      "ASBG01                    [2.0, 1.0, nan, Girl, Boy, <Other>]\n",
      "ASBG03                              [nan, 1.0, 3.0, 2.0, 4.0]\n",
      "ASBG10A                             [nan, 2.0, 1.0, 3.0, 4.0]\n",
      "ASBG10B                             [nan, 3.0, 2.0, 1.0, 4.0]\n",
      "ASBG10C                             [nan, 2.0, 1.0, 3.0, 4.0]\n",
      "ASBG10D                             [nan, 2.0, 1.0, 3.0, 4.0]\n",
      "ASBG10E                             [nan, 3.0, 1.0, 2.0, 4.0]\n",
      "ASBG10F                             [nan, 1.0, 2.0, 3.0, 4.0]\n",
      "ASBG11A                             [nan, 4.0, 2.0, 3.0, 1.0]\n",
      "ASBG11B                             [nan, 4.0, 2.0, 3.0, 1.0]\n",
      "ASBG11C                             [nan, 3.0, 1.0, 2.0, 4.0]\n",
      "ASBG11D                             [nan, 2.0, 4.0, 3.0, 1.0]\n",
      "ASBG11E                             [nan, 4.0, 3.0, 2.0, 1.0]\n",
      "ASBG11F                             [nan, 4.0, 3.0, 2.0, 1.0]\n",
      "ASBG11G                             [nan, 4.0, 2.0, 3.0, 1.0]\n",
      "ASBG11H                             [nan, 3.0, 4.0, 1.0, 2.0]\n",
      "ASBG11I                             [nan, 4.0, 1.0, 3.0, 2.0]\n",
      "ASBG11J                             [nan, 4.0, 3.0, 1.0, 2.0]\n",
      "ASRREA01    [575.43893, 624.14372, 566.97797, 559.10952, 5...\n",
      "ASRREA02    [557.2702, 612.68392, 568.76819, 606.69925, 57...\n",
      "ASRREA03    [561.95322, 544.73823, 532.78288, 618.60416, 5...\n",
      "ASRREA04    [573.6631, 503.87599, 529.96707, 537.07661, 58...\n",
      "ASRREA05    [567.45202, 556.77689, 574.76885, 578.13802, 5...\n",
      "ASRLIT01    [574.18458, 558.67343, 510.07336, 552.78456, 5...\n",
      "ASRLIT02    [538.50995, 490.57312, 546.94331, 549.12705, 5...\n",
      "ASRLIT03    [552.13065, 518.70781, 579.40362, 549.04198, 5...\n",
      "ASRLIT04    [544.30274, 579.02561, 573.21826, 574.22474, 5...\n",
      "ASRLIT05    [526.00088, 587.62561, 543.85171, 579.36628, 5...\n",
      "ASRINF01    [603.4214, 589.18148, 588.0798, 572.97888, 519...\n",
      "ASRINF02    [557.18476, 567.6433, 530.325, 574.68991, 555....\n",
      "ASRINF03    [579.4064, 583.6373, 608.01411, 587.09957, 541...\n",
      "ASRINF04    [589.70854, 605.92949, 592.02409, 616.07931, 5...\n",
      "ASRINF05    [607.70484, 612.32853, 604.63968, 627.0463, 54...\n",
      "ASRIIE01    [512.47061, 533.28483, 555.22771, 597.19872, 5...\n",
      "ASRIIE02    [531.55392, 570.44237, 511.40394, 550.02047, 5...\n",
      "ASRIIE03    [530.54494, 533.81285, 535.36974, 590.29351, 5...\n",
      "ASRIIE04    [532.47086, 527.90432, 577.63833, 604.19057, 5...\n",
      "ASRIIE05    [551.68836, 552.31885, 579.58198, 599.13247, 5...\n",
      "ASRRSI01    [511.66661, 509.93363, 595.41526, 602.64538, 5...\n",
      "ASRRSI02    [550.91604, 590.28715, 531.5494, 548.77512, 57...\n",
      "ASRRSI03    [541.14507, 528.73534, 554.99954, 569.19386, 5...\n",
      "ASRRSI04    [547.95804, 527.73292, 616.19334, 604.42141, 5...\n",
      "ASRRSI05    [576.53241, 552.69589, 579.88415, 591.9977, 60...\n",
      "dtype: object\n"
     ]
    }
   ],
   "source": [
    "# Apply unique() to each column\n",
    "unique_values = df.apply(lambda col: col.unique())\n",
    "\n",
    "print(unique_values)"
   ]
  },
  {
   "cell_type": "code",
   "execution_count": 54,
   "metadata": {},
   "outputs": [],
   "source": [
    "# Define the function to map patterns to integers\n",
    "def map_using_patterns(text):\n",
    "    # Dictionary of regex patterns to integers\n",
    "    pattern_to_integer = {\n",
    "        r'Lower secondary education': 1,\n",
    "        r'Upper secondary education': 2,\n",
    "        r'Post-secondary, non-tertiary education': 3,\n",
    "        r'Short-cycle tertiary education': 4,\n",
    "        r'Bachelor’s or equivalent level': 5,\n",
    "        r'Postgraduate degree': 6\n",
    "    }\n",
    "\n",
    "    # Check if the input is a string\n",
    "    if isinstance(text, str):\n",
    "        for pattern, integer in pattern_to_integer.items():\n",
    "            if pd.Series([text]).str.contains(pattern).any():\n",
    "                return integer\n",
    "    return text  # Return the original value if it's not a string or no pattern matches\n",
    "\n",
    "# Apply the function to the 'ASBH16' column\n",
    "df['ASBH16'] = df['ASBH16'].apply(map_using_patterns)\n"
   ]
  },
  {
   "cell_type": "code",
   "execution_count": 55,
   "metadata": {},
   "outputs": [
    {
     "data": {
      "text/plain": [
       "6.0    16285\n",
       "5.0    11132\n",
       "4.0     4655\n",
       "2.0     4523\n",
       "3.0     2452\n",
       "1.0     1093\n",
       "9.0      266\n",
       "Name: ASBH16, dtype: int64"
      ]
     },
     "execution_count": 55,
     "metadata": {},
     "output_type": "execute_result"
    }
   ],
   "source": [
    "df['ASBH16'].value_counts()"
   ]
  },
  {
   "cell_type": "code",
   "execution_count": 56,
   "metadata": {},
   "outputs": [
    {
     "data": {
      "text/plain": [
       "array([nan,  1.,  2.])"
      ]
     },
     "execution_count": 56,
     "metadata": {},
     "output_type": "execute_result"
    }
   ],
   "source": [
    "mapping_dict = {\"Yes\": 1, \"No\": 2}\n",
    "df['ASBH18AA']= df['ASBH18AA'].map(mapping_dict)\n",
    "df['ASBH18AB']= df['ASBH18AB'].map(mapping_dict)\n",
    "df['ASBH18AA'].unique()\n",
    "df['ASBH18AB'].unique()"
   ]
  },
  {
   "cell_type": "code",
   "execution_count": 57,
   "metadata": {},
   "outputs": [
    {
     "data": {
      "text/plain": [
       "array([nan,  1.,  2.,  3.])"
      ]
     },
     "execution_count": 57,
     "metadata": {},
     "output_type": "execute_result"
    }
   ],
   "source": [
    "mapping_dict_gender = {\"Girl\": 1, \"Boy\": 2, \"<Other>\": 3}\n",
    "df['ASBG01']= df['ASBG01'].map(mapping_dict_gender)\n",
    "df['ASBG01'].unique()"
   ]
  },
  {
   "cell_type": "code",
   "execution_count": 58,
   "metadata": {},
   "outputs": [
    {
     "name": "stdout",
     "output_type": "stream",
     "text": [
      "Country     [Turkey, Austria, Germany, Egypt, France, Iran...\n",
      "IDSTUD      [50010601, 50010602, 50010603, 50010604, 50010...\n",
      "ASBH02A                                   [Yes, nan, No, 9.0]\n",
      "ASBH02B     [6.0, nan, 2.0, 1.0, 3.0, 9.0, 4.0, 3 to 5 yea...\n",
      "ASBH03A                                   [Yes, No, 9.0, nan]\n",
      "ASBH04                              [nan, 1.0, 4.0, 2.0, 3.0]\n",
      "ASBH15A     [nan, 8.0, 4.0, 9.0, 6.0, 3.0, 2.0, 10.0, 7.0,...\n",
      "ASBH15B     [nan, 8.0, 5.0, 9.0, 4.0, 6.0, 7.0, 3.0, 2.0, ...\n",
      "ASBH16               [6.0, 3.0, 5.0, 4.0, nan, 9.0, 2.0, 1.0]\n",
      "ASBH17A     [nan, 12.0, 11.0, 2.0, 4.0, 6.0, 7.0, 3.0, 5.0...\n",
      "ASBH17B     [nan, 3.0, 11.0, 1.0, 4.0, 2.0, 6.0, 12.0, 5.0...\n",
      "ASBH18AA                                      [nan, 1.0, 2.0]\n",
      "ASBH18AB                                      [nan, 1.0, 2.0]\n",
      "ASBG01                                   [nan, 1.0, 2.0, 3.0]\n",
      "ASBG03                              [nan, 1.0, 3.0, 2.0, 4.0]\n",
      "ASBG10A                             [nan, 2.0, 1.0, 3.0, 4.0]\n",
      "ASBG10B                             [nan, 3.0, 2.0, 1.0, 4.0]\n",
      "ASBG10C                             [nan, 2.0, 1.0, 3.0, 4.0]\n",
      "ASBG10D                             [nan, 2.0, 1.0, 3.0, 4.0]\n",
      "ASBG10E                             [nan, 3.0, 1.0, 2.0, 4.0]\n",
      "ASBG10F                             [nan, 1.0, 2.0, 3.0, 4.0]\n",
      "ASBG11A                             [nan, 4.0, 2.0, 3.0, 1.0]\n",
      "ASBG11B                             [nan, 4.0, 2.0, 3.0, 1.0]\n",
      "ASBG11C                             [nan, 3.0, 1.0, 2.0, 4.0]\n",
      "ASBG11D                             [nan, 2.0, 4.0, 3.0, 1.0]\n",
      "ASBG11E                             [nan, 4.0, 3.0, 2.0, 1.0]\n",
      "ASBG11F                             [nan, 4.0, 3.0, 2.0, 1.0]\n",
      "ASBG11G                             [nan, 4.0, 2.0, 3.0, 1.0]\n",
      "ASBG11H                             [nan, 3.0, 4.0, 1.0, 2.0]\n",
      "ASBG11I                             [nan, 4.0, 1.0, 3.0, 2.0]\n",
      "ASBG11J                             [nan, 4.0, 3.0, 1.0, 2.0]\n",
      "ASRREA01    [575.43893, 624.14372, 566.97797, 559.10952, 5...\n",
      "ASRREA02    [557.2702, 612.68392, 568.76819, 606.69925, 57...\n",
      "ASRREA03    [561.95322, 544.73823, 532.78288, 618.60416, 5...\n",
      "ASRREA04    [573.6631, 503.87599, 529.96707, 537.07661, 58...\n",
      "ASRREA05    [567.45202, 556.77689, 574.76885, 578.13802, 5...\n",
      "ASRLIT01    [574.18458, 558.67343, 510.07336, 552.78456, 5...\n",
      "ASRLIT02    [538.50995, 490.57312, 546.94331, 549.12705, 5...\n",
      "ASRLIT03    [552.13065, 518.70781, 579.40362, 549.04198, 5...\n",
      "ASRLIT04    [544.30274, 579.02561, 573.21826, 574.22474, 5...\n",
      "ASRLIT05    [526.00088, 587.62561, 543.85171, 579.36628, 5...\n",
      "ASRINF01    [603.4214, 589.18148, 588.0798, 572.97888, 519...\n",
      "ASRINF02    [557.18476, 567.6433, 530.325, 574.68991, 555....\n",
      "ASRINF03    [579.4064, 583.6373, 608.01411, 587.09957, 541...\n",
      "ASRINF04    [589.70854, 605.92949, 592.02409, 616.07931, 5...\n",
      "ASRINF05    [607.70484, 612.32853, 604.63968, 627.0463, 54...\n",
      "ASRIIE01    [512.47061, 533.28483, 555.22771, 597.19872, 5...\n",
      "ASRIIE02    [531.55392, 570.44237, 511.40394, 550.02047, 5...\n",
      "ASRIIE03    [530.54494, 533.81285, 535.36974, 590.29351, 5...\n",
      "ASRIIE04    [532.47086, 527.90432, 577.63833, 604.19057, 5...\n",
      "ASRIIE05    [551.68836, 552.31885, 579.58198, 599.13247, 5...\n",
      "ASRRSI01    [511.66661, 509.93363, 595.41526, 602.64538, 5...\n",
      "ASRRSI02    [550.91604, 590.28715, 531.5494, 548.77512, 57...\n",
      "ASRRSI03    [541.14507, 528.73534, 554.99954, 569.19386, 5...\n",
      "ASRRSI04    [547.95804, 527.73292, 616.19334, 604.42141, 5...\n",
      "ASRRSI05    [576.53241, 552.69589, 579.88415, 591.9977, 60...\n",
      "dtype: object\n"
     ]
    }
   ],
   "source": [
    "# Apply unique() to each column\n",
    "unique_values_df = df.apply(lambda col: col.unique())\n",
    "\n",
    "print(unique_values_df)"
   ]
  },
  {
   "cell_type": "code",
   "execution_count": 60,
   "metadata": {},
   "outputs": [],
   "source": [
    "df.to_excel('cleandata148.xlsx')"
   ]
  },
  {
   "cell_type": "markdown",
   "metadata": {},
   "source": [
    "I want to remove those that have no answer to the asbh02a question because this is the most important for my analysis. "
   ]
  },
  {
   "cell_type": "code",
   "execution_count": 61,
   "metadata": {},
   "outputs": [
    {
     "name": "stdout",
     "output_type": "stream",
     "text": [
      "<class 'pandas.core.frame.DataFrame'>\n",
      "Int64Index: 50367 entries, 0 to 50366\n",
      "Data columns (total 56 columns):\n",
      " #   Column    Non-Null Count  Dtype  \n",
      "---  ------    --------------  -----  \n",
      " 0   Country   50367 non-null  object \n",
      " 1   IDSTUD    50367 non-null  int64  \n",
      " 2   ASBH02A   41503 non-null  object \n",
      " 3   ASBH02B   16269 non-null  object \n",
      " 4   ASBH03A   41179 non-null  object \n",
      " 5   ASBH04    27142 non-null  float64\n",
      " 6   ASBH15A   23316 non-null  float64\n",
      " 7   ASBH15B   20508 non-null  float64\n",
      " 8   ASBH16    40406 non-null  float64\n",
      " 9   ASBH17A   15016 non-null  float64\n",
      " 10  ASBH17B   12722 non-null  float64\n",
      " 11  ASBH18AA  26072 non-null  float64\n",
      " 12  ASBH18AB  21042 non-null  float64\n",
      " 13  ASBG01    37435 non-null  float64\n",
      " 14  ASBG03    36188 non-null  float64\n",
      " 15  ASBG10A   36332 non-null  float64\n",
      " 16  ASBG10B   36097 non-null  float64\n",
      " 17  ASBG10C   35913 non-null  float64\n",
      " 18  ASBG10D   35842 non-null  float64\n",
      " 19  ASBG10E   35864 non-null  float64\n",
      " 20  ASBG10F   35965 non-null  float64\n",
      " 21  ASBG11A   35987 non-null  float64\n",
      " 22  ASBG11B   35776 non-null  float64\n",
      " 23  ASBG11C   35654 non-null  float64\n",
      " 24  ASBG11D   35517 non-null  float64\n",
      " 25  ASBG11E   35563 non-null  float64\n",
      " 26  ASBG11F   35863 non-null  float64\n",
      " 27  ASBG11G   35727 non-null  float64\n",
      " 28  ASBG11H   35721 non-null  float64\n",
      " 29  ASBG11I   35667 non-null  float64\n",
      " 30  ASBG11J   35633 non-null  float64\n",
      " 31  ASRREA01  50367 non-null  float64\n",
      " 32  ASRREA02  50367 non-null  float64\n",
      " 33  ASRREA03  50367 non-null  float64\n",
      " 34  ASRREA04  50367 non-null  float64\n",
      " 35  ASRREA05  50367 non-null  float64\n",
      " 36  ASRLIT01  50367 non-null  float64\n",
      " 37  ASRLIT02  50367 non-null  float64\n",
      " 38  ASRLIT03  50367 non-null  float64\n",
      " 39  ASRLIT04  50367 non-null  float64\n",
      " 40  ASRLIT05  50367 non-null  float64\n",
      " 41  ASRINF01  50367 non-null  float64\n",
      " 42  ASRINF02  50367 non-null  float64\n",
      " 43  ASRINF03  50367 non-null  float64\n",
      " 44  ASRINF04  50367 non-null  float64\n",
      " 45  ASRINF05  50367 non-null  float64\n",
      " 46  ASRIIE01  50367 non-null  float64\n",
      " 47  ASRIIE02  50367 non-null  float64\n",
      " 48  ASRIIE03  50367 non-null  float64\n",
      " 49  ASRIIE04  50367 non-null  float64\n",
      " 50  ASRIIE05  50367 non-null  float64\n",
      " 51  ASRRSI01  50367 non-null  float64\n",
      " 52  ASRRSI02  50367 non-null  float64\n",
      " 53  ASRRSI03  50367 non-null  float64\n",
      " 54  ASRRSI04  50367 non-null  float64\n",
      " 55  ASRRSI05  50367 non-null  float64\n",
      "dtypes: float64(51), int64(1), object(4)\n",
      "memory usage: 21.9+ MB\n"
     ]
    }
   ],
   "source": [
    "df.info()"
   ]
  },
  {
   "cell_type": "code",
   "execution_count": 62,
   "metadata": {},
   "outputs": [],
   "source": [
    "df = df.dropna(subset= ['ASBH02A'])"
   ]
  },
  {
   "cell_type": "code",
   "execution_count": 63,
   "metadata": {},
   "outputs": [
    {
     "name": "stdout",
     "output_type": "stream",
     "text": [
      "<class 'pandas.core.frame.DataFrame'>\n",
      "Int64Index: 41503 entries, 0 to 50364\n",
      "Data columns (total 56 columns):\n",
      " #   Column    Non-Null Count  Dtype  \n",
      "---  ------    --------------  -----  \n",
      " 0   Country   41503 non-null  object \n",
      " 1   IDSTUD    41503 non-null  int64  \n",
      " 2   ASBH02A   41503 non-null  object \n",
      " 3   ASBH02B   16269 non-null  object \n",
      " 4   ASBH03A   40913 non-null  object \n",
      " 5   ASBH04    26888 non-null  float64\n",
      " 6   ASBH15A   23005 non-null  float64\n",
      " 7   ASBH15B   20263 non-null  float64\n",
      " 8   ASBH16    40023 non-null  float64\n",
      " 9   ASBH17A   14850 non-null  float64\n",
      " 10  ASBH17B   12612 non-null  float64\n",
      " 11  ASBH18AA  25767 non-null  float64\n",
      " 12  ASBH18AB  20840 non-null  float64\n",
      " 13  ASBG01    29560 non-null  float64\n",
      " 14  ASBG03    28488 non-null  float64\n",
      " 15  ASBG10A   28688 non-null  float64\n",
      " 16  ASBG10B   28500 non-null  float64\n",
      " 17  ASBG10C   28378 non-null  float64\n",
      " 18  ASBG10D   28306 non-null  float64\n",
      " 19  ASBG10E   28339 non-null  float64\n",
      " 20  ASBG10F   28396 non-null  float64\n",
      " 21  ASBG11A   28397 non-null  float64\n",
      " 22  ASBG11B   28263 non-null  float64\n",
      " 23  ASBG11C   28151 non-null  float64\n",
      " 24  ASBG11D   28097 non-null  float64\n",
      " 25  ASBG11E   28119 non-null  float64\n",
      " 26  ASBG11F   28285 non-null  float64\n",
      " 27  ASBG11G   28225 non-null  float64\n",
      " 28  ASBG11H   28207 non-null  float64\n",
      " 29  ASBG11I   28178 non-null  float64\n",
      " 30  ASBG11J   28171 non-null  float64\n",
      " 31  ASRREA01  41503 non-null  float64\n",
      " 32  ASRREA02  41503 non-null  float64\n",
      " 33  ASRREA03  41503 non-null  float64\n",
      " 34  ASRREA04  41503 non-null  float64\n",
      " 35  ASRREA05  41503 non-null  float64\n",
      " 36  ASRLIT01  41503 non-null  float64\n",
      " 37  ASRLIT02  41503 non-null  float64\n",
      " 38  ASRLIT03  41503 non-null  float64\n",
      " 39  ASRLIT04  41503 non-null  float64\n",
      " 40  ASRLIT05  41503 non-null  float64\n",
      " 41  ASRINF01  41503 non-null  float64\n",
      " 42  ASRINF02  41503 non-null  float64\n",
      " 43  ASRINF03  41503 non-null  float64\n",
      " 44  ASRINF04  41503 non-null  float64\n",
      " 45  ASRINF05  41503 non-null  float64\n",
      " 46  ASRIIE01  41503 non-null  float64\n",
      " 47  ASRIIE02  41503 non-null  float64\n",
      " 48  ASRIIE03  41503 non-null  float64\n",
      " 49  ASRIIE04  41503 non-null  float64\n",
      " 50  ASRIIE05  41503 non-null  float64\n",
      " 51  ASRRSI01  41503 non-null  float64\n",
      " 52  ASRRSI02  41503 non-null  float64\n",
      " 53  ASRRSI03  41503 non-null  float64\n",
      " 54  ASRRSI04  41503 non-null  float64\n",
      " 55  ASRRSI05  41503 non-null  float64\n",
      "dtypes: float64(51), int64(1), object(4)\n",
      "memory usage: 18.0+ MB\n"
     ]
    }
   ],
   "source": [
    "df.info()"
   ]
  },
  {
   "cell_type": "markdown",
   "metadata": {},
   "source": [
    "And I want to remove the 9s in this column too. "
   ]
  },
  {
   "cell_type": "code",
   "execution_count": 64,
   "metadata": {},
   "outputs": [
    {
     "name": "stdout",
     "output_type": "stream",
     "text": [
      "<class 'pandas.core.frame.DataFrame'>\n",
      "Int64Index: 41365 entries, 0 to 50364\n",
      "Data columns (total 56 columns):\n",
      " #   Column    Non-Null Count  Dtype  \n",
      "---  ------    --------------  -----  \n",
      " 0   Country   41365 non-null  object \n",
      " 1   IDSTUD    41365 non-null  int64  \n",
      " 2   ASBH02A   41365 non-null  object \n",
      " 3   ASBH02B   16131 non-null  object \n",
      " 4   ASBH03A   40775 non-null  object \n",
      " 5   ASBH04    26888 non-null  float64\n",
      " 6   ASBH15A   23005 non-null  float64\n",
      " 7   ASBH15B   20263 non-null  float64\n",
      " 8   ASBH16    39885 non-null  float64\n",
      " 9   ASBH17A   14850 non-null  float64\n",
      " 10  ASBH17B   12612 non-null  float64\n",
      " 11  ASBH18AA  25767 non-null  float64\n",
      " 12  ASBH18AB  20840 non-null  float64\n",
      " 13  ASBG01    29510 non-null  float64\n",
      " 14  ASBG03    28438 non-null  float64\n",
      " 15  ASBG10A   28638 non-null  float64\n",
      " 16  ASBG10B   28451 non-null  float64\n",
      " 17  ASBG10C   28329 non-null  float64\n",
      " 18  ASBG10D   28259 non-null  float64\n",
      " 19  ASBG10E   28291 non-null  float64\n",
      " 20  ASBG10F   28349 non-null  float64\n",
      " 21  ASBG11A   28347 non-null  float64\n",
      " 22  ASBG11B   28215 non-null  float64\n",
      " 23  ASBG11C   28102 non-null  float64\n",
      " 24  ASBG11D   28050 non-null  float64\n",
      " 25  ASBG11E   28073 non-null  float64\n",
      " 26  ASBG11F   28236 non-null  float64\n",
      " 27  ASBG11G   28177 non-null  float64\n",
      " 28  ASBG11H   28159 non-null  float64\n",
      " 29  ASBG11I   28132 non-null  float64\n",
      " 30  ASBG11J   28125 non-null  float64\n",
      " 31  ASRREA01  41365 non-null  float64\n",
      " 32  ASRREA02  41365 non-null  float64\n",
      " 33  ASRREA03  41365 non-null  float64\n",
      " 34  ASRREA04  41365 non-null  float64\n",
      " 35  ASRREA05  41365 non-null  float64\n",
      " 36  ASRLIT01  41365 non-null  float64\n",
      " 37  ASRLIT02  41365 non-null  float64\n",
      " 38  ASRLIT03  41365 non-null  float64\n",
      " 39  ASRLIT04  41365 non-null  float64\n",
      " 40  ASRLIT05  41365 non-null  float64\n",
      " 41  ASRINF01  41365 non-null  float64\n",
      " 42  ASRINF02  41365 non-null  float64\n",
      " 43  ASRINF03  41365 non-null  float64\n",
      " 44  ASRINF04  41365 non-null  float64\n",
      " 45  ASRINF05  41365 non-null  float64\n",
      " 46  ASRIIE01  41365 non-null  float64\n",
      " 47  ASRIIE02  41365 non-null  float64\n",
      " 48  ASRIIE03  41365 non-null  float64\n",
      " 49  ASRIIE04  41365 non-null  float64\n",
      " 50  ASRIIE05  41365 non-null  float64\n",
      " 51  ASRRSI01  41365 non-null  float64\n",
      " 52  ASRRSI02  41365 non-null  float64\n",
      " 53  ASRRSI03  41365 non-null  float64\n",
      " 54  ASRRSI04  41365 non-null  float64\n",
      " 55  ASRRSI05  41365 non-null  float64\n",
      "dtypes: float64(51), int64(1), object(4)\n",
      "memory usage: 18.0+ MB\n"
     ]
    }
   ],
   "source": [
    "df = df[df['ASBH02A'] != 9]\n",
    "df.info()"
   ]
  },
  {
   "cell_type": "code",
   "execution_count": 65,
   "metadata": {},
   "outputs": [],
   "source": [
    "df.to_excel('cleandata158.xlsx')"
   ]
  }
 ],
 "metadata": {
  "kernelspec": {
   "display_name": "Python 3",
   "language": "python",
   "name": "python3"
  },
  "language_info": {
   "codemirror_mode": {
    "name": "ipython",
    "version": 3
   },
   "file_extension": ".py",
   "mimetype": "text/x-python",
   "name": "python",
   "nbconvert_exporter": "python",
   "pygments_lexer": "ipython3",
   "version": "3.7.6"
  }
 },
 "nbformat": 4,
 "nbformat_minor": 4
}
