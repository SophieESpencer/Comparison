{
 "cells": [
  {
   "cell_type": "code",
   "execution_count": 1,
   "metadata": {
    "scrolled": true
   },
   "outputs": [],
   "source": [
    "import pandas as pd\n",
    "import numpy as np\n",
    "pd.set_option(\"display.max_columns\", None)\n",
    "pd.set_option(\"display.max_rows\", None)\n",
    "Turkey = pd.read_excel(\"ASHTURR5.xlsx\")\n",
    "Austria = pd.read_excel(\"ASHAUTR5.xlsx\")\n",
    "Germany = pd.read_excel(\"ASHDEUR5.xlsx\")\n",
    "Egypt = pd.read_excel(\"ASHEGYR5.xlsx\")\n",
    "France = pd.read_excel(\"ASHFRAR5.xlsx\")\n",
    "Iran = pd.read_excel(\"ASHIRNR5.xlsx\")\n",
    "Jordan = pd.read_excel(\"ASHJORR5.xlsx\")\n",
    "Netherlands = pd.read_excel(\"ASHNLDR5.xlsx\")\n",
    "Sweden = pd.read_excel(\"ASHSWER5.xlsx\")"
   ]
  },
  {
   "cell_type": "markdown",
   "metadata": {},
   "source": [
    "HC is the home context data. This is a questionnaire filled in by the parents of each student. It contains crucial information on the immigration status of students and the languages they speak."
   ]
  },
  {
   "cell_type": "code",
   "execution_count": 2,
   "metadata": {
    "scrolled": true
   },
   "outputs": [],
   "source": [
    "columns_to_keep = ['IDCNTRY','IDSTUD','ASBH02A','ASBH02B','ASBH03A','ASBH04', 'ASBH15A','ASBH15B','ASBH16','ASBH17A','ASBH17B','ASBH18AA','ASBH18AB']"
   ]
  },
  {
   "cell_type": "code",
   "execution_count": 4,
   "metadata": {
    "scrolled": true
   },
   "outputs": [],
   "source": [
    "df = df[columns_to_keep]"
   ]
  },
  {
   "cell_type": "code",
   "execution_count": 3,
   "metadata": {
    "scrolled": true
   },
   "outputs": [],
   "source": [
    "df = pd.concat([Turkey, Austria, Germany, Egypt, France, Iran, Jordan, Netherlands, Sweden])"
   ]
  },
  {
   "cell_type": "code",
   "execution_count": 5,
   "metadata": {
    "scrolled": true
   },
   "outputs": [
    {
     "name": "stdout",
     "output_type": "stream",
     "text": [
      "<class 'pandas.core.frame.DataFrame'>\n",
      "Int64Index: 50367 entries, 0 to 5174\n",
      "Data columns (total 13 columns):\n",
      " #   Column    Non-Null Count  Dtype \n",
      "---  ------    --------------  ----- \n",
      " 0   IDCNTRY   50367 non-null  int64 \n",
      " 1   IDSTUD    50367 non-null  int64 \n",
      " 2   ASBH02A   41503 non-null  object\n",
      " 3   ASBH02B   16269 non-null  object\n",
      " 4   ASBH03A   41179 non-null  object\n",
      " 5   ASBH04    41231 non-null  object\n",
      " 6   ASBH15A   37405 non-null  object\n",
      " 7   ASBH15B   34597 non-null  object\n",
      " 8   ASBH16    40406 non-null  object\n",
      " 9   ASBH17A   36503 non-null  object\n",
      " 10  ASBH17B   32361 non-null  object\n",
      " 11  ASBH18AA  40161 non-null  object\n",
      " 12  ASBH18AB  35131 non-null  object\n",
      "dtypes: int64(2), object(11)\n",
      "memory usage: 5.4+ MB\n"
     ]
    }
   ],
   "source": [
    "df.info()"
   ]
  },
  {
   "cell_type": "markdown",
   "metadata": {},
   "source": [
    "It is interesting here that when the dataframes were concatenated the Dtype of the columns changed from int to object. I believe this is because the data for some countries has been inputted as strings and for other countries as int. "
   ]
  },
  {
   "cell_type": "markdown",
   "metadata": {},
   "source": [
    "ASBH02A\tGEN\\CHILD BORN IN <COUNTRY>\tHQ-02A\tNominal\t1\t0\t\t\t 1: Yes; 2: No\t9: Omitted or invalid; Sysmis: Not administered"
   ]
  },
  {
   "cell_type": "markdown",
   "metadata": {},
   "source": [
    "ASBH02B\tGEN\\AGE OF CHILD WHEN CAME TO <COUNTRY>\tHQ-02B\tOrdinal\t1\t0\t\t\t 1: Younger than 3 years old; 2: 3 to 5 years old; 3: 6 to 7 years old; 4: 8 years old or older\t9: Omitted or invalid; 6: Logically not applicable; Sysmis: Not administered"
   ]
  },
  {
   "cell_type": "markdown",
   "metadata": {},
   "source": [
    "ASBH03A\tGEN\\LANGUAGE\\<LANGUAGE OF TEST>\tHQ-03a\tNominal\t1\t0\t\t\t 1: Yes; 2: No\t9: Omitted or invalid; Sysmis: Not administered"
   ]
  },
  {
   "cell_type": "markdown",
   "metadata": {},
   "source": [
    "ASBH04\tGEN\\HOW OFTEN <LANG OF TEST> AT HOME\tHQ-04\tOrdinal\t1\t0\t\t\t 1: Always; 2: Almost always; 3: Sometimes; 4: Never\t9: Omitted or invalid; Sysmis: Not administered"
   ]
  },
  {
   "cell_type": "markdown",
   "metadata": {},
   "source": [
    "ASBH15A\tGEN\\LVL OF EDUCATION\\GUARDIAN A\tHQ-15a\tOrdinal\t2\t0\t\t\t 1: Did not go to school; 10: Not applicable; 2: Some <Primary education—ISCED Level 1 or Lower secondary education—ISCED Level 2>; 3: <Lower secondary education—ISCED Level 2>; 4: <Upper secondary education—ISCED Level 3>; 5: <Post-secondary, non-tertiary education— ISCED Level 4>; 6: <Short-cycle tertiary education—ISCED Level 5>; 7: <Bachelor’s or equivalent level—ISCED Level 6>; 8: <Master’s or equivalent level—ISCED Level 7>; 9: <Doctor or equivalent level—ISCED Level 8>\t999: Omitted or invalid; Sysmis: Not administered"
   ]
  },
  {
   "cell_type": "markdown",
   "metadata": {},
   "source": [
    "ASBH15B\tGEN\\LVL OF EDUCATION\\GUARDIAN B\tHQ-15b\tOrdinal\t2\t0\t\t\t 1: Did not go to school; 10: Not applicable; 2: Some <Primary education—ISCED Level 1 or Lower secondary education—ISCED Level 2>; 3: <Lower secondary education—ISCED Level 2>; 4: <Upper secondary education—ISCED Level 3>; 5: <Post-secondary, non-tertiary education— ISCED Level 4>; 6: <Short-cycle tertiary education—ISCED Level 5>; 7: <Bachelor’s or equivalent level—ISCED Level 6>; 8: <Master’s or equivalent level—ISCED Level 7>; 9: <Doctor or equivalent level—ISCED Level 8>\t999: Omitted or invalid; Sysmis: Not administered"
   ]
  },
  {
   "cell_type": "markdown",
   "metadata": {},
   "source": [
    "SC is the Student Context data which is a questionnaire filled in by the students themselves as well as some totals on their achievement in the test. "
   ]
  },
  {
   "cell_type": "code",
   "execution_count": 6,
   "metadata": {
    "scrolled": true
   },
   "outputs": [],
   "source": [
    "TurkeySC = pd.read_excel(\"ASGTURR5.xlsx\")\n",
    "AustriaSC = pd.read_excel(\"ASGAUTR5.xlsx\")\n",
    "EgyptSC = pd.read_excel(\"ASGEGYR5.xlsx\")\n",
    "FranceSC = pd.read_excel(\"ASGFRAR5.xlsx\")\n",
    "IranSC = pd.read_excel(\"ASGIRNR5.xlsx\")\n",
    "JordanSC = pd.read_excel(\"ASGJORR5.xlsx\")\n",
    "NetherlandsSC = pd.read_excel(\"ASGNLDR5.xlsx\")\n",
    "SwedenSC = pd.read_excel(\"ASGSWER5.xlsx\")\n",
    "GermanySC = pd.read_excel(\"ASGDEUR5.xlsx\")"
   ]
  },
  {
   "cell_type": "code",
   "execution_count": 7,
   "metadata": {
    "scrolled": true
   },
   "outputs": [],
   "source": [
    "SCdf = pd.concat([TurkeySC, AustriaSC, EgyptSC, FranceSC, IranSC, JordanSC, NetherlandsSC, SwedenSC, GermanySC])"
   ]
  },
  {
   "cell_type": "code",
   "execution_count": 8,
   "metadata": {
    "scrolled": true
   },
   "outputs": [],
   "source": [
    "SCdf = SCdf[['IDCNTRY',\n",
    " 'IDSTUD','ASBG01',\n",
    " 'ASBG03','ASBG10C',\n",
    " 'ASBG10D',\n",
    " 'ASBG10E',\n",
    " 'ASBG10F',\n",
    " 'ASBG11A',\n",
    " 'ASBG11B',\n",
    " 'ASBG11C',\n",
    " 'ASBG11D',\n",
    " 'ASBG11E',\n",
    " 'ASBG11F',\n",
    " 'ASBG11G',\n",
    " 'ASBG11H',\n",
    " 'ASBG11I',\n",
    " 'ASBG11J','ASDAGE','ASRREA01',\n",
    " 'ASRREA02',\n",
    " 'ASRREA03',\n",
    " 'ASRREA04',\n",
    " 'ASRREA05',\n",
    " 'ASRLIT01',\n",
    " 'ASRLIT02',\n",
    " 'ASRLIT03',\n",
    " 'ASRLIT04',\n",
    " 'ASRLIT05',\n",
    " 'ASRINF01',\n",
    " 'ASRINF02',\n",
    " 'ASRINF03',\n",
    " 'ASRINF04',\n",
    " 'ASRINF05',\n",
    " 'ASRIIE01',\n",
    " 'ASRIIE02',\n",
    " 'ASRIIE03',\n",
    " 'ASRIIE04',\n",
    " 'ASRIIE05',\n",
    " 'ASRRSI01',\n",
    " 'ASRRSI02',\n",
    " 'ASRRSI03',\n",
    " 'ASRRSI04',\n",
    " 'ASRRSI05']]"
   ]
  },
  {
   "cell_type": "code",
   "execution_count": 9,
   "metadata": {
    "scrolled": true
   },
   "outputs": [],
   "source": [
    "DF = pd.merge(df, SCdf, on=None)"
   ]
  },
  {
   "cell_type": "code",
   "execution_count": 10,
   "metadata": {
    "scrolled": true
   },
   "outputs": [],
   "source": [
    "def populate_column(row):\n",
    "    if row['ASBH02B'] == 1:\n",
    "        return 0\n",
    "    elif row['ASBH02B'] == 2:\n",
    "        return 3\n",
    "    elif row['ASBH02B'] == 3:\n",
    "        return 6\n",
    "    elif row['ASBH02B'] == 4:\n",
    "        return 8\n",
    "    else:\n",
    "        return None  # Or any default value\n",
    "\n",
    "# Apply the function to each row\n",
    "DF['MINAGEARRIVAL'] = DF.apply(populate_column, axis=1)"
   ]
  },
  {
   "cell_type": "code",
   "execution_count": 11,
   "metadata": {
    "scrolled": true
   },
   "outputs": [
    {
     "data": {
      "text/plain": [
       "0.0    182\n",
       "3.0    160\n",
       "6.0    108\n",
       "8.0     63\n",
       "Name: MINAGEARRIVAL, dtype: int64"
      ]
     },
     "execution_count": 11,
     "metadata": {},
     "output_type": "execute_result"
    }
   ],
   "source": [
    "DF['MINAGEARRIVAL'].value_counts()"
   ]
  },
  {
   "cell_type": "code",
   "execution_count": 12,
   "metadata": {
    "scrolled": true
   },
   "outputs": [],
   "source": [
    "DF['rounded_ages'] = DF['ASDAGE'].round()"
   ]
  },
  {
   "cell_type": "code",
   "execution_count": 13,
   "metadata": {
    "scrolled": true
   },
   "outputs": [
    {
     "data": {
      "text/plain": [
       "10.0    38410\n",
       "11.0     9104\n",
       "9.0      1964\n",
       "12.0      758\n",
       "13.0       83\n",
       "8.0        18\n",
       "14.0       17\n",
       "99.0        3\n",
       "7.0         1\n",
       "Name: rounded_ages, dtype: int64"
      ]
     },
     "execution_count": 13,
     "metadata": {},
     "output_type": "execute_result"
    }
   ],
   "source": [
    "DF['rounded_ages'].value_counts()"
   ]
  },
  {
   "cell_type": "markdown",
   "metadata": {},
   "source": [
    "First thing I need to do is recognise these countries and add these values to that column. "
   ]
  },
  {
   "cell_type": "code",
   "execution_count": 14,
   "metadata": {
    "scrolled": true
   },
   "outputs": [],
   "source": [
    "DF= DF.rename(columns={'IDCNTRY': 'Country'})\n",
    "\n",
    "# Mapping dictionary\n",
    "update_dict = {40: 'Austria', 818: 'Egypt', 250:'France', 276:'Germany',364:'Iran',400:'Jordan',528:'Netherlands',752:'Sweden',792:'Turkey'}\n",
    "\n",
    "# Updating the column using map\n",
    "DF['Country'] = DF['Country'].map(update_dict).fillna(DF['Country'])"
   ]
  },
  {
   "cell_type": "code",
   "execution_count": 15,
   "metadata": {
    "scrolled": true
   },
   "outputs": [
    {
     "data": {
      "text/plain": [
       "Egypt          7979\n",
       "Jordan         6150\n",
       "Turkey         6032\n",
       "Iran           5962\n",
       "France         5339\n",
       "Sweden         5175\n",
       "Austria        4806\n",
       "Germany        4611\n",
       "Netherlands    4313\n",
       "Name: Country, dtype: int64"
      ]
     },
     "execution_count": 15,
     "metadata": {},
     "output_type": "execute_result"
    }
   ],
   "source": [
    "DF['Country'].value_counts()"
   ]
  },
  {
   "cell_type": "code",
   "execution_count": 17,
   "metadata": {
    "scrolled": true
   },
   "outputs": [
    {
     "data": {
      "text/plain": [
       "Yes    25072\n",
       "1.0    13403\n",
       "No      2342\n",
       "2.0      548\n",
       "9.0      138\n",
       "Name: ASBH02A, dtype: int64"
      ]
     },
     "execution_count": 17,
     "metadata": {},
     "output_type": "execute_result"
    }
   ],
   "source": [
    "DF['ASBH02A'].value_counts()"
   ]
  },
  {
   "cell_type": "code",
   "execution_count": 18,
   "metadata": {
    "scrolled": true
   },
   "outputs": [
    {
     "data": {
      "text/plain": [
       "Yes    38475\n",
       "No      2890\n",
       "9.0      138\n",
       "Name: ASBH02A, dtype: int64"
      ]
     },
     "execution_count": 18,
     "metadata": {},
     "output_type": "execute_result"
    }
   ],
   "source": [
    "# Mapping dictionary\n",
    "update_dict2 = {1.0: 'Yes',2.0:'No' }\n",
    "\n",
    "# Updating the column using map\n",
    "DF['ASBH02A'] = DF['ASBH02A'].map(update_dict2).fillna(DF['ASBH02A'])\n",
    "DF['ASBH02A'].value_counts()"
   ]
  },
  {
   "cell_type": "markdown",
   "metadata": {},
   "source": [
    "So we have 2890 children who were not born in the country where they took the test."
   ]
  },
  {
   "cell_type": "code",
   "execution_count": 19,
   "metadata": {
    "scrolled": true
   },
   "outputs": [
    {
     "data": {
      "text/plain": [
       "Yes    25915\n",
       "1.0    12270\n",
       "2.0     1477\n",
       "No      1175\n",
       "9.0      342\n",
       "Name: ASBH03A, dtype: int64"
      ]
     },
     "execution_count": 19,
     "metadata": {},
     "output_type": "execute_result"
    }
   ],
   "source": [
    "DF[\"ASBH03A\"].value_counts()"
   ]
  },
  {
   "cell_type": "code",
   "execution_count": 21,
   "metadata": {
    "scrolled": true
   },
   "outputs": [
    {
     "data": {
      "text/plain": [
       "Yes    38185\n",
       "No      2652\n",
       "9.0      342\n",
       "Name: ASBH03A, dtype: int64"
      ]
     },
     "execution_count": 21,
     "metadata": {},
     "output_type": "execute_result"
    }
   ],
   "source": [
    "# Updating the column using map\n",
    "DF['ASBH03A'] = DF['ASBH03A'].map(update_dict2).fillna(DF['ASBH03A'])\n",
    "DF['ASBH03A'].value_counts()"
   ]
  },
  {
   "cell_type": "markdown",
   "metadata": {},
   "source": [
    "And we have 2652 children who did not speak the language of the test before they started school. So some children were born elsewhere but were already speaking the language of the test before they started school."
   ]
  },
  {
   "cell_type": "markdown",
   "metadata": {},
   "source": [
    "I want to see how many columns are affected by having strings and ints - so I want to see th unique values for each column. "
   ]
  },
  {
   "cell_type": "code",
   "execution_count": 30,
   "metadata": {
    "scrolled": true
   },
   "outputs": [
    {
     "name": "stdout",
     "output_type": "stream",
     "text": [
      "Country                                                                                                                                                                                                                                                                                                                                                                                                                                                                                                                                                                                                                                                                                                                                                                                                                                                                                                                                                                                                                                                                                                                                                                                                                                                        [Turkey, Austria, Germany, Egypt, France, Iran, Jordan, Netherlands, Sweden]\n",
      "IDSTUD                                                                                                                                                                                                                                                                                        [50010601, 50010602, 50010603, 50010604, 50010605, 50010607, 50010608, 50010609, 50010610, 50010611, 50010613, 50010614, 50010615, 50010616, 50010617, 50010618, 50010619, 50010620, 50010621, 50010622, 50010623, 50010624, 50010625, 50010626, 50010627, 50010630, 50010631, 50010633, 50010634, 50010635, 50010636, 50011401, 50011402, 50011403, 50011404, 50011406, 50011407, 50011408, 50011409, 50011411, 50011412, 50011413, 50011414, 50011415, 50011416, 50011417, 50011418, 50011419, 50011420, 50011421, 50011422, 50011423, 50011425, 50011426, 50011427, 50011428, 50011429, 50011430, 50011431, 50011432, 50011433, 50011434, 50020101, 50020102, 50020103, 50020104, 50020106, 50020107, 50020108, 50020109, 50020110, 50020111, 50020112, 50020113, 50020115, 50020116, 50020118, 50030301, 50030302, 50030303, 50030304, 50030306, 50030307, 50030309, 50030310, 50030311, 50030312, 50030313, 50030314, 50030315, 50030316, 50030317, 50030318, 50030319, 50030320, 50030321, 50030322, 50040101, 50040102, 50040103, ...]\n",
      "ASBH02A                                                                                                                                                                                                                                                                                                                                                                                                                                                                                                                                                                                                                                                                                                                                                                                                                                                                                                                                                                                                                                                                                                                                                                                                                                                                                                                 [Yes, nan, No, 9.0]\n",
      "ASBH02B                                                                                                                                                                                                                                                                                                                                                                                                                                                                                                                                                                                                                                                                                                                                                                                                                                                                                                                                                                                                                                                                                                                                                                                                             [6.0, nan, 2.0, 1.0, 3.0, 9.0, 4.0, 3 to 5 years old, 8 years old or older, 6 to 7 years old, Younger than 3 years old]\n",
      "ASBH03A                                                                                                                                                                                                                                                                                                                                                                                                                                                                                                                                                                                                                                                                                                                                                                                                                                                                                                                                                                                                                                                                                                                                                                                                                                                                                                                 [Yes, No, 9.0, nan]\n",
      "ASBH04                                                                                                                                                                                                                                                                                                                                                                                                                                                                                                                                                                                                                                                                                                                                                                                                                                                                                                                                                                                                                                                                                                                                                                                                                                                              [1.0, 2.0, nan, 9.0, 4.0, 3.0, Always, Never, Almost always, Sometimes]\n",
      "ASBH15A                                                                                                                                                                                                                                                                                                                                                                                                                                                                                                                                                                                                                                                                                                                                                                                                    [99.0, 5.0, 2.0, 4.0, 7.0, 1.0, 6.0, 3.0, nan, 8.0, 10.0, 9.0, <Master’s or equivalent level—ISCED Level 7>, <Upper secondary education—ISCED Level 3>, <Doctor or equivalent level—ISCED Level 8>, <Short-cycle tertiary education—ISCED Level 5>, <Lower secondary education—ISCED Level 2>, Some <Primary education—ISCED Level 1 or Lower secondary education—ISCED Level 2>, Not applicable, <Bachelor’s or equivalent level—ISCED Level 6>, <Post-secondary, non-tertiary education— ISCED Level 4>, Did not go to school]\n",
      "ASBH15B                                                                                                                                                                                                                                                                                                                                                                                                                                                                                                                                                                                                                                                                                                                                                                                                    [7.0, 3.0, 99.0, 6.0, 4.0, 5.0, 8.0, 2.0, nan, 1.0, 10.0, 9.0, <Master’s or equivalent level—ISCED Level 7>, <Post-secondary, non-tertiary education— ISCED Level 4>, <Doctor or equivalent level—ISCED Level 8>, <Upper secondary education—ISCED Level 3>, <Short-cycle tertiary education—ISCED Level 5>, <Bachelor’s or equivalent level—ISCED Level 6>, <Lower secondary education—ISCED Level 2>, Some <Primary education—ISCED Level 1 or Lower secondary education—ISCED Level 2>, Did not go to school, Not applicable]\n",
      "ASBH16                                                                                                                                                                                                                                                                                                                                                                                                                                                                                                                                                                                                                                                                                                                                                                                                                                                                                                                              [6.0, 3.0, 5.0, 4.0, nan, 9.0, 2.0, 1.0, Finish <Short-cycle tertiary education—ISCED Level 5>, Finish <Upper secondary education—ISCED Level 3>, Finish <Postgraduate degree: Master’s—ISCED Level 7 or Doctor—ISCED Level 8>, Finish <Bachelor’s or equivalent level—ISCED Level 6>, Finish <Lower secondary education—ISCED Level 2>, Finish <Post-secondary, non-tertiary education—ISCED Level 4>]\n",
      "ASBH17A          [99.0, 1.0, 3.0, 4.0, 10.0, 12.0, 11.0, nan, 8.0, 2.0, 7.0, 6.0, 5.0, 9.0, Corporate Manager or Senior Official Includes corporate managers such as managers of large companies (25 or more employe, Not applicable, Professional Includes scientists; mathematicians; computer scientists; architects; engineers; life science and health pr, Technician or Associate Professional Includes science, engineering, and computer associates and technicians; life scienc, Small Business Owner Includes owners of small businesses (fewer than 25 employees) such as retail shops, services, resta, Service or Sales Worker Includes travel attendants; restaurant service workers; personal care workers; protective servic, Craft or Trade Worker Includes builders, carpenters, plumbers, electricians, metal workers; machine mechanics; handicraf, Plant or Machine Operator Includes plant and machine operators; assembly-line operators; motor-vehicle drivers, General Laborers Includes domestic helpers and cleaners; building caretakers; messengers, porters, and doorkeepers; farm, Clerical Worker Includes office clerks; secretaries; data entry operators; customer service clerks, Skilled Agricultural or Fishery Worker Includes farmers; forestry workers; fishery workers, Has never worked for pay]\n",
      "ASBH17B          [9.0, 2.0, 99.0, 5.0, 3.0, 6.0, 12.0, 4.0, 10.0, 8.0, 11.0, nan, 7.0, 1.0, Corporate Manager or Senior Official Includes corporate managers such as managers of large companies (25 or more employe, Professional Includes scientists; mathematicians; computer scientists; architects; engineers; life science and health pr, Clerical Worker Includes office clerks; secretaries; data entry operators; customer service clerks, Technician or Associate Professional Includes science, engineering, and computer associates and technicians; life scienc, Has never worked for pay, Service or Sales Worker Includes travel attendants; restaurant service workers; personal care workers; protective servic, Small Business Owner Includes owners of small businesses (fewer than 25 employees) such as retail shops, services, resta, General Laborers Includes domestic helpers and cleaners; building caretakers; messengers, porters, and doorkeepers; farm, Craft or Trade Worker Includes builders, carpenters, plumbers, electricians, metal workers; machine mechanics; handicraf, Not applicable, Skilled Agricultural or Fishery Worker Includes farmers; forestry workers; fishery workers, Plant or Machine Operator Includes plant and machine operators; assembly-line operators; motor-vehicle drivers]\n",
      "ASBH18AA                                                                                                                                                                                                                                                                                                                                                                                                                                                                                                                                                                                                                                                                                                                                                                                                                                                                                                                                                                                                                                                                                                                                                                                                                                                                                                 [9.0, 1.0, 2.0, nan, 6.0, Yes, No]\n",
      "ASBH18AB                                                                                                                                                                                                                                                                                                                                                                                                                                                                                                                                                                                                                                                                                                                                                                                                                                                                                                                                                                                                                                                                                                                                                                                                                                                                                                 [1.0, 9.0, 2.0, nan, 6.0, Yes, No]\n",
      "ASBG01                                                                                                                                                                                                                                                                                                                                                                                                                                                                                                                                                                                                                                                                                                                                                                                                                                                                                                                                                                                                                                                                                                                                                                                                                                                                                                  [2.0, 1.0, nan, Girl, Boy, <Other>]\n",
      "ASBG03                                                                                                                                                                                                                                                                                                                                                                                                                                                                                                                                                                                                                                                                                                                                                                                                                                                                                                                                                                                                                                                                             [1.0, 3.0, 2.0, 9.0, 4.0, nan, I always speak <language of test> at home, I sometimes speak <language of test> and sometimes speak another language at home, I almost always speak <language of test> at home, I never speak <language of test> at home]\n",
      "ASBG10C                                                                                                                                                                                                                                                                                                                                                                                                                                                                                                                                                                                                                                                                                                                                                                                                                                                                                                                                                                                                                                                                                                                                                                                                                                      [1.0, 2.0, 4.0, 9.0, 3.0, nan, Agree a little, Agree a lot, Disagree a little, Disagree a lot]\n",
      "ASBG10D                                                                                                                                                                                                                                                                                                                                                                                                                                                                                                                                                                                                                                                                                                                                                                                                                                                                                                                                                                                                                                                                                                                                                                                                                                      [1.0, 2.0, 3.0, 4.0, 9.0, nan, Agree a little, Agree a lot, Disagree a little, Disagree a lot]\n",
      "ASBG10E                                                                                                                                                                                                                                                                                                                                                                                                                                                                                                                                                                                                                                                                                                                                                                                                                                                                                                                                                                                                                                                                                                                                                                                                                                      [1.0, 2.0, 4.0, 3.0, 9.0, nan, Disagree a little, Agree a lot, Agree a little, Disagree a lot]\n",
      "ASBG10F                                                                                                                                                                                                                                                                                                                                                                                                                                                                                                                                                                                                                                                                                                                                                                                                                                                                                                                                                                                                                                                                                                                                                                                                                                      [1.0, 2.0, 3.0, 4.0, 9.0, nan, Agree a lot, Agree a little, Disagree a little, Disagree a lot]\n",
      "ASBG11A                                                                                                                                                                                                                                                                                                                                                                                                                                                                                                                                                                                                                                                                                                                                                                                                                                                                                                                                                                                                                                                                                                                                                                                                                              [4.0, 1.0, 3.0, 2.0, 9.0, nan, Never, Once or twice a month, A few times a year, At least once a week]\n",
      "ASBG11B                                                                                                                                                                                                                                                                                                                                                                                                                                                                                                                                                                                                                                                                                                                                                                                                                                                                                                                                                                                                                                                                                                                                                                                                                              [4.0, 3.0, 1.0, 2.0, 9.0, nan, Never, Once or twice a month, A few times a year, At least once a week]\n",
      "ASBG11C                                                                                                                                                                                                                                                                                                                                                                                                                                                                                                                                                                                                                                                                                                                                                                                                                                                                                                                                                                                                                                                                                                                                                                                                                              [4.0, 1.0, 3.0, 2.0, 9.0, nan, A few times a year, At least once a week, Once or twice a month, Never]\n",
      "ASBG11D                                                                                                                                                                                                                                                                                                                                                                                                                                                                                                                                                                                                                                                                                                                                                                                                                                                                                                                                                                                                                                                                                                                                                                                                                              [4.0, 2.0, 1.0, 3.0, 9.0, nan, Once or twice a month, Never, A few times a year, At least once a week]\n",
      "ASBG11E                                                                                                                                                                                                                                                                                                                                                                                                                                                                                                                                                                                                                                                                                                                                                                                                                                                                                                                                                                                                                                                                                                                                                                                                                              [4.0, 9.0, 3.0, 1.0, 2.0, nan, Never, A few times a year, Once or twice a month, At least once a week]\n",
      "ASBG11F                                                                                                                                                                                                                                                                                                                                                                                                                                                                                                                                                                                                                                                                                                                                                                                                                                                                                                                                                                                                                                                                                                                                                                                                                              [4.0, 3.0, 1.0, 2.0, 9.0, nan, Never, A few times a year, Once or twice a month, At least once a week]\n",
      "ASBG11G                                                                                                                                                                                                                                                                                                                                                                                                                                                                                                                                                                                                                                                                                                                                                                                                                                                                                                                                                                                                                                                                                                                                                                                                                              [4.0, 3.0, 1.0, 9.0, 2.0, nan, Never, Once or twice a month, A few times a year, At least once a week]\n",
      "ASBG11H                                                                                                                                                                                                                                                                                                                                                                                                                                                                                                                                                                                                                                                                                                                                                                                                                                                                                                                                                                                                                                                                                                                                                                                                                              [4.0, 1.0, 3.0, 2.0, 9.0, nan, A few times a year, Never, At least once a week, Once or twice a month]\n",
      "ASBG11I                                                                                                                                                                                                                                                                                                                                                                                                                                                                                                                                                                                                                                                                                                                                                                                                                                                                                                                                                                                                                                                                                                                                                                                                                              [4.0, 3.0, 1.0, 2.0, 9.0, nan, Never, At least once a week, A few times a year, Once or twice a month]\n",
      "ASBG11J                                                                                                                                                                                                                                                                                                                                                                                                                                                                                                                                                                                                                                                                                                                                                                                                                                                                                                                                                                                                                                                                                                                                                                                                                              [4.0, 2.0, 3.0, 1.0, 9.0, nan, Never, A few times a year, At least once a week, Once or twice a month]\n",
      "ASDAGE                                                                                                                                                                                                                                                                                                                                                                                                                                                                                                                                                                                                                                                                                                                                                                                                                                    [10.17, 9.42, 9.5, 9.58, 10.0, 9.92, 10.33, 9.67, 10.25, 9.75, 10.67, 10.58, 9.83, 9.25, 10.08, 10.42, 10.5, 11.0, 10.92, 9.33, 11.42, 8.75, 9.17, 12.33, 10.83, 12.25, 8.83, 11.33, 9.0, 9.08, 10.75, 11.25, 8.92, 11.08, 12.08, 11.17, 14.42, 12.5, 8.67, 13.58, 12.42, 8.42, 99.0, 11.92, 11.67, 11.58, 11.5, 13.42, 11.83, 13.25, 12.17, 11.75, 12.58, 12.0, 12.67, nan, 13.33, 8.58, 13.0, 13.5, 8.5, 13.08, 13.17, 12.92, 12.83, 12.75, 14.5, 8.08, 14.17, 13.75, 14.08, 13.83, 8.33, 6.75]\n",
      "ASRREA01                                                                                                                                                                                            [575.43893, 624.14372, 566.97797, 559.10952, 569.82363, 599.02951, 582.63476, 528.27203, 518.12764, 635.88858, 554.25467, 546.38938, 553.46349, 515.55137, 512.23491, 615.51066, 481.29411, 544.74015, 563.83238, 553.79262, 614.14792, 679.87346, 617.95198, 520.56337, 550.93189, 606.35204, 532.03476, 522.35833, 605.24343, 519.54289, 577.08154, 560.55174, 605.04905, 520.77576, 551.39669, 554.90336, 516.56523, 622.14501, 690.24734, 634.66466, 627.71757, 685.01786, 619.4691, 640.32576, 544.80834, 534.25636, 576.34888, 599.13138, 495.02344, 628.19926, 494.48771, 572.12125, 599.50102, 704.39037, 462.64022, 522.71321, 504.9253, 668.72133, 591.4443, 495.98122, 675.61632, 553.8664, 501.74521, 607.44681, 534.32984, 480.73742, 464.83087, 613.53963, 452.23957, 565.98406, 558.59455, 674.6449, 571.5043, 486.3461, 520.12188, 594.46256, 526.65109, 517.59893, 542.91038, 454.07718, 469.62263, 371.4578, 431.37508, 511.43487, 423.48556, 567.76609, 483.59265, 540.12029, 582.04906, 390.18232, 521.5989, 412.52822, 553.96502, 433.66129, 635.18564, 593.3912, 464.82833, 405.91412, 495.02028, 303.56511, ...]\n",
      "ASRREA02                                                                                                                                                                                           [557.2702, 612.68392, 568.76819, 606.69925, 570.48828, 594.51579, 625.49564, 535.76223, 513.33475, 716.48488, 515.23034, 567.51915, 558.10015, 569.66643, 524.02117, 639.0944, 478.33626, 554.44905, 602.35672, 560.06157, 620.7022, 695.28005, 617.70822, 499.53636, 513.13532, 601.03107, 544.15256, 513.34071, 698.69394, 490.0307, 607.11176, 612.16461, 659.96117, 543.63355, 570.0811, 532.91828, 526.29291, 575.20008, 563.72161, 599.04717, 747.56404, 610.36524, 624.90209, 634.70433, 544.15482, 624.02951, 571.68351, 579.08091, 550.27083, 634.76871, 501.97591, 601.68327, 643.39143, 562.67302, 526.58014, 494.86964, 496.81308, 621.39259, 563.60669, 472.28546, 631.62706, 602.27108, 530.30878, 594.15401, 503.75843, 519.1774, 481.20639, 550.21497, 483.02044, 527.71766, 521.09045, 613.49447, 555.729, 489.06262, 542.21209, 576.83607, 515.87288, 498.09673, 573.22039, 460.4186, 493.40823, 388.54133, 445.69075, 506.31464, 456.84523, 577.09855, 542.23889, 544.31892, 545.39081, 442.18167, 520.36893, 436.77802, 530.76555, 453.60058, 580.89311, 540.03431, 441.73691, 442.89034, 466.73835, 310.42133, ...]\n",
      "ASRREA03                                                                                                                                                                                                [561.95322, 544.73823, 532.78288, 618.60416, 577.86628, 535.78944, 600.35828, 555.90213, 527.16158, 684.8086, 552.85677, 581.31138, 525.91553, 566.1516, 510.9636, 590.3287, 477.94925, 502.56087, 544.69955, 547.39002, 617.7345, 614.53049, 572.59708, 455.16915, 637.32582, 543.75632, 529.87356, 576.66428, 651.93532, 557.39244, 592.25374, 551.05685, 599.89115, 539.41769, 568.6974, 542.86536, 556.57783, 647.75433, 629.24401, 559.3464, 661.28087, 684.89462, 675.17413, 642.18149, 517.67764, 589.66791, 573.3728, 581.24347, 573.05661, 667.92957, 495.91433, 618.7655, 644.08739, 567.87075, 499.4332, 494.87016, 508.71105, 586.27056, 583.04494, 520.78349, 662.55449, 577.11361, 529.49161, 584.24694, 514.12666, 428.75565, 491.80824, 565.87656, 393.96998, 534.84004, 552.59851, 641.30576, 546.22979, 483.18933, 487.97483, 608.43453, 522.2237, 500.42356, 573.75937, 435.95493, 523.05025, 360.71949, 390.33052, 544.06891, 425.71894, 575.00604, 529.8182, 516.42573, 541.67518, 448.4299, 498.67611, 422.16498, 566.78718, 421.33689, 580.2846, 518.47321, 446.87857, 444.08561, 500.38939, 319.24808, ...]\n",
      "ASRREA04                                                                                                                                                                                                [573.6631, 503.87599, 529.96707, 537.07661, 581.31827, 546.12736, 610.26663, 494.75246, 557.56336, 651.86717, 545.41073, 608.60684, 595.97201, 633.32933, 489.9752, 562.60728, 474.57793, 580.61549, 599.88936, 565.65259, 670.39843, 648.98032, 591.57771, 478.73155, 553.47615, 596.18284, 517.28718, 511.03551, 635.73151, 512.27971, 559.26102, 532.83195, 585.45269, 568.81204, 554.14382, 472.329, 546.24458, 607.3181, 662.27051, 594.05122, 605.751, 672.07741, 630.9758, 672.43562, 531.19977, 640.2962, 563.74719, 597.17711, 558.37699, 622.73405, 471.80482, 577.18692, 619.15727, 596.61259, 530.82288, 493.42287, 472.44631, 682.21563, 546.57056, 517.57416, 713.58958, 581.87498, 561.72755, 634.02245, 530.97335, 484.85349, 488.412, 614.08123, 455.18603, 533.44512, 596.31791, 631.37528, 547.86587, 436.8232, 487.9609, 567.78103, 527.22926, 541.06056, 575.83495, 440.50457, 473.89415, 350.94241, 410.61726, 471.48951, 428.08847, 548.89771, 501.20603, 545.40571, 557.78168, 438.67933, 491.52414, 505.15211, 573.1034, 428.22837, 576.85786, 515.21499, 345.82531, 486.77141, 523.83364, 343.17752, ...]\n",
      "ASRREA05                                                                                                                                                                                             [567.45202, 556.77689, 574.76885, 578.13802, 563.87699, 568.3219, 534.66485, 513.84948, 505.04059, 762.59691, 527.18893, 560.64413, 588.31518, 585.58532, 529.38123, 526.45383, 472.11403, 529.20923, 583.21855, 525.81811, 663.48717, 688.61626, 609.64318, 491.81406, 631.58332, 589.6219, 546.65686, 535.49596, 527.8586, 507.0615, 620.47453, 605.503, 590.16931, 581.31918, 558.65215, 552.45629, 617.27408, 591.58137, 638.56772, 544.89975, 616.57569, 692.78495, 771.51094, 624.38752, 539.95913, 609.90443, 560.03939, 558.07981, 573.32448, 633.14195, 480.11171, 641.79658, 672.86706, 599.81199, 518.83811, 498.71057, 519.95139, 595.77099, 580.66685, 552.33751, 637.81487, 581.85254, 491.63385, 622.29307, 525.05787, 494.0038, 497.90417, 558.21808, 498.64215, 552.19607, 526.18951, 600.49068, 558.50414, 454.9421, 528.30221, 584.26023, 533.0934, 538.18151, 573.27596, 443.56397, 466.66877, 370.10129, 378.70966, 506.68856, 437.33764, 643.77667, 508.28514, 578.02663, 537.22722, 401.3927, 473.00299, 453.95549, 575.7572, 485.28527, 579.87779, 551.51009, 391.57494, 451.02398, 506.91841, 281.99653, ...]\n",
      "ASRLIT01                                                                                                                                                                                          [574.18458, 558.67343, 510.07336, 552.78456, 504.06288, 630.18423, 617.63771, 479.0424, 509.47168, 645.45286, 583.50726, 607.85288, 583.1368, 529.94527, 504.4261, 673.73332, 477.36936, 614.24003, 569.16363, 515.10418, 708.34841, 656.20554, 634.66436, 525.01795, 641.90293, 611.80319, 473.8923, 513.61566, 681.63494, 534.74161, 565.55519, 566.49414, 609.69364, 518.57697, 596.72863, 490.94602, 548.35623, 554.84586, 686.6964, 565.97764, 594.12285, 681.51241, 680.91358, 704.17624, 581.61653, 646.27579, 634.96387, 589.85705, 505.46032, 666.07086, 500.53055, 517.92827, 623.12009, 636.4293, 487.12528, 474.28219, 548.13956, 588.57726, 554.08379, 537.23432, 698.69284, 520.32247, 539.33206, 558.63353, 537.80669, 438.38029, 500.89989, 543.67836, 498.72165, 581.34225, 559.54898, 648.82957, 495.99801, 506.77389, 510.03998, 626.91478, 517.6086, 507.47826, 572.90255, 403.72774, 445.03031, 371.33903, 444.84956, 546.55048, 472.41263, 567.28278, 568.65243, 548.50645, 539.27171, 425.06385, 462.57997, 407.8074, 551.68654, 424.34402, 620.45711, 590.96871, 438.27658, 443.00178, 502.82807, 319.67856, ...]\n",
      "ASRLIT02                                                                                                                                                                                         [538.50995, 490.57312, 546.94331, 549.12705, 561.58346, 529.70187, 573.40051, 539.56275, 515.46201, 734.20897, 505.43467, 595.20937, 536.20534, 585.31009, 560.01228, 532.89651, 423.10626, 569.16448, 578.20895, 550.35442, 692.98664, 649.97449, 626.06302, 465.18976, 576.92592, 550.52294, 493.25512, 539.85891, 695.38942, 497.57783, 627.2069, 591.35443, 590.2587, 614.72697, 636.54374, 492.19462, 577.36852, 511.90949, 614.49664, 554.59477, 675.27005, 647.06821, 715.42305, 693.26113, 582.62932, 545.41916, 562.43765, 535.31192, 583.56423, 685.37707, 469.70461, 555.83169, 582.34794, 683.46228, 498.89813, 429.78749, 510.90907, 597.57077, 526.25461, 544.58006, 666.21746, 578.3635, 493.44808, 544.57462, 481.28351, 468.38194, 488.63368, 597.95422, 423.08294, 528.37273, 583.17318, 665.5133, 544.53241, 455.16068, 541.24289, 530.87841, 552.39655, 502.72156, 577.56805, 457.39812, 497.60894, 321.59019, 404.70317, 482.31783, 410.10178, 532.9687, 523.74523, 565.63065, 571.33713, 334.71892, 467.60127, 440.28957, 514.6872, 526.24311, 601.47408, 460.07674, 445.18437, 468.2395, 436.40833, 276.20237, ...]\n",
      "ASRLIT03                                                                                                                                                                                             [552.13065, 518.70781, 579.40362, 549.04198, 527.24071, 588.24869, 641.24392, 539.2224, 492.94244, 649.92426, 554.97238, 566.33393, 590.58552, 545.81327, 538.46952, 593.31643, 474.05873, 592.05145, 614.339, 501.25792, 618.77826, 630.45106, 607.42412, 445.74807, 577.10065, 591.19084, 500.20069, 473.07846, 649.82486, 525.86995, 581.74888, 580.10062, 595.46382, 560.07551, 564.70831, 559.71424, 613.43199, 604.01205, 639.79641, 596.647, 633.44476, 639.68425, 676.7658, 685.89691, 494.20444, 649.74543, 565.15456, 565.43042, 544.43038, 634.75296, 544.87179, 594.77289, 600.48052, 624.37919, 485.57904, 470.55056, 463.28244, 670.69351, 584.5549, 516.94267, 680.63502, 581.60257, 527.57038, 545.26515, 474.65829, 460.5471, 507.87225, 572.93036, 510.64772, 557.22215, 539.75961, 560.94763, 573.7427, 491.78962, 468.65103, 565.04178, 530.54679, 526.8849, 523.80014, 413.08418, 472.21044, 315.2347, 416.36691, 498.44058, 488.99101, 546.21487, 536.00408, 468.37065, 573.11073, 406.84366, 514.67838, 385.90237, 523.20325, 527.16281, 649.08722, 531.94666, 396.55848, 484.35203, 496.92475, 274.31089, ...]\n",
      "ASRLIT04                                                                                                                                                                                           [544.30274, 579.02561, 573.21826, 574.22474, 550.61312, 630.29038, 589.431, 530.4465, 525.49455, 648.5011, 555.62419, 595.27006, 511.52654, 610.12899, 530.01808, 467.42262, 470.53763, 596.28856, 595.21464, 492.29404, 700.90373, 631.11047, 636.32733, 467.45906, 645.90658, 633.33775, 523.57191, 499.89871, 580.52476, 481.98317, 588.64263, 611.27362, 643.35475, 586.25266, 598.03538, 538.83924, 547.13231, 598.22701, 610.29301, 553.68277, 690.7999, 586.96283, 681.48966, 677.52685, 504.18873, 701.63802, 537.41121, 539.60133, 561.97081, 588.09012, 483.76602, 623.04464, 616.21213, 639.73589, 563.53319, 493.20158, 537.40403, 602.9434, 547.59542, 516.93698, 597.97769, 547.22684, 501.93507, 619.57429, 500.18805, 478.54731, 478.41922, 520.87084, 457.86144, 569.05633, 529.21924, 570.49236, 570.81752, 511.28646, 542.24625, 547.55806, 575.25196, 515.47098, 581.34156, 455.11624, 483.1937, 376.88856, 392.14009, 518.52183, 431.29226, 564.51196, 511.84626, 534.5176, 553.07966, 341.44609, 452.87941, 406.24697, 559.54287, 468.14869, 628.7593, 606.60178, 357.72155, 378.74511, 459.32415, 334.45767, ...]\n",
      "ASRLIT05                                                                                                                                                                                           [526.00088, 587.62561, 543.85171, 579.36628, 545.01145, 567.74485, 580.69505, 513.78333, 491.50154, 657.21653, 557.52379, 619.8823, 570.00023, 535.22662, 465.77242, 558.03663, 451.41733, 574.94845, 592.94974, 517.59047, 711.90004, 668.32584, 584.64015, 514.94933, 565.53234, 617.95226, 570.42558, 515.59499, 684.16478, 541.44278, 619.09939, 620.54325, 622.42343, 527.55931, 635.03167, 492.14413, 537.14065, 542.28641, 671.05878, 665.45464, 512.94719, 659.40381, 653.99732, 644.53126, 577.32445, 619.04246, 553.7866, 562.63458, 529.54616, 690.71819, 447.32772, 613.3095, 626.88188, 555.73623, 483.31462, 484.1446, 488.31996, 626.78393, 586.499, 503.3359, 705.00025, 562.26143, 488.43238, 626.37242, 490.21276, 494.06985, 498.11957, 582.94838, 453.95621, 639.99107, 598.50311, 628.47364, 568.88757, 433.59461, 515.21662, 584.62446, 560.03241, 460.06827, 569.88299, 389.86789, 452.60251, 366.1726, 393.85976, 475.4834, 421.50691, 558.49922, 501.44669, 452.08413, 510.06696, 388.26444, 480.50701, 415.96984, 571.51937, 520.69091, 581.00235, 514.80337, 442.98661, 421.93554, 468.01098, 254.59801, ...]\n",
      "ASRINF01                                                                                                                                                                                                [603.4214, 589.18148, 588.0798, 572.97888, 519.70329, 675.06685, 606.49005, 492.41226, 533.23985, 647.84849, 556.1975, 618.22015, 575.75351, 574.82484, 505.57583, 649.13082, 511.75352, 554.69107, 563.80806, 525.84221, 664.70355, 658.5687, 606.00286, 480.4036, 547.10758, 579.01339, 533.17248, 545.41419, 665.3094, 494.38461, 582.86894, 563.04853, 612.57513, 550.26152, 607.05377, 502.80151, 514.23199, 596.18222, 669.67758, 595.44864, 613.61464, 663.90667, 659.73847, 688.88166, 613.90621, 644.06824, 596.54626, 603.18285, 543.3306, 641.33586, 470.7519, 572.34291, 642.55377, 608.30893, 493.01475, 482.97499, 536.09701, 594.55121, 551.78495, 579.25194, 732.80497, 519.12359, 514.61964, 597.2149, 511.72503, 428.31437, 489.1192, 531.44753, 504.4087, 556.26579, 521.34701, 579.69017, 534.77651, 504.87512, 482.77837, 644.01461, 524.72637, 499.56473, 554.7102, 459.70306, 436.48324, 365.87954, 436.89858, 542.81624, 509.50781, 581.1038, 566.87284, 540.73347, 563.25594, 437.03658, 481.79555, 462.17868, 578.85004, 463.19569, 660.30087, 542.78123, 445.9774, 462.18041, 504.41532, 322.75423, ...]\n",
      "ASRINF02                                                                                                                                                                                                  [557.18476, 567.6433, 530.325, 574.68991, 555.36239, 597.62458, 642.44965, 568.32805, 486.66744, 708.661, 520.1197, 564.29689, 546.53583, 638.56841, 553.67178, 560.66837, 491.46458, 528.47409, 553.53807, 546.85458, 682.9366, 694.63546, 580.11029, 442.02968, 551.8489, 538.10791, 502.79375, 587.62538, 679.46408, 433.0192, 588.48193, 575.08271, 595.95009, 572.87894, 579.95338, 524.54448, 552.69508, 561.52072, 615.9754, 576.64249, 650.22865, 590.21814, 676.54158, 675.96691, 608.19167, 501.4108, 551.99759, 542.58743, 590.16577, 706.31326, 494.03455, 621.47906, 590.75121, 666.81964, 515.22428, 449.45214, 517.69936, 673.01165, 536.04648, 565.6671, 671.22522, 607.71251, 556.36425, 604.75704, 500.81005, 475.05957, 503.9401, 630.31333, 401.57302, 554.26749, 538.60669, 663.65365, 566.02098, 464.0315, 533.27092, 577.90016, 534.27761, 521.47225, 534.72627, 465.12835, 499.91684, 309.98016, 393.83509, 512.83875, 473.3631, 569.84686, 507.37863, 574.37567, 568.10162, 402.29731, 505.2108, 460.93606, 545.02862, 518.96031, 656.81623, 459.48421, 420.61577, 477.57593, 484.54418, 292.18984, ...]\n",
      "ASRINF03                                                                                                                                                                                                 [579.4064, 583.6373, 608.01411, 587.09957, 541.11246, 592.49081, 644.49228, 557.32124, 516.8371, 623.65636, 543.50032, 594.86087, 577.27351, 576.63577, 521.95226, 592.99951, 484.7134, 512.57996, 570.84212, 488.22784, 608.74713, 650.08117, 585.19408, 383.03852, 558.63489, 599.47371, 519.65433, 506.82243, 641.21748, 523.56863, 576.5371, 583.47668, 573.03243, 515.3936, 580.40797, 575.51536, 563.15975, 653.01818, 623.81101, 603.37555, 612.81205, 639.20744, 676.17858, 663.51542, 541.73003, 647.1098, 558.33032, 565.42681, 505.88496, 616.31312, 496.21715, 604.84889, 588.95393, 604.53917, 477.95244, 471.51251, 499.27248, 665.43244, 568.49594, 514.65544, 669.6692, 537.06564, 534.97308, 588.69052, 461.63294, 476.17289, 524.90542, 564.36721, 455.75955, 555.5811, 514.36198, 570.03183, 565.44719, 496.0591, 406.51677, 582.8766, 510.83642, 513.76314, 530.9632, 414.62234, 492.45102, 299.67929, 455.90659, 511.32682, 490.27728, 584.68825, 500.99544, 514.62601, 575.1717, 417.45676, 547.41101, 450.93496, 531.19441, 450.5417, 630.77518, 545.10834, 387.06991, 541.67416, 528.7552, 299.37473, ...]\n",
      "ASRINF04                                                                                                                                                                                      [589.70854, 605.92949, 592.02409, 616.07931, 562.87383, 648.48427, 590.52124, 545.92722, 508.27399, 675.83299, 556.53255, 603.84827, 552.15108, 614.01739, 540.15774, 528.63933, 482.48077, 536.83705, 631.44425, 503.67984, 626.57708, 631.12155, 583.26821, 430.10339, 594.35965, 627.73065, 556.65747, 559.88887, 621.1845, 422.35687, 597.62841, 583.17419, 645.25256, 596.45114, 599.03355, 510.52601, 541.29376, 620.87217, 596.76891, 575.31806, 719.99192, 579.89373, 665.05799, 624.07935, 568.50228, 681.83464, 506.12513, 532.06749, 554.78265, 588.60444, 519.23805, 619.85511, 611.05398, 553.42052, 526.6706, 515.73835, 536.96863, 624.68472, 564.91759, 507.48398, 631.68289, 530.82329, 542.98731, 662.41615, 545.08198, 428.68963, 505.09668, 603.97626, 426.55082, 515.35818, 569.03919, 567.19773, 549.09231, 471.35536, 546.65657, 561.77312, 568.91869, 484.02714, 587.76352, 489.3761, 490.71534, 366.50134, 460.74971, 477.19052, 429.16639, 569.03847, 514.95891, 561.66689, 571.90981, 375.79525, 491.15166, 473.88204, 603.45023, 392.43938, 635.59797, 564.94356, 395.82608, 437.65499, 461.9467, 332.78619, ...]\n",
      "ASRINF05                                                                                                                                                                                                    [607.70484, 612.32853, 604.63968, 627.0463, 545.24756, 567.69993, 600.4034, 565.56629, 514.63259, 678.60444, 541.26801, 597.57107, 612.595, 544.18178, 509.97988, 571.0213, 485.11264, 543.43077, 627.45616, 538.76862, 682.61271, 648.00854, 556.56713, 502.61228, 528.01502, 597.95704, 582.30507, 506.10125, 623.5724, 539.19264, 619.1239, 596.2426, 613.86737, 493.98718, 606.39915, 491.25876, 491.37086, 561.00066, 614.44442, 647.36113, 575.6972, 653.91311, 689.14849, 623.29239, 591.87575, 588.31097, 588.00809, 564.34942, 534.507, 693.92274, 490.03973, 618.32172, 554.81649, 541.70105, 495.31965, 504.24517, 540.85199, 646.07, 586.08708, 522.03322, 725.80854, 570.66652, 543.92689, 627.32211, 467.76768, 510.3243, 543.92987, 639.82562, 450.74561, 603.02802, 615.21563, 653.16774, 567.20585, 437.60289, 489.06953, 571.6961, 542.15164, 475.96066, 576.21394, 400.42466, 464.50559, 340.71611, 418.69653, 458.3282, 448.03113, 585.27884, 528.61156, 494.18319, 578.73169, 356.80348, 502.51114, 471.8373, 550.66616, 505.53507, 593.96763, 520.63132, 448.63239, 476.36929, 503.79325, 295.01607, ...]\n",
      "ASRIIE01                                                                                                                                                                                          [512.47061, 533.28483, 555.22771, 597.19872, 519.03545, 533.57305, 592.48492, 546.38205, 542.92514, 708.57343, 528.6263, 579.41325, 578.69667, 483.36732, 466.61841, 623.04977, 453.41342, 522.75361, 569.28739, 500.38624, 614.73831, 705.74955, 574.19181, 457.21554, 551.60481, 555.46026, 552.3505, 472.23636, 714.10172, 532.60286, 630.34299, 614.43024, 596.80812, 550.92935, 562.66138, 449.25061, 594.50053, 584.05652, 622.80093, 574.6045, 676.11246, 677.90589, 593.6435, 678.53159, 509.28167, 530.87171, 643.99894, 590.47328, 578.52661, 617.73775, 464.47263, 569.753, 627.51606, 626.60132, 521.63116, 487.07622, 488.77358, 582.94995, 491.16524, 563.72745, 700.63303, 528.34103, 489.77716, 602.71622, 537.08411, 486.70455, 479.88304, 581.37431, 425.36805, 579.63206, 535.45666, 616.32993, 530.02547, 418.19482, 521.86127, 621.39861, 505.42429, 528.58834, 603.90747, 447.38818, 489.88423, 359.16479, 407.51429, 533.78902, 417.49869, 580.50059, 517.57288, 536.17385, 557.63657, 444.98064, 501.28021, 415.69477, 560.50615, 454.6869, 572.28032, 535.14015, 443.55379, 452.32679, 481.9708, 269.57399, ...]\n",
      "ASRIIE02                                                                                                                                                                                             [531.55392, 570.44237, 511.40394, 550.02047, 558.36346, 637.79627, 571.03521, 535.4142, 501.27309, 673.95076, 553.1349, 597.64738, 535.17925, 561.22599, 522.26945, 614.51995, 464.82459, 503.27322, 557.95002, 559.7729, 621.21514, 604.54282, 571.89289, 459.95166, 575.4943, 635.55482, 532.04776, 513.73453, 644.87934, 547.67848, 590.13506, 581.83859, 602.8939, 461.4298, 624.77557, 538.86321, 528.39625, 615.44756, 600.06012, 574.73386, 604.85501, 652.72509, 629.85768, 710.7631, 561.38588, 632.08774, 602.77663, 548.81435, 570.42122, 674.82683, 484.70716, 526.70563, 626.15749, 688.76097, 477.79518, 471.02111, 488.26943, 519.16693, 580.43182, 483.60825, 664.49994, 564.08924, 503.10008, 622.26157, 481.19582, 482.47895, 489.10226, 549.41376, 462.08991, 575.075, 547.13781, 624.1778, 533.94037, 429.50703, 525.12346, 620.46128, 546.37666, 508.46942, 584.87807, 470.98004, 444.56812, 419.22122, 387.72411, 471.68748, 398.05059, 543.24938, 513.89668, 536.61939, 583.69978, 445.31274, 523.42268, 404.42241, 562.19899, 505.94628, 627.35354, 493.09153, 551.23839, 471.55265, 489.4967, 331.31952, ...]\n",
      "ASRIIE03                                                                                                                                                                                               [530.54494, 533.81285, 535.36974, 590.29351, 578.47305, 575.27922, 565.58887, 574.06826, 505.73772, 710.76474, 568.56271, 583.95421, 558.85117, 613.86137, 533.69884, 606.3071, 450.16407, 583.68257, 564.4486, 492.64786, 637.80798, 638.22244, 600.25241, 452.33637, 586.15779, 621.9122, 534.25519, 489.83865, 582.51699, 509.6125, 579.27171, 573.80403, 603.7687, 528.20709, 571.37944, 530.20714, 534.82481, 573.32969, 699.50279, 635.3055, 636.23412, 583.56692, 640.70434, 649.02733, 529.59924, 544.04648, 624.68046, 609.14502, 558.60031, 611.9602, 475.41518, 608.54484, 638.63988, 541.78487, 481.68142, 448.51139, 528.08907, 668.39156, 524.68832, 522.52425, 673.91265, 560.54758, 529.86728, 614.06325, 470.63545, 407.89081, 491.10651, 568.30311, 485.4958, 540.88146, 537.64853, 640.44876, 565.93799, 489.7552, 519.2193, 566.1979, 543.22178, 491.88284, 553.86555, 443.78372, 474.74596, 391.9547, 407.91016, 521.43491, 452.21475, 558.86537, 499.57087, 559.57246, 548.47668, 405.01657, 563.94391, 417.0494, 538.33473, 468.58611, 600.39656, 508.78863, 423.08321, 497.53203, 473.98999, 258.10447, ...]\n",
      "ASRIIE04                                                                                                                                                                                           [532.47086, 527.90432, 577.63833, 604.19057, 569.08537, 549.17566, 540.26428, 523.92601, 545.68694, 536.13735, 546.85457, 651.69216, 539.94302, 519.11971, 538.22217, 647.9721, 463.71887, 531.07784, 566.25601, 513.5589, 690.47874, 749.45687, 557.49808, 439.6815, 589.34417, 598.18749, 534.44421, 507.27716, 630.58547, 477.63146, 574.22012, 564.78046, 588.51956, 523.05204, 585.1383, 500.70073, 518.80574, 558.20814, 649.09559, 634.49757, 627.82364, 635.64837, 677.66028, 649.76747, 573.57216, 509.30265, 648.70966, 606.64509, 549.99564, 642.78859, 487.79883, 591.59669, 600.26984, 592.82806, 468.96704, 451.95361, 493.68768, 725.17296, 514.69174, 562.52065, 644.90697, 518.2015, 554.85635, 585.44181, 520.61332, 453.48776, 511.51053, 563.19735, 453.63802, 592.21027, 552.4824, 572.36214, 587.8911, 465.57367, 490.72786, 639.67235, 520.99175, 516.24303, 576.41138, 497.08289, 423.84083, 392.68428, 416.10961, 483.65384, 417.16053, 596.00763, 571.29951, 508.4959, 547.79043, 400.86168, 498.98357, 502.07405, 511.62538, 459.22829, 604.99691, 515.77007, 492.86615, 451.70624, 500.74846, 265.5158, ...]\n",
      "ASRIIE05                                                                                                                                                                                                  [551.68836, 552.31885, 579.58198, 599.13247, 553.29817, 616.07003, 596.23778, 555.03302, 514.99487, 621.35785, 525.05264, 558.18443, 564.16921, 507.81671, 502.60253, 616.07085, 481.8363, 509.21646, 581.61868, 520.50987, 647.29631, 705.37534, 625.32479, 490.49462, 609.70883, 639.07421, 563.42159, 527.75327, 602.08214, 537.59687, 568.47145, 557.39394, 623.14213, 577.59687, 583.63775, 486.11997, 466.11346, 520.49757, 702.33614, 684.22294, 613.25021, 646.64223, 640.24831, 661.64832, 531.42655, 634.9449, 574.03312, 604.99057, 552.7681, 607.67428, 479.7279, 550.77006, 586.01344, 637.58245, 464.88141, 495.25093, 494.423, 672.7969, 595.2641, 562.835, 672.62613, 520.10319, 499.10823, 593.46946, 499.60199, 401.12458, 521.06067, 525.091, 441.90307, 561.03184, 558.86959, 568.51227, 603.27132, 465.95704, 529.9429, 551.00176, 511.083, 465.07167, 559.50029, 438.4781, 469.61525, 328.70585, 419.49451, 507.47874, 509.75228, 522.50668, 508.03159, 597.72995, 566.47444, 464.41974, 425.25281, 449.39355, 486.27136, 470.81428, 642.88709, 564.44922, 443.22231, 403.83711, 489.36667, 264.83579, ...]\n",
      "ASRRSI01                                                                                                                                                                                           [511.66661, 509.93363, 595.41526, 602.64538, 559.92889, 558.49329, 613.15493, 527.35699, 543.44672, 727.48511, 507.15849, 567.13867, 598.57123, 459.3033, 487.49868, 642.43887, 491.5361, 524.80891, 586.94707, 521.48461, 635.69369, 705.56157, 622.77763, 496.71948, 530.95434, 535.29556, 532.23932, 533.08536, 681.18755, 512.9061, 673.44357, 652.12314, 624.38339, 570.83576, 575.99105, 491.40054, 624.55804, 603.92182, 613.80984, 575.1327, 693.74873, 699.81051, 629.25677, 658.58549, 526.64417, 593.97752, 576.65827, 590.79997, 535.79241, 680.97301, 485.07771, 611.57471, 625.39878, 614.67806, 542.75752, 508.36338, 529.15989, 605.22298, 490.66493, 542.67854, 725.47022, 525.9107, 511.04631, 596.64671, 536.07686, 500.80086, 502.58249, 566.51857, 444.29205, 581.06543, 560.51541, 596.17387, 509.50649, 460.01744, 542.33934, 641.95341, 523.35468, 537.17367, 604.94371, 426.32594, 490.57353, 366.53984, 407.91253, 557.04873, 400.37719, 580.26183, 520.03659, 551.13503, 538.05003, 421.2541, 532.341, 476.7405, 561.35747, 453.93561, 638.67257, 539.66333, 423.60494, 462.79298, 502.05053, 261.57843, ...]\n",
      "ASRRSI02                                                                                                                                                                                               [550.91604, 590.28715, 531.5494, 548.77512, 576.53703, 658.49534, 571.69336, 514.66892, 481.88241, 673.07552, 531.78097, 580.68536, 535.73625, 554.02072, 536.19066, 650.16909, 463.11949, 523.99539, 578.50327, 598.10826, 662.72398, 604.0079, 612.83775, 514.17816, 586.01805, 636.84103, 508.52128, 575.27217, 644.67056, 535.73019, 613.839, 618.8331, 605.13741, 480.398, 644.88355, 570.91989, 565.5106, 637.34905, 560.37036, 615.53875, 604.94394, 679.89457, 671.12736, 668.84421, 581.36498, 650.25084, 514.92606, 534.72679, 589.41252, 757.78023, 468.36756, 567.75893, 606.36971, 689.25636, 478.13098, 509.98053, 507.81681, 539.6832, 580.72675, 482.93387, 664.34898, 563.20045, 522.67149, 621.60968, 480.6802, 501.75101, 480.58737, 548.2361, 441.30591, 595.401, 567.64751, 625.55921, 508.79968, 452.05887, 525.84107, 629.42607, 568.72136, 530.64838, 583.78193, 431.53109, 455.58685, 418.67213, 391.31873, 491.90534, 379.55364, 519.51053, 534.06812, 557.27965, 566.99337, 402.98729, 525.12623, 451.76825, 562.30867, 521.76801, 637.38746, 481.27838, 507.14161, 451.19831, 466.00708, 330.49613, ...]\n",
      "ASRRSI03                                                                                                                                                                                       [541.14507, 528.73534, 554.99954, 569.19386, 590.71578, 573.70432, 589.36304, 531.12094, 537.10289, 710.5357, 547.89636, 562.95376, 557.22668, 612.83716, 553.15146, 614.0864, 450.78566, 584.03796, 593.84489, 534.46777, 657.74616, 617.89039, 661.05718, 474.00738, 564.99682, 621.23578, 522.68086, 531.20902, 591.97839, 527.05807, 616.45471, 615.66067, 608.21568, 525.51178, 591.94804, 528.65632, 586.34372, 563.56515, 705.53937, 621.59086, 635.22915, 604.67921, 661.22418, 608.54782, 510.11761, 563.94422, 562.65537, 609.71577, 534.44915, 673.18025, 496.72081, 649.63914, 625.92394, 519.17269, 461.78091, 488.96724, 548.87118, 667.11702, 530.87214, 522.03787, 695.42469, 552.80224, 528.38982, 615.37679, 469.4712, 419.59027, 513.83198, 560.62558, 486.75193, 561.9846, 538.30335, 640.17063, 555.56618, 498.72015, 538.15806, 584.63763, 545.32401, 515.54485, 541.8181, 418.42335, 476.43692, 357.82704, 386.67614, 521.53822, 432.33934, 536.39508, 502.70862, 581.61214, 532.61372, 410.75332, 541.46322, 438.54992, 557.40109, 530.49092, 642.23952, 511.96527, 422.95521, 474.81592, 466.85728, 256.93159, ...]\n",
      "ASRRSI04                                                                                                                                                                                          [547.95804, 527.73292, 616.19334, 604.42141, 588.92653, 573.07364, 538.77303, 500.03121, 566.48141, 524.50459, 527.75755, 628.17385, 538.6435, 506.17984, 558.47008, 654.94789, 463.15938, 550.77601, 607.47001, 554.16476, 711.38611, 733.45023, 616.04483, 480.68458, 568.19426, 577.09044, 529.05707, 525.75146, 631.4344, 504.12161, 589.14802, 625.96905, 614.14302, 562.81317, 616.5765, 507.09466, 580.24137, 599.55752, 649.64758, 631.60745, 648.43243, 631.60909, 695.95671, 631.61391, 552.75254, 569.70018, 569.01681, 610.88123, 550.24742, 716.44716, 549.4495, 612.30597, 600.4275, 593.88535, 485.7949, 485.92474, 533.90884, 746.23235, 512.49607, 562.70961, 656.84991, 538.2197, 575.92671, 586.24733, 486.55854, 494.31029, 511.80305, 564.5954, 473.78525, 591.62123, 581.72964, 572.48582, 546.24181, 442.98486, 503.71177, 639.52055, 562.19261, 537.40341, 617.11166, 451.60104, 403.76217, 372.46736, 398.67895, 509.84674, 409.03528, 595.37239, 572.63793, 529.00493, 525.16354, 364.71787, 520.18737, 532.33558, 531.34059, 478.70292, 624.43079, 517.07575, 432.42663, 452.28493, 524.72588, 285.22352, ...]\n",
      "ASRRSI05                                                                                                                                                                                           [576.53241, 552.69589, 579.88415, 591.9977, 605.66793, 594.72684, 605.7782, 493.07863, 556.59749, 643.59399, 505.54779, 537.82868, 584.86365, 503.87695, 522.81141, 598.40187, 502.93301, 510.00049, 601.65566, 498.08634, 689.83252, 681.027, 667.04076, 531.60359, 610.57133, 601.33718, 565.39295, 566.56572, 580.19103, 517.70001, 632.4293, 599.9082, 603.71605, 596.75134, 583.86647, 505.02459, 503.51478, 522.49006, 680.93121, 711.62536, 612.69593, 647.11343, 662.25798, 657.12463, 526.86071, 657.12361, 534.4193, 611.4926, 532.97072, 689.79887, 500.95343, 591.74415, 584.89708, 623.87067, 445.51646, 515.54617, 514.15565, 694.46943, 596.06208, 557.99499, 706.96229, 560.27201, 500.05227, 611.25874, 492.79144, 422.69732, 519.81928, 544.66549, 441.25771, 582.58201, 579.39828, 583.12634, 586.71511, 471.51492, 534.67039, 572.09899, 526.33238, 490.46293, 573.89927, 433.78405, 496.92249, 338.70372, 425.11506, 548.11313, 476.89341, 541.68536, 528.97517, 614.14553, 545.23249, 445.55667, 445.55154, 513.37756, 506.36105, 520.79819, 674.96377, 562.88751, 402.7984, 424.28651, 509.16692, 261.37379, ...]\n",
      "MINAGEARRIVAL                                                                                                                                                                                                                                                                                                                                                                                                                                                                                                                                                                                                                                                                                                                                                                                                                                                                                                                                                                                                                                                                                                                                                                                                                                                                                                     [nan, 3.0, 0.0, 6.0, 8.0]\n",
      "rounded_ages                                                                                                                                                                                                                                                                                                                                                                                                                                                                                                                                                                                                                                                                                                                                                                                                                                                                                                                                                                                                                                                                                                                                                                                                                                                                       [10.0, 9.0, 11.0, 12.0, 14.0, 8.0, 99.0, 13.0, nan, 7.0]\n",
      "dtype: object\n"
     ]
    }
   ],
   "source": [
    "# Apply unique() to each column\n",
    "unique_values = DF.apply(lambda col: col.unique())\n",
    "\n",
    "print(unique_values)"
   ]
  },
  {
   "cell_type": "code",
   "execution_count": 34,
   "metadata": {
    "scrolled": false
   },
   "outputs": [],
   "source": [
    "ordinal_mapping_frequency = {\n",
    "    'At least once a week': 1,\n",
    "    'Once or twice a month': 2,\n",
    "    'A few times a year': 3,\n",
    "    'Never': 4\n",
    "}"
   ]
  },
  {
   "cell_type": "code",
   "execution_count": 32,
   "metadata": {},
   "outputs": [],
   "source": [
    "experience_in_school_columns = ['ASBG11A',\n",
    " 'ASBG11B',\n",
    " 'ASBG11C',\n",
    " 'ASBG11D',\n",
    " 'ASBG11E',\n",
    " 'ASBG11F',\n",
    " 'ASBG11G',\n",
    " 'ASBG11H',\n",
    " 'ASBG11I',\n",
    " 'ASBG11J']"
   ]
  },
  {
   "cell_type": "code",
   "execution_count": 35,
   "metadata": {},
   "outputs": [],
   "source": [
    "for column in experience_in_school_columns:\n",
    "    DF[column]= DF[column].map(ordinal_mapping_frequency)"
   ]
  },
  {
   "cell_type": "code",
   "execution_count": 29,
   "metadata": {},
   "outputs": [],
   "source": [
    "pd.set_option('display.max_columns', None)  # Display all columns\n",
    "pd.set_option('display.max_colwidth', None)  # Optional: Set max column width\n",
    "pd.set_option('display.expand_frame_repr', False)  # Optional: Do not wrap line"
   ]
  },
  {
   "cell_type": "code",
   "execution_count": 43,
   "metadata": {},
   "outputs": [
    {
     "name": "stdout",
     "output_type": "stream",
     "text": [
      "   ASBG11A  ASBG11B  ASBG11C  ASBG11D  ASBG11E  ASBG11F  ASBG11G  ASBG11H  ASBG11I  ASBG11J\n",
      "0      NaN      NaN      NaN      NaN      NaN      NaN      NaN      NaN      NaN      NaN\n",
      "1      4.0      4.0      3.0      2.0      4.0      4.0      4.0      3.0      4.0      4.0\n",
      "2      2.0      2.0      1.0      4.0      3.0      3.0      2.0      4.0      1.0      3.0\n",
      "3      3.0      3.0      2.0      3.0      2.0      2.0      3.0      1.0      3.0      1.0\n",
      "4      1.0      1.0      4.0      1.0      1.0      1.0      1.0      2.0      2.0      2.0\n"
     ]
    }
   ],
   "source": [
    "# Apply unique() to each column\n",
    "unique_values_school_experience = DF[experience_in_school_columns].apply(lambda col: col.unique())\n",
    "\n",
    "print(unique_values_school_experience)"
   ]
  },
  {
   "cell_type": "code",
   "execution_count": 40,
   "metadata": {},
   "outputs": [],
   "source": [
    "ordinal_mapping_agreement = { \n",
    "    'Agree a lot': 1,\n",
    "    'Agree a little': 2,\n",
    "    'Disagree a little': 3,\n",
    "    'Disagree a lot': 4\n",
    "}"
   ]
  },
  {
   "cell_type": "code",
   "execution_count": 39,
   "metadata": {},
   "outputs": [],
   "source": [
    "school_feeling_columns = ['ASBG10C',\n",
    " 'ASBG10D',\n",
    " 'ASBG10E',\n",
    " 'ASBG10F']"
   ]
  },
  {
   "cell_type": "code",
   "execution_count": 41,
   "metadata": {},
   "outputs": [],
   "source": [
    "for column in school_feeling_columns:\n",
    "    DF[column]= DF[column].map(ordinal_mapping_agreement)"
   ]
  },
  {
   "cell_type": "code",
   "execution_count": 44,
   "metadata": {},
   "outputs": [
    {
     "name": "stdout",
     "output_type": "stream",
     "text": [
      "   ASBG10C  ASBG10D  ASBG10E  ASBG10F\n",
      "0      NaN      NaN      NaN      NaN\n",
      "1      2.0      2.0      3.0      1.0\n",
      "2      1.0      1.0      1.0      2.0\n",
      "3      3.0      3.0      2.0      3.0\n",
      "4      4.0      4.0      4.0      4.0\n"
     ]
    }
   ],
   "source": [
    "# Apply unique() to each column\n",
    "unique_values_school_feeling = DF[school_feeling_columns].apply(lambda col: col.unique())\n",
    "\n",
    "print(unique_values_school_feeling)"
   ]
  },
  {
   "cell_type": "code",
   "execution_count": null,
   "metadata": {},
   "outputs": [],
   "source": [
    "ordinal_mapping_frequency = {\n",
    "    'At least once a week': 1,\n",
    "    'Once or twice a month': 2,\n",
    "    'A few times a year': 3,\n",
    "    'Never': 4\n",
    "}"
   ]
  },
  {
   "cell_type": "code",
   "execution_count": 45,
   "metadata": {},
   "outputs": [],
   "source": [
    "ordinal_mapping_education_levels = {\n",
    "1: 'Did not go to school', \n",
    " 2: 'Some <Primary education—ISCED Level 1 or Lower secondary education—ISCED Level 2>', \n",
    " 3: '<Lower secondary education—ISCED Level 2>', \n",
    " 4: '<Upper secondary education—ISCED Level 3>', \n",
    " 5: '<Post-secondary, non-tertiary education— ISCED Level 4>', \n",
    " 6: '<Short-cycle tertiary education—ISCED Level 5>', \n",
    " 7: '<Bachelor’s or equivalent level—ISCED Level 6>', \n",
    " 8: '<Master’s or equivalent level—ISCED Level 7>', \n",
    " 9: '<Doctor or equivalent level—ISCED Level 8>',\n",
    " 10: 'Not applicable'\n",
    " }"
   ]
  },
  {
   "cell_type": "code",
   "execution_count": 46,
   "metadata": {},
   "outputs": [],
   "source": [
    "# Reverse the mapping dictionary\n",
    "reverse_mapping_education_levels = {v: k for k, v in ordinal_mapping_education_levels.items()}"
   ]
  },
  {
   "cell_type": "code",
   "execution_count": 47,
   "metadata": {},
   "outputs": [],
   "source": [
    "DF['ASBH15A'] = DF['ASBH15A'].map(reverse_mapping_education_levels)"
   ]
  },
  {
   "cell_type": "code",
   "execution_count": 49,
   "metadata": {},
   "outputs": [],
   "source": [
    "DF['ASBH15B'] = DF['ASBH15B'].map(reverse_mapping_education_levels)"
   ]
  },
  {
   "cell_type": "code",
   "execution_count": 51,
   "metadata": {},
   "outputs": [],
   "source": [
    " ordinal_mapping_profession_levels = {\n",
    " 1: 'Has never worked for pay',\n",
    " 10: 'Professional Includes scientists,mathematicians; computer scientists,architects; engineers; life science and health pr',\n",
    " 11: 'Technician or Associate Professional Includes science, engineering, and computer associates and technicians; life scienc',\n",
    " 12: 'Not applicable',\n",
    " 2: 'Small Business Owner Includes owners of small businesses (fewer than 25 employees) such as retail shops, services, resta',\n",
    " 3: 'Clerical Worker Includes office clerks; secretaries; data entry operators; customer service clerks',\n",
    " 4: 'Service or Sales Worker Includes travel attendants; restaurant service workers; personal care workers; protective servic',\n",
    " 5: 'Skilled Agricultural or Fishery Worker Includes farmers; forestry workers; fishery workers',\n",
    " 6: 'Craft or Trade Worker Includes builders, carpenters, plumbers, electricians, metal workers; machine mechanics; handicraf',\n",
    " 7: 'Plant or Machine Operator Includes plant and machine operators; assembly-line operators; motor-vehicle drivers',\n",
    " 8: 'General'\n",
    " }"
   ]
  },
  {
   "cell_type": "code",
   "execution_count": 52,
   "metadata": {},
   "outputs": [],
   "source": [
    "# Reverse the mapping dictionary\n",
    "reverse_mapping_profession_levels = {v: k for k, v in ordinal_mapping_profession_levels.items()}"
   ]
  },
  {
   "cell_type": "code",
   "execution_count": 53,
   "metadata": {},
   "outputs": [],
   "source": [
    "DF['ASBH17A'] = DF['ASBH17A'].map(reverse_mapping_profession_levels)"
   ]
  },
  {
   "cell_type": "code",
   "execution_count": 55,
   "metadata": {},
   "outputs": [],
   "source": [
    "DF['ASBH17B'] = DF['ASBH17B'].map(reverse_mapping_profession_levels)"
   ]
  },
  {
   "cell_type": "markdown",
   "metadata": {},
   "source": [
    "Remember to git once you've done all these value changes."
   ]
  },
  {
   "cell_type": "code",
   "execution_count": 58,
   "metadata": {},
   "outputs": [],
   "source": [
    "ordinal_mapping_language = {\n",
    "     1: 'I always speak <language of test> at home',\n",
    "    2: 'I almost always speak <language of test> at home',\n",
    "    3: 'I sometimes speak <language of test> and sometimes speak another language at home',\n",
    "    4: 'I never speak <language of test> at home'\n",
    "    \n",
    "}"
   ]
  },
  {
   "cell_type": "code",
   "execution_count": 65,
   "metadata": {},
   "outputs": [
    {
     "data": {
      "text/plain": [
       "array([nan,  1.,  3.,  2.,  4.])"
      ]
     },
     "execution_count": 65,
     "metadata": {},
     "output_type": "execute_result"
    }
   ],
   "source": [
    "# Reverse the mapping dictionary\n",
    "reverse_mapping_language = {v: k for k, v in ordinal_mapping_language.items()}\n",
    "DF['ASBG03'] = DF['ASBG03'].map(reverse_mapping_language)\n",
    "DF['ASBG03'].unique()"
   ]
  },
  {
   "cell_type": "code",
   "execution_count": 62,
   "metadata": {},
   "outputs": [],
   "source": [
    "ordinal_mapping_language_parents = {\n",
    "    1: 'Always',\n",
    "    2: 'Almost always',\n",
    "    3: 'Sometimes',\n",
    "    4: 'Never'\n",
    "}"
   ]
  },
  {
   "cell_type": "code",
   "execution_count": 63,
   "metadata": {},
   "outputs": [
    {
     "data": {
      "text/plain": [
       "array([nan,  1.,  4.,  2.,  3.])"
      ]
     },
     "execution_count": 63,
     "metadata": {},
     "output_type": "execute_result"
    }
   ],
   "source": [
    "# Reverse the mapping dictionary\n",
    "reverse_mapping_language_parents = {v: k for k, v in ordinal_mapping_language_parents.items()}\n",
    "DF['ASBH04'] = DF['ASBH04'].map(reverse_mapping_language_parents)\n",
    "DF['ASBH04'].unique()"
   ]
  },
  {
   "cell_type": "code",
   "execution_count": 66,
   "metadata": {},
   "outputs": [
    {
     "name": "stdout",
     "output_type": "stream",
     "text": [
      "Country                                                                                                                                                                                                                                                                                                                                                                                                                                                                                                                                                                                                                                                                                                                                                                                                                                                                                                                                                                                                                                                                           [Turkey, Austria, Germany, Egypt, France, Iran, Jordan, Netherlands, Sweden]\n",
      "IDSTUD                                                                                                           [50010601, 50010602, 50010603, 50010604, 50010605, 50010607, 50010608, 50010609, 50010610, 50010611, 50010613, 50010614, 50010615, 50010616, 50010617, 50010618, 50010619, 50010620, 50010621, 50010622, 50010623, 50010624, 50010625, 50010626, 50010627, 50010630, 50010631, 50010633, 50010634, 50010635, 50010636, 50011401, 50011402, 50011403, 50011404, 50011406, 50011407, 50011408, 50011409, 50011411, 50011412, 50011413, 50011414, 50011415, 50011416, 50011417, 50011418, 50011419, 50011420, 50011421, 50011422, 50011423, 50011425, 50011426, 50011427, 50011428, 50011429, 50011430, 50011431, 50011432, 50011433, 50011434, 50020101, 50020102, 50020103, 50020104, 50020106, 50020107, 50020108, 50020109, 50020110, 50020111, 50020112, 50020113, 50020115, 50020116, 50020118, 50030301, 50030302, 50030303, 50030304, 50030306, 50030307, 50030309, 50030310, 50030311, 50030312, 50030313, 50030314, 50030315, 50030316, 50030317, 50030318, 50030319, 50030320, 50030321, 50030322, 50040101, 50040102, 50040103, ...]\n",
      "ASBH02A                                                                                                                                                                                                                                                                                                                                                                                                                                                                                                                                                                                                                                                                                                                                                                                                                                                                                                                                                                                                                                                                                                                                    [Yes, nan, No, 9.0]\n",
      "ASBH02B                                                                                                                                                                                                                                                                                                                                                                                                                                                                                                                                                                                                                                                                                                                                                                                                                                                                                                                                                                                                                                [6.0, nan, 2.0, 1.0, 3.0, 9.0, 4.0, 3 to 5 years old, 8 years old or older, 6 to 7 years old, Younger than 3 years old]\n",
      "ASBH03A                                                                                                                                                                                                                                                                                                                                                                                                                                                                                                                                                                                                                                                                                                                                                                                                                                                                                                                                                                                                                                                                                                                                    [Yes, No, 9.0, nan]\n",
      "ASBH04                                                                                                                                                                                                                                                                                                                                                                                                                                                                                                                                                                                                                                                                                                                                                                                                                                                                                                                                                                                                                                                                                                                               [nan, 1.0, 4.0, 2.0, 3.0]\n",
      "ASBH15A                                                                                                                                                                                                                                                                                                                                                                                                                                                                                                                                                                                                                                                                                                                                                                                                                                                                                                                                                                                                                                                                                               [nan, 8.0, 4.0, 9.0, 6.0, 3.0, 2.0, 10.0, 7.0, 5.0, 1.0]\n",
      "ASBH15B                                                                                                                                                                                                                                                                                                                                                                                                                                                                                                                                                                                                                                                                                                                                                                                                                                                                                                                                                                                                                                                                                               [nan, 8.0, 5.0, 9.0, 4.0, 6.0, 7.0, 3.0, 2.0, 1.0, 10.0]\n",
      "ASBH16                                                                                                                                                                                                                                                                                                                                                                                                                                                                                                                                                                                                                                                                                                                                                 [6.0, 3.0, 5.0, 4.0, nan, 9.0, 2.0, 1.0, Finish <Short-cycle tertiary education—ISCED Level 5>, Finish <Upper secondary education—ISCED Level 3>, Finish <Postgraduate degree: Master’s—ISCED Level 7 or Doctor—ISCED Level 8>, Finish <Bachelor’s or equivalent level—ISCED Level 6>, Finish <Lower secondary education—ISCED Level 2>, Finish <Post-secondary, non-tertiary education—ISCED Level 4>]\n",
      "ASBH17A                                                                                                                                                                                                                                                                                                                                                                                                                                                                                                                                                                                                                                                                                                                                                                                                                                                                                                                                                                                                                                                                                                   [nan, 12.0, 11.0, 2.0, 4.0, 6.0, 7.0, 3.0, 5.0, 1.0]\n",
      "ASBH17B                                                                                                                                                                                                                                                                                                                                                                                                                                                                                                                                                                                                                                                                                                                                                                                                                                                                                                                                                                                                                                                                                                   [nan, 3.0, 11.0, 1.0, 4.0, 2.0, 6.0, 12.0, 5.0, 7.0]\n",
      "ASBH18AA                                                                                                                                                                                                                                                                                                                                                                                                                                                                                                                                                                                                                                                                                                                                                                                                                                                                                                                                                                                                                                                                                                                    [9.0, 1.0, 2.0, nan, 6.0, Yes, No]\n",
      "ASBH18AB                                                                                                                                                                                                                                                                                                                                                                                                                                                                                                                                                                                                                                                                                                                                                                                                                                                                                                                                                                                                                                                                                                                    [1.0, 9.0, 2.0, nan, 6.0, Yes, No]\n",
      "ASBG01                                                                                                                                                                                                                                                                                                                                                                                                                                                                                                                                                                                                                                                                                                                                                                                                                                                                                                                                                                                                                                                                                                                     [2.0, 1.0, nan, Girl, Boy, <Other>]\n",
      "ASBG03                                                                                                                                                                                                                                                                                                                                                                                                                                                                                                                                                                                                                                                                                                                                                                                                                                                                                                                                                                                                                                                                                                                               [nan, 1.0, 3.0, 2.0, 4.0]\n",
      "ASBG10C                                                                                                                                                                                                                                                                                                                                                                                                                                                                                                                                                                                                                                                                                                                                                                                                                                                                                                                                                                                                                                                                                                                              [nan, 2.0, 1.0, 3.0, 4.0]\n",
      "ASBG10D                                                                                                                                                                                                                                                                                                                                                                                                                                                                                                                                                                                                                                                                                                                                                                                                                                                                                                                                                                                                                                                                                                                              [nan, 2.0, 1.0, 3.0, 4.0]\n",
      "ASBG10E                                                                                                                                                                                                                                                                                                                                                                                                                                                                                                                                                                                                                                                                                                                                                                                                                                                                                                                                                                                                                                                                                                                              [nan, 3.0, 1.0, 2.0, 4.0]\n",
      "ASBG10F                                                                                                                                                                                                                                                                                                                                                                                                                                                                                                                                                                                                                                                                                                                                                                                                                                                                                                                                                                                                                                                                                                                              [nan, 1.0, 2.0, 3.0, 4.0]\n",
      "ASBG11A                                                                                                                                                                                                                                                                                                                                                                                                                                                                                                                                                                                                                                                                                                                                                                                                                                                                                                                                                                                                                                                                                                                              [nan, 4.0, 2.0, 3.0, 1.0]\n",
      "ASBG11B                                                                                                                                                                                                                                                                                                                                                                                                                                                                                                                                                                                                                                                                                                                                                                                                                                                                                                                                                                                                                                                                                                                              [nan, 4.0, 2.0, 3.0, 1.0]\n",
      "ASBG11C                                                                                                                                                                                                                                                                                                                                                                                                                                                                                                                                                                                                                                                                                                                                                                                                                                                                                                                                                                                                                                                                                                                              [nan, 3.0, 1.0, 2.0, 4.0]\n",
      "ASBG11D                                                                                                                                                                                                                                                                                                                                                                                                                                                                                                                                                                                                                                                                                                                                                                                                                                                                                                                                                                                                                                                                                                                              [nan, 2.0, 4.0, 3.0, 1.0]\n",
      "ASBG11E                                                                                                                                                                                                                                                                                                                                                                                                                                                                                                                                                                                                                                                                                                                                                                                                                                                                                                                                                                                                                                                                                                                              [nan, 4.0, 3.0, 2.0, 1.0]\n",
      "ASBG11F                                                                                                                                                                                                                                                                                                                                                                                                                                                                                                                                                                                                                                                                                                                                                                                                                                                                                                                                                                                                                                                                                                                              [nan, 4.0, 3.0, 2.0, 1.0]\n",
      "ASBG11G                                                                                                                                                                                                                                                                                                                                                                                                                                                                                                                                                                                                                                                                                                                                                                                                                                                                                                                                                                                                                                                                                                                              [nan, 4.0, 2.0, 3.0, 1.0]\n",
      "ASBG11H                                                                                                                                                                                                                                                                                                                                                                                                                                                                                                                                                                                                                                                                                                                                                                                                                                                                                                                                                                                                                                                                                                                              [nan, 3.0, 4.0, 1.0, 2.0]\n",
      "ASBG11I                                                                                                                                                                                                                                                                                                                                                                                                                                                                                                                                                                                                                                                                                                                                                                                                                                                                                                                                                                                                                                                                                                                              [nan, 4.0, 1.0, 3.0, 2.0]\n",
      "ASBG11J                                                                                                                                                                                                                                                                                                                                                                                                                                                                                                                                                                                                                                                                                                                                                                                                                                                                                                                                                                                                                                                                                                                              [nan, 4.0, 3.0, 1.0, 2.0]\n",
      "ASDAGE                                                                                                                                                                                                                                                                                                                                                                                                                                                                                                                                                                                                                                                       [10.17, 9.42, 9.5, 9.58, 10.0, 9.92, 10.33, 9.67, 10.25, 9.75, 10.67, 10.58, 9.83, 9.25, 10.08, 10.42, 10.5, 11.0, 10.92, 9.33, 11.42, 8.75, 9.17, 12.33, 10.83, 12.25, 8.83, 11.33, 9.0, 9.08, 10.75, 11.25, 8.92, 11.08, 12.08, 11.17, 14.42, 12.5, 8.67, 13.58, 12.42, 8.42, 99.0, 11.92, 11.67, 11.58, 11.5, 13.42, 11.83, 13.25, 12.17, 11.75, 12.58, 12.0, 12.67, nan, 13.33, 8.58, 13.0, 13.5, 8.5, 13.08, 13.17, 12.92, 12.83, 12.75, 14.5, 8.08, 14.17, 13.75, 14.08, 13.83, 8.33, 6.75]\n",
      "ASRREA01               [575.43893, 624.14372, 566.97797, 559.10952, 569.82363, 599.02951, 582.63476, 528.27203, 518.12764, 635.88858, 554.25467, 546.38938, 553.46349, 515.55137, 512.23491, 615.51066, 481.29411, 544.74015, 563.83238, 553.79262, 614.14792, 679.87346, 617.95198, 520.56337, 550.93189, 606.35204, 532.03476, 522.35833, 605.24343, 519.54289, 577.08154, 560.55174, 605.04905, 520.77576, 551.39669, 554.90336, 516.56523, 622.14501, 690.24734, 634.66466, 627.71757, 685.01786, 619.4691, 640.32576, 544.80834, 534.25636, 576.34888, 599.13138, 495.02344, 628.19926, 494.48771, 572.12125, 599.50102, 704.39037, 462.64022, 522.71321, 504.9253, 668.72133, 591.4443, 495.98122, 675.61632, 553.8664, 501.74521, 607.44681, 534.32984, 480.73742, 464.83087, 613.53963, 452.23957, 565.98406, 558.59455, 674.6449, 571.5043, 486.3461, 520.12188, 594.46256, 526.65109, 517.59893, 542.91038, 454.07718, 469.62263, 371.4578, 431.37508, 511.43487, 423.48556, 567.76609, 483.59265, 540.12029, 582.04906, 390.18232, 521.5989, 412.52822, 553.96502, 433.66129, 635.18564, 593.3912, 464.82833, 405.91412, 495.02028, 303.56511, ...]\n",
      "ASRREA02              [557.2702, 612.68392, 568.76819, 606.69925, 570.48828, 594.51579, 625.49564, 535.76223, 513.33475, 716.48488, 515.23034, 567.51915, 558.10015, 569.66643, 524.02117, 639.0944, 478.33626, 554.44905, 602.35672, 560.06157, 620.7022, 695.28005, 617.70822, 499.53636, 513.13532, 601.03107, 544.15256, 513.34071, 698.69394, 490.0307, 607.11176, 612.16461, 659.96117, 543.63355, 570.0811, 532.91828, 526.29291, 575.20008, 563.72161, 599.04717, 747.56404, 610.36524, 624.90209, 634.70433, 544.15482, 624.02951, 571.68351, 579.08091, 550.27083, 634.76871, 501.97591, 601.68327, 643.39143, 562.67302, 526.58014, 494.86964, 496.81308, 621.39259, 563.60669, 472.28546, 631.62706, 602.27108, 530.30878, 594.15401, 503.75843, 519.1774, 481.20639, 550.21497, 483.02044, 527.71766, 521.09045, 613.49447, 555.729, 489.06262, 542.21209, 576.83607, 515.87288, 498.09673, 573.22039, 460.4186, 493.40823, 388.54133, 445.69075, 506.31464, 456.84523, 577.09855, 542.23889, 544.31892, 545.39081, 442.18167, 520.36893, 436.77802, 530.76555, 453.60058, 580.89311, 540.03431, 441.73691, 442.89034, 466.73835, 310.42133, ...]\n",
      "ASRREA03                   [561.95322, 544.73823, 532.78288, 618.60416, 577.86628, 535.78944, 600.35828, 555.90213, 527.16158, 684.8086, 552.85677, 581.31138, 525.91553, 566.1516, 510.9636, 590.3287, 477.94925, 502.56087, 544.69955, 547.39002, 617.7345, 614.53049, 572.59708, 455.16915, 637.32582, 543.75632, 529.87356, 576.66428, 651.93532, 557.39244, 592.25374, 551.05685, 599.89115, 539.41769, 568.6974, 542.86536, 556.57783, 647.75433, 629.24401, 559.3464, 661.28087, 684.89462, 675.17413, 642.18149, 517.67764, 589.66791, 573.3728, 581.24347, 573.05661, 667.92957, 495.91433, 618.7655, 644.08739, 567.87075, 499.4332, 494.87016, 508.71105, 586.27056, 583.04494, 520.78349, 662.55449, 577.11361, 529.49161, 584.24694, 514.12666, 428.75565, 491.80824, 565.87656, 393.96998, 534.84004, 552.59851, 641.30576, 546.22979, 483.18933, 487.97483, 608.43453, 522.2237, 500.42356, 573.75937, 435.95493, 523.05025, 360.71949, 390.33052, 544.06891, 425.71894, 575.00604, 529.8182, 516.42573, 541.67518, 448.4299, 498.67611, 422.16498, 566.78718, 421.33689, 580.2846, 518.47321, 446.87857, 444.08561, 500.38939, 319.24808, ...]\n",
      "ASRREA04                   [573.6631, 503.87599, 529.96707, 537.07661, 581.31827, 546.12736, 610.26663, 494.75246, 557.56336, 651.86717, 545.41073, 608.60684, 595.97201, 633.32933, 489.9752, 562.60728, 474.57793, 580.61549, 599.88936, 565.65259, 670.39843, 648.98032, 591.57771, 478.73155, 553.47615, 596.18284, 517.28718, 511.03551, 635.73151, 512.27971, 559.26102, 532.83195, 585.45269, 568.81204, 554.14382, 472.329, 546.24458, 607.3181, 662.27051, 594.05122, 605.751, 672.07741, 630.9758, 672.43562, 531.19977, 640.2962, 563.74719, 597.17711, 558.37699, 622.73405, 471.80482, 577.18692, 619.15727, 596.61259, 530.82288, 493.42287, 472.44631, 682.21563, 546.57056, 517.57416, 713.58958, 581.87498, 561.72755, 634.02245, 530.97335, 484.85349, 488.412, 614.08123, 455.18603, 533.44512, 596.31791, 631.37528, 547.86587, 436.8232, 487.9609, 567.78103, 527.22926, 541.06056, 575.83495, 440.50457, 473.89415, 350.94241, 410.61726, 471.48951, 428.08847, 548.89771, 501.20603, 545.40571, 557.78168, 438.67933, 491.52414, 505.15211, 573.1034, 428.22837, 576.85786, 515.21499, 345.82531, 486.77141, 523.83364, 343.17752, ...]\n",
      "ASRREA05                [567.45202, 556.77689, 574.76885, 578.13802, 563.87699, 568.3219, 534.66485, 513.84948, 505.04059, 762.59691, 527.18893, 560.64413, 588.31518, 585.58532, 529.38123, 526.45383, 472.11403, 529.20923, 583.21855, 525.81811, 663.48717, 688.61626, 609.64318, 491.81406, 631.58332, 589.6219, 546.65686, 535.49596, 527.8586, 507.0615, 620.47453, 605.503, 590.16931, 581.31918, 558.65215, 552.45629, 617.27408, 591.58137, 638.56772, 544.89975, 616.57569, 692.78495, 771.51094, 624.38752, 539.95913, 609.90443, 560.03939, 558.07981, 573.32448, 633.14195, 480.11171, 641.79658, 672.86706, 599.81199, 518.83811, 498.71057, 519.95139, 595.77099, 580.66685, 552.33751, 637.81487, 581.85254, 491.63385, 622.29307, 525.05787, 494.0038, 497.90417, 558.21808, 498.64215, 552.19607, 526.18951, 600.49068, 558.50414, 454.9421, 528.30221, 584.26023, 533.0934, 538.18151, 573.27596, 443.56397, 466.66877, 370.10129, 378.70966, 506.68856, 437.33764, 643.77667, 508.28514, 578.02663, 537.22722, 401.3927, 473.00299, 453.95549, 575.7572, 485.28527, 579.87779, 551.51009, 391.57494, 451.02398, 506.91841, 281.99653, ...]\n",
      "ASRLIT01             [574.18458, 558.67343, 510.07336, 552.78456, 504.06288, 630.18423, 617.63771, 479.0424, 509.47168, 645.45286, 583.50726, 607.85288, 583.1368, 529.94527, 504.4261, 673.73332, 477.36936, 614.24003, 569.16363, 515.10418, 708.34841, 656.20554, 634.66436, 525.01795, 641.90293, 611.80319, 473.8923, 513.61566, 681.63494, 534.74161, 565.55519, 566.49414, 609.69364, 518.57697, 596.72863, 490.94602, 548.35623, 554.84586, 686.6964, 565.97764, 594.12285, 681.51241, 680.91358, 704.17624, 581.61653, 646.27579, 634.96387, 589.85705, 505.46032, 666.07086, 500.53055, 517.92827, 623.12009, 636.4293, 487.12528, 474.28219, 548.13956, 588.57726, 554.08379, 537.23432, 698.69284, 520.32247, 539.33206, 558.63353, 537.80669, 438.38029, 500.89989, 543.67836, 498.72165, 581.34225, 559.54898, 648.82957, 495.99801, 506.77389, 510.03998, 626.91478, 517.6086, 507.47826, 572.90255, 403.72774, 445.03031, 371.33903, 444.84956, 546.55048, 472.41263, 567.28278, 568.65243, 548.50645, 539.27171, 425.06385, 462.57997, 407.8074, 551.68654, 424.34402, 620.45711, 590.96871, 438.27658, 443.00178, 502.82807, 319.67856, ...]\n",
      "ASRLIT02            [538.50995, 490.57312, 546.94331, 549.12705, 561.58346, 529.70187, 573.40051, 539.56275, 515.46201, 734.20897, 505.43467, 595.20937, 536.20534, 585.31009, 560.01228, 532.89651, 423.10626, 569.16448, 578.20895, 550.35442, 692.98664, 649.97449, 626.06302, 465.18976, 576.92592, 550.52294, 493.25512, 539.85891, 695.38942, 497.57783, 627.2069, 591.35443, 590.2587, 614.72697, 636.54374, 492.19462, 577.36852, 511.90949, 614.49664, 554.59477, 675.27005, 647.06821, 715.42305, 693.26113, 582.62932, 545.41916, 562.43765, 535.31192, 583.56423, 685.37707, 469.70461, 555.83169, 582.34794, 683.46228, 498.89813, 429.78749, 510.90907, 597.57077, 526.25461, 544.58006, 666.21746, 578.3635, 493.44808, 544.57462, 481.28351, 468.38194, 488.63368, 597.95422, 423.08294, 528.37273, 583.17318, 665.5133, 544.53241, 455.16068, 541.24289, 530.87841, 552.39655, 502.72156, 577.56805, 457.39812, 497.60894, 321.59019, 404.70317, 482.31783, 410.10178, 532.9687, 523.74523, 565.63065, 571.33713, 334.71892, 467.60127, 440.28957, 514.6872, 526.24311, 601.47408, 460.07674, 445.18437, 468.2395, 436.40833, 276.20237, ...]\n",
      "ASRLIT03                [552.13065, 518.70781, 579.40362, 549.04198, 527.24071, 588.24869, 641.24392, 539.2224, 492.94244, 649.92426, 554.97238, 566.33393, 590.58552, 545.81327, 538.46952, 593.31643, 474.05873, 592.05145, 614.339, 501.25792, 618.77826, 630.45106, 607.42412, 445.74807, 577.10065, 591.19084, 500.20069, 473.07846, 649.82486, 525.86995, 581.74888, 580.10062, 595.46382, 560.07551, 564.70831, 559.71424, 613.43199, 604.01205, 639.79641, 596.647, 633.44476, 639.68425, 676.7658, 685.89691, 494.20444, 649.74543, 565.15456, 565.43042, 544.43038, 634.75296, 544.87179, 594.77289, 600.48052, 624.37919, 485.57904, 470.55056, 463.28244, 670.69351, 584.5549, 516.94267, 680.63502, 581.60257, 527.57038, 545.26515, 474.65829, 460.5471, 507.87225, 572.93036, 510.64772, 557.22215, 539.75961, 560.94763, 573.7427, 491.78962, 468.65103, 565.04178, 530.54679, 526.8849, 523.80014, 413.08418, 472.21044, 315.2347, 416.36691, 498.44058, 488.99101, 546.21487, 536.00408, 468.37065, 573.11073, 406.84366, 514.67838, 385.90237, 523.20325, 527.16281, 649.08722, 531.94666, 396.55848, 484.35203, 496.92475, 274.31089, ...]\n",
      "ASRLIT04              [544.30274, 579.02561, 573.21826, 574.22474, 550.61312, 630.29038, 589.431, 530.4465, 525.49455, 648.5011, 555.62419, 595.27006, 511.52654, 610.12899, 530.01808, 467.42262, 470.53763, 596.28856, 595.21464, 492.29404, 700.90373, 631.11047, 636.32733, 467.45906, 645.90658, 633.33775, 523.57191, 499.89871, 580.52476, 481.98317, 588.64263, 611.27362, 643.35475, 586.25266, 598.03538, 538.83924, 547.13231, 598.22701, 610.29301, 553.68277, 690.7999, 586.96283, 681.48966, 677.52685, 504.18873, 701.63802, 537.41121, 539.60133, 561.97081, 588.09012, 483.76602, 623.04464, 616.21213, 639.73589, 563.53319, 493.20158, 537.40403, 602.9434, 547.59542, 516.93698, 597.97769, 547.22684, 501.93507, 619.57429, 500.18805, 478.54731, 478.41922, 520.87084, 457.86144, 569.05633, 529.21924, 570.49236, 570.81752, 511.28646, 542.24625, 547.55806, 575.25196, 515.47098, 581.34156, 455.11624, 483.1937, 376.88856, 392.14009, 518.52183, 431.29226, 564.51196, 511.84626, 534.5176, 553.07966, 341.44609, 452.87941, 406.24697, 559.54287, 468.14869, 628.7593, 606.60178, 357.72155, 378.74511, 459.32415, 334.45767, ...]\n",
      "ASRLIT05              [526.00088, 587.62561, 543.85171, 579.36628, 545.01145, 567.74485, 580.69505, 513.78333, 491.50154, 657.21653, 557.52379, 619.8823, 570.00023, 535.22662, 465.77242, 558.03663, 451.41733, 574.94845, 592.94974, 517.59047, 711.90004, 668.32584, 584.64015, 514.94933, 565.53234, 617.95226, 570.42558, 515.59499, 684.16478, 541.44278, 619.09939, 620.54325, 622.42343, 527.55931, 635.03167, 492.14413, 537.14065, 542.28641, 671.05878, 665.45464, 512.94719, 659.40381, 653.99732, 644.53126, 577.32445, 619.04246, 553.7866, 562.63458, 529.54616, 690.71819, 447.32772, 613.3095, 626.88188, 555.73623, 483.31462, 484.1446, 488.31996, 626.78393, 586.499, 503.3359, 705.00025, 562.26143, 488.43238, 626.37242, 490.21276, 494.06985, 498.11957, 582.94838, 453.95621, 639.99107, 598.50311, 628.47364, 568.88757, 433.59461, 515.21662, 584.62446, 560.03241, 460.06827, 569.88299, 389.86789, 452.60251, 366.1726, 393.85976, 475.4834, 421.50691, 558.49922, 501.44669, 452.08413, 510.06696, 388.26444, 480.50701, 415.96984, 571.51937, 520.69091, 581.00235, 514.80337, 442.98661, 421.93554, 468.01098, 254.59801, ...]\n",
      "ASRINF01                   [603.4214, 589.18148, 588.0798, 572.97888, 519.70329, 675.06685, 606.49005, 492.41226, 533.23985, 647.84849, 556.1975, 618.22015, 575.75351, 574.82484, 505.57583, 649.13082, 511.75352, 554.69107, 563.80806, 525.84221, 664.70355, 658.5687, 606.00286, 480.4036, 547.10758, 579.01339, 533.17248, 545.41419, 665.3094, 494.38461, 582.86894, 563.04853, 612.57513, 550.26152, 607.05377, 502.80151, 514.23199, 596.18222, 669.67758, 595.44864, 613.61464, 663.90667, 659.73847, 688.88166, 613.90621, 644.06824, 596.54626, 603.18285, 543.3306, 641.33586, 470.7519, 572.34291, 642.55377, 608.30893, 493.01475, 482.97499, 536.09701, 594.55121, 551.78495, 579.25194, 732.80497, 519.12359, 514.61964, 597.2149, 511.72503, 428.31437, 489.1192, 531.44753, 504.4087, 556.26579, 521.34701, 579.69017, 534.77651, 504.87512, 482.77837, 644.01461, 524.72637, 499.56473, 554.7102, 459.70306, 436.48324, 365.87954, 436.89858, 542.81624, 509.50781, 581.1038, 566.87284, 540.73347, 563.25594, 437.03658, 481.79555, 462.17868, 578.85004, 463.19569, 660.30087, 542.78123, 445.9774, 462.18041, 504.41532, 322.75423, ...]\n",
      "ASRINF02                     [557.18476, 567.6433, 530.325, 574.68991, 555.36239, 597.62458, 642.44965, 568.32805, 486.66744, 708.661, 520.1197, 564.29689, 546.53583, 638.56841, 553.67178, 560.66837, 491.46458, 528.47409, 553.53807, 546.85458, 682.9366, 694.63546, 580.11029, 442.02968, 551.8489, 538.10791, 502.79375, 587.62538, 679.46408, 433.0192, 588.48193, 575.08271, 595.95009, 572.87894, 579.95338, 524.54448, 552.69508, 561.52072, 615.9754, 576.64249, 650.22865, 590.21814, 676.54158, 675.96691, 608.19167, 501.4108, 551.99759, 542.58743, 590.16577, 706.31326, 494.03455, 621.47906, 590.75121, 666.81964, 515.22428, 449.45214, 517.69936, 673.01165, 536.04648, 565.6671, 671.22522, 607.71251, 556.36425, 604.75704, 500.81005, 475.05957, 503.9401, 630.31333, 401.57302, 554.26749, 538.60669, 663.65365, 566.02098, 464.0315, 533.27092, 577.90016, 534.27761, 521.47225, 534.72627, 465.12835, 499.91684, 309.98016, 393.83509, 512.83875, 473.3631, 569.84686, 507.37863, 574.37567, 568.10162, 402.29731, 505.2108, 460.93606, 545.02862, 518.96031, 656.81623, 459.48421, 420.61577, 477.57593, 484.54418, 292.18984, ...]\n",
      "ASRINF03                    [579.4064, 583.6373, 608.01411, 587.09957, 541.11246, 592.49081, 644.49228, 557.32124, 516.8371, 623.65636, 543.50032, 594.86087, 577.27351, 576.63577, 521.95226, 592.99951, 484.7134, 512.57996, 570.84212, 488.22784, 608.74713, 650.08117, 585.19408, 383.03852, 558.63489, 599.47371, 519.65433, 506.82243, 641.21748, 523.56863, 576.5371, 583.47668, 573.03243, 515.3936, 580.40797, 575.51536, 563.15975, 653.01818, 623.81101, 603.37555, 612.81205, 639.20744, 676.17858, 663.51542, 541.73003, 647.1098, 558.33032, 565.42681, 505.88496, 616.31312, 496.21715, 604.84889, 588.95393, 604.53917, 477.95244, 471.51251, 499.27248, 665.43244, 568.49594, 514.65544, 669.6692, 537.06564, 534.97308, 588.69052, 461.63294, 476.17289, 524.90542, 564.36721, 455.75955, 555.5811, 514.36198, 570.03183, 565.44719, 496.0591, 406.51677, 582.8766, 510.83642, 513.76314, 530.9632, 414.62234, 492.45102, 299.67929, 455.90659, 511.32682, 490.27728, 584.68825, 500.99544, 514.62601, 575.1717, 417.45676, 547.41101, 450.93496, 531.19441, 450.5417, 630.77518, 545.10834, 387.06991, 541.67416, 528.7552, 299.37473, ...]\n",
      "ASRINF04         [589.70854, 605.92949, 592.02409, 616.07931, 562.87383, 648.48427, 590.52124, 545.92722, 508.27399, 675.83299, 556.53255, 603.84827, 552.15108, 614.01739, 540.15774, 528.63933, 482.48077, 536.83705, 631.44425, 503.67984, 626.57708, 631.12155, 583.26821, 430.10339, 594.35965, 627.73065, 556.65747, 559.88887, 621.1845, 422.35687, 597.62841, 583.17419, 645.25256, 596.45114, 599.03355, 510.52601, 541.29376, 620.87217, 596.76891, 575.31806, 719.99192, 579.89373, 665.05799, 624.07935, 568.50228, 681.83464, 506.12513, 532.06749, 554.78265, 588.60444, 519.23805, 619.85511, 611.05398, 553.42052, 526.6706, 515.73835, 536.96863, 624.68472, 564.91759, 507.48398, 631.68289, 530.82329, 542.98731, 662.41615, 545.08198, 428.68963, 505.09668, 603.97626, 426.55082, 515.35818, 569.03919, 567.19773, 549.09231, 471.35536, 546.65657, 561.77312, 568.91869, 484.02714, 587.76352, 489.3761, 490.71534, 366.50134, 460.74971, 477.19052, 429.16639, 569.03847, 514.95891, 561.66689, 571.90981, 375.79525, 491.15166, 473.88204, 603.45023, 392.43938, 635.59797, 564.94356, 395.82608, 437.65499, 461.9467, 332.78619, ...]\n",
      "ASRINF05                       [607.70484, 612.32853, 604.63968, 627.0463, 545.24756, 567.69993, 600.4034, 565.56629, 514.63259, 678.60444, 541.26801, 597.57107, 612.595, 544.18178, 509.97988, 571.0213, 485.11264, 543.43077, 627.45616, 538.76862, 682.61271, 648.00854, 556.56713, 502.61228, 528.01502, 597.95704, 582.30507, 506.10125, 623.5724, 539.19264, 619.1239, 596.2426, 613.86737, 493.98718, 606.39915, 491.25876, 491.37086, 561.00066, 614.44442, 647.36113, 575.6972, 653.91311, 689.14849, 623.29239, 591.87575, 588.31097, 588.00809, 564.34942, 534.507, 693.92274, 490.03973, 618.32172, 554.81649, 541.70105, 495.31965, 504.24517, 540.85199, 646.07, 586.08708, 522.03322, 725.80854, 570.66652, 543.92689, 627.32211, 467.76768, 510.3243, 543.92987, 639.82562, 450.74561, 603.02802, 615.21563, 653.16774, 567.20585, 437.60289, 489.06953, 571.6961, 542.15164, 475.96066, 576.21394, 400.42466, 464.50559, 340.71611, 418.69653, 458.3282, 448.03113, 585.27884, 528.61156, 494.18319, 578.73169, 356.80348, 502.51114, 471.8373, 550.66616, 505.53507, 593.96763, 520.63132, 448.63239, 476.36929, 503.79325, 295.01607, ...]\n",
      "ASRIIE01             [512.47061, 533.28483, 555.22771, 597.19872, 519.03545, 533.57305, 592.48492, 546.38205, 542.92514, 708.57343, 528.6263, 579.41325, 578.69667, 483.36732, 466.61841, 623.04977, 453.41342, 522.75361, 569.28739, 500.38624, 614.73831, 705.74955, 574.19181, 457.21554, 551.60481, 555.46026, 552.3505, 472.23636, 714.10172, 532.60286, 630.34299, 614.43024, 596.80812, 550.92935, 562.66138, 449.25061, 594.50053, 584.05652, 622.80093, 574.6045, 676.11246, 677.90589, 593.6435, 678.53159, 509.28167, 530.87171, 643.99894, 590.47328, 578.52661, 617.73775, 464.47263, 569.753, 627.51606, 626.60132, 521.63116, 487.07622, 488.77358, 582.94995, 491.16524, 563.72745, 700.63303, 528.34103, 489.77716, 602.71622, 537.08411, 486.70455, 479.88304, 581.37431, 425.36805, 579.63206, 535.45666, 616.32993, 530.02547, 418.19482, 521.86127, 621.39861, 505.42429, 528.58834, 603.90747, 447.38818, 489.88423, 359.16479, 407.51429, 533.78902, 417.49869, 580.50059, 517.57288, 536.17385, 557.63657, 444.98064, 501.28021, 415.69477, 560.50615, 454.6869, 572.28032, 535.14015, 443.55379, 452.32679, 481.9708, 269.57399, ...]\n",
      "ASRIIE02                [531.55392, 570.44237, 511.40394, 550.02047, 558.36346, 637.79627, 571.03521, 535.4142, 501.27309, 673.95076, 553.1349, 597.64738, 535.17925, 561.22599, 522.26945, 614.51995, 464.82459, 503.27322, 557.95002, 559.7729, 621.21514, 604.54282, 571.89289, 459.95166, 575.4943, 635.55482, 532.04776, 513.73453, 644.87934, 547.67848, 590.13506, 581.83859, 602.8939, 461.4298, 624.77557, 538.86321, 528.39625, 615.44756, 600.06012, 574.73386, 604.85501, 652.72509, 629.85768, 710.7631, 561.38588, 632.08774, 602.77663, 548.81435, 570.42122, 674.82683, 484.70716, 526.70563, 626.15749, 688.76097, 477.79518, 471.02111, 488.26943, 519.16693, 580.43182, 483.60825, 664.49994, 564.08924, 503.10008, 622.26157, 481.19582, 482.47895, 489.10226, 549.41376, 462.08991, 575.075, 547.13781, 624.1778, 533.94037, 429.50703, 525.12346, 620.46128, 546.37666, 508.46942, 584.87807, 470.98004, 444.56812, 419.22122, 387.72411, 471.68748, 398.05059, 543.24938, 513.89668, 536.61939, 583.69978, 445.31274, 523.42268, 404.42241, 562.19899, 505.94628, 627.35354, 493.09153, 551.23839, 471.55265, 489.4967, 331.31952, ...]\n",
      "ASRIIE03                  [530.54494, 533.81285, 535.36974, 590.29351, 578.47305, 575.27922, 565.58887, 574.06826, 505.73772, 710.76474, 568.56271, 583.95421, 558.85117, 613.86137, 533.69884, 606.3071, 450.16407, 583.68257, 564.4486, 492.64786, 637.80798, 638.22244, 600.25241, 452.33637, 586.15779, 621.9122, 534.25519, 489.83865, 582.51699, 509.6125, 579.27171, 573.80403, 603.7687, 528.20709, 571.37944, 530.20714, 534.82481, 573.32969, 699.50279, 635.3055, 636.23412, 583.56692, 640.70434, 649.02733, 529.59924, 544.04648, 624.68046, 609.14502, 558.60031, 611.9602, 475.41518, 608.54484, 638.63988, 541.78487, 481.68142, 448.51139, 528.08907, 668.39156, 524.68832, 522.52425, 673.91265, 560.54758, 529.86728, 614.06325, 470.63545, 407.89081, 491.10651, 568.30311, 485.4958, 540.88146, 537.64853, 640.44876, 565.93799, 489.7552, 519.2193, 566.1979, 543.22178, 491.88284, 553.86555, 443.78372, 474.74596, 391.9547, 407.91016, 521.43491, 452.21475, 558.86537, 499.57087, 559.57246, 548.47668, 405.01657, 563.94391, 417.0494, 538.33473, 468.58611, 600.39656, 508.78863, 423.08321, 497.53203, 473.98999, 258.10447, ...]\n",
      "ASRIIE04              [532.47086, 527.90432, 577.63833, 604.19057, 569.08537, 549.17566, 540.26428, 523.92601, 545.68694, 536.13735, 546.85457, 651.69216, 539.94302, 519.11971, 538.22217, 647.9721, 463.71887, 531.07784, 566.25601, 513.5589, 690.47874, 749.45687, 557.49808, 439.6815, 589.34417, 598.18749, 534.44421, 507.27716, 630.58547, 477.63146, 574.22012, 564.78046, 588.51956, 523.05204, 585.1383, 500.70073, 518.80574, 558.20814, 649.09559, 634.49757, 627.82364, 635.64837, 677.66028, 649.76747, 573.57216, 509.30265, 648.70966, 606.64509, 549.99564, 642.78859, 487.79883, 591.59669, 600.26984, 592.82806, 468.96704, 451.95361, 493.68768, 725.17296, 514.69174, 562.52065, 644.90697, 518.2015, 554.85635, 585.44181, 520.61332, 453.48776, 511.51053, 563.19735, 453.63802, 592.21027, 552.4824, 572.36214, 587.8911, 465.57367, 490.72786, 639.67235, 520.99175, 516.24303, 576.41138, 497.08289, 423.84083, 392.68428, 416.10961, 483.65384, 417.16053, 596.00763, 571.29951, 508.4959, 547.79043, 400.86168, 498.98357, 502.07405, 511.62538, 459.22829, 604.99691, 515.77007, 492.86615, 451.70624, 500.74846, 265.5158, ...]\n",
      "ASRIIE05                     [551.68836, 552.31885, 579.58198, 599.13247, 553.29817, 616.07003, 596.23778, 555.03302, 514.99487, 621.35785, 525.05264, 558.18443, 564.16921, 507.81671, 502.60253, 616.07085, 481.8363, 509.21646, 581.61868, 520.50987, 647.29631, 705.37534, 625.32479, 490.49462, 609.70883, 639.07421, 563.42159, 527.75327, 602.08214, 537.59687, 568.47145, 557.39394, 623.14213, 577.59687, 583.63775, 486.11997, 466.11346, 520.49757, 702.33614, 684.22294, 613.25021, 646.64223, 640.24831, 661.64832, 531.42655, 634.9449, 574.03312, 604.99057, 552.7681, 607.67428, 479.7279, 550.77006, 586.01344, 637.58245, 464.88141, 495.25093, 494.423, 672.7969, 595.2641, 562.835, 672.62613, 520.10319, 499.10823, 593.46946, 499.60199, 401.12458, 521.06067, 525.091, 441.90307, 561.03184, 558.86959, 568.51227, 603.27132, 465.95704, 529.9429, 551.00176, 511.083, 465.07167, 559.50029, 438.4781, 469.61525, 328.70585, 419.49451, 507.47874, 509.75228, 522.50668, 508.03159, 597.72995, 566.47444, 464.41974, 425.25281, 449.39355, 486.27136, 470.81428, 642.88709, 564.44922, 443.22231, 403.83711, 489.36667, 264.83579, ...]\n",
      "ASRRSI01              [511.66661, 509.93363, 595.41526, 602.64538, 559.92889, 558.49329, 613.15493, 527.35699, 543.44672, 727.48511, 507.15849, 567.13867, 598.57123, 459.3033, 487.49868, 642.43887, 491.5361, 524.80891, 586.94707, 521.48461, 635.69369, 705.56157, 622.77763, 496.71948, 530.95434, 535.29556, 532.23932, 533.08536, 681.18755, 512.9061, 673.44357, 652.12314, 624.38339, 570.83576, 575.99105, 491.40054, 624.55804, 603.92182, 613.80984, 575.1327, 693.74873, 699.81051, 629.25677, 658.58549, 526.64417, 593.97752, 576.65827, 590.79997, 535.79241, 680.97301, 485.07771, 611.57471, 625.39878, 614.67806, 542.75752, 508.36338, 529.15989, 605.22298, 490.66493, 542.67854, 725.47022, 525.9107, 511.04631, 596.64671, 536.07686, 500.80086, 502.58249, 566.51857, 444.29205, 581.06543, 560.51541, 596.17387, 509.50649, 460.01744, 542.33934, 641.95341, 523.35468, 537.17367, 604.94371, 426.32594, 490.57353, 366.53984, 407.91253, 557.04873, 400.37719, 580.26183, 520.03659, 551.13503, 538.05003, 421.2541, 532.341, 476.7405, 561.35747, 453.93561, 638.67257, 539.66333, 423.60494, 462.79298, 502.05053, 261.57843, ...]\n",
      "ASRRSI02                  [550.91604, 590.28715, 531.5494, 548.77512, 576.53703, 658.49534, 571.69336, 514.66892, 481.88241, 673.07552, 531.78097, 580.68536, 535.73625, 554.02072, 536.19066, 650.16909, 463.11949, 523.99539, 578.50327, 598.10826, 662.72398, 604.0079, 612.83775, 514.17816, 586.01805, 636.84103, 508.52128, 575.27217, 644.67056, 535.73019, 613.839, 618.8331, 605.13741, 480.398, 644.88355, 570.91989, 565.5106, 637.34905, 560.37036, 615.53875, 604.94394, 679.89457, 671.12736, 668.84421, 581.36498, 650.25084, 514.92606, 534.72679, 589.41252, 757.78023, 468.36756, 567.75893, 606.36971, 689.25636, 478.13098, 509.98053, 507.81681, 539.6832, 580.72675, 482.93387, 664.34898, 563.20045, 522.67149, 621.60968, 480.6802, 501.75101, 480.58737, 548.2361, 441.30591, 595.401, 567.64751, 625.55921, 508.79968, 452.05887, 525.84107, 629.42607, 568.72136, 530.64838, 583.78193, 431.53109, 455.58685, 418.67213, 391.31873, 491.90534, 379.55364, 519.51053, 534.06812, 557.27965, 566.99337, 402.98729, 525.12623, 451.76825, 562.30867, 521.76801, 637.38746, 481.27838, 507.14161, 451.19831, 466.00708, 330.49613, ...]\n",
      "ASRRSI03          [541.14507, 528.73534, 554.99954, 569.19386, 590.71578, 573.70432, 589.36304, 531.12094, 537.10289, 710.5357, 547.89636, 562.95376, 557.22668, 612.83716, 553.15146, 614.0864, 450.78566, 584.03796, 593.84489, 534.46777, 657.74616, 617.89039, 661.05718, 474.00738, 564.99682, 621.23578, 522.68086, 531.20902, 591.97839, 527.05807, 616.45471, 615.66067, 608.21568, 525.51178, 591.94804, 528.65632, 586.34372, 563.56515, 705.53937, 621.59086, 635.22915, 604.67921, 661.22418, 608.54782, 510.11761, 563.94422, 562.65537, 609.71577, 534.44915, 673.18025, 496.72081, 649.63914, 625.92394, 519.17269, 461.78091, 488.96724, 548.87118, 667.11702, 530.87214, 522.03787, 695.42469, 552.80224, 528.38982, 615.37679, 469.4712, 419.59027, 513.83198, 560.62558, 486.75193, 561.9846, 538.30335, 640.17063, 555.56618, 498.72015, 538.15806, 584.63763, 545.32401, 515.54485, 541.8181, 418.42335, 476.43692, 357.82704, 386.67614, 521.53822, 432.33934, 536.39508, 502.70862, 581.61214, 532.61372, 410.75332, 541.46322, 438.54992, 557.40109, 530.49092, 642.23952, 511.96527, 422.95521, 474.81592, 466.85728, 256.93159, ...]\n",
      "ASRRSI04             [547.95804, 527.73292, 616.19334, 604.42141, 588.92653, 573.07364, 538.77303, 500.03121, 566.48141, 524.50459, 527.75755, 628.17385, 538.6435, 506.17984, 558.47008, 654.94789, 463.15938, 550.77601, 607.47001, 554.16476, 711.38611, 733.45023, 616.04483, 480.68458, 568.19426, 577.09044, 529.05707, 525.75146, 631.4344, 504.12161, 589.14802, 625.96905, 614.14302, 562.81317, 616.5765, 507.09466, 580.24137, 599.55752, 649.64758, 631.60745, 648.43243, 631.60909, 695.95671, 631.61391, 552.75254, 569.70018, 569.01681, 610.88123, 550.24742, 716.44716, 549.4495, 612.30597, 600.4275, 593.88535, 485.7949, 485.92474, 533.90884, 746.23235, 512.49607, 562.70961, 656.84991, 538.2197, 575.92671, 586.24733, 486.55854, 494.31029, 511.80305, 564.5954, 473.78525, 591.62123, 581.72964, 572.48582, 546.24181, 442.98486, 503.71177, 639.52055, 562.19261, 537.40341, 617.11166, 451.60104, 403.76217, 372.46736, 398.67895, 509.84674, 409.03528, 595.37239, 572.63793, 529.00493, 525.16354, 364.71787, 520.18737, 532.33558, 531.34059, 478.70292, 624.43079, 517.07575, 432.42663, 452.28493, 524.72588, 285.22352, ...]\n",
      "ASRRSI05              [576.53241, 552.69589, 579.88415, 591.9977, 605.66793, 594.72684, 605.7782, 493.07863, 556.59749, 643.59399, 505.54779, 537.82868, 584.86365, 503.87695, 522.81141, 598.40187, 502.93301, 510.00049, 601.65566, 498.08634, 689.83252, 681.027, 667.04076, 531.60359, 610.57133, 601.33718, 565.39295, 566.56572, 580.19103, 517.70001, 632.4293, 599.9082, 603.71605, 596.75134, 583.86647, 505.02459, 503.51478, 522.49006, 680.93121, 711.62536, 612.69593, 647.11343, 662.25798, 657.12463, 526.86071, 657.12361, 534.4193, 611.4926, 532.97072, 689.79887, 500.95343, 591.74415, 584.89708, 623.87067, 445.51646, 515.54617, 514.15565, 694.46943, 596.06208, 557.99499, 706.96229, 560.27201, 500.05227, 611.25874, 492.79144, 422.69732, 519.81928, 544.66549, 441.25771, 582.58201, 579.39828, 583.12634, 586.71511, 471.51492, 534.67039, 572.09899, 526.33238, 490.46293, 573.89927, 433.78405, 496.92249, 338.70372, 425.11506, 548.11313, 476.89341, 541.68536, 528.97517, 614.14553, 545.23249, 445.55667, 445.55154, 513.37756, 506.36105, 520.79819, 674.96377, 562.88751, 402.7984, 424.28651, 509.16692, 261.37379, ...]\n",
      "MINAGEARRIVAL                                                                                                                                                                                                                                                                                                                                                                                                                                                                                                                                                                                                                                                                                                                                                                                                                                                                                                                                                                                                                                                                                                                        [nan, 3.0, 0.0, 6.0, 8.0]\n",
      "rounded_ages                                                                                                                                                                                                                                                                                                                                                                                                                                                                                                                                                                                                                                                                                                                                                                                                                                                                                                                                                                                                                                                                                          [10.0, 9.0, 11.0, 12.0, 14.0, 8.0, 99.0, 13.0, nan, 7.0]\n",
      "AASBG03                                                                                                                                                                                                                                                                                                                                                                                                                                                                                                                                                                                                                                                                                                                                                                                                                                                                                                                                                                                                                                                                                                                              [nan, 1.0, 3.0, 2.0, 4.0]\n",
      "dtype: object\n"
     ]
    }
   ],
   "source": [
    "# Apply unique() to each column\n",
    "unique_values = DF.apply(lambda col: col.unique())\n",
    "\n",
    "print(unique_values)"
   ]
  },
  {
   "cell_type": "code",
   "execution_count": null,
   "metadata": {},
   "outputs": [],
   "source": [
    "ASBH18AA                                                                                                                                                                                                                                                                                                                                                                                                                                                                                                                                                                                                                                                                                                                                                                                                                                                                                                                                                                                                                                                                                                                    [9.0, 1.0, 2.0, nan, 6.0, Yes, No]\n",
    "ASBH18AB                                                                                                                                                                                                                                                                                                                                                                                                                                                                                                                                                                                                                                                                                                                                                                                                                                                                                                                                                                                                                                                                                                                    [1.0, 9.0, 2.0, nan, 6.0, Yes, No]\n",
    "ASBG01                                                                                                                                                                                                                                                                                                                                                                                                                                                                                                                                                                                                                                                                                                                                                                                                                                                                                                                                                                                                                                                                                                                     [2.0, 1.0, nan, Girl, Boy, <Other>]"
   ]
  },
  {
   "cell_type": "code",
   "execution_count": 68,
   "metadata": {},
   "outputs": [],
   "source": [
    "DF.to_excel('Not_fully_clean.xlsx')"
   ]
  },
  {
   "cell_type": "code",
   "execution_count": 70,
   "metadata": {},
   "outputs": [],
   "source": [
    "DF2= pd.read_excel('Not_fully_clean.xlsx')"
   ]
  },
  {
   "cell_type": "code",
   "execution_count": 83,
   "metadata": {},
   "outputs": [],
   "source": [
    "# Define the function to map patterns to integers\n",
    "def map_using_patterns(text):\n",
    "    # Dictionary of regex patterns to integers\n",
    "    pattern_to_integer = {\n",
    "        r'Lower secondary education': 1,\n",
    "        r'Upper secondary education': 2,\n",
    "        r'Post-secondary, non-tertiary education': 3,\n",
    "        r'Short-cycle tertiary education': 4,\n",
    "        r'Bachelor’s or equivalent level': 5,\n",
    "        r'Postgraduate degree': 6\n",
    "    }\n",
    "\n",
    "    # Check if the input is a string\n",
    "    if isinstance(text, str):\n",
    "        for pattern, integer in pattern_to_integer.items():\n",
    "            if pd.Series([text]).str.contains(pattern).any():\n",
    "                return integer\n",
    "    return text  # Return the original value if it's not a string or no pattern matches\n",
    "\n",
    "# Apply the function to the 'ASBH16' column\n",
    "DF2['ASBH16'] = DF2['ASBH16'].apply(map_using_patterns)\n"
   ]
  },
  {
   "cell_type": "code",
   "execution_count": 85,
   "metadata": {},
   "outputs": [
    {
     "data": {
      "text/plain": [
       "6.0    16285\n",
       "5.0    11132\n",
       "4.0     4655\n",
       "2.0     4523\n",
       "3.0     2452\n",
       "1.0     1093\n",
       "9.0      266\n",
       "Name: ASBH16, dtype: int64"
      ]
     },
     "execution_count": 85,
     "metadata": {},
     "output_type": "execute_result"
    }
   ],
   "source": [
    "DF2['ASBH16'].value_counts()"
   ]
  },
  {
   "cell_type": "code",
   "execution_count": 87,
   "metadata": {},
   "outputs": [
    {
     "data": {
      "text/plain": [
       "array([nan,  1.,  2.])"
      ]
     },
     "execution_count": 87,
     "metadata": {},
     "output_type": "execute_result"
    }
   ],
   "source": [
    "mapping_dict = {\"Yes\": 1, \"No\": 2}\n",
    "DF2['ASBH18AA']= DF2['ASBH18AA'].map(mapping_dict)\n",
    "DF2['ASBH18AB']= DF2['ASBH18AB'].map(mapping_dict)\n",
    "DF2['ASBH18AA'].unique()\n",
    "DF2['ASBH18AB'].unique()"
   ]
  },
  {
   "cell_type": "code",
   "execution_count": 88,
   "metadata": {},
   "outputs": [
    {
     "data": {
      "text/plain": [
       "array([nan,  1.,  2.,  3.])"
      ]
     },
     "execution_count": 88,
     "metadata": {},
     "output_type": "execute_result"
    }
   ],
   "source": [
    "mapping_dict_gender = {\"Girl\": 1, \"Boy\": 2, \"<Other>\": 3}\n",
    "DF2['ASBG01']= DF2['ASBG01'].map(mapping_dict_gender)\n",
    "DF2['ASBG01'].unique()"
   ]
  },
  {
   "cell_type": "code",
   "execution_count": 89,
   "metadata": {},
   "outputs": [
    {
     "name": "stdout",
     "output_type": "stream",
     "text": [
      "Unnamed: 0                                                                                                                                                                                                                                                                                                                                                                                                                                                                                                                                                                                                                                                                                                                                         [0, 1, 2, 3, 4, 5, 6, 7, 8, 9, 10, 11, 12, 13, 14, 15, 16, 17, 18, 19, 20, 21, 22, 23, 24, 25, 26, 27, 28, 29, 30, 31, 32, 33, 34, 35, 36, 37, 38, 39, 40, 41, 42, 43, 44, 45, 46, 47, 48, 49, 50, 51, 52, 53, 54, 55, 56, 57, 58, 59, 60, 61, 62, 63, 64, 65, 66, 67, 68, 69, 70, 71, 72, 73, 74, 75, 76, 77, 78, 79, 80, 81, 82, 83, 84, 85, 86, 87, 88, 89, 90, 91, 92, 93, 94, 95, 96, 97, 98, 99, ...]\n",
      "Country                                                                                                                                                                                                                                                                                                                                                                                                                                                                                                                                                                                                                                                                                                                                                                                                                                                                                                                                                                                                                                                                           [Turkey, Austria, Germany, Egypt, France, Iran, Jordan, Netherlands, Sweden]\n",
      "IDSTUD                                                                                                           [50010601, 50010602, 50010603, 50010604, 50010605, 50010607, 50010608, 50010609, 50010610, 50010611, 50010613, 50010614, 50010615, 50010616, 50010617, 50010618, 50010619, 50010620, 50010621, 50010622, 50010623, 50010624, 50010625, 50010626, 50010627, 50010630, 50010631, 50010633, 50010634, 50010635, 50010636, 50011401, 50011402, 50011403, 50011404, 50011406, 50011407, 50011408, 50011409, 50011411, 50011412, 50011413, 50011414, 50011415, 50011416, 50011417, 50011418, 50011419, 50011420, 50011421, 50011422, 50011423, 50011425, 50011426, 50011427, 50011428, 50011429, 50011430, 50011431, 50011432, 50011433, 50011434, 50020101, 50020102, 50020103, 50020104, 50020106, 50020107, 50020108, 50020109, 50020110, 50020111, 50020112, 50020113, 50020115, 50020116, 50020118, 50030301, 50030302, 50030303, 50030304, 50030306, 50030307, 50030309, 50030310, 50030311, 50030312, 50030313, 50030314, 50030315, 50030316, 50030317, 50030318, 50030319, 50030320, 50030321, 50030322, 50040101, 50040102, 50040103, ...]\n",
      "ASBH02A                                                                                                                                                                                                                                                                                                                                                                                                                                                                                                                                                                                                                                                                                                                                                                                                                                                                                                                                                                                                                                                                                                                                      [Yes, nan, No, 9]\n",
      "ASBH02B                                                                                                                                                                                                                                                                                                                                                                                                                                                                                                                                                                                                                                                                                                                                                                                                                                                                                                                                                                                                                                            [6, nan, 2, 1, 3, 9, 4, 3 to 5 years old, 8 years old or older, 6 to 7 years old, Younger than 3 years old]\n",
      "ASBH03A                                                                                                                                                                                                                                                                                                                                                                                                                                                                                                                                                                                                                                                                                                                                                                                                                                                                                                                                                                                                                                                                                                                                      [Yes, No, 9, nan]\n",
      "ASBH04                                                                                                                                                                                                                                                                                                                                                                                                                                                                                                                                                                                                                                                                                                                                                                                                                                                                                                                                                                                                                                                                                                                               [nan, 1.0, 4.0, 2.0, 3.0]\n",
      "ASBH15A                                                                                                                                                                                                                                                                                                                                                                                                                                                                                                                                                                                                                                                                                                                                                                                                                                                                                                                                                                                                                                                                                               [nan, 8.0, 4.0, 9.0, 6.0, 3.0, 2.0, 10.0, 7.0, 5.0, 1.0]\n",
      "ASBH15B                                                                                                                                                                                                                                                                                                                                                                                                                                                                                                                                                                                                                                                                                                                                                                                                                                                                                                                                                                                                                                                                                               [nan, 8.0, 5.0, 9.0, 4.0, 6.0, 7.0, 3.0, 2.0, 1.0, 10.0]\n",
      "ASBH16                                                                                                                                                                                                                                                                                                                                                                                                                                                                                                                                                                                                                                                                                                                                                                                                                                                                                                                                                                                                                                                                                                                [6.0, 3.0, 5.0, 4.0, nan, 9.0, 2.0, 1.0]\n",
      "ASBH17A                                                                                                                                                                                                                                                                                                                                                                                                                                                                                                                                                                                                                                                                                                                                                                                                                                                                                                                                                                                                                                                                                                   [nan, 12.0, 11.0, 2.0, 4.0, 6.0, 7.0, 3.0, 5.0, 1.0]\n",
      "ASBH17B                                                                                                                                                                                                                                                                                                                                                                                                                                                                                                                                                                                                                                                                                                                                                                                                                                                                                                                                                                                                                                                                                                   [nan, 3.0, 11.0, 1.0, 4.0, 2.0, 6.0, 12.0, 5.0, 7.0]\n",
      "ASBH18AA                                                                                                                                                                                                                                                                                                                                                                                                                                                                                                                                                                                                                                                                                                                                                                                                                                                                                                                                                                                                                                                                                                                                       [nan, 1.0, 2.0]\n",
      "ASBH18AB                                                                                                                                                                                                                                                                                                                                                                                                                                                                                                                                                                                                                                                                                                                                                                                                                                                                                                                                                                                                                                                                                                                                       [nan, 1.0, 2.0]\n",
      "ASBG01                                                                                                                                                                                                                                                                                                                                                                                                                                                                                                                                                                                                                                                                                                                                                                                                                                                                                                                                                                                                                                                                                                                                    [nan, 1.0, 2.0, 3.0]\n",
      "ASBG03                                                                                                                                                                                                                                                                                                                                                                                                                                                                                                                                                                                                                                                                                                                                                                                                                                                                                                                                                                                                                                                                                                                               [nan, 1.0, 3.0, 2.0, 4.0]\n",
      "ASBG10C                                                                                                                                                                                                                                                                                                                                                                                                                                                                                                                                                                                                                                                                                                                                                                                                                                                                                                                                                                                                                                                                                                                              [nan, 2.0, 1.0, 3.0, 4.0]\n",
      "ASBG10D                                                                                                                                                                                                                                                                                                                                                                                                                                                                                                                                                                                                                                                                                                                                                                                                                                                                                                                                                                                                                                                                                                                              [nan, 2.0, 1.0, 3.0, 4.0]\n",
      "ASBG10E                                                                                                                                                                                                                                                                                                                                                                                                                                                                                                                                                                                                                                                                                                                                                                                                                                                                                                                                                                                                                                                                                                                              [nan, 3.0, 1.0, 2.0, 4.0]\n",
      "ASBG10F                                                                                                                                                                                                                                                                                                                                                                                                                                                                                                                                                                                                                                                                                                                                                                                                                                                                                                                                                                                                                                                                                                                              [nan, 1.0, 2.0, 3.0, 4.0]\n",
      "ASBG11A                                                                                                                                                                                                                                                                                                                                                                                                                                                                                                                                                                                                                                                                                                                                                                                                                                                                                                                                                                                                                                                                                                                              [nan, 4.0, 2.0, 3.0, 1.0]\n",
      "ASBG11B                                                                                                                                                                                                                                                                                                                                                                                                                                                                                                                                                                                                                                                                                                                                                                                                                                                                                                                                                                                                                                                                                                                              [nan, 4.0, 2.0, 3.0, 1.0]\n",
      "ASBG11C                                                                                                                                                                                                                                                                                                                                                                                                                                                                                                                                                                                                                                                                                                                                                                                                                                                                                                                                                                                                                                                                                                                              [nan, 3.0, 1.0, 2.0, 4.0]\n",
      "ASBG11D                                                                                                                                                                                                                                                                                                                                                                                                                                                                                                                                                                                                                                                                                                                                                                                                                                                                                                                                                                                                                                                                                                                              [nan, 2.0, 4.0, 3.0, 1.0]\n",
      "ASBG11E                                                                                                                                                                                                                                                                                                                                                                                                                                                                                                                                                                                                                                                                                                                                                                                                                                                                                                                                                                                                                                                                                                                              [nan, 4.0, 3.0, 2.0, 1.0]\n",
      "ASBG11F                                                                                                                                                                                                                                                                                                                                                                                                                                                                                                                                                                                                                                                                                                                                                                                                                                                                                                                                                                                                                                                                                                                              [nan, 4.0, 3.0, 2.0, 1.0]\n",
      "ASBG11G                                                                                                                                                                                                                                                                                                                                                                                                                                                                                                                                                                                                                                                                                                                                                                                                                                                                                                                                                                                                                                                                                                                              [nan, 4.0, 2.0, 3.0, 1.0]\n",
      "ASBG11H                                                                                                                                                                                                                                                                                                                                                                                                                                                                                                                                                                                                                                                                                                                                                                                                                                                                                                                                                                                                                                                                                                                              [nan, 3.0, 4.0, 1.0, 2.0]\n",
      "ASBG11I                                                                                                                                                                                                                                                                                                                                                                                                                                                                                                                                                                                                                                                                                                                                                                                                                                                                                                                                                                                                                                                                                                                              [nan, 4.0, 1.0, 3.0, 2.0]\n",
      "ASBG11J                                                                                                                                                                                                                                                                                                                                                                                                                                                                                                                                                                                                                                                                                                                                                                                                                                                                                                                                                                                                                                                                                                                              [nan, 4.0, 3.0, 1.0, 2.0]\n",
      "ASDAGE                                                                                                                                                                                                                                                                                                                                                                                                                                                                                                                                                                                                                                                       [10.17, 9.42, 9.5, 9.58, 10.0, 9.92, 10.33, 9.67, 10.25, 9.75, 10.67, 10.58, 9.83, 9.25, 10.08, 10.42, 10.5, 11.0, 10.92, 9.33, 11.42, 8.75, 9.17, 12.33, 10.83, 12.25, 8.83, 11.33, 9.0, 9.08, 10.75, 11.25, 8.92, 11.08, 12.08, 11.17, 14.42, 12.5, 8.67, 13.58, 12.42, 8.42, 99.0, 11.92, 11.67, 11.58, 11.5, 13.42, 11.83, 13.25, 12.17, 11.75, 12.58, 12.0, 12.67, nan, 13.33, 8.58, 13.0, 13.5, 8.5, 13.08, 13.17, 12.92, 12.83, 12.75, 14.5, 8.08, 14.17, 13.75, 14.08, 13.83, 8.33, 6.75]\n",
      "ASRREA01               [575.43893, 624.14372, 566.97797, 559.10952, 569.82363, 599.02951, 582.63476, 528.27203, 518.12764, 635.88858, 554.25467, 546.38938, 553.46349, 515.55137, 512.23491, 615.51066, 481.29411, 544.74015, 563.83238, 553.79262, 614.14792, 679.87346, 617.95198, 520.56337, 550.93189, 606.35204, 532.03476, 522.35833, 605.24343, 519.54289, 577.08154, 560.55174, 605.04905, 520.77576, 551.39669, 554.90336, 516.56523, 622.14501, 690.24734, 634.66466, 627.71757, 685.01786, 619.4691, 640.32576, 544.80834, 534.25636, 576.34888, 599.13138, 495.02344, 628.19926, 494.48771, 572.12125, 599.50102, 704.39037, 462.64022, 522.71321, 504.9253, 668.72133, 591.4443, 495.98122, 675.61632, 553.8664, 501.74521, 607.44681, 534.32984, 480.73742, 464.83087, 613.53963, 452.23957, 565.98406, 558.59455, 674.6449, 571.5043, 486.3461, 520.12188, 594.46256, 526.65109, 517.59893, 542.91038, 454.07718, 469.62263, 371.4578, 431.37508, 511.43487, 423.48556, 567.76609, 483.59265, 540.12029, 582.04906, 390.18232, 521.5989, 412.52822, 553.96502, 433.66129, 635.18564, 593.3912, 464.82833, 405.91412, 495.02028, 303.56511, ...]\n",
      "ASRREA02              [557.2702, 612.68392, 568.76819, 606.69925, 570.48828, 594.51579, 625.49564, 535.76223, 513.33475, 716.48488, 515.23034, 567.51915, 558.10015, 569.66643, 524.02117, 639.0944, 478.33626, 554.44905, 602.35672, 560.06157, 620.7022, 695.28005, 617.70822, 499.53636, 513.13532, 601.03107, 544.15256, 513.34071, 698.69394, 490.0307, 607.11176, 612.16461, 659.96117, 543.63355, 570.0811, 532.91828, 526.29291, 575.20008, 563.72161, 599.04717, 747.56404, 610.36524, 624.90209, 634.70433, 544.15482, 624.02951, 571.68351, 579.08091, 550.27083, 634.76871, 501.97591, 601.68327, 643.39143, 562.67302, 526.58014, 494.86964, 496.81308, 621.39259, 563.60669, 472.28546, 631.62706, 602.27108, 530.30878, 594.15401, 503.75843, 519.1774, 481.20639, 550.21497, 483.02044, 527.71766, 521.09045, 613.49447, 555.729, 489.06262, 542.21209, 576.83607, 515.87288, 498.09673, 573.22039, 460.4186, 493.40823, 388.54133, 445.69075, 506.31464, 456.84523, 577.09855, 542.23889, 544.31892, 545.39081, 442.18167, 520.36893, 436.77802, 530.76555, 453.60058, 580.89311, 540.03431, 441.73691, 442.89034, 466.73835, 310.42133, ...]\n",
      "ASRREA03                   [561.95322, 544.73823, 532.78288, 618.60416, 577.86628, 535.78944, 600.35828, 555.90213, 527.16158, 684.8086, 552.85677, 581.31138, 525.91553, 566.1516, 510.9636, 590.3287, 477.94925, 502.56087, 544.69955, 547.39002, 617.7345, 614.53049, 572.59708, 455.16915, 637.32582, 543.75632, 529.87356, 576.66428, 651.93532, 557.39244, 592.25374, 551.05685, 599.89115, 539.41769, 568.6974, 542.86536, 556.57783, 647.75433, 629.24401, 559.3464, 661.28087, 684.89462, 675.17413, 642.18149, 517.67764, 589.66791, 573.3728, 581.24347, 573.05661, 667.92957, 495.91433, 618.7655, 644.08739, 567.87075, 499.4332, 494.87016, 508.71105, 586.27056, 583.04494, 520.78349, 662.55449, 577.11361, 529.49161, 584.24694, 514.12666, 428.75565, 491.80824, 565.87656, 393.96998, 534.84004, 552.59851, 641.30576, 546.22979, 483.18933, 487.97483, 608.43453, 522.2237, 500.42356, 573.75937, 435.95493, 523.05025, 360.71949, 390.33052, 544.06891, 425.71894, 575.00604, 529.8182, 516.42573, 541.67518, 448.4299, 498.67611, 422.16498, 566.78718, 421.33689, 580.2846, 518.47321, 446.87857, 444.08561, 500.38939, 319.24808, ...]\n",
      "ASRREA04                   [573.6631, 503.87599, 529.96707, 537.07661, 581.31827, 546.12736, 610.26663, 494.75246, 557.56336, 651.86717, 545.41073, 608.60684, 595.97201, 633.32933, 489.9752, 562.60728, 474.57793, 580.61549, 599.88936, 565.65259, 670.39843, 648.98032, 591.57771, 478.73155, 553.47615, 596.18284, 517.28718, 511.03551, 635.73151, 512.27971, 559.26102, 532.83195, 585.45269, 568.81204, 554.14382, 472.329, 546.24458, 607.3181, 662.27051, 594.05122, 605.751, 672.07741, 630.9758, 672.43562, 531.19977, 640.2962, 563.74719, 597.17711, 558.37699, 622.73405, 471.80482, 577.18692, 619.15727, 596.61259, 530.82288, 493.42287, 472.44631, 682.21563, 546.57056, 517.57416, 713.58958, 581.87498, 561.72755, 634.02245, 530.97335, 484.85349, 488.412, 614.08123, 455.18603, 533.44512, 596.31791, 631.37528, 547.86587, 436.8232, 487.9609, 567.78103, 527.22926, 541.06056, 575.83495, 440.50457, 473.89415, 350.94241, 410.61726, 471.48951, 428.08847, 548.89771, 501.20603, 545.40571, 557.78168, 438.67933, 491.52414, 505.15211, 573.1034, 428.22837, 576.85786, 515.21499, 345.82531, 486.77141, 523.83364, 343.17752, ...]\n",
      "ASRREA05                [567.45202, 556.77689, 574.76885, 578.13802, 563.87699, 568.3219, 534.66485, 513.84948, 505.04059, 762.59691, 527.18893, 560.64413, 588.31518, 585.58532, 529.38123, 526.45383, 472.11403, 529.20923, 583.21855, 525.81811, 663.48717, 688.61626, 609.64318, 491.81406, 631.58332, 589.6219, 546.65686, 535.49596, 527.8586, 507.0615, 620.47453, 605.503, 590.16931, 581.31918, 558.65215, 552.45629, 617.27408, 591.58137, 638.56772, 544.89975, 616.57569, 692.78495, 771.51094, 624.38752, 539.95913, 609.90443, 560.03939, 558.07981, 573.32448, 633.14195, 480.11171, 641.79658, 672.86706, 599.81199, 518.83811, 498.71057, 519.95139, 595.77099, 580.66685, 552.33751, 637.81487, 581.85254, 491.63385, 622.29307, 525.05787, 494.0038, 497.90417, 558.21808, 498.64215, 552.19607, 526.18951, 600.49068, 558.50414, 454.9421, 528.30221, 584.26023, 533.0934, 538.18151, 573.27596, 443.56397, 466.66877, 370.10129, 378.70966, 506.68856, 437.33764, 643.77667, 508.28514, 578.02663, 537.22722, 401.3927, 473.00299, 453.95549, 575.7572, 485.28527, 579.87779, 551.51009, 391.57494, 451.02398, 506.91841, 281.99653, ...]\n",
      "ASRLIT01             [574.18458, 558.67343, 510.07336, 552.78456, 504.06288, 630.18423, 617.63771, 479.0424, 509.47168, 645.45286, 583.50726, 607.85288, 583.1368, 529.94527, 504.4261, 673.73332, 477.36936, 614.24003, 569.16363, 515.10418, 708.34841, 656.20554, 634.66436, 525.01795, 641.90293, 611.80319, 473.8923, 513.61566, 681.63494, 534.74161, 565.55519, 566.49414, 609.69364, 518.57697, 596.72863, 490.94602, 548.35623, 554.84586, 686.6964, 565.97764, 594.12285, 681.51241, 680.91358, 704.17624, 581.61653, 646.27579, 634.96387, 589.85705, 505.46032, 666.07086, 500.53055, 517.92827, 623.12009, 636.4293, 487.12528, 474.28219, 548.13956, 588.57726, 554.08379, 537.23432, 698.69284, 520.32247, 539.33206, 558.63353, 537.80669, 438.38029, 500.89989, 543.67836, 498.72165, 581.34225, 559.54898, 648.82957, 495.99801, 506.77389, 510.03998, 626.91478, 517.6086, 507.47826, 572.90255, 403.72774, 445.03031, 371.33903, 444.84956, 546.55048, 472.41263, 567.28278, 568.65243, 548.50645, 539.27171, 425.06385, 462.57997, 407.8074, 551.68654, 424.34402, 620.45711, 590.96871, 438.27658, 443.00178, 502.82807, 319.67856, ...]\n",
      "ASRLIT02            [538.50995, 490.57312, 546.94331, 549.12705, 561.58346, 529.70187, 573.40051, 539.56275, 515.46201, 734.20897, 505.43467, 595.20937, 536.20534, 585.31009, 560.01228, 532.89651, 423.10626, 569.16448, 578.20895, 550.35442, 692.98664, 649.97449, 626.06302, 465.18976, 576.92592, 550.52294, 493.25512, 539.85891, 695.38942, 497.57783, 627.2069, 591.35443, 590.2587, 614.72697, 636.54374, 492.19462, 577.36852, 511.90949, 614.49664, 554.59477, 675.27005, 647.06821, 715.42305, 693.26113, 582.62932, 545.41916, 562.43765, 535.31192, 583.56423, 685.37707, 469.70461, 555.83169, 582.34794, 683.46228, 498.89813, 429.78749, 510.90907, 597.57077, 526.25461, 544.58006, 666.21746, 578.3635, 493.44808, 544.57462, 481.28351, 468.38194, 488.63368, 597.95422, 423.08294, 528.37273, 583.17318, 665.5133, 544.53241, 455.16068, 541.24289, 530.87841, 552.39655, 502.72156, 577.56805, 457.39812, 497.60894, 321.59019, 404.70317, 482.31783, 410.10178, 532.9687, 523.74523, 565.63065, 571.33713, 334.71892, 467.60127, 440.28957, 514.6872, 526.24311, 601.47408, 460.07674, 445.18437, 468.2395, 436.40833, 276.20237, ...]\n",
      "ASRLIT03                [552.13065, 518.70781, 579.40362, 549.04198, 527.24071, 588.24869, 641.24392, 539.2224, 492.94244, 649.92426, 554.97238, 566.33393, 590.58552, 545.81327, 538.46952, 593.31643, 474.05873, 592.05145, 614.339, 501.25792, 618.77826, 630.45106, 607.42412, 445.74807, 577.10065, 591.19084, 500.20069, 473.07846, 649.82486, 525.86995, 581.74888, 580.10062, 595.46382, 560.07551, 564.70831, 559.71424, 613.43199, 604.01205, 639.79641, 596.647, 633.44476, 639.68425, 676.7658, 685.89691, 494.20444, 649.74543, 565.15456, 565.43042, 544.43038, 634.75296, 544.87179, 594.77289, 600.48052, 624.37919, 485.57904, 470.55056, 463.28244, 670.69351, 584.5549, 516.94267, 680.63502, 581.60257, 527.57038, 545.26515, 474.65829, 460.5471, 507.87225, 572.93036, 510.64772, 557.22215, 539.75961, 560.94763, 573.7427, 491.78962, 468.65103, 565.04178, 530.54679, 526.8849, 523.80014, 413.08418, 472.21044, 315.2347, 416.36691, 498.44058, 488.99101, 546.21487, 536.00408, 468.37065, 573.11073, 406.84366, 514.67838, 385.90237, 523.20325, 527.16281, 649.08722, 531.94666, 396.55848, 484.35203, 496.92475, 274.31089, ...]\n",
      "ASRLIT04              [544.30274, 579.02561, 573.21826, 574.22474, 550.61312, 630.29038, 589.431, 530.4465, 525.49455, 648.5011, 555.62419, 595.27006, 511.52654, 610.12899, 530.01808, 467.42262, 470.53763, 596.28856, 595.21464, 492.29404, 700.90373, 631.11047, 636.32733, 467.45906, 645.90658, 633.33775, 523.57191, 499.89871, 580.52476, 481.98317, 588.64263, 611.27362, 643.35475, 586.25266, 598.03538, 538.83924, 547.13231, 598.22701, 610.29301, 553.68277, 690.7999, 586.96283, 681.48966, 677.52685, 504.18873, 701.63802, 537.41121, 539.60133, 561.97081, 588.09012, 483.76602, 623.04464, 616.21213, 639.73589, 563.53319, 493.20158, 537.40403, 602.9434, 547.59542, 516.93698, 597.97769, 547.22684, 501.93507, 619.57429, 500.18805, 478.54731, 478.41922, 520.87084, 457.86144, 569.05633, 529.21924, 570.49236, 570.81752, 511.28646, 542.24625, 547.55806, 575.25196, 515.47098, 581.34156, 455.11624, 483.1937, 376.88856, 392.14009, 518.52183, 431.29226, 564.51196, 511.84626, 534.5176, 553.07966, 341.44609, 452.87941, 406.24697, 559.54287, 468.14869, 628.7593, 606.60178, 357.72155, 378.74511, 459.32415, 334.45767, ...]\n",
      "ASRLIT05              [526.00088, 587.62561, 543.85171, 579.36628, 545.01145, 567.74485, 580.69505, 513.78333, 491.50154, 657.21653, 557.52379, 619.8823, 570.00023, 535.22662, 465.77242, 558.03663, 451.41733, 574.94845, 592.94974, 517.59047, 711.90004, 668.32584, 584.64015, 514.94933, 565.53234, 617.95226, 570.42558, 515.59499, 684.16478, 541.44278, 619.09939, 620.54325, 622.42343, 527.55931, 635.03167, 492.14413, 537.14065, 542.28641, 671.05878, 665.45464, 512.94719, 659.40381, 653.99732, 644.53126, 577.32445, 619.04246, 553.7866, 562.63458, 529.54616, 690.71819, 447.32772, 613.3095, 626.88188, 555.73623, 483.31462, 484.1446, 488.31996, 626.78393, 586.499, 503.3359, 705.00025, 562.26143, 488.43238, 626.37242, 490.21276, 494.06985, 498.11957, 582.94838, 453.95621, 639.99107, 598.50311, 628.47364, 568.88757, 433.59461, 515.21662, 584.62446, 560.03241, 460.06827, 569.88299, 389.86789, 452.60251, 366.1726, 393.85976, 475.4834, 421.50691, 558.49922, 501.44669, 452.08413, 510.06696, 388.26444, 480.50701, 415.96984, 571.51937, 520.69091, 581.00235, 514.80337, 442.98661, 421.93554, 468.01098, 254.59801, ...]\n",
      "ASRINF01                   [603.4214, 589.18148, 588.0798, 572.97888, 519.70329, 675.06685, 606.49005, 492.41226, 533.23985, 647.84849, 556.1975, 618.22015, 575.75351, 574.82484, 505.57583, 649.13082, 511.75352, 554.69107, 563.80806, 525.84221, 664.70355, 658.5687, 606.00286, 480.4036, 547.10758, 579.01339, 533.17248, 545.41419, 665.3094, 494.38461, 582.86894, 563.04853, 612.57513, 550.26152, 607.05377, 502.80151, 514.23199, 596.18222, 669.67758, 595.44864, 613.61464, 663.90667, 659.73847, 688.88166, 613.90621, 644.06824, 596.54626, 603.18285, 543.3306, 641.33586, 470.7519, 572.34291, 642.55377, 608.30893, 493.01475, 482.97499, 536.09701, 594.55121, 551.78495, 579.25194, 732.80497, 519.12359, 514.61964, 597.2149, 511.72503, 428.31437, 489.1192, 531.44753, 504.4087, 556.26579, 521.34701, 579.69017, 534.77651, 504.87512, 482.77837, 644.01461, 524.72637, 499.56473, 554.7102, 459.70306, 436.48324, 365.87954, 436.89858, 542.81624, 509.50781, 581.1038, 566.87284, 540.73347, 563.25594, 437.03658, 481.79555, 462.17868, 578.85004, 463.19569, 660.30087, 542.78123, 445.9774, 462.18041, 504.41532, 322.75423, ...]\n",
      "ASRINF02                     [557.18476, 567.6433, 530.325, 574.68991, 555.36239, 597.62458, 642.44965, 568.32805, 486.66744, 708.661, 520.1197, 564.29689, 546.53583, 638.56841, 553.67178, 560.66837, 491.46458, 528.47409, 553.53807, 546.85458, 682.9366, 694.63546, 580.11029, 442.02968, 551.8489, 538.10791, 502.79375, 587.62538, 679.46408, 433.0192, 588.48193, 575.08271, 595.95009, 572.87894, 579.95338, 524.54448, 552.69508, 561.52072, 615.9754, 576.64249, 650.22865, 590.21814, 676.54158, 675.96691, 608.19167, 501.4108, 551.99759, 542.58743, 590.16577, 706.31326, 494.03455, 621.47906, 590.75121, 666.81964, 515.22428, 449.45214, 517.69936, 673.01165, 536.04648, 565.6671, 671.22522, 607.71251, 556.36425, 604.75704, 500.81005, 475.05957, 503.9401, 630.31333, 401.57302, 554.26749, 538.60669, 663.65365, 566.02098, 464.0315, 533.27092, 577.90016, 534.27761, 521.47225, 534.72627, 465.12835, 499.91684, 309.98016, 393.83509, 512.83875, 473.3631, 569.84686, 507.37863, 574.37567, 568.10162, 402.29731, 505.2108, 460.93606, 545.02862, 518.96031, 656.81623, 459.48421, 420.61577, 477.57593, 484.54418, 292.18984, ...]\n",
      "ASRINF03                    [579.4064, 583.6373, 608.01411, 587.09957, 541.11246, 592.49081, 644.49228, 557.32124, 516.8371, 623.65636, 543.50032, 594.86087, 577.27351, 576.63577, 521.95226, 592.99951, 484.7134, 512.57996, 570.84212, 488.22784, 608.74713, 650.08117, 585.19408, 383.03852, 558.63489, 599.47371, 519.65433, 506.82243, 641.21748, 523.56863, 576.5371, 583.47668, 573.03243, 515.3936, 580.40797, 575.51536, 563.15975, 653.01818, 623.81101, 603.37555, 612.81205, 639.20744, 676.17858, 663.51542, 541.73003, 647.1098, 558.33032, 565.42681, 505.88496, 616.31312, 496.21715, 604.84889, 588.95393, 604.53917, 477.95244, 471.51251, 499.27248, 665.43244, 568.49594, 514.65544, 669.6692, 537.06564, 534.97308, 588.69052, 461.63294, 476.17289, 524.90542, 564.36721, 455.75955, 555.5811, 514.36198, 570.03183, 565.44719, 496.0591, 406.51677, 582.8766, 510.83642, 513.76314, 530.9632, 414.62234, 492.45102, 299.67929, 455.90659, 511.32682, 490.27728, 584.68825, 500.99544, 514.62601, 575.1717, 417.45676, 547.41101, 450.93496, 531.19441, 450.5417, 630.77518, 545.10834, 387.06991, 541.67416, 528.7552, 299.37473, ...]\n",
      "ASRINF04         [589.70854, 605.92949, 592.02409, 616.07931, 562.87383, 648.48427, 590.52124, 545.92722, 508.27399, 675.83299, 556.53255, 603.84827, 552.15108, 614.01739, 540.15774, 528.63933, 482.48077, 536.83705, 631.44425, 503.67984, 626.57708, 631.12155, 583.26821, 430.10339, 594.35965, 627.73065, 556.65747, 559.88887, 621.1845, 422.35687, 597.62841, 583.17419, 645.25256, 596.45114, 599.03355, 510.52601, 541.29376, 620.87217, 596.76891, 575.31806, 719.99192, 579.89373, 665.05799, 624.07935, 568.50228, 681.83464, 506.12513, 532.06749, 554.78265, 588.60444, 519.23805, 619.85511, 611.05398, 553.42052, 526.6706, 515.73835, 536.96863, 624.68472, 564.91759, 507.48398, 631.68289, 530.82329, 542.98731, 662.41615, 545.08198, 428.68963, 505.09668, 603.97626, 426.55082, 515.35818, 569.03919, 567.19773, 549.09231, 471.35536, 546.65657, 561.77312, 568.91869, 484.02714, 587.76352, 489.3761, 490.71534, 366.50134, 460.74971, 477.19052, 429.16639, 569.03847, 514.95891, 561.66689, 571.90981, 375.79525, 491.15166, 473.88204, 603.45023, 392.43938, 635.59797, 564.94356, 395.82608, 437.65499, 461.9467, 332.78619, ...]\n",
      "ASRINF05                       [607.70484, 612.32853, 604.63968, 627.0463, 545.24756, 567.69993, 600.4034, 565.56629, 514.63259, 678.60444, 541.26801, 597.57107, 612.595, 544.18178, 509.97988, 571.0213, 485.11264, 543.43077, 627.45616, 538.76862, 682.61271, 648.00854, 556.56713, 502.61228, 528.01502, 597.95704, 582.30507, 506.10125, 623.5724, 539.19264, 619.1239, 596.2426, 613.86737, 493.98718, 606.39915, 491.25876, 491.37086, 561.00066, 614.44442, 647.36113, 575.6972, 653.91311, 689.14849, 623.29239, 591.87575, 588.31097, 588.00809, 564.34942, 534.507, 693.92274, 490.03973, 618.32172, 554.81649, 541.70105, 495.31965, 504.24517, 540.85199, 646.07, 586.08708, 522.03322, 725.80854, 570.66652, 543.92689, 627.32211, 467.76768, 510.3243, 543.92987, 639.82562, 450.74561, 603.02802, 615.21563, 653.16774, 567.20585, 437.60289, 489.06953, 571.6961, 542.15164, 475.96066, 576.21394, 400.42466, 464.50559, 340.71611, 418.69653, 458.3282, 448.03113, 585.27884, 528.61156, 494.18319, 578.73169, 356.80348, 502.51114, 471.8373, 550.66616, 505.53507, 593.96763, 520.63132, 448.63239, 476.36929, 503.79325, 295.01607, ...]\n",
      "ASRIIE01             [512.47061, 533.28483, 555.22771, 597.19872, 519.03545, 533.57305, 592.48492, 546.38205, 542.92514, 708.57343, 528.6263, 579.41325, 578.69667, 483.36732, 466.61841, 623.04977, 453.41342, 522.75361, 569.28739, 500.38624, 614.73831, 705.74955, 574.19181, 457.21554, 551.60481, 555.46026, 552.3505, 472.23636, 714.10172, 532.60286, 630.34299, 614.43024, 596.80812, 550.92935, 562.66138, 449.25061, 594.50053, 584.05652, 622.80093, 574.6045, 676.11246, 677.90589, 593.6435, 678.53159, 509.28167, 530.87171, 643.99894, 590.47328, 578.52661, 617.73775, 464.47263, 569.753, 627.51606, 626.60132, 521.63116, 487.07622, 488.77358, 582.94995, 491.16524, 563.72745, 700.63303, 528.34103, 489.77716, 602.71622, 537.08411, 486.70455, 479.88304, 581.37431, 425.36805, 579.63206, 535.45666, 616.32993, 530.02547, 418.19482, 521.86127, 621.39861, 505.42429, 528.58834, 603.90747, 447.38818, 489.88423, 359.16479, 407.51429, 533.78902, 417.49869, 580.50059, 517.57288, 536.17385, 557.63657, 444.98064, 501.28021, 415.69477, 560.50615, 454.6869, 572.28032, 535.14015, 443.55379, 452.32679, 481.9708, 269.57399, ...]\n",
      "ASRIIE02                [531.55392, 570.44237, 511.40394, 550.02047, 558.36346, 637.79627, 571.03521, 535.4142, 501.27309, 673.95076, 553.1349, 597.64738, 535.17925, 561.22599, 522.26945, 614.51995, 464.82459, 503.27322, 557.95002, 559.7729, 621.21514, 604.54282, 571.89289, 459.95166, 575.4943, 635.55482, 532.04776, 513.73453, 644.87934, 547.67848, 590.13506, 581.83859, 602.8939, 461.4298, 624.77557, 538.86321, 528.39625, 615.44756, 600.06012, 574.73386, 604.85501, 652.72509, 629.85768, 710.7631, 561.38588, 632.08774, 602.77663, 548.81435, 570.42122, 674.82683, 484.70716, 526.70563, 626.15749, 688.76097, 477.79518, 471.02111, 488.26943, 519.16693, 580.43182, 483.60825, 664.49994, 564.08924, 503.10008, 622.26157, 481.19582, 482.47895, 489.10226, 549.41376, 462.08991, 575.075, 547.13781, 624.1778, 533.94037, 429.50703, 525.12346, 620.46128, 546.37666, 508.46942, 584.87807, 470.98004, 444.56812, 419.22122, 387.72411, 471.68748, 398.05059, 543.24938, 513.89668, 536.61939, 583.69978, 445.31274, 523.42268, 404.42241, 562.19899, 505.94628, 627.35354, 493.09153, 551.23839, 471.55265, 489.4967, 331.31952, ...]\n",
      "ASRIIE03                  [530.54494, 533.81285, 535.36974, 590.29351, 578.47305, 575.27922, 565.58887, 574.06826, 505.73772, 710.76474, 568.56271, 583.95421, 558.85117, 613.86137, 533.69884, 606.3071, 450.16407, 583.68257, 564.4486, 492.64786, 637.80798, 638.22244, 600.25241, 452.33637, 586.15779, 621.9122, 534.25519, 489.83865, 582.51699, 509.6125, 579.27171, 573.80403, 603.7687, 528.20709, 571.37944, 530.20714, 534.82481, 573.32969, 699.50279, 635.3055, 636.23412, 583.56692, 640.70434, 649.02733, 529.59924, 544.04648, 624.68046, 609.14502, 558.60031, 611.9602, 475.41518, 608.54484, 638.63988, 541.78487, 481.68142, 448.51139, 528.08907, 668.39156, 524.68832, 522.52425, 673.91265, 560.54758, 529.86728, 614.06325, 470.63545, 407.89081, 491.10651, 568.30311, 485.4958, 540.88146, 537.64853, 640.44876, 565.93799, 489.7552, 519.2193, 566.1979, 543.22178, 491.88284, 553.86555, 443.78372, 474.74596, 391.9547, 407.91016, 521.43491, 452.21475, 558.86537, 499.57087, 559.57246, 548.47668, 405.01657, 563.94391, 417.0494, 538.33473, 468.58611, 600.39656, 508.78863, 423.08321, 497.53203, 473.98999, 258.10447, ...]\n",
      "ASRIIE04              [532.47086, 527.90432, 577.63833, 604.19057, 569.08537, 549.17566, 540.26428, 523.92601, 545.68694, 536.13735, 546.85457, 651.69216, 539.94302, 519.11971, 538.22217, 647.9721, 463.71887, 531.07784, 566.25601, 513.5589, 690.47874, 749.45687, 557.49808, 439.6815, 589.34417, 598.18749, 534.44421, 507.27716, 630.58547, 477.63146, 574.22012, 564.78046, 588.51956, 523.05204, 585.1383, 500.70073, 518.80574, 558.20814, 649.09559, 634.49757, 627.82364, 635.64837, 677.66028, 649.76747, 573.57216, 509.30265, 648.70966, 606.64509, 549.99564, 642.78859, 487.79883, 591.59669, 600.26984, 592.82806, 468.96704, 451.95361, 493.68768, 725.17296, 514.69174, 562.52065, 644.90697, 518.2015, 554.85635, 585.44181, 520.61332, 453.48776, 511.51053, 563.19735, 453.63802, 592.21027, 552.4824, 572.36214, 587.8911, 465.57367, 490.72786, 639.67235, 520.99175, 516.24303, 576.41138, 497.08289, 423.84083, 392.68428, 416.10961, 483.65384, 417.16053, 596.00763, 571.29951, 508.4959, 547.79043, 400.86168, 498.98357, 502.07405, 511.62538, 459.22829, 604.99691, 515.77007, 492.86615, 451.70624, 500.74846, 265.5158, ...]\n",
      "ASRIIE05                     [551.68836, 552.31885, 579.58198, 599.13247, 553.29817, 616.07003, 596.23778, 555.03302, 514.99487, 621.35785, 525.05264, 558.18443, 564.16921, 507.81671, 502.60253, 616.07085, 481.8363, 509.21646, 581.61868, 520.50987, 647.29631, 705.37534, 625.32479, 490.49462, 609.70883, 639.07421, 563.42159, 527.75327, 602.08214, 537.59687, 568.47145, 557.39394, 623.14213, 577.59687, 583.63775, 486.11997, 466.11346, 520.49757, 702.33614, 684.22294, 613.25021, 646.64223, 640.24831, 661.64832, 531.42655, 634.9449, 574.03312, 604.99057, 552.7681, 607.67428, 479.7279, 550.77006, 586.01344, 637.58245, 464.88141, 495.25093, 494.423, 672.7969, 595.2641, 562.835, 672.62613, 520.10319, 499.10823, 593.46946, 499.60199, 401.12458, 521.06067, 525.091, 441.90307, 561.03184, 558.86959, 568.51227, 603.27132, 465.95704, 529.9429, 551.00176, 511.083, 465.07167, 559.50029, 438.4781, 469.61525, 328.70585, 419.49451, 507.47874, 509.75228, 522.50668, 508.03159, 597.72995, 566.47444, 464.41974, 425.25281, 449.39355, 486.27136, 470.81428, 642.88709, 564.44922, 443.22231, 403.83711, 489.36667, 264.83579, ...]\n",
      "ASRRSI01              [511.66661, 509.93363, 595.41526, 602.64538, 559.92889, 558.49329, 613.15493, 527.35699, 543.44672, 727.48511, 507.15849, 567.13867, 598.57123, 459.3033, 487.49868, 642.43887, 491.5361, 524.80891, 586.94707, 521.48461, 635.69369, 705.56157, 622.77763, 496.71948, 530.95434, 535.29556, 532.23932, 533.08536, 681.18755, 512.9061, 673.44357, 652.12314, 624.38339, 570.83576, 575.99105, 491.40054, 624.55804, 603.92182, 613.80984, 575.1327, 693.74873, 699.81051, 629.25677, 658.58549, 526.64417, 593.97752, 576.65827, 590.79997, 535.79241, 680.97301, 485.07771, 611.57471, 625.39878, 614.67806, 542.75752, 508.36338, 529.15989, 605.22298, 490.66493, 542.67854, 725.47022, 525.9107, 511.04631, 596.64671, 536.07686, 500.80086, 502.58249, 566.51857, 444.29205, 581.06543, 560.51541, 596.17387, 509.50649, 460.01744, 542.33934, 641.95341, 523.35468, 537.17367, 604.94371, 426.32594, 490.57353, 366.53984, 407.91253, 557.04873, 400.37719, 580.26183, 520.03659, 551.13503, 538.05003, 421.2541, 532.341, 476.7405, 561.35747, 453.93561, 638.67257, 539.66333, 423.60494, 462.79298, 502.05053, 261.57843, ...]\n",
      "ASRRSI02                  [550.91604, 590.28715, 531.5494, 548.77512, 576.53703, 658.49534, 571.69336, 514.66892, 481.88241, 673.07552, 531.78097, 580.68536, 535.73625, 554.02072, 536.19066, 650.16909, 463.11949, 523.99539, 578.50327, 598.10826, 662.72398, 604.0079, 612.83775, 514.17816, 586.01805, 636.84103, 508.52128, 575.27217, 644.67056, 535.73019, 613.839, 618.8331, 605.13741, 480.398, 644.88355, 570.91989, 565.5106, 637.34905, 560.37036, 615.53875, 604.94394, 679.89457, 671.12736, 668.84421, 581.36498, 650.25084, 514.92606, 534.72679, 589.41252, 757.78023, 468.36756, 567.75893, 606.36971, 689.25636, 478.13098, 509.98053, 507.81681, 539.6832, 580.72675, 482.93387, 664.34898, 563.20045, 522.67149, 621.60968, 480.6802, 501.75101, 480.58737, 548.2361, 441.30591, 595.401, 567.64751, 625.55921, 508.79968, 452.05887, 525.84107, 629.42607, 568.72136, 530.64838, 583.78193, 431.53109, 455.58685, 418.67213, 391.31873, 491.90534, 379.55364, 519.51053, 534.06812, 557.27965, 566.99337, 402.98729, 525.12623, 451.76825, 562.30867, 521.76801, 637.38746, 481.27838, 507.14161, 451.19831, 466.00708, 330.49613, ...]\n",
      "ASRRSI03          [541.14507, 528.73534, 554.99954, 569.19386, 590.71578, 573.70432, 589.36304, 531.12094, 537.10289, 710.5357, 547.89636, 562.95376, 557.22668, 612.83716, 553.15146, 614.0864, 450.78566, 584.03796, 593.84489, 534.46777, 657.74616, 617.89039, 661.05718, 474.00738, 564.99682, 621.23578, 522.68086, 531.20902, 591.97839, 527.05807, 616.45471, 615.66067, 608.21568, 525.51178, 591.94804, 528.65632, 586.34372, 563.56515, 705.53937, 621.59086, 635.22915, 604.67921, 661.22418, 608.54782, 510.11761, 563.94422, 562.65537, 609.71577, 534.44915, 673.18025, 496.72081, 649.63914, 625.92394, 519.17269, 461.78091, 488.96724, 548.87118, 667.11702, 530.87214, 522.03787, 695.42469, 552.80224, 528.38982, 615.37679, 469.4712, 419.59027, 513.83198, 560.62558, 486.75193, 561.9846, 538.30335, 640.17063, 555.56618, 498.72015, 538.15806, 584.63763, 545.32401, 515.54485, 541.8181, 418.42335, 476.43692, 357.82704, 386.67614, 521.53822, 432.33934, 536.39508, 502.70862, 581.61214, 532.61372, 410.75332, 541.46322, 438.54992, 557.40109, 530.49092, 642.23952, 511.96527, 422.95521, 474.81592, 466.85728, 256.93159, ...]\n",
      "ASRRSI04             [547.95804, 527.73292, 616.19334, 604.42141, 588.92653, 573.07364, 538.77303, 500.03121, 566.48141, 524.50459, 527.75755, 628.17385, 538.6435, 506.17984, 558.47008, 654.94789, 463.15938, 550.77601, 607.47001, 554.16476, 711.38611, 733.45023, 616.04483, 480.68458, 568.19426, 577.09044, 529.05707, 525.75146, 631.4344, 504.12161, 589.14802, 625.96905, 614.14302, 562.81317, 616.5765, 507.09466, 580.24137, 599.55752, 649.64758, 631.60745, 648.43243, 631.60909, 695.95671, 631.61391, 552.75254, 569.70018, 569.01681, 610.88123, 550.24742, 716.44716, 549.4495, 612.30597, 600.4275, 593.88535, 485.7949, 485.92474, 533.90884, 746.23235, 512.49607, 562.70961, 656.84991, 538.2197, 575.92671, 586.24733, 486.55854, 494.31029, 511.80305, 564.5954, 473.78525, 591.62123, 581.72964, 572.48582, 546.24181, 442.98486, 503.71177, 639.52055, 562.19261, 537.40341, 617.11166, 451.60104, 403.76217, 372.46736, 398.67895, 509.84674, 409.03528, 595.37239, 572.63793, 529.00493, 525.16354, 364.71787, 520.18737, 532.33558, 531.34059, 478.70292, 624.43079, 517.07575, 432.42663, 452.28493, 524.72588, 285.22352, ...]\n",
      "ASRRSI05              [576.53241, 552.69589, 579.88415, 591.9977, 605.66793, 594.72684, 605.7782, 493.07863, 556.59749, 643.59399, 505.54779, 537.82868, 584.86365, 503.87695, 522.81141, 598.40187, 502.93301, 510.00049, 601.65566, 498.08634, 689.83252, 681.027, 667.04076, 531.60359, 610.57133, 601.33718, 565.39295, 566.56572, 580.19103, 517.70001, 632.4293, 599.9082, 603.71605, 596.75134, 583.86647, 505.02459, 503.51478, 522.49006, 680.93121, 711.62536, 612.69593, 647.11343, 662.25798, 657.12463, 526.86071, 657.12361, 534.4193, 611.4926, 532.97072, 689.79887, 500.95343, 591.74415, 584.89708, 623.87067, 445.51646, 515.54617, 514.15565, 694.46943, 596.06208, 557.99499, 706.96229, 560.27201, 500.05227, 611.25874, 492.79144, 422.69732, 519.81928, 544.66549, 441.25771, 582.58201, 579.39828, 583.12634, 586.71511, 471.51492, 534.67039, 572.09899, 526.33238, 490.46293, 573.89927, 433.78405, 496.92249, 338.70372, 425.11506, 548.11313, 476.89341, 541.68536, 528.97517, 614.14553, 545.23249, 445.55667, 445.55154, 513.37756, 506.36105, 520.79819, 674.96377, 562.88751, 402.7984, 424.28651, 509.16692, 261.37379, ...]\n",
      "MINAGEARRIVAL                                                                                                                                                                                                                                                                                                                                                                                                                                                                                                                                                                                                                                                                                                                                                                                                                                                                                                                                                                                                                                                                                                                        [nan, 3.0, 0.0, 6.0, 8.0]\n",
      "rounded_ages                                                                                                                                                                                                                                                                                                                                                                                                                                                                                                                                                                                                                                                                                                                                                                                                                                                                                                                                                                                                                                                                                          [10.0, 9.0, 11.0, 12.0, 14.0, 8.0, 99.0, 13.0, nan, 7.0]\n",
      "AASBG03                                                                                                                                                                                                                                                                                                                                                                                                                                                                                                                                                                                                                                                                                                                                                                                                                                                                                                                                                                                                                                                                                                                              [nan, 1.0, 3.0, 2.0, 4.0]\n",
      "dtype: object\n"
     ]
    }
   ],
   "source": [
    "# Apply unique() to each column\n",
    "unique_values_DF2 = DF2.apply(lambda col: col.unique())\n",
    "\n",
    "print(unique_values_DF2)"
   ]
  },
  {
   "cell_type": "markdown",
   "metadata": {},
   "source": [
    "do I need to change the ones ASBH02A etc.? I'm not sure. Shall we do some practice typing? Because actually I don't do that much typing and I think I'm losing it a little bit. Which isn't good. So I am going to go home now and go to tesco on the way. I'm going to look for lettuce and cottage cheese and compare the carb content of cottage cheese to that of cream cheese etc. Because I could potentially use cottage cheese as a dip. Perhaps with the addition of of avocado. I need to not pre-empt weekend snacking. Perhaps if I go to Norwich on Saturdays that might help my feeling and then see Jake or Rosie in the afternoon. Because I can't do Saturdays at home! Have to get out of the house. And then Sunday could be my day of rest. Good typing gal! It's time to go, isn't it? Can do some reading in the garden in the afternoon - that could be nice.! Cool, let's go."
   ]
  }
 ],
 "metadata": {
  "kernelspec": {
   "display_name": "Python 3",
   "language": "python",
   "name": "python3"
  },
  "language_info": {
   "codemirror_mode": {
    "name": "ipython",
    "version": 3
   },
   "file_extension": ".py",
   "mimetype": "text/x-python",
   "name": "python",
   "nbconvert_exporter": "python",
   "pygments_lexer": "ipython3",
   "version": "3.7.6"
  }
 },
 "nbformat": 4,
 "nbformat_minor": 4
}
