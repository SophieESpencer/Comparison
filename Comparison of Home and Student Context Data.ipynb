{
 "cells": [
  {
   "cell_type": "code",
   "execution_count": 1,
   "metadata": {},
   "outputs": [],
   "source": [
    "import pandas as pd\n",
    "import numpy as np\n",
    "pd.set_option(\"display.max_columns\", None)\n",
    "pd.set_option(\"display.max_rows\", None)\n",
    "Turkey = pd.read_excel(\"ASHTURR5.xlsx\")\n",
    "Austria = pd.read_excel(\"ASHAUTR5.xlsx\")\n",
    "Germany = pd.read_excel(\"ASHDEUR5.xlsx\")\n",
    "Egypt = pd.read_excel(\"ASHEGYR5.xlsx\")\n",
    "France = pd.read_excel(\"ASHFRAR5.xlsx\")\n",
    "Iran = pd.read_excel(\"ASHIRNR5.xlsx\")\n",
    "Jordan = pd.read_excel(\"ASHJORR5.xlsx\")\n",
    "Netherlands = pd.read_excel(\"ASHNLDR5.xlsx\")\n",
    "Sweden = pd.read_excel(\"ASHSWER5.xlsx\")"
   ]
  },
  {
   "cell_type": "markdown",
   "metadata": {},
   "source": [
    "HC is the home context data. This is a questionnaire filled in by the parents of each student. It contains crucial information on the immigration status of students and the languages they speak."
   ]
  },
  {
   "cell_type": "code",
   "execution_count": 2,
   "metadata": {},
   "outputs": [],
   "source": [
    "columns_to_keep = ['IDCNTRY','IDSTUD','ASBH02A','ASBH02B','ASBH03A','ASBH04', 'ASBH15A','ASBH15B','ASBH16','ASBH17A','ASBH17B','ASBH18AA','ASBH18AB']"
   ]
  },
  {
   "cell_type": "code",
   "execution_count": 4,
   "metadata": {},
   "outputs": [],
   "source": [
    "df = df[columns_to_keep]"
   ]
  },
  {
   "cell_type": "code",
   "execution_count": 3,
   "metadata": {},
   "outputs": [],
   "source": [
    "df = pd.concat([Turkey, Austria, Germany, Egypt, France, Iran, Jordan, Netherlands, Sweden])"
   ]
  },
  {
   "cell_type": "code",
   "execution_count": 5,
   "metadata": {},
   "outputs": [
    {
     "name": "stdout",
     "output_type": "stream",
     "text": [
      "<class 'pandas.core.frame.DataFrame'>\n",
      "Int64Index: 50367 entries, 0 to 5174\n",
      "Data columns (total 13 columns):\n",
      " #   Column    Non-Null Count  Dtype \n",
      "---  ------    --------------  ----- \n",
      " 0   IDCNTRY   50367 non-null  int64 \n",
      " 1   IDSTUD    50367 non-null  int64 \n",
      " 2   ASBH02A   41503 non-null  object\n",
      " 3   ASBH02B   16269 non-null  object\n",
      " 4   ASBH03A   41179 non-null  object\n",
      " 5   ASBH04    41231 non-null  object\n",
      " 6   ASBH15A   37405 non-null  object\n",
      " 7   ASBH15B   34597 non-null  object\n",
      " 8   ASBH16    40406 non-null  object\n",
      " 9   ASBH17A   36503 non-null  object\n",
      " 10  ASBH17B   32361 non-null  object\n",
      " 11  ASBH18AA  40161 non-null  object\n",
      " 12  ASBH18AB  35131 non-null  object\n",
      "dtypes: int64(2), object(11)\n",
      "memory usage: 5.4+ MB\n"
     ]
    }
   ],
   "source": [
    "df.info()"
   ]
  },
  {
   "cell_type": "markdown",
   "metadata": {},
   "source": [
    "It is interesting here that when the dataframes were concatenated the Dtype of the columns changed from int to object. I believe this is because the data for some countries has been inputted as strings and for other countries as int. "
   ]
  },
  {
   "cell_type": "markdown",
   "metadata": {},
   "source": [
    "ASBH02A\tGEN\\CHILD BORN IN <COUNTRY>\tHQ-02A\tNominal\t1\t0\t\t\t 1: Yes; 2: No\t9: Omitted or invalid; Sysmis: Not administered"
   ]
  },
  {
   "cell_type": "markdown",
   "metadata": {},
   "source": [
    "ASBH02B\tGEN\\AGE OF CHILD WHEN CAME TO <COUNTRY>\tHQ-02B\tOrdinal\t1\t0\t\t\t 1: Younger than 3 years old; 2: 3 to 5 years old; 3: 6 to 7 years old; 4: 8 years old or older\t9: Omitted or invalid; 6: Logically not applicable; Sysmis: Not administered"
   ]
  },
  {
   "cell_type": "markdown",
   "metadata": {},
   "source": [
    "ASBH03A\tGEN\\LANGUAGE\\<LANGUAGE OF TEST>\tHQ-03a\tNominal\t1\t0\t\t\t 1: Yes; 2: No\t9: Omitted or invalid; Sysmis: Not administered"
   ]
  },
  {
   "cell_type": "markdown",
   "metadata": {},
   "source": [
    "ASBH04\tGEN\\HOW OFTEN <LANG OF TEST> AT HOME\tHQ-04\tOrdinal\t1\t0\t\t\t 1: Always; 2: Almost always; 3: Sometimes; 4: Never\t9: Omitted or invalid; Sysmis: Not administered"
   ]
  },
  {
   "cell_type": "markdown",
   "metadata": {},
   "source": [
    "ASBH15A\tGEN\\LVL OF EDUCATION\\GUARDIAN A\tHQ-15a\tOrdinal\t2\t0\t\t\t 1: Did not go to school; 10: Not applicable; 2: Some <Primary education—ISCED Level 1 or Lower secondary education—ISCED Level 2>; 3: <Lower secondary education—ISCED Level 2>; 4: <Upper secondary education—ISCED Level 3>; 5: <Post-secondary, non-tertiary education— ISCED Level 4>; 6: <Short-cycle tertiary education—ISCED Level 5>; 7: <Bachelor’s or equivalent level—ISCED Level 6>; 8: <Master’s or equivalent level—ISCED Level 7>; 9: <Doctor or equivalent level—ISCED Level 8>\t999: Omitted or invalid; Sysmis: Not administered"
   ]
  },
  {
   "cell_type": "markdown",
   "metadata": {},
   "source": [
    "ASBH15B\tGEN\\LVL OF EDUCATION\\GUARDIAN B\tHQ-15b\tOrdinal\t2\t0\t\t\t 1: Did not go to school; 10: Not applicable; 2: Some <Primary education—ISCED Level 1 or Lower secondary education—ISCED Level 2>; 3: <Lower secondary education—ISCED Level 2>; 4: <Upper secondary education—ISCED Level 3>; 5: <Post-secondary, non-tertiary education— ISCED Level 4>; 6: <Short-cycle tertiary education—ISCED Level 5>; 7: <Bachelor’s or equivalent level—ISCED Level 6>; 8: <Master’s or equivalent level—ISCED Level 7>; 9: <Doctor or equivalent level—ISCED Level 8>\t999: Omitted or invalid; Sysmis: Not administered"
   ]
  },
  {
   "cell_type": "markdown",
   "metadata": {},
   "source": [
    "SC is the Student Context data which is a questionnaire filled in by the students themselves as well as some totals on their achievement in the test. "
   ]
  },
  {
   "cell_type": "code",
   "execution_count": 6,
   "metadata": {},
   "outputs": [],
   "source": [
    "TurkeySC = pd.read_excel(\"ASGTURR5.xlsx\")\n",
    "AustriaSC = pd.read_excel(\"ASGAUTR5.xlsx\")\n",
    "EgyptSC = pd.read_excel(\"ASGEGYR5.xlsx\")\n",
    "FranceSC = pd.read_excel(\"ASGFRAR5.xlsx\")\n",
    "IranSC = pd.read_excel(\"ASGIRNR5.xlsx\")\n",
    "JordanSC = pd.read_excel(\"ASGJORR5.xlsx\")\n",
    "NetherlandsSC = pd.read_excel(\"ASGNLDR5.xlsx\")\n",
    "SwedenSC = pd.read_excel(\"ASGSWER5.xlsx\")\n",
    "GermanySC = pd.read_excel(\"ASGDEUR5.xlsx\")"
   ]
  },
  {
   "cell_type": "code",
   "execution_count": 7,
   "metadata": {},
   "outputs": [],
   "source": [
    "SCdf = pd.concat([TurkeySC, AustriaSC, EgyptSC, FranceSC, IranSC, JordanSC, NetherlandsSC, SwedenSC, GermanySC])"
   ]
  },
  {
   "cell_type": "code",
   "execution_count": 8,
   "metadata": {},
   "outputs": [],
   "source": [
    "SCdf = SCdf[['IDCNTRY',\n",
    " 'IDSTUD','ASBG01',\n",
    " 'ASBG03','ASBG10C',\n",
    " 'ASBG10D',\n",
    " 'ASBG10E',\n",
    " 'ASBG10F',\n",
    " 'ASBG11A',\n",
    " 'ASBG11B',\n",
    " 'ASBG11C',\n",
    " 'ASBG11D',\n",
    " 'ASBG11E',\n",
    " 'ASBG11F',\n",
    " 'ASBG11G',\n",
    " 'ASBG11H',\n",
    " 'ASBG11I',\n",
    " 'ASBG11J','ASDAGE','ASRREA01',\n",
    " 'ASRREA02',\n",
    " 'ASRREA03',\n",
    " 'ASRREA04',\n",
    " 'ASRREA05',\n",
    " 'ASRLIT01',\n",
    " 'ASRLIT02',\n",
    " 'ASRLIT03',\n",
    " 'ASRLIT04',\n",
    " 'ASRLIT05',\n",
    " 'ASRINF01',\n",
    " 'ASRINF02',\n",
    " 'ASRINF03',\n",
    " 'ASRINF04',\n",
    " 'ASRINF05',\n",
    " 'ASRIIE01',\n",
    " 'ASRIIE02',\n",
    " 'ASRIIE03',\n",
    " 'ASRIIE04',\n",
    " 'ASRIIE05',\n",
    " 'ASRRSI01',\n",
    " 'ASRRSI02',\n",
    " 'ASRRSI03',\n",
    " 'ASRRSI04',\n",
    " 'ASRRSI05']]"
   ]
  },
  {
   "cell_type": "code",
   "execution_count": 9,
   "metadata": {},
   "outputs": [],
   "source": [
    "DF = pd.merge(df, SCdf, on=None)"
   ]
  },
  {
   "cell_type": "code",
   "execution_count": 10,
   "metadata": {},
   "outputs": [],
   "source": [
    "def populate_column(row):\n",
    "    if row['ASBH02B'] == 1:\n",
    "        return 0\n",
    "    elif row['ASBH02B'] == 2:\n",
    "        return 3\n",
    "    elif row['ASBH02B'] == 3:\n",
    "        return 6\n",
    "    elif row['ASBH02B'] == 4:\n",
    "        return 8\n",
    "    else:\n",
    "        return None  # Or any default value\n",
    "\n",
    "# Apply the function to each row\n",
    "DF['MINAGEARRIVAL'] = DF.apply(populate_column, axis=1)"
   ]
  },
  {
   "cell_type": "code",
   "execution_count": 11,
   "metadata": {},
   "outputs": [
    {
     "data": {
      "text/plain": [
       "0.0    182\n",
       "3.0    160\n",
       "6.0    108\n",
       "8.0     63\n",
       "Name: MINAGEARRIVAL, dtype: int64"
      ]
     },
     "execution_count": 11,
     "metadata": {},
     "output_type": "execute_result"
    }
   ],
   "source": [
    "DF['MINAGEARRIVAL'].value_counts()"
   ]
  },
  {
   "cell_type": "code",
   "execution_count": 12,
   "metadata": {},
   "outputs": [],
   "source": [
    "DF['rounded_ages'] = DF['ASDAGE'].round()"
   ]
  },
  {
   "cell_type": "code",
   "execution_count": 13,
   "metadata": {},
   "outputs": [
    {
     "data": {
      "text/plain": [
       "10.0    38410\n",
       "11.0     9104\n",
       "9.0      1964\n",
       "12.0      758\n",
       "13.0       83\n",
       "8.0        18\n",
       "14.0       17\n",
       "99.0        3\n",
       "7.0         1\n",
       "Name: rounded_ages, dtype: int64"
      ]
     },
     "execution_count": 13,
     "metadata": {},
     "output_type": "execute_result"
    }
   ],
   "source": [
    "DF['rounded_ages'].value_counts()"
   ]
  },
  {
   "cell_type": "markdown",
   "metadata": {},
   "source": [
    "First thing I need to do is recognise these countries and add these values to that column. "
   ]
  },
  {
   "cell_type": "code",
   "execution_count": 14,
   "metadata": {},
   "outputs": [],
   "source": [
    "DF= DF.rename(columns={'IDCNTRY': 'Country'})\n",
    "\n",
    "# Mapping dictionary\n",
    "update_dict = {40: 'Austria', 818: 'Egypt', 250:'France', 276:'Germany',364:'Iran',400:'Jordan',528:'Netherlands',752:'Sweden',792:'Turkey'}\n",
    "\n",
    "# Updating the column using map\n",
    "DF['Country'] = DF['Country'].map(update_dict).fillna(DF['Country'])"
   ]
  },
  {
   "cell_type": "code",
   "execution_count": 15,
   "metadata": {},
   "outputs": [
    {
     "data": {
      "text/plain": [
       "Egypt          7979\n",
       "Jordan         6150\n",
       "Turkey         6032\n",
       "Iran           5962\n",
       "France         5339\n",
       "Sweden         5175\n",
       "Austria        4806\n",
       "Germany        4611\n",
       "Netherlands    4313\n",
       "Name: Country, dtype: int64"
      ]
     },
     "execution_count": 15,
     "metadata": {},
     "output_type": "execute_result"
    }
   ],
   "source": [
    "DF['Country'].value_counts()"
   ]
  },
  {
   "cell_type": "code",
   "execution_count": 17,
   "metadata": {},
   "outputs": [
    {
     "data": {
      "text/plain": [
       "Yes    25072\n",
       "1.0    13403\n",
       "No      2342\n",
       "2.0      548\n",
       "9.0      138\n",
       "Name: ASBH02A, dtype: int64"
      ]
     },
     "execution_count": 17,
     "metadata": {},
     "output_type": "execute_result"
    }
   ],
   "source": [
    "DF['ASBH02A'].value_counts()"
   ]
  },
  {
   "cell_type": "code",
   "execution_count": 18,
   "metadata": {},
   "outputs": [
    {
     "data": {
      "text/plain": [
       "Yes    38475\n",
       "No      2890\n",
       "9.0      138\n",
       "Name: ASBH02A, dtype: int64"
      ]
     },
     "execution_count": 18,
     "metadata": {},
     "output_type": "execute_result"
    }
   ],
   "source": [
    "# Mapping dictionary\n",
    "update_dict2 = {1.0: 'Yes',2.0:'No' }\n",
    "\n",
    "# Updating the column using map\n",
    "DF['ASBH02A'] = DF['ASBH02A'].map(update_dict2).fillna(DF['ASBH02A'])\n",
    "DF['ASBH02A'].value_counts()"
   ]
  },
  {
   "cell_type": "markdown",
   "metadata": {},
   "source": [
    "So we have 2890 children who were not born in the country where they took the test."
   ]
  },
  {
   "cell_type": "code",
   "execution_count": 19,
   "metadata": {},
   "outputs": [
    {
     "data": {
      "text/plain": [
       "Yes    25915\n",
       "1.0    12270\n",
       "2.0     1477\n",
       "No      1175\n",
       "9.0      342\n",
       "Name: ASBH03A, dtype: int64"
      ]
     },
     "execution_count": 19,
     "metadata": {},
     "output_type": "execute_result"
    }
   ],
   "source": [
    "DF[\"ASBH03A\"].value_counts()"
   ]
  },
  {
   "cell_type": "code",
   "execution_count": 20,
   "metadata": {},
   "outputs": [
    {
     "data": {
      "text/plain": [
       "Yes    38185\n",
       "No      2652\n",
       "9.0      342\n",
       "Name: ASBH03A, dtype: int64"
      ]
     },
     "execution_count": 20,
     "metadata": {},
     "output_type": "execute_result"
    }
   ],
   "source": [
    "# Mapping dictionary\n",
    "update_dict4 = {1.0: 'Yes',2.0:'No' }\n",
    "\n",
    "# Updating the column using map\n",
    "DF['ASBH03A'] = DF['ASBH03A'].map(update_dict2).fillna(DF['ASBH03A'])\n",
    "DF['ASBH03A'].value_counts()"
   ]
  },
  {
   "cell_type": "markdown",
   "metadata": {},
   "source": [
    "And we have 2652 children who did not speak the language of the test before they started school. So some children were born elsewhere but were already speaking the language of the test before they started school."
   ]
  }
 ],
 "metadata": {
  "kernelspec": {
   "display_name": "Python 3",
   "language": "python",
   "name": "python3"
  },
  "language_info": {
   "codemirror_mode": {
    "name": "ipython",
    "version": 3
   },
   "file_extension": ".py",
   "mimetype": "text/x-python",
   "name": "python",
   "nbconvert_exporter": "python",
   "pygments_lexer": "ipython3",
   "version": "3.7.6"
  }
 },
 "nbformat": 4,
 "nbformat_minor": 4
}
