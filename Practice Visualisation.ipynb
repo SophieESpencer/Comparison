{
 "cells": [
  {
   "cell_type": "code",
   "execution_count": null,
   "metadata": {},
   "outputs": [],
   "source": [
    "import pandas as pd\n",
    "import numpy as np\n",
    "pd.set_option(\"display.max_columns\", None)\n",
    "pd.set_option(\"display.max_rows\", None)\n",
    "df= pd.read_excel('Not_fully_clean.xlsx')"
   ]
  },
  {
   "cell_type": "code",
   "execution_count": null,
   "metadata": {},
   "outputs": [],
   "source": [
    "pivot_df_multiplexreadingscore = df.pivot_table(values=['ASRREA01','ASRREA02',\n",
    " 'ASRREA03',\n",
    " 'ASRREA04',\n",
    " 'ASRREA05',\n",
    " 'ASRLIT01',\n",
    " 'ASRLIT02',\n",
    " 'ASRLIT03',\n",
    " 'ASRLIT04',\n",
    " 'ASRLIT05',\n",
    " 'ASRINF01',\n",
    " 'ASRINF02',\n",
    " 'ASRINF03',\n",
    " 'ASRINF04',\n",
    " 'ASRINF05',\n",
    " 'ASRIIE01',\n",
    " 'ASRIIE02',\n",
    " 'ASRIIE03',\n",
    " 'ASRIIE04',\n",
    " 'ASRIIE05',\n",
    " 'ASRRSI01',\n",
    " 'ASRRSI02',\n",
    " 'ASRRSI03',\n",
    " 'ASRRSI04',\n",
    " 'ASRRSI05'], index=['Country','ASBH02A'], aggfunc='mean')"
   ]
  }
 ],
 "metadata": {
  "kernelspec": {
   "display_name": "Python 3",
   "language": "python",
   "name": "python3"
  },
  "language_info": {
   "codemirror_mode": {
    "name": "ipython",
    "version": 3
   },
   "file_extension": ".py",
   "mimetype": "text/x-python",
   "name": "python",
   "nbconvert_exporter": "python",
   "pygments_lexer": "ipython3",
   "version": "3.7.6"
  }
 },
 "nbformat": 4,
 "nbformat_minor": 4
}
